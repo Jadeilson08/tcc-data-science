{
  "nbformat": 4,
  "nbformat_minor": 0,
  "metadata": {
    "colab": {
      "provenance": [],
      "authorship_tag": "ABX9TyOxMr8S2RHpon+AjH7vnO6w",
      "include_colab_link": true
    },
    "kernelspec": {
      "name": "python3",
      "display_name": "Python 3"
    },
    "language_info": {
      "name": "python"
    }
  },
  "cells": [
    {
      "cell_type": "markdown",
      "metadata": {
        "id": "view-in-github",
        "colab_type": "text"
      },
      "source": [
        "<a href=\"https://colab.research.google.com/github/Jadeilson08/tcc-data-science/blob/master/tcc.ipynb\" target=\"_parent\"><img src=\"https://colab.research.google.com/assets/colab-badge.svg\" alt=\"Open In Colab\"/></a>"
      ]
    },
    {
      "cell_type": "markdown",
      "source": [
        "## Etapas:\n",
        "\n",
        "- [x] Obtenha os dados de preço histórico de Bitcoin e Ethereum em um formato de tabela (por exemplo, CSV).\n",
        "- [x] Obtenha os dados do valor do dolar por dia\n",
        "- [x] Utilize a biblioteca Pandas para carregar e manipular os dados.\n",
        "- [ ] Utilize a biblioteca Matplotlib para plotar os dados e visualizar as tendências.\n",
        "- [ ] Utilize a biblioteca de aprendizado de máquina scikit-learn para dividir os dados em conjuntos de treinamento e teste.\n",
        "- [ ] Escolha um modelo de aprendizado de máquina apropriado para séries temporais (por exemplo, ARIMA, SARIMA, Prophet) e treine-o com os dados de treinamento.\n",
        "- [ ] Faça previsões com o modelo treinado utilizando os dados de teste e avaliar a precisão do modelo.\n",
        "- [ ] Utilize o modelo treinado para fazer previsões futuras."
      ],
      "metadata": {
        "id": "NBYBFoNG5E93"
      }
    },
    {
      "cell_type": "code",
      "execution_count": 21,
      "metadata": {
        "id": "WTgbqiaT2WCC"
      },
      "outputs": [],
      "source": [
        "# importando o data_reader\n",
        "!pip install -q yfinance\n",
        "import pandas as pd\n",
        "from pandas_datareader import data as pdr\n",
        "import yfinance as yfin\n",
        "\n",
        "\n",
        "yfin.pdr_override()"
      ]
    },
    {
      "cell_type": "code",
      "source": [
        "# criptomoedas analisadas: Bitcoin(BTC-USD), Ethereum(ETH-USD), Tether(USDT-USD), BNB(BNB)\n",
        "\n",
        "#data inicial e final\n",
        "start_date = '2017-08-01'\n",
        "end_date = '2021-08-01'\n",
        "\n",
        "# coletando os dataframe\n",
        "df_bitcoin = pdr.get_data_yahoo('BTC-USD', start=start_date, end=end_date)\n",
        "df_ethereum = pdr.get_data_yahoo('ETH-USD', start=start_date, end=end_date)\n",
        "df_tether = pdr.get_data_yahoo('USDT-USD', start=start_date, end=end_date)\n",
        "df_bnb = pdr.get_data_yahoo('BNB', start=start_date, end=end_date)"
      ],
      "metadata": {
        "colab": {
          "base_uri": "https://localhost:8080/"
        },
        "id": "76EjLNEi3VX9",
        "outputId": "f254b7ea-1dc5-4da1-d6e6-361c4811552c"
      },
      "execution_count": 22,
      "outputs": [
        {
          "output_type": "stream",
          "name": "stdout",
          "text": [
            "[*********************100%***********************]  1 of 1 completed\n",
            "[*********************100%***********************]  1 of 1 completed\n",
            "[*********************100%***********************]  1 of 1 completed\n",
            "[*********************100%***********************]  1 of 1 completed\n"
          ]
        }
      ]
    },
    {
      "cell_type": "code",
      "source": [
        "# o index de todos os dataframe ja sao as datas, sem necessidade de atualizar o indice\n",
        "df_bitcoin.info()\n",
        "#df_ethereum.info()\n",
        "#df_tether.info()\n",
        "#df_bnb.info()\n",
        "''' etapa 1 realizada '''"
      ],
      "metadata": {
        "colab": {
          "base_uri": "https://localhost:8080/",
          "height": 261
        },
        "id": "0d8xqcs35_eb",
        "outputId": "841f9d56-1033-49d0-b4df-5e28bd71d7e3"
      },
      "execution_count": 23,
      "outputs": [
        {
          "output_type": "stream",
          "name": "stdout",
          "text": [
            "<class 'pandas.core.frame.DataFrame'>\n",
            "DatetimeIndex: 1461 entries, 2017-08-01 00:00:00+00:00 to 2021-07-31 00:00:00+00:00\n",
            "Data columns (total 6 columns):\n",
            " #   Column     Non-Null Count  Dtype  \n",
            "---  ------     --------------  -----  \n",
            " 0   Open       1461 non-null   float64\n",
            " 1   High       1461 non-null   float64\n",
            " 2   Low        1461 non-null   float64\n",
            " 3   Close      1461 non-null   float64\n",
            " 4   Adj Close  1461 non-null   float64\n",
            " 5   Volume     1461 non-null   int64  \n",
            "dtypes: float64(5), int64(1)\n",
            "memory usage: 112.2 KB\n"
          ]
        },
        {
          "output_type": "execute_result",
          "data": {
            "text/plain": [
              "' etapa 1 realizada '"
            ],
            "application/vnd.google.colaboratory.intrinsic+json": {
              "type": "string"
            }
          },
          "metadata": {},
          "execution_count": 23
        }
      ]
    },
    {
      "cell_type": "code",
      "source": [
        "''' \n",
        "  etapa 2\n",
        "  a cotacao do dolar com o valor de abertura e fechamento esta disponivel em csv\n",
        "  no seguinte endereco\n",
        "  https://br.investing.com/currencies/usd-brl-historical-data\n",
        "\n",
        "'''"
      ],
      "metadata": {
        "id": "_-L6wgWv9A_l",
        "colab": {
          "base_uri": "https://localhost:8080/",
          "height": 35
        },
        "outputId": "dbb798b1-58be-4216-d4bf-d23602c96ed5"
      },
      "execution_count": 24,
      "outputs": [
        {
          "output_type": "execute_result",
          "data": {
            "text/plain": [
              "' \\n  etapa 2\\n  a cotacao do dolar com o valor de abertura e fechamento esta disponivel em csv\\n  no seguinte endereco\\n  https://br.investing.com/currencies/usd-brl-historical-data\\n\\n'"
            ],
            "application/vnd.google.colaboratory.intrinsic+json": {
              "type": "string"
            }
          },
          "metadata": {},
          "execution_count": 24
        }
      ]
    },
    {
      "cell_type": "code",
      "source": [
        "df_dolar = pd.read_csv('https://raw.githubusercontent.com/Jadeilson08/tcc-data-science/master/USD_BRL_20170801_20210801.csv')\n",
        "\n",
        "#precisa mudar o index para a colula Data\n",
        "df_dolar.info()"
      ],
      "metadata": {
        "id": "LjSFRdmB_Ub5",
        "outputId": "e6c4bd2e-136b-4899-e55e-37f767f43756",
        "colab": {
          "base_uri": "https://localhost:8080/"
        }
      },
      "execution_count": 25,
      "outputs": [
        {
          "output_type": "stream",
          "name": "stdout",
          "text": [
            "<class 'pandas.core.frame.DataFrame'>\n",
            "RangeIndex: 1044 entries, 0 to 1043\n",
            "Data columns (total 7 columns):\n",
            " #   Column    Non-Null Count  Dtype \n",
            "---  ------    --------------  ----- \n",
            " 0   Data      1044 non-null   object\n",
            " 1   Último    1044 non-null   object\n",
            " 2   Abertura  1044 non-null   object\n",
            " 3   Máxima    1044 non-null   object\n",
            " 4   Mínima    1044 non-null   object\n",
            " 5   Vol.      653 non-null    object\n",
            " 6   Var%      1044 non-null   object\n",
            "dtypes: object(7)\n",
            "memory usage: 57.2+ KB\n"
          ]
        }
      ]
    },
    {
      "cell_type": "code",
      "source": [
        "#alterando o index para Data\n",
        "df_dolar = df_dolar.set_index('Data')"
      ],
      "metadata": {
        "id": "ufIW9KLWA9qC"
      },
      "execution_count": 26,
      "outputs": []
    },
    {
      "cell_type": "code",
      "source": [
        "df_dolar.head()"
      ],
      "metadata": {
        "id": "Ax961UrSBRUG",
        "outputId": "90ed9e1d-94fe-4c6e-992f-9ef3723f5472",
        "colab": {
          "base_uri": "https://localhost:8080/",
          "height": 238
        }
      },
      "execution_count": 27,
      "outputs": [
        {
          "output_type": "execute_result",
          "data": {
            "text/plain": [
              "            Último Abertura  Máxima  Mínima     Vol.    Var%\n",
              "Data                                                        \n",
              "30.07.2021  5,2123   5,0773  5,2287  5,0754   89,74K   2,58%\n",
              "29.07.2021  5,0812   5,1165  5,1165  5,0406   92,46K  -0,67%\n",
              "28.07.2021  5,1157   5,1710  5,1926  5,1040  112,11K  -1,03%\n",
              "27.07.2021  5,1690   5,1769  5,2061  5,1486   92,09K  -0,14%\n",
              "26.07.2021  5,1761   5,2051  5,2304  5,1516   68,85K  -0,47%"
            ],
            "text/html": [
              "\n",
              "  <div id=\"df-f7d928d5-0f46-49d0-8241-6381308cc022\">\n",
              "    <div class=\"colab-df-container\">\n",
              "      <div>\n",
              "<style scoped>\n",
              "    .dataframe tbody tr th:only-of-type {\n",
              "        vertical-align: middle;\n",
              "    }\n",
              "\n",
              "    .dataframe tbody tr th {\n",
              "        vertical-align: top;\n",
              "    }\n",
              "\n",
              "    .dataframe thead th {\n",
              "        text-align: right;\n",
              "    }\n",
              "</style>\n",
              "<table border=\"1\" class=\"dataframe\">\n",
              "  <thead>\n",
              "    <tr style=\"text-align: right;\">\n",
              "      <th></th>\n",
              "      <th>Último</th>\n",
              "      <th>Abertura</th>\n",
              "      <th>Máxima</th>\n",
              "      <th>Mínima</th>\n",
              "      <th>Vol.</th>\n",
              "      <th>Var%</th>\n",
              "    </tr>\n",
              "    <tr>\n",
              "      <th>Data</th>\n",
              "      <th></th>\n",
              "      <th></th>\n",
              "      <th></th>\n",
              "      <th></th>\n",
              "      <th></th>\n",
              "      <th></th>\n",
              "    </tr>\n",
              "  </thead>\n",
              "  <tbody>\n",
              "    <tr>\n",
              "      <th>30.07.2021</th>\n",
              "      <td>5,2123</td>\n",
              "      <td>5,0773</td>\n",
              "      <td>5,2287</td>\n",
              "      <td>5,0754</td>\n",
              "      <td>89,74K</td>\n",
              "      <td>2,58%</td>\n",
              "    </tr>\n",
              "    <tr>\n",
              "      <th>29.07.2021</th>\n",
              "      <td>5,0812</td>\n",
              "      <td>5,1165</td>\n",
              "      <td>5,1165</td>\n",
              "      <td>5,0406</td>\n",
              "      <td>92,46K</td>\n",
              "      <td>-0,67%</td>\n",
              "    </tr>\n",
              "    <tr>\n",
              "      <th>28.07.2021</th>\n",
              "      <td>5,1157</td>\n",
              "      <td>5,1710</td>\n",
              "      <td>5,1926</td>\n",
              "      <td>5,1040</td>\n",
              "      <td>112,11K</td>\n",
              "      <td>-1,03%</td>\n",
              "    </tr>\n",
              "    <tr>\n",
              "      <th>27.07.2021</th>\n",
              "      <td>5,1690</td>\n",
              "      <td>5,1769</td>\n",
              "      <td>5,2061</td>\n",
              "      <td>5,1486</td>\n",
              "      <td>92,09K</td>\n",
              "      <td>-0,14%</td>\n",
              "    </tr>\n",
              "    <tr>\n",
              "      <th>26.07.2021</th>\n",
              "      <td>5,1761</td>\n",
              "      <td>5,2051</td>\n",
              "      <td>5,2304</td>\n",
              "      <td>5,1516</td>\n",
              "      <td>68,85K</td>\n",
              "      <td>-0,47%</td>\n",
              "    </tr>\n",
              "  </tbody>\n",
              "</table>\n",
              "</div>\n",
              "      <button class=\"colab-df-convert\" onclick=\"convertToInteractive('df-f7d928d5-0f46-49d0-8241-6381308cc022')\"\n",
              "              title=\"Convert this dataframe to an interactive table.\"\n",
              "              style=\"display:none;\">\n",
              "        \n",
              "  <svg xmlns=\"http://www.w3.org/2000/svg\" height=\"24px\"viewBox=\"0 0 24 24\"\n",
              "       width=\"24px\">\n",
              "    <path d=\"M0 0h24v24H0V0z\" fill=\"none\"/>\n",
              "    <path d=\"M18.56 5.44l.94 2.06.94-2.06 2.06-.94-2.06-.94-.94-2.06-.94 2.06-2.06.94zm-11 1L8.5 8.5l.94-2.06 2.06-.94-2.06-.94L8.5 2.5l-.94 2.06-2.06.94zm10 10l.94 2.06.94-2.06 2.06-.94-2.06-.94-.94-2.06-.94 2.06-2.06.94z\"/><path d=\"M17.41 7.96l-1.37-1.37c-.4-.4-.92-.59-1.43-.59-.52 0-1.04.2-1.43.59L10.3 9.45l-7.72 7.72c-.78.78-.78 2.05 0 2.83L4 21.41c.39.39.9.59 1.41.59.51 0 1.02-.2 1.41-.59l7.78-7.78 2.81-2.81c.8-.78.8-2.07 0-2.86zM5.41 20L4 18.59l7.72-7.72 1.47 1.35L5.41 20z\"/>\n",
              "  </svg>\n",
              "      </button>\n",
              "      \n",
              "  <style>\n",
              "    .colab-df-container {\n",
              "      display:flex;\n",
              "      flex-wrap:wrap;\n",
              "      gap: 12px;\n",
              "    }\n",
              "\n",
              "    .colab-df-convert {\n",
              "      background-color: #E8F0FE;\n",
              "      border: none;\n",
              "      border-radius: 50%;\n",
              "      cursor: pointer;\n",
              "      display: none;\n",
              "      fill: #1967D2;\n",
              "      height: 32px;\n",
              "      padding: 0 0 0 0;\n",
              "      width: 32px;\n",
              "    }\n",
              "\n",
              "    .colab-df-convert:hover {\n",
              "      background-color: #E2EBFA;\n",
              "      box-shadow: 0px 1px 2px rgba(60, 64, 67, 0.3), 0px 1px 3px 1px rgba(60, 64, 67, 0.15);\n",
              "      fill: #174EA6;\n",
              "    }\n",
              "\n",
              "    [theme=dark] .colab-df-convert {\n",
              "      background-color: #3B4455;\n",
              "      fill: #D2E3FC;\n",
              "    }\n",
              "\n",
              "    [theme=dark] .colab-df-convert:hover {\n",
              "      background-color: #434B5C;\n",
              "      box-shadow: 0px 1px 3px 1px rgba(0, 0, 0, 0.15);\n",
              "      filter: drop-shadow(0px 1px 2px rgba(0, 0, 0, 0.3));\n",
              "      fill: #FFFFFF;\n",
              "    }\n",
              "  </style>\n",
              "\n",
              "      <script>\n",
              "        const buttonEl =\n",
              "          document.querySelector('#df-f7d928d5-0f46-49d0-8241-6381308cc022 button.colab-df-convert');\n",
              "        buttonEl.style.display =\n",
              "          google.colab.kernel.accessAllowed ? 'block' : 'none';\n",
              "\n",
              "        async function convertToInteractive(key) {\n",
              "          const element = document.querySelector('#df-f7d928d5-0f46-49d0-8241-6381308cc022');\n",
              "          const dataTable =\n",
              "            await google.colab.kernel.invokeFunction('convertToInteractive',\n",
              "                                                     [key], {});\n",
              "          if (!dataTable) return;\n",
              "\n",
              "          const docLinkHtml = 'Like what you see? Visit the ' +\n",
              "            '<a target=\"_blank\" href=https://colab.research.google.com/notebooks/data_table.ipynb>data table notebook</a>'\n",
              "            + ' to learn more about interactive tables.';\n",
              "          element.innerHTML = '';\n",
              "          dataTable['output_type'] = 'display_data';\n",
              "          await google.colab.output.renderOutput(dataTable, element);\n",
              "          const docLink = document.createElement('div');\n",
              "          docLink.innerHTML = docLinkHtml;\n",
              "          element.appendChild(docLink);\n",
              "        }\n",
              "      </script>\n",
              "    </div>\n",
              "  </div>\n",
              "  "
            ]
          },
          "metadata": {},
          "execution_count": 27
        }
      ]
    },
    {
      "cell_type": "code",
      "source": [
        "'''fim etapa 2 e 3 '''"
      ],
      "metadata": {
        "id": "0uareKjJCWob",
        "outputId": "eac40dd9-b982-45c2-a2b2-ab65f1c6ee20",
        "colab": {
          "base_uri": "https://localhost:8080/",
          "height": 35
        }
      },
      "execution_count": 28,
      "outputs": [
        {
          "output_type": "execute_result",
          "data": {
            "text/plain": [
              "'fim etapa 2 e 3 '"
            ],
            "application/vnd.google.colaboratory.intrinsic+json": {
              "type": "string"
            }
          },
          "metadata": {},
          "execution_count": 28
        }
      ]
    }
  ]
}