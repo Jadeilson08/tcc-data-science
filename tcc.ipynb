{
  "nbformat": 4,
  "nbformat_minor": 0,
  "metadata": {
    "colab": {
      "provenance": [],
      "authorship_tag": "ABX9TyMY6ERLD+vFyMKbmB+TOkjF",
      "include_colab_link": true
    },
    "kernelspec": {
      "name": "python3",
      "display_name": "Python 3"
    },
    "language_info": {
      "name": "python"
    }
  },
  "cells": [
    {
      "cell_type": "markdown",
      "metadata": {
        "id": "view-in-github",
        "colab_type": "text"
      },
      "source": [
        "<a href=\"https://colab.research.google.com/github/Jadeilson08/tcc-data-science/blob/master/tcc.ipynb\" target=\"_parent\"><img src=\"https://colab.research.google.com/assets/colab-badge.svg\" alt=\"Open In Colab\"/></a>"
      ]
    },
    {
      "cell_type": "markdown",
      "source": [
        "## Etapas:\n",
        "\n",
        "- [x] Obtenha os dados de preço histórico de Bitcoin e Ethereum em um formato de tabela (por exemplo, CSV).\n",
        "- [x] Obtenha os dados do valor do dolar por dia\n",
        "- [x] Utilize a biblioteca Pandas para carregar e manipular os dados.\n",
        "- [x] Utilize a biblioteca Matplotlib para plotar os dados e visualizar as tendências.\n",
        "- [x] Unir DF's\n",
        "- [ ] Utilize a biblioteca de aprendizado de máquina scikit-learn para dividir os dados em conjuntos de treinamento e teste.\n",
        "- [ ] Escolha um modelo de aprendizado de máquina apropriado para séries temporais (por exemplo, ARIMA, SARIMA, Prophet) e treine-o com os dados de treinamento.\n",
        "- [ ] Faça previsões com o modelo treinado utilizando os dados de teste e avaliar a precisão do modelo.\n",
        "- [ ] Utilize o modelo treinado para fazer previsões futuras."
      ],
      "metadata": {
        "id": "NBYBFoNG5E93"
      }
    },
    {
      "cell_type": "code",
      "execution_count": 1,
      "metadata": {
        "id": "WTgbqiaT2WCC"
      },
      "outputs": [],
      "source": [
        "# importando o data_reader\n",
        "!pip install -q yfinance\n",
        "import pandas as pd\n",
        "from pandas_datareader import data as pdr\n",
        "import yfinance as yfin\n",
        "\n",
        "\n",
        "yfin.pdr_override()"
      ]
    },
    {
      "cell_type": "code",
      "source": [
        "# criptomoedas analisadas: Bitcoin(BTC-USD), Ethereum(ETH-USD), Tether(USDT-USD), BNB(BNB)\n",
        "\n",
        "#data inicial e final\n",
        "start_date = '2017-08-01'\n",
        "end_date = '2021-08-01'\n",
        "\n",
        "# coletando os dataframe\n",
        "df_bitcoin = pdr.get_data_yahoo('BTC-USD', start=start_date, end=end_date)\n",
        "df_ethereum = pdr.get_data_yahoo('ETH-USD', start=start_date, end=end_date)\n",
        "df_tether = pdr.get_data_yahoo('USDT-USD', start=start_date, end=end_date)\n",
        "df_bnb = pdr.get_data_yahoo('BNB', start=start_date, end=end_date)"
      ],
      "metadata": {
        "colab": {
          "base_uri": "https://localhost:8080/"
        },
        "id": "76EjLNEi3VX9",
        "outputId": "69bf2438-9e33-42ed-e2d5-bdae0ad6bbdf"
      },
      "execution_count": 2,
      "outputs": [
        {
          "output_type": "stream",
          "name": "stdout",
          "text": [
            "[*********************100%***********************]  1 of 1 completed\n",
            "[*********************100%***********************]  1 of 1 completed\n",
            "[*********************100%***********************]  1 of 1 completed\n",
            "[*********************100%***********************]  1 of 1 completed\n"
          ]
        }
      ]
    },
    {
      "cell_type": "code",
      "source": [
        "# o index de todos os dataframe ja sao as datas, sem necessidade de atualizar o indice\n",
        "df_bitcoin.info()\n",
        "#df_ethereum.info()\n",
        "#df_tether.info()\n",
        "#df_bnb.info()\n",
        "''' etapa 1 realizada '''"
      ],
      "metadata": {
        "colab": {
          "base_uri": "https://localhost:8080/",
          "height": 261
        },
        "id": "0d8xqcs35_eb",
        "outputId": "874f346a-3f63-4266-bff8-e3083db76da5"
      },
      "execution_count": 3,
      "outputs": [
        {
          "output_type": "stream",
          "name": "stdout",
          "text": [
            "<class 'pandas.core.frame.DataFrame'>\n",
            "DatetimeIndex: 1461 entries, 2017-08-01 to 2021-07-31\n",
            "Data columns (total 6 columns):\n",
            " #   Column     Non-Null Count  Dtype  \n",
            "---  ------     --------------  -----  \n",
            " 0   Open       1461 non-null   float64\n",
            " 1   High       1461 non-null   float64\n",
            " 2   Low        1461 non-null   float64\n",
            " 3   Close      1461 non-null   float64\n",
            " 4   Adj Close  1461 non-null   float64\n",
            " 5   Volume     1461 non-null   int64  \n",
            "dtypes: float64(5), int64(1)\n",
            "memory usage: 79.9 KB\n"
          ]
        },
        {
          "output_type": "execute_result",
          "data": {
            "text/plain": [
              "' etapa 1 realizada '"
            ],
            "application/vnd.google.colaboratory.intrinsic+json": {
              "type": "string"
            }
          },
          "metadata": {},
          "execution_count": 3
        }
      ]
    },
    {
      "cell_type": "code",
      "source": [
        "df_bitcoin.head()"
      ],
      "metadata": {
        "colab": {
          "base_uri": "https://localhost:8080/",
          "height": 238
        },
        "id": "JrotK_csFAcQ",
        "outputId": "12ba106a-dd32-410b-ba7b-5e8a1689d1e0"
      },
      "execution_count": 4,
      "outputs": [
        {
          "output_type": "execute_result",
          "data": {
            "text/plain": [
              "                   Open         High          Low        Close    Adj Close  \\\n",
              "Date                                                                          \n",
              "2017-08-01  2871.300049  2921.350098  2685.610107  2718.260010  2718.260010   \n",
              "2017-08-02  2727.129883  2762.530029  2668.590088  2710.669922  2710.669922   \n",
              "2017-08-03  2709.560059  2813.310059  2685.139893  2804.729980  2804.729980   \n",
              "2017-08-04  2806.929932  2899.330078  2743.719971  2895.889893  2895.889893   \n",
              "2017-08-05  2897.629883  3290.010010  2874.830078  3252.909912  3252.909912   \n",
              "\n",
              "                Volume  \n",
              "Date                    \n",
              "2017-08-01  1324669952  \n",
              "2017-08-02  1094950016  \n",
              "2017-08-03   804796992  \n",
              "2017-08-04  1002120000  \n",
              "2017-08-05  1945699968  "
            ],
            "text/html": [
              "\n",
              "  <div id=\"df-0a0a0305-ade3-4a30-a407-64d515ffc475\">\n",
              "    <div class=\"colab-df-container\">\n",
              "      <div>\n",
              "<style scoped>\n",
              "    .dataframe tbody tr th:only-of-type {\n",
              "        vertical-align: middle;\n",
              "    }\n",
              "\n",
              "    .dataframe tbody tr th {\n",
              "        vertical-align: top;\n",
              "    }\n",
              "\n",
              "    .dataframe thead th {\n",
              "        text-align: right;\n",
              "    }\n",
              "</style>\n",
              "<table border=\"1\" class=\"dataframe\">\n",
              "  <thead>\n",
              "    <tr style=\"text-align: right;\">\n",
              "      <th></th>\n",
              "      <th>Open</th>\n",
              "      <th>High</th>\n",
              "      <th>Low</th>\n",
              "      <th>Close</th>\n",
              "      <th>Adj Close</th>\n",
              "      <th>Volume</th>\n",
              "    </tr>\n",
              "    <tr>\n",
              "      <th>Date</th>\n",
              "      <th></th>\n",
              "      <th></th>\n",
              "      <th></th>\n",
              "      <th></th>\n",
              "      <th></th>\n",
              "      <th></th>\n",
              "    </tr>\n",
              "  </thead>\n",
              "  <tbody>\n",
              "    <tr>\n",
              "      <th>2017-08-01</th>\n",
              "      <td>2871.300049</td>\n",
              "      <td>2921.350098</td>\n",
              "      <td>2685.610107</td>\n",
              "      <td>2718.260010</td>\n",
              "      <td>2718.260010</td>\n",
              "      <td>1324669952</td>\n",
              "    </tr>\n",
              "    <tr>\n",
              "      <th>2017-08-02</th>\n",
              "      <td>2727.129883</td>\n",
              "      <td>2762.530029</td>\n",
              "      <td>2668.590088</td>\n",
              "      <td>2710.669922</td>\n",
              "      <td>2710.669922</td>\n",
              "      <td>1094950016</td>\n",
              "    </tr>\n",
              "    <tr>\n",
              "      <th>2017-08-03</th>\n",
              "      <td>2709.560059</td>\n",
              "      <td>2813.310059</td>\n",
              "      <td>2685.139893</td>\n",
              "      <td>2804.729980</td>\n",
              "      <td>2804.729980</td>\n",
              "      <td>804796992</td>\n",
              "    </tr>\n",
              "    <tr>\n",
              "      <th>2017-08-04</th>\n",
              "      <td>2806.929932</td>\n",
              "      <td>2899.330078</td>\n",
              "      <td>2743.719971</td>\n",
              "      <td>2895.889893</td>\n",
              "      <td>2895.889893</td>\n",
              "      <td>1002120000</td>\n",
              "    </tr>\n",
              "    <tr>\n",
              "      <th>2017-08-05</th>\n",
              "      <td>2897.629883</td>\n",
              "      <td>3290.010010</td>\n",
              "      <td>2874.830078</td>\n",
              "      <td>3252.909912</td>\n",
              "      <td>3252.909912</td>\n",
              "      <td>1945699968</td>\n",
              "    </tr>\n",
              "  </tbody>\n",
              "</table>\n",
              "</div>\n",
              "      <button class=\"colab-df-convert\" onclick=\"convertToInteractive('df-0a0a0305-ade3-4a30-a407-64d515ffc475')\"\n",
              "              title=\"Convert this dataframe to an interactive table.\"\n",
              "              style=\"display:none;\">\n",
              "        \n",
              "  <svg xmlns=\"http://www.w3.org/2000/svg\" height=\"24px\"viewBox=\"0 0 24 24\"\n",
              "       width=\"24px\">\n",
              "    <path d=\"M0 0h24v24H0V0z\" fill=\"none\"/>\n",
              "    <path d=\"M18.56 5.44l.94 2.06.94-2.06 2.06-.94-2.06-.94-.94-2.06-.94 2.06-2.06.94zm-11 1L8.5 8.5l.94-2.06 2.06-.94-2.06-.94L8.5 2.5l-.94 2.06-2.06.94zm10 10l.94 2.06.94-2.06 2.06-.94-2.06-.94-.94-2.06-.94 2.06-2.06.94z\"/><path d=\"M17.41 7.96l-1.37-1.37c-.4-.4-.92-.59-1.43-.59-.52 0-1.04.2-1.43.59L10.3 9.45l-7.72 7.72c-.78.78-.78 2.05 0 2.83L4 21.41c.39.39.9.59 1.41.59.51 0 1.02-.2 1.41-.59l7.78-7.78 2.81-2.81c.8-.78.8-2.07 0-2.86zM5.41 20L4 18.59l7.72-7.72 1.47 1.35L5.41 20z\"/>\n",
              "  </svg>\n",
              "      </button>\n",
              "      \n",
              "  <style>\n",
              "    .colab-df-container {\n",
              "      display:flex;\n",
              "      flex-wrap:wrap;\n",
              "      gap: 12px;\n",
              "    }\n",
              "\n",
              "    .colab-df-convert {\n",
              "      background-color: #E8F0FE;\n",
              "      border: none;\n",
              "      border-radius: 50%;\n",
              "      cursor: pointer;\n",
              "      display: none;\n",
              "      fill: #1967D2;\n",
              "      height: 32px;\n",
              "      padding: 0 0 0 0;\n",
              "      width: 32px;\n",
              "    }\n",
              "\n",
              "    .colab-df-convert:hover {\n",
              "      background-color: #E2EBFA;\n",
              "      box-shadow: 0px 1px 2px rgba(60, 64, 67, 0.3), 0px 1px 3px 1px rgba(60, 64, 67, 0.15);\n",
              "      fill: #174EA6;\n",
              "    }\n",
              "\n",
              "    [theme=dark] .colab-df-convert {\n",
              "      background-color: #3B4455;\n",
              "      fill: #D2E3FC;\n",
              "    }\n",
              "\n",
              "    [theme=dark] .colab-df-convert:hover {\n",
              "      background-color: #434B5C;\n",
              "      box-shadow: 0px 1px 3px 1px rgba(0, 0, 0, 0.15);\n",
              "      filter: drop-shadow(0px 1px 2px rgba(0, 0, 0, 0.3));\n",
              "      fill: #FFFFFF;\n",
              "    }\n",
              "  </style>\n",
              "\n",
              "      <script>\n",
              "        const buttonEl =\n",
              "          document.querySelector('#df-0a0a0305-ade3-4a30-a407-64d515ffc475 button.colab-df-convert');\n",
              "        buttonEl.style.display =\n",
              "          google.colab.kernel.accessAllowed ? 'block' : 'none';\n",
              "\n",
              "        async function convertToInteractive(key) {\n",
              "          const element = document.querySelector('#df-0a0a0305-ade3-4a30-a407-64d515ffc475');\n",
              "          const dataTable =\n",
              "            await google.colab.kernel.invokeFunction('convertToInteractive',\n",
              "                                                     [key], {});\n",
              "          if (!dataTable) return;\n",
              "\n",
              "          const docLinkHtml = 'Like what you see? Visit the ' +\n",
              "            '<a target=\"_blank\" href=https://colab.research.google.com/notebooks/data_table.ipynb>data table notebook</a>'\n",
              "            + ' to learn more about interactive tables.';\n",
              "          element.innerHTML = '';\n",
              "          dataTable['output_type'] = 'display_data';\n",
              "          await google.colab.output.renderOutput(dataTable, element);\n",
              "          const docLink = document.createElement('div');\n",
              "          docLink.innerHTML = docLinkHtml;\n",
              "          element.appendChild(docLink);\n",
              "        }\n",
              "      </script>\n",
              "    </div>\n",
              "  </div>\n",
              "  "
            ]
          },
          "metadata": {},
          "execution_count": 4
        }
      ]
    },
    {
      "cell_type": "code",
      "source": [
        "''' \n",
        "  etapa 2\n",
        "  a cotacao do dolar com o valor de abertura e fechamento esta disponivel em csv\n",
        "  no seguinte endereco\n",
        "  https://br.investing.com/currencies/usd-brl-historical-data\n",
        "\n",
        "'''"
      ],
      "metadata": {
        "id": "_-L6wgWv9A_l",
        "colab": {
          "base_uri": "https://localhost:8080/",
          "height": 35
        },
        "outputId": "efd8a586-6261-4f71-82be-a484aafce66f"
      },
      "execution_count": 5,
      "outputs": [
        {
          "output_type": "execute_result",
          "data": {
            "text/plain": [
              "' \\n  etapa 2\\n  a cotacao do dolar com o valor de abertura e fechamento esta disponivel em csv\\n  no seguinte endereco\\n  https://br.investing.com/currencies/usd-brl-historical-data\\n\\n'"
            ],
            "application/vnd.google.colaboratory.intrinsic+json": {
              "type": "string"
            }
          },
          "metadata": {},
          "execution_count": 5
        }
      ]
    },
    {
      "cell_type": "code",
      "source": [
        "df_dolar = pd.read_csv('https://raw.githubusercontent.com/Jadeilson08/tcc-data-science/master/USD_BRL_20170801_20210801.csv')\n",
        "\n",
        "#precisa mudar o index para a colula Data\n",
        "df_dolar.info()"
      ],
      "metadata": {
        "id": "LjSFRdmB_Ub5",
        "outputId": "1025348c-7864-400a-ee8b-dd32e83c6732",
        "colab": {
          "base_uri": "https://localhost:8080/"
        }
      },
      "execution_count": 6,
      "outputs": [
        {
          "output_type": "stream",
          "name": "stdout",
          "text": [
            "<class 'pandas.core.frame.DataFrame'>\n",
            "RangeIndex: 1044 entries, 0 to 1043\n",
            "Data columns (total 7 columns):\n",
            " #   Column    Non-Null Count  Dtype \n",
            "---  ------    --------------  ----- \n",
            " 0   Data      1044 non-null   object\n",
            " 1   Último    1044 non-null   object\n",
            " 2   Abertura  1044 non-null   object\n",
            " 3   Máxima    1044 non-null   object\n",
            " 4   Mínima    1044 non-null   object\n",
            " 5   Vol.      653 non-null    object\n",
            " 6   Var%      1044 non-null   object\n",
            "dtypes: object(7)\n",
            "memory usage: 57.2+ KB\n"
          ]
        }
      ]
    },
    {
      "cell_type": "code",
      "source": [
        "from numpy import float64\n",
        "\n",
        "#renomeando colunas para ingles\n",
        "df_dolar = df_dolar.rename(columns={'Último': 'dolar_close', 'Abertura': 'dolar_open', 'Máxima': 'dolar_high', 'Mínima': 'dolar_low', 'Vol.' : 'dolar_volume', 'Var%': 'dolar_variation'})\n",
        "\n",
        "#convertando BR para US\n",
        "columns = ['dolar_close', 'dolar_open', 'dolar_high', 'dolar_low']\n",
        "\n",
        "for column in columns:\n",
        "  df_dolar[column] = df_dolar[column].apply(lambda x: x.replace(',', '.')).astype(float64)\n",
        "\n",
        "df_dolar['Data'] = pd.to_datetime(df_dolar['Data'], format='%d.%m.%Y')\n",
        "\n",
        "#alterando o index para Data\n",
        "df_dolar = df_dolar.set_index('Data')\n",
        "\n",
        "df_dolar.sort_values('Data')"
      ],
      "metadata": {
        "id": "ufIW9KLWA9qC",
        "colab": {
          "base_uri": "https://localhost:8080/",
          "height": 455
        },
        "outputId": "0f96982e-0114-4322-dc1c-7de697cd1208"
      },
      "execution_count": 7,
      "outputs": [
        {
          "output_type": "execute_result",
          "data": {
            "text/plain": [
              "            dolar_close  dolar_open  dolar_high  dolar_low dolar_volume  \\\n",
              "Data                                                                      \n",
              "2017-08-01       3.1265      3.1277      3.1315     3.1079          NaN   \n",
              "2017-08-02       3.1137      3.1261      3.1382     3.1126          NaN   \n",
              "2017-08-03       3.1125      3.1134      3.1270     3.1097          NaN   \n",
              "2017-08-04       3.1314      3.1125      3.1338     3.1079          NaN   \n",
              "2017-08-07       3.1265      3.1311      3.1345     3.1204          NaN   \n",
              "...                 ...         ...         ...        ...          ...   \n",
              "2021-07-26       5.1761      5.2051      5.2304     5.1516       68,85K   \n",
              "2021-07-27       5.1690      5.1769      5.2061     5.1486       92,09K   \n",
              "2021-07-28       5.1157      5.1710      5.1926     5.1040      112,11K   \n",
              "2021-07-29       5.0812      5.1165      5.1165     5.0406       92,46K   \n",
              "2021-07-30       5.2123      5.0773      5.2287     5.0754       89,74K   \n",
              "\n",
              "           dolar_variation  \n",
              "Data                        \n",
              "2017-08-01           0,00%  \n",
              "2017-08-02          -0,41%  \n",
              "2017-08-03          -0,04%  \n",
              "2017-08-04           0,61%  \n",
              "2017-08-07          -0,16%  \n",
              "...                    ...  \n",
              "2021-07-26          -0,47%  \n",
              "2021-07-27          -0,14%  \n",
              "2021-07-28          -1,03%  \n",
              "2021-07-29          -0,67%  \n",
              "2021-07-30           2,58%  \n",
              "\n",
              "[1044 rows x 6 columns]"
            ],
            "text/html": [
              "\n",
              "  <div id=\"df-42b61364-e47d-4b1c-9395-1308bc4215d9\">\n",
              "    <div class=\"colab-df-container\">\n",
              "      <div>\n",
              "<style scoped>\n",
              "    .dataframe tbody tr th:only-of-type {\n",
              "        vertical-align: middle;\n",
              "    }\n",
              "\n",
              "    .dataframe tbody tr th {\n",
              "        vertical-align: top;\n",
              "    }\n",
              "\n",
              "    .dataframe thead th {\n",
              "        text-align: right;\n",
              "    }\n",
              "</style>\n",
              "<table border=\"1\" class=\"dataframe\">\n",
              "  <thead>\n",
              "    <tr style=\"text-align: right;\">\n",
              "      <th></th>\n",
              "      <th>dolar_close</th>\n",
              "      <th>dolar_open</th>\n",
              "      <th>dolar_high</th>\n",
              "      <th>dolar_low</th>\n",
              "      <th>dolar_volume</th>\n",
              "      <th>dolar_variation</th>\n",
              "    </tr>\n",
              "    <tr>\n",
              "      <th>Data</th>\n",
              "      <th></th>\n",
              "      <th></th>\n",
              "      <th></th>\n",
              "      <th></th>\n",
              "      <th></th>\n",
              "      <th></th>\n",
              "    </tr>\n",
              "  </thead>\n",
              "  <tbody>\n",
              "    <tr>\n",
              "      <th>2017-08-01</th>\n",
              "      <td>3.1265</td>\n",
              "      <td>3.1277</td>\n",
              "      <td>3.1315</td>\n",
              "      <td>3.1079</td>\n",
              "      <td>NaN</td>\n",
              "      <td>0,00%</td>\n",
              "    </tr>\n",
              "    <tr>\n",
              "      <th>2017-08-02</th>\n",
              "      <td>3.1137</td>\n",
              "      <td>3.1261</td>\n",
              "      <td>3.1382</td>\n",
              "      <td>3.1126</td>\n",
              "      <td>NaN</td>\n",
              "      <td>-0,41%</td>\n",
              "    </tr>\n",
              "    <tr>\n",
              "      <th>2017-08-03</th>\n",
              "      <td>3.1125</td>\n",
              "      <td>3.1134</td>\n",
              "      <td>3.1270</td>\n",
              "      <td>3.1097</td>\n",
              "      <td>NaN</td>\n",
              "      <td>-0,04%</td>\n",
              "    </tr>\n",
              "    <tr>\n",
              "      <th>2017-08-04</th>\n",
              "      <td>3.1314</td>\n",
              "      <td>3.1125</td>\n",
              "      <td>3.1338</td>\n",
              "      <td>3.1079</td>\n",
              "      <td>NaN</td>\n",
              "      <td>0,61%</td>\n",
              "    </tr>\n",
              "    <tr>\n",
              "      <th>2017-08-07</th>\n",
              "      <td>3.1265</td>\n",
              "      <td>3.1311</td>\n",
              "      <td>3.1345</td>\n",
              "      <td>3.1204</td>\n",
              "      <td>NaN</td>\n",
              "      <td>-0,16%</td>\n",
              "    </tr>\n",
              "    <tr>\n",
              "      <th>...</th>\n",
              "      <td>...</td>\n",
              "      <td>...</td>\n",
              "      <td>...</td>\n",
              "      <td>...</td>\n",
              "      <td>...</td>\n",
              "      <td>...</td>\n",
              "    </tr>\n",
              "    <tr>\n",
              "      <th>2021-07-26</th>\n",
              "      <td>5.1761</td>\n",
              "      <td>5.2051</td>\n",
              "      <td>5.2304</td>\n",
              "      <td>5.1516</td>\n",
              "      <td>68,85K</td>\n",
              "      <td>-0,47%</td>\n",
              "    </tr>\n",
              "    <tr>\n",
              "      <th>2021-07-27</th>\n",
              "      <td>5.1690</td>\n",
              "      <td>5.1769</td>\n",
              "      <td>5.2061</td>\n",
              "      <td>5.1486</td>\n",
              "      <td>92,09K</td>\n",
              "      <td>-0,14%</td>\n",
              "    </tr>\n",
              "    <tr>\n",
              "      <th>2021-07-28</th>\n",
              "      <td>5.1157</td>\n",
              "      <td>5.1710</td>\n",
              "      <td>5.1926</td>\n",
              "      <td>5.1040</td>\n",
              "      <td>112,11K</td>\n",
              "      <td>-1,03%</td>\n",
              "    </tr>\n",
              "    <tr>\n",
              "      <th>2021-07-29</th>\n",
              "      <td>5.0812</td>\n",
              "      <td>5.1165</td>\n",
              "      <td>5.1165</td>\n",
              "      <td>5.0406</td>\n",
              "      <td>92,46K</td>\n",
              "      <td>-0,67%</td>\n",
              "    </tr>\n",
              "    <tr>\n",
              "      <th>2021-07-30</th>\n",
              "      <td>5.2123</td>\n",
              "      <td>5.0773</td>\n",
              "      <td>5.2287</td>\n",
              "      <td>5.0754</td>\n",
              "      <td>89,74K</td>\n",
              "      <td>2,58%</td>\n",
              "    </tr>\n",
              "  </tbody>\n",
              "</table>\n",
              "<p>1044 rows × 6 columns</p>\n",
              "</div>\n",
              "      <button class=\"colab-df-convert\" onclick=\"convertToInteractive('df-42b61364-e47d-4b1c-9395-1308bc4215d9')\"\n",
              "              title=\"Convert this dataframe to an interactive table.\"\n",
              "              style=\"display:none;\">\n",
              "        \n",
              "  <svg xmlns=\"http://www.w3.org/2000/svg\" height=\"24px\"viewBox=\"0 0 24 24\"\n",
              "       width=\"24px\">\n",
              "    <path d=\"M0 0h24v24H0V0z\" fill=\"none\"/>\n",
              "    <path d=\"M18.56 5.44l.94 2.06.94-2.06 2.06-.94-2.06-.94-.94-2.06-.94 2.06-2.06.94zm-11 1L8.5 8.5l.94-2.06 2.06-.94-2.06-.94L8.5 2.5l-.94 2.06-2.06.94zm10 10l.94 2.06.94-2.06 2.06-.94-2.06-.94-.94-2.06-.94 2.06-2.06.94z\"/><path d=\"M17.41 7.96l-1.37-1.37c-.4-.4-.92-.59-1.43-.59-.52 0-1.04.2-1.43.59L10.3 9.45l-7.72 7.72c-.78.78-.78 2.05 0 2.83L4 21.41c.39.39.9.59 1.41.59.51 0 1.02-.2 1.41-.59l7.78-7.78 2.81-2.81c.8-.78.8-2.07 0-2.86zM5.41 20L4 18.59l7.72-7.72 1.47 1.35L5.41 20z\"/>\n",
              "  </svg>\n",
              "      </button>\n",
              "      \n",
              "  <style>\n",
              "    .colab-df-container {\n",
              "      display:flex;\n",
              "      flex-wrap:wrap;\n",
              "      gap: 12px;\n",
              "    }\n",
              "\n",
              "    .colab-df-convert {\n",
              "      background-color: #E8F0FE;\n",
              "      border: none;\n",
              "      border-radius: 50%;\n",
              "      cursor: pointer;\n",
              "      display: none;\n",
              "      fill: #1967D2;\n",
              "      height: 32px;\n",
              "      padding: 0 0 0 0;\n",
              "      width: 32px;\n",
              "    }\n",
              "\n",
              "    .colab-df-convert:hover {\n",
              "      background-color: #E2EBFA;\n",
              "      box-shadow: 0px 1px 2px rgba(60, 64, 67, 0.3), 0px 1px 3px 1px rgba(60, 64, 67, 0.15);\n",
              "      fill: #174EA6;\n",
              "    }\n",
              "\n",
              "    [theme=dark] .colab-df-convert {\n",
              "      background-color: #3B4455;\n",
              "      fill: #D2E3FC;\n",
              "    }\n",
              "\n",
              "    [theme=dark] .colab-df-convert:hover {\n",
              "      background-color: #434B5C;\n",
              "      box-shadow: 0px 1px 3px 1px rgba(0, 0, 0, 0.15);\n",
              "      filter: drop-shadow(0px 1px 2px rgba(0, 0, 0, 0.3));\n",
              "      fill: #FFFFFF;\n",
              "    }\n",
              "  </style>\n",
              "\n",
              "      <script>\n",
              "        const buttonEl =\n",
              "          document.querySelector('#df-42b61364-e47d-4b1c-9395-1308bc4215d9 button.colab-df-convert');\n",
              "        buttonEl.style.display =\n",
              "          google.colab.kernel.accessAllowed ? 'block' : 'none';\n",
              "\n",
              "        async function convertToInteractive(key) {\n",
              "          const element = document.querySelector('#df-42b61364-e47d-4b1c-9395-1308bc4215d9');\n",
              "          const dataTable =\n",
              "            await google.colab.kernel.invokeFunction('convertToInteractive',\n",
              "                                                     [key], {});\n",
              "          if (!dataTable) return;\n",
              "\n",
              "          const docLinkHtml = 'Like what you see? Visit the ' +\n",
              "            '<a target=\"_blank\" href=https://colab.research.google.com/notebooks/data_table.ipynb>data table notebook</a>'\n",
              "            + ' to learn more about interactive tables.';\n",
              "          element.innerHTML = '';\n",
              "          dataTable['output_type'] = 'display_data';\n",
              "          await google.colab.output.renderOutput(dataTable, element);\n",
              "          const docLink = document.createElement('div');\n",
              "          docLink.innerHTML = docLinkHtml;\n",
              "          element.appendChild(docLink);\n",
              "        }\n",
              "      </script>\n",
              "    </div>\n",
              "  </div>\n",
              "  "
            ]
          },
          "metadata": {},
          "execution_count": 7
        }
      ]
    },
    {
      "cell_type": "code",
      "source": [
        "'''fim etapa 2 e 3 '''"
      ],
      "metadata": {
        "id": "0uareKjJCWob",
        "outputId": "8942e751-0f3a-44bc-bc41-62e7a5298b89",
        "colab": {
          "base_uri": "https://localhost:8080/",
          "height": 35
        }
      },
      "execution_count": 9,
      "outputs": [
        {
          "output_type": "execute_result",
          "data": {
            "text/plain": [
              "'fim etapa 2 e 3 '"
            ],
            "application/vnd.google.colaboratory.intrinsic+json": {
              "type": "string"
            }
          },
          "metadata": {},
          "execution_count": 9
        }
      ]
    },
    {
      "cell_type": "code",
      "source": [
        "'''\n",
        "  etapa 4:\n",
        "\n",
        "  Utilizar a biblioteca Matplotlib para plotar os dados e visualizar as tendências.\n",
        "'''"
      ],
      "metadata": {
        "colab": {
          "base_uri": "https://localhost:8080/",
          "height": 35
        },
        "id": "7W8rhpWa_YRZ",
        "outputId": "f1a090fb-503b-4a2f-d3f6-7e7f8025eb4e"
      },
      "execution_count": 10,
      "outputs": [
        {
          "output_type": "execute_result",
          "data": {
            "text/plain": [
              "'\\n  etapa 4:\\n\\n  Utilizar a biblioteca Matplotlib para plotar os dados e visualizar as tendências.\\n'"
            ],
            "application/vnd.google.colaboratory.intrinsic+json": {
              "type": "string"
            }
          },
          "metadata": {},
          "execution_count": 10
        }
      ]
    },
    {
      "cell_type": "code",
      "source": [
        "import matplotlib.pyplot as plt\n",
        "import seaborn as sns\n",
        "\n",
        "#plotando bitcoin\n",
        "df_bitcoin[['High', 'Low']].plot(figsize=(15, 3), title='Bitcoin DataSet', grid=True)"
      ],
      "metadata": {
        "colab": {
          "base_uri": "https://localhost:8080/",
          "height": 258
        },
        "id": "ByImyJCf_bXj",
        "outputId": "d354fb27-7cab-49a9-99c2-2512bef6b7f2"
      },
      "execution_count": 11,
      "outputs": [
        {
          "output_type": "execute_result",
          "data": {
            "text/plain": [
              "<AxesSubplot:title={'center':'Bitcoin DataSet'}, xlabel='Date'>"
            ]
          },
          "metadata": {},
          "execution_count": 11
        },
        {
          "output_type": "display_data",
          "data": {
            "text/plain": [
              "<Figure size 1080x216 with 1 Axes>"
            ],
            "image/png": "[encoded data removed]"
          },
          "metadata": {
            "needs_background": "light"
          }
        }
      ]
    },
    {
      "cell_type": "code",
      "source": [
        "#plotando dolar\n",
        "\n",
        "df_dolar[['dolar_high', 'dolar_low']].plot(figsize=(15, 3), title='Dolar DataSet', grid=True)"
      ],
      "metadata": {
        "colab": {
          "base_uri": "https://localhost:8080/",
          "height": 261
        },
        "id": "91I7J1v0Amcn",
        "outputId": "3f3f570b-1e14-4fcd-f086-7abfb80e8a4d"
      },
      "execution_count": 12,
      "outputs": [
        {
          "output_type": "execute_result",
          "data": {
            "text/plain": [
              "<AxesSubplot:title={'center':'Dolar DataSet'}, xlabel='Data'>"
            ]
          },
          "metadata": {},
          "execution_count": 12
        },
        {
          "output_type": "display_data",
          "data": {
            "text/plain": [
              "<Figure size 1080x216 with 1 Axes>"
            ],
            "image/png": "[encoded data removed]"
          },
          "metadata": {
            "needs_background": "light"
          }
        }
      ]
    },
    {
      "cell_type": "code",
      "source": [
        "''' fim etapa 4 '''"
      ],
      "metadata": {
        "colab": {
          "base_uri": "https://localhost:8080/",
          "height": 35
        },
        "id": "RVv1QMAdGl2z",
        "outputId": "d0d97b24-8a35-4c91-e53d-c02a9fdc7954"
      },
      "execution_count": 13,
      "outputs": [
        {
          "output_type": "execute_result",
          "data": {
            "text/plain": [
              "' fim etapa 4 '"
            ],
            "application/vnd.google.colaboratory.intrinsic+json": {
              "type": "string"
            }
          },
          "metadata": {},
          "execution_count": 13
        }
      ]
    },
    {
      "cell_type": "code",
      "source": [
        "'''\n",
        "  etapa 5\n",
        "  unir DF's\n",
        "'''\n",
        "\n",
        "df_bitcoin_dolar = df_bitcoin.join(df_dolar)"
      ],
      "metadata": {
        "id": "NPZ6Pn1vH64N"
      },
      "execution_count": 14,
      "outputs": []
    },
    {
      "cell_type": "code",
      "source": [],
      "metadata": {
        "id": "dzSJnDTZNJiF",
        "outputId": "529f3e43-5a1d-4eba-f80d-d642217b028b",
        "colab": {
          "base_uri": "https://localhost:8080/",
          "height": 455
        }
      },
      "execution_count": 16,
      "outputs": [
        {
          "output_type": "execute_result",
          "data": {
            "text/plain": [
              "                   Open         High          Low        Close    Adj Close  \\\n",
              "Date                                                                          \n",
              "2017-08-01  2871.300049  2921.350098  2685.610107  2718.260010  2718.260010   \n",
              "2017-08-02  2727.129883  2762.530029  2668.590088  2710.669922  2710.669922   \n",
              "2017-08-03  2709.560059  2813.310059  2685.139893  2804.729980  2804.729980   \n",
              "2017-08-04  2806.929932  2899.330078  2743.719971  2895.889893  2895.889893   \n",
              "2017-08-05  2897.629883  3290.010010  2874.830078  3252.909912  3252.909912   \n",
              "...                 ...          ...          ...          ...          ...   \n",
              "2017-11-04  7164.479980  7492.859863  7031.279785  7379.950195  7379.950195   \n",
              "2017-11-05  7404.520020  7617.479980  7333.189941  7407.410156  7407.410156   \n",
              "2017-11-06  7403.220215  7445.770020  7007.310059  7022.759766  7022.759766   \n",
              "2017-11-07  7023.100098  7253.319824  7023.100098  7144.379883  7144.379883   \n",
              "2017-11-08  7141.379883  7776.419922  7114.020020  7459.689941  7459.689941   \n",
              "\n",
              "                Volume  dolar_close  dolar_open  dolar_high  dolar_low  \\\n",
              "Date                                                                     \n",
              "2017-08-01  1324669952       3.1265      3.1277      3.1315     3.1079   \n",
              "2017-08-02  1094950016       3.1137      3.1261      3.1382     3.1126   \n",
              "2017-08-03   804796992       3.1125      3.1134      3.1270     3.1097   \n",
              "2017-08-04  1002120000       3.1314      3.1125      3.1338     3.1079   \n",
              "2017-08-05  1945699968          NaN         NaN         NaN        NaN   \n",
              "...                ...          ...         ...         ...        ...   \n",
              "2017-11-04  2483800064          NaN         NaN         NaN        NaN   \n",
              "2017-11-05  2380410112          NaN         NaN         NaN        NaN   \n",
              "2017-11-06  3111899904       3.2495      3.3144      3.3144     3.2476   \n",
              "2017-11-07  2326340096       3.2714      3.2495      3.2884     3.2495   \n",
              "2017-11-08  4602200064       3.2548      3.2723      3.2723     3.2401   \n",
              "\n",
              "           dolar_volume dolar_variation  \n",
              "Date                                     \n",
              "2017-08-01          NaN           0,00%  \n",
              "2017-08-02          NaN          -0,41%  \n",
              "2017-08-03          NaN          -0,04%  \n",
              "2017-08-04          NaN           0,61%  \n",
              "2017-08-05          NaN             NaN  \n",
              "...                 ...             ...  \n",
              "2017-11-04          NaN             NaN  \n",
              "2017-11-05          NaN             NaN  \n",
              "2017-11-06          NaN          -1,96%  \n",
              "2017-11-07          NaN           0,67%  \n",
              "2017-11-08          NaN          -0,51%  \n",
              "\n",
              "[100 rows x 12 columns]"
            ],
            "text/html": [
              "\n",
              "  <div id=\"df-cb73de55-f77d-43a9-912a-4cadaa29f091\">\n",
              "    <div class=\"colab-df-container\">\n",
              "      <div>\n",
              "<style scoped>\n",
              "    .dataframe tbody tr th:only-of-type {\n",
              "        vertical-align: middle;\n",
              "    }\n",
              "\n",
              "    .dataframe tbody tr th {\n",
              "        vertical-align: top;\n",
              "    }\n",
              "\n",
              "    .dataframe thead th {\n",
              "        text-align: right;\n",
              "    }\n",
              "</style>\n",
              "<table border=\"1\" class=\"dataframe\">\n",
              "  <thead>\n",
              "    <tr style=\"text-align: right;\">\n",
              "      <th></th>\n",
              "      <th>Open</th>\n",
              "      <th>High</th>\n",
              "      <th>Low</th>\n",
              "      <th>Close</th>\n",
              "      <th>Adj Close</th>\n",
              "      <th>Volume</th>\n",
              "      <th>dolar_close</th>\n",
              "      <th>dolar_open</th>\n",
              "      <th>dolar_high</th>\n",
              "      <th>dolar_low</th>\n",
              "      <th>dolar_volume</th>\n",
              "      <th>dolar_variation</th>\n",
              "    </tr>\n",
              "    <tr>\n",
              "      <th>Date</th>\n",
              "      <th></th>\n",
              "      <th></th>\n",
              "      <th></th>\n",
              "      <th></th>\n",
              "      <th></th>\n",
              "      <th></th>\n",
              "      <th></th>\n",
              "      <th></th>\n",
              "      <th></th>\n",
              "      <th></th>\n",
              "      <th></th>\n",
              "      <th></th>\n",
              "    </tr>\n",
              "  </thead>\n",
              "  <tbody>\n",
              "    <tr>\n",
              "      <th>2017-08-01</th>\n",
              "      <td>2871.300049</td>\n",
              "      <td>2921.350098</td>\n",
              "      <td>2685.610107</td>\n",
              "      <td>2718.260010</td>\n",
              "      <td>2718.260010</td>\n",
              "      <td>1324669952</td>\n",
              "      <td>3.1265</td>\n",
              "      <td>3.1277</td>\n",
              "      <td>3.1315</td>\n",
              "      <td>3.1079</td>\n",
              "      <td>NaN</td>\n",
              "      <td>0,00%</td>\n",
              "    </tr>\n",
              "    <tr>\n",
              "      <th>2017-08-02</th>\n",
              "      <td>2727.129883</td>\n",
              "      <td>2762.530029</td>\n",
              "      <td>2668.590088</td>\n",
              "      <td>2710.669922</td>\n",
              "      <td>2710.669922</td>\n",
              "      <td>1094950016</td>\n",
              "      <td>3.1137</td>\n",
              "      <td>3.1261</td>\n",
              "      <td>3.1382</td>\n",
              "      <td>3.1126</td>\n",
              "      <td>NaN</td>\n",
              "      <td>-0,41%</td>\n",
              "    </tr>\n",
              "    <tr>\n",
              "      <th>2017-08-03</th>\n",
              "      <td>2709.560059</td>\n",
              "      <td>2813.310059</td>\n",
              "      <td>2685.139893</td>\n",
              "      <td>2804.729980</td>\n",
              "      <td>2804.729980</td>\n",
              "      <td>804796992</td>\n",
              "      <td>3.1125</td>\n",
              "      <td>3.1134</td>\n",
              "      <td>3.1270</td>\n",
              "      <td>3.1097</td>\n",
              "      <td>NaN</td>\n",
              "      <td>-0,04%</td>\n",
              "    </tr>\n",
              "    <tr>\n",
              "      <th>2017-08-04</th>\n",
              "      <td>2806.929932</td>\n",
              "      <td>2899.330078</td>\n",
              "      <td>2743.719971</td>\n",
              "      <td>2895.889893</td>\n",
              "      <td>2895.889893</td>\n",
              "      <td>1002120000</td>\n",
              "      <td>3.1314</td>\n",
              "      <td>3.1125</td>\n",
              "      <td>3.1338</td>\n",
              "      <td>3.1079</td>\n",
              "      <td>NaN</td>\n",
              "      <td>0,61%</td>\n",
              "    </tr>\n",
              "    <tr>\n",
              "      <th>2017-08-05</th>\n",
              "      <td>2897.629883</td>\n",
              "      <td>3290.010010</td>\n",
              "      <td>2874.830078</td>\n",
              "      <td>3252.909912</td>\n",
              "      <td>3252.909912</td>\n",
              "      <td>1945699968</td>\n",
              "      <td>NaN</td>\n",
              "      <td>NaN</td>\n",
              "      <td>NaN</td>\n",
              "      <td>NaN</td>\n",
              "      <td>NaN</td>\n",
              "      <td>NaN</td>\n",
              "    </tr>\n",
              "    <tr>\n",
              "      <th>...</th>\n",
              "      <td>...</td>\n",
              "      <td>...</td>\n",
              "      <td>...</td>\n",
              "      <td>...</td>\n",
              "      <td>...</td>\n",
              "      <td>...</td>\n",
              "      <td>...</td>\n",
              "      <td>...</td>\n",
              "      <td>...</td>\n",
              "      <td>...</td>\n",
              "      <td>...</td>\n",
              "      <td>...</td>\n",
              "    </tr>\n",
              "    <tr>\n",
              "      <th>2017-11-04</th>\n",
              "      <td>7164.479980</td>\n",
              "      <td>7492.859863</td>\n",
              "      <td>7031.279785</td>\n",
              "      <td>7379.950195</td>\n",
              "      <td>7379.950195</td>\n",
              "      <td>2483800064</td>\n",
              "      <td>NaN</td>\n",
              "      <td>NaN</td>\n",
              "      <td>NaN</td>\n",
              "      <td>NaN</td>\n",
              "      <td>NaN</td>\n",
              "      <td>NaN</td>\n",
              "    </tr>\n",
              "    <tr>\n",
              "      <th>2017-11-05</th>\n",
              "      <td>7404.520020</td>\n",
              "      <td>7617.479980</td>\n",
              "      <td>7333.189941</td>\n",
              "      <td>7407.410156</td>\n",
              "      <td>7407.410156</td>\n",
              "      <td>2380410112</td>\n",
              "      <td>NaN</td>\n",
              "      <td>NaN</td>\n",
              "      <td>NaN</td>\n",
              "      <td>NaN</td>\n",
              "      <td>NaN</td>\n",
              "      <td>NaN</td>\n",
              "    </tr>\n",
              "    <tr>\n",
              "      <th>2017-11-06</th>\n",
              "      <td>7403.220215</td>\n",
              "      <td>7445.770020</td>\n",
              "      <td>7007.310059</td>\n",
              "      <td>7022.759766</td>\n",
              "      <td>7022.759766</td>\n",
              "      <td>3111899904</td>\n",
              "      <td>3.2495</td>\n",
              "      <td>3.3144</td>\n",
              "      <td>3.3144</td>\n",
              "      <td>3.2476</td>\n",
              "      <td>NaN</td>\n",
              "      <td>-1,96%</td>\n",
              "    </tr>\n",
              "    <tr>\n",
              "      <th>2017-11-07</th>\n",
              "      <td>7023.100098</td>\n",
              "      <td>7253.319824</td>\n",
              "      <td>7023.100098</td>\n",
              "      <td>7144.379883</td>\n",
              "      <td>7144.379883</td>\n",
              "      <td>2326340096</td>\n",
              "      <td>3.2714</td>\n",
              "      <td>3.2495</td>\n",
              "      <td>3.2884</td>\n",
              "      <td>3.2495</td>\n",
              "      <td>NaN</td>\n",
              "      <td>0,67%</td>\n",
              "    </tr>\n",
              "    <tr>\n",
              "      <th>2017-11-08</th>\n",
              "      <td>7141.379883</td>\n",
              "      <td>7776.419922</td>\n",
              "      <td>7114.020020</td>\n",
              "      <td>7459.689941</td>\n",
              "      <td>7459.689941</td>\n",
              "      <td>4602200064</td>\n",
              "      <td>3.2548</td>\n",
              "      <td>3.2723</td>\n",
              "      <td>3.2723</td>\n",
              "      <td>3.2401</td>\n",
              "      <td>NaN</td>\n",
              "      <td>-0,51%</td>\n",
              "    </tr>\n",
              "  </tbody>\n",
              "</table>\n",
              "<p>100 rows × 12 columns</p>\n",
              "</div>\n",
              "      <button class=\"colab-df-convert\" onclick=\"convertToInteractive('df-cb73de55-f77d-43a9-912a-4cadaa29f091')\"\n",
              "              title=\"Convert this dataframe to an interactive table.\"\n",
              "              style=\"display:none;\">\n",
              "        \n",
              "  <svg xmlns=\"http://www.w3.org/2000/svg\" height=\"24px\"viewBox=\"0 0 24 24\"\n",
              "       width=\"24px\">\n",
              "    <path d=\"M0 0h24v24H0V0z\" fill=\"none\"/>\n",
              "    <path d=\"M18.56 5.44l.94 2.06.94-2.06 2.06-.94-2.06-.94-.94-2.06-.94 2.06-2.06.94zm-11 1L8.5 8.5l.94-2.06 2.06-.94-2.06-.94L8.5 2.5l-.94 2.06-2.06.94zm10 10l.94 2.06.94-2.06 2.06-.94-2.06-.94-.94-2.06-.94 2.06-2.06.94z\"/><path d=\"M17.41 7.96l-1.37-1.37c-.4-.4-.92-.59-1.43-.59-.52 0-1.04.2-1.43.59L10.3 9.45l-7.72 7.72c-.78.78-.78 2.05 0 2.83L4 21.41c.39.39.9.59 1.41.59.51 0 1.02-.2 1.41-.59l7.78-7.78 2.81-2.81c.8-.78.8-2.07 0-2.86zM5.41 20L4 18.59l7.72-7.72 1.47 1.35L5.41 20z\"/>\n",
              "  </svg>\n",
              "      </button>\n",
              "      \n",
              "  <style>\n",
              "    .colab-df-container {\n",
              "      display:flex;\n",
              "      flex-wrap:wrap;\n",
              "      gap: 12px;\n",
              "    }\n",
              "\n",
              "    .colab-df-convert {\n",
              "      background-color: #E8F0FE;\n",
              "      border: none;\n",
              "      border-radius: 50%;\n",
              "      cursor: pointer;\n",
              "      display: none;\n",
              "      fill: #1967D2;\n",
              "      height: 32px;\n",
              "      padding: 0 0 0 0;\n",
              "      width: 32px;\n",
              "    }\n",
              "\n",
              "    .colab-df-convert:hover {\n",
              "      background-color: #E2EBFA;\n",
              "      box-shadow: 0px 1px 2px rgba(60, 64, 67, 0.3), 0px 1px 3px 1px rgba(60, 64, 67, 0.15);\n",
              "      fill: #174EA6;\n",
              "    }\n",
              "\n",
              "    [theme=dark] .colab-df-convert {\n",
              "      background-color: #3B4455;\n",
              "      fill: #D2E3FC;\n",
              "    }\n",
              "\n",
              "    [theme=dark] .colab-df-convert:hover {\n",
              "      background-color: #434B5C;\n",
              "      box-shadow: 0px 1px 3px 1px rgba(0, 0, 0, 0.15);\n",
              "      filter: drop-shadow(0px 1px 2px rgba(0, 0, 0, 0.3));\n",
              "      fill: #FFFFFF;\n",
              "    }\n",
              "  </style>\n",
              "\n",
              "      <script>\n",
              "        const buttonEl =\n",
              "          document.querySelector('#df-cb73de55-f77d-43a9-912a-4cadaa29f091 button.colab-df-convert');\n",
              "        buttonEl.style.display =\n",
              "          google.colab.kernel.accessAllowed ? 'block' : 'none';\n",
              "\n",
              "        async function convertToInteractive(key) {\n",
              "          const element = document.querySelector('#df-cb73de55-f77d-43a9-912a-4cadaa29f091');\n",
              "          const dataTable =\n",
              "            await google.colab.kernel.invokeFunction('convertToInteractive',\n",
              "                                                     [key], {});\n",
              "          if (!dataTable) return;\n",
              "\n",
              "          const docLinkHtml = 'Like what you see? Visit the ' +\n",
              "            '<a target=\"_blank\" href=https://colab.research.google.com/notebooks/data_table.ipynb>data table notebook</a>'\n",
              "            + ' to learn more about interactive tables.';\n",
              "          element.innerHTML = '';\n",
              "          dataTable['output_type'] = 'display_data';\n",
              "          await google.colab.output.renderOutput(dataTable, element);\n",
              "          const docLink = document.createElement('div');\n",
              "          docLink.innerHTML = docLinkHtml;\n",
              "          element.appendChild(docLink);\n",
              "        }\n",
              "      </script>\n",
              "    </div>\n",
              "  </div>\n",
              "  "
            ]
          },
          "metadata": {},
          "execution_count": 16
        }
      ]
    }
  ]
}