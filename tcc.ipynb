{
  "nbformat": 4,
  "nbformat_minor": 0,
  "metadata": {
    "colab": {
      "provenance": [],
      "authorship_tag": "ABX9TyP+NDvMwWU5Utfxlb42tQFJ",
      "include_colab_link": true
    },
    "kernelspec": {
      "name": "python3",
      "display_name": "Python 3"
    },
    "language_info": {
      "name": "python"
    }
  },
  "cells": [
    {
      "cell_type": "markdown",
      "metadata": {
        "id": "view-in-github",
        "colab_type": "text"
      },
      "source": [
        "<a href=\"https://colab.research.google.com/github/Jadeilson08/tcc-data-science/blob/master/tcc.ipynb\" target=\"_parent\"><img src=\"https://colab.research.google.com/assets/colab-badge.svg\" alt=\"Open In Colab\"/></a>"
      ]
    },
    {
      "cell_type": "markdown",
      "source": [
        "## Etapas:\n",
        "\n",
        "- [x] Obtenha os dados de preço histórico de Bitcoin e Ethereum em um formato de tabela (por exemplo, CSV).\n",
        "- [x] Obtenha os dados do valor do dolar por dia\n",
        "- [x] Utilize a biblioteca Pandas para carregar e manipular os dados.\n",
        "- [ ] Utilize a biblioteca Matplotlib para plotar os dados e visualizar as tendências.\n",
        "- [ ] Utilize a biblioteca de aprendizado de máquina scikit-learn para dividir os dados em conjuntos de treinamento e teste.\n",
        "- [ ] Escolha um modelo de aprendizado de máquina apropriado para séries temporais (por exemplo, ARIMA, SARIMA, Prophet) e treine-o com os dados de treinamento.\n",
        "- [ ] Faça previsões com o modelo treinado utilizando os dados de teste e avaliar a precisão do modelo.\n",
        "- [ ] Utilize o modelo treinado para fazer previsões futuras."
      ],
      "metadata": {
        "id": "NBYBFoNG5E93"
      }
    },
    {
      "cell_type": "code",
      "execution_count": 1,
      "metadata": {
        "id": "WTgbqiaT2WCC"
      },
      "outputs": [],
      "source": [
        "# importando o data_reader\n",
        "!pip install -q yfinance\n",
        "import pandas as pd\n",
        "from pandas_datareader import data as pdr\n",
        "import yfinance as yfin\n",
        "\n",
        "\n",
        "yfin.pdr_override()"
      ]
    },
    {
      "cell_type": "code",
      "source": [
        "# criptomoedas analisadas: Bitcoin(BTC-USD), Ethereum(ETH-USD), Tether(USDT-USD), BNB(BNB)\n",
        "\n",
        "#data inicial e final\n",
        "start_date = '2017-08-01'\n",
        "end_date = '2021-08-01'\n",
        "\n",
        "# coletando os dataframe\n",
        "df_bitcoin = pdr.get_data_yahoo('BTC-USD', start=start_date, end=end_date)\n",
        "df_ethereum = pdr.get_data_yahoo('ETH-USD', start=start_date, end=end_date)\n",
        "df_tether = pdr.get_data_yahoo('USDT-USD', start=start_date, end=end_date)\n",
        "df_bnb = pdr.get_data_yahoo('BNB', start=start_date, end=end_date)"
      ],
      "metadata": {
        "colab": {
          "base_uri": "https://localhost:8080/"
        },
        "id": "76EjLNEi3VX9",
        "outputId": "94740b86-e913-49ab-d57a-132dda6b1e99"
      },
      "execution_count": 2,
      "outputs": [
        {
          "output_type": "stream",
          "name": "stdout",
          "text": [
            "[*********************100%***********************]  1 of 1 completed\n",
            "[*********************100%***********************]  1 of 1 completed\n",
            "[*********************100%***********************]  1 of 1 completed\n",
            "[*********************100%***********************]  1 of 1 completed\n"
          ]
        }
      ]
    },
    {
      "cell_type": "code",
      "source": [
        "# o index de todos os dataframe ja sao as datas, sem necessidade de atualizar o indice\n",
        "df_bitcoin.info()\n",
        "#df_ethereum.info()\n",
        "#df_tether.info()\n",
        "#df_bnb.info()\n",
        "''' etapa 1 realizada '''"
      ],
      "metadata": {
        "colab": {
          "base_uri": "https://localhost:8080/",
          "height": 261
        },
        "id": "0d8xqcs35_eb",
        "outputId": "96e4f144-be74-4222-fe92-5115c92a3d1d"
      },
      "execution_count": 3,
      "outputs": [
        {
          "output_type": "stream",
          "name": "stdout",
          "text": [
            "<class 'pandas.core.frame.DataFrame'>\n",
            "DatetimeIndex: 1461 entries, 2017-08-01 to 2021-07-31\n",
            "Data columns (total 6 columns):\n",
            " #   Column     Non-Null Count  Dtype  \n",
            "---  ------     --------------  -----  \n",
            " 0   Open       1461 non-null   float64\n",
            " 1   High       1461 non-null   float64\n",
            " 2   Low        1461 non-null   float64\n",
            " 3   Close      1461 non-null   float64\n",
            " 4   Adj Close  1461 non-null   float64\n",
            " 5   Volume     1461 non-null   int64  \n",
            "dtypes: float64(5), int64(1)\n",
            "memory usage: 79.9 KB\n"
          ]
        },
        {
          "output_type": "execute_result",
          "data": {
            "text/plain": [
              "' etapa 1 realizada '"
            ],
            "application/vnd.google.colaboratory.intrinsic+json": {
              "type": "string"
            }
          },
          "metadata": {},
          "execution_count": 3
        }
      ]
    },
    {
      "cell_type": "code",
      "source": [
        "df_bitcoin.head()"
      ],
      "metadata": {
        "id": "JrotK_csFAcQ",
        "outputId": "1f1c6383-fe2c-40e1-cc3e-bca7685f847c",
        "colab": {
          "base_uri": "https://localhost:8080/",
          "height": 238
        }
      },
      "execution_count": 14,
      "outputs": [
        {
          "output_type": "execute_result",
          "data": {
            "text/plain": [
              "                   Open         High          Low        Close    Adj Close  \\\n",
              "Date                                                                          \n",
              "2017-08-01  2871.300049  2921.350098  2685.610107  2718.260010  2718.260010   \n",
              "2017-08-02  2727.129883  2762.530029  2668.590088  2710.669922  2710.669922   \n",
              "2017-08-03  2709.560059  2813.310059  2685.139893  2804.729980  2804.729980   \n",
              "2017-08-04  2806.929932  2899.330078  2743.719971  2895.889893  2895.889893   \n",
              "2017-08-05  2897.629883  3290.010010  2874.830078  3252.909912  3252.909912   \n",
              "\n",
              "                Volume  \n",
              "Date                    \n",
              "2017-08-01  1324669952  \n",
              "2017-08-02  1094950016  \n",
              "2017-08-03   804796992  \n",
              "2017-08-04  1002120000  \n",
              "2017-08-05  1945699968  "
            ],
            "text/html": [
              "\n",
              "  <div id=\"df-239d6660-bb41-427e-a41d-321cd4231213\">\n",
              "    <div class=\"colab-df-container\">\n",
              "      <div>\n",
              "<style scoped>\n",
              "    .dataframe tbody tr th:only-of-type {\n",
              "        vertical-align: middle;\n",
              "    }\n",
              "\n",
              "    .dataframe tbody tr th {\n",
              "        vertical-align: top;\n",
              "    }\n",
              "\n",
              "    .dataframe thead th {\n",
              "        text-align: right;\n",
              "    }\n",
              "</style>\n",
              "<table border=\"1\" class=\"dataframe\">\n",
              "  <thead>\n",
              "    <tr style=\"text-align: right;\">\n",
              "      <th></th>\n",
              "      <th>Open</th>\n",
              "      <th>High</th>\n",
              "      <th>Low</th>\n",
              "      <th>Close</th>\n",
              "      <th>Adj Close</th>\n",
              "      <th>Volume</th>\n",
              "    </tr>\n",
              "    <tr>\n",
              "      <th>Date</th>\n",
              "      <th></th>\n",
              "      <th></th>\n",
              "      <th></th>\n",
              "      <th></th>\n",
              "      <th></th>\n",
              "      <th></th>\n",
              "    </tr>\n",
              "  </thead>\n",
              "  <tbody>\n",
              "    <tr>\n",
              "      <th>2017-08-01</th>\n",
              "      <td>2871.300049</td>\n",
              "      <td>2921.350098</td>\n",
              "      <td>2685.610107</td>\n",
              "      <td>2718.260010</td>\n",
              "      <td>2718.260010</td>\n",
              "      <td>1324669952</td>\n",
              "    </tr>\n",
              "    <tr>\n",
              "      <th>2017-08-02</th>\n",
              "      <td>2727.129883</td>\n",
              "      <td>2762.530029</td>\n",
              "      <td>2668.590088</td>\n",
              "      <td>2710.669922</td>\n",
              "      <td>2710.669922</td>\n",
              "      <td>1094950016</td>\n",
              "    </tr>\n",
              "    <tr>\n",
              "      <th>2017-08-03</th>\n",
              "      <td>2709.560059</td>\n",
              "      <td>2813.310059</td>\n",
              "      <td>2685.139893</td>\n",
              "      <td>2804.729980</td>\n",
              "      <td>2804.729980</td>\n",
              "      <td>804796992</td>\n",
              "    </tr>\n",
              "    <tr>\n",
              "      <th>2017-08-04</th>\n",
              "      <td>2806.929932</td>\n",
              "      <td>2899.330078</td>\n",
              "      <td>2743.719971</td>\n",
              "      <td>2895.889893</td>\n",
              "      <td>2895.889893</td>\n",
              "      <td>1002120000</td>\n",
              "    </tr>\n",
              "    <tr>\n",
              "      <th>2017-08-05</th>\n",
              "      <td>2897.629883</td>\n",
              "      <td>3290.010010</td>\n",
              "      <td>2874.830078</td>\n",
              "      <td>3252.909912</td>\n",
              "      <td>3252.909912</td>\n",
              "      <td>1945699968</td>\n",
              "    </tr>\n",
              "  </tbody>\n",
              "</table>\n",
              "</div>\n",
              "      <button class=\"colab-df-convert\" onclick=\"convertToInteractive('df-239d6660-bb41-427e-a41d-321cd4231213')\"\n",
              "              title=\"Convert this dataframe to an interactive table.\"\n",
              "              style=\"display:none;\">\n",
              "        \n",
              "  <svg xmlns=\"http://www.w3.org/2000/svg\" height=\"24px\"viewBox=\"0 0 24 24\"\n",
              "       width=\"24px\">\n",
              "    <path d=\"M0 0h24v24H0V0z\" fill=\"none\"/>\n",
              "    <path d=\"M18.56 5.44l.94 2.06.94-2.06 2.06-.94-2.06-.94-.94-2.06-.94 2.06-2.06.94zm-11 1L8.5 8.5l.94-2.06 2.06-.94-2.06-.94L8.5 2.5l-.94 2.06-2.06.94zm10 10l.94 2.06.94-2.06 2.06-.94-2.06-.94-.94-2.06-.94 2.06-2.06.94z\"/><path d=\"M17.41 7.96l-1.37-1.37c-.4-.4-.92-.59-1.43-.59-.52 0-1.04.2-1.43.59L10.3 9.45l-7.72 7.72c-.78.78-.78 2.05 0 2.83L4 21.41c.39.39.9.59 1.41.59.51 0 1.02-.2 1.41-.59l7.78-7.78 2.81-2.81c.8-.78.8-2.07 0-2.86zM5.41 20L4 18.59l7.72-7.72 1.47 1.35L5.41 20z\"/>\n",
              "  </svg>\n",
              "      </button>\n",
              "      \n",
              "  <style>\n",
              "    .colab-df-container {\n",
              "      display:flex;\n",
              "      flex-wrap:wrap;\n",
              "      gap: 12px;\n",
              "    }\n",
              "\n",
              "    .colab-df-convert {\n",
              "      background-color: #E8F0FE;\n",
              "      border: none;\n",
              "      border-radius: 50%;\n",
              "      cursor: pointer;\n",
              "      display: none;\n",
              "      fill: #1967D2;\n",
              "      height: 32px;\n",
              "      padding: 0 0 0 0;\n",
              "      width: 32px;\n",
              "    }\n",
              "\n",
              "    .colab-df-convert:hover {\n",
              "      background-color: #E2EBFA;\n",
              "      box-shadow: 0px 1px 2px rgba(60, 64, 67, 0.3), 0px 1px 3px 1px rgba(60, 64, 67, 0.15);\n",
              "      fill: #174EA6;\n",
              "    }\n",
              "\n",
              "    [theme=dark] .colab-df-convert {\n",
              "      background-color: #3B4455;\n",
              "      fill: #D2E3FC;\n",
              "    }\n",
              "\n",
              "    [theme=dark] .colab-df-convert:hover {\n",
              "      background-color: #434B5C;\n",
              "      box-shadow: 0px 1px 3px 1px rgba(0, 0, 0, 0.15);\n",
              "      filter: drop-shadow(0px 1px 2px rgba(0, 0, 0, 0.3));\n",
              "      fill: #FFFFFF;\n",
              "    }\n",
              "  </style>\n",
              "\n",
              "      <script>\n",
              "        const buttonEl =\n",
              "          document.querySelector('#df-239d6660-bb41-427e-a41d-321cd4231213 button.colab-df-convert');\n",
              "        buttonEl.style.display =\n",
              "          google.colab.kernel.accessAllowed ? 'block' : 'none';\n",
              "\n",
              "        async function convertToInteractive(key) {\n",
              "          const element = document.querySelector('#df-239d6660-bb41-427e-a41d-321cd4231213');\n",
              "          const dataTable =\n",
              "            await google.colab.kernel.invokeFunction('convertToInteractive',\n",
              "                                                     [key], {});\n",
              "          if (!dataTable) return;\n",
              "\n",
              "          const docLinkHtml = 'Like what you see? Visit the ' +\n",
              "            '<a target=\"_blank\" href=https://colab.research.google.com/notebooks/data_table.ipynb>data table notebook</a>'\n",
              "            + ' to learn more about interactive tables.';\n",
              "          element.innerHTML = '';\n",
              "          dataTable['output_type'] = 'display_data';\n",
              "          await google.colab.output.renderOutput(dataTable, element);\n",
              "          const docLink = document.createElement('div');\n",
              "          docLink.innerHTML = docLinkHtml;\n",
              "          element.appendChild(docLink);\n",
              "        }\n",
              "      </script>\n",
              "    </div>\n",
              "  </div>\n",
              "  "
            ]
          },
          "metadata": {},
          "execution_count": 14
        }
      ]
    },
    {
      "cell_type": "code",
      "source": [
        "''' \n",
        "  etapa 2\n",
        "  a cotacao do dolar com o valor de abertura e fechamento esta disponivel em csv\n",
        "  no seguinte endereco\n",
        "  https://br.investing.com/currencies/usd-brl-historical-data\n",
        "\n",
        "'''"
      ],
      "metadata": {
        "id": "_-L6wgWv9A_l"
      },
      "execution_count": null,
      "outputs": []
    },
    {
      "cell_type": "code",
      "source": [
        "df_dolar = pd.read_csv('https://raw.githubusercontent.com/Jadeilson08/tcc-data-science/master/USD_BRL_20170801_20210801.csv')\n",
        "\n",
        "#precisa mudar o index para a colula Data\n",
        "df_dolar.info()"
      ],
      "metadata": {
        "id": "LjSFRdmB_Ub5"
      },
      "execution_count": null,
      "outputs": []
    },
    {
      "cell_type": "code",
      "source": [
        "from numpy import float64\n",
        "#alterando o index para Data\n",
        "df_dolar = df_dolar.set_index('Data')\n",
        "\n",
        "#renomeando colunas para ingles\n",
        "df_dolar = df_dolar.rename(columns={'Último': 'dolar_close', 'Abertura': 'dolar_open', 'Máxima': 'dolar_high', 'Mínima': 'dolar_low', 'Vol.' : 'dolar_volume', 'Var%': 'dolar_variation'})\n",
        "\n",
        "#convertando BR para US\n",
        "columns = ['dolar_close', 'dolar_open', 'dolar_high', 'dolar_low']\n",
        "\n",
        "for column in columns:\n",
        "  df_dolar[column] = df_dolar[column].apply(lambda x: x.replace(',', '.')).astype(float64)"
      ],
      "metadata": {
        "id": "ufIW9KLWA9qC"
      },
      "execution_count": 15,
      "outputs": []
    },
    {
      "cell_type": "code",
      "source": [
        "df_dolar.head()"
      ],
      "metadata": {
        "id": "Ax961UrSBRUG",
        "outputId": "5da47f6b-aa82-4dc8-fc16-768e82d3ca40",
        "colab": {
          "base_uri": "https://localhost:8080/",
          "height": 238
        }
      },
      "execution_count": 16,
      "outputs": [
        {
          "output_type": "execute_result",
          "data": {
            "text/plain": [
              "             Close    Open    High     Low   Volume Variation\n",
              "Data                                                         \n",
              "30.07.2021  5.2123  5.0773  5.2287  5.0754   89,74K     2,58%\n",
              "29.07.2021  5.0812  5.1165  5.1165  5.0406   92,46K    -0,67%\n",
              "28.07.2021  5.1157  5.1710  5.1926  5.1040  112,11K    -1,03%\n",
              "27.07.2021  5.1690  5.1769  5.2061  5.1486   92,09K    -0,14%\n",
              "26.07.2021  5.1761  5.2051  5.2304  5.1516   68,85K    -0,47%"
            ],
            "text/html": [
              "\n",
              "  <div id=\"df-49476877-91ab-4deb-8254-4bc13a7df1b2\">\n",
              "    <div class=\"colab-df-container\">\n",
              "      <div>\n",
              "<style scoped>\n",
              "    .dataframe tbody tr th:only-of-type {\n",
              "        vertical-align: middle;\n",
              "    }\n",
              "\n",
              "    .dataframe tbody tr th {\n",
              "        vertical-align: top;\n",
              "    }\n",
              "\n",
              "    .dataframe thead th {\n",
              "        text-align: right;\n",
              "    }\n",
              "</style>\n",
              "<table border=\"1\" class=\"dataframe\">\n",
              "  <thead>\n",
              "    <tr style=\"text-align: right;\">\n",
              "      <th></th>\n",
              "      <th>Close</th>\n",
              "      <th>Open</th>\n",
              "      <th>High</th>\n",
              "      <th>Low</th>\n",
              "      <th>Volume</th>\n",
              "      <th>Variation</th>\n",
              "    </tr>\n",
              "    <tr>\n",
              "      <th>Data</th>\n",
              "      <th></th>\n",
              "      <th></th>\n",
              "      <th></th>\n",
              "      <th></th>\n",
              "      <th></th>\n",
              "      <th></th>\n",
              "    </tr>\n",
              "  </thead>\n",
              "  <tbody>\n",
              "    <tr>\n",
              "      <th>30.07.2021</th>\n",
              "      <td>5.2123</td>\n",
              "      <td>5.0773</td>\n",
              "      <td>5.2287</td>\n",
              "      <td>5.0754</td>\n",
              "      <td>89,74K</td>\n",
              "      <td>2,58%</td>\n",
              "    </tr>\n",
              "    <tr>\n",
              "      <th>29.07.2021</th>\n",
              "      <td>5.0812</td>\n",
              "      <td>5.1165</td>\n",
              "      <td>5.1165</td>\n",
              "      <td>5.0406</td>\n",
              "      <td>92,46K</td>\n",
              "      <td>-0,67%</td>\n",
              "    </tr>\n",
              "    <tr>\n",
              "      <th>28.07.2021</th>\n",
              "      <td>5.1157</td>\n",
              "      <td>5.1710</td>\n",
              "      <td>5.1926</td>\n",
              "      <td>5.1040</td>\n",
              "      <td>112,11K</td>\n",
              "      <td>-1,03%</td>\n",
              "    </tr>\n",
              "    <tr>\n",
              "      <th>27.07.2021</th>\n",
              "      <td>5.1690</td>\n",
              "      <td>5.1769</td>\n",
              "      <td>5.2061</td>\n",
              "      <td>5.1486</td>\n",
              "      <td>92,09K</td>\n",
              "      <td>-0,14%</td>\n",
              "    </tr>\n",
              "    <tr>\n",
              "      <th>26.07.2021</th>\n",
              "      <td>5.1761</td>\n",
              "      <td>5.2051</td>\n",
              "      <td>5.2304</td>\n",
              "      <td>5.1516</td>\n",
              "      <td>68,85K</td>\n",
              "      <td>-0,47%</td>\n",
              "    </tr>\n",
              "  </tbody>\n",
              "</table>\n",
              "</div>\n",
              "      <button class=\"colab-df-convert\" onclick=\"convertToInteractive('df-49476877-91ab-4deb-8254-4bc13a7df1b2')\"\n",
              "              title=\"Convert this dataframe to an interactive table.\"\n",
              "              style=\"display:none;\">\n",
              "        \n",
              "  <svg xmlns=\"http://www.w3.org/2000/svg\" height=\"24px\"viewBox=\"0 0 24 24\"\n",
              "       width=\"24px\">\n",
              "    <path d=\"M0 0h24v24H0V0z\" fill=\"none\"/>\n",
              "    <path d=\"M18.56 5.44l.94 2.06.94-2.06 2.06-.94-2.06-.94-.94-2.06-.94 2.06-2.06.94zm-11 1L8.5 8.5l.94-2.06 2.06-.94-2.06-.94L8.5 2.5l-.94 2.06-2.06.94zm10 10l.94 2.06.94-2.06 2.06-.94-2.06-.94-.94-2.06-.94 2.06-2.06.94z\"/><path d=\"M17.41 7.96l-1.37-1.37c-.4-.4-.92-.59-1.43-.59-.52 0-1.04.2-1.43.59L10.3 9.45l-7.72 7.72c-.78.78-.78 2.05 0 2.83L4 21.41c.39.39.9.59 1.41.59.51 0 1.02-.2 1.41-.59l7.78-7.78 2.81-2.81c.8-.78.8-2.07 0-2.86zM5.41 20L4 18.59l7.72-7.72 1.47 1.35L5.41 20z\"/>\n",
              "  </svg>\n",
              "      </button>\n",
              "      \n",
              "  <style>\n",
              "    .colab-df-container {\n",
              "      display:flex;\n",
              "      flex-wrap:wrap;\n",
              "      gap: 12px;\n",
              "    }\n",
              "\n",
              "    .colab-df-convert {\n",
              "      background-color: #E8F0FE;\n",
              "      border: none;\n",
              "      border-radius: 50%;\n",
              "      cursor: pointer;\n",
              "      display: none;\n",
              "      fill: #1967D2;\n",
              "      height: 32px;\n",
              "      padding: 0 0 0 0;\n",
              "      width: 32px;\n",
              "    }\n",
              "\n",
              "    .colab-df-convert:hover {\n",
              "      background-color: #E2EBFA;\n",
              "      box-shadow: 0px 1px 2px rgba(60, 64, 67, 0.3), 0px 1px 3px 1px rgba(60, 64, 67, 0.15);\n",
              "      fill: #174EA6;\n",
              "    }\n",
              "\n",
              "    [theme=dark] .colab-df-convert {\n",
              "      background-color: #3B4455;\n",
              "      fill: #D2E3FC;\n",
              "    }\n",
              "\n",
              "    [theme=dark] .colab-df-convert:hover {\n",
              "      background-color: #434B5C;\n",
              "      box-shadow: 0px 1px 3px 1px rgba(0, 0, 0, 0.15);\n",
              "      filter: drop-shadow(0px 1px 2px rgba(0, 0, 0, 0.3));\n",
              "      fill: #FFFFFF;\n",
              "    }\n",
              "  </style>\n",
              "\n",
              "      <script>\n",
              "        const buttonEl =\n",
              "          document.querySelector('#df-49476877-91ab-4deb-8254-4bc13a7df1b2 button.colab-df-convert');\n",
              "        buttonEl.style.display =\n",
              "          google.colab.kernel.accessAllowed ? 'block' : 'none';\n",
              "\n",
              "        async function convertToInteractive(key) {\n",
              "          const element = document.querySelector('#df-49476877-91ab-4deb-8254-4bc13a7df1b2');\n",
              "          const dataTable =\n",
              "            await google.colab.kernel.invokeFunction('convertToInteractive',\n",
              "                                                     [key], {});\n",
              "          if (!dataTable) return;\n",
              "\n",
              "          const docLinkHtml = 'Like what you see? Visit the ' +\n",
              "            '<a target=\"_blank\" href=https://colab.research.google.com/notebooks/data_table.ipynb>data table notebook</a>'\n",
              "            + ' to learn more about interactive tables.';\n",
              "          element.innerHTML = '';\n",
              "          dataTable['output_type'] = 'display_data';\n",
              "          await google.colab.output.renderOutput(dataTable, element);\n",
              "          const docLink = document.createElement('div');\n",
              "          docLink.innerHTML = docLinkHtml;\n",
              "          element.appendChild(docLink);\n",
              "        }\n",
              "      </script>\n",
              "    </div>\n",
              "  </div>\n",
              "  "
            ]
          },
          "metadata": {},
          "execution_count": 16
        }
      ]
    },
    {
      "cell_type": "code",
      "source": [
        "'''fim etapa 2 e 3 '''"
      ],
      "metadata": {
        "id": "0uareKjJCWob"
      },
      "execution_count": null,
      "outputs": []
    },
    {
      "cell_type": "code",
      "source": [
        "'''\n",
        "  etapa 4:\n",
        "\n",
        "  Utilizar a biblioteca Matplotlib para plotar os dados e visualizar as tendências.\n",
        "'''"
      ],
      "metadata": {
        "id": "7W8rhpWa_YRZ",
        "outputId": "1ae6402b-322e-4b6e-c084-02ed59f56fa4",
        "colab": {
          "base_uri": "https://localhost:8080/",
          "height": 35
        }
      },
      "execution_count": 9,
      "outputs": [
        {
          "output_type": "execute_result",
          "data": {
            "text/plain": [
              "'\\n  etapa 4:\\n\\n  Utilizar a biblioteca Matplotlib para plotar os dados e visualizar as tendências.\\n'"
            ],
            "application/vnd.google.colaboratory.intrinsic+json": {
              "type": "string"
            }
          },
          "metadata": {},
          "execution_count": 9
        }
      ]
    },
    {
      "cell_type": "code",
      "source": [
        "import matplotlib.pyplot as plt\n",
        "import seaborn as sns\n",
        "\n",
        "#plotando bitcoin\n",
        "df_bitcoin[['High', 'Low']].plot(figsize=(15, 3), title='Bitcoin DataSet', grid=True)"
      ],
      "metadata": {
        "id": "ByImyJCf_bXj",
        "outputId": "809db7b2-a851-4abd-e5f1-841d151e7299",
        "colab": {
          "base_uri": "https://localhost:8080/",
          "height": 258
        }
      },
      "execution_count": 10,
      "outputs": [
        {
          "output_type": "execute_result",
          "data": {
            "text/plain": [
              "<AxesSubplot:title={'center':'Bitcoin DataSet'}, xlabel='Date'>"
            ]
          },
          "metadata": {},
          "execution_count": 10
        },
        {
          "output_type": "display_data",
          "data": {
            "text/plain": [
              "<Figure size 1080x216 with 1 Axes>"
            ],
            "image/png": "[encoded data removed]"
          },
          "metadata": {
            "needs_background": "light"
          }
        }
      ]
    },
    {
      "cell_type": "code",
      "source": [
        "#plotando dolar\n",
        "\n",
        "df_dolar[['High', 'Low']].plot(figsize=(15, 3), title='Dolar DataSet', grid=True)"
      ],
      "metadata": {
        "id": "91I7J1v0Amcn",
        "outputId": "b5795d43-2f4b-4d80-e8f6-6ac2911da008",
        "colab": {
          "base_uri": "https://localhost:8080/",
          "height": 258
        }
      },
      "execution_count": 18,
      "outputs": [
        {
          "output_type": "execute_result",
          "data": {
            "text/plain": [
              "<AxesSubplot:title={'center':'Dolar DataSet'}, xlabel='Data'>"
            ]
          },
          "metadata": {},
          "execution_count": 18
        },
        {
          "output_type": "display_data",
          "data": {
            "text/plain": [
              "<Figure size 1080x216 with 1 Axes>"
            ],
            "image/png": "[encoded data removed]"
          },
          "metadata": {
            "needs_background": "light"
          }
        }
      ]
    },
    {
      "cell_type": "code",
      "source": [
        "df_bitcoin_dolar = "
      ],
      "metadata": {
        "id": "RVv1QMAdGl2z"
      },
      "execution_count": null,
      "outputs": []
    }
  ]
}