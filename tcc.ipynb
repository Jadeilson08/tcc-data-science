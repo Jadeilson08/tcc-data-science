{
  "nbformat": 4,
  "nbformat_minor": 0,
  "metadata": {
    "colab": {
      "provenance": [],
      "authorship_tag": "ABX9TyP5LrENz2uFoHH16DTMwVhe",
      "include_colab_link": true
    },
    "kernelspec": {
      "name": "python3",
      "display_name": "Python 3"
    },
    "language_info": {
      "name": "python"
    }
  },
  "cells": [
    {
      "cell_type": "markdown",
      "metadata": {
        "id": "view-in-github",
        "colab_type": "text"
      },
      "source": [
        "<a href=\"https://colab.research.google.com/github/Jadeilson08/tcc-data-science/blob/master/tcc.ipynb\" target=\"_parent\"><img src=\"https://colab.research.google.com/assets/colab-badge.svg\" alt=\"Open In Colab\"/></a>"
      ]
    },
    {
      "cell_type": "code",
      "execution_count": 1,
      "metadata": {
        "colab": {
          "base_uri": "https://localhost:8080/"
        },
        "id": "WTgbqiaT2WCC",
        "outputId": "8940b4d9-944c-42bd-c79f-be3ccc0559e6"
      },
      "outputs": [
        {
          "output_type": "stream",
          "name": "stdout",
          "text": [
            "\u001b[2K     \u001b[90m━━━━━━━━━━━━━━━━━━━━━━━━━━━━━━━━━━━━━━━\u001b[0m \u001b[32m51.4/51.4 KB\u001b[0m \u001b[31m798.7 kB/s\u001b[0m eta \u001b[36m0:00:00\u001b[0m\n",
            "\u001b[2K     \u001b[90m━━━━━━━━━━━━━━━━━━━━━━━━━━━━━━━━━━━━━━━━\u001b[0m \u001b[32m62.8/62.8 KB\u001b[0m \u001b[31m2.3 MB/s\u001b[0m eta \u001b[36m0:00:00\u001b[0m\n",
            "\u001b[2K     \u001b[90m━━━━━━━━━━━━━━━━━━━━━━━━━━━━━━━━━━━━━━━\u001b[0m \u001b[32m128.2/128.2 KB\u001b[0m \u001b[31m3.0 MB/s\u001b[0m eta \u001b[36m0:00:00\u001b[0m\n",
            "\u001b[2K     \u001b[90m━━━━━━━━━━━━━━━━━━━━━━━━━━━━━━━━━━━━━━━\u001b[0m \u001b[32m112.2/112.2 KB\u001b[0m \u001b[31m5.4 MB/s\u001b[0m eta \u001b[36m0:00:00\u001b[0m\n",
            "\u001b[2K     \u001b[90m━━━━━━━━━━━━━━━━━━━━━━━━━━━━━━━━━━━━━━━\u001b[0m \u001b[32m111.0/111.0 KB\u001b[0m \u001b[31m3.9 MB/s\u001b[0m eta \u001b[36m0:00:00\u001b[0m\n",
            "\u001b[2K     \u001b[90m━━━━━━━━━━━━━━━━━━━━━━━━━━━━━━━━━━━━━━━━\u001b[0m \u001b[32m4.2/4.2 MB\u001b[0m \u001b[31m32.6 MB/s\u001b[0m eta \u001b[36m0:00:00\u001b[0m\n",
            "\u001b[?25h"
          ]
        }
      ],
      "source": [
        "# importando o data_reader\n",
        "!pip install -q yfinance\n",
        "import pandas\n",
        "from pandas_datareader import data as pdr\n",
        "import yfinance as yfin\n",
        "\n",
        "\n",
        "yfin.pdr_override()"
      ]
    },
    {
      "cell_type": "code",
      "source": [
        "# criptomoedas analisadas: Bitcoin(BTC-USD), Ethereum(ETH-USD), Tether(USDT-USD), BNB(BNB)\n",
        "\n",
        "#data inicial e final\n",
        "start_date = '2017-08-01'\n",
        "end_date = '2021-08-01'\n",
        "\n",
        "# coletando os dataframe\n",
        "df_bitcoin = pdr.get_data_yahoo('BTC-USD', start=start_date, end=end_date)\n",
        "df_ethereum = pdr.get_data_yahoo('ETH-USD', start=start_date, end=end_date)\n",
        "df_tether = pdr.get_data_yahoo('USDT-USD', start=start_date, end=end_date)\n",
        "df_bnb = pdr.get_data_yahoo('BNB', start=start_date, end=end_date)"
      ],
      "metadata": {
        "colab": {
          "base_uri": "https://localhost:8080/"
        },
        "id": "76EjLNEi3VX9",
        "outputId": "fa78aaaa-b684-4aaa-a09b-f41579eb8b20"
      },
      "execution_count": 11,
      "outputs": [
        {
          "output_type": "stream",
          "name": "stdout",
          "text": [
            "[*********************100%***********************]  1 of 1 completed\n",
            "[*********************100%***********************]  1 of 1 completed\n",
            "[*********************100%***********************]  1 of 1 completed\n",
            "[*********************100%***********************]  1 of 1 completed\n"
          ]
        }
      ]
    },
    {
      "cell_type": "code",
      "source": [
        "# o index de todos os dataframe ja sao as datas, sem necessidade de atualizar o indice\n",
        "df_bitcoin.info()\n",
        "df_ethereum.info()\n",
        "df_tether.info()\n",
        "df_bnb.info()"
      ],
      "metadata": {
        "colab": {
          "base_uri": "https://localhost:8080/"
        },
        "id": "0d8xqcs35_eb",
        "outputId": "f6cd325c-7482-4bcb-d8b4-1ff75c85eaa7"
      },
      "execution_count": 14,
      "outputs": [
        {
          "output_type": "stream",
          "name": "stdout",
          "text": [
            "<class 'pandas.core.frame.DataFrame'>\n",
            "DatetimeIndex: 1461 entries, 2017-08-01 00:00:00+00:00 to 2021-07-31 00:00:00+00:00\n",
            "Data columns (total 6 columns):\n",
            " #   Column     Non-Null Count  Dtype  \n",
            "---  ------     --------------  -----  \n",
            " 0   Open       1461 non-null   float64\n",
            " 1   High       1461 non-null   float64\n",
            " 2   Low        1461 non-null   float64\n",
            " 3   Close      1461 non-null   float64\n",
            " 4   Adj Close  1461 non-null   float64\n",
            " 5   Volume     1461 non-null   int64  \n",
            "dtypes: float64(5), int64(1)\n",
            "memory usage: 112.2 KB\n",
            "<class 'pandas.core.frame.DataFrame'>\n",
            "DatetimeIndex: 1361 entries, 2017-11-09 00:00:00+00:00 to 2021-07-31 00:00:00+00:00\n",
            "Data columns (total 6 columns):\n",
            " #   Column     Non-Null Count  Dtype  \n",
            "---  ------     --------------  -----  \n",
            " 0   Open       1361 non-null   float64\n",
            " 1   High       1361 non-null   float64\n",
            " 2   Low        1361 non-null   float64\n",
            " 3   Close      1361 non-null   float64\n",
            " 4   Adj Close  1361 non-null   float64\n",
            " 5   Volume     1361 non-null   int64  \n",
            "dtypes: float64(5), int64(1)\n",
            "memory usage: 106.7 KB\n",
            "<class 'pandas.core.frame.DataFrame'>\n",
            "DatetimeIndex: 1361 entries, 2017-11-09 00:00:00+00:00 to 2021-07-31 00:00:00+00:00\n",
            "Data columns (total 6 columns):\n",
            " #   Column     Non-Null Count  Dtype  \n",
            "---  ------     --------------  -----  \n",
            " 0   Open       1361 non-null   float64\n",
            " 1   High       1361 non-null   float64\n",
            " 2   Low        1361 non-null   float64\n",
            " 3   Close      1361 non-null   float64\n",
            " 4   Adj Close  1361 non-null   float64\n",
            " 5   Volume     1361 non-null   int64  \n",
            "dtypes: float64(5), int64(1)\n",
            "memory usage: 106.7 KB\n",
            "<class 'pandas.core.frame.DataFrame'>\n",
            "DatetimeIndex: 425 entries, 2018-01-02 00:00:00-05:00 to 2020-04-29 00:00:00-04:00\n",
            "Data columns (total 6 columns):\n",
            " #   Column     Non-Null Count  Dtype  \n",
            "---  ------     --------------  -----  \n",
            " 0   Open       425 non-null    float64\n",
            " 1   High       425 non-null    float64\n",
            " 2   Low        425 non-null    float64\n",
            " 3   Close      425 non-null    float64\n",
            " 4   Adj Close  425 non-null    float64\n",
            " 5   Volume     425 non-null    int64  \n",
            "dtypes: float64(5), int64(1)\n",
            "memory usage: 23.2 KB\n"
          ]
        }
      ]
    },
    {
      "cell_type": "code",
      "source": [],
      "metadata": {
        "id": "_-L6wgWv9A_l"
      },
      "execution_count": null,
      "outputs": []
    }
  ]
}