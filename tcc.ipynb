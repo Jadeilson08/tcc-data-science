{
  "nbformat": 4,
  "nbformat_minor": 0,
  "metadata": {
    "colab": {
      "provenance": [],
      "authorship_tag": "ABX9TyOB9BccjZ1a0FxWeo5hn+P+",
      "include_colab_link": true
    },
    "kernelspec": {
      "name": "python3",
      "display_name": "Python 3"
    },
    "language_info": {
      "name": "python"
    }
  },
  "cells": [
    {
      "cell_type": "markdown",
      "metadata": {
        "id": "view-in-github",
        "colab_type": "text"
      },
      "source": [
        "<a href=\"https://colab.research.google.com/github/Jadeilson08/tcc-data-science/blob/master/tcc.ipynb\" target=\"_parent\"><img src=\"https://colab.research.google.com/assets/colab-badge.svg\" alt=\"Open In Colab\"/></a>"
      ]
    },
    {
      "cell_type": "markdown",
      "source": [
        "# Etapas:\n",
        "\n",
        "## 1. coleta de dados\n",
        "- [x] Obtenha os dados de preço histórico de Bitcoin e Ethereum em um formato de tabela (por exemplo, CSV).\n",
        "- [x] Obtenha os dados do valor do dolar por dia\n",
        "\n",
        "## 2. processar e tratar dados\n",
        "- [x] Utilize a biblioteca Pandas para carregar e manipular os dados.\n",
        "\n",
        "## 3. analisar e explorar dados\n",
        "- [x] Utilize a biblioteca Matplotlib para plotar os dados e visualizar as tendências.\n",
        "- [x] Unir DF's\n",
        "- [ ] Utilize a biblioteca de aprendizado de máquina scikit-learn para dividir os dados em conjuntos de treinamento e teste.\n",
        "- [ ] Escolha um modelo de aprendizado de máquina apropriado para séries temporais (por exemplo, ARIMA, SARIMA, Prophet) e treine-o com os dados de treinamento.\n",
        "- [ ] Faça previsões com o modelo treinado utilizando os dados de teste e avaliar a precisão do modelo.\n",
        "- [ ] Utilize o modelo treinado para fazer previsões futuras."
      ],
      "metadata": {
        "id": "NBYBFoNG5E93"
      }
    },
    {
      "cell_type": "code",
      "execution_count": 1,
      "metadata": {
        "id": "WTgbqiaT2WCC"
      },
      "outputs": [],
      "source": [
        "# importando o data_reader\n",
        "!pip install -q yfinance\n",
        "import pandas as pd\n",
        "from pandas_datareader import data as pdr\n",
        "import yfinance as yfin\n",
        "import matplotlib.pyplot as plt\n",
        "import seaborn as sns\n",
        "import numpy as np\n",
        "import plotly.graph_objs as go\n",
        "\n",
        "yfin.pdr_override()"
      ]
    },
    {
      "cell_type": "code",
      "source": [
        "# criptomoedas analisadas: Bitcoin(BTC-USD), Ethereum(ETH-USD), Tether(USDT-USD), BNB(BNB)\n",
        "\n",
        "#data inicial e final\n",
        "start_date = '2019-08-01'\n",
        "end_date = '2021-07-30'\n",
        "\n",
        "# coletando os dataframe\n",
        "df_bitcoin = pdr.get_data_yahoo('BTC-USD', start=start_date, end=end_date)\n",
        "df_ethereum = pdr.get_data_yahoo('ETH-USD', start=start_date, end=end_date)\n",
        "df_tether = pdr.get_data_yahoo('USDT-USD', start=start_date, end=end_date)"
      ],
      "metadata": {
        "colab": {
          "base_uri": "https://localhost:8080/"
        },
        "id": "76EjLNEi3VX9",
        "outputId": "aa29909b-1b49-4466-f080-8831091a95b2"
      },
      "execution_count": 2,
      "outputs": [
        {
          "output_type": "stream",
          "name": "stdout",
          "text": [
            "[*********************100%***********************]  1 of 1 completed\n",
            "[*********************100%***********************]  1 of 1 completed\n",
            "[*********************100%***********************]  1 of 1 completed\n"
          ]
        }
      ]
    },
    {
      "cell_type": "code",
      "source": [
        "# o index de todos os dataframe ja sao as datas, sem necessidade de atualizar o indice\n",
        "df_bitcoin.info()\n",
        "#df_ethereum.info()\n",
        "#df_tether.info()\n",
        "''' etapa 1 realizada '''"
      ],
      "metadata": {
        "colab": {
          "base_uri": "https://localhost:8080/",
          "height": 261
        },
        "id": "0d8xqcs35_eb",
        "outputId": "f1d3af40-70ec-4bbd-b2fc-f5fea39ef00f"
      },
      "execution_count": 3,
      "outputs": [
        {
          "output_type": "stream",
          "name": "stdout",
          "text": [
            "<class 'pandas.core.frame.DataFrame'>\n",
            "DatetimeIndex: 729 entries, 2019-08-01 to 2021-07-29\n",
            "Data columns (total 6 columns):\n",
            " #   Column     Non-Null Count  Dtype  \n",
            "---  ------     --------------  -----  \n",
            " 0   Open       729 non-null    float64\n",
            " 1   High       729 non-null    float64\n",
            " 2   Low        729 non-null    float64\n",
            " 3   Close      729 non-null    float64\n",
            " 4   Adj Close  729 non-null    float64\n",
            " 5   Volume     729 non-null    int64  \n",
            "dtypes: float64(5), int64(1)\n",
            "memory usage: 39.9 KB\n"
          ]
        },
        {
          "output_type": "execute_result",
          "data": {
            "text/plain": [
              "' etapa 1 realizada '"
            ],
            "application/vnd.google.colaboratory.intrinsic+json": {
              "type": "string"
            }
          },
          "metadata": {},
          "execution_count": 3
        }
      ]
    },
    {
      "cell_type": "code",
      "source": [
        "#verificando se tem algum valor nan ou null\n",
        "df_bitcoin.head()\n",
        "# df_bitcoin.isna().any()"
      ],
      "metadata": {
        "colab": {
          "base_uri": "https://localhost:8080/",
          "height": 238
        },
        "id": "JrotK_csFAcQ",
        "outputId": "fa9069dc-aadc-41c1-ee15-ebb50dbb5a88"
      },
      "execution_count": 4,
      "outputs": [
        {
          "output_type": "execute_result",
          "data": {
            "text/plain": [
              "                    Open          High           Low         Close  \\\n",
              "Date                                                                 \n",
              "2019-08-01  10077.442383  10446.919922   9922.019531  10399.668945   \n",
              "2019-08-02  10402.042969  10657.953125  10371.013672  10518.174805   \n",
              "2019-08-03  10519.278320  10946.781250  10503.504883  10821.726562   \n",
              "2019-08-04  10821.632812  11009.207031  10620.278320  10970.184570   \n",
              "2019-08-05  10960.735352  11895.091797  10960.735352  11805.653320   \n",
              "\n",
              "               Adj Close       Volume  \n",
              "Date                                   \n",
              "2019-08-01  10399.668945  17165337858  \n",
              "2019-08-02  10518.174805  17489094082  \n",
              "2019-08-03  10821.726562  15352685061  \n",
              "2019-08-04  10970.184570  16530894787  \n",
              "2019-08-05  11805.653320  23875988832  "
            ],
            "text/html": [
              "\n",
              "  <div id=\"df-a31be652-a44e-4771-98d7-e4f830bd87af\">\n",
              "    <div class=\"colab-df-container\">\n",
              "      <div>\n",
              "<style scoped>\n",
              "    .dataframe tbody tr th:only-of-type {\n",
              "        vertical-align: middle;\n",
              "    }\n",
              "\n",
              "    .dataframe tbody tr th {\n",
              "        vertical-align: top;\n",
              "    }\n",
              "\n",
              "    .dataframe thead th {\n",
              "        text-align: right;\n",
              "    }\n",
              "</style>\n",
              "<table border=\"1\" class=\"dataframe\">\n",
              "  <thead>\n",
              "    <tr style=\"text-align: right;\">\n",
              "      <th></th>\n",
              "      <th>Open</th>\n",
              "      <th>High</th>\n",
              "      <th>Low</th>\n",
              "      <th>Close</th>\n",
              "      <th>Adj Close</th>\n",
              "      <th>Volume</th>\n",
              "    </tr>\n",
              "    <tr>\n",
              "      <th>Date</th>\n",
              "      <th></th>\n",
              "      <th></th>\n",
              "      <th></th>\n",
              "      <th></th>\n",
              "      <th></th>\n",
              "      <th></th>\n",
              "    </tr>\n",
              "  </thead>\n",
              "  <tbody>\n",
              "    <tr>\n",
              "      <th>2019-08-01</th>\n",
              "      <td>10077.442383</td>\n",
              "      <td>10446.919922</td>\n",
              "      <td>9922.019531</td>\n",
              "      <td>10399.668945</td>\n",
              "      <td>10399.668945</td>\n",
              "      <td>17165337858</td>\n",
              "    </tr>\n",
              "    <tr>\n",
              "      <th>2019-08-02</th>\n",
              "      <td>10402.042969</td>\n",
              "      <td>10657.953125</td>\n",
              "      <td>10371.013672</td>\n",
              "      <td>10518.174805</td>\n",
              "      <td>10518.174805</td>\n",
              "      <td>17489094082</td>\n",
              "    </tr>\n",
              "    <tr>\n",
              "      <th>2019-08-03</th>\n",
              "      <td>10519.278320</td>\n",
              "      <td>10946.781250</td>\n",
              "      <td>10503.504883</td>\n",
              "      <td>10821.726562</td>\n",
              "      <td>10821.726562</td>\n",
              "      <td>15352685061</td>\n",
              "    </tr>\n",
              "    <tr>\n",
              "      <th>2019-08-04</th>\n",
              "      <td>10821.632812</td>\n",
              "      <td>11009.207031</td>\n",
              "      <td>10620.278320</td>\n",
              "      <td>10970.184570</td>\n",
              "      <td>10970.184570</td>\n",
              "      <td>16530894787</td>\n",
              "    </tr>\n",
              "    <tr>\n",
              "      <th>2019-08-05</th>\n",
              "      <td>10960.735352</td>\n",
              "      <td>11895.091797</td>\n",
              "      <td>10960.735352</td>\n",
              "      <td>11805.653320</td>\n",
              "      <td>11805.653320</td>\n",
              "      <td>23875988832</td>\n",
              "    </tr>\n",
              "  </tbody>\n",
              "</table>\n",
              "</div>\n",
              "      <button class=\"colab-df-convert\" onclick=\"convertToInteractive('df-a31be652-a44e-4771-98d7-e4f830bd87af')\"\n",
              "              title=\"Convert this dataframe to an interactive table.\"\n",
              "              style=\"display:none;\">\n",
              "        \n",
              "  <svg xmlns=\"http://www.w3.org/2000/svg\" height=\"24px\"viewBox=\"0 0 24 24\"\n",
              "       width=\"24px\">\n",
              "    <path d=\"M0 0h24v24H0V0z\" fill=\"none\"/>\n",
              "    <path d=\"M18.56 5.44l.94 2.06.94-2.06 2.06-.94-2.06-.94-.94-2.06-.94 2.06-2.06.94zm-11 1L8.5 8.5l.94-2.06 2.06-.94-2.06-.94L8.5 2.5l-.94 2.06-2.06.94zm10 10l.94 2.06.94-2.06 2.06-.94-2.06-.94-.94-2.06-.94 2.06-2.06.94z\"/><path d=\"M17.41 7.96l-1.37-1.37c-.4-.4-.92-.59-1.43-.59-.52 0-1.04.2-1.43.59L10.3 9.45l-7.72 7.72c-.78.78-.78 2.05 0 2.83L4 21.41c.39.39.9.59 1.41.59.51 0 1.02-.2 1.41-.59l7.78-7.78 2.81-2.81c.8-.78.8-2.07 0-2.86zM5.41 20L4 18.59l7.72-7.72 1.47 1.35L5.41 20z\"/>\n",
              "  </svg>\n",
              "      </button>\n",
              "      \n",
              "  <style>\n",
              "    .colab-df-container {\n",
              "      display:flex;\n",
              "      flex-wrap:wrap;\n",
              "      gap: 12px;\n",
              "    }\n",
              "\n",
              "    .colab-df-convert {\n",
              "      background-color: #E8F0FE;\n",
              "      border: none;\n",
              "      border-radius: 50%;\n",
              "      cursor: pointer;\n",
              "      display: none;\n",
              "      fill: #1967D2;\n",
              "      height: 32px;\n",
              "      padding: 0 0 0 0;\n",
              "      width: 32px;\n",
              "    }\n",
              "\n",
              "    .colab-df-convert:hover {\n",
              "      background-color: #E2EBFA;\n",
              "      box-shadow: 0px 1px 2px rgba(60, 64, 67, 0.3), 0px 1px 3px 1px rgba(60, 64, 67, 0.15);\n",
              "      fill: #174EA6;\n",
              "    }\n",
              "\n",
              "    [theme=dark] .colab-df-convert {\n",
              "      background-color: #3B4455;\n",
              "      fill: #D2E3FC;\n",
              "    }\n",
              "\n",
              "    [theme=dark] .colab-df-convert:hover {\n",
              "      background-color: #434B5C;\n",
              "      box-shadow: 0px 1px 3px 1px rgba(0, 0, 0, 0.15);\n",
              "      filter: drop-shadow(0px 1px 2px rgba(0, 0, 0, 0.3));\n",
              "      fill: #FFFFFF;\n",
              "    }\n",
              "  </style>\n",
              "\n",
              "      <script>\n",
              "        const buttonEl =\n",
              "          document.querySelector('#df-a31be652-a44e-4771-98d7-e4f830bd87af button.colab-df-convert');\n",
              "        buttonEl.style.display =\n",
              "          google.colab.kernel.accessAllowed ? 'block' : 'none';\n",
              "\n",
              "        async function convertToInteractive(key) {\n",
              "          const element = document.querySelector('#df-a31be652-a44e-4771-98d7-e4f830bd87af');\n",
              "          const dataTable =\n",
              "            await google.colab.kernel.invokeFunction('convertToInteractive',\n",
              "                                                     [key], {});\n",
              "          if (!dataTable) return;\n",
              "\n",
              "          const docLinkHtml = 'Like what you see? Visit the ' +\n",
              "            '<a target=\"_blank\" href=https://colab.research.google.com/notebooks/data_table.ipynb>data table notebook</a>'\n",
              "            + ' to learn more about interactive tables.';\n",
              "          element.innerHTML = '';\n",
              "          dataTable['output_type'] = 'display_data';\n",
              "          await google.colab.output.renderOutput(dataTable, element);\n",
              "          const docLink = document.createElement('div');\n",
              "          docLink.innerHTML = docLinkHtml;\n",
              "          element.appendChild(docLink);\n",
              "        }\n",
              "      </script>\n",
              "    </div>\n",
              "  </div>\n",
              "  "
            ]
          },
          "metadata": {},
          "execution_count": 4
        }
      ]
    },
    {
      "cell_type": "code",
      "source": [
        "''' \n",
        "  etapa 2\n",
        "  a cotacao do dolar com o valor de abertura e fechamento esta disponivel em csv\n",
        "  no seguinte endereco\n",
        "  https://br.investing.com/currencies/usd-brl-historical-data\n",
        "\n",
        "'''"
      ],
      "metadata": {
        "id": "_-L6wgWv9A_l",
        "colab": {
          "base_uri": "https://localhost:8080/",
          "height": 53
        },
        "outputId": "4d07955b-d5bf-46e3-aa79-eaaba7dfedcb"
      },
      "execution_count": 5,
      "outputs": [
        {
          "output_type": "execute_result",
          "data": {
            "text/plain": [
              "' \\n  etapa 2\\n  a cotacao do dolar com o valor de abertura e fechamento esta disponivel em csv\\n  no seguinte endereco\\n  https://br.investing.com/currencies/usd-brl-historical-data\\n\\n'"
            ],
            "application/vnd.google.colaboratory.intrinsic+json": {
              "type": "string"
            }
          },
          "metadata": {},
          "execution_count": 5
        }
      ]
    },
    {
      "cell_type": "code",
      "source": [
        "df_dolar = pd.read_csv('https://raw.githubusercontent.com/Jadeilson08/tcc-data-science/master/USD_BRL_20190801_20210730.csv')\n",
        "\n",
        "#precisa mudar o index para a colula Data\n",
        "df_dolar.info()"
      ],
      "metadata": {
        "id": "LjSFRdmB_Ub5",
        "outputId": "7da0d8fe-a328-497c-a3f2-e5c523fe16b7",
        "colab": {
          "base_uri": "https://localhost:8080/"
        }
      },
      "execution_count": 6,
      "outputs": [
        {
          "output_type": "stream",
          "name": "stdout",
          "text": [
            "<class 'pandas.core.frame.DataFrame'>\n",
            "RangeIndex: 522 entries, 0 to 521\n",
            "Data columns (total 7 columns):\n",
            " #   Column    Non-Null Count  Dtype \n",
            "---  ------    --------------  ----- \n",
            " 0   Data      522 non-null    object\n",
            " 1   Último    522 non-null    object\n",
            " 2   Abertura  522 non-null    object\n",
            " 3   Máxima    522 non-null    object\n",
            " 4   Mínima    522 non-null    object\n",
            " 5   Vol.      505 non-null    object\n",
            " 6   Var%      522 non-null    object\n",
            "dtypes: object(7)\n",
            "memory usage: 28.7+ KB\n"
          ]
        }
      ]
    },
    {
      "cell_type": "code",
      "source": [
        "#renomeando colunas para ingles\n",
        "df_dolar = df_dolar.rename(columns={'Data': 'Date','Último': 'dolar_close', 'Abertura': 'dolar_open', 'Máxima': 'dolar_high', 'Mínima': 'dolar_low', 'Vol.' : 'dolar_volume', 'Var%': 'dolar_variation'})\n",
        "\n",
        "#convertando BR para US\n",
        "columns = ['dolar_close', 'dolar_open', 'dolar_high', 'dolar_low']\n",
        "\n",
        "for column in columns:\n",
        "  df_dolar[column] = df_dolar[column].apply(lambda x: x.replace(',', '.')).astype(np.float64)\n",
        "\n",
        "df_dolar['Date'] = pd.to_datetime(df_dolar['Date'], format='%d.%m.%Y')\n",
        "\n",
        "#alterando o index para Data\n",
        "df_dolar = df_dolar.set_index('Date')\n",
        "\n",
        "df_dolar.sort_values('Date')"
      ],
      "metadata": {
        "id": "ufIW9KLWA9qC",
        "colab": {
          "base_uri": "https://localhost:8080/",
          "height": 455
        },
        "outputId": "62ab8257-ec09-4b27-c3a2-b53940e93e7a"
      },
      "execution_count": 7,
      "outputs": [
        {
          "output_type": "execute_result",
          "data": {
            "text/plain": [
              "            dolar_close  dolar_open  dolar_high  dolar_low dolar_volume  \\\n",
              "Date                                                                      \n",
              "2019-08-01       3.8403      3.8165      3.8618     3.8115       77,21K   \n",
              "2019-08-02       3.8893      3.8411      3.8937     3.8397       68,81K   \n",
              "2019-08-05       3.9783      3.8859      3.9786     3.8859       75,39K   \n",
              "2019-08-06       3.9612      3.9758      3.9866     3.9356       71,00K   \n",
              "2019-08-07       3.9691      3.9619      3.9931     3.9448       75,52K   \n",
              "...                 ...         ...         ...        ...          ...   \n",
              "2021-07-26       5.1761      5.2051      5.2304     5.1516       68,85K   \n",
              "2021-07-27       5.1690      5.1769      5.2061     5.1486       92,09K   \n",
              "2021-07-28       5.1157      5.1710      5.1926     5.1040      112,11K   \n",
              "2021-07-29       5.0812      5.1165      5.1165     5.0406       92,46K   \n",
              "2021-07-30       5.2123      5.0773      5.2287     5.0754       89,74K   \n",
              "\n",
              "           dolar_variation  \n",
              "Date                        \n",
              "2019-08-01           0,72%  \n",
              "2019-08-02           1,28%  \n",
              "2019-08-05           2,29%  \n",
              "2019-08-06          -0,43%  \n",
              "2019-08-07           0,20%  \n",
              "...                    ...  \n",
              "2021-07-26          -0,47%  \n",
              "2021-07-27          -0,14%  \n",
              "2021-07-28          -1,03%  \n",
              "2021-07-29          -0,67%  \n",
              "2021-07-30           2,58%  \n",
              "\n",
              "[522 rows x 6 columns]"
            ],
            "text/html": [
              "\n",
              "  <div id=\"df-ac0ffd23-ab2e-432b-a3de-2ebfabe909ae\">\n",
              "    <div class=\"colab-df-container\">\n",
              "      <div>\n",
              "<style scoped>\n",
              "    .dataframe tbody tr th:only-of-type {\n",
              "        vertical-align: middle;\n",
              "    }\n",
              "\n",
              "    .dataframe tbody tr th {\n",
              "        vertical-align: top;\n",
              "    }\n",
              "\n",
              "    .dataframe thead th {\n",
              "        text-align: right;\n",
              "    }\n",
              "</style>\n",
              "<table border=\"1\" class=\"dataframe\">\n",
              "  <thead>\n",
              "    <tr style=\"text-align: right;\">\n",
              "      <th></th>\n",
              "      <th>dolar_close</th>\n",
              "      <th>dolar_open</th>\n",
              "      <th>dolar_high</th>\n",
              "      <th>dolar_low</th>\n",
              "      <th>dolar_volume</th>\n",
              "      <th>dolar_variation</th>\n",
              "    </tr>\n",
              "    <tr>\n",
              "      <th>Date</th>\n",
              "      <th></th>\n",
              "      <th></th>\n",
              "      <th></th>\n",
              "      <th></th>\n",
              "      <th></th>\n",
              "      <th></th>\n",
              "    </tr>\n",
              "  </thead>\n",
              "  <tbody>\n",
              "    <tr>\n",
              "      <th>2019-08-01</th>\n",
              "      <td>3.8403</td>\n",
              "      <td>3.8165</td>\n",
              "      <td>3.8618</td>\n",
              "      <td>3.8115</td>\n",
              "      <td>77,21K</td>\n",
              "      <td>0,72%</td>\n",
              "    </tr>\n",
              "    <tr>\n",
              "      <th>2019-08-02</th>\n",
              "      <td>3.8893</td>\n",
              "      <td>3.8411</td>\n",
              "      <td>3.8937</td>\n",
              "      <td>3.8397</td>\n",
              "      <td>68,81K</td>\n",
              "      <td>1,28%</td>\n",
              "    </tr>\n",
              "    <tr>\n",
              "      <th>2019-08-05</th>\n",
              "      <td>3.9783</td>\n",
              "      <td>3.8859</td>\n",
              "      <td>3.9786</td>\n",
              "      <td>3.8859</td>\n",
              "      <td>75,39K</td>\n",
              "      <td>2,29%</td>\n",
              "    </tr>\n",
              "    <tr>\n",
              "      <th>2019-08-06</th>\n",
              "      <td>3.9612</td>\n",
              "      <td>3.9758</td>\n",
              "      <td>3.9866</td>\n",
              "      <td>3.9356</td>\n",
              "      <td>71,00K</td>\n",
              "      <td>-0,43%</td>\n",
              "    </tr>\n",
              "    <tr>\n",
              "      <th>2019-08-07</th>\n",
              "      <td>3.9691</td>\n",
              "      <td>3.9619</td>\n",
              "      <td>3.9931</td>\n",
              "      <td>3.9448</td>\n",
              "      <td>75,52K</td>\n",
              "      <td>0,20%</td>\n",
              "    </tr>\n",
              "    <tr>\n",
              "      <th>...</th>\n",
              "      <td>...</td>\n",
              "      <td>...</td>\n",
              "      <td>...</td>\n",
              "      <td>...</td>\n",
              "      <td>...</td>\n",
              "      <td>...</td>\n",
              "    </tr>\n",
              "    <tr>\n",
              "      <th>2021-07-26</th>\n",
              "      <td>5.1761</td>\n",
              "      <td>5.2051</td>\n",
              "      <td>5.2304</td>\n",
              "      <td>5.1516</td>\n",
              "      <td>68,85K</td>\n",
              "      <td>-0,47%</td>\n",
              "    </tr>\n",
              "    <tr>\n",
              "      <th>2021-07-27</th>\n",
              "      <td>5.1690</td>\n",
              "      <td>5.1769</td>\n",
              "      <td>5.2061</td>\n",
              "      <td>5.1486</td>\n",
              "      <td>92,09K</td>\n",
              "      <td>-0,14%</td>\n",
              "    </tr>\n",
              "    <tr>\n",
              "      <th>2021-07-28</th>\n",
              "      <td>5.1157</td>\n",
              "      <td>5.1710</td>\n",
              "      <td>5.1926</td>\n",
              "      <td>5.1040</td>\n",
              "      <td>112,11K</td>\n",
              "      <td>-1,03%</td>\n",
              "    </tr>\n",
              "    <tr>\n",
              "      <th>2021-07-29</th>\n",
              "      <td>5.0812</td>\n",
              "      <td>5.1165</td>\n",
              "      <td>5.1165</td>\n",
              "      <td>5.0406</td>\n",
              "      <td>92,46K</td>\n",
              "      <td>-0,67%</td>\n",
              "    </tr>\n",
              "    <tr>\n",
              "      <th>2021-07-30</th>\n",
              "      <td>5.2123</td>\n",
              "      <td>5.0773</td>\n",
              "      <td>5.2287</td>\n",
              "      <td>5.0754</td>\n",
              "      <td>89,74K</td>\n",
              "      <td>2,58%</td>\n",
              "    </tr>\n",
              "  </tbody>\n",
              "</table>\n",
              "<p>522 rows × 6 columns</p>\n",
              "</div>\n",
              "      <button class=\"colab-df-convert\" onclick=\"convertToInteractive('df-ac0ffd23-ab2e-432b-a3de-2ebfabe909ae')\"\n",
              "              title=\"Convert this dataframe to an interactive table.\"\n",
              "              style=\"display:none;\">\n",
              "        \n",
              "  <svg xmlns=\"http://www.w3.org/2000/svg\" height=\"24px\"viewBox=\"0 0 24 24\"\n",
              "       width=\"24px\">\n",
              "    <path d=\"M0 0h24v24H0V0z\" fill=\"none\"/>\n",
              "    <path d=\"M18.56 5.44l.94 2.06.94-2.06 2.06-.94-2.06-.94-.94-2.06-.94 2.06-2.06.94zm-11 1L8.5 8.5l.94-2.06 2.06-.94-2.06-.94L8.5 2.5l-.94 2.06-2.06.94zm10 10l.94 2.06.94-2.06 2.06-.94-2.06-.94-.94-2.06-.94 2.06-2.06.94z\"/><path d=\"M17.41 7.96l-1.37-1.37c-.4-.4-.92-.59-1.43-.59-.52 0-1.04.2-1.43.59L10.3 9.45l-7.72 7.72c-.78.78-.78 2.05 0 2.83L4 21.41c.39.39.9.59 1.41.59.51 0 1.02-.2 1.41-.59l7.78-7.78 2.81-2.81c.8-.78.8-2.07 0-2.86zM5.41 20L4 18.59l7.72-7.72 1.47 1.35L5.41 20z\"/>\n",
              "  </svg>\n",
              "      </button>\n",
              "      \n",
              "  <style>\n",
              "    .colab-df-container {\n",
              "      display:flex;\n",
              "      flex-wrap:wrap;\n",
              "      gap: 12px;\n",
              "    }\n",
              "\n",
              "    .colab-df-convert {\n",
              "      background-color: #E8F0FE;\n",
              "      border: none;\n",
              "      border-radius: 50%;\n",
              "      cursor: pointer;\n",
              "      display: none;\n",
              "      fill: #1967D2;\n",
              "      height: 32px;\n",
              "      padding: 0 0 0 0;\n",
              "      width: 32px;\n",
              "    }\n",
              "\n",
              "    .colab-df-convert:hover {\n",
              "      background-color: #E2EBFA;\n",
              "      box-shadow: 0px 1px 2px rgba(60, 64, 67, 0.3), 0px 1px 3px 1px rgba(60, 64, 67, 0.15);\n",
              "      fill: #174EA6;\n",
              "    }\n",
              "\n",
              "    [theme=dark] .colab-df-convert {\n",
              "      background-color: #3B4455;\n",
              "      fill: #D2E3FC;\n",
              "    }\n",
              "\n",
              "    [theme=dark] .colab-df-convert:hover {\n",
              "      background-color: #434B5C;\n",
              "      box-shadow: 0px 1px 3px 1px rgba(0, 0, 0, 0.15);\n",
              "      filter: drop-shadow(0px 1px 2px rgba(0, 0, 0, 0.3));\n",
              "      fill: #FFFFFF;\n",
              "    }\n",
              "  </style>\n",
              "\n",
              "      <script>\n",
              "        const buttonEl =\n",
              "          document.querySelector('#df-ac0ffd23-ab2e-432b-a3de-2ebfabe909ae button.colab-df-convert');\n",
              "        buttonEl.style.display =\n",
              "          google.colab.kernel.accessAllowed ? 'block' : 'none';\n",
              "\n",
              "        async function convertToInteractive(key) {\n",
              "          const element = document.querySelector('#df-ac0ffd23-ab2e-432b-a3de-2ebfabe909ae');\n",
              "          const dataTable =\n",
              "            await google.colab.kernel.invokeFunction('convertToInteractive',\n",
              "                                                     [key], {});\n",
              "          if (!dataTable) return;\n",
              "\n",
              "          const docLinkHtml = 'Like what you see? Visit the ' +\n",
              "            '<a target=\"_blank\" href=https://colab.research.google.com/notebooks/data_table.ipynb>data table notebook</a>'\n",
              "            + ' to learn more about interactive tables.';\n",
              "          element.innerHTML = '';\n",
              "          dataTable['output_type'] = 'display_data';\n",
              "          await google.colab.output.renderOutput(dataTable, element);\n",
              "          const docLink = document.createElement('div');\n",
              "          docLink.innerHTML = docLinkHtml;\n",
              "          element.appendChild(docLink);\n",
              "        }\n",
              "      </script>\n",
              "    </div>\n",
              "  </div>\n",
              "  "
            ]
          },
          "metadata": {},
          "execution_count": 7
        }
      ]
    },
    {
      "cell_type": "code",
      "source": [
        "# visualizando dados vazios \n",
        "print(df_dolar.isna().any())\n",
        "print(df_dolar.isna().sum())\n",
        "df_dolar['dolar_volume'].head()"
      ],
      "metadata": {
        "colab": {
          "base_uri": "https://localhost:8080/"
        },
        "id": "EKM7wuqAPZDG",
        "outputId": "9a8189bc-43d1-4ea6-d655-1d04b19aaf26"
      },
      "execution_count": 8,
      "outputs": [
        {
          "output_type": "stream",
          "name": "stdout",
          "text": [
            "dolar_close        False\n",
            "dolar_open         False\n",
            "dolar_high         False\n",
            "dolar_low          False\n",
            "dolar_volume        True\n",
            "dolar_variation    False\n",
            "dtype: bool\n",
            "dolar_close         0\n",
            "dolar_open          0\n",
            "dolar_high          0\n",
            "dolar_low           0\n",
            "dolar_volume       17\n",
            "dolar_variation     0\n",
            "dtype: int64\n"
          ]
        },
        {
          "output_type": "execute_result",
          "data": {
            "text/plain": [
              "Date\n",
              "2021-07-30     89,74K\n",
              "2021-07-29     92,46K\n",
              "2021-07-28    112,11K\n",
              "2021-07-27     92,09K\n",
              "2021-07-26     68,85K\n",
              "Name: dolar_volume, dtype: object"
            ]
          },
          "metadata": {},
          "execution_count": 8
        }
      ]
    },
    {
      "cell_type": "code",
      "source": [
        "#funcao para remover k \n",
        "def remove_k(numero_k):\n",
        "  return float(numero_k.replace(',', '.').replace('K', '').replace('k',''))\n",
        "\n",
        "#funcao para add k\n",
        "def add_k(numero):\n",
        "  return f\"{str(numero).replace('.', ',')}K\""
      ],
      "metadata": {
        "id": "LNTIBKLRRHZk"
      },
      "execution_count": 9,
      "outputs": []
    },
    {
      "cell_type": "code",
      "source": [
        "#plotando hist para analise de dados\n",
        "dolar_volume = df_dolar['dolar_volume'].dropna().apply(remove_k)\n",
        "plt.hist(dolar_volume, bins=50)\n",
        "plt.title('Histograma da coluna de volume antes do tratamento')\n",
        "plt.xlabel('Volume')\n",
        "plt.ylabel('Frequência')\n",
        "plt.show()"
      ],
      "metadata": {
        "colab": {
          "base_uri": "https://localhost:8080/",
          "height": 472
        },
        "id": "Yeh6HnryW2h6",
        "outputId": "18fa45bd-fcfe-460a-f73a-d88ed5c2a139"
      },
      "execution_count": 10,
      "outputs": [
        {
          "output_type": "display_data",
          "data": {
            "text/plain": [
              "<Figure size 640x480 with 1 Axes>"
            ],
            "image/png": "[encoded data removed]"
          },
          "metadata": {}
        }
      ]
    },
    {
      "cell_type": "code",
      "source": [
        "dolar_volume = dolar_volume.sort_values()\n",
        "\n",
        "# Imprimindo as medidas estatísticas\n",
        "print(dolar_volume.describe())"
      ],
      "metadata": {
        "colab": {
          "base_uri": "https://localhost:8080/"
        },
        "id": "Dazq3Bb7Z-Ub",
        "outputId": "b6792f14-ab39-4dd6-babb-2633b798a692"
      },
      "execution_count": 11,
      "outputs": [
        {
          "output_type": "stream",
          "name": "stdout",
          "text": [
            "count    505.000000\n",
            "mean      96.975327\n",
            "std       42.635833\n",
            "min        0.000000\n",
            "25%       60.090000\n",
            "50%      100.200000\n",
            "75%      126.860000\n",
            "max      225.650000\n",
            "Name: dolar_volume, dtype: float64\n"
          ]
        }
      ]
    },
    {
      "cell_type": "code",
      "source": [
        "# como ha valores muitos extremos (225.65~0) e a media e mediana sao valores proximos\n",
        "# sera adotado a mediana como valor para efetuar preencher as linhas faltantes\n",
        "# da coluna df_dolar['dolar_volume']\n",
        "\n",
        "median_k = add_k(dolar_volume.median())\n",
        "\n",
        "df_dolar['dolar_volume'].fillna(median_k, inplace=True)\n",
        "\n",
        "print(df_dolar.isna().any())"
      ],
      "metadata": {
        "colab": {
          "base_uri": "https://localhost:8080/"
        },
        "id": "mbd3ogBWgwbp",
        "outputId": "84a09a75-91f9-4baf-d4fa-1ae839b73047"
      },
      "execution_count": 12,
      "outputs": [
        {
          "output_type": "stream",
          "name": "stdout",
          "text": [
            "dolar_close        False\n",
            "dolar_open         False\n",
            "dolar_high         False\n",
            "dolar_low          False\n",
            "dolar_volume       False\n",
            "dolar_variation    False\n",
            "dtype: bool\n"
          ]
        }
      ]
    },
    {
      "cell_type": "code",
      "source": [
        "'''fim etapa 2 '''"
      ],
      "metadata": {
        "id": "0uareKjJCWob",
        "outputId": "09f88ef4-f8b9-4b26-d7c8-960a3249ee3d",
        "colab": {
          "base_uri": "https://localhost:8080/",
          "height": 35
        }
      },
      "execution_count": 13,
      "outputs": [
        {
          "output_type": "execute_result",
          "data": {
            "text/plain": [
              "'fim etapa 2 '"
            ],
            "application/vnd.google.colaboratory.intrinsic+json": {
              "type": "string"
            }
          },
          "metadata": {},
          "execution_count": 13
        }
      ]
    },
    {
      "cell_type": "code",
      "source": [
        "'''\n",
        "  etapa 4:\n",
        "\n",
        "  Utilizar a biblioteca Matplotlib para plotar os dados e visualizar as tendências.\n",
        "'''"
      ],
      "metadata": {
        "colab": {
          "base_uri": "https://localhost:8080/",
          "height": 35
        },
        "id": "7W8rhpWa_YRZ",
        "outputId": "1da3b450-6f96-4a4e-d913-52045fe89ff9"
      },
      "execution_count": 14,
      "outputs": [
        {
          "output_type": "execute_result",
          "data": {
            "text/plain": [
              "'\\n  etapa 4:\\n\\n  Utilizar a biblioteca Matplotlib para plotar os dados e visualizar as tendências.\\n'"
            ],
            "application/vnd.google.colaboratory.intrinsic+json": {
              "type": "string"
            }
          },
          "metadata": {},
          "execution_count": 14
        }
      ]
    },
    {
      "cell_type": "code",
      "source": [
        "#plotando cnadlestick bitcoin\n",
        "fig_bitcoin = go.Figure(data=[go.Candlestick(x=df_bitcoin.index.values,\n",
        "                                             open=df_bitcoin['Open'],\n",
        "                                             close=df_bitcoin['Close'],\n",
        "                                             high=df_bitcoin['High'],\n",
        "                                             low=df_bitcoin['Low'])])\n",
        "\n",
        "fig_bitcoin.update_layout(\n",
        "    title='Histórico de preços do Bitcoin',\n",
        "    yaxis_title='Preço (USD)',\n",
        "    xaxis_title='Data')\n",
        "\n",
        "fig_bitcoin.show()"
      ],
      "metadata": {
        "colab": {
          "base_uri": "https://localhost:8080/",
          "height": 542
        },
        "id": "ByImyJCf_bXj",
        "outputId": "bba9086f-5981-45cf-f029-bb0b027f2aa8"
      },
      "execution_count": 15,
      "outputs": [
        {
          "output_type": "display_data",
          "data": {
            "text/html": [
              "<html>\n",
              "<head><meta charset=\"utf-8\" /></head>\n",
              "<body>\n",
              "    <div>            <script src=\"https://cdnjs.cloudflare.com/ajax/libs/mathjax/2.7.5/MathJax.js?config=TeX-AMS-MML_SVG\"></script><script type=\"text/javascript\">if (window.MathJax && window.MathJax.Hub && window.MathJax.Hub.Config) {window.MathJax.Hub.Config({SVG: {font: \"STIX-Web\"}});}</script>                <script type=\"text/javascript\">window.PlotlyConfig = {MathJaxConfig: 'local'};</script>\n",
              "        <script src=\"https://cdn.plot.ly/plotly-2.18.2.min.js\"></script>                <div id=\"0c6fe40e-1620-438c-acc6-6cac600aeed6\" class=\"plotly-graph-div\" style=\"height:525px; width:100%;\"></div>            <script type=\"text/javascript\">                                    window.PLOTLYENV=window.PLOTLYENV || {};                                    if (document.getElementById(\"0c6fe40e-1620-438c-acc6-6cac600aeed6\")) {                    Plotly.newPlot(                        \"0c6fe40e-1620-438c-acc6-6cac600aeed6\",                        [{\"close\":[10399.6689453125,10518.1748046875,10821.7265625,10970.1845703125,11805.6533203125,11478.1689453125,11941.96875,11966.4072265625,11862.9365234375,11354.0244140625,11523.5791015625,11382.6162109375,10895.830078125,10051.7041015625,10311.5458984375,10374.3388671875,10231.744140625,10345.810546875,10916.0537109375,10763.232421875,10138.0498046875,10131.0556640625,10407.96484375,10159.9609375,10138.517578125,10370.8203125,10185.5,9754.4228515625,9510.2001953125,9598.173828125,9630.6640625,9757.970703125,10346.7607421875,10623.5400390625,10594.4931640625,10575.533203125,10353.302734375,10517.2548828125,10441.2763671875,10334.974609375,10115.9755859375,10178.3720703125,10410.126953125,10360.546875,10358.048828125,10347.712890625,10276.7939453125,10241.2724609375,10198.248046875,10266.4150390625,10181.6416015625,10019.716796875,10070.392578125,9729.32421875,8620.56640625,8486.9931640625,8118.9677734375,8251.845703125,8245.9150390625,8104.185546875,8293.8681640625,8343.2763671875,8393.0419921875,8259.9921875,8205.939453125,8151.50048828125,7988.15576171875,8245.623046875,8228.783203125,8595.740234375,8586.4736328125,8321.7568359375,8336.5556640625,8321.005859375,8374.6865234375,8205.369140625,8047.52685546875,8103.9111328125,7973.20751953125,7988.560546875,8222.078125,8243.720703125,8078.203125,7514.671875,7493.48876953125,8660.7001953125,9244.97265625,9551.71484375,9256.1484375,9427.6875,9205.7265625,9199.5849609375,9261.1044921875,9324.7177734375,9235.3544921875,9412.6123046875,9342.52734375,9360.8798828125,9267.5615234375,8804.880859375,8813.58203125,9055.5263671875,8757.7880859375,8815.662109375,8808.2626953125,8708.0947265625,8491.9921875,8550.7607421875,8577.9755859375,8309.2861328125,8206.1455078125,8027.26806640625,7642.75,7296.57763671875,7397.796875,7047.9169921875,7146.1337890625,7218.37109375,7531.66357421875,7463.10595703125,7761.24365234375,7569.6298828125,7424.29248046875,7321.98828125,7320.1455078125,7252.03466796875,7448.3076171875,7546.99658203125,7556.23779296875,7564.34521484375,7400.8994140625,7278.11962890625,7217.42724609375,7243.13427734375,7269.6845703125,7124.673828125,7152.3017578125,6932.48046875,6640.51513671875,7276.802734375,7202.84423828125,7218.81640625,7191.15869140625,7511.5888671875,7355.62841796875,7322.5322265625,7275.15576171875,7238.966796875,7290.08837890625,7317.990234375,7422.65283203125,7292.9951171875,7193.59912109375,7200.17431640625,6985.47021484375,7344.88427734375,7410.65673828125,7411.3173828125,7769.21923828125,8163.6923828125,8079.86279296875,7879.0712890625,8166.55419921875,8037.53759765625,8192.494140625,8144.1943359375,8827.7646484375,8807.0107421875,8723.7861328125,8929.0380859375,8942.80859375,8706.2451171875,8657.642578125,8745.89453125,8680.8759765625,8406.515625,8445.4345703125,8367.84765625,8596.830078125,8909.8193359375,9358.58984375,9316.6298828125,9508.9931640625,9350.529296875,9392.875,9344.365234375,9293.521484375,9180.962890625,9613.423828125,9729.8017578125,9795.943359375,9865.119140625,10116.673828125,9856.611328125,10208.236328125,10326.0546875,10214.3798828125,10312.1162109375,9889.4248046875,9934.43359375,9690.142578125,10141.99609375,9633.38671875,9608.4755859375,9686.44140625,9663.181640625,9924.515625,9650.1748046875,9341.705078125,8820.5224609375,8784.494140625,8672.455078125,8599.5087890625,8562.4541015625,8869.669921875,8787.7861328125,8755.24609375,9078.7626953125,9122.5458984375,8909.9541015625,8108.1162109375,7923.64453125,7909.7294921875,7911.43017578125,4970.7880859375,5563.70703125,5200.3662109375,5392.31494140625,5014.47998046875,5225.62939453125,5238.4384765625,6191.19287109375,6198.7783203125,6185.06640625,5830.2548828125,6416.31494140625,6734.8037109375,6681.06298828125,6716.4404296875,6469.79833984375,6242.19384765625,5922.04296875,6429.841796875,6438.64453125,6606.7763671875,6793.62451171875,6733.38720703125,6867.52734375,6791.12939453125,7271.78125,7176.41455078125,7334.0986328125,7302.08935546875,6865.4931640625,6859.0830078125,6971.091796875,6845.03759765625,6842.427734375,6642.10986328125,7116.80419921875,7096.1845703125,7257.6650390625,7189.4248046875,6881.95849609375,6880.3232421875,7117.20751953125,7429.724609375,7550.90087890625,7569.93603515625,7679.8671875,7795.60107421875,7807.05859375,8801.0380859375,8658.5537109375,8864.7666015625,8988.5966796875,8897.46875,8912.654296875,9003.0703125,9268.76171875,9951.5185546875,9842.666015625,9593.896484375,8756.4306640625,8601.7958984375,8804.4775390625,9269.9873046875,9733.7216796875,9328.197265625,9377.013671875,9670.7392578125,9726.5751953125,9729.0380859375,9522.9814453125,9081.76171875,9182.5771484375,9209.287109375,8790.3681640625,8906.9345703125,8835.052734375,9181.017578125,9525.7509765625,9439.1240234375,9700.4140625,9461.05859375,10167.2685546875,9529.8037109375,9656.7177734375,9800.63671875,9665.533203125,9653.6796875,9758.8525390625,9771.4892578125,9795.7001953125,9870.0947265625,9321.78125,9480.84375,9475.27734375,9386.7880859375,9450.7021484375,9538.0244140625,9480.2548828125,9411.8408203125,9288.0185546875,9332.3408203125,9303.6298828125,9648.7177734375,9629.658203125,9313.6103515625,9264.8134765625,9162.91796875,9045.390625,9143.58203125,9190.8544921875,9137.9931640625,9228.3251953125,9123.41015625,9087.3037109375,9132.48828125,9073.9423828125,9375.474609375,9252.27734375,9428.3330078125,9277.9677734375,9278.8076171875,9240.3466796875,9276.5,9243.6142578125,9243.2138671875,9192.8369140625,9132.2275390625,9151.392578125,9159.0400390625,9185.8173828125,9164.2314453125,9374.8876953125,9525.36328125,9581.072265625,9536.892578125,9677.11328125,9905.1669921875,10990.873046875,10912.8232421875,11100.4677734375,11111.2138671875,11323.466796875,11759.5927734375,11053.6142578125,11246.3486328125,11205.892578125,11747.0224609375,11779.7734375,11601.47265625,11754.0458984375,11675.7392578125,11878.111328125,11410.525390625,11584.9345703125,11784.1376953125,11768.87109375,11865.6982421875,11892.8037109375,12254.40234375,11991.2333984375,11758.283203125,11878.3720703125,11592.4892578125,11681.8251953125,11664.84765625,11774.595703125,11366.134765625,11488.36328125,11323.3974609375,11542.5,11506.865234375,11711.505859375,11680.8203125,11970.478515625,11414.0341796875,10245.296875,10511.8134765625,10169.5673828125,10280.3515625,10369.5634765625,10131.5166015625,10242.34765625,10363.138671875,10400.9150390625,10442.1708984375,10323.755859375,10680.837890625,10796.951171875,10974.9052734375,10948.990234375,10944.5859375,11094.3466796875,10938.271484375,10462.259765625,10538.4599609375,10246.1865234375,10760.06640625,10692.716796875,10750.7236328125,10775.26953125,10709.65234375,10844.640625,10784.4912109375,10619.4521484375,10575.974609375,10549.3291015625,10669.5830078125,10793.33984375,10604.40625,10668.96875,10915.685546875,11064.4580078125,11296.361328125,11384.181640625,11555.36328125,11425.8994140625,11429.5068359375,11495.349609375,11322.123046875,11358.1015625,11483.359375,11742.037109375,11916.3349609375,12823.689453125,12965.8916015625,12931.5390625,13108.0625,13031.173828125,13075.248046875,13654.21875,13271.28515625,13437.8828125,13546.5224609375,13780.9951171875,13737.109375,13550.4892578125,13950.30078125,14133.70703125,15579.8486328125,15565.880859375,14833.75390625,15479.5673828125,15332.3154296875,15290.90234375,15701.33984375,16276.34375,16317.80859375,16068.138671875,15955.587890625,16716.111328125,17645.40625,17804.005859375,17817.08984375,18621.314453125,18642.232421875,18370.001953125,18364.12109375,19107.46484375,18732.12109375,17150.623046875,17108.40234375,17717.4140625,18177.484375,19625.8359375,18802.998046875,19201.091796875,19445.3984375,18699.765625,19154.23046875,19345.12109375,19191.630859375,18321.14453125,18553.916015625,18264.9921875,18058.904296875,18803.65625,19142.3828125,19246.64453125,19417.076171875,21310.59765625,22805.162109375,23137.9609375,23869.83203125,23477.294921875,22803.08203125,23783.029296875,23241.345703125,23735.94921875,24664.791015625,26437.037109375,26272.294921875,27084.80859375,27362.4375,28840.953125,29001.720703125,29374.15234375,32127.267578125,32782.0234375,31971.9140625,33992.4296875,36824.36328125,39371.04296875,40797.609375,40254.546875,38356.44140625,35566.65625,33922.9609375,37316.359375,39187.328125,36825.3671875,36178.140625,35791.27734375,36630.07421875,36069.8046875,35547.75,30825.69921875,33005.76171875,32067.642578125,32289.37890625,32366.392578125,32569.849609375,30432.546875,33466.09765625,34316.38671875,34269.5234375,33114.359375,33537.17578125,35510.2890625,37472.08984375,36926.06640625,38144.30859375,39266.01171875,38903.44140625,46196.46484375,46481.10546875,44918.18359375,47909.33203125,47504.8515625,47105.515625,48717.2890625,47945.05859375,49199.87109375,52149.0078125,51679.796875,55888.1328125,56099.51953125,57539.9453125,54207.3203125,48824.42578125,49705.33203125,47093.8515625,46339.76171875,46188.453125,45137.76953125,49631.2421875,48378.98828125,50538.2421875,48561.16796875,48927.3046875,48912.3828125,51206.69140625,52246.5234375,54824.1171875,56008.55078125,57805.12109375,57332.08984375,61243.0859375,59302.31640625,55907.19921875,56804.90234375,58870.89453125,57858.921875,58346.65234375,58313.64453125,57523.421875,54529.14453125,54738.9453125,52774.265625,51704.16015625,55137.3125,55973.51171875,55950.74609375,57750.19921875,58917.69140625,58918.83203125,59095.80859375,59384.3125,57603.890625,58758.5546875,59057.87890625,58192.359375,56048.9375,58323.953125,58245.00390625,59793.234375,60204.96484375,59893.453125,63503.45703125,63109.6953125,63314.01171875,61572.7890625,60683.8203125,56216.18359375,55724.265625,56473.03125,53906.08984375,51762.2734375,51093.65234375,50050.8671875,49004.25390625,54021.75390625,55033.1171875,54824.703125,53555.109375,57750.17578125,57828.05078125,56631.078125,57200.29296875,53333.5390625,57424.0078125,56396.515625,57356.40234375,58803.77734375,58232.31640625,55859.796875,56704.57421875,49150.53515625,49716.19140625,49880.53515625,46760.1875,46456.05859375,43537.51171875,42909.40234375,37002.44140625,40782.73828125,37304.69140625,37536.6328125,34770.58203125,38705.98046875,38402.22265625,39294.19921875,38436.96875,35697.60546875,34616.06640625,35678.12890625,37332.85546875,36684.92578125,37575.1796875,39208.765625,36894.40625,35551.95703125,35862.37890625,33560.70703125,33472.6328125,37345.12109375,36702.59765625,37334.3984375,35552.515625,39097.859375,40218.4765625,40406.26953125,38347.0625,38053.50390625,35787.24609375,35615.87109375,35698.296875,31676.693359375,32505.66015625,33723.02734375,34662.4375,31637.779296875,32186.27734375,34649.64453125,34434.3359375,35867.77734375,35040.8359375,33572.1171875,33897.046875,34668.546875,35287.78125,33746.00390625,34235.1953125,33855.328125,32877.37109375,33798.01171875,33520.51953125,34240.1875,33155.84765625,32702.025390625,32822.34765625,31780.73046875,31421.5390625,31533.068359375,31796.810546875,30817.83203125,29807.34765625,32110.693359375,32313.10546875,33581.55078125,34292.4453125,35350.1875,37337.53515625,39406.94140625,39995.90625,40008.421875],\"high\":[10446.919921875,10657.953125,10946.78125,11009.20703125,11895.091796875,12273.8212890625,12036.990234375,11979.419921875,11970.4580078125,11915.6552734375,11523.5791015625,11528.189453125,11420.0498046875,10889.556640625,10437.4111328125,10524.349609375,10452.625,10487.0703125,10916.0537109375,10947.0419921875,10798.7294921875,10232.99609375,10442.443359375,10418.0205078125,10304.6220703125,10512.328125,10381.328125,10279.3662109375,9756.7861328125,9656.1240234375,9673.220703125,9796.755859375,10396.591796875,10736.1044921875,10762.64453125,10627.26953125,10898.76171875,10558.673828125,10595.6376953125,10450.3115234375,10394.353515625,10215.9482421875,10442.25390625,10441.4892578125,10422.1337890625,10387.03515625,10386.8671875,10296.771484375,10275.9287109375,10295.6689453125,10285.8720703125,10188.09765625,10074.4443359375,10074.23828125,9804.3173828125,8744.828125,8515.685546875,8271.5205078125,8285.6171875,8261.70703125,8314.2314453125,8497.6923828125,8393.0419921875,8414.2275390625,8260.0556640625,8215.5263671875,8161.41015625,8308.4501953125,8332.71484375,8627.7060546875,8625.2724609375,8721.7802734375,8415.2421875,8470.98828125,8390.208984375,8410.71484375,8216.8125,8134.83154296875,8138.41357421875,8082.62939453125,8281.818359375,8296.6943359375,8296.6513671875,8092.99951171875,7532.86767578125,8691.5400390625,10021.744140625,9749.529296875,9805.1181640625,9516.1806640625,9426.8740234375,9383.1611328125,9275.6572265625,9377.486328125,9379.806640625,9505.0517578125,9457.41796875,9423.2373046875,9368.4765625,9272.759765625,8891.818359375,9103.826171875,9081.279296875,8853.7685546875,8836.841796875,8826.943359375,8730.873046875,8591.9970703125,8727.7890625,8653.2802734375,8408.5166015625,8237.240234375,8110.09814453125,7697.3828125,7442.2587890625,7408.5771484375,7319.85693359375,7320.23046875,7619.693359375,7730.07275390625,7781.1796875,7836.10205078125,7571.6162109375,7474.81884765625,7418.85888671875,7539.78466796875,7743.431640625,7546.99658203125,7589.95166015625,7634.6064453125,7618.091796875,7424.02294921875,7324.15625,7266.6396484375,7293.560546875,7308.83642578125,7181.07568359375,7171.1689453125,6964.0751953125,7324.98486328125,7346.6025390625,7257.921875,7223.22607421875,7518.033203125,7656.17626953125,7535.716796875,7357.02001953125,7388.302734375,7363.529296875,7399.041015625,7513.9482421875,7454.82421875,7335.2900390625,7254.33056640625,7212.1552734375,7413.71533203125,7427.3857421875,7544.4970703125,7781.8671875,8178.2158203125,8396.73828125,8082.2958984375,8166.55419921875,8218.359375,8200.0634765625,8197.7880859375,8879.51171875,8890.1171875,8846.4609375,8958.1220703125,9012.1982421875,9164.3623046875,8745.5908203125,8755.7060546875,8792.994140625,8687.7470703125,8514.6669921875,8458.453125,8602.4013671875,8977.7265625,9358.58984375,9406.431640625,9553.1259765625,9521.7060546875,9439.3232421875,9468.7978515625,9540.3720703125,9331.265625,9701.2998046875,9824.619140625,9834.716796875,9876.7490234375,10129.435546875,10165.765625,10210.052734375,10393.611328125,10457.626953125,10321.99609375,10341.5556640625,10053.96875,9938.8154296875,10161.935546875,10191.67578125,9643.216796875,9723.0146484375,9698.2314453125,9937.404296875,9951.74609375,9652.7373046875,9354.7783203125,8932.892578125,8890.4560546875,8775.6318359375,8726.796875,8921.30859375,8901.5986328125,8843.3662109375,9142.0546875,9167.6953125,9163.220703125,8914.34375,8177.79345703125,8136.9453125,7950.814453125,7929.1162109375,5838.11474609375,5625.2265625,5836.64501953125,5385.2294921875,5371.3486328125,5331.833984375,6329.73583984375,6844.26171875,6378.13525390625,6359.697265625,6443.9345703125,6789.02294921875,6892.51123046875,6735.4638671875,6793.83642578125,6467.5009765625,6250.46728515625,6517.19580078125,6504.51513671875,6612.57373046875,7088.24755859375,7003.220703125,6878.95361328125,6883.4140625,7271.78125,7427.939453125,7356.2236328125,7341.4482421875,7303.8154296875,6926.06982421875,7119.947265625,6965.61669921875,6958.55712890625,6928.66455078125,7134.45068359375,7167.18310546875,7269.95654296875,7280.52197265625,7240.29052734375,6934.5517578125,7145.86572265625,7491.78515625,7574.19580078125,7641.36376953125,7700.59423828125,7795.60107421875,7814.52734375,8871.75390625,9440.650390625,9048.0234375,9007.1875,9167.78125,8956.90625,9062.4150390625,9411.4677734375,9992.6640625,9996.7431640625,9913.86328125,9595.5810546875,9033.470703125,8949.8984375,9317.87890625,9793.2685546875,9755.828125,9564.205078125,9823.001953125,9906.0302734375,9836.0478515625,9804.7939453125,9555.2421875,9232.9365234375,9302.501953125,9288.404296875,8951.005859375,8991.9677734375,9203.3203125,9546.3193359375,9573.6669921875,9704.0302734375,9700.34375,10199.5654296875,10182.3408203125,9682.859375,9887.6103515625,9869.2373046875,9773.431640625,9768.498046875,9782.306640625,9836.369140625,9908.896484375,9938.2978515625,9540.4658203125,9493.2119140625,9482.2705078125,9504.8603515625,9579.4306640625,9540.4228515625,9482.7822265625,9440.8759765625,9394.9716796875,9401.107421875,9655.0732421875,9670.541015625,9680.3671875,9340.1611328125,9310.5166015625,9207.810546875,9197.546875,9237.5732421875,9217.8359375,9309.7548828125,9274.962890625,9202.3447265625,9183.2958984375,9162.18359375,9375.474609375,9360.6171875,9450.3359375,9431.37890625,9287.4716796875,9293.5322265625,9319.4189453125,9306.4052734375,9283.841796875,9275.3251953125,9214.3125,9182.25390625,9230.9833984375,9201.3984375,9214.2705078125,9407.2626953125,9530.5185546875,9610.2470703125,9623.3369140625,9704.556640625,10023.8076171875,11298.2216796875,11204.3271484375,11304.3974609375,11169.3564453125,11415.8642578125,11794.775390625,12034.14453125,11453.0791015625,11385.3818359375,11786.6171875,11902.3359375,11898.0380859375,11800.064453125,11806.056640625,12045.140625,11932.7109375,11748.396484375,11796.396484375,12150.994140625,11963.203125,11934.9013671875,12359.056640625,12335.70703125,12028.923828125,11900.4111328125,11899.259765625,11689.4072265625,11713.4296875,11807.6318359375,11778.2998046875,11530.052734375,11570.7861328125,11545.615234375,11585.640625,11715.2646484375,11768.876953125,12067.0810546875,11964.8232421875,11443.0224609375,10663.919921875,10581.5712890625,10353.927734375,10399.1533203125,10414.775390625,10350.54296875,10503.912109375,10434.9228515625,10578.837890625,10577.21484375,10800.0107421875,10938.6318359375,11100.1240234375,11037.4208984375,11034.908203125,11134.0927734375,11095.8701171875,10988.3046875,10568.0771484375,10537.828125,10771.056640625,10777.6962890625,10772.9990234375,10803.9765625,10945.34765625,10860.0009765625,10847.2568359375,10933.6240234375,10657.837890625,10598.9404296875,10686.0,10793.5078125,10797.578125,10680.5078125,10945.7373046875,11102.671875,11442.2109375,11428.8134765625,11698.4677734375,11548.984375,11539.9775390625,11569.9140625,11540.0615234375,11386.26171875,11483.359375,11799.0927734375,11999.91796875,13184.56640625,13161.59375,13015.9619140625,13145.06640625,13329.18359375,13225.2978515625,13759.6689453125,13837.6953125,13612.0478515625,13651.5166015625,14028.2138671875,13862.033203125,13808.3232421875,13984.9814453125,14218.7666015625,15706.404296875,15903.4375,15737.095703125,15637.3203125,15785.13671875,15450.3291015625,15916.2607421875,16305.00390625,16463.177734375,16317.80859375,16123.1103515625,16816.181640625,17782.919921875,18393.94921875,18119.546875,18773.2265625,18936.62109375,18688.96875,18711.42578125,19348.271484375,19390.96484375,18866.28515625,17445.0234375,17853.939453125,18283.62890625,19749.263671875,19845.974609375,19308.330078125,19566.19140625,19511.404296875,19160.44921875,19390.5,19411.828125,19283.478515625,18626.29296875,18553.298828125,18268.453125,18919.55078125,19381.53515625,19305.099609375,19525.0078125,21458.908203125,23642.66015625,23238.6015625,24085.85546875,24209.66015625,24059.982421875,23789.90234375,24024.490234375,23768.337890625,24710.1015625,26718.0703125,28288.83984375,27389.111328125,27370.720703125,28937.740234375,29244.876953125,29600.626953125,33155.1171875,34608.55859375,33440.21875,34437.58984375,36879.69921875,40180.3671875,41946.73828125,41436.3515625,41420.19140625,38346.53125,36568.52734375,37599.9609375,39966.40625,39577.7109375,37864.3671875,36722.3515625,37299.28515625,37755.890625,36378.328125,35552.6796875,33811.8515625,33360.9765625,32944.0078125,34802.7421875,32794.55078125,32564.029296875,33858.3125,38406.26171875,34834.70703125,34288.33203125,34638.21484375,35896.8828125,37480.1875,38592.17578125,38225.90625,40846.546875,39621.8359375,46203.9296875,48003.72265625,47145.56640625,48463.46875,48745.734375,48047.74609375,49487.640625,48875.5703125,50341.1015625,52533.9140625,52474.10546875,56113.65234375,57505.2265625,58330.5703125,57533.390625,54204.9296875,51290.13671875,51948.96875,48370.78515625,48253.26953125,46716.4296875,49784.015625,50127.51171875,52535.13671875,51735.08984375,49396.4296875,49147.21875,51384.3671875,52314.0703125,54824.1171875,57258.25390625,58091.0625,57996.62109375,61683.86328125,61597.91796875,60540.9921875,56833.1796875,58969.81640625,60116.25,59498.375,60031.28515625,58767.8984375,58471.48046875,55985.44140625,57262.3828125,53392.38671875,55137.3125,56568.21484375,56610.3125,58342.09765625,59447.22265625,59930.02734375,59586.0703125,60267.1875,60110.26953125,58913.74609375,59891.296875,59479.578125,58731.14453125,58338.73828125,58937.046875,61276.6640625,60790.5546875,61253.03515625,63742.28515625,64863.09765625,63821.671875,63594.72265625,62572.17578125,61057.45703125,57520.0546875,57062.1484375,56757.97265625,55410.23046875,52120.79296875,51167.5625,50506.01953125,54288.00390625,55416.96484375,56227.20703125,55115.84375,57900.71875,58448.33984375,57902.59375,58973.30859375,57214.1796875,57911.36328125,58363.31640625,58606.6328125,59464.61328125,59210.8828125,59519.35546875,56872.54296875,57939.36328125,51330.84375,51438.1171875,50639.6640625,49720.04296875,46623.55859375,45812.45703125,43546.1171875,42462.984375,42172.171875,38831.0546875,38289.21875,39835.140625,39776.3515625,40782.078125,40379.6171875,38856.96875,37234.5,36400.66796875,37468.25,37896.734375,38231.33984375,39478.953125,39242.484375,37917.71484375,36436.421875,36790.5703125,34017.38671875,37537.37109375,38334.32421875,37608.6953125,37408.92578125,39322.78125,40978.36328125,41295.26953125,40516.77734375,39513.671875,38187.26171875,36457.796875,36059.484375,35721.640625,33292.453125,34753.41015625,35228.8515625,35487.24609375,32637.587890625,34656.12890625,35219.890625,36542.109375,36074.7578125,35035.984375,33939.58984375,34909.26171875,35937.56640625,35284.34375,35038.53515625,34997.6640625,33907.90625,34042.29296875,34209.0703125,34584.703125,34592.15625,33327.1015625,33061.3984375,33159.640625,32218.40625,31935.9453125,32398.99609375,31885.859375,31006.1875,32752.326171875,32576.400390625,33581.55078125,34490.390625,35364.92578125,40499.67578125,39406.94140625,40816.0703125,40593.0703125],\"low\":[9922.01953125,10371.013671875,10503.5048828125,10620.2783203125,10960.7353515625,11290.7314453125,11433.701171875,11556.16796875,11709.7451171875,11323.8984375,11248.294921875,11320.951171875,10830.3271484375,10028.1357421875,9675.31640625,9855.478515625,10086.6982421875,10119.0947265625,10313.2041015625,10618.9609375,9962.7216796875,9831.462890625,10078.1923828125,9982.296875,10008.7890625,10126.2998046875,10087.30078125,9716.65625,9421.6298828125,9428.302734375,9531.7998046875,9582.9443359375,9730.650390625,10308.5478515625,10434.7099609375,10516.41796875,10292.2998046875,10348.9189453125,10409.0908203125,10144.9296875,10020.5732421875,9980.7763671875,10099.2421875,10226.5966796875,10291.6943359375,10313.0927734375,10189.744140625,10199.7392578125,10191.4697265625,9851.6923828125,10132.1865234375,10000.7080078125,9922.533203125,9727.1435546875,8370.8017578125,8325.396484375,7895.62939453125,7965.9228515625,8125.431640625,7990.4970703125,7830.7587890625,8232.6796875,8227.6953125,8146.43701171875,8151.23681640625,8071.12060546875,7958.8505859375,7905.76611328125,8185.76318359375,8169.298828125,8471.93359375,8316.181640625,8313.3408203125,8276.6123046875,8284.130859375,8182.70654296875,7985.08984375,8000.94287109375,7902.1640625,7944.77685546875,7949.439453125,8196.416015625,8074.462890625,7469.32275390625,7446.98876953125,7479.984375,8662.6220703125,9112.5419921875,9256.1484375,9232.6484375,9085.3701171875,9028.7177734375,9132.0478515625,9249.587890625,9141.251953125,9191.4853515625,9256.931640625,9305.9091796875,9202.353515625,8775.5341796875,8793.1630859375,8806.162109375,8700.6083984375,8685.427734375,8761.6513671875,8692.5517578125,8484.84375,8473.9736328125,8500.9677734375,8273.5732421875,8099.96337890625,8010.51171875,7597.3818359375,6936.70654296875,7151.41796875,7029.2890625,6617.1669921875,7098.572265625,6974.17431640625,7454.12158203125,7460.75634765625,7515.849609375,7291.341796875,7233.3994140625,7229.35693359375,7170.9228515625,7232.6767578125,7392.17529296875,7525.71142578125,7476.09130859375,7365.9853515625,7246.0439453125,7195.52734375,7164.7412109375,7227.12255859375,7097.208984375,6924.3759765625,6903.6826171875,6587.97412109375,6540.04931640625,7041.3818359375,7086.1240234375,7112.73583984375,7167.17919921875,7326.1923828125,7269.52880859375,7220.9912109375,7200.38671875,7189.93408203125,7286.9052734375,7279.865234375,7276.30810546875,7169.77783203125,7174.9443359375,6935.27001953125,6914.99609375,7309.51416015625,7400.53564453125,7409.29296875,7768.2275390625,7956.7744140625,7842.40380859375,7726.77490234375,8029.64208984375,8009.05908203125,8079.70068359375,8140.93310546875,8657.1875,8612.095703125,8677.31640625,8827.33203125,8620.080078125,8560.4736328125,8544.5205078125,8636.7470703125,8333.6376953125,8266.8408203125,8296.21875,8325.498046875,8597.30859375,8908.447265625,9269.4677734375,9230.8974609375,9230.7763671875,9313.2392578125,9217.82421875,9248.6337890625,9112.8115234375,9163.7041015625,9539.818359375,9726.0029296875,9678.91015625,9850.392578125,9784.5634765625,9729.3349609375,10202.3876953125,10116.1611328125,10125.5341796875,9874.427734375,9722.38671875,9507.6376953125,9632.3828125,9611.2236328125,9507.900390625,9589.7431640625,9600.728515625,9657.791015625,9537.04296875,9305.021484375,8704.4267578125,8577.19921875,8492.9326171875,8599.5087890625,8471.212890625,8532.630859375,8704.990234375,8712.431640625,8757.25390625,9032.0791015625,8890.744140625,8105.2529296875,7690.09814453125,7814.76318359375,7642.8125,4860.35400390625,4106.98095703125,5125.0693359375,5169.283203125,4575.35791015625,4981.9091796875,5069.3359375,5236.96875,5865.78173828125,5932.8232421875,5823.7138671875,5785.00439453125,6411.06640625,6536.92626953125,6590.962890625,6466.70166015625,6117.837890625,5920.0859375,5903.234375,6374.162109375,6202.37353515625,6595.91845703125,6673.3359375,6696.48486328125,6715.92919921875,6782.8896484375,7136.71435546875,7153.3056640625,7179.09423828125,6802.47509765625,6789.9208984375,6811.078125,6668.259765625,6793.8212890625,6633.40283203125,6555.50439453125,7050.33203125,7089.2470703125,7167.0546875,6835.5029296875,6834.4423828125,6867.78173828125,7081.5947265625,7434.181640625,7521.67236328125,7561.40771484375,7679.4189453125,7730.806640625,7786.04931640625,8533.255859375,8667.763671875,8811.3662109375,8830.9716796875,8645.0244140625,8856.8271484375,8966.7060546875,9138.322265625,9767.1728515625,9580.64453125,8395.107421875,8374.3232421875,8569.6435546875,8805.3876953125,9255.03515625,9261.3984375,9260.6943359375,9349.5458984375,9570.359375,9539.6240234375,9447.201171875,8869.9306640625,9008.638671875,9118.1083984375,8787.2509765625,8719.66796875,8757.2939453125,8834.1572265625,9148.45703125,9379.3388671875,9366.7294921875,9432.296875,9450.8994140625,9460.5712890625,9471.8466796875,9525.2470703125,9663.216796875,9591.0244140625,9458.150390625,9675.8857421875,9664.7197265625,9728.291015625,9263.0693359375,9285.8515625,9396.009765625,9347.59375,8990.17578125,9400.4453125,9327.33984375,9328.3955078125,9274.2958984375,9247.3798828125,9300.4306640625,9296.8720703125,9547.2470703125,9278.2333984375,9095.32421875,9101.73828125,8998.216796875,8975.525390625,9041.8759765625,9084.837890625,9104.7353515625,9036.623046875,9058.794921875,9053.6298828125,8977.015625,9058.6640625,9201.8154296875,9249.5,9234.9990234375,9118.001953125,9199.4853515625,9197.4501953125,9224.29296875,9171.6611328125,9171.93359375,9088.947265625,9089.2021484375,9100.82421875,9097.6328125,9137.509765625,9149.3896484375,9319.6533203125,9483.00390625,9481.4541015625,9530.2119140625,9652.84765625,9903.9697265625,10632.6318359375,10856.1416015625,10895.455078125,10987.0537109375,11239.6826171875,11018.1298828125,11012.4150390625,11094.1455078125,11158.28515625,11598.7138671875,11408.59375,11558.431640625,11548.7841796875,11662.2568359375,11195.708984375,11249.60546875,11216.8720703125,11685.455078125,11768.697265625,11737.1884765625,11806.6962890625,11954.525390625,11687.3330078125,11710.0634765625,11564.9794921875,11448.8056640625,11559.9208984375,11623.25,11189.8505859375,11296.9931640625,11185.94140625,11316.4228515625,11466.29296875,11492.3818359375,11598.318359375,11601.12890625,11290.7939453125,10182.46484375,10207.9404296875,9946.67578125,10056.8857421875,9916.4931640625,9945.1103515625,10017.2509765625,10238.1357421875,10140.8369140625,10292.38671875,10224.330078125,10266.0087890625,10656.4599609375,10704.884765625,10774.6279296875,10829.6572265625,10909.6181640625,10814.4775390625,10380.2607421875,10382.7265625,10197.865234375,10231.490234375,10578.9140625,10667.28125,10622.921875,10703.8935546875,10649.4951171875,10669.3212890625,10472.3564453125,10416.689453125,10511.1298828125,10534.3916015625,10634.6005859375,10528.890625,10562.5068359375,10562.6064453125,10846.8505859375,11056.9404296875,11288.6279296875,11240.6865234375,11321.224609375,11307.8310546875,11303.603515625,11223.0126953125,11285.345703125,11347.578125,11408.2900390625,11681.48046875,11900.9287109375,12717.09375,12752.6474609375,12885.7470703125,12910.0615234375,12822.3828125,13060.837890625,12932.2509765625,12980.0595703125,13136.1982421875,13457.5302734375,13628.3779296875,13243.16015625,13325.44140625,13580.4716796875,14102.0888671875,15226.83984375,14423.203125,14744.1103515625,14865.529296875,15124.9599609375,15290.0068359375,15534.771484375,15992.15234375,15749.193359375,15793.5341796875,15880.7060546875,16564.544921875,17352.90625,17382.5546875,17765.794921875,18444.359375,17671.384765625,18000.796875,18128.65625,18581.146484375,16351.03515625,16526.423828125,16910.65234375,17559.1171875,18178.322265625,18321.921875,18347.71875,18925.78515625,18697.193359375,18590.193359375,18897.89453125,18931.142578125,18269.9453125,17935.546875,17957.064453125,17619.533203125,18046.041015625,18734.33203125,19012.708984375,19079.841796875,19298.31640625,21234.67578125,22399.8125,22826.47265625,23147.7109375,22159.3671875,22430.60546875,22802.646484375,22777.59765625,23463.673828125,24522.689453125,25922.76953125,26207.640625,25987.298828125,27360.08984375,28201.9921875,28803.5859375,29091.181640625,32052.31640625,28722.755859375,30221.1875,33514.03515625,36491.19140625,36838.63671875,38980.875,35984.62890625,30549.599609375,32697.9765625,32584.66796875,36868.5625,34659.58984375,35633.5546875,34069.3203125,34883.84375,36069.8046875,33570.4765625,30250.75,28953.373046875,31493.16015625,31106.685546875,32087.787109375,31030.265625,29367.138671875,30023.20703125,32064.814453125,32940.1875,32270.17578125,32384.228515625,33489.21875,35443.984375,36317.5,36658.76171875,38138.38671875,37446.15234375,38076.32421875,45166.9609375,43881.15234375,44187.76171875,46424.9765625,46392.28125,47114.5078125,46347.4765625,47201.3046875,49072.37890625,51015.765625,50937.27734375,54626.55859375,55672.609375,48967.56640625,45290.58984375,47213.5,47093.8515625,44454.84375,45269.02734375,43241.6171875,45115.09375,47228.84375,48274.3203125,47656.9296875,46542.515625,47257.52734375,48918.6796875,49506.0546875,51981.83203125,53290.890625,54484.59375,55376.6484375,56217.97265625,59302.31640625,55393.1640625,53555.02734375,54528.62890625,54253.578125,56643.703125,58213.296875,56005.6171875,54288.15625,53470.6953125,52514.33203125,50856.5703125,51579.85546875,54242.91015625,55071.11328125,55139.33984375,57251.55078125,57726.41796875,58505.27734375,58869.28125,57603.890625,57168.67578125,57694.82421875,57646.80859375,55604.0234375,55879.0859375,57807.86328125,58038.70703125,59289.796875,59589.875,59869.95703125,61554.796875,62208.96484375,60222.53125,60361.3515625,52829.53515625,54368.59375,53448.046875,53695.46875,50583.8125,47714.6640625,48805.28515625,47159.484375,48852.796875,53319.1875,53887.91796875,52418.02734375,53129.6015625,57052.2734375,56141.90625,56590.87109375,53191.42578125,52969.0546875,55382.5078125,55321.84765625,56975.2109375,56482.00390625,54071.45703125,54608.65234375,49150.53515625,46980.01953125,48868.578125,46664.140625,43963.3515625,42207.2890625,42367.83203125,30681.49609375,35050.6171875,33616.453125,35383.68359375,31227.33984375,34551.08203125,36581.4296875,37905.8359375,37247.90234375,34779.0390625,33693.9296875,33520.73828125,34241.9453125,35787.0859375,35966.30859375,37243.97265625,35717.72265625,34900.4140625,35304.578125,33480.640625,31114.443359375,32475.865234375,35847.59375,36044.44921875,34728.19140625,34864.109375,38757.28515625,39609.46875,38176.03515625,37439.67578125,35255.85546875,34933.0625,33432.07421875,31295.935546875,28893.62109375,31772.6328125,32385.21484375,31350.884765625,30184.501953125,32071.7578125,33902.07421875,34252.484375,34086.15234375,32883.78125,32770.6796875,33402.6953125,34396.4765625,33213.66015625,33599.91796875,33839.2890625,32133.18359375,32318.880859375,33116.01171875,33346.73828125,32697.30859375,32261.419921875,31639.125,31175.708984375,31100.673828125,31223.990234375,31215.4921875,30563.734375,29360.955078125,29526.18359375,31745.298828125,32057.892578125,33424.859375,33881.8359375,35287.3125,36441.7265625,38862.4375,39352.05859375],\"open\":[10077.4423828125,10402.04296875,10519.2783203125,10821.6328125,10960.7353515625,11811.544921875,11476.193359375,11954.0400390625,11953.4697265625,11861.556640625,11349.740234375,11528.189453125,11385.052734375,10889.4873046875,10038.421875,10319.419921875,10358.72265625,10233.005859375,10350.283203125,10916.3466796875,10764.572265625,10142.521484375,10136.3095703125,10407.64453125,10160.7373046875,10126.2998046875,10372.826171875,10203.4267578125,9756.7861328125,9514.8447265625,9597.5390625,9630.5927734375,9757.4736328125,10345.7255859375,10621.1806640625,10588.18359375,10578.1982421875,10353.931640625,10518.1142578125,10443.228515625,10336.408203125,10123.03515625,10176.8193359375,10415.3623046875,10345.4033203125,10356.4658203125,10347.22265625,10281.513671875,10247.7958984375,10200.49609375,10266.318359375,10183.6484375,10024.115234375,10067.962890625,9729.3212890625,8603.4287109375,8487.669921875,8113.10107421875,8251.2734375,8246.037109375,8104.2265625,8299.720703125,8344.212890625,8390.7744140625,8259.494140625,8210.1494140625,8149.876953125,7989.12060546875,8246.849609375,8229.8408203125,8585.2802734375,8585.2626953125,8315.6650390625,8336.90234375,8320.83203125,8373.4580078125,8204.6748046875,8047.8125,8100.93359375,7973.8037109375,7997.80712890625,8225.115234375,8243.40234375,8076.228515625,7509.72802734375,7490.703125,8667.5771484375,9241.70703125,9565.1015625,9248.4404296875,9422.462890625,9202.4580078125,9193.9921875,9259.783203125,9324.787109375,9235.607421875,9413.0048828125,9340.8642578125,9352.3935546875,9265.3681640625,8809.46875,8812.4892578125,9056.91796875,8759.751953125,8812.033203125,8811.9365234375,8705.7080078125,8491.166015625,8549.470703125,8573.98046875,8305.134765625,8203.61328125,8023.64453125,7643.5693359375,7296.16455078125,7398.6337890625,7039.97705078125,7145.1591796875,7220.880859375,7536.8203125,7466.72705078125,7764.05712890625,7571.6162109375,7424.0361328125,7323.9755859375,7320.125,7253.24169921875,7450.5615234375,7547.265625,7551.3388671875,7561.79541015625,7397.13427734375,7277.19775390625,7216.73876953125,7244.662109375,7268.90283203125,7124.23974609375,7153.6630859375,6931.3154296875,6647.6982421875,7277.5908203125,7208.63671875,7220.59375,7191.1884765625,7508.90234375,7354.39306640625,7325.755859375,7274.79931640625,7238.14111328125,7289.03125,7317.6474609375,7420.27294921875,7294.43896484375,7194.89208984375,7202.55126953125,6984.4287109375,7345.37548828125,7410.45166015625,7410.4521484375,7768.68212890625,8161.935546875,8082.2958984375,7878.3076171875,8162.19091796875,8033.26171875,8189.77197265625,8140.93310546875,8825.34375,8812.4814453125,8725.2099609375,8927.2119140625,8941.4453125,8704.6318359375,8658.9912109375,8744.2109375,8680.650390625,8405.5673828125,8440.119140625,8364.41015625,8597.30859375,8912.5244140625,9357.470703125,9316.0166015625,9508.3134765625,9346.357421875,9389.8203125,9344.68359375,9292.841796875,9183.416015625,9617.8212890625,9726.0029296875,9793.0703125,9863.89453125,10115.5595703125,9855.8916015625,10202.3876953125,10323.9609375,10211.55078125,10313.8564453125,9889.1796875,9936.560546875,9691.23046875,10143.798828125,9629.3251953125,9611.7822265625,9687.70703125,9663.318359375,9921.5830078125,9651.3125,9338.2900390625,8825.09375,8788.728515625,8671.212890625,8599.7587890625,8563.2646484375,8865.3876953125,8788.5419921875,8760.28515625,9078.30859375,9121.6005859375,8908.2060546875,8111.146484375,7922.14697265625,7910.08984375,7913.6162109375,5017.8310546875,5573.07763671875,5201.06689453125,5385.2294921875,5002.578125,5227.11376953125,5245.41650390625,6191.65380859375,6206.521484375,6185.55810546875,5831.37451171875,6436.642578125,6738.716796875,6675.1708984375,6719.38916015625,6467.25390625,6245.62451171875,5925.53857421875,6430.6064453125,6437.3193359375,6606.7763671875,6797.396484375,6738.3828125,6862.53759765625,6788.0498046875,7273.64404296875,7179.283203125,7337.96630859375,7303.8154296875,6867.4404296875,6858.06787109375,6965.61669921875,6843.28173828125,6845.5615234375,6640.4541015625,7116.552734375,7092.29150390625,7260.92236328125,7186.87353515625,6879.7841796875,6879.4404296875,7121.30615234375,7434.181640625,7550.48291015625,7570.13916015625,7679.4189453125,7796.97021484375,7806.71240234375,8797.669921875,8672.7822265625,8869.0576171875,8983.6142578125,8895.7451171875,8912.83203125,9007.44140625,9261.8955078125,9936.162109375,9840.90625,9591.1689453125,8755.53515625,8610.3857421875,8805.3876953125,9271.3291015625,9734.291015625,9333.240234375,9374.9296875,9675.6953125,9727.0634765625,9725.3291015625,9522.740234375,9080.3349609375,9185.0625,9212.283203125,8786.107421875,8909.5859375,8837.380859375,9184.9453125,9528.35546875,9438.9140625,9700.10546875,9463.60546875,10162.9736328125,9533.7607421875,9655.8544921875,9800.2158203125,9664.904296875,9653.0029296875,9760.0634765625,9774.3603515625,9794.119140625,9870.078125,9320.6904296875,9480.7353515625,9477.5537109375,9386.03515625,9454.2666015625,9533.7841796875,9481.5673828125,9410.2939453125,9290.9599609375,9330.9267578125,9300.9150390625,9644.076171875,9632.1494140625,9314.126953125,9260.9951171875,9167.82421875,9048.4609375,9140.029296875,9185.5810546875,9145.9853515625,9231.1396484375,9124.8427734375,9084.2333984375,9126.0908203125,9072.849609375,9349.1611328125,9253.0205078125,9427.994140625,9273.357421875,9277.51171875,9241.0546875,9277.205078125,9238.703125,9241.8974609375,9191.98046875,9131.8125,9151.18359375,9158.005859375,9187.220703125,9162.5146484375,9375.080078125,9527.1416015625,9585.5146484375,9539.4853515625,9680.234375,9905.2177734375,11017.4638671875,10912.953125,11099.8330078125,11110.2109375,11322.5703125,11758.7646484375,11043.7685546875,11246.203125,11203.8232421875,11749.87109375,11778.89453125,11604.5537109375,11737.3251953125,11662.2568359375,11881.6474609375,11404.5966796875,11588.4052734375,11772.6591796875,11768.697265625,11866.685546875,11895.658203125,12251.8955078125,11990.884765625,11761.5,11878.0263671875,11585.4775390625,11679.6962890625,11663.689453125,11773.5888671875,11366.89453125,11485.6083984375,11325.2958984375,11541.0546875,11508.7138671875,11713.306640625,11679.31640625,11964.8232421875,11407.19140625,10230.365234375,10512.5302734375,10167.216796875,10280.998046875,10369.306640625,10134.1513671875,10242.330078125,10369.0283203125,10409.861328125,10452.3994140625,10328.734375,10677.7548828125,10797.76171875,10973.251953125,10951.8203125,10933.7529296875,11095.8701171875,10934.92578125,10459.6240234375,10535.4921875,10248.7861328125,10761.109375,10695.5751953125,10746.892578125,10776.61328125,10709.650390625,10843.87109375,10795.2548828125,10619.8212890625,10575.1005859375,10550.4404296875,10676.529296875,10796.306640625,10603.35546875,10669.37109375,10927.9130859375,11059.142578125,11296.08203125,11392.6357421875,11548.7197265625,11429.0478515625,11426.6025390625,11502.828125,11322.123046875,11355.982421875,11495.0380859375,11745.974609375,11913.0771484375,12801.6357421875,12971.548828125,12931.57421875,13108.0634765625,13031.201171875,13075.2421875,13654.21484375,13271.298828125,13437.8740234375,13546.5322265625,13780.9951171875,13737.0322265625,13550.451171875,13950.48828125,14133.7333984375,15579.7294921875,15565.880859375,14833.75390625,15479.595703125,15332.3505859375,15290.9091796875,15701.298828125,16276.4404296875,16317.80859375,16068.1396484375,15955.5771484375,16685.69140625,17645.19140625,17803.861328125,17817.083984375,18621.31640625,18642.232421875,18370.017578125,18365.015625,19104.41015625,18729.83984375,17153.9140625,17112.93359375,17719.634765625,18178.322265625,19633.76953125,18801.744140625,19205.92578125,19446.966796875,18698.384765625,19154.1796875,19343.12890625,19191.529296875,18320.884765625,18553.298828125,18263.9296875,18051.3203125,18806.765625,19144.4921875,19246.919921875,19418.818359375,21308.3515625,22806.796875,23132.865234375,23861.765625,23474.455078125,22794.0390625,23781.974609375,23240.203125,23733.5703125,24677.015625,26439.373046875,26280.822265625,27081.810546875,27360.08984375,28841.57421875,28994.009765625,29376.455078125,32129.408203125,32810.94921875,31977.041015625,34013.61328125,36833.875,39381.765625,40788.640625,40254.21875,38346.53125,35516.359375,33915.12109375,37325.109375,39156.70703125,36821.6484375,36163.6484375,35792.23828125,36642.234375,36050.11328125,35549.3984375,30817.625,32985.7578125,32064.376953125,32285.798828125,32358.61328125,32564.029296875,30441.041015625,34318.671875,34295.93359375,34270.87890625,33114.578125,33533.19921875,35510.8203125,37475.10546875,36931.546875,38138.38671875,39250.19140625,38886.828125,46184.9921875,46469.76171875,44898.7109375,47877.03515625,47491.203125,47114.5078125,48696.53515625,47944.45703125,49207.27734375,52140.97265625,51675.98046875,55887.3359375,56068.56640625,57532.73828125,54204.9296875,48835.0859375,49709.08203125,47180.46484375,46344.7734375,46194.015625,45159.50390625,49612.10546875,48415.81640625,50522.3046875,48527.03125,48899.23046875,48918.6796875,51174.1171875,52272.96875,54824.01171875,55963.1796875,57821.21875,57343.37109375,61221.1328125,59267.4296875,55840.78515625,56825.828125,58893.078125,57850.44140625,58332.26171875,58309.9140625,57517.890625,54511.66015625,54710.48828125,52726.74609375,51683.01171875,55137.56640625,55974.94140625,55947.8984375,57750.1328125,58930.27734375,58926.5625,59098.87890625,59397.41015625,57604.83984375,58760.875,59171.93359375,58186.5078125,56099.9140625,58326.5625,58253.77734375,59846.23046875,60175.9453125,59890.01953125,63523.75390625,63075.1953125,63258.50390625,61529.921875,60701.88671875,56191.5859375,55681.79296875,56471.12890625,53857.10546875,51739.80859375,51143.2265625,50052.83203125,49077.79296875,54030.3046875,55036.63671875,54858.08984375,53568.6640625,57714.6640625,57825.86328125,56620.2734375,57214.1796875,53252.1640625,57441.30859375,56413.953125,57352.765625,58877.390625,58250.87109375,55847.2421875,56714.53125,49735.43359375,49682.98046875,49855.49609375,46716.63671875,46415.8984375,43488.05859375,42944.9765625,36753.66796875,40596.94921875,37371.03125,37531.44921875,34700.36328125,38795.78125,38392.625,39316.890625,38507.08203125,35684.15625,34607.40625,35658.59375,37293.79296875,36699.921875,37599.41015625,39242.484375,36880.15625,35538.609375,35835.265625,33589.51953125,33416.9765625,37389.515625,36697.03125,37340.14453125,35555.7890625,39016.96875,40427.16796875,40168.69140625,38341.421875,38099.4765625,35854.52734375,35563.140625,35641.14453125,31622.376953125,32515.71484375,33682.80078125,34659.10546875,31594.6640625,32287.5234375,34679.12109375,34475.55859375,35908.38671875,35035.984375,33549.6015625,33854.421875,34665.56640625,35284.34375,33723.5078125,34225.6796875,33889.60546875,32861.671875,33811.2421875,33509.078125,34254.015625,33125.46875,32723.845703125,32827.875,31841.55078125,31397.30859375,31533.884765625,31800.01171875,30838.28515625,29796.28515625,32138.873046875,32305.958984375,33593.73046875,34290.29296875,35384.03125,37276.03515625,39503.1875,39995.453125],\"x\":[\"2019-08-01T00:00:00.000000000\",\"2019-08-02T00:00:00.000000000\",\"2019-08-03T00:00:00.000000000\",\"2019-08-04T00:00:00.000000000\",\"2019-08-05T00:00:00.000000000\",\"2019-08-06T00:00:00.000000000\",\"2019-08-07T00:00:00.000000000\",\"2019-08-08T00:00:00.000000000\",\"2019-08-09T00:00:00.000000000\",\"2019-08-10T00:00:00.000000000\",\"2019-08-11T00:00:00.000000000\",\"2019-08-12T00:00:00.000000000\",\"2019-08-13T00:00:00.000000000\",\"2019-08-14T00:00:00.000000000\",\"2019-08-15T00:00:00.000000000\",\"2019-08-16T00:00:00.000000000\",\"2019-08-17T00:00:00.000000000\",\"2019-08-18T00:00:00.000000000\",\"2019-08-19T00:00:00.000000000\",\"2019-08-20T00:00:00.000000000\",\"2019-08-21T00:00:00.000000000\",\"2019-08-22T00:00:00.000000000\",\"2019-08-23T00:00:00.000000000\",\"2019-08-24T00:00:00.000000000\",\"2019-08-25T00:00:00.000000000\",\"2019-08-26T00:00:00.000000000\",\"2019-08-27T00:00:00.000000000\",\"2019-08-28T00:00:00.000000000\",\"2019-08-29T00:00:00.000000000\",\"2019-08-30T00:00:00.000000000\",\"2019-08-31T00:00:00.000000000\",\"2019-09-01T00:00:00.000000000\",\"2019-09-02T00:00:00.000000000\",\"2019-09-03T00:00:00.000000000\",\"2019-09-04T00:00:00.000000000\",\"2019-09-05T00:00:00.000000000\",\"2019-09-06T00:00:00.000000000\",\"2019-09-07T00:00:00.000000000\",\"2019-09-08T00:00:00.000000000\",\"2019-09-09T00:00:00.000000000\",\"2019-09-10T00:00:00.000000000\",\"2019-09-11T00:00:00.000000000\",\"2019-09-12T00:00:00.000000000\",\"2019-09-13T00:00:00.000000000\",\"2019-09-14T00:00:00.000000000\",\"2019-09-15T00:00:00.000000000\",\"2019-09-16T00:00:00.000000000\",\"2019-09-17T00:00:00.000000000\",\"2019-09-18T00:00:00.000000000\",\"2019-09-19T00:00:00.000000000\",\"2019-09-20T00:00:00.000000000\",\"2019-09-21T00:00:00.000000000\",\"2019-09-22T00:00:00.000000000\",\"2019-09-23T00:00:00.000000000\",\"2019-09-24T00:00:00.000000000\",\"2019-09-25T00:00:00.000000000\",\"2019-09-26T00:00:00.000000000\",\"2019-09-27T00:00:00.000000000\",\"2019-09-28T00:00:00.000000000\",\"2019-09-29T00:00:00.000000000\",\"2019-09-30T00:00:00.000000000\",\"2019-10-01T00:00:00.000000000\",\"2019-10-02T00:00:00.000000000\",\"2019-10-03T00:00:00.000000000\",\"2019-10-04T00:00:00.000000000\",\"2019-10-05T00:00:00.000000000\",\"2019-10-06T00:00:00.000000000\",\"2019-10-07T00:00:00.000000000\",\"2019-10-08T00:00:00.000000000\",\"2019-10-09T00:00:00.000000000\",\"2019-10-10T00:00:00.000000000\",\"2019-10-11T00:00:00.000000000\",\"2019-10-12T00:00:00.000000000\",\"2019-10-13T00:00:00.000000000\",\"2019-10-14T00:00:00.000000000\",\"2019-10-15T00:00:00.000000000\",\"2019-10-16T00:00:00.000000000\",\"2019-10-17T00:00:00.000000000\",\"2019-10-18T00:00:00.000000000\",\"2019-10-19T00:00:00.000000000\",\"2019-10-20T00:00:00.000000000\",\"2019-10-21T00:00:00.000000000\",\"2019-10-22T00:00:00.000000000\",\"2019-10-23T00:00:00.000000000\",\"2019-10-24T00:00:00.000000000\",\"2019-10-25T00:00:00.000000000\",\"2019-10-26T00:00:00.000000000\",\"2019-10-27T00:00:00.000000000\",\"2019-10-28T00:00:00.000000000\",\"2019-10-29T00:00:00.000000000\",\"2019-10-30T00:00:00.000000000\",\"2019-10-31T00:00:00.000000000\",\"2019-11-01T00:00:00.000000000\",\"2019-11-02T00:00:00.000000000\",\"2019-11-03T00:00:00.000000000\",\"2019-11-04T00:00:00.000000000\",\"2019-11-05T00:00:00.000000000\",\"2019-11-06T00:00:00.000000000\",\"2019-11-07T00:00:00.000000000\",\"2019-11-08T00:00:00.000000000\",\"2019-11-09T00:00:00.000000000\",\"2019-11-10T00:00:00.000000000\",\"2019-11-11T00:00:00.000000000\",\"2019-11-12T00:00:00.000000000\",\"2019-11-13T00:00:00.000000000\",\"2019-11-14T00:00:00.000000000\",\"2019-11-15T00:00:00.000000000\",\"2019-11-16T00:00:00.000000000\",\"2019-11-17T00:00:00.000000000\",\"2019-11-18T00:00:00.000000000\",\"2019-11-19T00:00:00.000000000\",\"2019-11-20T00:00:00.000000000\",\"2019-11-21T00:00:00.000000000\",\"2019-11-22T00:00:00.000000000\",\"2019-11-23T00:00:00.000000000\",\"2019-11-24T00:00:00.000000000\",\"2019-11-25T00:00:00.000000000\",\"2019-11-26T00:00:00.000000000\",\"2019-11-27T00:00:00.000000000\",\"2019-11-28T00:00:00.000000000\",\"2019-11-29T00:00:00.000000000\",\"2019-11-30T00:00:00.000000000\",\"2019-12-01T00:00:00.000000000\",\"2019-12-02T00:00:00.000000000\",\"2019-12-03T00:00:00.000000000\",\"2019-12-04T00:00:00.000000000\",\"2019-12-05T00:00:00.000000000\",\"2019-12-06T00:00:00.000000000\",\"2019-12-07T00:00:00.000000000\",\"2019-12-08T00:00:00.000000000\",\"2019-12-09T00:00:00.000000000\",\"2019-12-10T00:00:00.000000000\",\"2019-12-11T00:00:00.000000000\",\"2019-12-12T00:00:00.000000000\",\"2019-12-13T00:00:00.000000000\",\"2019-12-14T00:00:00.000000000\",\"2019-12-15T00:00:00.000000000\",\"2019-12-16T00:00:00.000000000\",\"2019-12-17T00:00:00.000000000\",\"2019-12-18T00:00:00.000000000\",\"2019-12-19T00:00:00.000000000\",\"2019-12-20T00:00:00.000000000\",\"2019-12-21T00:00:00.000000000\",\"2019-12-22T00:00:00.000000000\",\"2019-12-23T00:00:00.000000000\",\"2019-12-24T00:00:00.000000000\",\"2019-12-25T00:00:00.000000000\",\"2019-12-26T00:00:00.000000000\",\"2019-12-27T00:00:00.000000000\",\"2019-12-28T00:00:00.000000000\",\"2019-12-29T00:00:00.000000000\",\"2019-12-30T00:00:00.000000000\",\"2019-12-31T00:00:00.000000000\",\"2020-01-01T00:00:00.000000000\",\"2020-01-02T00:00:00.000000000\",\"2020-01-03T00:00:00.000000000\",\"2020-01-04T00:00:00.000000000\",\"2020-01-05T00:00:00.000000000\",\"2020-01-06T00:00:00.000000000\",\"2020-01-07T00:00:00.000000000\",\"2020-01-08T00:00:00.000000000\",\"2020-01-09T00:00:00.000000000\",\"2020-01-10T00:00:00.000000000\",\"2020-01-11T00:00:00.000000000\",\"2020-01-12T00:00:00.000000000\",\"2020-01-13T00:00:00.000000000\",\"2020-01-14T00:00:00.000000000\",\"2020-01-15T00:00:00.000000000\",\"2020-01-16T00:00:00.000000000\",\"2020-01-17T00:00:00.000000000\",\"2020-01-18T00:00:00.000000000\",\"2020-01-19T00:00:00.000000000\",\"2020-01-20T00:00:00.000000000\",\"2020-01-21T00:00:00.000000000\",\"2020-01-22T00:00:00.000000000\",\"2020-01-23T00:00:00.000000000\",\"2020-01-24T00:00:00.000000000\",\"2020-01-25T00:00:00.000000000\",\"2020-01-26T00:00:00.000000000\",\"2020-01-27T00:00:00.000000000\",\"2020-01-28T00:00:00.000000000\",\"2020-01-29T00:00:00.000000000\",\"2020-01-30T00:00:00.000000000\",\"2020-01-31T00:00:00.000000000\",\"2020-02-01T00:00:00.000000000\",\"2020-02-02T00:00:00.000000000\",\"2020-02-03T00:00:00.000000000\",\"2020-02-04T00:00:00.000000000\",\"2020-02-05T00:00:00.000000000\",\"2020-02-06T00:00:00.000000000\",\"2020-02-07T00:00:00.000000000\",\"2020-02-08T00:00:00.000000000\",\"2020-02-09T00:00:00.000000000\",\"2020-02-10T00:00:00.000000000\",\"2020-02-11T00:00:00.000000000\",\"2020-02-12T00:00:00.000000000\",\"2020-02-13T00:00:00.000000000\",\"2020-02-14T00:00:00.000000000\",\"2020-02-15T00:00:00.000000000\",\"2020-02-16T00:00:00.000000000\",\"2020-02-17T00:00:00.000000000\",\"2020-02-18T00:00:00.000000000\",\"2020-02-19T00:00:00.000000000\",\"2020-02-20T00:00:00.000000000\",\"2020-02-21T00:00:00.000000000\",\"2020-02-22T00:00:00.000000000\",\"2020-02-23T00:00:00.000000000\",\"2020-02-24T00:00:00.000000000\",\"2020-02-25T00:00:00.000000000\",\"2020-02-26T00:00:00.000000000\",\"2020-02-27T00:00:00.000000000\",\"2020-02-28T00:00:00.000000000\",\"2020-02-29T00:00:00.000000000\",\"2020-03-01T00:00:00.000000000\",\"2020-03-02T00:00:00.000000000\",\"2020-03-03T00:00:00.000000000\",\"2020-03-04T00:00:00.000000000\",\"2020-03-05T00:00:00.000000000\",\"2020-03-06T00:00:00.000000000\",\"2020-03-07T00:00:00.000000000\",\"2020-03-08T00:00:00.000000000\",\"2020-03-09T00:00:00.000000000\",\"2020-03-10T00:00:00.000000000\",\"2020-03-11T00:00:00.000000000\",\"2020-03-12T00:00:00.000000000\",\"2020-03-13T00:00:00.000000000\",\"2020-03-14T00:00:00.000000000\",\"2020-03-15T00:00:00.000000000\",\"2020-03-16T00:00:00.000000000\",\"2020-03-17T00:00:00.000000000\",\"2020-03-18T00:00:00.000000000\",\"2020-03-19T00:00:00.000000000\",\"2020-03-20T00:00:00.000000000\",\"2020-03-21T00:00:00.000000000\",\"2020-03-22T00:00:00.000000000\",\"2020-03-23T00:00:00.000000000\",\"2020-03-24T00:00:00.000000000\",\"2020-03-25T00:00:00.000000000\",\"2020-03-26T00:00:00.000000000\",\"2020-03-27T00:00:00.000000000\",\"2020-03-28T00:00:00.000000000\",\"2020-03-29T00:00:00.000000000\",\"2020-03-30T00:00:00.000000000\",\"2020-03-31T00:00:00.000000000\",\"2020-04-01T00:00:00.000000000\",\"2020-04-02T00:00:00.000000000\",\"2020-04-03T00:00:00.000000000\",\"2020-04-04T00:00:00.000000000\",\"2020-04-05T00:00:00.000000000\",\"2020-04-06T00:00:00.000000000\",\"2020-04-07T00:00:00.000000000\",\"2020-04-08T00:00:00.000000000\",\"2020-04-09T00:00:00.000000000\",\"2020-04-10T00:00:00.000000000\",\"2020-04-11T00:00:00.000000000\",\"2020-04-12T00:00:00.000000000\",\"2020-04-13T00:00:00.000000000\",\"2020-04-14T00:00:00.000000000\",\"2020-04-15T00:00:00.000000000\",\"2020-04-16T00:00:00.000000000\",\"2020-04-17T00:00:00.000000000\",\"2020-04-18T00:00:00.000000000\",\"2020-04-19T00:00:00.000000000\",\"2020-04-20T00:00:00.000000000\",\"2020-04-21T00:00:00.000000000\",\"2020-04-22T00:00:00.000000000\",\"2020-04-23T00:00:00.000000000\",\"2020-04-24T00:00:00.000000000\",\"2020-04-25T00:00:00.000000000\",\"2020-04-26T00:00:00.000000000\",\"2020-04-27T00:00:00.000000000\",\"2020-04-28T00:00:00.000000000\",\"2020-04-29T00:00:00.000000000\",\"2020-04-30T00:00:00.000000000\",\"2020-05-01T00:00:00.000000000\",\"2020-05-02T00:00:00.000000000\",\"2020-05-03T00:00:00.000000000\",\"2020-05-04T00:00:00.000000000\",\"2020-05-05T00:00:00.000000000\",\"2020-05-06T00:00:00.000000000\",\"2020-05-07T00:00:00.000000000\",\"2020-05-08T00:00:00.000000000\",\"2020-05-09T00:00:00.000000000\",\"2020-05-10T00:00:00.000000000\",\"2020-05-11T00:00:00.000000000\",\"2020-05-12T00:00:00.000000000\",\"2020-05-13T00:00:00.000000000\",\"2020-05-14T00:00:00.000000000\",\"2020-05-15T00:00:00.000000000\",\"2020-05-16T00:00:00.000000000\",\"2020-05-17T00:00:00.000000000\",\"2020-05-18T00:00:00.000000000\",\"2020-05-19T00:00:00.000000000\",\"2020-05-20T00:00:00.000000000\",\"2020-05-21T00:00:00.000000000\",\"2020-05-22T00:00:00.000000000\",\"2020-05-23T00:00:00.000000000\",\"2020-05-24T00:00:00.000000000\",\"2020-05-25T00:00:00.000000000\",\"2020-05-26T00:00:00.000000000\",\"2020-05-27T00:00:00.000000000\",\"2020-05-28T00:00:00.000000000\",\"2020-05-29T00:00:00.000000000\",\"2020-05-30T00:00:00.000000000\",\"2020-05-31T00:00:00.000000000\",\"2020-06-01T00:00:00.000000000\",\"2020-06-02T00:00:00.000000000\",\"2020-06-03T00:00:00.000000000\",\"2020-06-04T00:00:00.000000000\",\"2020-06-05T00:00:00.000000000\",\"2020-06-06T00:00:00.000000000\",\"2020-06-07T00:00:00.000000000\",\"2020-06-08T00:00:00.000000000\",\"2020-06-09T00:00:00.000000000\",\"2020-06-10T00:00:00.000000000\",\"2020-06-11T00:00:00.000000000\",\"2020-06-12T00:00:00.000000000\",\"2020-06-13T00:00:00.000000000\",\"2020-06-14T00:00:00.000000000\",\"2020-06-15T00:00:00.000000000\",\"2020-06-16T00:00:00.000000000\",\"2020-06-17T00:00:00.000000000\",\"2020-06-18T00:00:00.000000000\",\"2020-06-19T00:00:00.000000000\",\"2020-06-20T00:00:00.000000000\",\"2020-06-21T00:00:00.000000000\",\"2020-06-22T00:00:00.000000000\",\"2020-06-23T00:00:00.000000000\",\"2020-06-24T00:00:00.000000000\",\"2020-06-25T00:00:00.000000000\",\"2020-06-26T00:00:00.000000000\",\"2020-06-27T00:00:00.000000000\",\"2020-06-28T00:00:00.000000000\",\"2020-06-29T00:00:00.000000000\",\"2020-06-30T00:00:00.000000000\",\"2020-07-01T00:00:00.000000000\",\"2020-07-02T00:00:00.000000000\",\"2020-07-03T00:00:00.000000000\",\"2020-07-04T00:00:00.000000000\",\"2020-07-05T00:00:00.000000000\",\"2020-07-06T00:00:00.000000000\",\"2020-07-07T00:00:00.000000000\",\"2020-07-08T00:00:00.000000000\",\"2020-07-09T00:00:00.000000000\",\"2020-07-10T00:00:00.000000000\",\"2020-07-11T00:00:00.000000000\",\"2020-07-12T00:00:00.000000000\",\"2020-07-13T00:00:00.000000000\",\"2020-07-14T00:00:00.000000000\",\"2020-07-15T00:00:00.000000000\",\"2020-07-16T00:00:00.000000000\",\"2020-07-17T00:00:00.000000000\",\"2020-07-18T00:00:00.000000000\",\"2020-07-19T00:00:00.000000000\",\"2020-07-20T00:00:00.000000000\",\"2020-07-21T00:00:00.000000000\",\"2020-07-22T00:00:00.000000000\",\"2020-07-23T00:00:00.000000000\",\"2020-07-24T00:00:00.000000000\",\"2020-07-25T00:00:00.000000000\",\"2020-07-26T00:00:00.000000000\",\"2020-07-27T00:00:00.000000000\",\"2020-07-28T00:00:00.000000000\",\"2020-07-29T00:00:00.000000000\",\"2020-07-30T00:00:00.000000000\",\"2020-07-31T00:00:00.000000000\",\"2020-08-01T00:00:00.000000000\",\"2020-08-02T00:00:00.000000000\",\"2020-08-03T00:00:00.000000000\",\"2020-08-04T00:00:00.000000000\",\"2020-08-05T00:00:00.000000000\",\"2020-08-06T00:00:00.000000000\",\"2020-08-07T00:00:00.000000000\",\"2020-08-08T00:00:00.000000000\",\"2020-08-09T00:00:00.000000000\",\"2020-08-10T00:00:00.000000000\",\"2020-08-11T00:00:00.000000000\",\"2020-08-12T00:00:00.000000000\",\"2020-08-13T00:00:00.000000000\",\"2020-08-14T00:00:00.000000000\",\"2020-08-15T00:00:00.000000000\",\"2020-08-16T00:00:00.000000000\",\"2020-08-17T00:00:00.000000000\",\"2020-08-18T00:00:00.000000000\",\"2020-08-19T00:00:00.000000000\",\"2020-08-20T00:00:00.000000000\",\"2020-08-21T00:00:00.000000000\",\"2020-08-22T00:00:00.000000000\",\"2020-08-23T00:00:00.000000000\",\"2020-08-24T00:00:00.000000000\",\"2020-08-25T00:00:00.000000000\",\"2020-08-26T00:00:00.000000000\",\"2020-08-27T00:00:00.000000000\",\"2020-08-28T00:00:00.000000000\",\"2020-08-29T00:00:00.000000000\",\"2020-08-30T00:00:00.000000000\",\"2020-08-31T00:00:00.000000000\",\"2020-09-01T00:00:00.000000000\",\"2020-09-02T00:00:00.000000000\",\"2020-09-03T00:00:00.000000000\",\"2020-09-04T00:00:00.000000000\",\"2020-09-05T00:00:00.000000000\",\"2020-09-06T00:00:00.000000000\",\"2020-09-07T00:00:00.000000000\",\"2020-09-08T00:00:00.000000000\",\"2020-09-09T00:00:00.000000000\",\"2020-09-10T00:00:00.000000000\",\"2020-09-11T00:00:00.000000000\",\"2020-09-12T00:00:00.000000000\",\"2020-09-13T00:00:00.000000000\",\"2020-09-14T00:00:00.000000000\",\"2020-09-15T00:00:00.000000000\",\"2020-09-16T00:00:00.000000000\",\"2020-09-17T00:00:00.000000000\",\"2020-09-18T00:00:00.000000000\",\"2020-09-19T00:00:00.000000000\",\"2020-09-20T00:00:00.000000000\",\"2020-09-21T00:00:00.000000000\",\"2020-09-22T00:00:00.000000000\",\"2020-09-23T00:00:00.000000000\",\"2020-09-24T00:00:00.000000000\",\"2020-09-25T00:00:00.000000000\",\"2020-09-26T00:00:00.000000000\",\"2020-09-27T00:00:00.000000000\",\"2020-09-28T00:00:00.000000000\",\"2020-09-29T00:00:00.000000000\",\"2020-09-30T00:00:00.000000000\",\"2020-10-01T00:00:00.000000000\",\"2020-10-02T00:00:00.000000000\",\"2020-10-03T00:00:00.000000000\",\"2020-10-04T00:00:00.000000000\",\"2020-10-05T00:00:00.000000000\",\"2020-10-06T00:00:00.000000000\",\"2020-10-07T00:00:00.000000000\",\"2020-10-08T00:00:00.000000000\",\"2020-10-09T00:00:00.000000000\",\"2020-10-10T00:00:00.000000000\",\"2020-10-11T00:00:00.000000000\",\"2020-10-12T00:00:00.000000000\",\"2020-10-13T00:00:00.000000000\",\"2020-10-14T00:00:00.000000000\",\"2020-10-15T00:00:00.000000000\",\"2020-10-16T00:00:00.000000000\",\"2020-10-17T00:00:00.000000000\",\"2020-10-18T00:00:00.000000000\",\"2020-10-19T00:00:00.000000000\",\"2020-10-20T00:00:00.000000000\",\"2020-10-21T00:00:00.000000000\",\"2020-10-22T00:00:00.000000000\",\"2020-10-23T00:00:00.000000000\",\"2020-10-24T00:00:00.000000000\",\"2020-10-25T00:00:00.000000000\",\"2020-10-26T00:00:00.000000000\",\"2020-10-27T00:00:00.000000000\",\"2020-10-28T00:00:00.000000000\",\"2020-10-29T00:00:00.000000000\",\"2020-10-30T00:00:00.000000000\",\"2020-10-31T00:00:00.000000000\",\"2020-11-01T00:00:00.000000000\",\"2020-11-02T00:00:00.000000000\",\"2020-11-03T00:00:00.000000000\",\"2020-11-04T00:00:00.000000000\",\"2020-11-05T00:00:00.000000000\",\"2020-11-06T00:00:00.000000000\",\"2020-11-07T00:00:00.000000000\",\"2020-11-08T00:00:00.000000000\",\"2020-11-09T00:00:00.000000000\",\"2020-11-10T00:00:00.000000000\",\"2020-11-11T00:00:00.000000000\",\"2020-11-12T00:00:00.000000000\",\"2020-11-13T00:00:00.000000000\",\"2020-11-14T00:00:00.000000000\",\"2020-11-15T00:00:00.000000000\",\"2020-11-16T00:00:00.000000000\",\"2020-11-17T00:00:00.000000000\",\"2020-11-18T00:00:00.000000000\",\"2020-11-19T00:00:00.000000000\",\"2020-11-20T00:00:00.000000000\",\"2020-11-21T00:00:00.000000000\",\"2020-11-22T00:00:00.000000000\",\"2020-11-23T00:00:00.000000000\",\"2020-11-24T00:00:00.000000000\",\"2020-11-25T00:00:00.000000000\",\"2020-11-26T00:00:00.000000000\",\"2020-11-27T00:00:00.000000000\",\"2020-11-28T00:00:00.000000000\",\"2020-11-29T00:00:00.000000000\",\"2020-11-30T00:00:00.000000000\",\"2020-12-01T00:00:00.000000000\",\"2020-12-02T00:00:00.000000000\",\"2020-12-03T00:00:00.000000000\",\"2020-12-04T00:00:00.000000000\",\"2020-12-05T00:00:00.000000000\",\"2020-12-06T00:00:00.000000000\",\"2020-12-07T00:00:00.000000000\",\"2020-12-08T00:00:00.000000000\",\"2020-12-09T00:00:00.000000000\",\"2020-12-10T00:00:00.000000000\",\"2020-12-11T00:00:00.000000000\",\"2020-12-12T00:00:00.000000000\",\"2020-12-13T00:00:00.000000000\",\"2020-12-14T00:00:00.000000000\",\"2020-12-15T00:00:00.000000000\",\"2020-12-16T00:00:00.000000000\",\"2020-12-17T00:00:00.000000000\",\"2020-12-18T00:00:00.000000000\",\"2020-12-19T00:00:00.000000000\",\"2020-12-20T00:00:00.000000000\",\"2020-12-21T00:00:00.000000000\",\"2020-12-22T00:00:00.000000000\",\"2020-12-23T00:00:00.000000000\",\"2020-12-24T00:00:00.000000000\",\"2020-12-25T00:00:00.000000000\",\"2020-12-26T00:00:00.000000000\",\"2020-12-27T00:00:00.000000000\",\"2020-12-28T00:00:00.000000000\",\"2020-12-29T00:00:00.000000000\",\"2020-12-30T00:00:00.000000000\",\"2020-12-31T00:00:00.000000000\",\"2021-01-01T00:00:00.000000000\",\"2021-01-02T00:00:00.000000000\",\"2021-01-03T00:00:00.000000000\",\"2021-01-04T00:00:00.000000000\",\"2021-01-05T00:00:00.000000000\",\"2021-01-06T00:00:00.000000000\",\"2021-01-07T00:00:00.000000000\",\"2021-01-08T00:00:00.000000000\",\"2021-01-09T00:00:00.000000000\",\"2021-01-10T00:00:00.000000000\",\"2021-01-11T00:00:00.000000000\",\"2021-01-12T00:00:00.000000000\",\"2021-01-13T00:00:00.000000000\",\"2021-01-14T00:00:00.000000000\",\"2021-01-15T00:00:00.000000000\",\"2021-01-16T00:00:00.000000000\",\"2021-01-17T00:00:00.000000000\",\"2021-01-18T00:00:00.000000000\",\"2021-01-19T00:00:00.000000000\",\"2021-01-20T00:00:00.000000000\",\"2021-01-21T00:00:00.000000000\",\"2021-01-22T00:00:00.000000000\",\"2021-01-23T00:00:00.000000000\",\"2021-01-24T00:00:00.000000000\",\"2021-01-25T00:00:00.000000000\",\"2021-01-26T00:00:00.000000000\",\"2021-01-27T00:00:00.000000000\",\"2021-01-28T00:00:00.000000000\",\"2021-01-29T00:00:00.000000000\",\"2021-01-30T00:00:00.000000000\",\"2021-01-31T00:00:00.000000000\",\"2021-02-01T00:00:00.000000000\",\"2021-02-02T00:00:00.000000000\",\"2021-02-03T00:00:00.000000000\",\"2021-02-04T00:00:00.000000000\",\"2021-02-05T00:00:00.000000000\",\"2021-02-06T00:00:00.000000000\",\"2021-02-07T00:00:00.000000000\",\"2021-02-08T00:00:00.000000000\",\"2021-02-09T00:00:00.000000000\",\"2021-02-10T00:00:00.000000000\",\"2021-02-11T00:00:00.000000000\",\"2021-02-12T00:00:00.000000000\",\"2021-02-13T00:00:00.000000000\",\"2021-02-14T00:00:00.000000000\",\"2021-02-15T00:00:00.000000000\",\"2021-02-16T00:00:00.000000000\",\"2021-02-17T00:00:00.000000000\",\"2021-02-18T00:00:00.000000000\",\"2021-02-19T00:00:00.000000000\",\"2021-02-20T00:00:00.000000000\",\"2021-02-21T00:00:00.000000000\",\"2021-02-22T00:00:00.000000000\",\"2021-02-23T00:00:00.000000000\",\"2021-02-24T00:00:00.000000000\",\"2021-02-25T00:00:00.000000000\",\"2021-02-26T00:00:00.000000000\",\"2021-02-27T00:00:00.000000000\",\"2021-02-28T00:00:00.000000000\",\"2021-03-01T00:00:00.000000000\",\"2021-03-02T00:00:00.000000000\",\"2021-03-03T00:00:00.000000000\",\"2021-03-04T00:00:00.000000000\",\"2021-03-05T00:00:00.000000000\",\"2021-03-06T00:00:00.000000000\",\"2021-03-07T00:00:00.000000000\",\"2021-03-08T00:00:00.000000000\",\"2021-03-09T00:00:00.000000000\",\"2021-03-10T00:00:00.000000000\",\"2021-03-11T00:00:00.000000000\",\"2021-03-12T00:00:00.000000000\",\"2021-03-13T00:00:00.000000000\",\"2021-03-14T00:00:00.000000000\",\"2021-03-15T00:00:00.000000000\",\"2021-03-16T00:00:00.000000000\",\"2021-03-17T00:00:00.000000000\",\"2021-03-18T00:00:00.000000000\",\"2021-03-19T00:00:00.000000000\",\"2021-03-20T00:00:00.000000000\",\"2021-03-21T00:00:00.000000000\",\"2021-03-22T00:00:00.000000000\",\"2021-03-23T00:00:00.000000000\",\"2021-03-24T00:00:00.000000000\",\"2021-03-25T00:00:00.000000000\",\"2021-03-26T00:00:00.000000000\",\"2021-03-27T00:00:00.000000000\",\"2021-03-28T00:00:00.000000000\",\"2021-03-29T00:00:00.000000000\",\"2021-03-30T00:00:00.000000000\",\"2021-03-31T00:00:00.000000000\",\"2021-04-01T00:00:00.000000000\",\"2021-04-02T00:00:00.000000000\",\"2021-04-03T00:00:00.000000000\",\"2021-04-04T00:00:00.000000000\",\"2021-04-05T00:00:00.000000000\",\"2021-04-06T00:00:00.000000000\",\"2021-04-07T00:00:00.000000000\",\"2021-04-08T00:00:00.000000000\",\"2021-04-09T00:00:00.000000000\",\"2021-04-10T00:00:00.000000000\",\"2021-04-11T00:00:00.000000000\",\"2021-04-12T00:00:00.000000000\",\"2021-04-13T00:00:00.000000000\",\"2021-04-14T00:00:00.000000000\",\"2021-04-15T00:00:00.000000000\",\"2021-04-16T00:00:00.000000000\",\"2021-04-17T00:00:00.000000000\",\"2021-04-18T00:00:00.000000000\",\"2021-04-19T00:00:00.000000000\",\"2021-04-20T00:00:00.000000000\",\"2021-04-21T00:00:00.000000000\",\"2021-04-22T00:00:00.000000000\",\"2021-04-23T00:00:00.000000000\",\"2021-04-24T00:00:00.000000000\",\"2021-04-25T00:00:00.000000000\",\"2021-04-26T00:00:00.000000000\",\"2021-04-27T00:00:00.000000000\",\"2021-04-28T00:00:00.000000000\",\"2021-04-29T00:00:00.000000000\",\"2021-04-30T00:00:00.000000000\",\"2021-05-01T00:00:00.000000000\",\"2021-05-02T00:00:00.000000000\",\"2021-05-03T00:00:00.000000000\",\"2021-05-04T00:00:00.000000000\",\"2021-05-05T00:00:00.000000000\",\"2021-05-06T00:00:00.000000000\",\"2021-05-07T00:00:00.000000000\",\"2021-05-08T00:00:00.000000000\",\"2021-05-09T00:00:00.000000000\",\"2021-05-10T00:00:00.000000000\",\"2021-05-11T00:00:00.000000000\",\"2021-05-12T00:00:00.000000000\",\"2021-05-13T00:00:00.000000000\",\"2021-05-14T00:00:00.000000000\",\"2021-05-15T00:00:00.000000000\",\"2021-05-16T00:00:00.000000000\",\"2021-05-17T00:00:00.000000000\",\"2021-05-18T00:00:00.000000000\",\"2021-05-19T00:00:00.000000000\",\"2021-05-20T00:00:00.000000000\",\"2021-05-21T00:00:00.000000000\",\"2021-05-22T00:00:00.000000000\",\"2021-05-23T00:00:00.000000000\",\"2021-05-24T00:00:00.000000000\",\"2021-05-25T00:00:00.000000000\",\"2021-05-26T00:00:00.000000000\",\"2021-05-27T00:00:00.000000000\",\"2021-05-28T00:00:00.000000000\",\"2021-05-29T00:00:00.000000000\",\"2021-05-30T00:00:00.000000000\",\"2021-05-31T00:00:00.000000000\",\"2021-06-01T00:00:00.000000000\",\"2021-06-02T00:00:00.000000000\",\"2021-06-03T00:00:00.000000000\",\"2021-06-04T00:00:00.000000000\",\"2021-06-05T00:00:00.000000000\",\"2021-06-06T00:00:00.000000000\",\"2021-06-07T00:00:00.000000000\",\"2021-06-08T00:00:00.000000000\",\"2021-06-09T00:00:00.000000000\",\"2021-06-10T00:00:00.000000000\",\"2021-06-11T00:00:00.000000000\",\"2021-06-12T00:00:00.000000000\",\"2021-06-13T00:00:00.000000000\",\"2021-06-14T00:00:00.000000000\",\"2021-06-15T00:00:00.000000000\",\"2021-06-16T00:00:00.000000000\",\"2021-06-17T00:00:00.000000000\",\"2021-06-18T00:00:00.000000000\",\"2021-06-19T00:00:00.000000000\",\"2021-06-20T00:00:00.000000000\",\"2021-06-21T00:00:00.000000000\",\"2021-06-22T00:00:00.000000000\",\"2021-06-23T00:00:00.000000000\",\"2021-06-24T00:00:00.000000000\",\"2021-06-25T00:00:00.000000000\",\"2021-06-26T00:00:00.000000000\",\"2021-06-27T00:00:00.000000000\",\"2021-06-28T00:00:00.000000000\",\"2021-06-29T00:00:00.000000000\",\"2021-06-30T00:00:00.000000000\",\"2021-07-01T00:00:00.000000000\",\"2021-07-02T00:00:00.000000000\",\"2021-07-03T00:00:00.000000000\",\"2021-07-04T00:00:00.000000000\",\"2021-07-05T00:00:00.000000000\",\"2021-07-06T00:00:00.000000000\",\"2021-07-07T00:00:00.000000000\",\"2021-07-08T00:00:00.000000000\",\"2021-07-09T00:00:00.000000000\",\"2021-07-10T00:00:00.000000000\",\"2021-07-11T00:00:00.000000000\",\"2021-07-12T00:00:00.000000000\",\"2021-07-13T00:00:00.000000000\",\"2021-07-14T00:00:00.000000000\",\"2021-07-15T00:00:00.000000000\",\"2021-07-16T00:00:00.000000000\",\"2021-07-17T00:00:00.000000000\",\"2021-07-18T00:00:00.000000000\",\"2021-07-19T00:00:00.000000000\",\"2021-07-20T00:00:00.000000000\",\"2021-07-21T00:00:00.000000000\",\"2021-07-22T00:00:00.000000000\",\"2021-07-23T00:00:00.000000000\",\"2021-07-24T00:00:00.000000000\",\"2021-07-25T00:00:00.000000000\",\"2021-07-26T00:00:00.000000000\",\"2021-07-27T00:00:00.000000000\",\"2021-07-28T00:00:00.000000000\",\"2021-07-29T00:00:00.000000000\"],\"type\":\"candlestick\"}],                        {\"template\":{\"data\":{\"histogram2dcontour\":[{\"type\":\"histogram2dcontour\",\"colorbar\":{\"outlinewidth\":0,\"ticks\":\"\"},\"colorscale\":[[0.0,\"#0d0887\"],[0.1111111111111111,\"#46039f\"],[0.2222222222222222,\"#7201a8\"],[0.3333333333333333,\"#9c179e\"],[0.4444444444444444,\"#bd3786\"],[0.5555555555555556,\"#d8576b\"],[0.6666666666666666,\"#ed7953\"],[0.7777777777777778,\"#fb9f3a\"],[0.8888888888888888,\"#fdca26\"],[1.0,\"#f0f921\"]]}],\"choropleth\":[{\"type\":\"choropleth\",\"colorbar\":{\"outlinewidth\":0,\"ticks\":\"\"}}],\"histogram2d\":[{\"type\":\"histogram2d\",\"colorbar\":{\"outlinewidth\":0,\"ticks\":\"\"},\"colorscale\":[[0.0,\"#0d0887\"],[0.1111111111111111,\"#46039f\"],[0.2222222222222222,\"#7201a8\"],[0.3333333333333333,\"#9c179e\"],[0.4444444444444444,\"#bd3786\"],[0.5555555555555556,\"#d8576b\"],[0.6666666666666666,\"#ed7953\"],[0.7777777777777778,\"#fb9f3a\"],[0.8888888888888888,\"#fdca26\"],[1.0,\"#f0f921\"]]}],\"heatmap\":[{\"type\":\"heatmap\",\"colorbar\":{\"outlinewidth\":0,\"ticks\":\"\"},\"colorscale\":[[0.0,\"#0d0887\"],[0.1111111111111111,\"#46039f\"],[0.2222222222222222,\"#7201a8\"],[0.3333333333333333,\"#9c179e\"],[0.4444444444444444,\"#bd3786\"],[0.5555555555555556,\"#d8576b\"],[0.6666666666666666,\"#ed7953\"],[0.7777777777777778,\"#fb9f3a\"],[0.8888888888888888,\"#fdca26\"],[1.0,\"#f0f921\"]]}],\"heatmapgl\":[{\"type\":\"heatmapgl\",\"colorbar\":{\"outlinewidth\":0,\"ticks\":\"\"},\"colorscale\":[[0.0,\"#0d0887\"],[0.1111111111111111,\"#46039f\"],[0.2222222222222222,\"#7201a8\"],[0.3333333333333333,\"#9c179e\"],[0.4444444444444444,\"#bd3786\"],[0.5555555555555556,\"#d8576b\"],[0.6666666666666666,\"#ed7953\"],[0.7777777777777778,\"#fb9f3a\"],[0.8888888888888888,\"#fdca26\"],[1.0,\"#f0f921\"]]}],\"contourcarpet\":[{\"type\":\"contourcarpet\",\"colorbar\":{\"outlinewidth\":0,\"ticks\":\"\"}}],\"contour\":[{\"type\":\"contour\",\"colorbar\":{\"outlinewidth\":0,\"ticks\":\"\"},\"colorscale\":[[0.0,\"#0d0887\"],[0.1111111111111111,\"#46039f\"],[0.2222222222222222,\"#7201a8\"],[0.3333333333333333,\"#9c179e\"],[0.4444444444444444,\"#bd3786\"],[0.5555555555555556,\"#d8576b\"],[0.6666666666666666,\"#ed7953\"],[0.7777777777777778,\"#fb9f3a\"],[0.8888888888888888,\"#fdca26\"],[1.0,\"#f0f921\"]]}],\"surface\":[{\"type\":\"surface\",\"colorbar\":{\"outlinewidth\":0,\"ticks\":\"\"},\"colorscale\":[[0.0,\"#0d0887\"],[0.1111111111111111,\"#46039f\"],[0.2222222222222222,\"#7201a8\"],[0.3333333333333333,\"#9c179e\"],[0.4444444444444444,\"#bd3786\"],[0.5555555555555556,\"#d8576b\"],[0.6666666666666666,\"#ed7953\"],[0.7777777777777778,\"#fb9f3a\"],[0.8888888888888888,\"#fdca26\"],[1.0,\"#f0f921\"]]}],\"mesh3d\":[{\"type\":\"mesh3d\",\"colorbar\":{\"outlinewidth\":0,\"ticks\":\"\"}}],\"scatter\":[{\"fillpattern\":{\"fillmode\":\"overlay\",\"size\":10,\"solidity\":0.2},\"type\":\"scatter\"}],\"parcoords\":[{\"type\":\"parcoords\",\"line\":{\"colorbar\":{\"outlinewidth\":0,\"ticks\":\"\"}}}],\"scatterpolargl\":[{\"type\":\"scatterpolargl\",\"marker\":{\"colorbar\":{\"outlinewidth\":0,\"ticks\":\"\"}}}],\"bar\":[{\"error_x\":{\"color\":\"#2a3f5f\"},\"error_y\":{\"color\":\"#2a3f5f\"},\"marker\":{\"line\":{\"color\":\"#E5ECF6\",\"width\":0.5},\"pattern\":{\"fillmode\":\"overlay\",\"size\":10,\"solidity\":0.2}},\"type\":\"bar\"}],\"scattergeo\":[{\"type\":\"scattergeo\",\"marker\":{\"colorbar\":{\"outlinewidth\":0,\"ticks\":\"\"}}}],\"scatterpolar\":[{\"type\":\"scatterpolar\",\"marker\":{\"colorbar\":{\"outlinewidth\":0,\"ticks\":\"\"}}}],\"histogram\":[{\"marker\":{\"pattern\":{\"fillmode\":\"overlay\",\"size\":10,\"solidity\":0.2}},\"type\":\"histogram\"}],\"scattergl\":[{\"type\":\"scattergl\",\"marker\":{\"colorbar\":{\"outlinewidth\":0,\"ticks\":\"\"}}}],\"scatter3d\":[{\"type\":\"scatter3d\",\"line\":{\"colorbar\":{\"outlinewidth\":0,\"ticks\":\"\"}},\"marker\":{\"colorbar\":{\"outlinewidth\":0,\"ticks\":\"\"}}}],\"scattermapbox\":[{\"type\":\"scattermapbox\",\"marker\":{\"colorbar\":{\"outlinewidth\":0,\"ticks\":\"\"}}}],\"scatterternary\":[{\"type\":\"scatterternary\",\"marker\":{\"colorbar\":{\"outlinewidth\":0,\"ticks\":\"\"}}}],\"scattercarpet\":[{\"type\":\"scattercarpet\",\"marker\":{\"colorbar\":{\"outlinewidth\":0,\"ticks\":\"\"}}}],\"carpet\":[{\"aaxis\":{\"endlinecolor\":\"#2a3f5f\",\"gridcolor\":\"white\",\"linecolor\":\"white\",\"minorgridcolor\":\"white\",\"startlinecolor\":\"#2a3f5f\"},\"baxis\":{\"endlinecolor\":\"#2a3f5f\",\"gridcolor\":\"white\",\"linecolor\":\"white\",\"minorgridcolor\":\"white\",\"startlinecolor\":\"#2a3f5f\"},\"type\":\"carpet\"}],\"table\":[{\"cells\":{\"fill\":{\"color\":\"#EBF0F8\"},\"line\":{\"color\":\"white\"}},\"header\":{\"fill\":{\"color\":\"#C8D4E3\"},\"line\":{\"color\":\"white\"}},\"type\":\"table\"}],\"barpolar\":[{\"marker\":{\"line\":{\"color\":\"#E5ECF6\",\"width\":0.5},\"pattern\":{\"fillmode\":\"overlay\",\"size\":10,\"solidity\":0.2}},\"type\":\"barpolar\"}],\"pie\":[{\"automargin\":true,\"type\":\"pie\"}]},\"layout\":{\"autotypenumbers\":\"strict\",\"colorway\":[\"#636efa\",\"#EF553B\",\"#00cc96\",\"#ab63fa\",\"#FFA15A\",\"#19d3f3\",\"#FF6692\",\"#B6E880\",\"#FF97FF\",\"#FECB52\"],\"font\":{\"color\":\"#2a3f5f\"},\"hovermode\":\"closest\",\"hoverlabel\":{\"align\":\"left\"},\"paper_bgcolor\":\"white\",\"plot_bgcolor\":\"#E5ECF6\",\"polar\":{\"bgcolor\":\"#E5ECF6\",\"angularaxis\":{\"gridcolor\":\"white\",\"linecolor\":\"white\",\"ticks\":\"\"},\"radialaxis\":{\"gridcolor\":\"white\",\"linecolor\":\"white\",\"ticks\":\"\"}},\"ternary\":{\"bgcolor\":\"#E5ECF6\",\"aaxis\":{\"gridcolor\":\"white\",\"linecolor\":\"white\",\"ticks\":\"\"},\"baxis\":{\"gridcolor\":\"white\",\"linecolor\":\"white\",\"ticks\":\"\"},\"caxis\":{\"gridcolor\":\"white\",\"linecolor\":\"white\",\"ticks\":\"\"}},\"coloraxis\":{\"colorbar\":{\"outlinewidth\":0,\"ticks\":\"\"}},\"colorscale\":{\"sequential\":[[0.0,\"#0d0887\"],[0.1111111111111111,\"#46039f\"],[0.2222222222222222,\"#7201a8\"],[0.3333333333333333,\"#9c179e\"],[0.4444444444444444,\"#bd3786\"],[0.5555555555555556,\"#d8576b\"],[0.6666666666666666,\"#ed7953\"],[0.7777777777777778,\"#fb9f3a\"],[0.8888888888888888,\"#fdca26\"],[1.0,\"#f0f921\"]],\"sequentialminus\":[[0.0,\"#0d0887\"],[0.1111111111111111,\"#46039f\"],[0.2222222222222222,\"#7201a8\"],[0.3333333333333333,\"#9c179e\"],[0.4444444444444444,\"#bd3786\"],[0.5555555555555556,\"#d8576b\"],[0.6666666666666666,\"#ed7953\"],[0.7777777777777778,\"#fb9f3a\"],[0.8888888888888888,\"#fdca26\"],[1.0,\"#f0f921\"]],\"diverging\":[[0,\"#8e0152\"],[0.1,\"#c51b7d\"],[0.2,\"#de77ae\"],[0.3,\"#f1b6da\"],[0.4,\"#fde0ef\"],[0.5,\"#f7f7f7\"],[0.6,\"#e6f5d0\"],[0.7,\"#b8e186\"],[0.8,\"#7fbc41\"],[0.9,\"#4d9221\"],[1,\"#276419\"]]},\"xaxis\":{\"gridcolor\":\"white\",\"linecolor\":\"white\",\"ticks\":\"\",\"title\":{\"standoff\":15},\"zerolinecolor\":\"white\",\"automargin\":true,\"zerolinewidth\":2},\"yaxis\":{\"gridcolor\":\"white\",\"linecolor\":\"white\",\"ticks\":\"\",\"title\":{\"standoff\":15},\"zerolinecolor\":\"white\",\"automargin\":true,\"zerolinewidth\":2},\"scene\":{\"xaxis\":{\"backgroundcolor\":\"#E5ECF6\",\"gridcolor\":\"white\",\"linecolor\":\"white\",\"showbackground\":true,\"ticks\":\"\",\"zerolinecolor\":\"white\",\"gridwidth\":2},\"yaxis\":{\"backgroundcolor\":\"#E5ECF6\",\"gridcolor\":\"white\",\"linecolor\":\"white\",\"showbackground\":true,\"ticks\":\"\",\"zerolinecolor\":\"white\",\"gridwidth\":2},\"zaxis\":{\"backgroundcolor\":\"#E5ECF6\",\"gridcolor\":\"white\",\"linecolor\":\"white\",\"showbackground\":true,\"ticks\":\"\",\"zerolinecolor\":\"white\",\"gridwidth\":2}},\"shapedefaults\":{\"line\":{\"color\":\"#2a3f5f\"}},\"annotationdefaults\":{\"arrowcolor\":\"#2a3f5f\",\"arrowhead\":0,\"arrowwidth\":1},\"geo\":{\"bgcolor\":\"white\",\"landcolor\":\"#E5ECF6\",\"subunitcolor\":\"white\",\"showland\":true,\"showlakes\":true,\"lakecolor\":\"white\"},\"title\":{\"x\":0.05},\"mapbox\":{\"style\":\"light\"}}},\"title\":{\"text\":\"Hist\\u00f3rico de pre\\u00e7os do Bitcoin\"},\"yaxis\":{\"title\":{\"text\":\"Pre\\u00e7o (USD)\"}},\"xaxis\":{\"title\":{\"text\":\"Data\"}}},                        {\"responsive\": true}                    ).then(function(){\n",
              "                            \n",
              "var gd = document.getElementById('0c6fe40e-1620-438c-acc6-6cac600aeed6');\n",
              "var x = new MutationObserver(function (mutations, observer) {{\n",
              "        var display = window.getComputedStyle(gd).display;\n",
              "        if (!display || display === 'none') {{\n",
              "            console.log([gd, 'removed!']);\n",
              "            Plotly.purge(gd);\n",
              "            observer.disconnect();\n",
              "        }}\n",
              "}});\n",
              "\n",
              "// Listen for the removal of the full notebook cells\n",
              "var notebookContainer = gd.closest('#notebook-container');\n",
              "if (notebookContainer) {{\n",
              "    x.observe(notebookContainer, {childList: true});\n",
              "}}\n",
              "\n",
              "// Listen for the clearing of the current output cell\n",
              "var outputEl = gd.closest('.output');\n",
              "if (outputEl) {{\n",
              "    x.observe(outputEl, {childList: true});\n",
              "}}\n",
              "\n",
              "                        })                };                            </script>        </div>\n",
              "</body>\n",
              "</html>"
            ]
          },
          "metadata": {}
        }
      ]
    },
    {
      "cell_type": "code",
      "source": [
        "#plotando cnadlestick dolar\n",
        "fig_dolar = go.Figure(data=[go.Candlestick(x=df_dolar.index.values,\n",
        "                                             open=df_dolar['dolar_open'],\n",
        "                                             close=df_dolar['dolar_close'],\n",
        "                                             high=df_dolar['dolar_high'],\n",
        "                                             low=df_dolar['dolar_low'])])\n",
        "\n",
        "fig_dolar.update_layout(\n",
        "    title='Histórico de preços do Dolar',\n",
        "    yaxis_title='Preço (USD)',\n",
        "    xaxis_title='Data')\n",
        "\n",
        "fig_dolar.show()"
      ],
      "metadata": {
        "colab": {
          "base_uri": "https://localhost:8080/",
          "height": 542
        },
        "id": "91I7J1v0Amcn",
        "outputId": "e7769fe9-e78d-4f0a-cee1-8ff182cb5bce"
      },
      "execution_count": 16,
      "outputs": [
        {
          "output_type": "display_data",
          "data": {
            "text/html": [
              "<html>\n",
              "<head><meta charset=\"utf-8\" /></head>\n",
              "<body>\n",
              "    <div>            <script src=\"https://cdnjs.cloudflare.com/ajax/libs/mathjax/2.7.5/MathJax.js?config=TeX-AMS-MML_SVG\"></script><script type=\"text/javascript\">if (window.MathJax && window.MathJax.Hub && window.MathJax.Hub.Config) {window.MathJax.Hub.Config({SVG: {font: \"STIX-Web\"}});}</script>                <script type=\"text/javascript\">window.PlotlyConfig = {MathJaxConfig: 'local'};</script>\n",
              "        <script src=\"https://cdn.plot.ly/plotly-2.18.2.min.js\"></script>                <div id=\"8fc1d835-72e2-436e-a86f-3f4d827ecd8d\" class=\"plotly-graph-div\" style=\"height:525px; width:100%;\"></div>            <script type=\"text/javascript\">                                    window.PLOTLYENV=window.PLOTLYENV || {};                                    if (document.getElementById(\"8fc1d835-72e2-436e-a86f-3f4d827ecd8d\")) {                    Plotly.newPlot(                        \"8fc1d835-72e2-436e-a86f-3f4d827ecd8d\",                        [{\"close\":[5.2123,5.0812,5.1157,5.169,5.1761,5.2006,5.2003,5.1874,5.2205,5.2519,5.1147,5.11,5.0706,5.1622,5.173,5.2597,5.2579,5.2315,5.1969,5.091,5.0575,5.0476,4.9686,4.9559,4.9244,4.9335,4.9137,4.9667,4.9574,5.013,5.0894,5.0059,5.0545,5.0437,5.0601,5.1171,5.0552,5.0621,5.0325,5.0451,5.0495,5.0775,5.0754,5.1509,5.2172,5.2244,5.2383,5.3115,5.3312,5.3175,5.3617,5.2825,5.3094,5.2605,5.2729,5.2728,5.309,5.3061,5.2208,5.2272,5.2368,5.276,5.3542,5.4435,5.442,5.4366,5.3375,5.343,5.449,5.4364,5.4751,5.4448,5.569,5.5687,5.5461,5.5883,5.6162,5.6526,5.7166,5.7333,5.6821,5.572,5.6143,5.5904,5.6632,5.7075,5.7071,5.6315,5.7745,5.7799,5.7566,5.6475,5.6209,5.5214,5.5045,5.4917,5.5604,5.5832,5.6246,5.6156,5.5518,5.5357,5.672,5.8025,5.8755,5.6908,5.6693,5.6193,5.6761,5.6418,5.5986,5.5308,5.4062,5.4409,5.4659,5.3823,5.427,5.4105,5.3695,5.3701,5.3698,5.3665,5.386,5.3781,5.3657,5.3704,5.4266,5.3534,5.368,5.4322,5.4625,5.441,5.4138,5.3552,5.4665,5.4666,5.3506,5.2917,5.3578,5.2957,5.2927,5.1967,5.299,5.3226,5.489,5.4178,5.4101,5.3139,5.2854,5.2968,5.194,5.194,5.1937,5.2099,5.2461,5.2167,5.2165,5.2164,5.1597,5.1222,5.1022,5.0582,5.0838,5.0842,5.1189,5.0656,5.0256,5.1708,5.1202,5.099,5.1557,5.1515,5.2175,5.2061,5.3319,5.3438,5.3365,5.3237,5.3736,5.439,5.3797,5.3054,5.3629,5.3281,5.4152,5.4582,5.4581,5.391,5.4147,5.3858,5.3647,5.525,5.6635,5.756,5.7425,5.7446,5.779,5.7457,5.7055,5.6229,5.6175,5.5893,5.6066,5.6054,5.6069,5.6428,5.6126,5.5912,5.5693,5.5316,5.5318,5.5987,5.6097,5.593,5.5743,5.6851,5.6437,5.6112,5.6344,5.6627,5.5624,5.5089,5.5943,5.4704,5.4131,5.3876,5.2394,5.2377,5.2748,5.2706,5.3189,5.321,5.3078,5.3638,5.2997,5.3012,5.2914,5.3403,5.396,5.4914,5.3881,5.5691,5.6054,5.5075,5.61,5.6192,5.5568,5.5575,5.4666,5.509,5.4204,5.369,5.4333,5.38,5.4812,5.4383,5.3315,5.2902,5.29,5.3213,5.224,5.1534,5.1692,5.1533,5.1447,5.2329,5.2112,5.1166,5.1713,5.3283,5.3849,5.3311,5.3698,5.3674,5.404,5.3238,5.3413,5.3422,5.379,5.3562,5.3158,5.3596,5.3174,5.4661,5.4034,5.484,5.3561,5.3467,5.1542,5.2524,5.3105,5.3776,5.2286,5.243,5.1557,5.0505,4.976,4.9732,4.8992,4.823,4.9585,5.119,5.0622,5.2014,5.3633,5.3361,5.4045,5.2733,5.345,5.4461,5.5338,5.5507,5.6925,5.754,5.719,5.8554,5.8115,5.8852,5.8856,5.818,5.7319,5.8307,5.714,5.5783,5.545,5.4856,5.4858,5.3348,5.4999,5.6526,5.5907,5.5335,5.458,5.3163,5.3168,5.2363,5.2333,5.2367,5.1621,5.1994,5.1063,5.107,5.1233,5.2214,5.2863,5.3506,5.2533,5.2493,5.2046,5.1936,5.0997,5.0219,5.0366,5.0995,5.1447,5.064,5.096,5.1075,5.01,5.0005,4.8596,4.7916,4.8152,4.6439,4.7246,4.6272,4.6076,4.585,4.5148,4.4744,4.4735,4.4863,4.4505,4.3883,4.3883,4.3897,4.3935,4.3653,4.3559,4.3272,4.2976,4.3502,4.3552,4.3318,4.3251,4.3206,4.2825,4.2357,4.2547,4.248,4.2824,4.2432,4.2306,4.1945,4.2077,4.1816,4.1707,4.1829,4.2126,4.1902,4.162,4.1851,4.1756,4.133,4.1469,4.0962,4.0928,4.0649,4.0679,4.0618,4.0672,4.0263,4.0195,4.0195,4.0195,4.0459,4.056,4.0838,4.0838,4.0836,4.1025,4.0697,4.0634,4.0718,4.0632,4.1082,4.0908,4.1242,4.147,4.1425,4.1414,4.186,4.208,4.2066,4.2234,4.2367,4.1903,4.2638,4.2332,4.2269,4.1966,4.1932,4.1965,4.1945,4.218,4.1962,4.1951,4.1705,4.1677,4.1518,4.1635,4.1007,4.0837,3.9938,4.0156,3.9904,4.0184,3.9909,3.9986,3.991,4.0038,4.0414,4.0345,4.0819,4.1294,4.1118,4.1643,4.1518,4.1807,4.1265,4.1097,4.1095,4.1104,4.0954,4.1071,4.0556,4.084,4.1293,4.1591,4.1556,4.1602,4.1711,4.1491,4.165,4.1638,4.148,4.1678,4.1112,4.0777,4.081,4.0849,4.0608,4.068,4.0808,4.0953,4.0618,4.1095,4.0951,4.1681,4.1871,4.1454,4.1687,4.1682,4.1311,4.1571,4.1198,4.0707,4.0269,4.0542,4.0743,4.0058,3.991,4.0526,3.966,3.9855,3.9416,3.9199,3.9691,3.9612,3.9783,3.8893,3.8403],\"high\":[5.2287,5.1165,5.1926,5.2061,5.2304,5.2332,5.2249,5.2782,5.295,5.2591,5.1281,5.1389,5.1656,5.2232,5.285,5.2597,5.3145,5.2815,5.2175,5.1007,5.0745,5.0557,5.0241,4.9714,4.9724,4.975,4.972,4.9802,5.0459,5.0824,5.11,5.076,5.0821,5.1052,5.119,5.1395,5.0922,5.0863,5.0689,5.0703,5.1154,5.0786,5.1754,5.2212,5.2632,5.2664,5.3133,5.3435,5.3474,5.3746,5.371,5.3109,5.3261,5.2814,5.3205,5.309,5.3331,5.3198,5.2823,5.2526,5.2952,5.3752,5.4478,5.4843,5.4561,5.4489,5.3798,5.4561,5.4673,5.4904,5.524,5.5669,5.5695,5.5883,5.6224,5.6781,5.6603,5.7359,5.7562,5.7425,5.6852,5.6174,5.655,5.6698,5.7101,5.708,5.7276,5.7768,5.8034,5.8069,5.7589,5.6821,5.6432,5.5509,5.5483,5.564,5.586,5.6827,5.6344,5.6568,5.5873,5.6215,5.8144,5.8787,5.8769,5.7232,5.6852,5.7729,5.734,5.6427,5.6093,5.539,5.4454,5.4843,5.5342,5.4706,5.4535,5.4331,5.3707,5.3701,5.4127,5.4118,5.4378,5.4478,5.4208,5.4562,5.4571,5.3945,5.4326,5.4863,5.5061,5.4604,5.4205,5.4783,5.467,5.4875,5.4006,5.3589,5.3685,5.3229,5.3108,5.3034,5.355,5.4942,5.5166,5.4408,5.4187,5.3597,5.3547,5.2972,5.194,5.194,5.2361,5.2473,5.3124,5.2167,5.2168,5.2215,5.1731,5.225,5.1177,5.089,5.144,5.1248,5.1307,5.0886,5.1328,5.1981,5.1392,5.1701,5.1846,5.231,5.2554,5.3301,5.3971,5.3801,5.3584,5.3956,5.445,5.4507,5.3959,5.3805,5.3725,5.4233,5.4584,5.5264,5.4904,5.4571,5.419,5.426,5.5742,5.631,5.7655,5.7667,5.743,5.8084,5.7923,5.7927,5.7127,5.6638,5.6354,5.6264,5.6294,5.6267,5.6503,5.6549,5.6483,5.6055,5.6262,5.5316,5.6013,5.6469,5.6396,5.6174,5.6774,5.6929,5.6652,5.6705,5.6786,5.676,5.589,5.6243,5.5991,5.4967,5.4979,5.3988,5.2924,5.2785,5.3016,5.3235,5.3495,5.3325,5.362,5.4096,5.2997,5.3285,5.3752,5.4309,5.4927,5.4955,5.5702,5.6223,5.6342,5.6136,5.6148,5.6332,5.6733,5.5619,5.5168,5.5149,5.4422,5.4362,5.4925,5.4822,5.4907,5.4394,5.3721,5.3204,5.3775,5.3364,5.2298,5.2165,5.1845,5.2045,5.2332,5.2533,5.2262,5.2028,5.3291,5.3913,5.3923,5.3928,5.391,5.4542,5.4098,5.3946,5.3788,5.3941,5.4017,5.3592,5.3807,5.3752,5.4763,5.5082,5.4847,5.4931,5.3802,5.3549,5.2537,5.2968,5.3821,5.3884,5.2716,5.2549,5.226,5.1118,4.9765,4.9789,4.9359,4.9774,5.1196,5.1418,5.2109,5.37,5.4196,5.463,5.4113,5.361,5.4432,5.5301,5.6256,5.7062,5.7572,5.7687,5.8565,5.8734,5.9718,5.944,5.8949,5.8404,5.8285,5.877,5.7235,5.6044,5.6143,5.4861,5.4875,5.528,5.6221,5.726,5.7484,5.5567,5.4644,5.3176,5.3201,5.2761,5.2683,5.2684,5.2123,5.2088,5.1068,5.1533,5.2489,5.2868,5.3114,5.3541,5.285,5.2747,5.215,5.1961,5.1283,5.0657,5.1115,5.1441,5.1464,5.0659,5.2133,5.255,5.0881,5.0683,4.8816,5.0284,4.8289,4.6881,4.7954,4.6713,4.6666,4.588,4.5183,4.5065,4.5138,4.5015,4.4553,4.3883,4.3883,4.4066,4.3981,4.3778,4.3641,4.3317,4.3506,4.3834,4.3557,4.3405,4.3289,4.3238,4.2862,4.2611,4.2622,4.283,4.2904,4.2722,4.2326,4.2164,4.2317,4.1916,4.1904,4.2056,4.2174,4.1917,4.1935,4.2006,4.1859,4.1616,4.1469,4.1045,4.0933,4.0784,4.0924,4.0743,4.0718,4.0412,4.0195,4.0201,4.0484,4.0614,4.0827,4.0838,4.0838,4.1015,4.1025,4.0703,4.0764,4.0779,4.1096,4.1178,4.1311,4.147,4.1513,4.1608,4.1947,4.2236,4.2104,4.2245,4.2536,4.2457,4.2659,4.2709,4.2773,4.2311,4.2011,4.2241,4.198,4.2194,4.2197,4.1962,4.1989,4.19,4.1877,4.1713,4.1707,4.1035,4.0903,4.0239,4.0198,4.0208,4.0383,4.0331,4.0052,4.0097,4.0427,4.0465,4.093,4.1313,4.1524,4.1667,4.1818,4.1878,4.1814,4.1383,4.1261,4.1377,4.112,4.1137,4.1096,4.0856,4.1305,4.1821,4.1862,4.172,4.1712,4.1733,4.1956,4.1842,4.185,4.1842,4.1688,4.1147,4.117,4.107,4.0959,4.0712,4.0928,4.1302,4.105,4.1094,4.1159,4.1677,4.1861,4.1901,4.1715,4.1776,4.169,4.1954,4.1691,4.132,4.0811,4.0551,4.0761,4.0758,4.008,4.0516,4.0539,4.0136,4.0126,3.9504,3.9703,3.9931,3.9866,3.9786,3.8937,3.8618],\"low\":[5.0754,5.0406,5.104,5.1486,5.1516,5.1583,5.167,5.1806,5.2017,5.1185,5.0742,5.053,5.0666,5.1479,5.163,5.2597,5.2186,5.1696,5.0753,5.0459,4.9875,4.9467,4.9527,4.9209,4.9171,4.8929,4.8977,4.9373,4.9569,5.0129,4.9815,5.0068,4.9921,5.0378,5.0539,5.053,5.0323,5.0181,5.0205,5.0172,5.032,5.078,5.0671,5.1399,5.1982,5.2088,5.2346,5.2867,5.2941,5.3095,5.2703,5.2698,5.2586,5.2298,5.2442,5.2442,5.2519,5.2105,5.2031,5.1964,5.2025,5.2567,5.3512,5.4113,5.3727,5.3351,5.3274,5.3429,5.4097,5.4318,5.4239,5.4373,5.5692,5.5022,5.5262,5.5658,5.5951,5.6452,5.6629,5.63,5.5665,5.5381,5.5474,5.5742,5.6323,5.708,5.608,5.6214,5.72,5.7359,5.6448,5.6174,5.4891,5.464,5.4936,5.4482,5.4763,5.5688,5.5574,5.531,5.5324,5.5257,5.6443,5.7675,5.6898,5.6517,5.5438,5.5806,5.6386,5.5553,5.4905,5.4173,5.3895,5.4075,5.4296,5.367,5.3854,5.3707,5.3685,5.3701,5.3542,5.333,5.3485,5.3535,5.3042,5.3436,5.3544,5.3201,5.3425,5.4205,5.4189,5.3898,5.3491,5.3119,5.467,5.3547,5.2314,5.2823,5.242,5.2355,5.1971,5.191,5.2702,5.3116,5.4491,5.3208,5.2989,5.2318,5.2515,5.1197,5.194,5.194,5.1519,5.1645,5.1639,5.2167,5.2168,5.1287,5.1094,5.1122,5.0592,5.0421,5.0645,5.0761,5.01,5.0288,5.0143,5.0868,5.0627,5.057,5.1164,5.1209,5.2059,5.2031,5.2737,5.3195,5.2955,5.3037,5.3703,5.3387,5.2847,5.2972,5.274,5.3221,5.3636,5.4497,5.3526,5.3738,5.3345,5.2235,5.3586,5.5223,5.6434,5.6487,5.743,5.7217,5.7439,5.7017,5.5986,5.61,5.5651,5.5627,5.5707,5.5472,5.5665,5.5975,5.5886,5.5349,5.521,5.5316,5.5104,5.5761,5.5507,5.483,5.55,5.6072,5.5739,5.587,5.6061,5.5127,5.5097,5.4926,5.47,5.3828,5.3876,5.2391,5.2264,5.2102,5.2192,5.2613,5.2583,5.2681,5.2785,5.3156,5.2997,5.2465,5.2722,5.3407,5.3344,5.385,5.3855,5.5435,5.5089,5.5049,5.5589,5.5554,5.5381,5.4345,5.4206,5.4089,5.3573,5.349,5.3819,5.3716,5.3517,5.3401,5.2915,5.2317,5.2744,5.2115,5.1531,5.1435,5.1145,5.1346,5.141,5.1596,5.1188,5.0827,5.1647,5.3269,5.3155,5.3064,5.2917,5.3306,5.3105,5.3128,5.245,5.3178,5.288,5.2609,5.3047,5.2656,5.2985,5.4005,5.3892,5.3608,5.2663,5.1525,5.1336,5.1972,5.2881,5.2277,5.1814,5.0477,5.0786,4.9765,4.974,4.838,4.8229,4.8175,4.9328,5.0244,5.0159,5.1989,5.31,5.319,5.2743,5.2691,5.334,5.4321,5.5229,5.5473,5.6694,5.682,5.6942,5.759,5.8022,5.8176,5.742,5.7651,5.7178,5.7158,5.575,5.4818,5.5187,5.4861,5.3306,5.334,5.471,5.5345,5.5339,5.4008,5.3028,5.3166,5.2642,5.2066,5.2007,5.2157,5.1484,5.1038,5.1068,5.0487,5.1112,5.1819,5.2235,5.2557,5.2221,5.221,5.168,5.1128,5.0235,4.9733,4.9726,5.042,5.0045,4.9827,5.0679,5.0082,4.9607,4.8593,4.6426,4.7496,4.6406,4.6352,4.7064,4.6101,4.5839,4.5019,4.4517,4.4692,4.4634,4.4461,4.3875,4.3875,4.3883,4.37,4.3573,4.3564,4.3252,4.2968,4.2903,4.3075,4.3231,4.2962,4.3034,4.2794,4.2083,4.2257,4.2228,4.2294,4.244,4.2304,4.1806,4.1863,4.1799,4.1646,4.1551,4.1716,4.1826,4.1624,4.1584,4.1585,4.1303,4.1205,4.0877,4.0612,4.057,4.0396,4.0543,4.0458,4.0253,4.0032,4.0195,4.0195,4.0084,4.0339,4.0453,4.0838,4.0838,4.0571,4.0576,4.0503,4.0463,4.0503,4.0544,4.0751,4.0813,4.1067,4.1323,4.1229,4.133,4.1764,4.1817,4.184,4.207,4.1824,4.19,4.2264,4.2271,4.1868,4.1719,4.1821,4.1942,4.1851,4.1692,4.1962,4.1617,4.1625,4.1421,4.1351,4.1079,4.0413,3.9747,3.9828,3.9743,3.9691,3.9638,3.9823,3.9834,3.9725,3.9913,3.9994,4.0274,4.0598,4.1114,4.1098,4.1269,4.1476,4.121,4.1073,4.0802,4.0891,4.0705,4.0739,4.056,4.0496,4.0743,4.127,4.1524,4.1411,4.1437,4.1208,4.1448,4.1531,4.1447,4.1461,4.1076,4.0726,4.0708,4.0745,4.0429,4.0266,4.0507,4.0793,4.048,4.0531,4.0703,4.0887,4.1497,4.1414,4.1197,4.1413,4.1265,4.1212,4.1022,4.0493,4.016,4.0129,4.0268,3.9897,3.9749,3.9785,3.9624,3.9454,3.9382,3.92,3.9184,3.9448,3.9356,3.8859,3.8397,3.8115],\"open\":[5.0773,5.1165,5.171,5.1769,5.2051,5.1858,5.1887,5.2413,5.2526,5.1185,5.1129,5.0715,5.1638,5.1747,5.2586,5.2597,5.2315,5.1969,5.0968,5.0551,5.0507,4.9705,4.9566,4.9325,4.9307,4.9143,4.9671,4.9577,5.0143,5.0753,5.0077,5.0587,5.0436,5.0601,5.1153,5.059,5.065,5.0363,5.0468,5.0466,5.1135,5.0786,5.1515,5.221,5.2228,5.24,5.312,5.3289,5.3204,5.3664,5.2843,5.3098,5.2608,5.2754,5.2725,5.309,5.3043,5.2227,5.2273,5.234,5.2768,5.3573,5.4455,5.4398,5.436,5.3383,5.3428,5.4526,5.4366,5.4757,5.4446,5.5669,5.5692,5.5461,5.5873,5.6142,5.654,5.718,5.734,5.6822,5.5682,5.6136,5.5904,5.6642,5.71,5.708,5.633,5.774,5.7824,5.755,5.6473,5.6213,5.5216,5.5045,5.5087,5.5609,5.586,5.6249,5.6252,5.5501,5.5362,5.6078,5.7902,5.8753,5.6898,5.6697,5.57,5.6872,5.6421,5.587,5.534,5.445,5.4409,5.4692,5.5128,5.4267,5.3877,5.3707,5.3685,5.3701,5.3953,5.3882,5.379,5.366,5.404,5.427,5.3552,5.3663,5.4326,5.4663,5.439,5.425,5.3556,5.4711,5.467,5.3547,5.2544,5.3589,5.2691,5.3025,5.1971,5.2991,5.3233,5.4893,5.4666,5.4108,5.3169,5.2863,5.2955,5.1351,5.194,5.194,5.2051,5.246,5.1784,5.2167,5.2168,5.1604,5.122,5.2012,5.0592,5.0601,5.0823,5.1145,5.0383,5.0438,5.1109,5.1206,5.1,5.1597,5.154,5.2178,5.2252,5.3158,5.2906,5.336,5.3198,5.374,5.4409,5.378,5.2913,5.3633,5.3285,5.4165,5.4148,5.458,5.416,5.418,5.3737,5.2746,5.5255,5.6129,5.7565,5.6964,5.743,5.7781,5.7466,5.706,5.6243,5.6551,5.5929,5.6088,5.6058,5.6103,5.6463,5.6097,5.5958,5.5729,5.5263,5.5316,5.6,5.6128,5.5613,5.5745,5.6498,5.6433,5.6109,5.6352,5.6614,5.5135,5.5097,5.593,5.4702,5.4146,5.4511,5.2397,5.2379,5.2762,5.2698,5.3191,5.3209,5.3095,5.3615,5.3608,5.2997,5.2901,5.3408,5.3987,5.4927,5.385,5.57,5.606,5.509,5.6112,5.5773,5.5587,5.5573,5.4674,5.5098,5.441,5.3699,5.4356,5.3819,5.4809,5.4395,5.3442,5.2915,5.2439,5.3205,5.2223,5.1541,5.1705,5.1383,5.1493,5.2332,5.2127,5.1191,5.1707,5.3291,5.387,5.3243,5.3697,5.3096,5.4032,5.313,5.339,5.345,5.384,5.3559,5.315,5.3523,5.3185,5.466,5.4005,5.4847,5.3608,5.3476,5.1525,5.2524,5.2904,5.378,5.2291,5.2446,5.1173,5.1314,4.9774,4.974,4.9,4.8229,4.9619,5.1186,5.0624,5.2007,5.3672,5.334,5.4049,5.2743,5.3418,5.4432,5.4942,5.5536,5.6925,5.7559,5.7192,5.8565,5.811,5.9248,5.8863,5.819,5.7825,5.8123,5.7158,5.575,5.5424,5.6141,5.4861,5.3346,5.5019,5.6085,5.5427,5.5339,5.4557,5.3184,5.3172,5.2864,5.2341,5.2336,5.2228,5.1811,5.1219,5.1068,5.126,5.2237,5.2817,5.2998,5.2566,5.2485,5.2252,5.1881,5.118,5.0235,5.0353,5.1004,5.1441,5.0616,5.0015,5.1098,5.0099,5.037,4.8593,4.71,4.8154,4.6406,4.6741,4.7601,4.6355,4.5988,4.5133,4.4744,4.495,4.5067,4.4485,4.3875,4.3883,4.3883,4.3941,4.3651,4.3567,4.3281,4.2999,4.3506,4.3552,4.3323,4.325,4.3204,4.2825,4.2356,4.2555,4.2478,4.2805,4.244,4.2305,4.195,4.2111,4.1835,4.1706,4.1829,4.2011,4.1885,4.1654,4.1851,4.1754,4.1313,4.1477,4.0894,4.0938,4.0647,4.0677,4.0622,4.0565,4.0253,4.0198,4.0195,4.0201,4.0484,4.0567,4.0827,4.0838,4.0838,4.1015,4.0706,4.0633,4.0687,4.0631,4.1096,4.0913,4.1241,4.1466,4.1429,4.1417,4.1859,4.208,4.2056,4.2237,4.2365,4.1896,4.2643,4.2294,4.2271,4.1989,4.1943,4.1951,4.1942,4.2055,4.178,4.1962,4.17,4.1694,4.1531,4.1667,4.1143,4.0833,3.9936,4.0125,3.9886,4.0179,3.9932,4.0,3.9915,4.0027,4.0427,4.038,4.0812,4.1291,4.1114,4.1646,4.1519,4.1801,4.1261,4.1073,4.107,4.1101,4.0965,4.1074,4.0563,4.0845,4.1296,4.158,4.1576,4.1618,4.1706,4.1475,4.1648,4.1643,4.1495,4.1678,4.1109,4.0779,4.0944,4.0854,4.0615,4.0682,4.0814,4.0963,4.0639,4.1094,4.096,4.1675,4.186,4.1444,4.1699,4.1692,4.1265,4.1579,4.1192,4.0703,4.0262,4.0546,4.0754,4.0023,3.9918,4.0503,3.9639,3.9862,3.9393,3.9203,3.9694,3.9619,3.9758,3.8859,3.8411,3.8165],\"x\":[\"2021-07-30T00:00:00.000000000\",\"2021-07-29T00:00:00.000000000\",\"2021-07-28T00:00:00.000000000\",\"2021-07-27T00:00:00.000000000\",\"2021-07-26T00:00:00.000000000\",\"2021-07-23T00:00:00.000000000\",\"2021-07-22T00:00:00.000000000\",\"2021-07-21T00:00:00.000000000\",\"2021-07-20T00:00:00.000000000\",\"2021-07-19T00:00:00.000000000\",\"2021-07-16T00:00:00.000000000\",\"2021-07-15T00:00:00.000000000\",\"2021-07-14T00:00:00.000000000\",\"2021-07-13T00:00:00.000000000\",\"2021-07-12T00:00:00.000000000\",\"2021-07-09T00:00:00.000000000\",\"2021-07-08T00:00:00.000000000\",\"2021-07-07T00:00:00.000000000\",\"2021-07-06T00:00:00.000000000\",\"2021-07-05T00:00:00.000000000\",\"2021-07-02T00:00:00.000000000\",\"2021-07-01T00:00:00.000000000\",\"2021-06-30T00:00:00.000000000\",\"2021-06-29T00:00:00.000000000\",\"2021-06-28T00:00:00.000000000\",\"2021-06-25T00:00:00.000000000\",\"2021-06-24T00:00:00.000000000\",\"2021-06-23T00:00:00.000000000\",\"2021-06-22T00:00:00.000000000\",\"2021-06-21T00:00:00.000000000\",\"2021-06-18T00:00:00.000000000\",\"2021-06-17T00:00:00.000000000\",\"2021-06-16T00:00:00.000000000\",\"2021-06-15T00:00:00.000000000\",\"2021-06-14T00:00:00.000000000\",\"2021-06-11T00:00:00.000000000\",\"2021-06-10T00:00:00.000000000\",\"2021-06-09T00:00:00.000000000\",\"2021-06-08T00:00:00.000000000\",\"2021-06-07T00:00:00.000000000\",\"2021-06-04T00:00:00.000000000\",\"2021-06-03T00:00:00.000000000\",\"2021-06-02T00:00:00.000000000\",\"2021-06-01T00:00:00.000000000\",\"2021-05-31T00:00:00.000000000\",\"2021-05-28T00:00:00.000000000\",\"2021-05-27T00:00:00.000000000\",\"2021-05-26T00:00:00.000000000\",\"2021-05-25T00:00:00.000000000\",\"2021-05-24T00:00:00.000000000\",\"2021-05-21T00:00:00.000000000\",\"2021-05-20T00:00:00.000000000\",\"2021-05-19T00:00:00.000000000\",\"2021-05-18T00:00:00.000000000\",\"2021-05-17T00:00:00.000000000\",\"2021-05-14T00:00:00.000000000\",\"2021-05-13T00:00:00.000000000\",\"2021-05-12T00:00:00.000000000\",\"2021-05-11T00:00:00.000000000\",\"2021-05-10T00:00:00.000000000\",\"2021-05-07T00:00:00.000000000\",\"2021-05-06T00:00:00.000000000\",\"2021-05-05T00:00:00.000000000\",\"2021-05-04T00:00:00.000000000\",\"2021-05-03T00:00:00.000000000\",\"2021-04-30T00:00:00.000000000\",\"2021-04-29T00:00:00.000000000\",\"2021-04-28T00:00:00.000000000\",\"2021-04-27T00:00:00.000000000\",\"2021-04-26T00:00:00.000000000\",\"2021-04-23T00:00:00.000000000\",\"2021-04-22T00:00:00.000000000\",\"2021-04-21T00:00:00.000000000\",\"2021-04-20T00:00:00.000000000\",\"2021-04-19T00:00:00.000000000\",\"2021-04-16T00:00:00.000000000\",\"2021-04-15T00:00:00.000000000\",\"2021-04-14T00:00:00.000000000\",\"2021-04-13T00:00:00.000000000\",\"2021-04-12T00:00:00.000000000\",\"2021-04-09T00:00:00.000000000\",\"2021-04-08T00:00:00.000000000\",\"2021-04-07T00:00:00.000000000\",\"2021-04-06T00:00:00.000000000\",\"2021-04-05T00:00:00.000000000\",\"2021-04-02T00:00:00.000000000\",\"2021-04-01T00:00:00.000000000\",\"2021-03-31T00:00:00.000000000\",\"2021-03-30T00:00:00.000000000\",\"2021-03-29T00:00:00.000000000\",\"2021-03-26T00:00:00.000000000\",\"2021-03-25T00:00:00.000000000\",\"2021-03-24T00:00:00.000000000\",\"2021-03-23T00:00:00.000000000\",\"2021-03-22T00:00:00.000000000\",\"2021-03-19T00:00:00.000000000\",\"2021-03-18T00:00:00.000000000\",\"2021-03-17T00:00:00.000000000\",\"2021-03-16T00:00:00.000000000\",\"2021-03-15T00:00:00.000000000\",\"2021-03-12T00:00:00.000000000\",\"2021-03-11T00:00:00.000000000\",\"2021-03-10T00:00:00.000000000\",\"2021-03-09T00:00:00.000000000\",\"2021-03-08T00:00:00.000000000\",\"2021-03-05T00:00:00.000000000\",\"2021-03-04T00:00:00.000000000\",\"2021-03-03T00:00:00.000000000\",\"2021-03-02T00:00:00.000000000\",\"2021-03-01T00:00:00.000000000\",\"2021-02-26T00:00:00.000000000\",\"2021-02-25T00:00:00.000000000\",\"2021-02-24T00:00:00.000000000\",\"2021-02-23T00:00:00.000000000\",\"2021-02-22T00:00:00.000000000\",\"2021-02-19T00:00:00.000000000\",\"2021-02-18T00:00:00.000000000\",\"2021-02-17T00:00:00.000000000\",\"2021-02-16T00:00:00.000000000\",\"2021-02-15T00:00:00.000000000\",\"2021-02-12T00:00:00.000000000\",\"2021-02-11T00:00:00.000000000\",\"2021-02-10T00:00:00.000000000\",\"2021-02-09T00:00:00.000000000\",\"2021-02-08T00:00:00.000000000\",\"2021-02-05T00:00:00.000000000\",\"2021-02-04T00:00:00.000000000\",\"2021-02-03T00:00:00.000000000\",\"2021-02-02T00:00:00.000000000\",\"2021-02-01T00:00:00.000000000\",\"2021-01-29T00:00:00.000000000\",\"2021-01-28T00:00:00.000000000\",\"2021-01-27T00:00:00.000000000\",\"2021-01-26T00:00:00.000000000\",\"2021-01-25T00:00:00.000000000\",\"2021-01-22T00:00:00.000000000\",\"2021-01-21T00:00:00.000000000\",\"2021-01-20T00:00:00.000000000\",\"2021-01-19T00:00:00.000000000\",\"2021-01-18T00:00:00.000000000\",\"2021-01-15T00:00:00.000000000\",\"2021-01-14T00:00:00.000000000\",\"2021-01-13T00:00:00.000000000\",\"2021-01-12T00:00:00.000000000\",\"2021-01-11T00:00:00.000000000\",\"2021-01-08T00:00:00.000000000\",\"2021-01-07T00:00:00.000000000\",\"2021-01-06T00:00:00.000000000\",\"2021-01-05T00:00:00.000000000\",\"2021-01-04T00:00:00.000000000\",\"2021-01-01T00:00:00.000000000\",\"2020-12-31T00:00:00.000000000\",\"2020-12-30T00:00:00.000000000\",\"2020-12-29T00:00:00.000000000\",\"2020-12-28T00:00:00.000000000\",\"2020-12-25T00:00:00.000000000\",\"2020-12-24T00:00:00.000000000\",\"2020-12-23T00:00:00.000000000\",\"2020-12-22T00:00:00.000000000\",\"2020-12-21T00:00:00.000000000\",\"2020-12-18T00:00:00.000000000\",\"2020-12-17T00:00:00.000000000\",\"2020-12-16T00:00:00.000000000\",\"2020-12-15T00:00:00.000000000\",\"2020-12-14T00:00:00.000000000\",\"2020-12-11T00:00:00.000000000\",\"2020-12-10T00:00:00.000000000\",\"2020-12-09T00:00:00.000000000\",\"2020-12-08T00:00:00.000000000\",\"2020-12-07T00:00:00.000000000\",\"2020-12-04T00:00:00.000000000\",\"2020-12-03T00:00:00.000000000\",\"2020-12-02T00:00:00.000000000\",\"2020-12-01T00:00:00.000000000\",\"2020-11-30T00:00:00.000000000\",\"2020-11-27T00:00:00.000000000\",\"2020-11-26T00:00:00.000000000\",\"2020-11-25T00:00:00.000000000\",\"2020-11-24T00:00:00.000000000\",\"2020-11-23T00:00:00.000000000\",\"2020-11-20T00:00:00.000000000\",\"2020-11-19T00:00:00.000000000\",\"2020-11-18T00:00:00.000000000\",\"2020-11-17T00:00:00.000000000\",\"2020-11-16T00:00:00.000000000\",\"2020-11-13T00:00:00.000000000\",\"2020-11-12T00:00:00.000000000\",\"2020-11-11T00:00:00.000000000\",\"2020-11-10T00:00:00.000000000\",\"2020-11-09T00:00:00.000000000\",\"2020-11-06T00:00:00.000000000\",\"2020-11-05T00:00:00.000000000\",\"2020-11-04T00:00:00.000000000\",\"2020-11-03T00:00:00.000000000\",\"2020-11-02T00:00:00.000000000\",\"2020-10-30T00:00:00.000000000\",\"2020-10-29T00:00:00.000000000\",\"2020-10-28T00:00:00.000000000\",\"2020-10-27T00:00:00.000000000\",\"2020-10-26T00:00:00.000000000\",\"2020-10-23T00:00:00.000000000\",\"2020-10-22T00:00:00.000000000\",\"2020-10-21T00:00:00.000000000\",\"2020-10-20T00:00:00.000000000\",\"2020-10-19T00:00:00.000000000\",\"2020-10-16T00:00:00.000000000\",\"2020-10-15T00:00:00.000000000\",\"2020-10-14T00:00:00.000000000\",\"2020-10-13T00:00:00.000000000\",\"2020-10-12T00:00:00.000000000\",\"2020-10-09T00:00:00.000000000\",\"2020-10-08T00:00:00.000000000\",\"2020-10-07T00:00:00.000000000\",\"2020-10-06T00:00:00.000000000\",\"2020-10-05T00:00:00.000000000\",\"2020-10-02T00:00:00.000000000\",\"2020-10-01T00:00:00.000000000\",\"2020-09-30T00:00:00.000000000\",\"2020-09-29T00:00:00.000000000\",\"2020-09-28T00:00:00.000000000\",\"2020-09-25T00:00:00.000000000\",\"2020-09-24T00:00:00.000000000\",\"2020-09-23T00:00:00.000000000\",\"2020-09-22T00:00:00.000000000\",\"2020-09-21T00:00:00.000000000\",\"2020-09-18T00:00:00.000000000\",\"2020-09-17T00:00:00.000000000\",\"2020-09-16T00:00:00.000000000\",\"2020-09-15T00:00:00.000000000\",\"2020-09-14T00:00:00.000000000\",\"2020-09-11T00:00:00.000000000\",\"2020-09-10T00:00:00.000000000\",\"2020-09-09T00:00:00.000000000\",\"2020-09-08T00:00:00.000000000\",\"2020-09-07T00:00:00.000000000\",\"2020-09-04T00:00:00.000000000\",\"2020-09-03T00:00:00.000000000\",\"2020-09-02T00:00:00.000000000\",\"2020-09-01T00:00:00.000000000\",\"2020-08-31T00:00:00.000000000\",\"2020-08-28T00:00:00.000000000\",\"2020-08-27T00:00:00.000000000\",\"2020-08-26T00:00:00.000000000\",\"2020-08-25T00:00:00.000000000\",\"2020-08-24T00:00:00.000000000\",\"2020-08-21T00:00:00.000000000\",\"2020-08-20T00:00:00.000000000\",\"2020-08-19T00:00:00.000000000\",\"2020-08-18T00:00:00.000000000\",\"2020-08-17T00:00:00.000000000\",\"2020-08-14T00:00:00.000000000\",\"2020-08-13T00:00:00.000000000\",\"2020-08-12T00:00:00.000000000\",\"2020-08-11T00:00:00.000000000\",\"2020-08-10T00:00:00.000000000\",\"2020-08-07T00:00:00.000000000\",\"2020-08-06T00:00:00.000000000\",\"2020-08-05T00:00:00.000000000\",\"2020-08-04T00:00:00.000000000\",\"2020-08-03T00:00:00.000000000\",\"2020-07-31T00:00:00.000000000\",\"2020-07-30T00:00:00.000000000\",\"2020-07-29T00:00:00.000000000\",\"2020-07-28T00:00:00.000000000\",\"2020-07-27T00:00:00.000000000\",\"2020-07-24T00:00:00.000000000\",\"2020-07-23T00:00:00.000000000\",\"2020-07-22T00:00:00.000000000\",\"2020-07-21T00:00:00.000000000\",\"2020-07-20T00:00:00.000000000\",\"2020-07-17T00:00:00.000000000\",\"2020-07-16T00:00:00.000000000\",\"2020-07-15T00:00:00.000000000\",\"2020-07-14T00:00:00.000000000\",\"2020-07-13T00:00:00.000000000\",\"2020-07-10T00:00:00.000000000\",\"2020-07-09T00:00:00.000000000\",\"2020-07-08T00:00:00.000000000\",\"2020-07-07T00:00:00.000000000\",\"2020-07-06T00:00:00.000000000\",\"2020-07-03T00:00:00.000000000\",\"2020-07-02T00:00:00.000000000\",\"2020-07-01T00:00:00.000000000\",\"2020-06-30T00:00:00.000000000\",\"2020-06-29T00:00:00.000000000\",\"2020-06-26T00:00:00.000000000\",\"2020-06-25T00:00:00.000000000\",\"2020-06-24T00:00:00.000000000\",\"2020-06-23T00:00:00.000000000\",\"2020-06-22T00:00:00.000000000\",\"2020-06-19T00:00:00.000000000\",\"2020-06-18T00:00:00.000000000\",\"2020-06-17T00:00:00.000000000\",\"2020-06-16T00:00:00.000000000\",\"2020-06-15T00:00:00.000000000\",\"2020-06-12T00:00:00.000000000\",\"2020-06-11T00:00:00.000000000\",\"2020-06-10T00:00:00.000000000\",\"2020-06-09T00:00:00.000000000\",\"2020-06-08T00:00:00.000000000\",\"2020-06-05T00:00:00.000000000\",\"2020-06-04T00:00:00.000000000\",\"2020-06-03T00:00:00.000000000\",\"2020-06-02T00:00:00.000000000\",\"2020-06-01T00:00:00.000000000\",\"2020-05-29T00:00:00.000000000\",\"2020-05-28T00:00:00.000000000\",\"2020-05-27T00:00:00.000000000\",\"2020-05-26T00:00:00.000000000\",\"2020-05-25T00:00:00.000000000\",\"2020-05-22T00:00:00.000000000\",\"2020-05-21T00:00:00.000000000\",\"2020-05-20T00:00:00.000000000\",\"2020-05-19T00:00:00.000000000\",\"2020-05-18T00:00:00.000000000\",\"2020-05-15T00:00:00.000000000\",\"2020-05-14T00:00:00.000000000\",\"2020-05-13T00:00:00.000000000\",\"2020-05-12T00:00:00.000000000\",\"2020-05-11T00:00:00.000000000\",\"2020-05-08T00:00:00.000000000\",\"2020-05-07T00:00:00.000000000\",\"2020-05-06T00:00:00.000000000\",\"2020-05-05T00:00:00.000000000\",\"2020-05-04T00:00:00.000000000\",\"2020-05-01T00:00:00.000000000\",\"2020-04-30T00:00:00.000000000\",\"2020-04-29T00:00:00.000000000\",\"2020-04-28T00:00:00.000000000\",\"2020-04-27T00:00:00.000000000\",\"2020-04-24T00:00:00.000000000\",\"2020-04-23T00:00:00.000000000\",\"2020-04-22T00:00:00.000000000\",\"2020-04-21T00:00:00.000000000\",\"2020-04-20T00:00:00.000000000\",\"2020-04-17T00:00:00.000000000\",\"2020-04-16T00:00:00.000000000\",\"2020-04-15T00:00:00.000000000\",\"2020-04-14T00:00:00.000000000\",\"2020-04-13T00:00:00.000000000\",\"2020-04-10T00:00:00.000000000\",\"2020-04-09T00:00:00.000000000\",\"2020-04-08T00:00:00.000000000\",\"2020-04-07T00:00:00.000000000\",\"2020-04-06T00:00:00.000000000\",\"2020-04-03T00:00:00.000000000\",\"2020-04-02T00:00:00.000000000\",\"2020-04-01T00:00:00.000000000\",\"2020-03-31T00:00:00.000000000\",\"2020-03-30T00:00:00.000000000\",\"2020-03-27T00:00:00.000000000\",\"2020-03-26T00:00:00.000000000\",\"2020-03-25T00:00:00.000000000\",\"2020-03-24T00:00:00.000000000\",\"2020-03-23T00:00:00.000000000\",\"2020-03-20T00:00:00.000000000\",\"2020-03-19T00:00:00.000000000\",\"2020-03-18T00:00:00.000000000\",\"2020-03-17T00:00:00.000000000\",\"2020-03-16T00:00:00.000000000\",\"2020-03-13T00:00:00.000000000\",\"2020-03-12T00:00:00.000000000\",\"2020-03-11T00:00:00.000000000\",\"2020-03-10T00:00:00.000000000\",\"2020-03-09T00:00:00.000000000\",\"2020-03-06T00:00:00.000000000\",\"2020-03-05T00:00:00.000000000\",\"2020-03-04T00:00:00.000000000\",\"2020-03-03T00:00:00.000000000\",\"2020-03-02T00:00:00.000000000\",\"2020-02-28T00:00:00.000000000\",\"2020-02-27T00:00:00.000000000\",\"2020-02-26T00:00:00.000000000\",\"2020-02-25T00:00:00.000000000\",\"2020-02-24T00:00:00.000000000\",\"2020-02-21T00:00:00.000000000\",\"2020-02-20T00:00:00.000000000\",\"2020-02-19T00:00:00.000000000\",\"2020-02-18T00:00:00.000000000\",\"2020-02-17T00:00:00.000000000\",\"2020-02-14T00:00:00.000000000\",\"2020-02-13T00:00:00.000000000\",\"2020-02-12T00:00:00.000000000\",\"2020-02-11T00:00:00.000000000\",\"2020-02-10T00:00:00.000000000\",\"2020-02-07T00:00:00.000000000\",\"2020-02-06T00:00:00.000000000\",\"2020-02-05T00:00:00.000000000\",\"2020-02-04T00:00:00.000000000\",\"2020-02-03T00:00:00.000000000\",\"2020-01-31T00:00:00.000000000\",\"2020-01-30T00:00:00.000000000\",\"2020-01-29T00:00:00.000000000\",\"2020-01-28T00:00:00.000000000\",\"2020-01-27T00:00:00.000000000\",\"2020-01-24T00:00:00.000000000\",\"2020-01-23T00:00:00.000000000\",\"2020-01-22T00:00:00.000000000\",\"2020-01-21T00:00:00.000000000\",\"2020-01-20T00:00:00.000000000\",\"2020-01-17T00:00:00.000000000\",\"2020-01-16T00:00:00.000000000\",\"2020-01-15T00:00:00.000000000\",\"2020-01-14T00:00:00.000000000\",\"2020-01-13T00:00:00.000000000\",\"2020-01-10T00:00:00.000000000\",\"2020-01-09T00:00:00.000000000\",\"2020-01-08T00:00:00.000000000\",\"2020-01-07T00:00:00.000000000\",\"2020-01-06T00:00:00.000000000\",\"2020-01-03T00:00:00.000000000\",\"2020-01-02T00:00:00.000000000\",\"2020-01-01T00:00:00.000000000\",\"2019-12-31T00:00:00.000000000\",\"2019-12-30T00:00:00.000000000\",\"2019-12-27T00:00:00.000000000\",\"2019-12-26T00:00:00.000000000\",\"2019-12-25T00:00:00.000000000\",\"2019-12-24T00:00:00.000000000\",\"2019-12-23T00:00:00.000000000\",\"2019-12-20T00:00:00.000000000\",\"2019-12-19T00:00:00.000000000\",\"2019-12-18T00:00:00.000000000\",\"2019-12-17T00:00:00.000000000\",\"2019-12-16T00:00:00.000000000\",\"2019-12-13T00:00:00.000000000\",\"2019-12-12T00:00:00.000000000\",\"2019-12-11T00:00:00.000000000\",\"2019-12-10T00:00:00.000000000\",\"2019-12-09T00:00:00.000000000\",\"2019-12-06T00:00:00.000000000\",\"2019-12-05T00:00:00.000000000\",\"2019-12-04T00:00:00.000000000\",\"2019-12-03T00:00:00.000000000\",\"2019-12-02T00:00:00.000000000\",\"2019-11-29T00:00:00.000000000\",\"2019-11-28T00:00:00.000000000\",\"2019-11-27T00:00:00.000000000\",\"2019-11-26T00:00:00.000000000\",\"2019-11-25T00:00:00.000000000\",\"2019-11-22T00:00:00.000000000\",\"2019-11-21T00:00:00.000000000\",\"2019-11-20T00:00:00.000000000\",\"2019-11-19T00:00:00.000000000\",\"2019-11-18T00:00:00.000000000\",\"2019-11-15T00:00:00.000000000\",\"2019-11-14T00:00:00.000000000\",\"2019-11-13T00:00:00.000000000\",\"2019-11-12T00:00:00.000000000\",\"2019-11-11T00:00:00.000000000\",\"2019-11-08T00:00:00.000000000\",\"2019-11-07T00:00:00.000000000\",\"2019-11-06T00:00:00.000000000\",\"2019-11-05T00:00:00.000000000\",\"2019-11-04T00:00:00.000000000\",\"2019-11-01T00:00:00.000000000\",\"2019-10-31T00:00:00.000000000\",\"2019-10-30T00:00:00.000000000\",\"2019-10-29T00:00:00.000000000\",\"2019-10-28T00:00:00.000000000\",\"2019-10-25T00:00:00.000000000\",\"2019-10-24T00:00:00.000000000\",\"2019-10-23T00:00:00.000000000\",\"2019-10-22T00:00:00.000000000\",\"2019-10-21T00:00:00.000000000\",\"2019-10-18T00:00:00.000000000\",\"2019-10-17T00:00:00.000000000\",\"2019-10-16T00:00:00.000000000\",\"2019-10-15T00:00:00.000000000\",\"2019-10-14T00:00:00.000000000\",\"2019-10-11T00:00:00.000000000\",\"2019-10-10T00:00:00.000000000\",\"2019-10-09T00:00:00.000000000\",\"2019-10-08T00:00:00.000000000\",\"2019-10-07T00:00:00.000000000\",\"2019-10-04T00:00:00.000000000\",\"2019-10-03T00:00:00.000000000\",\"2019-10-02T00:00:00.000000000\",\"2019-10-01T00:00:00.000000000\",\"2019-09-30T00:00:00.000000000\",\"2019-09-27T00:00:00.000000000\",\"2019-09-26T00:00:00.000000000\",\"2019-09-25T00:00:00.000000000\",\"2019-09-24T00:00:00.000000000\",\"2019-09-23T00:00:00.000000000\",\"2019-09-20T00:00:00.000000000\",\"2019-09-19T00:00:00.000000000\",\"2019-09-18T00:00:00.000000000\",\"2019-09-17T00:00:00.000000000\",\"2019-09-16T00:00:00.000000000\",\"2019-09-13T00:00:00.000000000\",\"2019-09-12T00:00:00.000000000\",\"2019-09-11T00:00:00.000000000\",\"2019-09-10T00:00:00.000000000\",\"2019-09-09T00:00:00.000000000\",\"2019-09-06T00:00:00.000000000\",\"2019-09-05T00:00:00.000000000\",\"2019-09-04T00:00:00.000000000\",\"2019-09-03T00:00:00.000000000\",\"2019-09-02T00:00:00.000000000\",\"2019-08-30T00:00:00.000000000\",\"2019-08-29T00:00:00.000000000\",\"2019-08-28T00:00:00.000000000\",\"2019-08-27T00:00:00.000000000\",\"2019-08-26T00:00:00.000000000\",\"2019-08-23T00:00:00.000000000\",\"2019-08-22T00:00:00.000000000\",\"2019-08-21T00:00:00.000000000\",\"2019-08-20T00:00:00.000000000\",\"2019-08-19T00:00:00.000000000\",\"2019-08-16T00:00:00.000000000\",\"2019-08-15T00:00:00.000000000\",\"2019-08-14T00:00:00.000000000\",\"2019-08-13T00:00:00.000000000\",\"2019-08-12T00:00:00.000000000\",\"2019-08-09T00:00:00.000000000\",\"2019-08-08T00:00:00.000000000\",\"2019-08-07T00:00:00.000000000\",\"2019-08-06T00:00:00.000000000\",\"2019-08-05T00:00:00.000000000\",\"2019-08-02T00:00:00.000000000\",\"2019-08-01T00:00:00.000000000\"],\"type\":\"candlestick\"}],                        {\"template\":{\"data\":{\"histogram2dcontour\":[{\"type\":\"histogram2dcontour\",\"colorbar\":{\"outlinewidth\":0,\"ticks\":\"\"},\"colorscale\":[[0.0,\"#0d0887\"],[0.1111111111111111,\"#46039f\"],[0.2222222222222222,\"#7201a8\"],[0.3333333333333333,\"#9c179e\"],[0.4444444444444444,\"#bd3786\"],[0.5555555555555556,\"#d8576b\"],[0.6666666666666666,\"#ed7953\"],[0.7777777777777778,\"#fb9f3a\"],[0.8888888888888888,\"#fdca26\"],[1.0,\"#f0f921\"]]}],\"choropleth\":[{\"type\":\"choropleth\",\"colorbar\":{\"outlinewidth\":0,\"ticks\":\"\"}}],\"histogram2d\":[{\"type\":\"histogram2d\",\"colorbar\":{\"outlinewidth\":0,\"ticks\":\"\"},\"colorscale\":[[0.0,\"#0d0887\"],[0.1111111111111111,\"#46039f\"],[0.2222222222222222,\"#7201a8\"],[0.3333333333333333,\"#9c179e\"],[0.4444444444444444,\"#bd3786\"],[0.5555555555555556,\"#d8576b\"],[0.6666666666666666,\"#ed7953\"],[0.7777777777777778,\"#fb9f3a\"],[0.8888888888888888,\"#fdca26\"],[1.0,\"#f0f921\"]]}],\"heatmap\":[{\"type\":\"heatmap\",\"colorbar\":{\"outlinewidth\":0,\"ticks\":\"\"},\"colorscale\":[[0.0,\"#0d0887\"],[0.1111111111111111,\"#46039f\"],[0.2222222222222222,\"#7201a8\"],[0.3333333333333333,\"#9c179e\"],[0.4444444444444444,\"#bd3786\"],[0.5555555555555556,\"#d8576b\"],[0.6666666666666666,\"#ed7953\"],[0.7777777777777778,\"#fb9f3a\"],[0.8888888888888888,\"#fdca26\"],[1.0,\"#f0f921\"]]}],\"heatmapgl\":[{\"type\":\"heatmapgl\",\"colorbar\":{\"outlinewidth\":0,\"ticks\":\"\"},\"colorscale\":[[0.0,\"#0d0887\"],[0.1111111111111111,\"#46039f\"],[0.2222222222222222,\"#7201a8\"],[0.3333333333333333,\"#9c179e\"],[0.4444444444444444,\"#bd3786\"],[0.5555555555555556,\"#d8576b\"],[0.6666666666666666,\"#ed7953\"],[0.7777777777777778,\"#fb9f3a\"],[0.8888888888888888,\"#fdca26\"],[1.0,\"#f0f921\"]]}],\"contourcarpet\":[{\"type\":\"contourcarpet\",\"colorbar\":{\"outlinewidth\":0,\"ticks\":\"\"}}],\"contour\":[{\"type\":\"contour\",\"colorbar\":{\"outlinewidth\":0,\"ticks\":\"\"},\"colorscale\":[[0.0,\"#0d0887\"],[0.1111111111111111,\"#46039f\"],[0.2222222222222222,\"#7201a8\"],[0.3333333333333333,\"#9c179e\"],[0.4444444444444444,\"#bd3786\"],[0.5555555555555556,\"#d8576b\"],[0.6666666666666666,\"#ed7953\"],[0.7777777777777778,\"#fb9f3a\"],[0.8888888888888888,\"#fdca26\"],[1.0,\"#f0f921\"]]}],\"surface\":[{\"type\":\"surface\",\"colorbar\":{\"outlinewidth\":0,\"ticks\":\"\"},\"colorscale\":[[0.0,\"#0d0887\"],[0.1111111111111111,\"#46039f\"],[0.2222222222222222,\"#7201a8\"],[0.3333333333333333,\"#9c179e\"],[0.4444444444444444,\"#bd3786\"],[0.5555555555555556,\"#d8576b\"],[0.6666666666666666,\"#ed7953\"],[0.7777777777777778,\"#fb9f3a\"],[0.8888888888888888,\"#fdca26\"],[1.0,\"#f0f921\"]]}],\"mesh3d\":[{\"type\":\"mesh3d\",\"colorbar\":{\"outlinewidth\":0,\"ticks\":\"\"}}],\"scatter\":[{\"fillpattern\":{\"fillmode\":\"overlay\",\"size\":10,\"solidity\":0.2},\"type\":\"scatter\"}],\"parcoords\":[{\"type\":\"parcoords\",\"line\":{\"colorbar\":{\"outlinewidth\":0,\"ticks\":\"\"}}}],\"scatterpolargl\":[{\"type\":\"scatterpolargl\",\"marker\":{\"colorbar\":{\"outlinewidth\":0,\"ticks\":\"\"}}}],\"bar\":[{\"error_x\":{\"color\":\"#2a3f5f\"},\"error_y\":{\"color\":\"#2a3f5f\"},\"marker\":{\"line\":{\"color\":\"#E5ECF6\",\"width\":0.5},\"pattern\":{\"fillmode\":\"overlay\",\"size\":10,\"solidity\":0.2}},\"type\":\"bar\"}],\"scattergeo\":[{\"type\":\"scattergeo\",\"marker\":{\"colorbar\":{\"outlinewidth\":0,\"ticks\":\"\"}}}],\"scatterpolar\":[{\"type\":\"scatterpolar\",\"marker\":{\"colorbar\":{\"outlinewidth\":0,\"ticks\":\"\"}}}],\"histogram\":[{\"marker\":{\"pattern\":{\"fillmode\":\"overlay\",\"size\":10,\"solidity\":0.2}},\"type\":\"histogram\"}],\"scattergl\":[{\"type\":\"scattergl\",\"marker\":{\"colorbar\":{\"outlinewidth\":0,\"ticks\":\"\"}}}],\"scatter3d\":[{\"type\":\"scatter3d\",\"line\":{\"colorbar\":{\"outlinewidth\":0,\"ticks\":\"\"}},\"marker\":{\"colorbar\":{\"outlinewidth\":0,\"ticks\":\"\"}}}],\"scattermapbox\":[{\"type\":\"scattermapbox\",\"marker\":{\"colorbar\":{\"outlinewidth\":0,\"ticks\":\"\"}}}],\"scatterternary\":[{\"type\":\"scatterternary\",\"marker\":{\"colorbar\":{\"outlinewidth\":0,\"ticks\":\"\"}}}],\"scattercarpet\":[{\"type\":\"scattercarpet\",\"marker\":{\"colorbar\":{\"outlinewidth\":0,\"ticks\":\"\"}}}],\"carpet\":[{\"aaxis\":{\"endlinecolor\":\"#2a3f5f\",\"gridcolor\":\"white\",\"linecolor\":\"white\",\"minorgridcolor\":\"white\",\"startlinecolor\":\"#2a3f5f\"},\"baxis\":{\"endlinecolor\":\"#2a3f5f\",\"gridcolor\":\"white\",\"linecolor\":\"white\",\"minorgridcolor\":\"white\",\"startlinecolor\":\"#2a3f5f\"},\"type\":\"carpet\"}],\"table\":[{\"cells\":{\"fill\":{\"color\":\"#EBF0F8\"},\"line\":{\"color\":\"white\"}},\"header\":{\"fill\":{\"color\":\"#C8D4E3\"},\"line\":{\"color\":\"white\"}},\"type\":\"table\"}],\"barpolar\":[{\"marker\":{\"line\":{\"color\":\"#E5ECF6\",\"width\":0.5},\"pattern\":{\"fillmode\":\"overlay\",\"size\":10,\"solidity\":0.2}},\"type\":\"barpolar\"}],\"pie\":[{\"automargin\":true,\"type\":\"pie\"}]},\"layout\":{\"autotypenumbers\":\"strict\",\"colorway\":[\"#636efa\",\"#EF553B\",\"#00cc96\",\"#ab63fa\",\"#FFA15A\",\"#19d3f3\",\"#FF6692\",\"#B6E880\",\"#FF97FF\",\"#FECB52\"],\"font\":{\"color\":\"#2a3f5f\"},\"hovermode\":\"closest\",\"hoverlabel\":{\"align\":\"left\"},\"paper_bgcolor\":\"white\",\"plot_bgcolor\":\"#E5ECF6\",\"polar\":{\"bgcolor\":\"#E5ECF6\",\"angularaxis\":{\"gridcolor\":\"white\",\"linecolor\":\"white\",\"ticks\":\"\"},\"radialaxis\":{\"gridcolor\":\"white\",\"linecolor\":\"white\",\"ticks\":\"\"}},\"ternary\":{\"bgcolor\":\"#E5ECF6\",\"aaxis\":{\"gridcolor\":\"white\",\"linecolor\":\"white\",\"ticks\":\"\"},\"baxis\":{\"gridcolor\":\"white\",\"linecolor\":\"white\",\"ticks\":\"\"},\"caxis\":{\"gridcolor\":\"white\",\"linecolor\":\"white\",\"ticks\":\"\"}},\"coloraxis\":{\"colorbar\":{\"outlinewidth\":0,\"ticks\":\"\"}},\"colorscale\":{\"sequential\":[[0.0,\"#0d0887\"],[0.1111111111111111,\"#46039f\"],[0.2222222222222222,\"#7201a8\"],[0.3333333333333333,\"#9c179e\"],[0.4444444444444444,\"#bd3786\"],[0.5555555555555556,\"#d8576b\"],[0.6666666666666666,\"#ed7953\"],[0.7777777777777778,\"#fb9f3a\"],[0.8888888888888888,\"#fdca26\"],[1.0,\"#f0f921\"]],\"sequentialminus\":[[0.0,\"#0d0887\"],[0.1111111111111111,\"#46039f\"],[0.2222222222222222,\"#7201a8\"],[0.3333333333333333,\"#9c179e\"],[0.4444444444444444,\"#bd3786\"],[0.5555555555555556,\"#d8576b\"],[0.6666666666666666,\"#ed7953\"],[0.7777777777777778,\"#fb9f3a\"],[0.8888888888888888,\"#fdca26\"],[1.0,\"#f0f921\"]],\"diverging\":[[0,\"#8e0152\"],[0.1,\"#c51b7d\"],[0.2,\"#de77ae\"],[0.3,\"#f1b6da\"],[0.4,\"#fde0ef\"],[0.5,\"#f7f7f7\"],[0.6,\"#e6f5d0\"],[0.7,\"#b8e186\"],[0.8,\"#7fbc41\"],[0.9,\"#4d9221\"],[1,\"#276419\"]]},\"xaxis\":{\"gridcolor\":\"white\",\"linecolor\":\"white\",\"ticks\":\"\",\"title\":{\"standoff\":15},\"zerolinecolor\":\"white\",\"automargin\":true,\"zerolinewidth\":2},\"yaxis\":{\"gridcolor\":\"white\",\"linecolor\":\"white\",\"ticks\":\"\",\"title\":{\"standoff\":15},\"zerolinecolor\":\"white\",\"automargin\":true,\"zerolinewidth\":2},\"scene\":{\"xaxis\":{\"backgroundcolor\":\"#E5ECF6\",\"gridcolor\":\"white\",\"linecolor\":\"white\",\"showbackground\":true,\"ticks\":\"\",\"zerolinecolor\":\"white\",\"gridwidth\":2},\"yaxis\":{\"backgroundcolor\":\"#E5ECF6\",\"gridcolor\":\"white\",\"linecolor\":\"white\",\"showbackground\":true,\"ticks\":\"\",\"zerolinecolor\":\"white\",\"gridwidth\":2},\"zaxis\":{\"backgroundcolor\":\"#E5ECF6\",\"gridcolor\":\"white\",\"linecolor\":\"white\",\"showbackground\":true,\"ticks\":\"\",\"zerolinecolor\":\"white\",\"gridwidth\":2}},\"shapedefaults\":{\"line\":{\"color\":\"#2a3f5f\"}},\"annotationdefaults\":{\"arrowcolor\":\"#2a3f5f\",\"arrowhead\":0,\"arrowwidth\":1},\"geo\":{\"bgcolor\":\"white\",\"landcolor\":\"#E5ECF6\",\"subunitcolor\":\"white\",\"showland\":true,\"showlakes\":true,\"lakecolor\":\"white\"},\"title\":{\"x\":0.05},\"mapbox\":{\"style\":\"light\"}}},\"title\":{\"text\":\"Hist\\u00f3rico de pre\\u00e7os do Dolar\"},\"yaxis\":{\"title\":{\"text\":\"Pre\\u00e7o (USD)\"}},\"xaxis\":{\"title\":{\"text\":\"Data\"}}},                        {\"responsive\": true}                    ).then(function(){\n",
              "                            \n",
              "var gd = document.getElementById('8fc1d835-72e2-436e-a86f-3f4d827ecd8d');\n",
              "var x = new MutationObserver(function (mutations, observer) {{\n",
              "        var display = window.getComputedStyle(gd).display;\n",
              "        if (!display || display === 'none') {{\n",
              "            console.log([gd, 'removed!']);\n",
              "            Plotly.purge(gd);\n",
              "            observer.disconnect();\n",
              "        }}\n",
              "}});\n",
              "\n",
              "// Listen for the removal of the full notebook cells\n",
              "var notebookContainer = gd.closest('#notebook-container');\n",
              "if (notebookContainer) {{\n",
              "    x.observe(notebookContainer, {childList: true});\n",
              "}}\n",
              "\n",
              "// Listen for the clearing of the current output cell\n",
              "var outputEl = gd.closest('.output');\n",
              "if (outputEl) {{\n",
              "    x.observe(outputEl, {childList: true});\n",
              "}}\n",
              "\n",
              "                        })                };                            </script>        </div>\n",
              "</body>\n",
              "</html>"
            ]
          },
          "metadata": {}
        }
      ]
    },
    {
      "cell_type": "code",
      "source": [
        "''' fim etapa 4 '''"
      ],
      "metadata": {
        "colab": {
          "base_uri": "https://localhost:8080/",
          "height": 35
        },
        "id": "RVv1QMAdGl2z",
        "outputId": "f0b2048b-85df-44b9-ef54-9ea329790ba1"
      },
      "execution_count": 17,
      "outputs": [
        {
          "output_type": "execute_result",
          "data": {
            "text/plain": [
              "' fim etapa 4 '"
            ],
            "application/vnd.google.colaboratory.intrinsic+json": {
              "type": "string"
            }
          },
          "metadata": {},
          "execution_count": 17
        }
      ]
    },
    {
      "cell_type": "code",
      "source": [
        "'''\n",
        "  etapa 5\n",
        "  unir DF's\n",
        "'''\n",
        "\n"
      ],
      "metadata": {
        "id": "NPZ6Pn1vH64N",
        "colab": {
          "base_uri": "https://localhost:8080/",
          "height": 35
        },
        "outputId": "c806376e-5d96-491d-aab9-3c71bdd0fba1"
      },
      "execution_count": 18,
      "outputs": [
        {
          "output_type": "execute_result",
          "data": {
            "text/plain": [
              "\"\\n  etapa 5\\n  unir DF's\\n\""
            ],
            "application/vnd.google.colaboratory.intrinsic+json": {
              "type": "string"
            }
          },
          "metadata": {},
          "execution_count": 18
        }
      ]
    },
    {
      "cell_type": "code",
      "source": [
        "df_bitcoin_dolar = pd.merge(df_bitcoin, df_dolar, on='Date')"
      ],
      "metadata": {
        "id": "dzSJnDTZNJiF"
      },
      "execution_count": 19,
      "outputs": []
    },
    {
      "cell_type": "code",
      "source": [
        "df_bitcoin_dolar.head()"
      ],
      "metadata": {
        "id": "X5vsKdAPBBNj",
        "outputId": "a9e6e9ee-16f8-4766-881e-80e4e419bf11",
        "colab": {
          "base_uri": "https://localhost:8080/",
          "height": 388
        }
      },
      "execution_count": 20,
      "outputs": [
        {
          "output_type": "execute_result",
          "data": {
            "text/plain": [
              "                    Open          High           Low         Close  \\\n",
              "Date                                                                 \n",
              "2019-08-01  10077.442383  10446.919922   9922.019531  10399.668945   \n",
              "2019-08-02  10402.042969  10657.953125  10371.013672  10518.174805   \n",
              "2019-08-05  10960.735352  11895.091797  10960.735352  11805.653320   \n",
              "2019-08-06  11811.544922  12273.821289  11290.731445  11478.168945   \n",
              "2019-08-07  11476.193359  12036.990234  11433.701172  11941.968750   \n",
              "\n",
              "               Adj Close       Volume  dolar_close  dolar_open  dolar_high  \\\n",
              "Date                                                                         \n",
              "2019-08-01  10399.668945  17165337858       3.8403      3.8165      3.8618   \n",
              "2019-08-02  10518.174805  17489094082       3.8893      3.8411      3.8937   \n",
              "2019-08-05  11805.653320  23875988832       3.9783      3.8859      3.9786   \n",
              "2019-08-06  11478.168945  23635107660       3.9612      3.9758      3.9866   \n",
              "2019-08-07  11941.968750  22194988641       3.9691      3.9619      3.9931   \n",
              "\n",
              "            dolar_low dolar_volume dolar_variation  \n",
              "Date                                                \n",
              "2019-08-01     3.8115       77,21K           0,72%  \n",
              "2019-08-02     3.8397       68,81K           1,28%  \n",
              "2019-08-05     3.8859       75,39K           2,29%  \n",
              "2019-08-06     3.9356       71,00K          -0,43%  \n",
              "2019-08-07     3.9448       75,52K           0,20%  "
            ],
            "text/html": [
              "\n",
              "  <div id=\"df-1ba5428b-3349-4cfb-adb4-7df07c51ae0e\">\n",
              "    <div class=\"colab-df-container\">\n",
              "      <div>\n",
              "<style scoped>\n",
              "    .dataframe tbody tr th:only-of-type {\n",
              "        vertical-align: middle;\n",
              "    }\n",
              "\n",
              "    .dataframe tbody tr th {\n",
              "        vertical-align: top;\n",
              "    }\n",
              "\n",
              "    .dataframe thead th {\n",
              "        text-align: right;\n",
              "    }\n",
              "</style>\n",
              "<table border=\"1\" class=\"dataframe\">\n",
              "  <thead>\n",
              "    <tr style=\"text-align: right;\">\n",
              "      <th></th>\n",
              "      <th>Open</th>\n",
              "      <th>High</th>\n",
              "      <th>Low</th>\n",
              "      <th>Close</th>\n",
              "      <th>Adj Close</th>\n",
              "      <th>Volume</th>\n",
              "      <th>dolar_close</th>\n",
              "      <th>dolar_open</th>\n",
              "      <th>dolar_high</th>\n",
              "      <th>dolar_low</th>\n",
              "      <th>dolar_volume</th>\n",
              "      <th>dolar_variation</th>\n",
              "    </tr>\n",
              "    <tr>\n",
              "      <th>Date</th>\n",
              "      <th></th>\n",
              "      <th></th>\n",
              "      <th></th>\n",
              "      <th></th>\n",
              "      <th></th>\n",
              "      <th></th>\n",
              "      <th></th>\n",
              "      <th></th>\n",
              "      <th></th>\n",
              "      <th></th>\n",
              "      <th></th>\n",
              "      <th></th>\n",
              "    </tr>\n",
              "  </thead>\n",
              "  <tbody>\n",
              "    <tr>\n",
              "      <th>2019-08-01</th>\n",
              "      <td>10077.442383</td>\n",
              "      <td>10446.919922</td>\n",
              "      <td>9922.019531</td>\n",
              "      <td>10399.668945</td>\n",
              "      <td>10399.668945</td>\n",
              "      <td>17165337858</td>\n",
              "      <td>3.8403</td>\n",
              "      <td>3.8165</td>\n",
              "      <td>3.8618</td>\n",
              "      <td>3.8115</td>\n",
              "      <td>77,21K</td>\n",
              "      <td>0,72%</td>\n",
              "    </tr>\n",
              "    <tr>\n",
              "      <th>2019-08-02</th>\n",
              "      <td>10402.042969</td>\n",
              "      <td>10657.953125</td>\n",
              "      <td>10371.013672</td>\n",
              "      <td>10518.174805</td>\n",
              "      <td>10518.174805</td>\n",
              "      <td>17489094082</td>\n",
              "      <td>3.8893</td>\n",
              "      <td>3.8411</td>\n",
              "      <td>3.8937</td>\n",
              "      <td>3.8397</td>\n",
              "      <td>68,81K</td>\n",
              "      <td>1,28%</td>\n",
              "    </tr>\n",
              "    <tr>\n",
              "      <th>2019-08-05</th>\n",
              "      <td>10960.735352</td>\n",
              "      <td>11895.091797</td>\n",
              "      <td>10960.735352</td>\n",
              "      <td>11805.653320</td>\n",
              "      <td>11805.653320</td>\n",
              "      <td>23875988832</td>\n",
              "      <td>3.9783</td>\n",
              "      <td>3.8859</td>\n",
              "      <td>3.9786</td>\n",
              "      <td>3.8859</td>\n",
              "      <td>75,39K</td>\n",
              "      <td>2,29%</td>\n",
              "    </tr>\n",
              "    <tr>\n",
              "      <th>2019-08-06</th>\n",
              "      <td>11811.544922</td>\n",
              "      <td>12273.821289</td>\n",
              "      <td>11290.731445</td>\n",
              "      <td>11478.168945</td>\n",
              "      <td>11478.168945</td>\n",
              "      <td>23635107660</td>\n",
              "      <td>3.9612</td>\n",
              "      <td>3.9758</td>\n",
              "      <td>3.9866</td>\n",
              "      <td>3.9356</td>\n",
              "      <td>71,00K</td>\n",
              "      <td>-0,43%</td>\n",
              "    </tr>\n",
              "    <tr>\n",
              "      <th>2019-08-07</th>\n",
              "      <td>11476.193359</td>\n",
              "      <td>12036.990234</td>\n",
              "      <td>11433.701172</td>\n",
              "      <td>11941.968750</td>\n",
              "      <td>11941.968750</td>\n",
              "      <td>22194988641</td>\n",
              "      <td>3.9691</td>\n",
              "      <td>3.9619</td>\n",
              "      <td>3.9931</td>\n",
              "      <td>3.9448</td>\n",
              "      <td>75,52K</td>\n",
              "      <td>0,20%</td>\n",
              "    </tr>\n",
              "  </tbody>\n",
              "</table>\n",
              "</div>\n",
              "      <button class=\"colab-df-convert\" onclick=\"convertToInteractive('df-1ba5428b-3349-4cfb-adb4-7df07c51ae0e')\"\n",
              "              title=\"Convert this dataframe to an interactive table.\"\n",
              "              style=\"display:none;\">\n",
              "        \n",
              "  <svg xmlns=\"http://www.w3.org/2000/svg\" height=\"24px\"viewBox=\"0 0 24 24\"\n",
              "       width=\"24px\">\n",
              "    <path d=\"M0 0h24v24H0V0z\" fill=\"none\"/>\n",
              "    <path d=\"M18.56 5.44l.94 2.06.94-2.06 2.06-.94-2.06-.94-.94-2.06-.94 2.06-2.06.94zm-11 1L8.5 8.5l.94-2.06 2.06-.94-2.06-.94L8.5 2.5l-.94 2.06-2.06.94zm10 10l.94 2.06.94-2.06 2.06-.94-2.06-.94-.94-2.06-.94 2.06-2.06.94z\"/><path d=\"M17.41 7.96l-1.37-1.37c-.4-.4-.92-.59-1.43-.59-.52 0-1.04.2-1.43.59L10.3 9.45l-7.72 7.72c-.78.78-.78 2.05 0 2.83L4 21.41c.39.39.9.59 1.41.59.51 0 1.02-.2 1.41-.59l7.78-7.78 2.81-2.81c.8-.78.8-2.07 0-2.86zM5.41 20L4 18.59l7.72-7.72 1.47 1.35L5.41 20z\"/>\n",
              "  </svg>\n",
              "      </button>\n",
              "      \n",
              "  <style>\n",
              "    .colab-df-container {\n",
              "      display:flex;\n",
              "      flex-wrap:wrap;\n",
              "      gap: 12px;\n",
              "    }\n",
              "\n",
              "    .colab-df-convert {\n",
              "      background-color: #E8F0FE;\n",
              "      border: none;\n",
              "      border-radius: 50%;\n",
              "      cursor: pointer;\n",
              "      display: none;\n",
              "      fill: #1967D2;\n",
              "      height: 32px;\n",
              "      padding: 0 0 0 0;\n",
              "      width: 32px;\n",
              "    }\n",
              "\n",
              "    .colab-df-convert:hover {\n",
              "      background-color: #E2EBFA;\n",
              "      box-shadow: 0px 1px 2px rgba(60, 64, 67, 0.3), 0px 1px 3px 1px rgba(60, 64, 67, 0.15);\n",
              "      fill: #174EA6;\n",
              "    }\n",
              "\n",
              "    [theme=dark] .colab-df-convert {\n",
              "      background-color: #3B4455;\n",
              "      fill: #D2E3FC;\n",
              "    }\n",
              "\n",
              "    [theme=dark] .colab-df-convert:hover {\n",
              "      background-color: #434B5C;\n",
              "      box-shadow: 0px 1px 3px 1px rgba(0, 0, 0, 0.15);\n",
              "      filter: drop-shadow(0px 1px 2px rgba(0, 0, 0, 0.3));\n",
              "      fill: #FFFFFF;\n",
              "    }\n",
              "  </style>\n",
              "\n",
              "      <script>\n",
              "        const buttonEl =\n",
              "          document.querySelector('#df-1ba5428b-3349-4cfb-adb4-7df07c51ae0e button.colab-df-convert');\n",
              "        buttonEl.style.display =\n",
              "          google.colab.kernel.accessAllowed ? 'block' : 'none';\n",
              "\n",
              "        async function convertToInteractive(key) {\n",
              "          const element = document.querySelector('#df-1ba5428b-3349-4cfb-adb4-7df07c51ae0e');\n",
              "          const dataTable =\n",
              "            await google.colab.kernel.invokeFunction('convertToInteractive',\n",
              "                                                     [key], {});\n",
              "          if (!dataTable) return;\n",
              "\n",
              "          const docLinkHtml = 'Like what you see? Visit the ' +\n",
              "            '<a target=\"_blank\" href=https://colab.research.google.com/notebooks/data_table.ipynb>data table notebook</a>'\n",
              "            + ' to learn more about interactive tables.';\n",
              "          element.innerHTML = '';\n",
              "          dataTable['output_type'] = 'display_data';\n",
              "          await google.colab.output.renderOutput(dataTable, element);\n",
              "          const docLink = document.createElement('div');\n",
              "          docLink.innerHTML = docLinkHtml;\n",
              "          element.appendChild(docLink);\n",
              "        }\n",
              "      </script>\n",
              "    </div>\n",
              "  </div>\n",
              "  "
            ]
          },
          "metadata": {},
          "execution_count": 20
        }
      ]
    },
    {
      "cell_type": "code",
      "source": [
        "#grafico de series temporais, com o valor do preço do bitcoin em relacao ao dolar\n",
        "lines = [go.Scatter(x=df_bitcoin_dolar.index, y=df_bitcoin_dolar['Close'], mode='lines', name='Bitcoin'),\n",
        "         go.Scatter(x=df_bitcoin_dolar.index, y=df_bitcoin_dolar['dolar_close'], mode='lines', name='Dolar')]\n",
        "\n",
        "layout = go.Layout(\n",
        "    title='Preço do Bitcoin em relação ao Dólar',\n",
        "    yaxis_title='Preço',\n",
        "    xaxis_title='Data'\n",
        ")\n",
        "\n",
        "fig = go.Figure(data=lines, layout=layout)\n",
        "fig.show()"
      ],
      "metadata": {
        "id": "Qdpm3wIxBM0y",
        "outputId": "e15f2a10-892f-4533-88d4-6cbd0475284d",
        "colab": {
          "base_uri": "https://localhost:8080/",
          "height": 542
        }
      },
      "execution_count": 33,
      "outputs": [
        {
          "output_type": "display_data",
          "data": {
            "text/html": [
              "<html>\n",
              "<head><meta charset=\"utf-8\" /></head>\n",
              "<body>\n",
              "    <div>            <script src=\"https://cdnjs.cloudflare.com/ajax/libs/mathjax/2.7.5/MathJax.js?config=TeX-AMS-MML_SVG\"></script><script type=\"text/javascript\">if (window.MathJax && window.MathJax.Hub && window.MathJax.Hub.Config) {window.MathJax.Hub.Config({SVG: {font: \"STIX-Web\"}});}</script>                <script type=\"text/javascript\">window.PlotlyConfig = {MathJaxConfig: 'local'};</script>\n",
              "        <script src=\"https://cdn.plot.ly/plotly-2.18.2.min.js\"></script>                <div id=\"5bbb0edf-2abe-4f76-be7e-42a8c97050d9\" class=\"plotly-graph-div\" style=\"height:525px; width:100%;\"></div>            <script type=\"text/javascript\">                                    window.PLOTLYENV=window.PLOTLYENV || {};                                    if (document.getElementById(\"5bbb0edf-2abe-4f76-be7e-42a8c97050d9\")) {                    Plotly.newPlot(                        \"5bbb0edf-2abe-4f76-be7e-42a8c97050d9\",                        [{\"mode\":\"lines\",\"name\":\"Bitcoin\",\"x\":[\"2019-08-01T00:00:00\",\"2019-08-02T00:00:00\",\"2019-08-05T00:00:00\",\"2019-08-06T00:00:00\",\"2019-08-07T00:00:00\",\"2019-08-08T00:00:00\",\"2019-08-09T00:00:00\",\"2019-08-12T00:00:00\",\"2019-08-13T00:00:00\",\"2019-08-14T00:00:00\",\"2019-08-15T00:00:00\",\"2019-08-16T00:00:00\",\"2019-08-19T00:00:00\",\"2019-08-20T00:00:00\",\"2019-08-21T00:00:00\",\"2019-08-22T00:00:00\",\"2019-08-23T00:00:00\",\"2019-08-26T00:00:00\",\"2019-08-27T00:00:00\",\"2019-08-28T00:00:00\",\"2019-08-29T00:00:00\",\"2019-08-30T00:00:00\",\"2019-09-02T00:00:00\",\"2019-09-03T00:00:00\",\"2019-09-04T00:00:00\",\"2019-09-05T00:00:00\",\"2019-09-06T00:00:00\",\"2019-09-09T00:00:00\",\"2019-09-10T00:00:00\",\"2019-09-11T00:00:00\",\"2019-09-12T00:00:00\",\"2019-09-13T00:00:00\",\"2019-09-16T00:00:00\",\"2019-09-17T00:00:00\",\"2019-09-18T00:00:00\",\"2019-09-19T00:00:00\",\"2019-09-20T00:00:00\",\"2019-09-23T00:00:00\",\"2019-09-24T00:00:00\",\"2019-09-25T00:00:00\",\"2019-09-26T00:00:00\",\"2019-09-27T00:00:00\",\"2019-09-30T00:00:00\",\"2019-10-01T00:00:00\",\"2019-10-02T00:00:00\",\"2019-10-03T00:00:00\",\"2019-10-04T00:00:00\",\"2019-10-07T00:00:00\",\"2019-10-08T00:00:00\",\"2019-10-09T00:00:00\",\"2019-10-10T00:00:00\",\"2019-10-11T00:00:00\",\"2019-10-14T00:00:00\",\"2019-10-15T00:00:00\",\"2019-10-16T00:00:00\",\"2019-10-17T00:00:00\",\"2019-10-18T00:00:00\",\"2019-10-21T00:00:00\",\"2019-10-22T00:00:00\",\"2019-10-23T00:00:00\",\"2019-10-24T00:00:00\",\"2019-10-25T00:00:00\",\"2019-10-28T00:00:00\",\"2019-10-29T00:00:00\",\"2019-10-30T00:00:00\",\"2019-10-31T00:00:00\",\"2019-11-01T00:00:00\",\"2019-11-04T00:00:00\",\"2019-11-05T00:00:00\",\"2019-11-06T00:00:00\",\"2019-11-07T00:00:00\",\"2019-11-08T00:00:00\",\"2019-11-11T00:00:00\",\"2019-11-12T00:00:00\",\"2019-11-13T00:00:00\",\"2019-11-14T00:00:00\",\"2019-11-15T00:00:00\",\"2019-11-18T00:00:00\",\"2019-11-19T00:00:00\",\"2019-11-20T00:00:00\",\"2019-11-21T00:00:00\",\"2019-11-22T00:00:00\",\"2019-11-25T00:00:00\",\"2019-11-26T00:00:00\",\"2019-11-27T00:00:00\",\"2019-11-28T00:00:00\",\"2019-11-29T00:00:00\",\"2019-12-02T00:00:00\",\"2019-12-03T00:00:00\",\"2019-12-04T00:00:00\",\"2019-12-05T00:00:00\",\"2019-12-06T00:00:00\",\"2019-12-09T00:00:00\",\"2019-12-10T00:00:00\",\"2019-12-11T00:00:00\",\"2019-12-12T00:00:00\",\"2019-12-13T00:00:00\",\"2019-12-16T00:00:00\",\"2019-12-17T00:00:00\",\"2019-12-18T00:00:00\",\"2019-12-19T00:00:00\",\"2019-12-20T00:00:00\",\"2019-12-23T00:00:00\",\"2019-12-24T00:00:00\",\"2019-12-25T00:00:00\",\"2019-12-26T00:00:00\",\"2019-12-27T00:00:00\",\"2019-12-30T00:00:00\",\"2019-12-31T00:00:00\",\"2020-01-01T00:00:00\",\"2020-01-02T00:00:00\",\"2020-01-03T00:00:00\",\"2020-01-06T00:00:00\",\"2020-01-07T00:00:00\",\"2020-01-08T00:00:00\",\"2020-01-09T00:00:00\",\"2020-01-10T00:00:00\",\"2020-01-13T00:00:00\",\"2020-01-14T00:00:00\",\"2020-01-15T00:00:00\",\"2020-01-16T00:00:00\",\"2020-01-17T00:00:00\",\"2020-01-20T00:00:00\",\"2020-01-21T00:00:00\",\"2020-01-22T00:00:00\",\"2020-01-23T00:00:00\",\"2020-01-24T00:00:00\",\"2020-01-27T00:00:00\",\"2020-01-28T00:00:00\",\"2020-01-29T00:00:00\",\"2020-01-30T00:00:00\",\"2020-01-31T00:00:00\",\"2020-02-03T00:00:00\",\"2020-02-04T00:00:00\",\"2020-02-05T00:00:00\",\"2020-02-06T00:00:00\",\"2020-02-07T00:00:00\",\"2020-02-10T00:00:00\",\"2020-02-11T00:00:00\",\"2020-02-12T00:00:00\",\"2020-02-13T00:00:00\",\"2020-02-14T00:00:00\",\"2020-02-17T00:00:00\",\"2020-02-18T00:00:00\",\"2020-02-19T00:00:00\",\"2020-02-20T00:00:00\",\"2020-02-21T00:00:00\",\"2020-02-24T00:00:00\",\"2020-02-25T00:00:00\",\"2020-02-26T00:00:00\",\"2020-02-27T00:00:00\",\"2020-02-28T00:00:00\",\"2020-03-02T00:00:00\",\"2020-03-03T00:00:00\",\"2020-03-04T00:00:00\",\"2020-03-05T00:00:00\",\"2020-03-06T00:00:00\",\"2020-03-09T00:00:00\",\"2020-03-10T00:00:00\",\"2020-03-11T00:00:00\",\"2020-03-12T00:00:00\",\"2020-03-13T00:00:00\",\"2020-03-16T00:00:00\",\"2020-03-17T00:00:00\",\"2020-03-18T00:00:00\",\"2020-03-19T00:00:00\",\"2020-03-20T00:00:00\",\"2020-03-23T00:00:00\",\"2020-03-24T00:00:00\",\"2020-03-25T00:00:00\",\"2020-03-26T00:00:00\",\"2020-03-27T00:00:00\",\"2020-03-30T00:00:00\",\"2020-03-31T00:00:00\",\"2020-04-01T00:00:00\",\"2020-04-02T00:00:00\",\"2020-04-03T00:00:00\",\"2020-04-06T00:00:00\",\"2020-04-07T00:00:00\",\"2020-04-08T00:00:00\",\"2020-04-09T00:00:00\",\"2020-04-10T00:00:00\",\"2020-04-13T00:00:00\",\"2020-04-14T00:00:00\",\"2020-04-15T00:00:00\",\"2020-04-16T00:00:00\",\"2020-04-17T00:00:00\",\"2020-04-20T00:00:00\",\"2020-04-21T00:00:00\",\"2020-04-22T00:00:00\",\"2020-04-23T00:00:00\",\"2020-04-24T00:00:00\",\"2020-04-27T00:00:00\",\"2020-04-28T00:00:00\",\"2020-04-29T00:00:00\",\"2020-04-30T00:00:00\",\"2020-05-01T00:00:00\",\"2020-05-04T00:00:00\",\"2020-05-05T00:00:00\",\"2020-05-06T00:00:00\",\"2020-05-07T00:00:00\",\"2020-05-08T00:00:00\",\"2020-05-11T00:00:00\",\"2020-05-12T00:00:00\",\"2020-05-13T00:00:00\",\"2020-05-14T00:00:00\",\"2020-05-15T00:00:00\",\"2020-05-18T00:00:00\",\"2020-05-19T00:00:00\",\"2020-05-20T00:00:00\",\"2020-05-21T00:00:00\",\"2020-05-22T00:00:00\",\"2020-05-25T00:00:00\",\"2020-05-26T00:00:00\",\"2020-05-27T00:00:00\",\"2020-05-28T00:00:00\",\"2020-05-29T00:00:00\",\"2020-06-01T00:00:00\",\"2020-06-02T00:00:00\",\"2020-06-03T00:00:00\",\"2020-06-04T00:00:00\",\"2020-06-05T00:00:00\",\"2020-06-08T00:00:00\",\"2020-06-09T00:00:00\",\"2020-06-10T00:00:00\",\"2020-06-11T00:00:00\",\"2020-06-12T00:00:00\",\"2020-06-15T00:00:00\",\"2020-06-16T00:00:00\",\"2020-06-17T00:00:00\",\"2020-06-18T00:00:00\",\"2020-06-19T00:00:00\",\"2020-06-22T00:00:00\",\"2020-06-23T00:00:00\",\"2020-06-24T00:00:00\",\"2020-06-25T00:00:00\",\"2020-06-26T00:00:00\",\"2020-06-29T00:00:00\",\"2020-06-30T00:00:00\",\"2020-07-01T00:00:00\",\"2020-07-02T00:00:00\",\"2020-07-03T00:00:00\",\"2020-07-06T00:00:00\",\"2020-07-07T00:00:00\",\"2020-07-08T00:00:00\",\"2020-07-09T00:00:00\",\"2020-07-10T00:00:00\",\"2020-07-13T00:00:00\",\"2020-07-14T00:00:00\",\"2020-07-15T00:00:00\",\"2020-07-16T00:00:00\",\"2020-07-17T00:00:00\",\"2020-07-20T00:00:00\",\"2020-07-21T00:00:00\",\"2020-07-22T00:00:00\",\"2020-07-23T00:00:00\",\"2020-07-24T00:00:00\",\"2020-07-27T00:00:00\",\"2020-07-28T00:00:00\",\"2020-07-29T00:00:00\",\"2020-07-30T00:00:00\",\"2020-07-31T00:00:00\",\"2020-08-03T00:00:00\",\"2020-08-04T00:00:00\",\"2020-08-05T00:00:00\",\"2020-08-06T00:00:00\",\"2020-08-07T00:00:00\",\"2020-08-10T00:00:00\",\"2020-08-11T00:00:00\",\"2020-08-12T00:00:00\",\"2020-08-13T00:00:00\",\"2020-08-14T00:00:00\",\"2020-08-17T00:00:00\",\"2020-08-18T00:00:00\",\"2020-08-19T00:00:00\",\"2020-08-20T00:00:00\",\"2020-08-21T00:00:00\",\"2020-08-24T00:00:00\",\"2020-08-25T00:00:00\",\"2020-08-26T00:00:00\",\"2020-08-27T00:00:00\",\"2020-08-28T00:00:00\",\"2020-08-31T00:00:00\",\"2020-09-01T00:00:00\",\"2020-09-02T00:00:00\",\"2020-09-03T00:00:00\",\"2020-09-04T00:00:00\",\"2020-09-07T00:00:00\",\"2020-09-08T00:00:00\",\"2020-09-09T00:00:00\",\"2020-09-10T00:00:00\",\"2020-09-11T00:00:00\",\"2020-09-14T00:00:00\",\"2020-09-15T00:00:00\",\"2020-09-16T00:00:00\",\"2020-09-17T00:00:00\",\"2020-09-18T00:00:00\",\"2020-09-21T00:00:00\",\"2020-09-22T00:00:00\",\"2020-09-23T00:00:00\",\"2020-09-24T00:00:00\",\"2020-09-25T00:00:00\",\"2020-09-28T00:00:00\",\"2020-09-29T00:00:00\",\"2020-09-30T00:00:00\",\"2020-10-01T00:00:00\",\"2020-10-02T00:00:00\",\"2020-10-05T00:00:00\",\"2020-10-06T00:00:00\",\"2020-10-07T00:00:00\",\"2020-10-08T00:00:00\",\"2020-10-09T00:00:00\",\"2020-10-12T00:00:00\",\"2020-10-13T00:00:00\",\"2020-10-14T00:00:00\",\"2020-10-15T00:00:00\",\"2020-10-16T00:00:00\",\"2020-10-19T00:00:00\",\"2020-10-20T00:00:00\",\"2020-10-21T00:00:00\",\"2020-10-22T00:00:00\",\"2020-10-23T00:00:00\",\"2020-10-26T00:00:00\",\"2020-10-27T00:00:00\",\"2020-10-28T00:00:00\",\"2020-10-29T00:00:00\",\"2020-10-30T00:00:00\",\"2020-11-02T00:00:00\",\"2020-11-03T00:00:00\",\"2020-11-04T00:00:00\",\"2020-11-05T00:00:00\",\"2020-11-06T00:00:00\",\"2020-11-09T00:00:00\",\"2020-11-10T00:00:00\",\"2020-11-11T00:00:00\",\"2020-11-12T00:00:00\",\"2020-11-13T00:00:00\",\"2020-11-16T00:00:00\",\"2020-11-17T00:00:00\",\"2020-11-18T00:00:00\",\"2020-11-19T00:00:00\",\"2020-11-20T00:00:00\",\"2020-11-23T00:00:00\",\"2020-11-24T00:00:00\",\"2020-11-25T00:00:00\",\"2020-11-26T00:00:00\",\"2020-11-27T00:00:00\",\"2020-11-30T00:00:00\",\"2020-12-01T00:00:00\",\"2020-12-02T00:00:00\",\"2020-12-03T00:00:00\",\"2020-12-04T00:00:00\",\"2020-12-07T00:00:00\",\"2020-12-08T00:00:00\",\"2020-12-09T00:00:00\",\"2020-12-10T00:00:00\",\"2020-12-11T00:00:00\",\"2020-12-14T00:00:00\",\"2020-12-15T00:00:00\",\"2020-12-16T00:00:00\",\"2020-12-17T00:00:00\",\"2020-12-18T00:00:00\",\"2020-12-21T00:00:00\",\"2020-12-22T00:00:00\",\"2020-12-23T00:00:00\",\"2020-12-24T00:00:00\",\"2020-12-25T00:00:00\",\"2020-12-28T00:00:00\",\"2020-12-29T00:00:00\",\"2020-12-30T00:00:00\",\"2020-12-31T00:00:00\",\"2021-01-01T00:00:00\",\"2021-01-04T00:00:00\",\"2021-01-05T00:00:00\",\"2021-01-06T00:00:00\",\"2021-01-07T00:00:00\",\"2021-01-08T00:00:00\",\"2021-01-11T00:00:00\",\"2021-01-12T00:00:00\",\"2021-01-13T00:00:00\",\"2021-01-14T00:00:00\",\"2021-01-15T00:00:00\",\"2021-01-18T00:00:00\",\"2021-01-19T00:00:00\",\"2021-01-20T00:00:00\",\"2021-01-21T00:00:00\",\"2021-01-22T00:00:00\",\"2021-01-25T00:00:00\",\"2021-01-26T00:00:00\",\"2021-01-27T00:00:00\",\"2021-01-28T00:00:00\",\"2021-01-29T00:00:00\",\"2021-02-01T00:00:00\",\"2021-02-02T00:00:00\",\"2021-02-03T00:00:00\",\"2021-02-04T00:00:00\",\"2021-02-05T00:00:00\",\"2021-02-08T00:00:00\",\"2021-02-09T00:00:00\",\"2021-02-10T00:00:00\",\"2021-02-11T00:00:00\",\"2021-02-12T00:00:00\",\"2021-02-15T00:00:00\",\"2021-02-16T00:00:00\",\"2021-02-17T00:00:00\",\"2021-02-18T00:00:00\",\"2021-02-19T00:00:00\",\"2021-02-22T00:00:00\",\"2021-02-23T00:00:00\",\"2021-02-24T00:00:00\",\"2021-02-25T00:00:00\",\"2021-02-26T00:00:00\",\"2021-03-01T00:00:00\",\"2021-03-02T00:00:00\",\"2021-03-03T00:00:00\",\"2021-03-04T00:00:00\",\"2021-03-05T00:00:00\",\"2021-03-08T00:00:00\",\"2021-03-09T00:00:00\",\"2021-03-10T00:00:00\",\"2021-03-11T00:00:00\",\"2021-03-12T00:00:00\",\"2021-03-15T00:00:00\",\"2021-03-16T00:00:00\",\"2021-03-17T00:00:00\",\"2021-03-18T00:00:00\",\"2021-03-19T00:00:00\",\"2021-03-22T00:00:00\",\"2021-03-23T00:00:00\",\"2021-03-24T00:00:00\",\"2021-03-25T00:00:00\",\"2021-03-26T00:00:00\",\"2021-03-29T00:00:00\",\"2021-03-30T00:00:00\",\"2021-03-31T00:00:00\",\"2021-04-01T00:00:00\",\"2021-04-02T00:00:00\",\"2021-04-05T00:00:00\",\"2021-04-06T00:00:00\",\"2021-04-07T00:00:00\",\"2021-04-08T00:00:00\",\"2021-04-09T00:00:00\",\"2021-04-12T00:00:00\",\"2021-04-13T00:00:00\",\"2021-04-14T00:00:00\",\"2021-04-15T00:00:00\",\"2021-04-16T00:00:00\",\"2021-04-19T00:00:00\",\"2021-04-20T00:00:00\",\"2021-04-21T00:00:00\",\"2021-04-22T00:00:00\",\"2021-04-23T00:00:00\",\"2021-04-26T00:00:00\",\"2021-04-27T00:00:00\",\"2021-04-28T00:00:00\",\"2021-04-29T00:00:00\",\"2021-04-30T00:00:00\",\"2021-05-03T00:00:00\",\"2021-05-04T00:00:00\",\"2021-05-05T00:00:00\",\"2021-05-06T00:00:00\",\"2021-05-07T00:00:00\",\"2021-05-10T00:00:00\",\"2021-05-11T00:00:00\",\"2021-05-12T00:00:00\",\"2021-05-13T00:00:00\",\"2021-05-14T00:00:00\",\"2021-05-17T00:00:00\",\"2021-05-18T00:00:00\",\"2021-05-19T00:00:00\",\"2021-05-20T00:00:00\",\"2021-05-21T00:00:00\",\"2021-05-24T00:00:00\",\"2021-05-25T00:00:00\",\"2021-05-26T00:00:00\",\"2021-05-27T00:00:00\",\"2021-05-28T00:00:00\",\"2021-05-31T00:00:00\",\"2021-06-01T00:00:00\",\"2021-06-02T00:00:00\",\"2021-06-03T00:00:00\",\"2021-06-04T00:00:00\",\"2021-06-07T00:00:00\",\"2021-06-08T00:00:00\",\"2021-06-09T00:00:00\",\"2021-06-10T00:00:00\",\"2021-06-11T00:00:00\",\"2021-06-14T00:00:00\",\"2021-06-15T00:00:00\",\"2021-06-16T00:00:00\",\"2021-06-17T00:00:00\",\"2021-06-18T00:00:00\",\"2021-06-21T00:00:00\",\"2021-06-22T00:00:00\",\"2021-06-23T00:00:00\",\"2021-06-24T00:00:00\",\"2021-06-25T00:00:00\",\"2021-06-28T00:00:00\",\"2021-06-29T00:00:00\",\"2021-06-30T00:00:00\",\"2021-07-01T00:00:00\",\"2021-07-02T00:00:00\",\"2021-07-05T00:00:00\",\"2021-07-06T00:00:00\",\"2021-07-07T00:00:00\",\"2021-07-08T00:00:00\",\"2021-07-09T00:00:00\",\"2021-07-12T00:00:00\",\"2021-07-13T00:00:00\",\"2021-07-14T00:00:00\",\"2021-07-15T00:00:00\",\"2021-07-16T00:00:00\",\"2021-07-19T00:00:00\",\"2021-07-20T00:00:00\",\"2021-07-21T00:00:00\",\"2021-07-22T00:00:00\",\"2021-07-23T00:00:00\",\"2021-07-26T00:00:00\",\"2021-07-27T00:00:00\",\"2021-07-28T00:00:00\",\"2021-07-29T00:00:00\"],\"y\":[10399.6689453125,10518.1748046875,11805.6533203125,11478.1689453125,11941.96875,11966.4072265625,11862.9365234375,11382.6162109375,10895.830078125,10051.7041015625,10311.5458984375,10374.3388671875,10916.0537109375,10763.232421875,10138.0498046875,10131.0556640625,10407.96484375,10370.8203125,10185.5,9754.4228515625,9510.2001953125,9598.173828125,10346.7607421875,10623.5400390625,10594.4931640625,10575.533203125,10353.302734375,10334.974609375,10115.9755859375,10178.3720703125,10410.126953125,10360.546875,10276.7939453125,10241.2724609375,10198.248046875,10266.4150390625,10181.6416015625,9729.32421875,8620.56640625,8486.9931640625,8118.9677734375,8251.845703125,8293.8681640625,8343.2763671875,8393.0419921875,8259.9921875,8205.939453125,8245.623046875,8228.783203125,8595.740234375,8586.4736328125,8321.7568359375,8374.6865234375,8205.369140625,8047.52685546875,8103.9111328125,7973.20751953125,8243.720703125,8078.203125,7514.671875,7493.48876953125,8660.7001953125,9256.1484375,9427.6875,9205.7265625,9199.5849609375,9261.1044921875,9412.6123046875,9342.52734375,9360.8798828125,9267.5615234375,8804.880859375,8757.7880859375,8815.662109375,8808.2626953125,8708.0947265625,8491.9921875,8309.2861328125,8206.1455078125,8027.26806640625,7642.75,7296.57763671875,7146.1337890625,7218.37109375,7531.66357421875,7463.10595703125,7761.24365234375,7321.98828125,7320.1455078125,7252.03466796875,7448.3076171875,7546.99658203125,7400.8994140625,7278.11962890625,7217.42724609375,7243.13427734375,7269.6845703125,6932.48046875,6640.51513671875,7276.802734375,7202.84423828125,7218.81640625,7355.62841796875,7322.5322265625,7275.15576171875,7238.966796875,7290.08837890625,7292.9951171875,7193.59912109375,7200.17431640625,6985.47021484375,7344.88427734375,7769.21923828125,8163.6923828125,8079.86279296875,7879.0712890625,8166.55419921875,8144.1943359375,8827.7646484375,8807.0107421875,8723.7861328125,8929.0380859375,8657.642578125,8745.89453125,8680.8759765625,8406.515625,8445.4345703125,8909.8193359375,9358.58984375,9316.6298828125,9508.9931640625,9350.529296875,9293.521484375,9180.962890625,9613.423828125,9729.8017578125,9795.943359375,9856.611328125,10208.236328125,10326.0546875,10214.3798828125,10312.1162109375,9690.142578125,10141.99609375,9633.38671875,9608.4755859375,9686.44140625,9650.1748046875,9341.705078125,8820.5224609375,8784.494140625,8672.455078125,8869.669921875,8787.7861328125,8755.24609375,9078.7626953125,9122.5458984375,7923.64453125,7909.7294921875,7911.43017578125,4970.7880859375,5563.70703125,5014.47998046875,5225.62939453125,5238.4384765625,6191.19287109375,6198.7783203125,6416.31494140625,6734.8037109375,6681.06298828125,6716.4404296875,6469.79833984375,6429.841796875,6438.64453125,6606.7763671875,6793.62451171875,6733.38720703125,7271.78125,7176.41455078125,7334.0986328125,7302.08935546875,6865.4931640625,6845.03759765625,6842.427734375,6642.10986328125,7116.80419921875,7096.1845703125,6881.95849609375,6880.3232421875,7117.20751953125,7429.724609375,7550.90087890625,7795.60107421875,7807.05859375,8801.0380859375,8658.5537109375,8864.7666015625,8912.654296875,9003.0703125,9268.76171875,9951.5185546875,9842.666015625,8601.7958984375,8804.4775390625,9269.9873046875,9733.7216796875,9328.197265625,9726.5751953125,9729.0380859375,9522.9814453125,9081.76171875,9182.5771484375,8906.9345703125,8835.052734375,9181.017578125,9525.7509765625,9439.1240234375,10167.2685546875,9529.8037109375,9656.7177734375,9800.63671875,9665.533203125,9771.4892578125,9795.7001953125,9870.0947265625,9321.78125,9480.84375,9450.7021484375,9538.0244140625,9480.2548828125,9411.8408203125,9288.0185546875,9648.7177734375,9629.658203125,9313.6103515625,9264.8134765625,9162.91796875,9190.8544921875,9137.9931640625,9228.3251953125,9123.41015625,9087.3037109375,9375.474609375,9252.27734375,9428.3330078125,9277.9677734375,9278.8076171875,9243.6142578125,9243.2138671875,9192.8369140625,9132.2275390625,9151.392578125,9164.2314453125,9374.8876953125,9525.36328125,9581.072265625,9536.892578125,10990.873046875,10912.8232421875,11100.4677734375,11111.2138671875,11323.466796875,11246.3486328125,11205.892578125,11747.0224609375,11779.7734375,11601.47265625,11878.111328125,11410.525390625,11584.9345703125,11784.1376953125,11768.87109375,12254.40234375,11991.2333984375,11758.283203125,11878.3720703125,11592.4892578125,11774.595703125,11366.134765625,11488.36328125,11323.3974609375,11542.5,11680.8203125,11970.478515625,11414.0341796875,10245.296875,10511.8134765625,10369.5634765625,10131.5166015625,10242.34765625,10363.138671875,10400.9150390625,10680.837890625,10796.951171875,10974.9052734375,10948.990234375,10944.5859375,10462.259765625,10538.4599609375,10246.1865234375,10760.06640625,10692.716796875,10709.65234375,10844.640625,10784.4912109375,10619.4521484375,10575.974609375,10793.33984375,10604.40625,10668.96875,10915.685546875,11064.4580078125,11555.36328125,11425.8994140625,11429.5068359375,11495.349609375,11322.123046875,11742.037109375,11916.3349609375,12823.689453125,12965.8916015625,12931.5390625,13075.248046875,13654.21875,13271.28515625,13437.8828125,13546.5224609375,13550.4892578125,13950.30078125,14133.70703125,15579.8486328125,15565.880859375,15332.3154296875,15290.90234375,15701.33984375,16276.34375,16317.80859375,16716.111328125,17645.40625,17804.005859375,17817.08984375,18621.314453125,18364.12109375,19107.46484375,18732.12109375,17150.623046875,17108.40234375,19625.8359375,18802.998046875,19201.091796875,19445.3984375,18699.765625,19191.630859375,18321.14453125,18553.916015625,18264.9921875,18058.904296875,19246.64453125,19417.076171875,21310.59765625,22805.162109375,23137.9609375,22803.08203125,23783.029296875,23241.345703125,23735.94921875,24664.791015625,27084.80859375,27362.4375,28840.953125,29001.720703125,29374.15234375,31971.9140625,33992.4296875,36824.36328125,39371.04296875,40797.609375,35566.65625,33922.9609375,37316.359375,39187.328125,36825.3671875,36630.07421875,36069.8046875,35547.75,30825.69921875,33005.76171875,32366.392578125,32569.849609375,30432.546875,33466.09765625,34316.38671875,33537.17578125,35510.2890625,37472.08984375,36926.06640625,38144.30859375,46196.46484375,46481.10546875,44918.18359375,47909.33203125,47504.8515625,47945.05859375,49199.87109375,52149.0078125,51679.796875,55888.1328125,54207.3203125,48824.42578125,49705.33203125,47093.8515625,46339.76171875,49631.2421875,48378.98828125,50538.2421875,48561.16796875,48927.3046875,52246.5234375,54824.1171875,56008.55078125,57805.12109375,57332.08984375,55907.19921875,56804.90234375,58870.89453125,57858.921875,58346.65234375,54529.14453125,54738.9453125,52774.265625,51704.16015625,55137.3125,57750.19921875,58917.69140625,58918.83203125,59095.80859375,59384.3125,59057.87890625,58192.359375,56048.9375,58323.953125,58245.00390625,59893.453125,63503.45703125,63109.6953125,63314.01171875,61572.7890625,55724.265625,56473.03125,53906.08984375,51762.2734375,51093.65234375,54021.75390625,55033.1171875,54824.703125,53555.109375,57750.17578125,57200.29296875,53333.5390625,57424.0078125,56396.515625,57356.40234375,55859.796875,56704.57421875,49150.53515625,49716.19140625,49880.53515625,43537.51171875,42909.40234375,37002.44140625,40782.73828125,37304.69140625,38705.98046875,38402.22265625,39294.19921875,38436.96875,35697.60546875,37332.85546875,36684.92578125,37575.1796875,39208.765625,36894.40625,33560.70703125,33472.6328125,37345.12109375,36702.59765625,37334.3984375,40218.4765625,40406.26953125,38347.0625,38053.50390625,35787.24609375,31676.693359375,32505.66015625,33723.02734375,34662.4375,31637.779296875,34434.3359375,35867.77734375,35040.8359375,33572.1171875,33897.046875,33746.00390625,34235.1953125,33855.328125,32877.37109375,33798.01171875,33155.84765625,32702.025390625,32822.34765625,31780.73046875,31421.5390625,30817.83203125,29807.34765625,32110.693359375,32313.10546875,33581.55078125,37337.53515625,39406.94140625,39995.90625,40008.421875],\"type\":\"scatter\"},{\"mode\":\"lines\",\"name\":\"Dolar\",\"x\":[\"2019-08-01T00:00:00\",\"2019-08-02T00:00:00\",\"2019-08-05T00:00:00\",\"2019-08-06T00:00:00\",\"2019-08-07T00:00:00\",\"2019-08-08T00:00:00\",\"2019-08-09T00:00:00\",\"2019-08-12T00:00:00\",\"2019-08-13T00:00:00\",\"2019-08-14T00:00:00\",\"2019-08-15T00:00:00\",\"2019-08-16T00:00:00\",\"2019-08-19T00:00:00\",\"2019-08-20T00:00:00\",\"2019-08-21T00:00:00\",\"2019-08-22T00:00:00\",\"2019-08-23T00:00:00\",\"2019-08-26T00:00:00\",\"2019-08-27T00:00:00\",\"2019-08-28T00:00:00\",\"2019-08-29T00:00:00\",\"2019-08-30T00:00:00\",\"2019-09-02T00:00:00\",\"2019-09-03T00:00:00\",\"2019-09-04T00:00:00\",\"2019-09-05T00:00:00\",\"2019-09-06T00:00:00\",\"2019-09-09T00:00:00\",\"2019-09-10T00:00:00\",\"2019-09-11T00:00:00\",\"2019-09-12T00:00:00\",\"2019-09-13T00:00:00\",\"2019-09-16T00:00:00\",\"2019-09-17T00:00:00\",\"2019-09-18T00:00:00\",\"2019-09-19T00:00:00\",\"2019-09-20T00:00:00\",\"2019-09-23T00:00:00\",\"2019-09-24T00:00:00\",\"2019-09-25T00:00:00\",\"2019-09-26T00:00:00\",\"2019-09-27T00:00:00\",\"2019-09-30T00:00:00\",\"2019-10-01T00:00:00\",\"2019-10-02T00:00:00\",\"2019-10-03T00:00:00\",\"2019-10-04T00:00:00\",\"2019-10-07T00:00:00\",\"2019-10-08T00:00:00\",\"2019-10-09T00:00:00\",\"2019-10-10T00:00:00\",\"2019-10-11T00:00:00\",\"2019-10-14T00:00:00\",\"2019-10-15T00:00:00\",\"2019-10-16T00:00:00\",\"2019-10-17T00:00:00\",\"2019-10-18T00:00:00\",\"2019-10-21T00:00:00\",\"2019-10-22T00:00:00\",\"2019-10-23T00:00:00\",\"2019-10-24T00:00:00\",\"2019-10-25T00:00:00\",\"2019-10-28T00:00:00\",\"2019-10-29T00:00:00\",\"2019-10-30T00:00:00\",\"2019-10-31T00:00:00\",\"2019-11-01T00:00:00\",\"2019-11-04T00:00:00\",\"2019-11-05T00:00:00\",\"2019-11-06T00:00:00\",\"2019-11-07T00:00:00\",\"2019-11-08T00:00:00\",\"2019-11-11T00:00:00\",\"2019-11-12T00:00:00\",\"2019-11-13T00:00:00\",\"2019-11-14T00:00:00\",\"2019-11-15T00:00:00\",\"2019-11-18T00:00:00\",\"2019-11-19T00:00:00\",\"2019-11-20T00:00:00\",\"2019-11-21T00:00:00\",\"2019-11-22T00:00:00\",\"2019-11-25T00:00:00\",\"2019-11-26T00:00:00\",\"2019-11-27T00:00:00\",\"2019-11-28T00:00:00\",\"2019-11-29T00:00:00\",\"2019-12-02T00:00:00\",\"2019-12-03T00:00:00\",\"2019-12-04T00:00:00\",\"2019-12-05T00:00:00\",\"2019-12-06T00:00:00\",\"2019-12-09T00:00:00\",\"2019-12-10T00:00:00\",\"2019-12-11T00:00:00\",\"2019-12-12T00:00:00\",\"2019-12-13T00:00:00\",\"2019-12-16T00:00:00\",\"2019-12-17T00:00:00\",\"2019-12-18T00:00:00\",\"2019-12-19T00:00:00\",\"2019-12-20T00:00:00\",\"2019-12-23T00:00:00\",\"2019-12-24T00:00:00\",\"2019-12-25T00:00:00\",\"2019-12-26T00:00:00\",\"2019-12-27T00:00:00\",\"2019-12-30T00:00:00\",\"2019-12-31T00:00:00\",\"2020-01-01T00:00:00\",\"2020-01-02T00:00:00\",\"2020-01-03T00:00:00\",\"2020-01-06T00:00:00\",\"2020-01-07T00:00:00\",\"2020-01-08T00:00:00\",\"2020-01-09T00:00:00\",\"2020-01-10T00:00:00\",\"2020-01-13T00:00:00\",\"2020-01-14T00:00:00\",\"2020-01-15T00:00:00\",\"2020-01-16T00:00:00\",\"2020-01-17T00:00:00\",\"2020-01-20T00:00:00\",\"2020-01-21T00:00:00\",\"2020-01-22T00:00:00\",\"2020-01-23T00:00:00\",\"2020-01-24T00:00:00\",\"2020-01-27T00:00:00\",\"2020-01-28T00:00:00\",\"2020-01-29T00:00:00\",\"2020-01-30T00:00:00\",\"2020-01-31T00:00:00\",\"2020-02-03T00:00:00\",\"2020-02-04T00:00:00\",\"2020-02-05T00:00:00\",\"2020-02-06T00:00:00\",\"2020-02-07T00:00:00\",\"2020-02-10T00:00:00\",\"2020-02-11T00:00:00\",\"2020-02-12T00:00:00\",\"2020-02-13T00:00:00\",\"2020-02-14T00:00:00\",\"2020-02-17T00:00:00\",\"2020-02-18T00:00:00\",\"2020-02-19T00:00:00\",\"2020-02-20T00:00:00\",\"2020-02-21T00:00:00\",\"2020-02-24T00:00:00\",\"2020-02-25T00:00:00\",\"2020-02-26T00:00:00\",\"2020-02-27T00:00:00\",\"2020-02-28T00:00:00\",\"2020-03-02T00:00:00\",\"2020-03-03T00:00:00\",\"2020-03-04T00:00:00\",\"2020-03-05T00:00:00\",\"2020-03-06T00:00:00\",\"2020-03-09T00:00:00\",\"2020-03-10T00:00:00\",\"2020-03-11T00:00:00\",\"2020-03-12T00:00:00\",\"2020-03-13T00:00:00\",\"2020-03-16T00:00:00\",\"2020-03-17T00:00:00\",\"2020-03-18T00:00:00\",\"2020-03-19T00:00:00\",\"2020-03-20T00:00:00\",\"2020-03-23T00:00:00\",\"2020-03-24T00:00:00\",\"2020-03-25T00:00:00\",\"2020-03-26T00:00:00\",\"2020-03-27T00:00:00\",\"2020-03-30T00:00:00\",\"2020-03-31T00:00:00\",\"2020-04-01T00:00:00\",\"2020-04-02T00:00:00\",\"2020-04-03T00:00:00\",\"2020-04-06T00:00:00\",\"2020-04-07T00:00:00\",\"2020-04-08T00:00:00\",\"2020-04-09T00:00:00\",\"2020-04-10T00:00:00\",\"2020-04-13T00:00:00\",\"2020-04-14T00:00:00\",\"2020-04-15T00:00:00\",\"2020-04-16T00:00:00\",\"2020-04-17T00:00:00\",\"2020-04-20T00:00:00\",\"2020-04-21T00:00:00\",\"2020-04-22T00:00:00\",\"2020-04-23T00:00:00\",\"2020-04-24T00:00:00\",\"2020-04-27T00:00:00\",\"2020-04-28T00:00:00\",\"2020-04-29T00:00:00\",\"2020-04-30T00:00:00\",\"2020-05-01T00:00:00\",\"2020-05-04T00:00:00\",\"2020-05-05T00:00:00\",\"2020-05-06T00:00:00\",\"2020-05-07T00:00:00\",\"2020-05-08T00:00:00\",\"2020-05-11T00:00:00\",\"2020-05-12T00:00:00\",\"2020-05-13T00:00:00\",\"2020-05-14T00:00:00\",\"2020-05-15T00:00:00\",\"2020-05-18T00:00:00\",\"2020-05-19T00:00:00\",\"2020-05-20T00:00:00\",\"2020-05-21T00:00:00\",\"2020-05-22T00:00:00\",\"2020-05-25T00:00:00\",\"2020-05-26T00:00:00\",\"2020-05-27T00:00:00\",\"2020-05-28T00:00:00\",\"2020-05-29T00:00:00\",\"2020-06-01T00:00:00\",\"2020-06-02T00:00:00\",\"2020-06-03T00:00:00\",\"2020-06-04T00:00:00\",\"2020-06-05T00:00:00\",\"2020-06-08T00:00:00\",\"2020-06-09T00:00:00\",\"2020-06-10T00:00:00\",\"2020-06-11T00:00:00\",\"2020-06-12T00:00:00\",\"2020-06-15T00:00:00\",\"2020-06-16T00:00:00\",\"2020-06-17T00:00:00\",\"2020-06-18T00:00:00\",\"2020-06-19T00:00:00\",\"2020-06-22T00:00:00\",\"2020-06-23T00:00:00\",\"2020-06-24T00:00:00\",\"2020-06-25T00:00:00\",\"2020-06-26T00:00:00\",\"2020-06-29T00:00:00\",\"2020-06-30T00:00:00\",\"2020-07-01T00:00:00\",\"2020-07-02T00:00:00\",\"2020-07-03T00:00:00\",\"2020-07-06T00:00:00\",\"2020-07-07T00:00:00\",\"2020-07-08T00:00:00\",\"2020-07-09T00:00:00\",\"2020-07-10T00:00:00\",\"2020-07-13T00:00:00\",\"2020-07-14T00:00:00\",\"2020-07-15T00:00:00\",\"2020-07-16T00:00:00\",\"2020-07-17T00:00:00\",\"2020-07-20T00:00:00\",\"2020-07-21T00:00:00\",\"2020-07-22T00:00:00\",\"2020-07-23T00:00:00\",\"2020-07-24T00:00:00\",\"2020-07-27T00:00:00\",\"2020-07-28T00:00:00\",\"2020-07-29T00:00:00\",\"2020-07-30T00:00:00\",\"2020-07-31T00:00:00\",\"2020-08-03T00:00:00\",\"2020-08-04T00:00:00\",\"2020-08-05T00:00:00\",\"2020-08-06T00:00:00\",\"2020-08-07T00:00:00\",\"2020-08-10T00:00:00\",\"2020-08-11T00:00:00\",\"2020-08-12T00:00:00\",\"2020-08-13T00:00:00\",\"2020-08-14T00:00:00\",\"2020-08-17T00:00:00\",\"2020-08-18T00:00:00\",\"2020-08-19T00:00:00\",\"2020-08-20T00:00:00\",\"2020-08-21T00:00:00\",\"2020-08-24T00:00:00\",\"2020-08-25T00:00:00\",\"2020-08-26T00:00:00\",\"2020-08-27T00:00:00\",\"2020-08-28T00:00:00\",\"2020-08-31T00:00:00\",\"2020-09-01T00:00:00\",\"2020-09-02T00:00:00\",\"2020-09-03T00:00:00\",\"2020-09-04T00:00:00\",\"2020-09-07T00:00:00\",\"2020-09-08T00:00:00\",\"2020-09-09T00:00:00\",\"2020-09-10T00:00:00\",\"2020-09-11T00:00:00\",\"2020-09-14T00:00:00\",\"2020-09-15T00:00:00\",\"2020-09-16T00:00:00\",\"2020-09-17T00:00:00\",\"2020-09-18T00:00:00\",\"2020-09-21T00:00:00\",\"2020-09-22T00:00:00\",\"2020-09-23T00:00:00\",\"2020-09-24T00:00:00\",\"2020-09-25T00:00:00\",\"2020-09-28T00:00:00\",\"2020-09-29T00:00:00\",\"2020-09-30T00:00:00\",\"2020-10-01T00:00:00\",\"2020-10-02T00:00:00\",\"2020-10-05T00:00:00\",\"2020-10-06T00:00:00\",\"2020-10-07T00:00:00\",\"2020-10-08T00:00:00\",\"2020-10-09T00:00:00\",\"2020-10-12T00:00:00\",\"2020-10-13T00:00:00\",\"2020-10-14T00:00:00\",\"2020-10-15T00:00:00\",\"2020-10-16T00:00:00\",\"2020-10-19T00:00:00\",\"2020-10-20T00:00:00\",\"2020-10-21T00:00:00\",\"2020-10-22T00:00:00\",\"2020-10-23T00:00:00\",\"2020-10-26T00:00:00\",\"2020-10-27T00:00:00\",\"2020-10-28T00:00:00\",\"2020-10-29T00:00:00\",\"2020-10-30T00:00:00\",\"2020-11-02T00:00:00\",\"2020-11-03T00:00:00\",\"2020-11-04T00:00:00\",\"2020-11-05T00:00:00\",\"2020-11-06T00:00:00\",\"2020-11-09T00:00:00\",\"2020-11-10T00:00:00\",\"2020-11-11T00:00:00\",\"2020-11-12T00:00:00\",\"2020-11-13T00:00:00\",\"2020-11-16T00:00:00\",\"2020-11-17T00:00:00\",\"2020-11-18T00:00:00\",\"2020-11-19T00:00:00\",\"2020-11-20T00:00:00\",\"2020-11-23T00:00:00\",\"2020-11-24T00:00:00\",\"2020-11-25T00:00:00\",\"2020-11-26T00:00:00\",\"2020-11-27T00:00:00\",\"2020-11-30T00:00:00\",\"2020-12-01T00:00:00\",\"2020-12-02T00:00:00\",\"2020-12-03T00:00:00\",\"2020-12-04T00:00:00\",\"2020-12-07T00:00:00\",\"2020-12-08T00:00:00\",\"2020-12-09T00:00:00\",\"2020-12-10T00:00:00\",\"2020-12-11T00:00:00\",\"2020-12-14T00:00:00\",\"2020-12-15T00:00:00\",\"2020-12-16T00:00:00\",\"2020-12-17T00:00:00\",\"2020-12-18T00:00:00\",\"2020-12-21T00:00:00\",\"2020-12-22T00:00:00\",\"2020-12-23T00:00:00\",\"2020-12-24T00:00:00\",\"2020-12-25T00:00:00\",\"2020-12-28T00:00:00\",\"2020-12-29T00:00:00\",\"2020-12-30T00:00:00\",\"2020-12-31T00:00:00\",\"2021-01-01T00:00:00\",\"2021-01-04T00:00:00\",\"2021-01-05T00:00:00\",\"2021-01-06T00:00:00\",\"2021-01-07T00:00:00\",\"2021-01-08T00:00:00\",\"2021-01-11T00:00:00\",\"2021-01-12T00:00:00\",\"2021-01-13T00:00:00\",\"2021-01-14T00:00:00\",\"2021-01-15T00:00:00\",\"2021-01-18T00:00:00\",\"2021-01-19T00:00:00\",\"2021-01-20T00:00:00\",\"2021-01-21T00:00:00\",\"2021-01-22T00:00:00\",\"2021-01-25T00:00:00\",\"2021-01-26T00:00:00\",\"2021-01-27T00:00:00\",\"2021-01-28T00:00:00\",\"2021-01-29T00:00:00\",\"2021-02-01T00:00:00\",\"2021-02-02T00:00:00\",\"2021-02-03T00:00:00\",\"2021-02-04T00:00:00\",\"2021-02-05T00:00:00\",\"2021-02-08T00:00:00\",\"2021-02-09T00:00:00\",\"2021-02-10T00:00:00\",\"2021-02-11T00:00:00\",\"2021-02-12T00:00:00\",\"2021-02-15T00:00:00\",\"2021-02-16T00:00:00\",\"2021-02-17T00:00:00\",\"2021-02-18T00:00:00\",\"2021-02-19T00:00:00\",\"2021-02-22T00:00:00\",\"2021-02-23T00:00:00\",\"2021-02-24T00:00:00\",\"2021-02-25T00:00:00\",\"2021-02-26T00:00:00\",\"2021-03-01T00:00:00\",\"2021-03-02T00:00:00\",\"2021-03-03T00:00:00\",\"2021-03-04T00:00:00\",\"2021-03-05T00:00:00\",\"2021-03-08T00:00:00\",\"2021-03-09T00:00:00\",\"2021-03-10T00:00:00\",\"2021-03-11T00:00:00\",\"2021-03-12T00:00:00\",\"2021-03-15T00:00:00\",\"2021-03-16T00:00:00\",\"2021-03-17T00:00:00\",\"2021-03-18T00:00:00\",\"2021-03-19T00:00:00\",\"2021-03-22T00:00:00\",\"2021-03-23T00:00:00\",\"2021-03-24T00:00:00\",\"2021-03-25T00:00:00\",\"2021-03-26T00:00:00\",\"2021-03-29T00:00:00\",\"2021-03-30T00:00:00\",\"2021-03-31T00:00:00\",\"2021-04-01T00:00:00\",\"2021-04-02T00:00:00\",\"2021-04-05T00:00:00\",\"2021-04-06T00:00:00\",\"2021-04-07T00:00:00\",\"2021-04-08T00:00:00\",\"2021-04-09T00:00:00\",\"2021-04-12T00:00:00\",\"2021-04-13T00:00:00\",\"2021-04-14T00:00:00\",\"2021-04-15T00:00:00\",\"2021-04-16T00:00:00\",\"2021-04-19T00:00:00\",\"2021-04-20T00:00:00\",\"2021-04-21T00:00:00\",\"2021-04-22T00:00:00\",\"2021-04-23T00:00:00\",\"2021-04-26T00:00:00\",\"2021-04-27T00:00:00\",\"2021-04-28T00:00:00\",\"2021-04-29T00:00:00\",\"2021-04-30T00:00:00\",\"2021-05-03T00:00:00\",\"2021-05-04T00:00:00\",\"2021-05-05T00:00:00\",\"2021-05-06T00:00:00\",\"2021-05-07T00:00:00\",\"2021-05-10T00:00:00\",\"2021-05-11T00:00:00\",\"2021-05-12T00:00:00\",\"2021-05-13T00:00:00\",\"2021-05-14T00:00:00\",\"2021-05-17T00:00:00\",\"2021-05-18T00:00:00\",\"2021-05-19T00:00:00\",\"2021-05-20T00:00:00\",\"2021-05-21T00:00:00\",\"2021-05-24T00:00:00\",\"2021-05-25T00:00:00\",\"2021-05-26T00:00:00\",\"2021-05-27T00:00:00\",\"2021-05-28T00:00:00\",\"2021-05-31T00:00:00\",\"2021-06-01T00:00:00\",\"2021-06-02T00:00:00\",\"2021-06-03T00:00:00\",\"2021-06-04T00:00:00\",\"2021-06-07T00:00:00\",\"2021-06-08T00:00:00\",\"2021-06-09T00:00:00\",\"2021-06-10T00:00:00\",\"2021-06-11T00:00:00\",\"2021-06-14T00:00:00\",\"2021-06-15T00:00:00\",\"2021-06-16T00:00:00\",\"2021-06-17T00:00:00\",\"2021-06-18T00:00:00\",\"2021-06-21T00:00:00\",\"2021-06-22T00:00:00\",\"2021-06-23T00:00:00\",\"2021-06-24T00:00:00\",\"2021-06-25T00:00:00\",\"2021-06-28T00:00:00\",\"2021-06-29T00:00:00\",\"2021-06-30T00:00:00\",\"2021-07-01T00:00:00\",\"2021-07-02T00:00:00\",\"2021-07-05T00:00:00\",\"2021-07-06T00:00:00\",\"2021-07-07T00:00:00\",\"2021-07-08T00:00:00\",\"2021-07-09T00:00:00\",\"2021-07-12T00:00:00\",\"2021-07-13T00:00:00\",\"2021-07-14T00:00:00\",\"2021-07-15T00:00:00\",\"2021-07-16T00:00:00\",\"2021-07-19T00:00:00\",\"2021-07-20T00:00:00\",\"2021-07-21T00:00:00\",\"2021-07-22T00:00:00\",\"2021-07-23T00:00:00\",\"2021-07-26T00:00:00\",\"2021-07-27T00:00:00\",\"2021-07-28T00:00:00\",\"2021-07-29T00:00:00\"],\"y\":[3.8403,3.8893,3.9783,3.9612,3.9691,3.9199,3.9416,3.9855,3.966,4.0526,3.991,4.0058,4.0743,4.0542,4.0269,4.0707,4.1198,4.1571,4.1311,4.1682,4.1687,4.1454,4.1871,4.1681,4.0951,4.1095,4.0618,4.0953,4.0808,4.068,4.0608,4.0849,4.081,4.0777,4.1112,4.1678,4.148,4.1638,4.165,4.1491,4.1711,4.1602,4.1556,4.1591,4.1293,4.084,4.0556,4.1071,4.0954,4.1104,4.1095,4.1097,4.1265,4.1807,4.1518,4.1643,4.1118,4.1294,4.0819,4.0345,4.0414,4.0038,3.991,3.9986,3.9909,4.0184,3.9904,4.0156,3.9938,4.0837,4.1007,4.1635,4.1518,4.1677,4.1705,4.1951,4.1962,4.218,4.1945,4.1965,4.1932,4.1966,4.2269,4.2332,4.2638,4.1903,4.2367,4.2234,4.2066,4.208,4.186,4.1414,4.1425,4.147,4.1242,4.0908,4.1082,4.0632,4.0718,4.0634,4.0697,4.1025,4.0836,4.0838,4.0838,4.056,4.0459,4.0195,4.0195,4.0195,4.0263,4.0672,4.0618,4.0679,4.0649,4.0928,4.0962,4.1469,4.133,4.1756,4.1851,4.162,4.1902,4.2126,4.1829,4.1707,4.1816,4.2077,4.1945,4.2306,4.2432,4.2824,4.248,4.2547,4.2357,4.2825,4.3206,4.3251,4.3318,4.3552,4.3502,4.2976,4.3272,4.3559,4.3653,4.3935,4.3897,4.3883,4.3883,4.4505,4.4863,4.4735,4.4744,4.5148,4.585,4.6076,4.6272,4.7246,4.6439,4.8152,4.7916,4.8596,5.0005,5.01,5.1075,5.096,5.064,5.1447,5.0995,5.0366,5.0219,5.0997,5.1936,5.2046,5.2493,5.2533,5.3506,5.2863,5.2214,5.1233,5.107,5.1063,5.1994,5.1621,5.2367,5.2333,5.2363,5.3168,5.3163,5.458,5.5335,5.5907,5.6526,5.4999,5.3348,5.4858,5.4856,5.545,5.5783,5.714,5.8307,5.7319,5.818,5.8856,5.8852,5.8115,5.8554,5.719,5.754,5.6925,5.5507,5.5338,5.4461,5.345,5.2733,5.4045,5.3361,5.3633,5.2014,5.0622,5.119,4.9585,4.823,4.8992,4.9732,4.976,5.0505,5.1557,5.243,5.2286,5.3776,5.3105,5.2524,5.1542,5.3467,5.3561,5.484,5.4034,5.4661,5.3174,5.3596,5.3158,5.3562,5.379,5.3422,5.3413,5.3238,5.404,5.3674,5.3698,5.3311,5.3849,5.3283,5.1713,5.1166,5.2112,5.2329,5.1447,5.1533,5.1692,5.1534,5.224,5.3213,5.29,5.2902,5.3315,5.4383,5.4812,5.38,5.4333,5.369,5.4204,5.509,5.4666,5.5575,5.5568,5.6192,5.61,5.5075,5.6054,5.5691,5.3881,5.4914,5.396,5.3403,5.2914,5.3012,5.2997,5.3638,5.3078,5.321,5.3189,5.2706,5.2748,5.2377,5.2394,5.3876,5.4131,5.4704,5.5943,5.5089,5.5624,5.6627,5.6344,5.6112,5.6437,5.6851,5.5743,5.593,5.6097,5.5987,5.5318,5.5316,5.5693,5.5912,5.6126,5.6428,5.6069,5.6054,5.6066,5.5893,5.6175,5.6229,5.7055,5.7457,5.779,5.7446,5.7425,5.756,5.6635,5.525,5.3647,5.3858,5.4147,5.391,5.4581,5.4582,5.4152,5.3281,5.3629,5.3054,5.3797,5.439,5.3736,5.3237,5.3365,5.3438,5.3319,5.2061,5.2175,5.1515,5.1557,5.099,5.1202,5.1708,5.0256,5.0656,5.1189,5.0842,5.0838,5.0582,5.1022,5.1222,5.1597,5.2164,5.2165,5.2167,5.2461,5.2099,5.1937,5.194,5.194,5.2968,5.2854,5.3139,5.4101,5.4178,5.489,5.3226,5.299,5.1967,5.2927,5.2957,5.3578,5.2917,5.3506,5.4666,5.4665,5.3552,5.4138,5.441,5.4625,5.4322,5.368,5.3534,5.4266,5.3704,5.3657,5.3781,5.386,5.3665,5.3698,5.3701,5.3695,5.4105,5.427,5.3823,5.4659,5.4409,5.4062,5.5308,5.5986,5.6418,5.6761,5.6193,5.6693,5.6908,5.8755,5.8025,5.672,5.5357,5.5518,5.6156,5.6246,5.5832,5.5604,5.4917,5.5045,5.5214,5.6209,5.6475,5.7566,5.7799,5.7745,5.6315,5.7071,5.7075,5.6632,5.5904,5.6143,5.572,5.6821,5.7333,5.7166,5.6526,5.6162,5.5883,5.5461,5.5687,5.569,5.4448,5.4751,5.4364,5.449,5.343,5.3375,5.4366,5.442,5.4435,5.3542,5.276,5.2368,5.2272,5.2208,5.3061,5.309,5.2728,5.2729,5.2605,5.3094,5.2825,5.3617,5.3175,5.3312,5.3115,5.2383,5.2244,5.2172,5.1509,5.0754,5.0775,5.0495,5.0451,5.0325,5.0621,5.0552,5.1171,5.0601,5.0437,5.0545,5.0059,5.0894,5.013,4.9574,4.9667,4.9137,4.9335,4.9244,4.9559,4.9686,5.0476,5.0575,5.091,5.1969,5.2315,5.2579,5.2597,5.173,5.1622,5.0706,5.11,5.1147,5.2519,5.2205,5.1874,5.2003,5.2006,5.1761,5.169,5.1157,5.0812],\"type\":\"scatter\"}],                        {\"title\":{\"text\":\"Pre\\u00e7o do Bitcoin em rela\\u00e7\\u00e3o ao D\\u00f3lar\"},\"xaxis\":{\"title\":{\"text\":\"Data\"}},\"yaxis\":{\"title\":{\"text\":\"Pre\\u00e7o\"}},\"template\":{\"data\":{\"histogram2dcontour\":[{\"type\":\"histogram2dcontour\",\"colorbar\":{\"outlinewidth\":0,\"ticks\":\"\"},\"colorscale\":[[0.0,\"#0d0887\"],[0.1111111111111111,\"#46039f\"],[0.2222222222222222,\"#7201a8\"],[0.3333333333333333,\"#9c179e\"],[0.4444444444444444,\"#bd3786\"],[0.5555555555555556,\"#d8576b\"],[0.6666666666666666,\"#ed7953\"],[0.7777777777777778,\"#fb9f3a\"],[0.8888888888888888,\"#fdca26\"],[1.0,\"#f0f921\"]]}],\"choropleth\":[{\"type\":\"choropleth\",\"colorbar\":{\"outlinewidth\":0,\"ticks\":\"\"}}],\"histogram2d\":[{\"type\":\"histogram2d\",\"colorbar\":{\"outlinewidth\":0,\"ticks\":\"\"},\"colorscale\":[[0.0,\"#0d0887\"],[0.1111111111111111,\"#46039f\"],[0.2222222222222222,\"#7201a8\"],[0.3333333333333333,\"#9c179e\"],[0.4444444444444444,\"#bd3786\"],[0.5555555555555556,\"#d8576b\"],[0.6666666666666666,\"#ed7953\"],[0.7777777777777778,\"#fb9f3a\"],[0.8888888888888888,\"#fdca26\"],[1.0,\"#f0f921\"]]}],\"heatmap\":[{\"type\":\"heatmap\",\"colorbar\":{\"outlinewidth\":0,\"ticks\":\"\"},\"colorscale\":[[0.0,\"#0d0887\"],[0.1111111111111111,\"#46039f\"],[0.2222222222222222,\"#7201a8\"],[0.3333333333333333,\"#9c179e\"],[0.4444444444444444,\"#bd3786\"],[0.5555555555555556,\"#d8576b\"],[0.6666666666666666,\"#ed7953\"],[0.7777777777777778,\"#fb9f3a\"],[0.8888888888888888,\"#fdca26\"],[1.0,\"#f0f921\"]]}],\"heatmapgl\":[{\"type\":\"heatmapgl\",\"colorbar\":{\"outlinewidth\":0,\"ticks\":\"\"},\"colorscale\":[[0.0,\"#0d0887\"],[0.1111111111111111,\"#46039f\"],[0.2222222222222222,\"#7201a8\"],[0.3333333333333333,\"#9c179e\"],[0.4444444444444444,\"#bd3786\"],[0.5555555555555556,\"#d8576b\"],[0.6666666666666666,\"#ed7953\"],[0.7777777777777778,\"#fb9f3a\"],[0.8888888888888888,\"#fdca26\"],[1.0,\"#f0f921\"]]}],\"contourcarpet\":[{\"type\":\"contourcarpet\",\"colorbar\":{\"outlinewidth\":0,\"ticks\":\"\"}}],\"contour\":[{\"type\":\"contour\",\"colorbar\":{\"outlinewidth\":0,\"ticks\":\"\"},\"colorscale\":[[0.0,\"#0d0887\"],[0.1111111111111111,\"#46039f\"],[0.2222222222222222,\"#7201a8\"],[0.3333333333333333,\"#9c179e\"],[0.4444444444444444,\"#bd3786\"],[0.5555555555555556,\"#d8576b\"],[0.6666666666666666,\"#ed7953\"],[0.7777777777777778,\"#fb9f3a\"],[0.8888888888888888,\"#fdca26\"],[1.0,\"#f0f921\"]]}],\"surface\":[{\"type\":\"surface\",\"colorbar\":{\"outlinewidth\":0,\"ticks\":\"\"},\"colorscale\":[[0.0,\"#0d0887\"],[0.1111111111111111,\"#46039f\"],[0.2222222222222222,\"#7201a8\"],[0.3333333333333333,\"#9c179e\"],[0.4444444444444444,\"#bd3786\"],[0.5555555555555556,\"#d8576b\"],[0.6666666666666666,\"#ed7953\"],[0.7777777777777778,\"#fb9f3a\"],[0.8888888888888888,\"#fdca26\"],[1.0,\"#f0f921\"]]}],\"mesh3d\":[{\"type\":\"mesh3d\",\"colorbar\":{\"outlinewidth\":0,\"ticks\":\"\"}}],\"scatter\":[{\"fillpattern\":{\"fillmode\":\"overlay\",\"size\":10,\"solidity\":0.2},\"type\":\"scatter\"}],\"parcoords\":[{\"type\":\"parcoords\",\"line\":{\"colorbar\":{\"outlinewidth\":0,\"ticks\":\"\"}}}],\"scatterpolargl\":[{\"type\":\"scatterpolargl\",\"marker\":{\"colorbar\":{\"outlinewidth\":0,\"ticks\":\"\"}}}],\"bar\":[{\"error_x\":{\"color\":\"#2a3f5f\"},\"error_y\":{\"color\":\"#2a3f5f\"},\"marker\":{\"line\":{\"color\":\"#E5ECF6\",\"width\":0.5},\"pattern\":{\"fillmode\":\"overlay\",\"size\":10,\"solidity\":0.2}},\"type\":\"bar\"}],\"scattergeo\":[{\"type\":\"scattergeo\",\"marker\":{\"colorbar\":{\"outlinewidth\":0,\"ticks\":\"\"}}}],\"scatterpolar\":[{\"type\":\"scatterpolar\",\"marker\":{\"colorbar\":{\"outlinewidth\":0,\"ticks\":\"\"}}}],\"histogram\":[{\"marker\":{\"pattern\":{\"fillmode\":\"overlay\",\"size\":10,\"solidity\":0.2}},\"type\":\"histogram\"}],\"scattergl\":[{\"type\":\"scattergl\",\"marker\":{\"colorbar\":{\"outlinewidth\":0,\"ticks\":\"\"}}}],\"scatter3d\":[{\"type\":\"scatter3d\",\"line\":{\"colorbar\":{\"outlinewidth\":0,\"ticks\":\"\"}},\"marker\":{\"colorbar\":{\"outlinewidth\":0,\"ticks\":\"\"}}}],\"scattermapbox\":[{\"type\":\"scattermapbox\",\"marker\":{\"colorbar\":{\"outlinewidth\":0,\"ticks\":\"\"}}}],\"scatterternary\":[{\"type\":\"scatterternary\",\"marker\":{\"colorbar\":{\"outlinewidth\":0,\"ticks\":\"\"}}}],\"scattercarpet\":[{\"type\":\"scattercarpet\",\"marker\":{\"colorbar\":{\"outlinewidth\":0,\"ticks\":\"\"}}}],\"carpet\":[{\"aaxis\":{\"endlinecolor\":\"#2a3f5f\",\"gridcolor\":\"white\",\"linecolor\":\"white\",\"minorgridcolor\":\"white\",\"startlinecolor\":\"#2a3f5f\"},\"baxis\":{\"endlinecolor\":\"#2a3f5f\",\"gridcolor\":\"white\",\"linecolor\":\"white\",\"minorgridcolor\":\"white\",\"startlinecolor\":\"#2a3f5f\"},\"type\":\"carpet\"}],\"table\":[{\"cells\":{\"fill\":{\"color\":\"#EBF0F8\"},\"line\":{\"color\":\"white\"}},\"header\":{\"fill\":{\"color\":\"#C8D4E3\"},\"line\":{\"color\":\"white\"}},\"type\":\"table\"}],\"barpolar\":[{\"marker\":{\"line\":{\"color\":\"#E5ECF6\",\"width\":0.5},\"pattern\":{\"fillmode\":\"overlay\",\"size\":10,\"solidity\":0.2}},\"type\":\"barpolar\"}],\"pie\":[{\"automargin\":true,\"type\":\"pie\"}]},\"layout\":{\"autotypenumbers\":\"strict\",\"colorway\":[\"#636efa\",\"#EF553B\",\"#00cc96\",\"#ab63fa\",\"#FFA15A\",\"#19d3f3\",\"#FF6692\",\"#B6E880\",\"#FF97FF\",\"#FECB52\"],\"font\":{\"color\":\"#2a3f5f\"},\"hovermode\":\"closest\",\"hoverlabel\":{\"align\":\"left\"},\"paper_bgcolor\":\"white\",\"plot_bgcolor\":\"#E5ECF6\",\"polar\":{\"bgcolor\":\"#E5ECF6\",\"angularaxis\":{\"gridcolor\":\"white\",\"linecolor\":\"white\",\"ticks\":\"\"},\"radialaxis\":{\"gridcolor\":\"white\",\"linecolor\":\"white\",\"ticks\":\"\"}},\"ternary\":{\"bgcolor\":\"#E5ECF6\",\"aaxis\":{\"gridcolor\":\"white\",\"linecolor\":\"white\",\"ticks\":\"\"},\"baxis\":{\"gridcolor\":\"white\",\"linecolor\":\"white\",\"ticks\":\"\"},\"caxis\":{\"gridcolor\":\"white\",\"linecolor\":\"white\",\"ticks\":\"\"}},\"coloraxis\":{\"colorbar\":{\"outlinewidth\":0,\"ticks\":\"\"}},\"colorscale\":{\"sequential\":[[0.0,\"#0d0887\"],[0.1111111111111111,\"#46039f\"],[0.2222222222222222,\"#7201a8\"],[0.3333333333333333,\"#9c179e\"],[0.4444444444444444,\"#bd3786\"],[0.5555555555555556,\"#d8576b\"],[0.6666666666666666,\"#ed7953\"],[0.7777777777777778,\"#fb9f3a\"],[0.8888888888888888,\"#fdca26\"],[1.0,\"#f0f921\"]],\"sequentialminus\":[[0.0,\"#0d0887\"],[0.1111111111111111,\"#46039f\"],[0.2222222222222222,\"#7201a8\"],[0.3333333333333333,\"#9c179e\"],[0.4444444444444444,\"#bd3786\"],[0.5555555555555556,\"#d8576b\"],[0.6666666666666666,\"#ed7953\"],[0.7777777777777778,\"#fb9f3a\"],[0.8888888888888888,\"#fdca26\"],[1.0,\"#f0f921\"]],\"diverging\":[[0,\"#8e0152\"],[0.1,\"#c51b7d\"],[0.2,\"#de77ae\"],[0.3,\"#f1b6da\"],[0.4,\"#fde0ef\"],[0.5,\"#f7f7f7\"],[0.6,\"#e6f5d0\"],[0.7,\"#b8e186\"],[0.8,\"#7fbc41\"],[0.9,\"#4d9221\"],[1,\"#276419\"]]},\"xaxis\":{\"gridcolor\":\"white\",\"linecolor\":\"white\",\"ticks\":\"\",\"title\":{\"standoff\":15},\"zerolinecolor\":\"white\",\"automargin\":true,\"zerolinewidth\":2},\"yaxis\":{\"gridcolor\":\"white\",\"linecolor\":\"white\",\"ticks\":\"\",\"title\":{\"standoff\":15},\"zerolinecolor\":\"white\",\"automargin\":true,\"zerolinewidth\":2},\"scene\":{\"xaxis\":{\"backgroundcolor\":\"#E5ECF6\",\"gridcolor\":\"white\",\"linecolor\":\"white\",\"showbackground\":true,\"ticks\":\"\",\"zerolinecolor\":\"white\",\"gridwidth\":2},\"yaxis\":{\"backgroundcolor\":\"#E5ECF6\",\"gridcolor\":\"white\",\"linecolor\":\"white\",\"showbackground\":true,\"ticks\":\"\",\"zerolinecolor\":\"white\",\"gridwidth\":2},\"zaxis\":{\"backgroundcolor\":\"#E5ECF6\",\"gridcolor\":\"white\",\"linecolor\":\"white\",\"showbackground\":true,\"ticks\":\"\",\"zerolinecolor\":\"white\",\"gridwidth\":2}},\"shapedefaults\":{\"line\":{\"color\":\"#2a3f5f\"}},\"annotationdefaults\":{\"arrowcolor\":\"#2a3f5f\",\"arrowhead\":0,\"arrowwidth\":1},\"geo\":{\"bgcolor\":\"white\",\"landcolor\":\"#E5ECF6\",\"subunitcolor\":\"white\",\"showland\":true,\"showlakes\":true,\"lakecolor\":\"white\"},\"title\":{\"x\":0.05},\"mapbox\":{\"style\":\"light\"}}}},                        {\"responsive\": true}                    ).then(function(){\n",
              "                            \n",
              "var gd = document.getElementById('5bbb0edf-2abe-4f76-be7e-42a8c97050d9');\n",
              "var x = new MutationObserver(function (mutations, observer) {{\n",
              "        var display = window.getComputedStyle(gd).display;\n",
              "        if (!display || display === 'none') {{\n",
              "            console.log([gd, 'removed!']);\n",
              "            Plotly.purge(gd);\n",
              "            observer.disconnect();\n",
              "        }}\n",
              "}});\n",
              "\n",
              "// Listen for the removal of the full notebook cells\n",
              "var notebookContainer = gd.closest('#notebook-container');\n",
              "if (notebookContainer) {{\n",
              "    x.observe(notebookContainer, {childList: true});\n",
              "}}\n",
              "\n",
              "// Listen for the clearing of the current output cell\n",
              "var outputEl = gd.closest('.output');\n",
              "if (outputEl) {{\n",
              "    x.observe(outputEl, {childList: true});\n",
              "}}\n",
              "\n",
              "                        })                };                            </script>        </div>\n",
              "</body>\n",
              "</html>"
            ]
          },
          "metadata": {}
        }
      ]
    },
    {
      "cell_type": "code",
      "source": [
        "# cálculo de estatísticas descritivas para os preços do bitcoin e do dólar\n",
        "print('Estatísticas Descritivas - Bitcoin:')\n",
        "print(df_bitcoin_dolar['Close'].describe())\n",
        "\n",
        "print('\\nEstatísticas Descritivas - Dólar:')\n",
        "print(df_bitcoin_dolar['dolar_close'].describe())"
      ],
      "metadata": {
        "id": "2c6C1ptSCeuC",
        "outputId": "ea0248cb-f363-4054-f839-b1869335d687",
        "colab": {
          "base_uri": "https://localhost:8080/"
        }
      },
      "execution_count": 23,
      "outputs": [
        {
          "output_type": "stream",
          "name": "stdout",
          "text": [
            "Estatísticas Descritivas - Bitcoin:\n",
            "count      521.000000\n",
            "mean     20225.844435\n",
            "std      16576.128095\n",
            "min       4970.788086\n",
            "25%       8912.654297\n",
            "50%      10623.540039\n",
            "75%      33155.847656\n",
            "max      63503.457031\n",
            "Name: Close, dtype: float64\n",
            "\n",
            "Estatísticas Descritivas - Dólar:\n",
            "count    521.000000\n",
            "mean       4.991815\n",
            "std        0.587295\n",
            "min        3.840300\n",
            "25%        4.243200\n",
            "50%        5.220500\n",
            "75%        5.426600\n",
            "max        5.885600\n",
            "Name: dolar_close, dtype: float64\n"
          ]
        }
      ]
    },
    {
      "cell_type": "code",
      "source": [
        "# correlação entre os preços do bitcoin e do dólar\n",
        "# Correlação positiva: Significa que os preços do dólar e do bitcoin tendem a subir ou cair juntos. Se o dólar sobe, o bitcoin também pode subir, e vice-versa.\n",
        "# Correlação negativa: Significa que os preços do dólar e do bitcoin tendem a se mover em direções opostas. Se o dólar sobe, o bitcoin pode cair, e vice-versa.\n",
        "# Correlação neutra: Significa que não há uma relação clara entre os movimentos de preço do dólar e do bitcoin. Eles podem se mover de forma independente, sem uma relação significativa.\n",
        "correlation = df_bitcoin_dolar['Close'].corr(df_bitcoin_dolar['dolar_close'])\n",
        "print('Correlação entre os preços do Bitcoin e do Dólar:', correlation)\n"
      ],
      "metadata": {
        "id": "G0D3GMIhCtYQ",
        "outputId": "94fd087d-2854-422b-e14e-1040f5f857a2",
        "colab": {
          "base_uri": "https://localhost:8080/"
        }
      },
      "execution_count": 24,
      "outputs": [
        {
          "output_type": "stream",
          "name": "stdout",
          "text": [
            "Correlação entre os preços do Bitcoin e do Dólar: 0.4666364464196504\n"
          ]
        }
      ]
    },
    {
      "cell_type": "code",
      "source": [
        "# médias móveis para identificar tendências\n",
        "# Média móvel simples de 30 dias para o preço do bitcoin\n",
        "df_bitcoin_dolar['sma30_bitcoin'] = df_bitcoin_dolar['Close'].rolling(window=30).mean()\n",
        "\n",
        "# Média móvel simples de 30 dias para o preço do dólar\n",
        "df_bitcoin_dolar['sma30_dolar'] = df_bitcoin_dolar['dolar_close'].rolling(window=30).mean()\n",
        "\n",
        "# Plot das médias móveis e dos preços originais\n",
        "lines = [go.Scatter(x=df_bitcoin_dolar.index, y=df_bitcoin_dolar['sma30_bitcoin'], mode='lines', name='Preço Bitcoin'),\n",
        "         go.Scatter(x=df_bitcoin_dolar.index, y=df_bitcoin_dolar['sma30_dolar'], mode='lines', name='Preço Dolar')]\n",
        "\n",
        "layout = go.Layout(\n",
        "    title='Preço do Bitcoin em relação ao Dólar',\n",
        "    yaxis_title='Preço',\n",
        "    xaxis_title='Data'\n",
        ")\n",
        "\n",
        "fig = go.Figure(data=lines, layout=layout)\n",
        "fig.show()"
      ],
      "metadata": {
        "id": "qFCOLz6ZE0hm",
        "outputId": "9c282230-d621-4db2-81d1-c6d4b875c60c",
        "colab": {
          "base_uri": "https://localhost:8080/",
          "height": 542
        }
      },
      "execution_count": 34,
      "outputs": [
        {
          "output_type": "display_data",
          "data": {
            "text/html": [
              "<html>\n",
              "<head><meta charset=\"utf-8\" /></head>\n",
              "<body>\n",
              "    <div>            <script src=\"https://cdnjs.cloudflare.com/ajax/libs/mathjax/2.7.5/MathJax.js?config=TeX-AMS-MML_SVG\"></script><script type=\"text/javascript\">if (window.MathJax && window.MathJax.Hub && window.MathJax.Hub.Config) {window.MathJax.Hub.Config({SVG: {font: \"STIX-Web\"}});}</script>                <script type=\"text/javascript\">window.PlotlyConfig = {MathJaxConfig: 'local'};</script>\n",
              "        <script src=\"https://cdn.plot.ly/plotly-2.18.2.min.js\"></script>                <div id=\"ccc29e5f-9683-49ea-b230-b7580b0885da\" class=\"plotly-graph-div\" style=\"height:525px; width:100%;\"></div>            <script type=\"text/javascript\">                                    window.PLOTLYENV=window.PLOTLYENV || {};                                    if (document.getElementById(\"ccc29e5f-9683-49ea-b230-b7580b0885da\")) {                    Plotly.newPlot(                        \"ccc29e5f-9683-49ea-b230-b7580b0885da\",                        [{\"mode\":\"lines\",\"name\":\"Pre\\u00e7o Bitcoin\",\"x\":[\"2019-08-01T00:00:00\",\"2019-08-02T00:00:00\",\"2019-08-05T00:00:00\",\"2019-08-06T00:00:00\",\"2019-08-07T00:00:00\",\"2019-08-08T00:00:00\",\"2019-08-09T00:00:00\",\"2019-08-12T00:00:00\",\"2019-08-13T00:00:00\",\"2019-08-14T00:00:00\",\"2019-08-15T00:00:00\",\"2019-08-16T00:00:00\",\"2019-08-19T00:00:00\",\"2019-08-20T00:00:00\",\"2019-08-21T00:00:00\",\"2019-08-22T00:00:00\",\"2019-08-23T00:00:00\",\"2019-08-26T00:00:00\",\"2019-08-27T00:00:00\",\"2019-08-28T00:00:00\",\"2019-08-29T00:00:00\",\"2019-08-30T00:00:00\",\"2019-09-02T00:00:00\",\"2019-09-03T00:00:00\",\"2019-09-04T00:00:00\",\"2019-09-05T00:00:00\",\"2019-09-06T00:00:00\",\"2019-09-09T00:00:00\",\"2019-09-10T00:00:00\",\"2019-09-11T00:00:00\",\"2019-09-12T00:00:00\",\"2019-09-13T00:00:00\",\"2019-09-16T00:00:00\",\"2019-09-17T00:00:00\",\"2019-09-18T00:00:00\",\"2019-09-19T00:00:00\",\"2019-09-20T00:00:00\",\"2019-09-23T00:00:00\",\"2019-09-24T00:00:00\",\"2019-09-25T00:00:00\",\"2019-09-26T00:00:00\",\"2019-09-27T00:00:00\",\"2019-09-30T00:00:00\",\"2019-10-01T00:00:00\",\"2019-10-02T00:00:00\",\"2019-10-03T00:00:00\",\"2019-10-04T00:00:00\",\"2019-10-07T00:00:00\",\"2019-10-08T00:00:00\",\"2019-10-09T00:00:00\",\"2019-10-10T00:00:00\",\"2019-10-11T00:00:00\",\"2019-10-14T00:00:00\",\"2019-10-15T00:00:00\",\"2019-10-16T00:00:00\",\"2019-10-17T00:00:00\",\"2019-10-18T00:00:00\",\"2019-10-21T00:00:00\",\"2019-10-22T00:00:00\",\"2019-10-23T00:00:00\",\"2019-10-24T00:00:00\",\"2019-10-25T00:00:00\",\"2019-10-28T00:00:00\",\"2019-10-29T00:00:00\",\"2019-10-30T00:00:00\",\"2019-10-31T00:00:00\",\"2019-11-01T00:00:00\",\"2019-11-04T00:00:00\",\"2019-11-05T00:00:00\",\"2019-11-06T00:00:00\",\"2019-11-07T00:00:00\",\"2019-11-08T00:00:00\",\"2019-11-11T00:00:00\",\"2019-11-12T00:00:00\",\"2019-11-13T00:00:00\",\"2019-11-14T00:00:00\",\"2019-11-15T00:00:00\",\"2019-11-18T00:00:00\",\"2019-11-19T00:00:00\",\"2019-11-20T00:00:00\",\"2019-11-21T00:00:00\",\"2019-11-22T00:00:00\",\"2019-11-25T00:00:00\",\"2019-11-26T00:00:00\",\"2019-11-27T00:00:00\",\"2019-11-28T00:00:00\",\"2019-11-29T00:00:00\",\"2019-12-02T00:00:00\",\"2019-12-03T00:00:00\",\"2019-12-04T00:00:00\",\"2019-12-05T00:00:00\",\"2019-12-06T00:00:00\",\"2019-12-09T00:00:00\",\"2019-12-10T00:00:00\",\"2019-12-11T00:00:00\",\"2019-12-12T00:00:00\",\"2019-12-13T00:00:00\",\"2019-12-16T00:00:00\",\"2019-12-17T00:00:00\",\"2019-12-18T00:00:00\",\"2019-12-19T00:00:00\",\"2019-12-20T00:00:00\",\"2019-12-23T00:00:00\",\"2019-12-24T00:00:00\",\"2019-12-25T00:00:00\",\"2019-12-26T00:00:00\",\"2019-12-27T00:00:00\",\"2019-12-30T00:00:00\",\"2019-12-31T00:00:00\",\"2020-01-01T00:00:00\",\"2020-01-02T00:00:00\",\"2020-01-03T00:00:00\",\"2020-01-06T00:00:00\",\"2020-01-07T00:00:00\",\"2020-01-08T00:00:00\",\"2020-01-09T00:00:00\",\"2020-01-10T00:00:00\",\"2020-01-13T00:00:00\",\"2020-01-14T00:00:00\",\"2020-01-15T00:00:00\",\"2020-01-16T00:00:00\",\"2020-01-17T00:00:00\",\"2020-01-20T00:00:00\",\"2020-01-21T00:00:00\",\"2020-01-22T00:00:00\",\"2020-01-23T00:00:00\",\"2020-01-24T00:00:00\",\"2020-01-27T00:00:00\",\"2020-01-28T00:00:00\",\"2020-01-29T00:00:00\",\"2020-01-30T00:00:00\",\"2020-01-31T00:00:00\",\"2020-02-03T00:00:00\",\"2020-02-04T00:00:00\",\"2020-02-05T00:00:00\",\"2020-02-06T00:00:00\",\"2020-02-07T00:00:00\",\"2020-02-10T00:00:00\",\"2020-02-11T00:00:00\",\"2020-02-12T00:00:00\",\"2020-02-13T00:00:00\",\"2020-02-14T00:00:00\",\"2020-02-17T00:00:00\",\"2020-02-18T00:00:00\",\"2020-02-19T00:00:00\",\"2020-02-20T00:00:00\",\"2020-02-21T00:00:00\",\"2020-02-24T00:00:00\",\"2020-02-25T00:00:00\",\"2020-02-26T00:00:00\",\"2020-02-27T00:00:00\",\"2020-02-28T00:00:00\",\"2020-03-02T00:00:00\",\"2020-03-03T00:00:00\",\"2020-03-04T00:00:00\",\"2020-03-05T00:00:00\",\"2020-03-06T00:00:00\",\"2020-03-09T00:00:00\",\"2020-03-10T00:00:00\",\"2020-03-11T00:00:00\",\"2020-03-12T00:00:00\",\"2020-03-13T00:00:00\",\"2020-03-16T00:00:00\",\"2020-03-17T00:00:00\",\"2020-03-18T00:00:00\",\"2020-03-19T00:00:00\",\"2020-03-20T00:00:00\",\"2020-03-23T00:00:00\",\"2020-03-24T00:00:00\",\"2020-03-25T00:00:00\",\"2020-03-26T00:00:00\",\"2020-03-27T00:00:00\",\"2020-03-30T00:00:00\",\"2020-03-31T00:00:00\",\"2020-04-01T00:00:00\",\"2020-04-02T00:00:00\",\"2020-04-03T00:00:00\",\"2020-04-06T00:00:00\",\"2020-04-07T00:00:00\",\"2020-04-08T00:00:00\",\"2020-04-09T00:00:00\",\"2020-04-10T00:00:00\",\"2020-04-13T00:00:00\",\"2020-04-14T00:00:00\",\"2020-04-15T00:00:00\",\"2020-04-16T00:00:00\",\"2020-04-17T00:00:00\",\"2020-04-20T00:00:00\",\"2020-04-21T00:00:00\",\"2020-04-22T00:00:00\",\"2020-04-23T00:00:00\",\"2020-04-24T00:00:00\",\"2020-04-27T00:00:00\",\"2020-04-28T00:00:00\",\"2020-04-29T00:00:00\",\"2020-04-30T00:00:00\",\"2020-05-01T00:00:00\",\"2020-05-04T00:00:00\",\"2020-05-05T00:00:00\",\"2020-05-06T00:00:00\",\"2020-05-07T00:00:00\",\"2020-05-08T00:00:00\",\"2020-05-11T00:00:00\",\"2020-05-12T00:00:00\",\"2020-05-13T00:00:00\",\"2020-05-14T00:00:00\",\"2020-05-15T00:00:00\",\"2020-05-18T00:00:00\",\"2020-05-19T00:00:00\",\"2020-05-20T00:00:00\",\"2020-05-21T00:00:00\",\"2020-05-22T00:00:00\",\"2020-05-25T00:00:00\",\"2020-05-26T00:00:00\",\"2020-05-27T00:00:00\",\"2020-05-28T00:00:00\",\"2020-05-29T00:00:00\",\"2020-06-01T00:00:00\",\"2020-06-02T00:00:00\",\"2020-06-03T00:00:00\",\"2020-06-04T00:00:00\",\"2020-06-05T00:00:00\",\"2020-06-08T00:00:00\",\"2020-06-09T00:00:00\",\"2020-06-10T00:00:00\",\"2020-06-11T00:00:00\",\"2020-06-12T00:00:00\",\"2020-06-15T00:00:00\",\"2020-06-16T00:00:00\",\"2020-06-17T00:00:00\",\"2020-06-18T00:00:00\",\"2020-06-19T00:00:00\",\"2020-06-22T00:00:00\",\"2020-06-23T00:00:00\",\"2020-06-24T00:00:00\",\"2020-06-25T00:00:00\",\"2020-06-26T00:00:00\",\"2020-06-29T00:00:00\",\"2020-06-30T00:00:00\",\"2020-07-01T00:00:00\",\"2020-07-02T00:00:00\",\"2020-07-03T00:00:00\",\"2020-07-06T00:00:00\",\"2020-07-07T00:00:00\",\"2020-07-08T00:00:00\",\"2020-07-09T00:00:00\",\"2020-07-10T00:00:00\",\"2020-07-13T00:00:00\",\"2020-07-14T00:00:00\",\"2020-07-15T00:00:00\",\"2020-07-16T00:00:00\",\"2020-07-17T00:00:00\",\"2020-07-20T00:00:00\",\"2020-07-21T00:00:00\",\"2020-07-22T00:00:00\",\"2020-07-23T00:00:00\",\"2020-07-24T00:00:00\",\"2020-07-27T00:00:00\",\"2020-07-28T00:00:00\",\"2020-07-29T00:00:00\",\"2020-07-30T00:00:00\",\"2020-07-31T00:00:00\",\"2020-08-03T00:00:00\",\"2020-08-04T00:00:00\",\"2020-08-05T00:00:00\",\"2020-08-06T00:00:00\",\"2020-08-07T00:00:00\",\"2020-08-10T00:00:00\",\"2020-08-11T00:00:00\",\"2020-08-12T00:00:00\",\"2020-08-13T00:00:00\",\"2020-08-14T00:00:00\",\"2020-08-17T00:00:00\",\"2020-08-18T00:00:00\",\"2020-08-19T00:00:00\",\"2020-08-20T00:00:00\",\"2020-08-21T00:00:00\",\"2020-08-24T00:00:00\",\"2020-08-25T00:00:00\",\"2020-08-26T00:00:00\",\"2020-08-27T00:00:00\",\"2020-08-28T00:00:00\",\"2020-08-31T00:00:00\",\"2020-09-01T00:00:00\",\"2020-09-02T00:00:00\",\"2020-09-03T00:00:00\",\"2020-09-04T00:00:00\",\"2020-09-07T00:00:00\",\"2020-09-08T00:00:00\",\"2020-09-09T00:00:00\",\"2020-09-10T00:00:00\",\"2020-09-11T00:00:00\",\"2020-09-14T00:00:00\",\"2020-09-15T00:00:00\",\"2020-09-16T00:00:00\",\"2020-09-17T00:00:00\",\"2020-09-18T00:00:00\",\"2020-09-21T00:00:00\",\"2020-09-22T00:00:00\",\"2020-09-23T00:00:00\",\"2020-09-24T00:00:00\",\"2020-09-25T00:00:00\",\"2020-09-28T00:00:00\",\"2020-09-29T00:00:00\",\"2020-09-30T00:00:00\",\"2020-10-01T00:00:00\",\"2020-10-02T00:00:00\",\"2020-10-05T00:00:00\",\"2020-10-06T00:00:00\",\"2020-10-07T00:00:00\",\"2020-10-08T00:00:00\",\"2020-10-09T00:00:00\",\"2020-10-12T00:00:00\",\"2020-10-13T00:00:00\",\"2020-10-14T00:00:00\",\"2020-10-15T00:00:00\",\"2020-10-16T00:00:00\",\"2020-10-19T00:00:00\",\"2020-10-20T00:00:00\",\"2020-10-21T00:00:00\",\"2020-10-22T00:00:00\",\"2020-10-23T00:00:00\",\"2020-10-26T00:00:00\",\"2020-10-27T00:00:00\",\"2020-10-28T00:00:00\",\"2020-10-29T00:00:00\",\"2020-10-30T00:00:00\",\"2020-11-02T00:00:00\",\"2020-11-03T00:00:00\",\"2020-11-04T00:00:00\",\"2020-11-05T00:00:00\",\"2020-11-06T00:00:00\",\"2020-11-09T00:00:00\",\"2020-11-10T00:00:00\",\"2020-11-11T00:00:00\",\"2020-11-12T00:00:00\",\"2020-11-13T00:00:00\",\"2020-11-16T00:00:00\",\"2020-11-17T00:00:00\",\"2020-11-18T00:00:00\",\"2020-11-19T00:00:00\",\"2020-11-20T00:00:00\",\"2020-11-23T00:00:00\",\"2020-11-24T00:00:00\",\"2020-11-25T00:00:00\",\"2020-11-26T00:00:00\",\"2020-11-27T00:00:00\",\"2020-11-30T00:00:00\",\"2020-12-01T00:00:00\",\"2020-12-02T00:00:00\",\"2020-12-03T00:00:00\",\"2020-12-04T00:00:00\",\"2020-12-07T00:00:00\",\"2020-12-08T00:00:00\",\"2020-12-09T00:00:00\",\"2020-12-10T00:00:00\",\"2020-12-11T00:00:00\",\"2020-12-14T00:00:00\",\"2020-12-15T00:00:00\",\"2020-12-16T00:00:00\",\"2020-12-17T00:00:00\",\"2020-12-18T00:00:00\",\"2020-12-21T00:00:00\",\"2020-12-22T00:00:00\",\"2020-12-23T00:00:00\",\"2020-12-24T00:00:00\",\"2020-12-25T00:00:00\",\"2020-12-28T00:00:00\",\"2020-12-29T00:00:00\",\"2020-12-30T00:00:00\",\"2020-12-31T00:00:00\",\"2021-01-01T00:00:00\",\"2021-01-04T00:00:00\",\"2021-01-05T00:00:00\",\"2021-01-06T00:00:00\",\"2021-01-07T00:00:00\",\"2021-01-08T00:00:00\",\"2021-01-11T00:00:00\",\"2021-01-12T00:00:00\",\"2021-01-13T00:00:00\",\"2021-01-14T00:00:00\",\"2021-01-15T00:00:00\",\"2021-01-18T00:00:00\",\"2021-01-19T00:00:00\",\"2021-01-20T00:00:00\",\"2021-01-21T00:00:00\",\"2021-01-22T00:00:00\",\"2021-01-25T00:00:00\",\"2021-01-26T00:00:00\",\"2021-01-27T00:00:00\",\"2021-01-28T00:00:00\",\"2021-01-29T00:00:00\",\"2021-02-01T00:00:00\",\"2021-02-02T00:00:00\",\"2021-02-03T00:00:00\",\"2021-02-04T00:00:00\",\"2021-02-05T00:00:00\",\"2021-02-08T00:00:00\",\"2021-02-09T00:00:00\",\"2021-02-10T00:00:00\",\"2021-02-11T00:00:00\",\"2021-02-12T00:00:00\",\"2021-02-15T00:00:00\",\"2021-02-16T00:00:00\",\"2021-02-17T00:00:00\",\"2021-02-18T00:00:00\",\"2021-02-19T00:00:00\",\"2021-02-22T00:00:00\",\"2021-02-23T00:00:00\",\"2021-02-24T00:00:00\",\"2021-02-25T00:00:00\",\"2021-02-26T00:00:00\",\"2021-03-01T00:00:00\",\"2021-03-02T00:00:00\",\"2021-03-03T00:00:00\",\"2021-03-04T00:00:00\",\"2021-03-05T00:00:00\",\"2021-03-08T00:00:00\",\"2021-03-09T00:00:00\",\"2021-03-10T00:00:00\",\"2021-03-11T00:00:00\",\"2021-03-12T00:00:00\",\"2021-03-15T00:00:00\",\"2021-03-16T00:00:00\",\"2021-03-17T00:00:00\",\"2021-03-18T00:00:00\",\"2021-03-19T00:00:00\",\"2021-03-22T00:00:00\",\"2021-03-23T00:00:00\",\"2021-03-24T00:00:00\",\"2021-03-25T00:00:00\",\"2021-03-26T00:00:00\",\"2021-03-29T00:00:00\",\"2021-03-30T00:00:00\",\"2021-03-31T00:00:00\",\"2021-04-01T00:00:00\",\"2021-04-02T00:00:00\",\"2021-04-05T00:00:00\",\"2021-04-06T00:00:00\",\"2021-04-07T00:00:00\",\"2021-04-08T00:00:00\",\"2021-04-09T00:00:00\",\"2021-04-12T00:00:00\",\"2021-04-13T00:00:00\",\"2021-04-14T00:00:00\",\"2021-04-15T00:00:00\",\"2021-04-16T00:00:00\",\"2021-04-19T00:00:00\",\"2021-04-20T00:00:00\",\"2021-04-21T00:00:00\",\"2021-04-22T00:00:00\",\"2021-04-23T00:00:00\",\"2021-04-26T00:00:00\",\"2021-04-27T00:00:00\",\"2021-04-28T00:00:00\",\"2021-04-29T00:00:00\",\"2021-04-30T00:00:00\",\"2021-05-03T00:00:00\",\"2021-05-04T00:00:00\",\"2021-05-05T00:00:00\",\"2021-05-06T00:00:00\",\"2021-05-07T00:00:00\",\"2021-05-10T00:00:00\",\"2021-05-11T00:00:00\",\"2021-05-12T00:00:00\",\"2021-05-13T00:00:00\",\"2021-05-14T00:00:00\",\"2021-05-17T00:00:00\",\"2021-05-18T00:00:00\",\"2021-05-19T00:00:00\",\"2021-05-20T00:00:00\",\"2021-05-21T00:00:00\",\"2021-05-24T00:00:00\",\"2021-05-25T00:00:00\",\"2021-05-26T00:00:00\",\"2021-05-27T00:00:00\",\"2021-05-28T00:00:00\",\"2021-05-31T00:00:00\",\"2021-06-01T00:00:00\",\"2021-06-02T00:00:00\",\"2021-06-03T00:00:00\",\"2021-06-04T00:00:00\",\"2021-06-07T00:00:00\",\"2021-06-08T00:00:00\",\"2021-06-09T00:00:00\",\"2021-06-10T00:00:00\",\"2021-06-11T00:00:00\",\"2021-06-14T00:00:00\",\"2021-06-15T00:00:00\",\"2021-06-16T00:00:00\",\"2021-06-17T00:00:00\",\"2021-06-18T00:00:00\",\"2021-06-21T00:00:00\",\"2021-06-22T00:00:00\",\"2021-06-23T00:00:00\",\"2021-06-24T00:00:00\",\"2021-06-25T00:00:00\",\"2021-06-28T00:00:00\",\"2021-06-29T00:00:00\",\"2021-06-30T00:00:00\",\"2021-07-01T00:00:00\",\"2021-07-02T00:00:00\",\"2021-07-05T00:00:00\",\"2021-07-06T00:00:00\",\"2021-07-07T00:00:00\",\"2021-07-08T00:00:00\",\"2021-07-09T00:00:00\",\"2021-07-12T00:00:00\",\"2021-07-13T00:00:00\",\"2021-07-14T00:00:00\",\"2021-07-15T00:00:00\",\"2021-07-16T00:00:00\",\"2021-07-19T00:00:00\",\"2021-07-20T00:00:00\",\"2021-07-21T00:00:00\",\"2021-07-22T00:00:00\",\"2021-07-23T00:00:00\",\"2021-07-26T00:00:00\",\"2021-07-27T00:00:00\",\"2021-07-28T00:00:00\",\"2021-07-29T00:00:00\"],\"y\":[null,null,null,null,null,null,null,null,null,null,null,null,null,null,null,null,null,null,null,null,null,null,null,null,null,null,null,null,null,10596.247981770834,10596.59658203125,10591.342317708333,10540.380338541667,10499.150455729166,10441.026432291666,10384.360026041666,10328.316861979167,10273.20712890625,10197.365006510418,10145.207975260417,10072.122037760417,10001.372265625,9913.966080729168,9833.30087890625,9775.133951822916,9712.765169270833,9639.364322916666,9568.5244140625,9503.300520833332,9464.677766927083,9433.886881510416,9391.3396484375,9325.603841145834,9244.99814453125,9160.099267578125,9077.711865234374,8998.375358072917,8928.66689453125,8860.741145833334,8771.951139322917,8674.729866536458,8618.068310546874,8584.046793619791,8556.927294921876,8523.843245442707,8488.282242838543,8457.597672526043,8447.040608723959,8471.105973307293,8500.235530598959,8538.521988932293,8556.956494140624,8572.420491536459,8588.166682942709,8602.007373046876,8616.944124348958,8626.479215494792,8628.601318359375,8627.846728515626,8608.89765625,8577.440201822918,8543.267561848957,8502.315804036458,8469.415869140625,8452.220426432292,8430.86025390625,8423.794791666667,8393.070377604166,8367.801790364583,8359.047216796875,8357.541178385416,8320.417724609375,8258.576090494791,8186.923828125,8120.647184244792,8055.432161458333,7989.051497395833,7906.380436197916,7816.313362630209,7746.844124348959,7678.02021484375,7625.151399739583,7578.412744140625,7528.641748046875,7477.53818359375,7428.567252604166,7388.503792317709,7354.627425130208,7320.87587890625,7293.306087239584,7271.396761067708,7273.006982421875,7293.776497395834,7325.28720703125,7343.560514322917,7357.426025390625,7370.936376953125,7398.343245442708,7448.597216796875,7500.429752604166,7542.945703125,7589.013753255208,7630.905192057292,7679.831022135417,7728.612646484375,7767.392024739584,7806.58369140625,7872.494986979166,7963.097477213541,8031.091715494792,8107.963346354167,8179.020442708334,8243.616878255209,8305.564567057292,8383.5068359375,8466.53466796875,8550.063167317709,8635.517041015624,8736.004947916666,8840.200960286458,8947.831282552082,9046.739013671875,9110.769791666668,9176.713248697917,9228.497379557291,9286.144189453125,9336.807096354167,9387.0064453125,9404.13779296875,9404.58818359375,9406.611783854167,9398.059016927084,9405.126595052083,9406.522981770833,9409.001985677083,9431.410221354166,9453.980598958333,9421.10810546875,9372.812760416668,9325.972770182292,9174.699267578126,9048.471858723959,8905.837141927082,8773.992692057293,8628.159847005209,8510.206217447916,8390.300716145834,8275.624169921875,8159.843082682291,8038.343359375,7921.745377604167,7793.668115234375,7684.991422526042,7561.546370442708,7460.659358723959,7366.830989583334,7268.395849609375,7189.116064453125,7116.939713541667,7067.392252604167,7017.978759765625,6957.746695963541,6890.258951822917,6825.413671875,6754.975797526042,6689.577180989583,6622.031803385416,6587.308935546875,6552.995393880208,6526.521305338541,6608.485856119792,6674.725651041666,6767.4296875,6853.477327473958,6972.230647786459,7054.476009114584,7143.34228515625,7226.553597005209,7302.162483723959,7388.419108072917,7496.255045572917,7608.683968098959,7681.082438151042,7759.943538411459,7848.717236328125,7946.720475260417,8033.214143880208,8115.040608723958,8200.128059895833,8273.0908203125,8332.413232421875,8409.649365234374,8478.379264322917,8544.80009765625,8629.430354817709,8709.728580729166,8787.8265625,8897.336897786457,8985.652913411459,9070.303255208333,9149.333658854166,9219.821402994792,9285.684342447918,9351.972395833332,9387.6076171875,9409.715201822917,9430.251106770833,9448.18603515625,9466.017838541668,9473.067610677082,9455.078352864582,9436.590104166668,9471.4875,9498.993522135417,9500.447623697917,9484.817350260417,9479.308040364584,9461.45068359375,9441.749186197916,9431.927311197916,9433.315592447916,9430.139811197916,9445.7578125,9459.665299479168,9467.909147135417,9459.64970703125,9454.305826822916,9423.517350260418,9413.96435546875,9398.50166015625,9376.221354166666,9359.083333333334,9338.84140625,9324.814322916667,9313.323274739583,9321.96630859375,9323.834602864583,9375.1736328125,9421.000260416668,9475.007356770833,9531.653125,9599.501399739584,9652.75576171875,9705.296907552083,9786.41064453125,9870.242643229167,9951.527799479167,10041.10302734375,10116.8541015625,10195.407747395833,10284.098665364583,10373.484244791667,10469.448502604168,10560.747037760417,10638.412044270834,10725.0921875,10802.214908854166,10886.58095703125,10957.344986979168,11033.862532552082,11106.901529947916,11186.605110677083,11270.49140625,11357.011100260417,11419.966796875,11442.1076171875,11474.60498046875,11453.894661458333,11427.851106770833,11399.247102864583,11374.311263020832,11343.559537760417,11324.7091796875,11311.077799479166,11285.340559895832,11257.647786458334,11235.7515625,11188.556510416667,11159.487662760417,11114.862727864584,11080.727018229167,11044.855208333332,10993.363541666668,10955.143782552082,10922.684049479167,10880.720052083334,10846.83623046875,10814.127701822918,10788.736751302084,10761.423600260418,10747.833203125,10731.898470052083,10727.716569010418,10709.563932291667,10710.0796875,10751.748111979166,10778.758430989583,10824.507552083332,10884.001497395833,10970.046223958334,11056.804654947917,11141.1587890625,11220.9724609375,11316.214713541667,11392.760709635417,11475.723795572916,11562.455013020834,11665.39599609375,11779.1240234375,11908.708040364583,12069.367447916668,12231.80625,12385.89501953125,12534.103743489582,12697.998697916666,12886.561751302082,13077.956217447916,13275.38193359375,13510.08193359375,13747.91650390625,13977.963313802084,14229.858528645833,14456.817122395832,14712.869303385416,14956.289778645832,15144.798893229166,15337.674869791666,15600.4681640625,15830.023600260416,16042.603678385416,16258.587239583334,16450.861458333333,16654.740885416668,16810.305078125,16986.3927734375,17147.296419270835,17297.709147135418,17487.580989583334,17669.8068359375,17909.0365234375,18149.880305989584,18402.282975260416,18651.308528645834,18934.379427083335,19185.712955729166,19434.366471354166,19712.59921875,20058.2224609375,20382.123502604165,20750.021744791666,21122.8427734375,21481.270703125,21934.863802083335,22431.029296875,23034.104036458335,23774.784700520835,24564.424934895833,25095.785611979165,25599.784375,26203.626627604168,26861.690950520835,27465.877669270834,28047.159114583334,28638.781119791667,29205.242252604166,29623.932486979167,30122.161067708334,30559.486002604168,30997.911783854168,31301.9767578125,31657.341276041665,32029.95546875,32387.75859375,32778.667252604166,33253.025390625,33692.695963541664,34142.01321614583,34779.06842447917,35416.35735677083,35952.2650390625,36582.51875,37186.875390625,37719.31354166667,38226.228255208334,38737.04973958333,39147.341536458334,39650.358984375,40271.714453125,40768.429947916666,41181.395703125,41444.946484375,41762.09296875,42195.465234375,42605.77135416667,43105.454427083336,43696.63671875,44227.354817708336,44890.02584635417,45631.834765625,46484.36822916667,47295.66901041667,48062.859114583334,48808.5265625,49518.347005208336,50231.64049479167,50929.40234375,51602.813802083336,51880.56979166667,52155.83111979167,52417.700520833336,52544.19479166667,52798.61015625,53125.44817708333,53449.37552083333,53675.036328125,53922.23671875,54038.776041666664,54200.461328125,54512.72578125,54724.179296875,55098.516015625,55495.357421875,55837.43111979167,56341.580078125,56760.628515625,57252.389973958336,57673.90611979167,57789.830859375,57844.794661458334,57774.712630208334,57573.284375,57365.33645833333,57302.48828125,57243.42877604167,57108.55572916667,56965.0953125,56945.21276041667,57034.25104166667,56987.40416666667,57142.39557291667,57298.807421875,57372.777083333334,57309.763671875,57235.99309895833,56910.383203125,56597.729296875,56280.93671875,55763.591145833336,55254.15924479167,54619.276041666664,54034.56888020833,53336.55846354167,52630.309375,51793.6015625,50999.751692708334,50170.516927083336,49308.01080729167,48694.96380208333,48035.36028645833,47490.99661458333,47072.54635416667,46599.23815104167,45917.20325520833,45198.52044270833,44615.86770833333,44054.11731770833,43373.59140625,42807.530859375,42376.621875,41740.72369791667,41129.28997395833,40410.318098958334,39604.2146484375,38797.5841796875,38283.33391927083,37781.54212239583,37173.45026041667,36870.011067708336,36635.290234375,36569.90338541667,36329.54934895833,36215.961197916666,36050.628645833334,35911.727734375,35730.43203125,35545.112109375,35481.792317708336,35342.55872395833,35209.79537760417,35051.36764322917,34803.76647135417,34621.337565104164,34529.9083984375,34407.7322265625,34233.251302083336,34086.934895833336,33961.83997395833,33865.80859375,33832.49765625,33887.45911458333,33952.623046875],\"type\":\"scatter\"},{\"mode\":\"lines\",\"name\":\"Pre\\u00e7o Dolar\",\"x\":[\"2019-08-01T00:00:00\",\"2019-08-02T00:00:00\",\"2019-08-05T00:00:00\",\"2019-08-06T00:00:00\",\"2019-08-07T00:00:00\",\"2019-08-08T00:00:00\",\"2019-08-09T00:00:00\",\"2019-08-12T00:00:00\",\"2019-08-13T00:00:00\",\"2019-08-14T00:00:00\",\"2019-08-15T00:00:00\",\"2019-08-16T00:00:00\",\"2019-08-19T00:00:00\",\"2019-08-20T00:00:00\",\"2019-08-21T00:00:00\",\"2019-08-22T00:00:00\",\"2019-08-23T00:00:00\",\"2019-08-26T00:00:00\",\"2019-08-27T00:00:00\",\"2019-08-28T00:00:00\",\"2019-08-29T00:00:00\",\"2019-08-30T00:00:00\",\"2019-09-02T00:00:00\",\"2019-09-03T00:00:00\",\"2019-09-04T00:00:00\",\"2019-09-05T00:00:00\",\"2019-09-06T00:00:00\",\"2019-09-09T00:00:00\",\"2019-09-10T00:00:00\",\"2019-09-11T00:00:00\",\"2019-09-12T00:00:00\",\"2019-09-13T00:00:00\",\"2019-09-16T00:00:00\",\"2019-09-17T00:00:00\",\"2019-09-18T00:00:00\",\"2019-09-19T00:00:00\",\"2019-09-20T00:00:00\",\"2019-09-23T00:00:00\",\"2019-09-24T00:00:00\",\"2019-09-25T00:00:00\",\"2019-09-26T00:00:00\",\"2019-09-27T00:00:00\",\"2019-09-30T00:00:00\",\"2019-10-01T00:00:00\",\"2019-10-02T00:00:00\",\"2019-10-03T00:00:00\",\"2019-10-04T00:00:00\",\"2019-10-07T00:00:00\",\"2019-10-08T00:00:00\",\"2019-10-09T00:00:00\",\"2019-10-10T00:00:00\",\"2019-10-11T00:00:00\",\"2019-10-14T00:00:00\",\"2019-10-15T00:00:00\",\"2019-10-16T00:00:00\",\"2019-10-17T00:00:00\",\"2019-10-18T00:00:00\",\"2019-10-21T00:00:00\",\"2019-10-22T00:00:00\",\"2019-10-23T00:00:00\",\"2019-10-24T00:00:00\",\"2019-10-25T00:00:00\",\"2019-10-28T00:00:00\",\"2019-10-29T00:00:00\",\"2019-10-30T00:00:00\",\"2019-10-31T00:00:00\",\"2019-11-01T00:00:00\",\"2019-11-04T00:00:00\",\"2019-11-05T00:00:00\",\"2019-11-06T00:00:00\",\"2019-11-07T00:00:00\",\"2019-11-08T00:00:00\",\"2019-11-11T00:00:00\",\"2019-11-12T00:00:00\",\"2019-11-13T00:00:00\",\"2019-11-14T00:00:00\",\"2019-11-15T00:00:00\",\"2019-11-18T00:00:00\",\"2019-11-19T00:00:00\",\"2019-11-20T00:00:00\",\"2019-11-21T00:00:00\",\"2019-11-22T00:00:00\",\"2019-11-25T00:00:00\",\"2019-11-26T00:00:00\",\"2019-11-27T00:00:00\",\"2019-11-28T00:00:00\",\"2019-11-29T00:00:00\",\"2019-12-02T00:00:00\",\"2019-12-03T00:00:00\",\"2019-12-04T00:00:00\",\"2019-12-05T00:00:00\",\"2019-12-06T00:00:00\",\"2019-12-09T00:00:00\",\"2019-12-10T00:00:00\",\"2019-12-11T00:00:00\",\"2019-12-12T00:00:00\",\"2019-12-13T00:00:00\",\"2019-12-16T00:00:00\",\"2019-12-17T00:00:00\",\"2019-12-18T00:00:00\",\"2019-12-19T00:00:00\",\"2019-12-20T00:00:00\",\"2019-12-23T00:00:00\",\"2019-12-24T00:00:00\",\"2019-12-25T00:00:00\",\"2019-12-26T00:00:00\",\"2019-12-27T00:00:00\",\"2019-12-30T00:00:00\",\"2019-12-31T00:00:00\",\"2020-01-01T00:00:00\",\"2020-01-02T00:00:00\",\"2020-01-03T00:00:00\",\"2020-01-06T00:00:00\",\"2020-01-07T00:00:00\",\"2020-01-08T00:00:00\",\"2020-01-09T00:00:00\",\"2020-01-10T00:00:00\",\"2020-01-13T00:00:00\",\"2020-01-14T00:00:00\",\"2020-01-15T00:00:00\",\"2020-01-16T00:00:00\",\"2020-01-17T00:00:00\",\"2020-01-20T00:00:00\",\"2020-01-21T00:00:00\",\"2020-01-22T00:00:00\",\"2020-01-23T00:00:00\",\"2020-01-24T00:00:00\",\"2020-01-27T00:00:00\",\"2020-01-28T00:00:00\",\"2020-01-29T00:00:00\",\"2020-01-30T00:00:00\",\"2020-01-31T00:00:00\",\"2020-02-03T00:00:00\",\"2020-02-04T00:00:00\",\"2020-02-05T00:00:00\",\"2020-02-06T00:00:00\",\"2020-02-07T00:00:00\",\"2020-02-10T00:00:00\",\"2020-02-11T00:00:00\",\"2020-02-12T00:00:00\",\"2020-02-13T00:00:00\",\"2020-02-14T00:00:00\",\"2020-02-17T00:00:00\",\"2020-02-18T00:00:00\",\"2020-02-19T00:00:00\",\"2020-02-20T00:00:00\",\"2020-02-21T00:00:00\",\"2020-02-24T00:00:00\",\"2020-02-25T00:00:00\",\"2020-02-26T00:00:00\",\"2020-02-27T00:00:00\",\"2020-02-28T00:00:00\",\"2020-03-02T00:00:00\",\"2020-03-03T00:00:00\",\"2020-03-04T00:00:00\",\"2020-03-05T00:00:00\",\"2020-03-06T00:00:00\",\"2020-03-09T00:00:00\",\"2020-03-10T00:00:00\",\"2020-03-11T00:00:00\",\"2020-03-12T00:00:00\",\"2020-03-13T00:00:00\",\"2020-03-16T00:00:00\",\"2020-03-17T00:00:00\",\"2020-03-18T00:00:00\",\"2020-03-19T00:00:00\",\"2020-03-20T00:00:00\",\"2020-03-23T00:00:00\",\"2020-03-24T00:00:00\",\"2020-03-25T00:00:00\",\"2020-03-26T00:00:00\",\"2020-03-27T00:00:00\",\"2020-03-30T00:00:00\",\"2020-03-31T00:00:00\",\"2020-04-01T00:00:00\",\"2020-04-02T00:00:00\",\"2020-04-03T00:00:00\",\"2020-04-06T00:00:00\",\"2020-04-07T00:00:00\",\"2020-04-08T00:00:00\",\"2020-04-09T00:00:00\",\"2020-04-10T00:00:00\",\"2020-04-13T00:00:00\",\"2020-04-14T00:00:00\",\"2020-04-15T00:00:00\",\"2020-04-16T00:00:00\",\"2020-04-17T00:00:00\",\"2020-04-20T00:00:00\",\"2020-04-21T00:00:00\",\"2020-04-22T00:00:00\",\"2020-04-23T00:00:00\",\"2020-04-24T00:00:00\",\"2020-04-27T00:00:00\",\"2020-04-28T00:00:00\",\"2020-04-29T00:00:00\",\"2020-04-30T00:00:00\",\"2020-05-01T00:00:00\",\"2020-05-04T00:00:00\",\"2020-05-05T00:00:00\",\"2020-05-06T00:00:00\",\"2020-05-07T00:00:00\",\"2020-05-08T00:00:00\",\"2020-05-11T00:00:00\",\"2020-05-12T00:00:00\",\"2020-05-13T00:00:00\",\"2020-05-14T00:00:00\",\"2020-05-15T00:00:00\",\"2020-05-18T00:00:00\",\"2020-05-19T00:00:00\",\"2020-05-20T00:00:00\",\"2020-05-21T00:00:00\",\"2020-05-22T00:00:00\",\"2020-05-25T00:00:00\",\"2020-05-26T00:00:00\",\"2020-05-27T00:00:00\",\"2020-05-28T00:00:00\",\"2020-05-29T00:00:00\",\"2020-06-01T00:00:00\",\"2020-06-02T00:00:00\",\"2020-06-03T00:00:00\",\"2020-06-04T00:00:00\",\"2020-06-05T00:00:00\",\"2020-06-08T00:00:00\",\"2020-06-09T00:00:00\",\"2020-06-10T00:00:00\",\"2020-06-11T00:00:00\",\"2020-06-12T00:00:00\",\"2020-06-15T00:00:00\",\"2020-06-16T00:00:00\",\"2020-06-17T00:00:00\",\"2020-06-18T00:00:00\",\"2020-06-19T00:00:00\",\"2020-06-22T00:00:00\",\"2020-06-23T00:00:00\",\"2020-06-24T00:00:00\",\"2020-06-25T00:00:00\",\"2020-06-26T00:00:00\",\"2020-06-29T00:00:00\",\"2020-06-30T00:00:00\",\"2020-07-01T00:00:00\",\"2020-07-02T00:00:00\",\"2020-07-03T00:00:00\",\"2020-07-06T00:00:00\",\"2020-07-07T00:00:00\",\"2020-07-08T00:00:00\",\"2020-07-09T00:00:00\",\"2020-07-10T00:00:00\",\"2020-07-13T00:00:00\",\"2020-07-14T00:00:00\",\"2020-07-15T00:00:00\",\"2020-07-16T00:00:00\",\"2020-07-17T00:00:00\",\"2020-07-20T00:00:00\",\"2020-07-21T00:00:00\",\"2020-07-22T00:00:00\",\"2020-07-23T00:00:00\",\"2020-07-24T00:00:00\",\"2020-07-27T00:00:00\",\"2020-07-28T00:00:00\",\"2020-07-29T00:00:00\",\"2020-07-30T00:00:00\",\"2020-07-31T00:00:00\",\"2020-08-03T00:00:00\",\"2020-08-04T00:00:00\",\"2020-08-05T00:00:00\",\"2020-08-06T00:00:00\",\"2020-08-07T00:00:00\",\"2020-08-10T00:00:00\",\"2020-08-11T00:00:00\",\"2020-08-12T00:00:00\",\"2020-08-13T00:00:00\",\"2020-08-14T00:00:00\",\"2020-08-17T00:00:00\",\"2020-08-18T00:00:00\",\"2020-08-19T00:00:00\",\"2020-08-20T00:00:00\",\"2020-08-21T00:00:00\",\"2020-08-24T00:00:00\",\"2020-08-25T00:00:00\",\"2020-08-26T00:00:00\",\"2020-08-27T00:00:00\",\"2020-08-28T00:00:00\",\"2020-08-31T00:00:00\",\"2020-09-01T00:00:00\",\"2020-09-02T00:00:00\",\"2020-09-03T00:00:00\",\"2020-09-04T00:00:00\",\"2020-09-07T00:00:00\",\"2020-09-08T00:00:00\",\"2020-09-09T00:00:00\",\"2020-09-10T00:00:00\",\"2020-09-11T00:00:00\",\"2020-09-14T00:00:00\",\"2020-09-15T00:00:00\",\"2020-09-16T00:00:00\",\"2020-09-17T00:00:00\",\"2020-09-18T00:00:00\",\"2020-09-21T00:00:00\",\"2020-09-22T00:00:00\",\"2020-09-23T00:00:00\",\"2020-09-24T00:00:00\",\"2020-09-25T00:00:00\",\"2020-09-28T00:00:00\",\"2020-09-29T00:00:00\",\"2020-09-30T00:00:00\",\"2020-10-01T00:00:00\",\"2020-10-02T00:00:00\",\"2020-10-05T00:00:00\",\"2020-10-06T00:00:00\",\"2020-10-07T00:00:00\",\"2020-10-08T00:00:00\",\"2020-10-09T00:00:00\",\"2020-10-12T00:00:00\",\"2020-10-13T00:00:00\",\"2020-10-14T00:00:00\",\"2020-10-15T00:00:00\",\"2020-10-16T00:00:00\",\"2020-10-19T00:00:00\",\"2020-10-20T00:00:00\",\"2020-10-21T00:00:00\",\"2020-10-22T00:00:00\",\"2020-10-23T00:00:00\",\"2020-10-26T00:00:00\",\"2020-10-27T00:00:00\",\"2020-10-28T00:00:00\",\"2020-10-29T00:00:00\",\"2020-10-30T00:00:00\",\"2020-11-02T00:00:00\",\"2020-11-03T00:00:00\",\"2020-11-04T00:00:00\",\"2020-11-05T00:00:00\",\"2020-11-06T00:00:00\",\"2020-11-09T00:00:00\",\"2020-11-10T00:00:00\",\"2020-11-11T00:00:00\",\"2020-11-12T00:00:00\",\"2020-11-13T00:00:00\",\"2020-11-16T00:00:00\",\"2020-11-17T00:00:00\",\"2020-11-18T00:00:00\",\"2020-11-19T00:00:00\",\"2020-11-20T00:00:00\",\"2020-11-23T00:00:00\",\"2020-11-24T00:00:00\",\"2020-11-25T00:00:00\",\"2020-11-26T00:00:00\",\"2020-11-27T00:00:00\",\"2020-11-30T00:00:00\",\"2020-12-01T00:00:00\",\"2020-12-02T00:00:00\",\"2020-12-03T00:00:00\",\"2020-12-04T00:00:00\",\"2020-12-07T00:00:00\",\"2020-12-08T00:00:00\",\"2020-12-09T00:00:00\",\"2020-12-10T00:00:00\",\"2020-12-11T00:00:00\",\"2020-12-14T00:00:00\",\"2020-12-15T00:00:00\",\"2020-12-16T00:00:00\",\"2020-12-17T00:00:00\",\"2020-12-18T00:00:00\",\"2020-12-21T00:00:00\",\"2020-12-22T00:00:00\",\"2020-12-23T00:00:00\",\"2020-12-24T00:00:00\",\"2020-12-25T00:00:00\",\"2020-12-28T00:00:00\",\"2020-12-29T00:00:00\",\"2020-12-30T00:00:00\",\"2020-12-31T00:00:00\",\"2021-01-01T00:00:00\",\"2021-01-04T00:00:00\",\"2021-01-05T00:00:00\",\"2021-01-06T00:00:00\",\"2021-01-07T00:00:00\",\"2021-01-08T00:00:00\",\"2021-01-11T00:00:00\",\"2021-01-12T00:00:00\",\"2021-01-13T00:00:00\",\"2021-01-14T00:00:00\",\"2021-01-15T00:00:00\",\"2021-01-18T00:00:00\",\"2021-01-19T00:00:00\",\"2021-01-20T00:00:00\",\"2021-01-21T00:00:00\",\"2021-01-22T00:00:00\",\"2021-01-25T00:00:00\",\"2021-01-26T00:00:00\",\"2021-01-27T00:00:00\",\"2021-01-28T00:00:00\",\"2021-01-29T00:00:00\",\"2021-02-01T00:00:00\",\"2021-02-02T00:00:00\",\"2021-02-03T00:00:00\",\"2021-02-04T00:00:00\",\"2021-02-05T00:00:00\",\"2021-02-08T00:00:00\",\"2021-02-09T00:00:00\",\"2021-02-10T00:00:00\",\"2021-02-11T00:00:00\",\"2021-02-12T00:00:00\",\"2021-02-15T00:00:00\",\"2021-02-16T00:00:00\",\"2021-02-17T00:00:00\",\"2021-02-18T00:00:00\",\"2021-02-19T00:00:00\",\"2021-02-22T00:00:00\",\"2021-02-23T00:00:00\",\"2021-02-24T00:00:00\",\"2021-02-25T00:00:00\",\"2021-02-26T00:00:00\",\"2021-03-01T00:00:00\",\"2021-03-02T00:00:00\",\"2021-03-03T00:00:00\",\"2021-03-04T00:00:00\",\"2021-03-05T00:00:00\",\"2021-03-08T00:00:00\",\"2021-03-09T00:00:00\",\"2021-03-10T00:00:00\",\"2021-03-11T00:00:00\",\"2021-03-12T00:00:00\",\"2021-03-15T00:00:00\",\"2021-03-16T00:00:00\",\"2021-03-17T00:00:00\",\"2021-03-18T00:00:00\",\"2021-03-19T00:00:00\",\"2021-03-22T00:00:00\",\"2021-03-23T00:00:00\",\"2021-03-24T00:00:00\",\"2021-03-25T00:00:00\",\"2021-03-26T00:00:00\",\"2021-03-29T00:00:00\",\"2021-03-30T00:00:00\",\"2021-03-31T00:00:00\",\"2021-04-01T00:00:00\",\"2021-04-02T00:00:00\",\"2021-04-05T00:00:00\",\"2021-04-06T00:00:00\",\"2021-04-07T00:00:00\",\"2021-04-08T00:00:00\",\"2021-04-09T00:00:00\",\"2021-04-12T00:00:00\",\"2021-04-13T00:00:00\",\"2021-04-14T00:00:00\",\"2021-04-15T00:00:00\",\"2021-04-16T00:00:00\",\"2021-04-19T00:00:00\",\"2021-04-20T00:00:00\",\"2021-04-21T00:00:00\",\"2021-04-22T00:00:00\",\"2021-04-23T00:00:00\",\"2021-04-26T00:00:00\",\"2021-04-27T00:00:00\",\"2021-04-28T00:00:00\",\"2021-04-29T00:00:00\",\"2021-04-30T00:00:00\",\"2021-05-03T00:00:00\",\"2021-05-04T00:00:00\",\"2021-05-05T00:00:00\",\"2021-05-06T00:00:00\",\"2021-05-07T00:00:00\",\"2021-05-10T00:00:00\",\"2021-05-11T00:00:00\",\"2021-05-12T00:00:00\",\"2021-05-13T00:00:00\",\"2021-05-14T00:00:00\",\"2021-05-17T00:00:00\",\"2021-05-18T00:00:00\",\"2021-05-19T00:00:00\",\"2021-05-20T00:00:00\",\"2021-05-21T00:00:00\",\"2021-05-24T00:00:00\",\"2021-05-25T00:00:00\",\"2021-05-26T00:00:00\",\"2021-05-27T00:00:00\",\"2021-05-28T00:00:00\",\"2021-05-31T00:00:00\",\"2021-06-01T00:00:00\",\"2021-06-02T00:00:00\",\"2021-06-03T00:00:00\",\"2021-06-04T00:00:00\",\"2021-06-07T00:00:00\",\"2021-06-08T00:00:00\",\"2021-06-09T00:00:00\",\"2021-06-10T00:00:00\",\"2021-06-11T00:00:00\",\"2021-06-14T00:00:00\",\"2021-06-15T00:00:00\",\"2021-06-16T00:00:00\",\"2021-06-17T00:00:00\",\"2021-06-18T00:00:00\",\"2021-06-21T00:00:00\",\"2021-06-22T00:00:00\",\"2021-06-23T00:00:00\",\"2021-06-24T00:00:00\",\"2021-06-25T00:00:00\",\"2021-06-28T00:00:00\",\"2021-06-29T00:00:00\",\"2021-06-30T00:00:00\",\"2021-07-01T00:00:00\",\"2021-07-02T00:00:00\",\"2021-07-05T00:00:00\",\"2021-07-06T00:00:00\",\"2021-07-07T00:00:00\",\"2021-07-08T00:00:00\",\"2021-07-09T00:00:00\",\"2021-07-12T00:00:00\",\"2021-07-13T00:00:00\",\"2021-07-14T00:00:00\",\"2021-07-15T00:00:00\",\"2021-07-16T00:00:00\",\"2021-07-19T00:00:00\",\"2021-07-20T00:00:00\",\"2021-07-21T00:00:00\",\"2021-07-22T00:00:00\",\"2021-07-23T00:00:00\",\"2021-07-26T00:00:00\",\"2021-07-27T00:00:00\",\"2021-07-28T00:00:00\",\"2021-07-29T00:00:00\"],\"y\":[null,null,null,null,null,null,null,null,null,null,null,null,null,null,null,null,null,null,null,null,null,null,null,null,null,null,null,null,null,4.049423333333333,4.056773333333333,4.063293333333333,4.066716666666667,4.0706,4.075336666666667,4.083600000000001,4.09048,4.096423333333333,4.103056666666666,4.106273333333333,4.112276666666667,4.117423333333333,4.120133333333333,4.12363,4.127043333333333,4.127486666666667,4.125346666666666,4.123679999999999,4.12249,4.120563333333333,4.11859,4.1174,4.11538,4.1158,4.11769,4.119516666666667,4.121183333333333,4.12232,4.122356666666667,4.12124,4.120593333333334,4.11789,4.11489,4.112253333333333,4.108243333333333,4.1032633333333335,4.0980099999999995,4.09307,4.087363333333333,4.085183333333333,4.082836666666667,4.0829466666666665,4.08282,4.083106666666667,4.08448,4.088183333333333,4.0928700000000005,4.096566666666667,4.09987,4.10274,4.10553,4.108426666666667,4.111773333333334,4.113523333333333,4.117256666666667,4.118123333333333,4.122286666666667,4.12542,4.129576666666667,4.13536,4.14018,4.1447666666666665,4.149816666666667,4.154763333333333,4.159206666666667,4.16162,4.165546666666667,4.167133333333333,4.169733333333333,4.169056666666666,4.168023333333333,4.16599,4.163716666666667,4.16092,4.15803,4.153393333333333,4.148383333333333,4.141766666666666,4.135933333333333,4.1300333333333334,4.12447,4.1201566666666665,4.114653333333333,4.109143333333333,4.102513333333333,4.099263333333334,4.09458,4.09203,4.089576666666667,4.088496666666667,4.088466666666666,4.089153333333333,4.090743333333333,4.09293,4.094886666666667,4.09755,4.099996666666667,4.104813333333333,4.108903333333333,4.114476666666667,4.12026,4.1262566666666665,4.131736666666667,4.137433333333333,4.142496666666667,4.150046666666666,4.159203333333333,4.16939,4.1798,4.19099,4.201786666666667,4.209466666666667,4.218313333333333,4.227913333333333,4.237926666666667,4.2479499999999994,4.257733333333333,4.26578,4.27429,4.283453333333333,4.293493333333333,4.303876666666667,4.31335,4.323423333333333,4.336826666666667,4.351389999999999,4.366243333333333,4.383473333333333,4.398453333333333,4.41794,4.4362200000000005,4.45546,4.480543333333333,4.505719999999999,4.5347800000000005,4.561896666666668,4.5866766666666665,4.613996666666667,4.639586666666667,4.6623,4.68469,4.711426666666667,4.740306666666667,4.768596666666667,4.798063333333333,4.826723333333334,4.8587533333333335,4.8886866666666675,4.916456666666666,4.938883333333333,4.959573333333333,4.980666666666666,5.004833333333333,5.02641,5.048133333333333,5.06899,5.089293333333333,5.1090333333333335,5.131446666666666,5.152873333333334,5.177603333333333,5.201973333333332,5.22371,5.24004,5.247616666666667,5.26061,5.274663333333334,5.288006666666666,5.303966666666667,5.326546666666667,5.353506666666667,5.37458,5.395393333333333,5.418093333333333,5.43929,5.457896666666667,5.474723333333333,5.489146666666667,5.506900000000001,5.525873333333334,5.540663333333333,5.554913333333333,5.563136666666667,5.569233333333333,5.570453333333334,5.57616,5.579486666666667,5.581036666666666,5.577206666666667,5.564013333333333,5.5501966666666664,5.529123333333334,5.50147,5.481446666666667,5.4693933333333336,5.4524,5.437896666666666,5.42492,5.413743333333333,5.397563333333333,5.38246,5.368413333333333,5.34956,5.3251800000000005,5.307230000000001,5.292050000000001,5.279669999999999,5.26915,5.259553333333333,5.24705,5.24068,5.233413333333333,5.230416666666667,5.23155,5.2338466666666665,5.23174,5.23133,5.232686666666667,5.23822,5.248473333333334,5.255543333333333,5.269756666666667,5.286599999999999,5.29567,5.30045,5.3082899999999995,5.314369999999999,5.314003333333333,5.311013333333333,5.309033333333334,5.30156,5.298676666666667,5.300973333333333,5.305499999999999,5.303616666666667,5.302796666666667,5.3012733333333335,5.303866666666667,5.300996666666666,5.304860000000001,5.305173333333333,5.308660000000001,5.3137533333333336,5.316673333333332,5.323849999999999,5.331033333333334,5.34088,5.347746666666667,5.352416666666667,5.36027,5.3682033333333345,5.368309999999999,5.3737466666666664,5.381236666666667,5.388693333333333,5.391366666666667,5.393643333333333,5.39881,5.405826666666667,5.410446666666667,5.416033333333333,5.419196666666666,5.417506666666666,5.417,5.41525,5.41218,5.410489999999999,5.40822,5.411233333333333,5.4166,5.421263333333333,5.425996666666666,5.431120000000001,5.4367133333333335,5.438503333333333,5.4414,5.443596666666666,5.442406666666667,5.445256666666667,5.4454,5.446386666666666,5.451176666666667,5.452516666666667,5.458293333333333,5.466656666666667,5.477363333333333,5.48875,5.49899,5.507043333333333,5.517003333333333,5.525946666666667,5.5359,5.547643333333334,5.562,5.5789333333333335,5.59692,5.60882,5.6198,5.629320000000001,5.631626666666667,5.632163333333334,5.6255733333333335,5.616343333333333,5.60902,5.60168,5.595493333333334,5.58793,5.582626666666667,5.5737966666666665,5.56557,5.555793333333333,5.550723333333334,5.5476366666666665,5.541113333333333,5.532196666666666,5.522993333333333,5.513026666666667,5.50386,5.49055,5.47758,5.462986666666666,5.447593333333334,5.43013,5.41062,5.391456666666667,5.366343333333333,5.343710000000001,5.322923333333334,5.300529999999999,5.281206666666666,5.265646666666666,5.256896666666666,5.24811,5.23961,5.23379,5.225736666666666,5.217686666666666,5.2120500000000005,5.2081100000000005,5.20247,5.198756666666667,5.192566666666666,5.187826666666666,5.184886666666667,5.18456,5.187013333333334,5.18948,5.194716666666666,5.198600000000001,5.201316666666667,5.202823333333334,5.20739,5.213946666666667,5.221866666666666,5.225896666666667,5.23673,5.250096666666666,5.261683333333333,5.270716666666667,5.281716666666667,5.294476666666667,5.306486666666667,5.316820000000001,5.323763333333333,5.328329999999999,5.335333333333334,5.340456666666667,5.3444433333333325,5.3500499999999995,5.35646,5.36221,5.36807,5.370513333333334,5.373316666666667,5.376536666666667,5.3771,5.375916666666667,5.375146666666667,5.37909,5.382663333333334,5.3938,5.403996666666667,5.415533333333333,5.426143333333333,5.437063333333333,5.447686666666667,5.45516,5.468793333333334,5.483703333333334,5.492310000000001,5.495466666666667,5.4984433333333325,5.504556666666667,5.51311,5.520770000000001,5.52523,5.529273333333333,5.533900000000001,5.5386766666666665,5.546506666666667,5.555873333333333,5.568766666666666,5.582426666666666,5.595926666666667,5.603293333333332,5.612629999999999,5.62347,5.630046666666667,5.63503,5.641966666666666,5.643339999999999,5.646123333333333,5.649173333333334,5.650523333333334,5.651633333333334,5.649863333333333,5.646446666666667,5.635466666666667,5.627673333333334,5.6242399999999995,5.6212100000000005,5.6186533333333335,5.61268,5.606826666666666,5.59882,5.5913900000000005,5.589553333333333,5.58747,5.584873333333333,5.575983333333334,5.563599999999999,5.546273333333334,5.52785,5.509393333333334,5.498546666666667,5.485276666666667,5.470786666666666,5.457776666666667,5.4467799999999995,5.436616666666667,5.426966666666667,5.416286666666667,5.402426666666667,5.38958,5.378209999999999,5.365613333333333,5.353483333333333,5.3425199999999995,5.328593333333333,5.31214,5.299896666666666,5.285709999999999,5.272666666666667,5.258783333333333,5.24942,5.24001,5.22936,5.21663,5.203303333333334,5.193313333333333,5.18431,5.179396666666666,5.172256666666668,5.163476666666666,5.152163333333333,5.138986666666667,5.127676666666668,5.11606,5.105906666666668,5.094546666666667,5.086716666666667,5.076576666666666,5.069026666666667,5.06455,5.061883333333333,5.062536666666667,5.063713333333333,5.06224,5.062616666666667,5.062456666666666,5.063540000000001,5.065713333333334,5.072606666666667,5.078873333333333,5.08305,5.087886666666666,5.09067,5.0945366666666665,5.098713333333333,5.1007533333333335,5.1032633333333335],\"type\":\"scatter\"}],                        {\"title\":{\"text\":\"Pre\\u00e7o do Bitcoin em rela\\u00e7\\u00e3o ao D\\u00f3lar\"},\"xaxis\":{\"title\":{\"text\":\"Data\"}},\"yaxis\":{\"title\":{\"text\":\"Pre\\u00e7o\"}},\"template\":{\"data\":{\"histogram2dcontour\":[{\"type\":\"histogram2dcontour\",\"colorbar\":{\"outlinewidth\":0,\"ticks\":\"\"},\"colorscale\":[[0.0,\"#0d0887\"],[0.1111111111111111,\"#46039f\"],[0.2222222222222222,\"#7201a8\"],[0.3333333333333333,\"#9c179e\"],[0.4444444444444444,\"#bd3786\"],[0.5555555555555556,\"#d8576b\"],[0.6666666666666666,\"#ed7953\"],[0.7777777777777778,\"#fb9f3a\"],[0.8888888888888888,\"#fdca26\"],[1.0,\"#f0f921\"]]}],\"choropleth\":[{\"type\":\"choropleth\",\"colorbar\":{\"outlinewidth\":0,\"ticks\":\"\"}}],\"histogram2d\":[{\"type\":\"histogram2d\",\"colorbar\":{\"outlinewidth\":0,\"ticks\":\"\"},\"colorscale\":[[0.0,\"#0d0887\"],[0.1111111111111111,\"#46039f\"],[0.2222222222222222,\"#7201a8\"],[0.3333333333333333,\"#9c179e\"],[0.4444444444444444,\"#bd3786\"],[0.5555555555555556,\"#d8576b\"],[0.6666666666666666,\"#ed7953\"],[0.7777777777777778,\"#fb9f3a\"],[0.8888888888888888,\"#fdca26\"],[1.0,\"#f0f921\"]]}],\"heatmap\":[{\"type\":\"heatmap\",\"colorbar\":{\"outlinewidth\":0,\"ticks\":\"\"},\"colorscale\":[[0.0,\"#0d0887\"],[0.1111111111111111,\"#46039f\"],[0.2222222222222222,\"#7201a8\"],[0.3333333333333333,\"#9c179e\"],[0.4444444444444444,\"#bd3786\"],[0.5555555555555556,\"#d8576b\"],[0.6666666666666666,\"#ed7953\"],[0.7777777777777778,\"#fb9f3a\"],[0.8888888888888888,\"#fdca26\"],[1.0,\"#f0f921\"]]}],\"heatmapgl\":[{\"type\":\"heatmapgl\",\"colorbar\":{\"outlinewidth\":0,\"ticks\":\"\"},\"colorscale\":[[0.0,\"#0d0887\"],[0.1111111111111111,\"#46039f\"],[0.2222222222222222,\"#7201a8\"],[0.3333333333333333,\"#9c179e\"],[0.4444444444444444,\"#bd3786\"],[0.5555555555555556,\"#d8576b\"],[0.6666666666666666,\"#ed7953\"],[0.7777777777777778,\"#fb9f3a\"],[0.8888888888888888,\"#fdca26\"],[1.0,\"#f0f921\"]]}],\"contourcarpet\":[{\"type\":\"contourcarpet\",\"colorbar\":{\"outlinewidth\":0,\"ticks\":\"\"}}],\"contour\":[{\"type\":\"contour\",\"colorbar\":{\"outlinewidth\":0,\"ticks\":\"\"},\"colorscale\":[[0.0,\"#0d0887\"],[0.1111111111111111,\"#46039f\"],[0.2222222222222222,\"#7201a8\"],[0.3333333333333333,\"#9c179e\"],[0.4444444444444444,\"#bd3786\"],[0.5555555555555556,\"#d8576b\"],[0.6666666666666666,\"#ed7953\"],[0.7777777777777778,\"#fb9f3a\"],[0.8888888888888888,\"#fdca26\"],[1.0,\"#f0f921\"]]}],\"surface\":[{\"type\":\"surface\",\"colorbar\":{\"outlinewidth\":0,\"ticks\":\"\"},\"colorscale\":[[0.0,\"#0d0887\"],[0.1111111111111111,\"#46039f\"],[0.2222222222222222,\"#7201a8\"],[0.3333333333333333,\"#9c179e\"],[0.4444444444444444,\"#bd3786\"],[0.5555555555555556,\"#d8576b\"],[0.6666666666666666,\"#ed7953\"],[0.7777777777777778,\"#fb9f3a\"],[0.8888888888888888,\"#fdca26\"],[1.0,\"#f0f921\"]]}],\"mesh3d\":[{\"type\":\"mesh3d\",\"colorbar\":{\"outlinewidth\":0,\"ticks\":\"\"}}],\"scatter\":[{\"fillpattern\":{\"fillmode\":\"overlay\",\"size\":10,\"solidity\":0.2},\"type\":\"scatter\"}],\"parcoords\":[{\"type\":\"parcoords\",\"line\":{\"colorbar\":{\"outlinewidth\":0,\"ticks\":\"\"}}}],\"scatterpolargl\":[{\"type\":\"scatterpolargl\",\"marker\":{\"colorbar\":{\"outlinewidth\":0,\"ticks\":\"\"}}}],\"bar\":[{\"error_x\":{\"color\":\"#2a3f5f\"},\"error_y\":{\"color\":\"#2a3f5f\"},\"marker\":{\"line\":{\"color\":\"#E5ECF6\",\"width\":0.5},\"pattern\":{\"fillmode\":\"overlay\",\"size\":10,\"solidity\":0.2}},\"type\":\"bar\"}],\"scattergeo\":[{\"type\":\"scattergeo\",\"marker\":{\"colorbar\":{\"outlinewidth\":0,\"ticks\":\"\"}}}],\"scatterpolar\":[{\"type\":\"scatterpolar\",\"marker\":{\"colorbar\":{\"outlinewidth\":0,\"ticks\":\"\"}}}],\"histogram\":[{\"marker\":{\"pattern\":{\"fillmode\":\"overlay\",\"size\":10,\"solidity\":0.2}},\"type\":\"histogram\"}],\"scattergl\":[{\"type\":\"scattergl\",\"marker\":{\"colorbar\":{\"outlinewidth\":0,\"ticks\":\"\"}}}],\"scatter3d\":[{\"type\":\"scatter3d\",\"line\":{\"colorbar\":{\"outlinewidth\":0,\"ticks\":\"\"}},\"marker\":{\"colorbar\":{\"outlinewidth\":0,\"ticks\":\"\"}}}],\"scattermapbox\":[{\"type\":\"scattermapbox\",\"marker\":{\"colorbar\":{\"outlinewidth\":0,\"ticks\":\"\"}}}],\"scatterternary\":[{\"type\":\"scatterternary\",\"marker\":{\"colorbar\":{\"outlinewidth\":0,\"ticks\":\"\"}}}],\"scattercarpet\":[{\"type\":\"scattercarpet\",\"marker\":{\"colorbar\":{\"outlinewidth\":0,\"ticks\":\"\"}}}],\"carpet\":[{\"aaxis\":{\"endlinecolor\":\"#2a3f5f\",\"gridcolor\":\"white\",\"linecolor\":\"white\",\"minorgridcolor\":\"white\",\"startlinecolor\":\"#2a3f5f\"},\"baxis\":{\"endlinecolor\":\"#2a3f5f\",\"gridcolor\":\"white\",\"linecolor\":\"white\",\"minorgridcolor\":\"white\",\"startlinecolor\":\"#2a3f5f\"},\"type\":\"carpet\"}],\"table\":[{\"cells\":{\"fill\":{\"color\":\"#EBF0F8\"},\"line\":{\"color\":\"white\"}},\"header\":{\"fill\":{\"color\":\"#C8D4E3\"},\"line\":{\"color\":\"white\"}},\"type\":\"table\"}],\"barpolar\":[{\"marker\":{\"line\":{\"color\":\"#E5ECF6\",\"width\":0.5},\"pattern\":{\"fillmode\":\"overlay\",\"size\":10,\"solidity\":0.2}},\"type\":\"barpolar\"}],\"pie\":[{\"automargin\":true,\"type\":\"pie\"}]},\"layout\":{\"autotypenumbers\":\"strict\",\"colorway\":[\"#636efa\",\"#EF553B\",\"#00cc96\",\"#ab63fa\",\"#FFA15A\",\"#19d3f3\",\"#FF6692\",\"#B6E880\",\"#FF97FF\",\"#FECB52\"],\"font\":{\"color\":\"#2a3f5f\"},\"hovermode\":\"closest\",\"hoverlabel\":{\"align\":\"left\"},\"paper_bgcolor\":\"white\",\"plot_bgcolor\":\"#E5ECF6\",\"polar\":{\"bgcolor\":\"#E5ECF6\",\"angularaxis\":{\"gridcolor\":\"white\",\"linecolor\":\"white\",\"ticks\":\"\"},\"radialaxis\":{\"gridcolor\":\"white\",\"linecolor\":\"white\",\"ticks\":\"\"}},\"ternary\":{\"bgcolor\":\"#E5ECF6\",\"aaxis\":{\"gridcolor\":\"white\",\"linecolor\":\"white\",\"ticks\":\"\"},\"baxis\":{\"gridcolor\":\"white\",\"linecolor\":\"white\",\"ticks\":\"\"},\"caxis\":{\"gridcolor\":\"white\",\"linecolor\":\"white\",\"ticks\":\"\"}},\"coloraxis\":{\"colorbar\":{\"outlinewidth\":0,\"ticks\":\"\"}},\"colorscale\":{\"sequential\":[[0.0,\"#0d0887\"],[0.1111111111111111,\"#46039f\"],[0.2222222222222222,\"#7201a8\"],[0.3333333333333333,\"#9c179e\"],[0.4444444444444444,\"#bd3786\"],[0.5555555555555556,\"#d8576b\"],[0.6666666666666666,\"#ed7953\"],[0.7777777777777778,\"#fb9f3a\"],[0.8888888888888888,\"#fdca26\"],[1.0,\"#f0f921\"]],\"sequentialminus\":[[0.0,\"#0d0887\"],[0.1111111111111111,\"#46039f\"],[0.2222222222222222,\"#7201a8\"],[0.3333333333333333,\"#9c179e\"],[0.4444444444444444,\"#bd3786\"],[0.5555555555555556,\"#d8576b\"],[0.6666666666666666,\"#ed7953\"],[0.7777777777777778,\"#fb9f3a\"],[0.8888888888888888,\"#fdca26\"],[1.0,\"#f0f921\"]],\"diverging\":[[0,\"#8e0152\"],[0.1,\"#c51b7d\"],[0.2,\"#de77ae\"],[0.3,\"#f1b6da\"],[0.4,\"#fde0ef\"],[0.5,\"#f7f7f7\"],[0.6,\"#e6f5d0\"],[0.7,\"#b8e186\"],[0.8,\"#7fbc41\"],[0.9,\"#4d9221\"],[1,\"#276419\"]]},\"xaxis\":{\"gridcolor\":\"white\",\"linecolor\":\"white\",\"ticks\":\"\",\"title\":{\"standoff\":15},\"zerolinecolor\":\"white\",\"automargin\":true,\"zerolinewidth\":2},\"yaxis\":{\"gridcolor\":\"white\",\"linecolor\":\"white\",\"ticks\":\"\",\"title\":{\"standoff\":15},\"zerolinecolor\":\"white\",\"automargin\":true,\"zerolinewidth\":2},\"scene\":{\"xaxis\":{\"backgroundcolor\":\"#E5ECF6\",\"gridcolor\":\"white\",\"linecolor\":\"white\",\"showbackground\":true,\"ticks\":\"\",\"zerolinecolor\":\"white\",\"gridwidth\":2},\"yaxis\":{\"backgroundcolor\":\"#E5ECF6\",\"gridcolor\":\"white\",\"linecolor\":\"white\",\"showbackground\":true,\"ticks\":\"\",\"zerolinecolor\":\"white\",\"gridwidth\":2},\"zaxis\":{\"backgroundcolor\":\"#E5ECF6\",\"gridcolor\":\"white\",\"linecolor\":\"white\",\"showbackground\":true,\"ticks\":\"\",\"zerolinecolor\":\"white\",\"gridwidth\":2}},\"shapedefaults\":{\"line\":{\"color\":\"#2a3f5f\"}},\"annotationdefaults\":{\"arrowcolor\":\"#2a3f5f\",\"arrowhead\":0,\"arrowwidth\":1},\"geo\":{\"bgcolor\":\"white\",\"landcolor\":\"#E5ECF6\",\"subunitcolor\":\"white\",\"showland\":true,\"showlakes\":true,\"lakecolor\":\"white\"},\"title\":{\"x\":0.05},\"mapbox\":{\"style\":\"light\"}}}},                        {\"responsive\": true}                    ).then(function(){\n",
              "                            \n",
              "var gd = document.getElementById('ccc29e5f-9683-49ea-b230-b7580b0885da');\n",
              "var x = new MutationObserver(function (mutations, observer) {{\n",
              "        var display = window.getComputedStyle(gd).display;\n",
              "        if (!display || display === 'none') {{\n",
              "            console.log([gd, 'removed!']);\n",
              "            Plotly.purge(gd);\n",
              "            observer.disconnect();\n",
              "        }}\n",
              "}});\n",
              "\n",
              "// Listen for the removal of the full notebook cells\n",
              "var notebookContainer = gd.closest('#notebook-container');\n",
              "if (notebookContainer) {{\n",
              "    x.observe(notebookContainer, {childList: true});\n",
              "}}\n",
              "\n",
              "// Listen for the clearing of the current output cell\n",
              "var outputEl = gd.closest('.output');\n",
              "if (outputEl) {{\n",
              "    x.observe(outputEl, {childList: true});\n",
              "}}\n",
              "\n",
              "                        })                };                            </script>        </div>\n",
              "</body>\n",
              "</html>"
            ]
          },
          "metadata": {}
        }
      ]
    },
    {
      "cell_type": "code",
      "source": [],
      "metadata": {
        "id": "sP-R_F3vGEO7"
      },
      "execution_count": null,
      "outputs": []
    }
  ]
}