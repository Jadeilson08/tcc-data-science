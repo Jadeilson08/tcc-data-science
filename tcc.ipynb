{
  "nbformat": 4,
  "nbformat_minor": 0,
  "metadata": {
    "colab": {
      "provenance": [],
      "authorship_tag": "ABX9TyPugGDMcFXgN7SuVfhLaEY8",
      "include_colab_link": true
    },
    "kernelspec": {
      "name": "python3",
      "display_name": "Python 3"
    },
    "language_info": {
      "name": "python"
    }
  },
  "cells": [
    {
      "cell_type": "markdown",
      "metadata": {
        "id": "view-in-github",
        "colab_type": "text"
      },
      "source": [
        "<a href=\"https://colab.research.google.com/github/Jadeilson08/tcc-data-science/blob/master/tcc.ipynb\" target=\"_parent\"><img src=\"https://colab.research.google.com/assets/colab-badge.svg\" alt=\"Open In Colab\"/></a>"
      ]
    },
    {
      "cell_type": "markdown",
      "source": [
        "# Etapas:\n",
        "\n",
        "## 1. coleta de dados\n",
        "- [x] Obtenha os dados de preço histórico de Bitcoin e Ethereum em um formato de tabela (por exemplo, CSV).\n",
        "- [x] Obtenha os dados do valor do dolar por dia\n",
        "\n",
        "## 2. processar e tratar dados\n",
        "- [x] Utilize a biblioteca Pandas para carregar e manipular os dados.\n",
        "\n",
        "## 3. analisar e explorar dados\n",
        "- [x] Utilize a biblioteca Matplotlib para plotar os dados e visualizar as tendências.\n",
        "- [x] Unir DF's\n",
        "- [x] Utilize a biblioteca de aprendizado de máquina scikit-learn para dividir os dados em conjuntos de treinamento e teste.\n",
        "- [ ] Escolha um modelo de aprendizado de máquina apropriado para séries temporais (por exemplo, ARIMA, SARIMA, Prophet) e treine-o com os dados de treinamento.\n",
        "- [ ] Faça previsões com o modelo treinado utilizando os dados de teste e avaliar a precisão do modelo.\n",
        "- [ ] Utilize o modelo treinado para fazer previsões futuras.\n",
        "- [ ] atualizar os inputs com dados mais recentes\n",
        "\n"
      ],
      "metadata": {
        "id": "NBYBFoNG5E93"
      }
    },
    {
      "cell_type": "code",
      "execution_count": 62,
      "metadata": {
        "id": "WTgbqiaT2WCC"
      },
      "outputs": [],
      "source": [
        "# importando o data_reader\n",
        "!pip install -q yfinance\n",
        "import pandas as pd\n",
        "from pandas_datareader import data as pdr\n",
        "import yfinance as yfin\n",
        "import matplotlib.pyplot as plt\n",
        "import seaborn as sns\n",
        "import numpy as np\n",
        "import plotly.graph_objs as go\n",
        "\n",
        "from sklearn.linear_model import LinearRegression\n",
        "from sklearn.model_selection import train_test_split\n",
        "from sklearn.metrics import mean_squared_error, r2_score\n",
        "\n",
        "from sklearn.ensemble import RandomForestRegressor\n",
        "\n",
        "from sklearn.neural_network import MLPRegressor\n",
        "\n",
        "yfin.pdr_override()"
      ]
    },
    {
      "cell_type": "code",
      "source": [
        "# Bitcoin(BTC-USD)\n",
        "\n",
        "#data inicial e final\n",
        "start_date = '2020-01-01'\n",
        "end_date = '2022-12-31'\n",
        "\n",
        "# coletando os dataframe\n",
        "df_bitcoin = pdr.get_data_yahoo('BTC-USD', start=start_date, end=end_date)"
      ],
      "metadata": {
        "colab": {
          "base_uri": "https://localhost:8080/"
        },
        "id": "76EjLNEi3VX9",
        "outputId": "3a380835-f106-4143-9284-48dbbfcdae56"
      },
      "execution_count": 63,
      "outputs": [
        {
          "output_type": "stream",
          "name": "stdout",
          "text": [
            "\r[*********************100%***********************]  1 of 1 completed\n"
          ]
        }
      ]
    },
    {
      "cell_type": "code",
      "source": [
        "# o index de todos os dataframe ja sao as datas, sem necessidade de atualizar o indice\n",
        "df_bitcoin.head()"
      ],
      "metadata": {
        "colab": {
          "base_uri": "https://localhost:8080/",
          "height": 238
        },
        "id": "0d8xqcs35_eb",
        "outputId": "1daaf751-66e5-4efb-fbf8-7c0922a356f0"
      },
      "execution_count": 114,
      "outputs": [
        {
          "output_type": "execute_result",
          "data": {
            "text/plain": [
              "                   Open         High          Low        Close    Adj Close  \\\n",
              "Date                                                                          \n",
              "2020-01-01  7194.892090  7254.330566  7174.944336  7200.174316  7200.174316   \n",
              "2020-01-02  7202.551270  7212.155273  6935.270020  6985.470215  6985.470215   \n",
              "2020-01-03  6984.428711  7413.715332  6914.996094  7344.884277  7344.884277   \n",
              "2020-01-04  7345.375488  7427.385742  7309.514160  7410.656738  7410.656738   \n",
              "2020-01-05  7410.451660  7544.497070  7400.535645  7411.317383  7411.317383   \n",
              "\n",
              "                 Volume  \n",
              "Date                     \n",
              "2020-01-01  18565664997  \n",
              "2020-01-02  20802083465  \n",
              "2020-01-03  28111481032  \n",
              "2020-01-04  18444271275  \n",
              "2020-01-05  19725074095  "
            ],
            "text/html": [
              "\n",
              "  <div id=\"df-90c930ad-def0-4d15-bc6c-d193058f6aa7\">\n",
              "    <div class=\"colab-df-container\">\n",
              "      <div>\n",
              "<style scoped>\n",
              "    .dataframe tbody tr th:only-of-type {\n",
              "        vertical-align: middle;\n",
              "    }\n",
              "\n",
              "    .dataframe tbody tr th {\n",
              "        vertical-align: top;\n",
              "    }\n",
              "\n",
              "    .dataframe thead th {\n",
              "        text-align: right;\n",
              "    }\n",
              "</style>\n",
              "<table border=\"1\" class=\"dataframe\">\n",
              "  <thead>\n",
              "    <tr style=\"text-align: right;\">\n",
              "      <th></th>\n",
              "      <th>Open</th>\n",
              "      <th>High</th>\n",
              "      <th>Low</th>\n",
              "      <th>Close</th>\n",
              "      <th>Adj Close</th>\n",
              "      <th>Volume</th>\n",
              "    </tr>\n",
              "    <tr>\n",
              "      <th>Date</th>\n",
              "      <th></th>\n",
              "      <th></th>\n",
              "      <th></th>\n",
              "      <th></th>\n",
              "      <th></th>\n",
              "      <th></th>\n",
              "    </tr>\n",
              "  </thead>\n",
              "  <tbody>\n",
              "    <tr>\n",
              "      <th>2020-01-01</th>\n",
              "      <td>7194.892090</td>\n",
              "      <td>7254.330566</td>\n",
              "      <td>7174.944336</td>\n",
              "      <td>7200.174316</td>\n",
              "      <td>7200.174316</td>\n",
              "      <td>18565664997</td>\n",
              "    </tr>\n",
              "    <tr>\n",
              "      <th>2020-01-02</th>\n",
              "      <td>7202.551270</td>\n",
              "      <td>7212.155273</td>\n",
              "      <td>6935.270020</td>\n",
              "      <td>6985.470215</td>\n",
              "      <td>6985.470215</td>\n",
              "      <td>20802083465</td>\n",
              "    </tr>\n",
              "    <tr>\n",
              "      <th>2020-01-03</th>\n",
              "      <td>6984.428711</td>\n",
              "      <td>7413.715332</td>\n",
              "      <td>6914.996094</td>\n",
              "      <td>7344.884277</td>\n",
              "      <td>7344.884277</td>\n",
              "      <td>28111481032</td>\n",
              "    </tr>\n",
              "    <tr>\n",
              "      <th>2020-01-04</th>\n",
              "      <td>7345.375488</td>\n",
              "      <td>7427.385742</td>\n",
              "      <td>7309.514160</td>\n",
              "      <td>7410.656738</td>\n",
              "      <td>7410.656738</td>\n",
              "      <td>18444271275</td>\n",
              "    </tr>\n",
              "    <tr>\n",
              "      <th>2020-01-05</th>\n",
              "      <td>7410.451660</td>\n",
              "      <td>7544.497070</td>\n",
              "      <td>7400.535645</td>\n",
              "      <td>7411.317383</td>\n",
              "      <td>7411.317383</td>\n",
              "      <td>19725074095</td>\n",
              "    </tr>\n",
              "  </tbody>\n",
              "</table>\n",
              "</div>\n",
              "      <button class=\"colab-df-convert\" onclick=\"convertToInteractive('df-90c930ad-def0-4d15-bc6c-d193058f6aa7')\"\n",
              "              title=\"Convert this dataframe to an interactive table.\"\n",
              "              style=\"display:none;\">\n",
              "        \n",
              "  <svg xmlns=\"http://www.w3.org/2000/svg\" height=\"24px\"viewBox=\"0 0 24 24\"\n",
              "       width=\"24px\">\n",
              "    <path d=\"M0 0h24v24H0V0z\" fill=\"none\"/>\n",
              "    <path d=\"M18.56 5.44l.94 2.06.94-2.06 2.06-.94-2.06-.94-.94-2.06-.94 2.06-2.06.94zm-11 1L8.5 8.5l.94-2.06 2.06-.94-2.06-.94L8.5 2.5l-.94 2.06-2.06.94zm10 10l.94 2.06.94-2.06 2.06-.94-2.06-.94-.94-2.06-.94 2.06-2.06.94z\"/><path d=\"M17.41 7.96l-1.37-1.37c-.4-.4-.92-.59-1.43-.59-.52 0-1.04.2-1.43.59L10.3 9.45l-7.72 7.72c-.78.78-.78 2.05 0 2.83L4 21.41c.39.39.9.59 1.41.59.51 0 1.02-.2 1.41-.59l7.78-7.78 2.81-2.81c.8-.78.8-2.07 0-2.86zM5.41 20L4 18.59l7.72-7.72 1.47 1.35L5.41 20z\"/>\n",
              "  </svg>\n",
              "      </button>\n",
              "      \n",
              "  <style>\n",
              "    .colab-df-container {\n",
              "      display:flex;\n",
              "      flex-wrap:wrap;\n",
              "      gap: 12px;\n",
              "    }\n",
              "\n",
              "    .colab-df-convert {\n",
              "      background-color: #E8F0FE;\n",
              "      border: none;\n",
              "      border-radius: 50%;\n",
              "      cursor: pointer;\n",
              "      display: none;\n",
              "      fill: #1967D2;\n",
              "      height: 32px;\n",
              "      padding: 0 0 0 0;\n",
              "      width: 32px;\n",
              "    }\n",
              "\n",
              "    .colab-df-convert:hover {\n",
              "      background-color: #E2EBFA;\n",
              "      box-shadow: 0px 1px 2px rgba(60, 64, 67, 0.3), 0px 1px 3px 1px rgba(60, 64, 67, 0.15);\n",
              "      fill: #174EA6;\n",
              "    }\n",
              "\n",
              "    [theme=dark] .colab-df-convert {\n",
              "      background-color: #3B4455;\n",
              "      fill: #D2E3FC;\n",
              "    }\n",
              "\n",
              "    [theme=dark] .colab-df-convert:hover {\n",
              "      background-color: #434B5C;\n",
              "      box-shadow: 0px 1px 3px 1px rgba(0, 0, 0, 0.15);\n",
              "      filter: drop-shadow(0px 1px 2px rgba(0, 0, 0, 0.3));\n",
              "      fill: #FFFFFF;\n",
              "    }\n",
              "  </style>\n",
              "\n",
              "      <script>\n",
              "        const buttonEl =\n",
              "          document.querySelector('#df-90c930ad-def0-4d15-bc6c-d193058f6aa7 button.colab-df-convert');\n",
              "        buttonEl.style.display =\n",
              "          google.colab.kernel.accessAllowed ? 'block' : 'none';\n",
              "\n",
              "        async function convertToInteractive(key) {\n",
              "          const element = document.querySelector('#df-90c930ad-def0-4d15-bc6c-d193058f6aa7');\n",
              "          const dataTable =\n",
              "            await google.colab.kernel.invokeFunction('convertToInteractive',\n",
              "                                                     [key], {});\n",
              "          if (!dataTable) return;\n",
              "\n",
              "          const docLinkHtml = 'Like what you see? Visit the ' +\n",
              "            '<a target=\"_blank\" href=https://colab.research.google.com/notebooks/data_table.ipynb>data table notebook</a>'\n",
              "            + ' to learn more about interactive tables.';\n",
              "          element.innerHTML = '';\n",
              "          dataTable['output_type'] = 'display_data';\n",
              "          await google.colab.output.renderOutput(dataTable, element);\n",
              "          const docLink = document.createElement('div');\n",
              "          docLink.innerHTML = docLinkHtml;\n",
              "          element.appendChild(docLink);\n",
              "        }\n",
              "      </script>\n",
              "    </div>\n",
              "  </div>\n",
              "  "
            ]
          },
          "metadata": {},
          "execution_count": 114
        }
      ]
    },
    {
      "cell_type": "code",
      "source": [
        "#verificando se tem algum valor nan ou null\n",
        "print(df_bitcoin.isna().any())\n",
        "print(df_bitcoin.info())"
      ],
      "metadata": {
        "colab": {
          "base_uri": "https://localhost:8080/"
        },
        "id": "JrotK_csFAcQ",
        "outputId": "73e97fdc-25f8-4777-b902-3ee6d44bce14"
      },
      "execution_count": 65,
      "outputs": [
        {
          "output_type": "stream",
          "name": "stdout",
          "text": [
            "Open         False\n",
            "High         False\n",
            "Low          False\n",
            "Close        False\n",
            "Adj Close    False\n",
            "Volume       False\n",
            "dtype: bool\n",
            "<class 'pandas.core.frame.DataFrame'>\n",
            "DatetimeIndex: 1095 entries, 2020-01-01 to 2022-12-30\n",
            "Data columns (total 6 columns):\n",
            " #   Column     Non-Null Count  Dtype  \n",
            "---  ------     --------------  -----  \n",
            " 0   Open       1095 non-null   float64\n",
            " 1   High       1095 non-null   float64\n",
            " 2   Low        1095 non-null   float64\n",
            " 3   Close      1095 non-null   float64\n",
            " 4   Adj Close  1095 non-null   float64\n",
            " 5   Volume     1095 non-null   int64  \n",
            "dtypes: float64(5), int64(1)\n",
            "memory usage: 59.9 KB\n",
            "None\n"
          ]
        }
      ]
    },
    {
      "cell_type": "code",
      "source": [
        "'''\n",
        "  etapa 2\n",
        "  a cotacao do dolar com o valor de abertura e fechamento esta disponivel em csv\n",
        "  no seguinte endereco\n",
        "  https://br.investing.com/currencies/usd-brl-historical-data\n",
        "\n",
        "'''"
      ],
      "metadata": {
        "id": "_-L6wgWv9A_l",
        "colab": {
          "base_uri": "https://localhost:8080/",
          "height": 35
        },
        "outputId": "9eeb07ec-fd78-4ec4-9a2e-f4198941607c"
      },
      "execution_count": 66,
      "outputs": [
        {
          "output_type": "execute_result",
          "data": {
            "text/plain": [
              "' \\n  etapa 2\\n  a cotacao do dolar com o valor de abertura e fechamento esta disponivel em csv\\n  no seguinte endereco\\n  https://br.investing.com/currencies/usd-brl-historical-data\\n\\n'"
            ],
            "application/vnd.google.colaboratory.intrinsic+json": {
              "type": "string"
            }
          },
          "metadata": {},
          "execution_count": 66
        }
      ]
    },
    {
      "cell_type": "code",
      "source": [
        "df_dolar = pd.read_csv('https://raw.githubusercontent.com/Jadeilson08/tcc-data-science/master/USD_BRL_TEST_20200101_20221231.csv')\n",
        "\n",
        "df_dolar.head()"
      ],
      "metadata": {
        "id": "LjSFRdmB_Ub5",
        "outputId": "e8cfd050-fc7f-4bb2-d099-2f947acd4b6f",
        "colab": {
          "base_uri": "https://localhost:8080/",
          "height": 206
        }
      },
      "execution_count": 67,
      "outputs": [
        {
          "output_type": "execute_result",
          "data": {
            "text/plain": [
              "         Data  Último Abertura  Máxima  Mínima     Vol.    Var%\n",
              "0  29.12.2022  5,2860   5,2681  5,3049  5,1895  122,63K   0,35%\n",
              "1  28.12.2022  5,2676   5,2967  5,2967  5,2260  110,39K  -0,48%\n",
              "2  27.12.2022  5,2928   5,2189  5,3028  5,1940  120,92K   1,42%\n",
              "3  26.12.2022  5,2186   5,1669  5,2210  5,1545   69,65K   1,03%\n",
              "4  23.12.2022  5,1652   5,1670  5,1789  5,1160  164,08K  -0,03%"
            ],
            "text/html": [
              "\n",
              "  <div id=\"df-c2411b93-65dc-4b80-9f8c-6fbafb0e2be2\">\n",
              "    <div class=\"colab-df-container\">\n",
              "      <div>\n",
              "<style scoped>\n",
              "    .dataframe tbody tr th:only-of-type {\n",
              "        vertical-align: middle;\n",
              "    }\n",
              "\n",
              "    .dataframe tbody tr th {\n",
              "        vertical-align: top;\n",
              "    }\n",
              "\n",
              "    .dataframe thead th {\n",
              "        text-align: right;\n",
              "    }\n",
              "</style>\n",
              "<table border=\"1\" class=\"dataframe\">\n",
              "  <thead>\n",
              "    <tr style=\"text-align: right;\">\n",
              "      <th></th>\n",
              "      <th>Data</th>\n",
              "      <th>Último</th>\n",
              "      <th>Abertura</th>\n",
              "      <th>Máxima</th>\n",
              "      <th>Mínima</th>\n",
              "      <th>Vol.</th>\n",
              "      <th>Var%</th>\n",
              "    </tr>\n",
              "  </thead>\n",
              "  <tbody>\n",
              "    <tr>\n",
              "      <th>0</th>\n",
              "      <td>29.12.2022</td>\n",
              "      <td>5,2860</td>\n",
              "      <td>5,2681</td>\n",
              "      <td>5,3049</td>\n",
              "      <td>5,1895</td>\n",
              "      <td>122,63K</td>\n",
              "      <td>0,35%</td>\n",
              "    </tr>\n",
              "    <tr>\n",
              "      <th>1</th>\n",
              "      <td>28.12.2022</td>\n",
              "      <td>5,2676</td>\n",
              "      <td>5,2967</td>\n",
              "      <td>5,2967</td>\n",
              "      <td>5,2260</td>\n",
              "      <td>110,39K</td>\n",
              "      <td>-0,48%</td>\n",
              "    </tr>\n",
              "    <tr>\n",
              "      <th>2</th>\n",
              "      <td>27.12.2022</td>\n",
              "      <td>5,2928</td>\n",
              "      <td>5,2189</td>\n",
              "      <td>5,3028</td>\n",
              "      <td>5,1940</td>\n",
              "      <td>120,92K</td>\n",
              "      <td>1,42%</td>\n",
              "    </tr>\n",
              "    <tr>\n",
              "      <th>3</th>\n",
              "      <td>26.12.2022</td>\n",
              "      <td>5,2186</td>\n",
              "      <td>5,1669</td>\n",
              "      <td>5,2210</td>\n",
              "      <td>5,1545</td>\n",
              "      <td>69,65K</td>\n",
              "      <td>1,03%</td>\n",
              "    </tr>\n",
              "    <tr>\n",
              "      <th>4</th>\n",
              "      <td>23.12.2022</td>\n",
              "      <td>5,1652</td>\n",
              "      <td>5,1670</td>\n",
              "      <td>5,1789</td>\n",
              "      <td>5,1160</td>\n",
              "      <td>164,08K</td>\n",
              "      <td>-0,03%</td>\n",
              "    </tr>\n",
              "  </tbody>\n",
              "</table>\n",
              "</div>\n",
              "      <button class=\"colab-df-convert\" onclick=\"convertToInteractive('df-c2411b93-65dc-4b80-9f8c-6fbafb0e2be2')\"\n",
              "              title=\"Convert this dataframe to an interactive table.\"\n",
              "              style=\"display:none;\">\n",
              "        \n",
              "  <svg xmlns=\"http://www.w3.org/2000/svg\" height=\"24px\"viewBox=\"0 0 24 24\"\n",
              "       width=\"24px\">\n",
              "    <path d=\"M0 0h24v24H0V0z\" fill=\"none\"/>\n",
              "    <path d=\"M18.56 5.44l.94 2.06.94-2.06 2.06-.94-2.06-.94-.94-2.06-.94 2.06-2.06.94zm-11 1L8.5 8.5l.94-2.06 2.06-.94-2.06-.94L8.5 2.5l-.94 2.06-2.06.94zm10 10l.94 2.06.94-2.06 2.06-.94-2.06-.94-.94-2.06-.94 2.06-2.06.94z\"/><path d=\"M17.41 7.96l-1.37-1.37c-.4-.4-.92-.59-1.43-.59-.52 0-1.04.2-1.43.59L10.3 9.45l-7.72 7.72c-.78.78-.78 2.05 0 2.83L4 21.41c.39.39.9.59 1.41.59.51 0 1.02-.2 1.41-.59l7.78-7.78 2.81-2.81c.8-.78.8-2.07 0-2.86zM5.41 20L4 18.59l7.72-7.72 1.47 1.35L5.41 20z\"/>\n",
              "  </svg>\n",
              "      </button>\n",
              "      \n",
              "  <style>\n",
              "    .colab-df-container {\n",
              "      display:flex;\n",
              "      flex-wrap:wrap;\n",
              "      gap: 12px;\n",
              "    }\n",
              "\n",
              "    .colab-df-convert {\n",
              "      background-color: #E8F0FE;\n",
              "      border: none;\n",
              "      border-radius: 50%;\n",
              "      cursor: pointer;\n",
              "      display: none;\n",
              "      fill: #1967D2;\n",
              "      height: 32px;\n",
              "      padding: 0 0 0 0;\n",
              "      width: 32px;\n",
              "    }\n",
              "\n",
              "    .colab-df-convert:hover {\n",
              "      background-color: #E2EBFA;\n",
              "      box-shadow: 0px 1px 2px rgba(60, 64, 67, 0.3), 0px 1px 3px 1px rgba(60, 64, 67, 0.15);\n",
              "      fill: #174EA6;\n",
              "    }\n",
              "\n",
              "    [theme=dark] .colab-df-convert {\n",
              "      background-color: #3B4455;\n",
              "      fill: #D2E3FC;\n",
              "    }\n",
              "\n",
              "    [theme=dark] .colab-df-convert:hover {\n",
              "      background-color: #434B5C;\n",
              "      box-shadow: 0px 1px 3px 1px rgba(0, 0, 0, 0.15);\n",
              "      filter: drop-shadow(0px 1px 2px rgba(0, 0, 0, 0.3));\n",
              "      fill: #FFFFFF;\n",
              "    }\n",
              "  </style>\n",
              "\n",
              "      <script>\n",
              "        const buttonEl =\n",
              "          document.querySelector('#df-c2411b93-65dc-4b80-9f8c-6fbafb0e2be2 button.colab-df-convert');\n",
              "        buttonEl.style.display =\n",
              "          google.colab.kernel.accessAllowed ? 'block' : 'none';\n",
              "\n",
              "        async function convertToInteractive(key) {\n",
              "          const element = document.querySelector('#df-c2411b93-65dc-4b80-9f8c-6fbafb0e2be2');\n",
              "          const dataTable =\n",
              "            await google.colab.kernel.invokeFunction('convertToInteractive',\n",
              "                                                     [key], {});\n",
              "          if (!dataTable) return;\n",
              "\n",
              "          const docLinkHtml = 'Like what you see? Visit the ' +\n",
              "            '<a target=\"_blank\" href=https://colab.research.google.com/notebooks/data_table.ipynb>data table notebook</a>'\n",
              "            + ' to learn more about interactive tables.';\n",
              "          element.innerHTML = '';\n",
              "          dataTable['output_type'] = 'display_data';\n",
              "          await google.colab.output.renderOutput(dataTable, element);\n",
              "          const docLink = document.createElement('div');\n",
              "          docLink.innerHTML = docLinkHtml;\n",
              "          element.appendChild(docLink);\n",
              "        }\n",
              "      </script>\n",
              "    </div>\n",
              "  </div>\n",
              "  "
            ]
          },
          "metadata": {},
          "execution_count": 67
        }
      ]
    },
    {
      "cell_type": "code",
      "source": [
        "def rename_and_sort_columns(df):\n",
        "  df = df.rename(columns={'Data': 'Date',\n",
        "                          'Último': 'dolar_close',\n",
        "                          'Abertura': 'dolar_open',\n",
        "                          'Máxima': 'dolar_high',\n",
        "                          'Mínima': 'dolar_low',\n",
        "                          'Vol.' : 'dolar_volume',\n",
        "                          'Var%': 'dolar_variation'})\n",
        "\n",
        "  #convertando BR para US\n",
        "  columns = ['dolar_close', 'dolar_open',\n",
        "             'dolar_high', 'dolar_low']\n",
        "\n",
        "  for column in columns:\n",
        "    df[column] = df[column].apply(lambda x: x.replace(',', '.')).astype(np.float64)\n",
        "\n",
        "  df['Date'] = pd.to_datetime(df['Date'], format='%d.%m.%Y')\n",
        "\n",
        "  #alterando o index para Data\n",
        "  df = df.set_index('Date')\n",
        "\n",
        "  return df.sort_values('Date')"
      ],
      "metadata": {
        "id": "ufIW9KLWA9qC"
      },
      "execution_count": 68,
      "outputs": []
    },
    {
      "cell_type": "code",
      "source": [
        "df_dolar = rename_and_sort_columns(df_dolar)\n",
        "df_dolar.head()"
      ],
      "metadata": {
        "colab": {
          "base_uri": "https://localhost:8080/",
          "height": 238
        },
        "id": "S4kdxLo1rT-Z",
        "outputId": "782a004c-8fa3-487d-a680-1dd5b9b863c9"
      },
      "execution_count": 69,
      "outputs": [
        {
          "output_type": "execute_result",
          "data": {
            "text/plain": [
              "            dolar_close  dolar_open  dolar_high  dolar_low dolar_volume  \\\n",
              "Date                                                                      \n",
              "2020-01-01       4.0195      4.0195      4.0195     4.0195          NaN   \n",
              "2020-01-02       4.0263      4.0198      4.0412     4.0032       31,67K   \n",
              "2020-01-03       4.0672      4.0253      4.0718     4.0253       43,89K   \n",
              "2020-01-06       4.0618      4.0565      4.0743     4.0458       31,86K   \n",
              "2020-01-07       4.0679      4.0622      4.0924     4.0543       36,55K   \n",
              "\n",
              "           dolar_variation  \n",
              "Date                        \n",
              "2020-01-01           0,00%  \n",
              "2020-01-02           0,17%  \n",
              "2020-01-03           1,02%  \n",
              "2020-01-06          -0,13%  \n",
              "2020-01-07           0,15%  "
            ],
            "text/html": [
              "\n",
              "  <div id=\"df-063c62b8-309f-4c65-a7bd-5339e777e541\">\n",
              "    <div class=\"colab-df-container\">\n",
              "      <div>\n",
              "<style scoped>\n",
              "    .dataframe tbody tr th:only-of-type {\n",
              "        vertical-align: middle;\n",
              "    }\n",
              "\n",
              "    .dataframe tbody tr th {\n",
              "        vertical-align: top;\n",
              "    }\n",
              "\n",
              "    .dataframe thead th {\n",
              "        text-align: right;\n",
              "    }\n",
              "</style>\n",
              "<table border=\"1\" class=\"dataframe\">\n",
              "  <thead>\n",
              "    <tr style=\"text-align: right;\">\n",
              "      <th></th>\n",
              "      <th>dolar_close</th>\n",
              "      <th>dolar_open</th>\n",
              "      <th>dolar_high</th>\n",
              "      <th>dolar_low</th>\n",
              "      <th>dolar_volume</th>\n",
              "      <th>dolar_variation</th>\n",
              "    </tr>\n",
              "    <tr>\n",
              "      <th>Date</th>\n",
              "      <th></th>\n",
              "      <th></th>\n",
              "      <th></th>\n",
              "      <th></th>\n",
              "      <th></th>\n",
              "      <th></th>\n",
              "    </tr>\n",
              "  </thead>\n",
              "  <tbody>\n",
              "    <tr>\n",
              "      <th>2020-01-01</th>\n",
              "      <td>4.0195</td>\n",
              "      <td>4.0195</td>\n",
              "      <td>4.0195</td>\n",
              "      <td>4.0195</td>\n",
              "      <td>NaN</td>\n",
              "      <td>0,00%</td>\n",
              "    </tr>\n",
              "    <tr>\n",
              "      <th>2020-01-02</th>\n",
              "      <td>4.0263</td>\n",
              "      <td>4.0198</td>\n",
              "      <td>4.0412</td>\n",
              "      <td>4.0032</td>\n",
              "      <td>31,67K</td>\n",
              "      <td>0,17%</td>\n",
              "    </tr>\n",
              "    <tr>\n",
              "      <th>2020-01-03</th>\n",
              "      <td>4.0672</td>\n",
              "      <td>4.0253</td>\n",
              "      <td>4.0718</td>\n",
              "      <td>4.0253</td>\n",
              "      <td>43,89K</td>\n",
              "      <td>1,02%</td>\n",
              "    </tr>\n",
              "    <tr>\n",
              "      <th>2020-01-06</th>\n",
              "      <td>4.0618</td>\n",
              "      <td>4.0565</td>\n",
              "      <td>4.0743</td>\n",
              "      <td>4.0458</td>\n",
              "      <td>31,86K</td>\n",
              "      <td>-0,13%</td>\n",
              "    </tr>\n",
              "    <tr>\n",
              "      <th>2020-01-07</th>\n",
              "      <td>4.0679</td>\n",
              "      <td>4.0622</td>\n",
              "      <td>4.0924</td>\n",
              "      <td>4.0543</td>\n",
              "      <td>36,55K</td>\n",
              "      <td>0,15%</td>\n",
              "    </tr>\n",
              "  </tbody>\n",
              "</table>\n",
              "</div>\n",
              "      <button class=\"colab-df-convert\" onclick=\"convertToInteractive('df-063c62b8-309f-4c65-a7bd-5339e777e541')\"\n",
              "              title=\"Convert this dataframe to an interactive table.\"\n",
              "              style=\"display:none;\">\n",
              "        \n",
              "  <svg xmlns=\"http://www.w3.org/2000/svg\" height=\"24px\"viewBox=\"0 0 24 24\"\n",
              "       width=\"24px\">\n",
              "    <path d=\"M0 0h24v24H0V0z\" fill=\"none\"/>\n",
              "    <path d=\"M18.56 5.44l.94 2.06.94-2.06 2.06-.94-2.06-.94-.94-2.06-.94 2.06-2.06.94zm-11 1L8.5 8.5l.94-2.06 2.06-.94-2.06-.94L8.5 2.5l-.94 2.06-2.06.94zm10 10l.94 2.06.94-2.06 2.06-.94-2.06-.94-.94-2.06-.94 2.06-2.06.94z\"/><path d=\"M17.41 7.96l-1.37-1.37c-.4-.4-.92-.59-1.43-.59-.52 0-1.04.2-1.43.59L10.3 9.45l-7.72 7.72c-.78.78-.78 2.05 0 2.83L4 21.41c.39.39.9.59 1.41.59.51 0 1.02-.2 1.41-.59l7.78-7.78 2.81-2.81c.8-.78.8-2.07 0-2.86zM5.41 20L4 18.59l7.72-7.72 1.47 1.35L5.41 20z\"/>\n",
              "  </svg>\n",
              "      </button>\n",
              "      \n",
              "  <style>\n",
              "    .colab-df-container {\n",
              "      display:flex;\n",
              "      flex-wrap:wrap;\n",
              "      gap: 12px;\n",
              "    }\n",
              "\n",
              "    .colab-df-convert {\n",
              "      background-color: #E8F0FE;\n",
              "      border: none;\n",
              "      border-radius: 50%;\n",
              "      cursor: pointer;\n",
              "      display: none;\n",
              "      fill: #1967D2;\n",
              "      height: 32px;\n",
              "      padding: 0 0 0 0;\n",
              "      width: 32px;\n",
              "    }\n",
              "\n",
              "    .colab-df-convert:hover {\n",
              "      background-color: #E2EBFA;\n",
              "      box-shadow: 0px 1px 2px rgba(60, 64, 67, 0.3), 0px 1px 3px 1px rgba(60, 64, 67, 0.15);\n",
              "      fill: #174EA6;\n",
              "    }\n",
              "\n",
              "    [theme=dark] .colab-df-convert {\n",
              "      background-color: #3B4455;\n",
              "      fill: #D2E3FC;\n",
              "    }\n",
              "\n",
              "    [theme=dark] .colab-df-convert:hover {\n",
              "      background-color: #434B5C;\n",
              "      box-shadow: 0px 1px 3px 1px rgba(0, 0, 0, 0.15);\n",
              "      filter: drop-shadow(0px 1px 2px rgba(0, 0, 0, 0.3));\n",
              "      fill: #FFFFFF;\n",
              "    }\n",
              "  </style>\n",
              "\n",
              "      <script>\n",
              "        const buttonEl =\n",
              "          document.querySelector('#df-063c62b8-309f-4c65-a7bd-5339e777e541 button.colab-df-convert');\n",
              "        buttonEl.style.display =\n",
              "          google.colab.kernel.accessAllowed ? 'block' : 'none';\n",
              "\n",
              "        async function convertToInteractive(key) {\n",
              "          const element = document.querySelector('#df-063c62b8-309f-4c65-a7bd-5339e777e541');\n",
              "          const dataTable =\n",
              "            await google.colab.kernel.invokeFunction('convertToInteractive',\n",
              "                                                     [key], {});\n",
              "          if (!dataTable) return;\n",
              "\n",
              "          const docLinkHtml = 'Like what you see? Visit the ' +\n",
              "            '<a target=\"_blank\" href=https://colab.research.google.com/notebooks/data_table.ipynb>data table notebook</a>'\n",
              "            + ' to learn more about interactive tables.';\n",
              "          element.innerHTML = '';\n",
              "          dataTable['output_type'] = 'display_data';\n",
              "          await google.colab.output.renderOutput(dataTable, element);\n",
              "          const docLink = document.createElement('div');\n",
              "          docLink.innerHTML = docLinkHtml;\n",
              "          element.appendChild(docLink);\n",
              "        }\n",
              "      </script>\n",
              "    </div>\n",
              "  </div>\n",
              "  "
            ]
          },
          "metadata": {},
          "execution_count": 69
        }
      ]
    },
    {
      "cell_type": "code",
      "source": [
        "# visualizando dados vazios\n",
        "df_dolar.isna().sum()"
      ],
      "metadata": {
        "colab": {
          "base_uri": "https://localhost:8080/"
        },
        "id": "EKM7wuqAPZDG",
        "outputId": "53d1cdfc-0f93-42f5-d7d3-fce36e3e9433"
      },
      "execution_count": 70,
      "outputs": [
        {
          "output_type": "execute_result",
          "data": {
            "text/plain": [
              "dolar_close         0\n",
              "dolar_open          0\n",
              "dolar_high          0\n",
              "dolar_low           0\n",
              "dolar_volume       21\n",
              "dolar_variation     0\n",
              "dtype: int64"
            ]
          },
          "metadata": {},
          "execution_count": 70
        }
      ]
    },
    {
      "cell_type": "code",
      "source": [
        "#funcao para remover k\n",
        "def remove_k(numero_k):\n",
        "  return float(numero_k.replace(',', '.').replace('K', '').replace('k',''))"
      ],
      "metadata": {
        "id": "LNTIBKLRRHZk"
      },
      "execution_count": 71,
      "outputs": []
    },
    {
      "cell_type": "code",
      "source": [
        "#funcao para add k\n",
        "def add_k(numero):\n",
        "  return f\"{str(numero).replace('.', ',')}K\""
      ],
      "metadata": {
        "id": "g9srTeflC0R-"
      },
      "execution_count": 72,
      "outputs": []
    },
    {
      "cell_type": "code",
      "source": [
        "#plotando hist para analise de dados\n",
        "dolar_volume = df_dolar['dolar_volume'].dropna().apply(remove_k)\n",
        "plt.hist(dolar_volume, bins=50)\n",
        "plt.title('Histograma da coluna de volume antes do tratamento')\n",
        "plt.xlabel('Volume')\n",
        "plt.ylabel('Frequência')\n",
        "plt.show()"
      ],
      "metadata": {
        "colab": {
          "base_uri": "https://localhost:8080/",
          "height": 472
        },
        "id": "Yeh6HnryW2h6",
        "outputId": "a787c107-5f46-4bc8-f03c-58441d6c91b7"
      },
      "execution_count": 73,
      "outputs": [
        {
          "output_type": "display_data",
          "data": {
            "text/plain": [
              "<Figure size 640x480 with 1 Axes>"
            ],
            "image/png": "[encoded data removed]"
          },
          "metadata": {}
        }
      ]
    },
    {
      "cell_type": "code",
      "source": [
        "dolar_volume_sort = dolar_volume.sort_values()\n",
        "\n",
        "# Imprimindo as medidas estatísticas\n",
        "print(dolar_volume_sort.describe())"
      ],
      "metadata": {
        "colab": {
          "base_uri": "https://localhost:8080/"
        },
        "id": "Dazq3Bb7Z-Ub",
        "outputId": "1fd7b24a-c0a4-47de-cded-f4718d92dc62"
      },
      "execution_count": 74,
      "outputs": [
        {
          "output_type": "stream",
          "name": "stdout",
          "text": [
            "count    761.000000\n",
            "mean     112.980894\n",
            "std       42.053591\n",
            "min        0.000000\n",
            "25%       84.540000\n",
            "50%      110.070000\n",
            "75%      139.030000\n",
            "max      244.220000\n",
            "Name: dolar_volume, dtype: float64\n"
          ]
        }
      ]
    },
    {
      "cell_type": "code",
      "source": [
        "median_k = add_k(dolar_volume.median())\n",
        "\n",
        "df_dolar['dolar_volume'].fillna(median_k, inplace=True)"
      ],
      "metadata": {
        "id": "mbd3ogBWgwbp"
      },
      "execution_count": 75,
      "outputs": []
    },
    {
      "cell_type": "code",
      "source": [
        "print(df_dolar.isna().any())"
      ],
      "metadata": {
        "colab": {
          "base_uri": "https://localhost:8080/"
        },
        "id": "Nqzwbn0rghjP",
        "outputId": "69fc0186-8cd2-4535-b7a2-f5a69df588dd"
      },
      "execution_count": 76,
      "outputs": [
        {
          "output_type": "stream",
          "name": "stdout",
          "text": [
            "dolar_close        False\n",
            "dolar_open         False\n",
            "dolar_high         False\n",
            "dolar_low          False\n",
            "dolar_volume       False\n",
            "dolar_variation    False\n",
            "dtype: bool\n"
          ]
        }
      ]
    },
    {
      "cell_type": "code",
      "source": [
        "print(df_bitcoin.isna().any())"
      ],
      "metadata": {
        "colab": {
          "base_uri": "https://localhost:8080/"
        },
        "id": "QOh31zVTnaBb",
        "outputId": "9e865fcb-3684-4664-8ebd-bca78ab67379"
      },
      "execution_count": 116,
      "outputs": [
        {
          "output_type": "stream",
          "name": "stdout",
          "text": [
            "Open         False\n",
            "High         False\n",
            "Low          False\n",
            "Close        False\n",
            "Adj Close    False\n",
            "Volume       False\n",
            "dtype: bool\n"
          ]
        }
      ]
    },
    {
      "cell_type": "code",
      "source": [
        "'''fim etapa 2 '''"
      ],
      "metadata": {
        "id": "0uareKjJCWob",
        "outputId": "6a194b63-186d-4c87-de38-6f940a9d016a",
        "colab": {
          "base_uri": "https://localhost:8080/",
          "height": 35
        }
      },
      "execution_count": 78,
      "outputs": [
        {
          "output_type": "execute_result",
          "data": {
            "text/plain": [
              "'fim etapa 2 '"
            ],
            "application/vnd.google.colaboratory.intrinsic+json": {
              "type": "string"
            }
          },
          "metadata": {},
          "execution_count": 78
        }
      ]
    },
    {
      "cell_type": "code",
      "source": [
        "'''\n",
        "  etapa 4:\n",
        "\n",
        "  Utilizar a biblioteca Matplotlib para plotar os dados e visualizar as tendências.\n",
        "'''"
      ],
      "metadata": {
        "colab": {
          "base_uri": "https://localhost:8080/",
          "height": 35
        },
        "id": "7W8rhpWa_YRZ",
        "outputId": "0a1f1295-89fe-4653-e380-dc3d0be7b079"
      },
      "execution_count": 79,
      "outputs": [
        {
          "output_type": "execute_result",
          "data": {
            "text/plain": [
              "'\\n  etapa 4:\\n\\n  Utilizar a biblioteca Matplotlib para plotar os dados e visualizar as tendências.\\n'"
            ],
            "application/vnd.google.colaboratory.intrinsic+json": {
              "type": "string"
            }
          },
          "metadata": {},
          "execution_count": 79
        }
      ]
    },
    {
      "cell_type": "code",
      "source": [
        "#plotando cnadlestick bitcoin\n",
        "fig_bitcoin = go.Figure(data=[go.Candlestick(x=df_bitcoin.index.values,\n",
        "                                             open=df_bitcoin['Open'],\n",
        "                                             close=df_bitcoin['Close'],\n",
        "                                             high=df_bitcoin['High'],\n",
        "                                             low=df_bitcoin['Low'])])\n",
        "\n",
        "fig_bitcoin.update_layout(\n",
        "    title='Histórico de preços do Bitcoin',\n",
        "    yaxis_title='Preço (USD)',\n",
        "    xaxis_title='Data')\n",
        "\n",
        "fig_bitcoin.show()"
      ],
      "metadata": {
        "colab": {
          "base_uri": "https://localhost:8080/",
          "height": 542
        },
        "id": "ByImyJCf_bXj",
        "outputId": "7b78c0e7-a958-4e7d-b5a2-fd255a64b52f"
      },
      "execution_count": 80,
      "outputs": [
        {
          "output_type": "display_data",
          "data": {
            "text/html": [
              "<html>\n",
              "<head><meta charset=\"utf-8\" /></head>\n",
              "<body>\n",
              "    <div>            <script src=\"https://cdnjs.cloudflare.com/ajax/libs/mathjax/2.7.5/MathJax.js?config=TeX-AMS-MML_SVG\"></script><script type=\"text/javascript\">if (window.MathJax && window.MathJax.Hub && window.MathJax.Hub.Config) {window.MathJax.Hub.Config({SVG: {font: \"STIX-Web\"}});}</script>                <script type=\"text/javascript\">window.PlotlyConfig = {MathJaxConfig: 'local'};</script>\n",
              "        <script src=\"https://cdn.plot.ly/plotly-2.18.2.min.js\"></script>                <div id=\"dcd2a496-8b51-42f7-96d1-47859a8948fe\" class=\"plotly-graph-div\" style=\"height:525px; width:100%;\"></div>            <script type=\"text/javascript\">                                    window.PLOTLYENV=window.PLOTLYENV || {};                                    if (document.getElementById(\"dcd2a496-8b51-42f7-96d1-47859a8948fe\")) {                    Plotly.newPlot(                        \"dcd2a496-8b51-42f7-96d1-47859a8948fe\",                        [{\"close\":[7200.17431640625,6985.47021484375,7344.88427734375,7410.65673828125,7411.3173828125,7769.21923828125,8163.6923828125,8079.86279296875,7879.0712890625,8166.55419921875,8037.53759765625,8192.494140625,8144.1943359375,8827.7646484375,8807.0107421875,8723.7861328125,8929.0380859375,8942.80859375,8706.2451171875,8657.642578125,8745.89453125,8680.8759765625,8406.515625,8445.4345703125,8367.84765625,8596.830078125,8909.8193359375,9358.58984375,9316.6298828125,9508.9931640625,9350.529296875,9392.875,9344.365234375,9293.521484375,9180.962890625,9613.423828125,9729.8017578125,9795.943359375,9865.119140625,10116.673828125,9856.611328125,10208.236328125,10326.0546875,10214.3798828125,10312.1162109375,9889.4248046875,9934.43359375,9690.142578125,10141.99609375,9633.38671875,9608.4755859375,9686.44140625,9663.181640625,9924.515625,9650.1748046875,9341.705078125,8820.5224609375,8784.494140625,8672.455078125,8599.5087890625,8562.4541015625,8869.669921875,8787.7861328125,8755.24609375,9078.7626953125,9122.5458984375,8909.9541015625,8108.1162109375,7923.64453125,7909.7294921875,7911.43017578125,4970.7880859375,5563.70703125,5200.3662109375,5392.31494140625,5014.47998046875,5225.62939453125,5238.4384765625,6191.19287109375,6198.7783203125,6185.06640625,5830.2548828125,6416.31494140625,6734.8037109375,6681.06298828125,6716.4404296875,6469.79833984375,6242.19384765625,5922.04296875,6429.841796875,6438.64453125,6606.7763671875,6793.62451171875,6733.38720703125,6867.52734375,6791.12939453125,7271.78125,7176.41455078125,7334.0986328125,7302.08935546875,6865.4931640625,6859.0830078125,6971.091796875,6845.03759765625,6842.427734375,6642.10986328125,7116.80419921875,7096.1845703125,7257.6650390625,7189.4248046875,6881.95849609375,6880.3232421875,7117.20751953125,7429.724609375,7550.90087890625,7569.93603515625,7679.8671875,7795.60107421875,7807.05859375,8801.0380859375,8658.5537109375,8864.7666015625,8988.5966796875,8897.46875,8912.654296875,9003.0703125,9268.76171875,9951.5185546875,9842.666015625,9593.896484375,8756.4306640625,8601.7958984375,8804.4775390625,9269.9873046875,9733.7216796875,9328.197265625,9377.013671875,9670.7392578125,9726.5751953125,9729.0380859375,9522.9814453125,9081.76171875,9182.5771484375,9209.287109375,8790.3681640625,8906.9345703125,8835.052734375,9181.017578125,9525.7509765625,9439.1240234375,9700.4140625,9461.05859375,10167.2685546875,9529.8037109375,9656.7177734375,9800.63671875,9665.533203125,9653.6796875,9758.8525390625,9771.4892578125,9795.7001953125,9870.0947265625,9321.78125,9480.84375,9475.27734375,9386.7880859375,9450.7021484375,9538.0244140625,9480.2548828125,9411.8408203125,9288.0185546875,9332.3408203125,9303.6298828125,9648.7177734375,9629.658203125,9313.6103515625,9264.8134765625,9162.91796875,9045.390625,9143.58203125,9190.8544921875,9137.9931640625,9228.3251953125,9123.41015625,9087.3037109375,9132.48828125,9073.9423828125,9375.474609375,9252.27734375,9428.3330078125,9277.9677734375,9278.8076171875,9240.3466796875,9276.5,9243.6142578125,9243.2138671875,9192.8369140625,9132.2275390625,9151.392578125,9159.0400390625,9185.8173828125,9164.2314453125,9374.8876953125,9525.36328125,9581.072265625,9536.892578125,9677.11328125,9905.1669921875,10990.873046875,10912.8232421875,11100.4677734375,11111.2138671875,11323.466796875,11759.5927734375,11053.6142578125,11246.3486328125,11205.892578125,11747.0224609375,11779.7734375,11601.47265625,11754.0458984375,11675.7392578125,11878.111328125,11410.525390625,11584.9345703125,11784.1376953125,11768.87109375,11865.6982421875,11892.8037109375,12254.40234375,11991.2333984375,11758.283203125,11878.3720703125,11592.4892578125,11681.8251953125,11664.84765625,11774.595703125,11366.134765625,11488.36328125,11323.3974609375,11542.5,11506.865234375,11711.505859375,11680.8203125,11970.478515625,11414.0341796875,10245.296875,10511.8134765625,10169.5673828125,10280.3515625,10369.5634765625,10131.5166015625,10242.34765625,10363.138671875,10400.9150390625,10442.1708984375,10323.755859375,10680.837890625,10796.951171875,10974.9052734375,10948.990234375,10944.5859375,11094.3466796875,10938.271484375,10462.259765625,10538.4599609375,10246.1865234375,10760.06640625,10692.716796875,10750.7236328125,10775.26953125,10709.65234375,10844.640625,10784.4912109375,10619.4521484375,10575.974609375,10549.3291015625,10669.5830078125,10793.33984375,10604.40625,10668.96875,10915.685546875,11064.4580078125,11296.361328125,11384.181640625,11555.36328125,11425.8994140625,11429.5068359375,11495.349609375,11322.123046875,11358.1015625,11483.359375,11742.037109375,11916.3349609375,12823.689453125,12965.8916015625,12931.5390625,13108.0625,13031.173828125,13075.248046875,13654.21875,13271.28515625,13437.8828125,13546.5224609375,13780.9951171875,13737.109375,13550.4892578125,13950.30078125,14133.70703125,15579.8486328125,15565.880859375,14833.75390625,15479.5673828125,15332.3154296875,15290.90234375,15701.33984375,16276.34375,16317.80859375,16068.138671875,15955.587890625,16716.111328125,17645.40625,17804.005859375,17817.08984375,18621.314453125,18642.232421875,18370.001953125,18364.12109375,19107.46484375,18732.12109375,17150.623046875,17108.40234375,17717.4140625,18177.484375,19625.8359375,18802.998046875,19201.091796875,19445.3984375,18699.765625,19154.23046875,19345.12109375,19191.630859375,18321.14453125,18553.916015625,18264.9921875,18058.904296875,18803.65625,19142.3828125,19246.64453125,19417.076171875,21310.59765625,22805.162109375,23137.9609375,23869.83203125,23477.294921875,22803.08203125,23783.029296875,23241.345703125,23735.94921875,24664.791015625,26437.037109375,26272.294921875,27084.80859375,27362.4375,28840.953125,29001.720703125,29374.15234375,32127.267578125,32782.0234375,31971.9140625,33992.4296875,36824.36328125,39371.04296875,40797.609375,40254.546875,38356.44140625,35566.65625,33922.9609375,37316.359375,39187.328125,36825.3671875,36178.140625,35791.27734375,36630.07421875,36069.8046875,35547.75,30825.69921875,33005.76171875,32067.642578125,32289.37890625,32366.392578125,32569.849609375,30432.546875,33466.09765625,34316.38671875,34269.5234375,33114.359375,33537.17578125,35510.2890625,37472.08984375,36926.06640625,38144.30859375,39266.01171875,38903.44140625,46196.46484375,46481.10546875,44918.18359375,47909.33203125,47504.8515625,47105.515625,48717.2890625,47945.05859375,49199.87109375,52149.0078125,51679.796875,55888.1328125,56099.51953125,57539.9453125,54207.3203125,48824.42578125,49705.33203125,47093.8515625,46339.76171875,46188.453125,45137.76953125,49631.2421875,48378.98828125,50538.2421875,48561.16796875,48927.3046875,48912.3828125,51206.69140625,52246.5234375,54824.1171875,56008.55078125,57805.12109375,57332.08984375,61243.0859375,59302.31640625,55907.19921875,56804.90234375,58870.89453125,57858.921875,58346.65234375,58313.64453125,57523.421875,54529.14453125,54738.9453125,52774.265625,51704.16015625,55137.3125,55973.51171875,55950.74609375,57750.19921875,58917.69140625,58918.83203125,59095.80859375,59384.3125,57603.890625,58758.5546875,59057.87890625,58192.359375,56048.9375,58323.953125,58245.00390625,59793.234375,60204.96484375,59893.453125,63503.45703125,63109.6953125,63314.01171875,61572.7890625,60683.8203125,56216.18359375,55724.265625,56473.03125,53906.08984375,51762.2734375,51093.65234375,50050.8671875,49004.25390625,54021.75390625,55033.1171875,54824.703125,53555.109375,57750.17578125,57828.05078125,56631.078125,57200.29296875,53333.5390625,57424.0078125,56396.515625,57356.40234375,58803.77734375,58232.31640625,55859.796875,56704.57421875,49150.53515625,49716.19140625,49880.53515625,46760.1875,46456.05859375,43537.51171875,42909.40234375,37002.44140625,40782.73828125,37304.69140625,37536.6328125,34770.58203125,38705.98046875,38402.22265625,39294.19921875,38436.96875,35697.60546875,34616.06640625,35678.12890625,37332.85546875,36684.92578125,37575.1796875,39208.765625,36894.40625,35551.95703125,35862.37890625,33560.70703125,33472.6328125,37345.12109375,36702.59765625,37334.3984375,35552.515625,39097.859375,40218.4765625,40406.26953125,38347.0625,38053.50390625,35787.24609375,35615.87109375,35698.296875,31676.693359375,32505.66015625,33723.02734375,34662.4375,31637.779296875,32186.27734375,34649.64453125,34434.3359375,35867.77734375,35040.8359375,33572.1171875,33897.046875,34668.546875,35287.78125,33746.00390625,34235.1953125,33855.328125,32877.37109375,33798.01171875,33520.51953125,34240.1875,33155.84765625,32702.025390625,32822.34765625,31780.73046875,31421.5390625,31533.068359375,31796.810546875,30817.83203125,29807.34765625,32110.693359375,32313.10546875,33581.55078125,34292.4453125,35350.1875,37337.53515625,39406.94140625,39995.90625,40008.421875,42235.546875,41626.1953125,39974.89453125,39201.9453125,38152.98046875,39747.50390625,40869.5546875,42816.5,44555.80078125,43798.1171875,46365.40234375,45585.03125,45593.63671875,44428.2890625,47793.3203125,47096.9453125,47047.00390625,46004.484375,44695.359375,44801.1875,46717.578125,49339.17578125,48905.4921875,49321.65234375,49546.1484375,47706.1171875,48960.7890625,46942.21875,49058.66796875,48902.40234375,48829.83203125,47054.984375,47166.6875,48847.02734375,49327.72265625,50025.375,49944.625,51753.41015625,52633.53515625,46811.12890625,46091.390625,46391.421875,44883.91015625,45201.45703125,46063.26953125,44963.07421875,47092.4921875,48176.34765625,47783.359375,47267.51953125,48278.36328125,47260.21875,42843.80078125,40693.67578125,43574.5078125,44895.09765625,42839.75,42716.59375,43208.5390625,42235.73046875,41034.54296875,41564.36328125,43790.89453125,48116.94140625,47711.48828125,48199.953125,49112.90234375,51514.8125,55361.44921875,53805.984375,53967.84765625,54968.22265625,54771.578125,57484.7890625,56041.05859375,57401.09765625,57321.5234375,61593.94921875,60892.1796875,61553.6171875,62026.078125,64261.9921875,65992.8359375,62210.171875,60692.265625,61393.6171875,60930.8359375,63039.82421875,60363.79296875,58482.38671875,60622.13671875,62227.96484375,61888.83203125,61318.95703125,61004.40625,63226.40234375,62970.046875,61452.23046875,61125.67578125,61527.48046875,63326.98828125,67566.828125,66971.828125,64995.23046875,64949.9609375,64155.94140625,64469.52734375,65466.83984375,63557.87109375,60161.24609375,60368.01171875,56942.13671875,58119.578125,59697.1953125,58730.4765625,56289.2890625,57569.07421875,56280.42578125,57274.6796875,53569.765625,54815.078125,57248.45703125,57806.56640625,57005.42578125,57229.828125,56477.81640625,53598.24609375,49200.703125,49368.84765625,50582.625,50700.0859375,50504.796875,47672.12109375,47243.3046875,49362.5078125,50098.3359375,46737.48046875,46612.6328125,48896.72265625,47665.42578125,46202.14453125,46848.77734375,46707.015625,46880.27734375,48936.61328125,48628.51171875,50784.5390625,50822.1953125,50429.859375,50809.515625,50640.41796875,47588.85546875,46444.7109375,47178.125,46306.4453125,47686.8125,47345.21875,46458.1171875,45897.57421875,43569.00390625,43160.9296875,41557.90234375,41733.94140625,41911.6015625,41821.26171875,42735.85546875,43949.1015625,42591.5703125,43099.69921875,43177.3984375,43113.87890625,42250.55078125,42375.6328125,41744.328125,40680.41796875,36457.31640625,35030.25,36276.8046875,36654.328125,36954.00390625,36852.12109375,37138.234375,37784.33203125,38138.1796875,37917.6015625,38483.125,38743.2734375,36952.984375,37154.6015625,41500.875,41441.1640625,42412.43359375,43840.28515625,44118.4453125,44338.796875,43565.11328125,42407.9375,42244.46875,42197.515625,42586.91796875,44575.203125,43961.859375,40538.01171875,40030.9765625,40122.15625,38431.37890625,37075.28125,38286.02734375,37296.5703125,38332.609375,39214.21875,39105.1484375,37709.78515625,43193.234375,44354.63671875,43924.1171875,42451.7890625,39137.60546875,39400.5859375,38419.984375,38062.0390625,38737.26953125,41982.92578125,39437.4609375,38794.97265625,38904.01171875,37849.6640625,39666.75390625,39338.78515625,41143.9296875,40951.37890625,41801.15625,42190.65234375,41247.82421875,41077.99609375,42358.80859375,42892.95703125,43960.93359375,44348.73046875,44500.828125,46820.4921875,47128.00390625,47465.73046875,47062.6640625,45538.67578125,46281.64453125,45868.94921875,46453.56640625,46622.67578125,45555.9921875,43206.73828125,43503.84765625,42287.6640625,42782.13671875,42207.671875,39521.90234375,40127.18359375,41166.73046875,39935.515625,40553.46484375,40424.484375,39716.953125,40826.21484375,41502.75,41374.37890625,40527.36328125,39740.3203125,39486.73046875,39469.29296875,40458.30859375,38117.4609375,39241.12109375,39773.828125,38609.82421875,37714.875,38469.09375,38529.328125,37750.453125,39698.37109375,36575.140625,36040.921875,35501.953125,34059.265625,30296.953125,31022.90625,28936.35546875,29047.751953125,29283.103515625,30101.265625,31305.11328125,29862.91796875,30425.857421875,28720.271484375,30314.333984375,29200.740234375,29432.2265625,30323.72265625,29098.91015625,29655.5859375,29562.361328125,29267.224609375,28627.57421875,28814.900390625,29445.95703125,31726.390625,31792.310546875,29799.080078125,30467.48828125,29704.390625,29832.9140625,29906.662109375,31370.671875,31155.478515625,30214.35546875,30111.998046875,29083.8046875,28360.810546875,26762.6484375,22487.388671875,22206.79296875,22572.83984375,20381.650390625,20471.482421875,19017.642578125,20553.271484375,20599.537109375,20710.59765625,19987.029296875,21085.876953125,21231.65625,21502.337890625,21027.294921875,20735.478515625,20280.634765625,20104.0234375,19784.7265625,19269.3671875,19242.255859375,19297.076171875,20231.26171875,20190.115234375,20548.24609375,21637.587890625,21731.1171875,21592.20703125,20860.44921875,19970.556640625,19323.9140625,20212.07421875,20569.919921875,20836.328125,21190.31640625,20779.34375,22485.689453125,23389.43359375,23231.732421875,23164.62890625,22714.978515625,22465.478515625,22609.1640625,21361.701171875,21239.75390625,22930.548828125,23843.88671875,23804.6328125,23656.20703125,23336.896484375,23314.19921875,22978.1171875,22846.5078125,22630.95703125,23289.314453125,22961.279296875,23175.890625,23809.486328125,23164.318359375,23947.642578125,23957.529296875,24402.818359375,24424.068359375,24319.333984375,24136.97265625,23883.291015625,23335.998046875,23212.73828125,20877.552734375,21166.060546875,21534.12109375,21398.908203125,21528.087890625,21395.01953125,21600.904296875,20260.01953125,20041.73828125,19616.814453125,20297.994140625,19796.80859375,20049.763671875,20127.140625,19969.771484375,19832.087890625,19986.712890625,19812.37109375,18837.66796875,19290.32421875,19329.833984375,21381.15234375,21680.5390625,21769.255859375,22370.44921875,20296.70703125,20241.08984375,19701.2109375,19772.583984375,20127.576171875,19419.505859375,19544.12890625,18890.7890625,18547.400390625,19413.55078125,19297.638671875,18937.01171875,18802.09765625,19222.671875,19110.546875,19426.720703125,19573.05078125,19431.7890625,19312.095703125,19044.107421875,19623.580078125,20336.84375,20160.716796875,19955.443359375,19546.849609375,19416.568359375,19446.42578125,19141.484375,19051.41796875,19157.4453125,19382.904296875,19185.65625,19067.634765625,19268.09375,19550.7578125,19334.416015625,19139.53515625,19053.740234375,19172.46875,19208.189453125,19567.0078125,19345.572265625,20095.857421875,20770.44140625,20285.8359375,20595.3515625,20818.4765625,20635.603515625,20495.7734375,20485.2734375,20159.50390625,20209.98828125,21147.23046875,21282.69140625,20926.486328125,20602.81640625,18541.271484375,15880.7802734375,17586.771484375,17034.29296875,16799.185546875,16353.365234375,16618.19921875,16884.61328125,16669.439453125,16687.517578125,16697.77734375,16711.546875,16291.83203125,15787.2841796875,16189.76953125,16610.70703125,16604.46484375,16521.841796875,16464.28125,16444.626953125,16217.322265625,16444.982421875,17168.56640625,16967.1328125,17088.66015625,16908.236328125,17130.486328125,16974.826171875,17089.50390625,16848.126953125,17233.474609375,17133.15234375,17128.724609375,17104.193359375,17206.4375,17781.318359375,17815.650390625,17364.865234375,16647.484375,16795.091796875,16757.9765625,16439.6796875,16906.3046875,16817.53515625,16830.341796875,16796.953125,16847.755859375,16841.986328125,16919.8046875,16717.173828125,16552.572265625,16642.341796875,16602.5859375],\"high\":[7254.33056640625,7212.1552734375,7413.71533203125,7427.3857421875,7544.4970703125,7781.8671875,8178.2158203125,8396.73828125,8082.2958984375,8166.55419921875,8218.359375,8200.0634765625,8197.7880859375,8879.51171875,8890.1171875,8846.4609375,8958.1220703125,9012.1982421875,9164.3623046875,8745.5908203125,8755.7060546875,8792.994140625,8687.7470703125,8514.6669921875,8458.453125,8602.4013671875,8977.7265625,9358.58984375,9406.431640625,9553.1259765625,9521.7060546875,9439.3232421875,9468.7978515625,9540.3720703125,9331.265625,9701.2998046875,9824.619140625,9834.716796875,9876.7490234375,10129.435546875,10165.765625,10210.052734375,10393.611328125,10457.626953125,10321.99609375,10341.5556640625,10053.96875,9938.8154296875,10161.935546875,10191.67578125,9643.216796875,9723.0146484375,9698.2314453125,9937.404296875,9951.74609375,9652.7373046875,9354.7783203125,8932.892578125,8890.4560546875,8775.6318359375,8726.796875,8921.30859375,8901.5986328125,8843.3662109375,9142.0546875,9167.6953125,9163.220703125,8914.34375,8177.79345703125,8136.9453125,7950.814453125,7929.1162109375,5838.11474609375,5625.2265625,5836.64501953125,5385.2294921875,5371.3486328125,5331.833984375,6329.73583984375,6844.26171875,6378.13525390625,6359.697265625,6443.9345703125,6789.02294921875,6892.51123046875,6735.4638671875,6793.83642578125,6467.5009765625,6250.46728515625,6517.19580078125,6504.51513671875,6612.57373046875,7088.24755859375,7003.220703125,6878.95361328125,6883.4140625,7271.78125,7427.939453125,7356.2236328125,7341.4482421875,7303.8154296875,6926.06982421875,7119.947265625,6965.61669921875,6958.55712890625,6928.66455078125,7134.45068359375,7167.18310546875,7269.95654296875,7280.52197265625,7240.29052734375,6934.5517578125,7145.86572265625,7491.78515625,7574.19580078125,7641.36376953125,7700.59423828125,7795.60107421875,7814.52734375,8871.75390625,9440.650390625,9048.0234375,9007.1875,9167.78125,8956.90625,9062.4150390625,9411.4677734375,9992.6640625,9996.7431640625,9913.86328125,9595.5810546875,9033.470703125,8949.8984375,9317.87890625,9793.2685546875,9755.828125,9564.205078125,9823.001953125,9906.0302734375,9836.0478515625,9804.7939453125,9555.2421875,9232.9365234375,9302.501953125,9288.404296875,8951.005859375,8991.9677734375,9203.3203125,9546.3193359375,9573.6669921875,9704.0302734375,9700.34375,10199.5654296875,10182.3408203125,9682.859375,9887.6103515625,9869.2373046875,9773.431640625,9768.498046875,9782.306640625,9836.369140625,9908.896484375,9938.2978515625,9540.4658203125,9493.2119140625,9482.2705078125,9504.8603515625,9579.4306640625,9540.4228515625,9482.7822265625,9440.8759765625,9394.9716796875,9401.107421875,9655.0732421875,9670.541015625,9680.3671875,9340.1611328125,9310.5166015625,9207.810546875,9197.546875,9237.5732421875,9217.8359375,9309.7548828125,9274.962890625,9202.3447265625,9183.2958984375,9162.18359375,9375.474609375,9360.6171875,9450.3359375,9431.37890625,9287.4716796875,9293.5322265625,9319.4189453125,9306.4052734375,9283.841796875,9275.3251953125,9214.3125,9182.25390625,9230.9833984375,9201.3984375,9214.2705078125,9407.2626953125,9530.5185546875,9610.2470703125,9623.3369140625,9704.556640625,10023.8076171875,11298.2216796875,11204.3271484375,11304.3974609375,11169.3564453125,11415.8642578125,11794.775390625,12034.14453125,11453.0791015625,11385.3818359375,11786.6171875,11902.3359375,11898.0380859375,11800.064453125,11806.056640625,12045.140625,11932.7109375,11748.396484375,11796.396484375,12150.994140625,11963.203125,11934.9013671875,12359.056640625,12335.70703125,12028.923828125,11900.4111328125,11899.259765625,11689.4072265625,11713.4296875,11807.6318359375,11778.2998046875,11530.052734375,11570.7861328125,11545.615234375,11585.640625,11715.2646484375,11768.876953125,12067.0810546875,11964.8232421875,11443.0224609375,10663.919921875,10581.5712890625,10353.927734375,10399.1533203125,10414.775390625,10350.54296875,10503.912109375,10434.9228515625,10578.837890625,10577.21484375,10800.0107421875,10938.6318359375,11100.1240234375,11037.4208984375,11034.908203125,11134.0927734375,11095.8701171875,10988.3046875,10568.0771484375,10537.828125,10771.056640625,10777.6962890625,10772.9990234375,10803.9765625,10945.34765625,10860.0009765625,10847.2568359375,10933.6240234375,10657.837890625,10598.9404296875,10686.0,10793.5078125,10797.578125,10680.5078125,10945.7373046875,11102.671875,11442.2109375,11428.8134765625,11698.4677734375,11548.984375,11539.9775390625,11569.9140625,11540.0615234375,11386.26171875,11483.359375,11799.0927734375,11999.91796875,13184.56640625,13161.59375,13015.9619140625,13145.06640625,13329.18359375,13225.2978515625,13759.6689453125,13837.6953125,13612.0478515625,13651.5166015625,14028.2138671875,13862.033203125,13808.3232421875,13984.9814453125,14218.7666015625,15706.404296875,15903.4375,15737.095703125,15637.3203125,15785.13671875,15450.3291015625,15916.2607421875,16305.00390625,16463.177734375,16317.80859375,16123.1103515625,16816.181640625,17782.919921875,18393.94921875,18119.546875,18773.2265625,18936.62109375,18688.96875,18711.42578125,19348.271484375,19390.96484375,18866.28515625,17445.0234375,17853.939453125,18283.62890625,19749.263671875,19845.974609375,19308.330078125,19566.19140625,19511.404296875,19160.44921875,19390.5,19411.828125,19283.478515625,18626.29296875,18553.298828125,18268.453125,18919.55078125,19381.53515625,19305.099609375,19525.0078125,21458.908203125,23642.66015625,23238.6015625,24085.85546875,24209.66015625,24059.982421875,23789.90234375,24024.490234375,23768.337890625,24710.1015625,26718.0703125,28288.83984375,27389.111328125,27370.720703125,28937.740234375,29244.876953125,29600.626953125,33155.1171875,34608.55859375,33440.21875,34437.58984375,36879.69921875,40180.3671875,41946.73828125,41436.3515625,41420.19140625,38346.53125,36568.52734375,37599.9609375,39966.40625,39577.7109375,37864.3671875,36722.3515625,37299.28515625,37755.890625,36378.328125,35552.6796875,33811.8515625,33360.9765625,32944.0078125,34802.7421875,32794.55078125,32564.029296875,33858.3125,38406.26171875,34834.70703125,34288.33203125,34638.21484375,35896.8828125,37480.1875,38592.17578125,38225.90625,40846.546875,39621.8359375,46203.9296875,48003.72265625,47145.56640625,48463.46875,48745.734375,48047.74609375,49487.640625,48875.5703125,50341.1015625,52533.9140625,52474.10546875,56113.65234375,57505.2265625,58330.5703125,57533.390625,54204.9296875,51290.13671875,51948.96875,48370.78515625,48253.26953125,46716.4296875,49784.015625,50127.51171875,52535.13671875,51735.08984375,49396.4296875,49147.21875,51384.3671875,52314.0703125,54824.1171875,57258.25390625,58091.0625,57996.62109375,61683.86328125,61597.91796875,60540.9921875,56833.1796875,58969.81640625,60116.25,59498.375,60031.28515625,58767.8984375,58471.48046875,55985.44140625,57262.3828125,53392.38671875,55137.3125,56568.21484375,56610.3125,58342.09765625,59447.22265625,59930.02734375,59586.0703125,60267.1875,60110.26953125,58913.74609375,59891.296875,59479.578125,58731.14453125,58338.73828125,58937.046875,61276.6640625,60790.5546875,61253.03515625,63742.28515625,64863.09765625,63821.671875,63594.72265625,62572.17578125,61057.45703125,57520.0546875,57062.1484375,56757.97265625,55410.23046875,52120.79296875,51167.5625,50506.01953125,54288.00390625,55416.96484375,56227.20703125,55115.84375,57900.71875,58448.33984375,57902.59375,58973.30859375,57214.1796875,57911.36328125,58363.31640625,58606.6328125,59464.61328125,59210.8828125,59519.35546875,56872.54296875,57939.36328125,51330.84375,51438.1171875,50639.6640625,49720.04296875,46623.55859375,45812.45703125,43546.1171875,42462.984375,42172.171875,38831.0546875,38289.21875,39835.140625,39776.3515625,40782.078125,40379.6171875,38856.96875,37234.5,36400.66796875,37468.25,37896.734375,38231.33984375,39478.953125,39242.484375,37917.71484375,36436.421875,36790.5703125,34017.38671875,37537.37109375,38334.32421875,37608.6953125,37408.92578125,39322.78125,40978.36328125,41295.26953125,40516.77734375,39513.671875,38187.26171875,36457.796875,36059.484375,35721.640625,33292.453125,34753.41015625,35228.8515625,35487.24609375,32637.587890625,34656.12890625,35219.890625,36542.109375,36074.7578125,35035.984375,33939.58984375,34909.26171875,35937.56640625,35284.34375,35038.53515625,34997.6640625,33907.90625,34042.29296875,34209.0703125,34584.703125,34592.15625,33327.1015625,33061.3984375,33159.640625,32218.40625,31935.9453125,32398.99609375,31885.859375,31006.1875,32752.326171875,32576.400390625,33581.55078125,34490.390625,35364.92578125,40499.67578125,39406.94140625,40816.0703125,40593.0703125,42235.546875,42231.44921875,42541.6796875,40419.1796875,39750.03125,39952.296875,41341.93359375,43271.66015625,44689.859375,45282.3515625,46456.83203125,46637.98828125,46735.6328125,46228.91015625,47831.9765625,48098.68359375,47357.10546875,47998.09765625,47139.5703125,45952.0625,46970.76171875,49342.15234375,49717.01953125,49471.609375,50482.078125,49878.76953125,49202.87890625,49347.58203125,49112.78515625,49283.50390625,49644.11328125,48925.60546875,48189.55078125,49111.08984375,50343.421875,50982.2734375,50545.58203125,51868.6796875,52700.94140625,52853.765625,47334.0546875,47261.94921875,47031.7421875,45969.29296875,46364.87890625,46598.6796875,47218.125,48450.46875,48486.828125,48160.921875,48791.78125,48328.3671875,47328.19921875,43607.609375,43978.62109375,44942.17578125,45080.4921875,42996.2578125,43919.30078125,44313.24609375,42775.14453125,42545.2578125,44092.6015625,48436.01171875,48282.0625,49130.69140625,49456.77734375,51839.984375,55568.46484375,55338.625,55922.98046875,55397.9453125,56401.3046875,57793.0390625,57627.87890625,57688.66015625,58478.734375,62757.12890625,62274.4765625,61645.5234375,62614.66015625,64434.53515625,66930.390625,66600.546875,63715.0234375,61743.87890625,61505.8046875,63729.32421875,63229.02734375,61435.18359375,62128.6328125,62927.609375,62330.14453125,62406.171875,62419.00390625,64242.79296875,63516.9375,63123.2890625,62541.46875,61590.68359375,63326.98828125,67673.7421875,68530.3359375,68789.625,65579.015625,65460.81640625,64915.67578125,65495.1796875,66281.5703125,63721.1953125,60823.609375,60948.5,58351.11328125,59859.87890625,60004.42578125,59266.359375,57875.515625,57803.06640625,59367.96875,59183.48046875,55329.2578125,57393.84375,58872.87890625,59113.40234375,59041.68359375,57349.234375,57482.16796875,53904.6796875,49768.1484375,50929.51953125,51934.78125,51171.375,50797.1640625,50015.25390625,49458.2109375,50724.8671875,50205.0,48431.3984375,49473.95703125,49425.57421875,48004.89453125,47313.828125,48089.6640625,47401.71875,49300.91796875,49544.796875,51332.33984375,51814.02734375,51176.59765625,51196.37890625,51956.328125,50679.859375,48119.7421875,47879.96484375,48472.52734375,47827.3125,47881.40625,47510.7265625,47406.546875,46929.046875,43748.71875,43153.5703125,42228.94140625,42663.94921875,42199.484375,43001.15625,44135.3671875,44278.421875,43346.6875,43724.671875,43436.80859375,43179.390625,42534.40234375,42478.3046875,43413.0234375,41060.52734375,36688.8125,36433.3125,37247.51953125,37444.5703125,38825.41015625,37148.32421875,37952.87890625,38576.26171875,38266.33984375,38647.26171875,39115.1328125,38834.6171875,37154.6015625,41527.78515625,41847.1640625,42500.78515625,44401.86328125,45293.8671875,44727.80078125,45661.171875,43810.83203125,42992.55078125,42693.0546875,42775.77734375,44667.21875,44578.27734375,44132.97265625,40929.15234375,40418.87890625,40119.890625,39394.4375,38359.85546875,39122.39453125,38968.83984375,39630.32421875,40005.34765625,39778.94140625,43760.45703125,44793.6015625,45077.578125,44021.578125,42479.61328125,39566.3359375,39640.17578125,39430.2265625,39304.44140625,42465.671875,42004.7265625,40081.6796875,39308.59765625,39209.3515625,39742.5,39794.62890625,41465.453125,41287.53515625,42195.74609375,42316.5546875,42241.1640625,41454.41015625,43124.70703125,42893.5078125,44131.85546875,44999.4921875,44735.99609375,46827.546875,48086.8359375,48022.2890625,47655.1484375,47512.02734375,46616.2421875,47028.28125,47313.4765625,46791.08984375,47106.140625,45544.35546875,43860.69921875,43903.01953125,42786.81640625,43376.37890625,42424.58984375,40617.5859375,41430.0546875,41451.48046875,40617.72265625,40633.6796875,40570.7265625,40986.3203125,41672.9609375,42126.30078125,42893.58203125,40777.7578125,39935.859375,39845.92578125,40491.75390625,40713.890625,39397.91796875,40269.46484375,39887.26953125,38771.2109375,38627.859375,39074.97265625,38629.99609375,39902.94921875,39789.28125,36624.359375,36129.92578125,35502.94140625,34222.07421875,32596.30859375,32013.40234375,30032.439453125,30924.802734375,30192.802734375,31308.19140625,31305.341796875,30694.490234375,30618.716796875,30430.751953125,30664.9765625,29588.869140625,30425.861328125,30590.5859375,29774.35546875,30157.78515625,29834.16015625,29346.943359375,28814.900390625,29498.009765625,31949.630859375,32249.86328125,31957.28515625,30604.734375,30633.03515625,29930.564453125,30117.744140625,31693.291015625,31489.68359375,31253.69140625,30609.310546875,30245.80859375,29401.916015625,28502.685546875,26795.58984375,23018.951171875,22642.671875,22868.921875,21243.3125,20736.041015625,20683.822265625,20913.322265625,21620.62890625,20835.75,21135.76171875,21472.91796875,21520.9140625,21783.724609375,21478.08984375,21164.423828125,20364.15625,20141.16015625,20632.671875,19371.748046875,19558.26953125,20258.748046875,20635.466796875,20595.529296875,21771.81640625,22314.94140625,21877.138671875,21591.080078125,20856.353515625,20043.4453125,20223.052734375,20789.89453125,21138.244140625,21514.404296875,21600.640625,22633.033203125,23666.962890625,24196.818359375,23388.322265625,23671.927734375,22977.2109375,22974.001953125,22649.12109375,21361.12109375,22986.529296875,24110.470703125,24294.787109375,24572.580078125,24121.642578125,23464.787109375,23415.041015625,23578.650390625,23198.009765625,23422.828125,23326.5625,23359.009765625,24203.689453125,23898.615234375,24127.4140625,24822.62890625,24412.56640625,24860.05078125,24974.9140625,25135.58984375,24228.416015625,24407.05859375,23563.83203125,23213.3125,21350.806640625,21668.845703125,21531.462890625,21646.203125,21783.076171875,21789.63671875,21804.908203125,20340.775390625,20139.0546875,20357.462890625,20542.64453125,20420.990234375,20198.390625,20401.568359375,20037.009765625,19999.689453125,20031.16015625,20155.26953125,19427.171875,19417.3515625,21439.41015625,21760.275390625,21770.552734375,22439.181640625,22673.8203125,20467.201171875,20318.166015625,19870.62890625,20162.53125,20127.234375,19639.48046875,19602.45703125,19674.630859375,19456.91015625,19464.671875,19310.197265625,19134.732421875,19274.873046875,20338.455078125,19688.34375,19589.265625,20109.849609375,19471.154296875,19370.30859375,19653.54296875,20380.34375,20343.748046875,20408.392578125,20041.0859375,19601.6953125,19542.5390625,19515.466796875,19241.9609375,19203.19921875,19453.328125,19889.146484375,19212.541015625,19389.603515625,19635.802734375,19666.994140625,19348.416015625,19315.19921875,19237.384765625,19248.068359375,19646.65234375,19589.125,20348.412109375,20938.134765625,20854.044921875,20724.98046875,20988.39453125,20917.005859375,20795.3203125,20647.2890625,20742.810546875,20382.095703125,21209.560546875,21446.88671875,21345.376953125,21053.24609375,20664.607421875,18590.458984375,18054.3125,17650.943359375,17066.67578125,16920.765625,17109.32421875,17051.962890625,16960.294921875,16726.439453125,16947.05859375,16797.876953125,16746.779296875,16291.2236328125,16253.0478515625,16638.193359375,16771.474609375,16603.31640625,16666.86328125,16594.40625,16482.93359375,16522.2578125,17190.9375,17197.498046875,17088.66015625,17116.041015625,17157.767578125,17378.15234375,17091.86328125,17109.376953125,17267.916015625,17280.546875,17216.826171875,17245.634765625,17212.564453125,17930.0859375,18318.53125,17846.744140625,17505.525390625,16800.58984375,16815.38671875,16807.52734375,17012.984375,16916.80078125,16866.673828125,16905.21875,16864.703125,16860.5546875,16920.123046875,16959.845703125,16768.169921875,16651.755859375,16643.427734375],\"low\":[7174.9443359375,6935.27001953125,6914.99609375,7309.51416015625,7400.53564453125,7409.29296875,7768.2275390625,7956.7744140625,7842.40380859375,7726.77490234375,8029.64208984375,8009.05908203125,8079.70068359375,8140.93310546875,8657.1875,8612.095703125,8677.31640625,8827.33203125,8620.080078125,8560.4736328125,8544.5205078125,8636.7470703125,8333.6376953125,8266.8408203125,8296.21875,8325.498046875,8597.30859375,8908.447265625,9269.4677734375,9230.8974609375,9230.7763671875,9313.2392578125,9217.82421875,9248.6337890625,9112.8115234375,9163.7041015625,9539.818359375,9726.0029296875,9678.91015625,9850.392578125,9784.5634765625,9729.3349609375,10202.3876953125,10116.1611328125,10125.5341796875,9874.427734375,9722.38671875,9507.6376953125,9632.3828125,9611.2236328125,9507.900390625,9589.7431640625,9600.728515625,9657.791015625,9537.04296875,9305.021484375,8704.4267578125,8577.19921875,8492.9326171875,8599.5087890625,8471.212890625,8532.630859375,8704.990234375,8712.431640625,8757.25390625,9032.0791015625,8890.744140625,8105.2529296875,7690.09814453125,7814.76318359375,7642.8125,4860.35400390625,4106.98095703125,5125.0693359375,5169.283203125,4575.35791015625,4981.9091796875,5069.3359375,5236.96875,5865.78173828125,5932.8232421875,5823.7138671875,5785.00439453125,6411.06640625,6536.92626953125,6590.962890625,6466.70166015625,6117.837890625,5920.0859375,5903.234375,6374.162109375,6202.37353515625,6595.91845703125,6673.3359375,6696.48486328125,6715.92919921875,6782.8896484375,7136.71435546875,7153.3056640625,7179.09423828125,6802.47509765625,6789.9208984375,6811.078125,6668.259765625,6793.8212890625,6633.40283203125,6555.50439453125,7050.33203125,7089.2470703125,7167.0546875,6835.5029296875,6834.4423828125,6867.78173828125,7081.5947265625,7434.181640625,7521.67236328125,7561.40771484375,7679.4189453125,7730.806640625,7786.04931640625,8533.255859375,8667.763671875,8811.3662109375,8830.9716796875,8645.0244140625,8856.8271484375,8966.7060546875,9138.322265625,9767.1728515625,9580.64453125,8395.107421875,8374.3232421875,8569.6435546875,8805.3876953125,9255.03515625,9261.3984375,9260.6943359375,9349.5458984375,9570.359375,9539.6240234375,9447.201171875,8869.9306640625,9008.638671875,9118.1083984375,8787.2509765625,8719.66796875,8757.2939453125,8834.1572265625,9148.45703125,9379.3388671875,9366.7294921875,9432.296875,9450.8994140625,9460.5712890625,9471.8466796875,9525.2470703125,9663.216796875,9591.0244140625,9458.150390625,9675.8857421875,9664.7197265625,9728.291015625,9263.0693359375,9285.8515625,9396.009765625,9347.59375,8990.17578125,9400.4453125,9327.33984375,9328.3955078125,9274.2958984375,9247.3798828125,9300.4306640625,9296.8720703125,9547.2470703125,9278.2333984375,9095.32421875,9101.73828125,8998.216796875,8975.525390625,9041.8759765625,9084.837890625,9104.7353515625,9036.623046875,9058.794921875,9053.6298828125,8977.015625,9058.6640625,9201.8154296875,9249.5,9234.9990234375,9118.001953125,9199.4853515625,9197.4501953125,9224.29296875,9171.6611328125,9171.93359375,9088.947265625,9089.2021484375,9100.82421875,9097.6328125,9137.509765625,9149.3896484375,9319.6533203125,9483.00390625,9481.4541015625,9530.2119140625,9652.84765625,9903.9697265625,10632.6318359375,10856.1416015625,10895.455078125,10987.0537109375,11239.6826171875,11018.1298828125,11012.4150390625,11094.1455078125,11158.28515625,11598.7138671875,11408.59375,11558.431640625,11548.7841796875,11662.2568359375,11195.708984375,11249.60546875,11216.8720703125,11685.455078125,11768.697265625,11737.1884765625,11806.6962890625,11954.525390625,11687.3330078125,11710.0634765625,11564.9794921875,11448.8056640625,11559.9208984375,11623.25,11189.8505859375,11296.9931640625,11185.94140625,11316.4228515625,11466.29296875,11492.3818359375,11598.318359375,11601.12890625,11290.7939453125,10182.46484375,10207.9404296875,9946.67578125,10056.8857421875,9916.4931640625,9945.1103515625,10017.2509765625,10238.1357421875,10140.8369140625,10292.38671875,10224.330078125,10266.0087890625,10656.4599609375,10704.884765625,10774.6279296875,10829.6572265625,10909.6181640625,10814.4775390625,10380.2607421875,10382.7265625,10197.865234375,10231.490234375,10578.9140625,10667.28125,10622.921875,10703.8935546875,10649.4951171875,10669.3212890625,10472.3564453125,10416.689453125,10511.1298828125,10534.3916015625,10634.6005859375,10528.890625,10562.5068359375,10562.6064453125,10846.8505859375,11056.9404296875,11288.6279296875,11240.6865234375,11321.224609375,11307.8310546875,11303.603515625,11223.0126953125,11285.345703125,11347.578125,11408.2900390625,11681.48046875,11900.9287109375,12717.09375,12752.6474609375,12885.7470703125,12910.0615234375,12822.3828125,13060.837890625,12932.2509765625,12980.0595703125,13136.1982421875,13457.5302734375,13628.3779296875,13243.16015625,13325.44140625,13580.4716796875,14102.0888671875,15226.83984375,14423.203125,14744.1103515625,14865.529296875,15124.9599609375,15290.0068359375,15534.771484375,15992.15234375,15749.193359375,15793.5341796875,15880.7060546875,16564.544921875,17352.90625,17382.5546875,17765.794921875,18444.359375,17671.384765625,18000.796875,18128.65625,18581.146484375,16351.03515625,16526.423828125,16910.65234375,17559.1171875,18178.322265625,18321.921875,18347.71875,18925.78515625,18697.193359375,18590.193359375,18897.89453125,18931.142578125,18269.9453125,17935.546875,17957.064453125,17619.533203125,18046.041015625,18734.33203125,19012.708984375,19079.841796875,19298.31640625,21234.67578125,22399.8125,22826.47265625,23147.7109375,22159.3671875,22430.60546875,22802.646484375,22777.59765625,23463.673828125,24522.689453125,25922.76953125,26207.640625,25987.298828125,27360.08984375,28201.9921875,28803.5859375,29091.181640625,32052.31640625,28722.755859375,30221.1875,33514.03515625,36491.19140625,36838.63671875,38980.875,35984.62890625,30549.599609375,32697.9765625,32584.66796875,36868.5625,34659.58984375,35633.5546875,34069.3203125,34883.84375,36069.8046875,33570.4765625,30250.75,28953.373046875,31493.16015625,31106.685546875,32087.787109375,31030.265625,29367.138671875,30023.20703125,32064.814453125,32940.1875,32270.17578125,32384.228515625,33489.21875,35443.984375,36317.5,36658.76171875,38138.38671875,37446.15234375,38076.32421875,45166.9609375,43881.15234375,44187.76171875,46424.9765625,46392.28125,47114.5078125,46347.4765625,47201.3046875,49072.37890625,51015.765625,50937.27734375,54626.55859375,55672.609375,48967.56640625,45290.58984375,47213.5,47093.8515625,44454.84375,45269.02734375,43241.6171875,45115.09375,47228.84375,48274.3203125,47656.9296875,46542.515625,47257.52734375,48918.6796875,49506.0546875,51981.83203125,53290.890625,54484.59375,55376.6484375,56217.97265625,59302.31640625,55393.1640625,53555.02734375,54528.62890625,54253.578125,56643.703125,58213.296875,56005.6171875,54288.15625,53470.6953125,52514.33203125,50856.5703125,51579.85546875,54242.91015625,55071.11328125,55139.33984375,57251.55078125,57726.41796875,58505.27734375,58869.28125,57603.890625,57168.67578125,57694.82421875,57646.80859375,55604.0234375,55879.0859375,57807.86328125,58038.70703125,59289.796875,59589.875,59869.95703125,61554.796875,62208.96484375,60222.53125,60361.3515625,52829.53515625,54368.59375,53448.046875,53695.46875,50583.8125,47714.6640625,48805.28515625,47159.484375,48852.796875,53319.1875,53887.91796875,52418.02734375,53129.6015625,57052.2734375,56141.90625,56590.87109375,53191.42578125,52969.0546875,55382.5078125,55321.84765625,56975.2109375,56482.00390625,54071.45703125,54608.65234375,49150.53515625,46980.01953125,48868.578125,46664.140625,43963.3515625,42207.2890625,42367.83203125,30681.49609375,35050.6171875,33616.453125,35383.68359375,31227.33984375,34551.08203125,36581.4296875,37905.8359375,37247.90234375,34779.0390625,33693.9296875,33520.73828125,34241.9453125,35787.0859375,35966.30859375,37243.97265625,35717.72265625,34900.4140625,35304.578125,33480.640625,31114.443359375,32475.865234375,35847.59375,36044.44921875,34728.19140625,34864.109375,38757.28515625,39609.46875,38176.03515625,37439.67578125,35255.85546875,34933.0625,33432.07421875,31295.935546875,28893.62109375,31772.6328125,32385.21484375,31350.884765625,30184.501953125,32071.7578125,33902.07421875,34252.484375,34086.15234375,32883.78125,32770.6796875,33402.6953125,34396.4765625,33213.66015625,33599.91796875,33839.2890625,32133.18359375,32318.880859375,33116.01171875,33346.73828125,32697.30859375,32261.419921875,31639.125,31175.708984375,31100.673828125,31223.990234375,31215.4921875,30563.734375,29360.955078125,29526.18359375,31745.298828125,32057.892578125,33424.859375,33881.8359375,35287.3125,36441.7265625,38862.4375,39352.05859375,38397.35546875,41110.83203125,39540.94140625,38746.34765625,37782.05078125,37589.1640625,37458.00390625,39932.1796875,42618.56640625,43331.91015625,42848.6875,44705.5546875,45351.7109375,43861.4453125,44282.41796875,46177.6328125,45579.58984375,45700.3203125,44512.41796875,44364.02734375,43998.31640625,46650.70703125,48312.19921875,48199.94140625,49074.60546875,47687.1171875,47163.61328125,46405.78125,46394.28125,48499.23828125,47925.85546875,46950.2734375,46750.09375,46562.4375,48652.3203125,48386.0859375,49548.78125,49538.59765625,51053.6796875,43285.20703125,44561.39453125,45669.73828125,44344.484375,44818.265625,44790.4609375,43591.3203125,44752.33203125,46773.328125,47079.55859375,46832.5234375,47087.28515625,46919.8046875,42598.9140625,39787.609375,40625.6328125,43109.33984375,40936.55859375,41759.921875,40848.4609375,42190.6328125,40931.6640625,40829.66796875,41444.58203125,43320.0234375,47465.49609375,47157.2890625,47045.00390625,49072.83984375,50488.19140625,53525.46875,53688.0546875,53735.14453125,54264.2578125,54519.765625,54477.97265625,54370.97265625,56957.07421875,56868.14453125,60206.12109375,59164.46875,60012.7578125,61622.93359375,63610.67578125,62117.41015625,60122.796875,59826.5234375,59643.34375,60691.80078125,59991.16015625,58208.1875,58206.91796875,60329.96484375,60918.38671875,60074.328125,59695.18359375,60673.0546875,61184.23828125,60799.6640625,60844.609375,60163.78125,61432.48828125,63344.06640625,66382.0625,63208.11328125,64180.48828125,62333.9140625,63303.734375,63647.80859375,63548.14453125,59016.3359375,58515.41015625,56550.79296875,55705.1796875,57469.7265625,58618.9296875,55679.83984375,55632.76171875,55964.22265625,57146.68359375,53569.765625,53668.35546875,53576.734375,56792.52734375,56057.28125,56553.08203125,55895.1328125,52496.5859375,42874.6171875,47857.49609375,47281.03515625,50175.80859375,48765.98828125,47358.3515625,47023.69921875,46942.34765625,48725.8515625,45894.84765625,46424.49609375,46671.96484375,47529.87890625,45618.21484375,45598.44140625,46502.953125,45579.80859375,46698.7734375,48450.94140625,48065.8359375,50514.49609375,50236.70703125,49623.10546875,50499.46875,47414.2109375,46201.49609375,46060.3125,45819.953125,46288.484375,46856.9375,45835.96484375,45752.46484375,42798.22265625,42645.5390625,41077.4453125,40672.27734375,41338.16015625,39796.5703125,41407.75390625,42528.98828125,42447.04296875,41982.6171875,42669.03515625,42691.0234375,41680.3203125,41392.21484375,41242.9140625,40672.82421875,35791.42578125,34349.25,34784.96875,33184.05859375,35779.4296875,36374.90625,35629.28125,36211.109375,37406.47265625,37437.7109375,36733.57421875,38113.6640625,36832.73046875,36375.5390625,37093.62890625,41038.09765625,41244.90625,41748.15625,42807.8359375,43232.96875,43402.80859375,42114.5390625,41852.57421875,41950.94140625,41681.95703125,42491.03515625,43456.69140625,40249.37109375,39637.6171875,39713.05859375,38112.8125,36950.4765625,36488.93359375,37201.81640625,34459.21875,38111.34375,38702.53515625,37268.9765625,37518.21484375,42952.5859375,43432.8515625,41914.75,38805.84765625,38777.03515625,38211.6484375,37260.203125,37957.38671875,38706.09375,38832.94140625,38347.43359375,38772.53515625,37728.14453125,37680.734375,38310.2109375,39022.34765625,40662.87109375,40302.3984375,41602.66796875,41004.7578125,40668.04296875,40948.28125,41877.5078125,42726.1640625,43706.28515625,44166.2734375,44437.29296875,46690.203125,47100.4375,46746.2109375,45390.5390625,44403.140625,45782.51171875,45634.10546875,45235.81640625,45544.80859375,43193.953125,42899.90625,42183.2890625,42183.25390625,42021.20703125,39373.05859375,39388.328125,39712.74609375,39695.74609375,39866.83203125,40078.42578125,39620.89453125,38696.19140625,40618.6328125,40961.09765625,40063.828125,39315.41796875,39352.203125,39233.5390625,38338.37890625,37884.984375,37997.3125,38941.421875,38235.53515625,37697.94140625,37585.7890625,38156.5625,37585.62109375,37732.05859375,35856.515625,35482.1328125,34940.82421875,33878.96484375,30296.953125,29944.802734375,28170.4140625,26350.490234375,28782.330078125,28702.91015625,29527.740234375,29251.884765625,29570.302734375,28720.271484375,28708.955078125,28793.60546875,29027.39453125,29275.18359375,28975.560546875,28786.58984375,29384.94921875,28261.90625,28326.61328125,28554.56640625,28841.107421875,29303.572265625,31286.154296875,29501.587890625,29652.705078125,29375.689453125,29500.005859375,29574.44921875,29894.1875,29311.68359375,29944.404296875,30020.265625,28978.146484375,28236.212890625,26762.6484375,22141.2578125,20950.818359375,20178.376953125,20265.2265625,20326.51953125,17708.623046875,18067.15234375,19689.169921875,20415.0625,19848.078125,19950.1171875,20777.51171875,20964.5859375,21016.26953125,20620.19921875,20228.8125,19937.791015625,18729.65625,19073.708984375,19027.08203125,18966.951171875,19063.06640625,19341.232421875,19823.51171875,20296.103515625,21257.453125,21445.95703125,20727.123046875,19924.5390625,19308.53125,18999.953125,19689.2578125,20397.0,20518.8984375,20778.1796875,20781.912109375,21683.40625,23009.94921875,22431.1484375,22603.416015625,22002.91015625,22306.83984375,21361.642578125,20776.81640625,21070.806640625,22722.265625,23481.173828125,23580.5078125,23275.703125,22890.796875,22710.083984375,22747.8359375,22485.701171875,22612.177734375,22961.279296875,22894.556640625,23176.546875,22982.0,22771.51953125,23900.99609375,23657.265625,24346.115234375,24206.259765625,23839.775390625,23733.5,23243.353515625,23177.6015625,20868.84765625,20856.73046875,21103.197265625,20939.18359375,20955.138671875,21195.005859375,21362.44140625,20199.482421875,19890.5234375,19616.814453125,19600.78515625,19617.640625,19799.58203125,19653.96875,19814.765625,19698.35546875,19636.81640625,19673.046875,18800.171875,18644.466796875,19076.71484375,19310.962890625,21168.72265625,21406.9453125,21603.896484375,20062.669921875,19793.396484375,19636.734375,19400.076171875,19777.033203125,19387.4921875,18390.318359375,18813.455078125,18290.314453125,18415.591796875,18617.552734375,18861.974609375,18696.46875,18721.28515625,18915.66796875,18553.296875,18924.353515625,19265.662109375,19231.08203125,18970.62109375,19025.2265625,19523.83984375,19801.80078125,19900.087890625,19395.79296875,19299.4140625,19349.259765625,19102.978515625,18925.603515625,19029.7578125,18319.822265625,19115.408203125,19019.25,19068.9140625,19173.333984375,19144.76953125,19127.6875,18971.458984375,18770.970703125,19132.244140625,19124.197265625,19206.32421875,19261.447265625,20076.1171875,20255.373046875,20086.068359375,20566.484375,20547.462890625,20287.458984375,20359.845703125,20087.134765625,20086.240234375,20188.01953125,21097.634765625,20920.19140625,20489.97265625,17603.544921875,15682.6923828125,15834.0185546875,16543.482421875,16651.775390625,16320.634765625,15872.94140625,16542.55078125,16430.111328125,16460.68359375,16564.611328125,16570.41015625,16248.6923828125,15599.046875,15656.6064453125,16170.5029296875,16501.767578125,16388.404296875,16416.228515625,16437.025390625,16054.5302734375,16139.396484375,16445.4765625,16888.388671875,16877.880859375,16888.140625,16903.439453125,16922.431640625,16939.921875,16750.55859375,16788.783203125,17100.8359375,17120.68359375,17091.8203125,16899.39453125,17111.763671875,17739.513671875,17322.58984375,16584.701171875,16614.029296875,16697.8203125,16398.13671875,16427.8671875,16755.912109375,16592.408203125,16794.458984375,16793.52734375,16755.25390625,16812.369140625,16642.072265625,16497.556640625,16508.68359375,16408.474609375],\"open\":[7194.89208984375,7202.55126953125,6984.4287109375,7345.37548828125,7410.45166015625,7410.4521484375,7768.68212890625,8161.935546875,8082.2958984375,7878.3076171875,8162.19091796875,8033.26171875,8189.77197265625,8140.93310546875,8825.34375,8812.4814453125,8725.2099609375,8927.2119140625,8941.4453125,8704.6318359375,8658.9912109375,8744.2109375,8680.650390625,8405.5673828125,8440.119140625,8364.41015625,8597.30859375,8912.5244140625,9357.470703125,9316.0166015625,9508.3134765625,9346.357421875,9389.8203125,9344.68359375,9292.841796875,9183.416015625,9617.8212890625,9726.0029296875,9793.0703125,9863.89453125,10115.5595703125,9855.8916015625,10202.3876953125,10323.9609375,10211.55078125,10313.8564453125,9889.1796875,9936.560546875,9691.23046875,10143.798828125,9629.3251953125,9611.7822265625,9687.70703125,9663.318359375,9921.5830078125,9651.3125,9338.2900390625,8825.09375,8788.728515625,8671.212890625,8599.7587890625,8563.2646484375,8865.3876953125,8788.5419921875,8760.28515625,9078.30859375,9121.6005859375,8908.2060546875,8111.146484375,7922.14697265625,7910.08984375,7913.6162109375,5017.8310546875,5573.07763671875,5201.06689453125,5385.2294921875,5002.578125,5227.11376953125,5245.41650390625,6191.65380859375,6206.521484375,6185.55810546875,5831.37451171875,6436.642578125,6738.716796875,6675.1708984375,6719.38916015625,6467.25390625,6245.62451171875,5925.53857421875,6430.6064453125,6437.3193359375,6606.7763671875,6797.396484375,6738.3828125,6862.53759765625,6788.0498046875,7273.64404296875,7179.283203125,7337.96630859375,7303.8154296875,6867.4404296875,6858.06787109375,6965.61669921875,6843.28173828125,6845.5615234375,6640.4541015625,7116.552734375,7092.29150390625,7260.92236328125,7186.87353515625,6879.7841796875,6879.4404296875,7121.30615234375,7434.181640625,7550.48291015625,7570.13916015625,7679.4189453125,7796.97021484375,7806.71240234375,8797.669921875,8672.7822265625,8869.0576171875,8983.6142578125,8895.7451171875,8912.83203125,9007.44140625,9261.8955078125,9936.162109375,9840.90625,9591.1689453125,8755.53515625,8610.3857421875,8805.3876953125,9271.3291015625,9734.291015625,9333.240234375,9374.9296875,9675.6953125,9727.0634765625,9725.3291015625,9522.740234375,9080.3349609375,9185.0625,9212.283203125,8786.107421875,8909.5859375,8837.380859375,9184.9453125,9528.35546875,9438.9140625,9700.10546875,9463.60546875,10162.9736328125,9533.7607421875,9655.8544921875,9800.2158203125,9664.904296875,9653.0029296875,9760.0634765625,9774.3603515625,9794.119140625,9870.078125,9320.6904296875,9480.7353515625,9477.5537109375,9386.03515625,9454.2666015625,9533.7841796875,9481.5673828125,9410.2939453125,9290.9599609375,9330.9267578125,9300.9150390625,9644.076171875,9632.1494140625,9314.126953125,9260.9951171875,9167.82421875,9048.4609375,9140.029296875,9185.5810546875,9145.9853515625,9231.1396484375,9124.8427734375,9084.2333984375,9126.0908203125,9072.849609375,9349.1611328125,9253.0205078125,9427.994140625,9273.357421875,9277.51171875,9241.0546875,9277.205078125,9238.703125,9241.8974609375,9191.98046875,9131.8125,9151.18359375,9158.005859375,9187.220703125,9162.5146484375,9375.080078125,9527.1416015625,9585.5146484375,9539.4853515625,9680.234375,9905.2177734375,11017.4638671875,10912.953125,11099.8330078125,11110.2109375,11322.5703125,11758.7646484375,11043.7685546875,11246.203125,11203.8232421875,11749.87109375,11778.89453125,11604.5537109375,11737.3251953125,11662.2568359375,11881.6474609375,11404.5966796875,11588.4052734375,11772.6591796875,11768.697265625,11866.685546875,11895.658203125,12251.8955078125,11990.884765625,11761.5,11878.0263671875,11585.4775390625,11679.6962890625,11663.689453125,11773.5888671875,11366.89453125,11485.6083984375,11325.2958984375,11541.0546875,11508.7138671875,11713.306640625,11679.31640625,11964.8232421875,11407.19140625,10230.365234375,10512.5302734375,10167.216796875,10280.998046875,10369.306640625,10134.1513671875,10242.330078125,10369.0283203125,10409.861328125,10452.3994140625,10328.734375,10677.7548828125,10797.76171875,10973.251953125,10951.8203125,10933.7529296875,11095.8701171875,10934.92578125,10459.6240234375,10535.4921875,10248.7861328125,10761.109375,10695.5751953125,10746.892578125,10776.61328125,10709.650390625,10843.87109375,10795.2548828125,10619.8212890625,10575.1005859375,10550.4404296875,10676.529296875,10796.306640625,10603.35546875,10669.37109375,10927.9130859375,11059.142578125,11296.08203125,11392.6357421875,11548.7197265625,11429.0478515625,11426.6025390625,11502.828125,11322.123046875,11355.982421875,11495.0380859375,11745.974609375,11913.0771484375,12801.6357421875,12971.548828125,12931.57421875,13108.0634765625,13031.201171875,13075.2421875,13654.21484375,13271.298828125,13437.8740234375,13546.5322265625,13780.9951171875,13737.0322265625,13550.451171875,13950.48828125,14133.7333984375,15579.7294921875,15565.880859375,14833.75390625,15479.595703125,15332.3505859375,15290.9091796875,15701.298828125,16276.4404296875,16317.80859375,16068.1396484375,15955.5771484375,16685.69140625,17645.19140625,17803.861328125,17817.083984375,18621.31640625,18642.232421875,18370.017578125,18365.015625,19104.41015625,18729.83984375,17153.9140625,17112.93359375,17719.634765625,18178.322265625,19633.76953125,18801.744140625,19205.92578125,19446.966796875,18698.384765625,19154.1796875,19343.12890625,19191.529296875,18320.884765625,18553.298828125,18263.9296875,18051.3203125,18806.765625,19144.4921875,19246.919921875,19418.818359375,21308.3515625,22806.796875,23132.865234375,23861.765625,23474.455078125,22794.0390625,23781.974609375,23240.203125,23733.5703125,24677.015625,26439.373046875,26280.822265625,27081.810546875,27360.08984375,28841.57421875,28994.009765625,29376.455078125,32129.408203125,32810.94921875,31977.041015625,34013.61328125,36833.875,39381.765625,40788.640625,40254.21875,38346.53125,35516.359375,33915.12109375,37325.109375,39156.70703125,36821.6484375,36163.6484375,35792.23828125,36642.234375,36050.11328125,35549.3984375,30817.625,32985.7578125,32064.376953125,32285.798828125,32358.61328125,32564.029296875,30441.041015625,34318.671875,34295.93359375,34270.87890625,33114.578125,33533.19921875,35510.8203125,37475.10546875,36931.546875,38138.38671875,39250.19140625,38886.828125,46184.9921875,46469.76171875,44898.7109375,47877.03515625,47491.203125,47114.5078125,48696.53515625,47944.45703125,49207.27734375,52140.97265625,51675.98046875,55887.3359375,56068.56640625,57532.73828125,54204.9296875,48835.0859375,49709.08203125,47180.46484375,46344.7734375,46194.015625,45159.50390625,49612.10546875,48415.81640625,50522.3046875,48527.03125,48899.23046875,48918.6796875,51174.1171875,52272.96875,54824.01171875,55963.1796875,57821.21875,57343.37109375,61221.1328125,59267.4296875,55840.78515625,56825.828125,58893.078125,57850.44140625,58332.26171875,58309.9140625,57517.890625,54511.66015625,54710.48828125,52726.74609375,51683.01171875,55137.56640625,55974.94140625,55947.8984375,57750.1328125,58930.27734375,58926.5625,59098.87890625,59397.41015625,57604.83984375,58760.875,59171.93359375,58186.5078125,56099.9140625,58326.5625,58253.77734375,59846.23046875,60175.9453125,59890.01953125,63523.75390625,63075.1953125,63258.50390625,61529.921875,60701.88671875,56191.5859375,55681.79296875,56471.12890625,53857.10546875,51739.80859375,51143.2265625,50052.83203125,49077.79296875,54030.3046875,55036.63671875,54858.08984375,53568.6640625,57714.6640625,57825.86328125,56620.2734375,57214.1796875,53252.1640625,57441.30859375,56413.953125,57352.765625,58877.390625,58250.87109375,55847.2421875,56714.53125,49735.43359375,49682.98046875,49855.49609375,46716.63671875,46415.8984375,43488.05859375,42944.9765625,36753.66796875,40596.94921875,37371.03125,37531.44921875,34700.36328125,38795.78125,38392.625,39316.890625,38507.08203125,35684.15625,34607.40625,35658.59375,37293.79296875,36699.921875,37599.41015625,39242.484375,36880.15625,35538.609375,35835.265625,33589.51953125,33416.9765625,37389.515625,36697.03125,37340.14453125,35555.7890625,39016.96875,40427.16796875,40168.69140625,38341.421875,38099.4765625,35854.52734375,35563.140625,35641.14453125,31622.376953125,32515.71484375,33682.80078125,34659.10546875,31594.6640625,32287.5234375,34679.12109375,34475.55859375,35908.38671875,35035.984375,33549.6015625,33854.421875,34665.56640625,35284.34375,33723.5078125,34225.6796875,33889.60546875,32861.671875,33811.2421875,33509.078125,34254.015625,33125.46875,32723.845703125,32827.875,31841.55078125,31397.30859375,31533.884765625,31800.01171875,30838.28515625,29796.28515625,32138.873046875,32305.958984375,33593.73046875,34290.29296875,35384.03125,37276.03515625,39503.1875,39995.453125,40027.484375,42196.3046875,41460.84375,39907.26171875,39178.40234375,38213.33203125,39744.515625,40865.8671875,42832.796875,44574.4375,43791.92578125,46280.84765625,45599.703125,45576.87890625,44439.69140625,47810.6875,47096.66796875,47019.9609375,45936.45703125,44686.75,44741.8828125,46723.12109375,49327.07421875,48869.10546875,49291.67578125,49562.34765625,47727.2578125,49002.640625,46894.5546875,49072.5859375,48911.25,48834.8515625,47024.33984375,47099.7734375,48807.84765625,49288.25,50009.32421875,49937.859375,51769.00390625,52660.48046875,46827.76171875,45774.7421875,46396.6640625,44869.83984375,45206.62890625,46057.21484375,44960.05078125,47098.0,48158.90625,47771.00390625,47273.52734375,48268.85546875,47261.40625,43012.234375,40677.953125,43560.296875,44894.30078125,42840.890625,42721.62890625,43234.18359375,42200.8984375,41064.984375,41551.26953125,43816.7421875,48137.46875,47680.02734375,48208.90625,49174.9609375,51486.6640625,55338.625,53802.14453125,53929.78125,54952.8203125,54734.125,57526.83203125,56038.2578125,57372.83203125,57345.90234375,61609.52734375,60887.65234375,61548.8046875,62043.1640625,64284.5859375,66002.234375,62237.890625,60694.62890625,61368.34375,60893.92578125,63032.76171875,60352.0,58470.73046875,60624.87109375,62239.36328125,61850.48828125,61320.44921875,60963.25390625,63254.3359375,62941.8046875,61460.078125,61068.875,61554.921875,63344.06640625,67549.734375,66953.3359375,64978.890625,64863.98046875,64158.12109375,64455.37109375,65521.2890625,63721.1953125,60139.62109375,60360.13671875,56896.12890625,58115.08203125,59730.5078125,58706.84765625,56304.5546875,57565.8515625,57165.41796875,58960.28515625,53736.4296875,54813.0234375,57291.90625,57830.11328125,56907.96484375,57217.37109375,56509.1640625,53727.87890625,49201.51953125,49413.48046875,50581.828125,50667.6484375,50450.08203125,47642.14453125,47264.6328125,49354.85546875,50114.7421875,46709.82421875,48379.75390625,48900.46484375,47653.73046875,46219.25390625,46853.8671875,46707.0625,46886.078125,48937.09765625,48626.34375,50806.05078125,50854.91796875,50428.69140625,50802.609375,50679.859375,47623.87109375,46490.60546875,47169.37109375,46311.74609375,47680.92578125,47343.54296875,46458.8515625,45899.359375,43565.51171875,43153.5703125,41561.46484375,41734.7265625,41910.23046875,41819.5078125,42742.1796875,43946.7421875,42598.87109375,43101.8984375,43172.0390625,43118.12109375,42250.07421875,42374.0390625,41744.02734375,40699.60546875,36471.58984375,35047.359375,36275.734375,36654.8046875,36950.515625,36841.87890625,37128.4453125,37780.71484375,38151.91796875,37920.28125,38481.765625,38743.71484375,36944.8046875,37149.265625,41501.48046875,41441.12109375,42406.78125,43854.65234375,44096.703125,44347.80078125,43571.12890625,42412.30078125,42236.56640625,42157.3984375,42586.46484375,44578.27734375,43937.0703125,40552.1328125,40026.0234375,40118.1015625,38423.2109375,37068.76953125,38285.28125,37278.56640625,38333.74609375,39213.08203125,39098.69921875,37706.0,43194.50390625,44357.6171875,43925.1953125,42458.140625,39148.44921875,39404.19921875,38429.3046875,38059.90234375,38742.81640625,41974.0703125,39439.96875,38794.46484375,38884.7265625,37846.31640625,39664.25,39335.5703125,41140.84375,40944.83984375,41794.6484375,42191.40625,41246.1328125,41074.10546875,42364.37890625,42886.65234375,43964.546875,44349.859375,44505.35546875,46821.8515625,47100.4375,47456.8984375,47062.1484375,45554.1640625,46285.5,45859.12890625,46445.2734375,46624.5078125,45544.35546875,43207.5,43505.13671875,42282.078125,42781.08984375,42201.0390625,39533.71484375,40123.5703125,41160.21875,39939.40234375,40552.31640625,40417.77734375,39721.203125,40828.17578125,41501.74609375,41371.515625,40525.86328125,39738.72265625,39478.375,39472.60546875,40448.421875,38120.30078125,39241.4296875,39768.6171875,38605.859375,37713.265625,38472.1875,38528.109375,37748.01171875,39695.74609375,36573.18359375,36042.50390625,35502.94140625,34060.015625,30273.654296875,31016.18359375,28936.734375,29030.91015625,29285.642578125,30098.5859375,31304.375,29862.408203125,30424.478515625,28720.359375,30311.119140625,29199.859375,29432.47265625,30309.396484375,29101.125,29653.134765625,29564.77734375,29251.140625,28622.625,29019.8671875,29443.365234375,31723.865234375,31792.5546875,29794.890625,30467.806640625,29706.138671875,29835.1171875,29910.283203125,31371.7421875,31151.48046875,30215.279296875,30110.330078125,29084.666015625,28373.513671875,26737.578125,22487.986328125,22196.73046875,22576.3046875,20385.71875,20473.42578125,19010.90234375,20553.37109375,20594.294921875,20719.4140625,19986.607421875,21084.6484375,21233.609375,21496.494140625,21028.23828125,20731.544921875,20281.169921875,20108.3125,19820.470703125,19274.8359375,19242.095703125,19297.314453125,20225.353515625,20194.619140625,20547.814453125,21637.154296875,21716.828125,21591.080078125,20856.353515625,19970.474609375,19325.97265625,20211.466796875,20573.15625,20834.103515625,21195.041015625,20781.912109375,22467.849609375,23393.19140625,23233.201171875,23163.751953125,22706.984375,22465.509765625,22607.15625,21361.12109375,21244.169921875,22933.640625,23845.212890625,23796.818359375,23652.0703125,23336.71875,23308.43359375,22981.302734375,22848.21484375,22626.833984375,23291.423828125,22963.505859375,23179.52734375,23811.484375,23162.8984375,23948.345703125,23957.203125,24402.1875,24429.056640625,24318.31640625,24126.13671875,23881.31640625,23341.0390625,23213.3125,20872.841796875,21160.392578125,21531.462890625,21401.044921875,21526.455078125,21395.458984375,21596.0859375,20262.48046875,20041.03515625,19615.154296875,20298.611328125,19799.58203125,20050.498046875,20126.072265625,19969.71875,19832.470703125,19988.7890625,19817.724609375,18837.68359375,19289.94140625,19328.140625,21376.912109375,21678.54296875,21770.1484375,22371.48046875,20184.5546875,20242.2890625,19704.005859375,19777.033203125,20127.234375,19418.572265625,19545.591796875,18891.283203125,18534.650390625,19412.400390625,19296.990234375,18936.310546875,18803.900390625,19221.83984375,19104.62109375,19427.779296875,19573.431640625,19431.10546875,19311.849609375,19044.068359375,19623.583984375,20335.900390625,20161.0390625,19957.55859375,19546.328125,19417.478515625,19446.416015625,19139.0,19052.646484375,19156.966796875,19382.533203125,19185.4375,19068.9140625,19268.5625,19550.466796875,19335.02734375,19138.0859375,19053.203125,19172.380859375,19207.734375,19567.76953125,19344.96484375,20092.236328125,20772.802734375,20287.95703125,20595.103515625,20817.982421875,20633.6953125,20494.8984375,20482.958984375,20162.689453125,20208.76953125,21144.83203125,21285.056640625,20924.62109375,20600.671875,18543.76171875,15883.158203125,17583.251953125,17036.875,16799.72265625,16352.0283203125,16617.484375,16884.341796875,16670.42578125,16687.912109375,16696.220703125,16712.919921875,16291.2236328125,15782.30078125,16195.5888671875,16611.63671875,16602.26953125,16521.576171875,16463.8828125,16440.22265625,16217.6396484375,16445.4765625,17168.001953125,16968.68359375,17090.09765625,16908.169921875,17128.89453125,16975.23828125,17089.505859375,16847.349609375,17232.1484375,17134.220703125,17129.7109375,17102.5,17206.44140625,17782.06640625,17813.64453125,17364.546875,16646.982421875,16795.609375,16759.041015625,16441.787109375,16904.52734375,16818.380859375,16829.64453125,16796.9765625,16847.505859375,16842.25,16919.291015625,16716.400390625,16552.322265625,16641.330078125],\"x\":[\"2020-01-01T00:00:00.000000000\",\"2020-01-02T00:00:00.000000000\",\"2020-01-03T00:00:00.000000000\",\"2020-01-04T00:00:00.000000000\",\"2020-01-05T00:00:00.000000000\",\"2020-01-06T00:00:00.000000000\",\"2020-01-07T00:00:00.000000000\",\"2020-01-08T00:00:00.000000000\",\"2020-01-09T00:00:00.000000000\",\"2020-01-10T00:00:00.000000000\",\"2020-01-11T00:00:00.000000000\",\"2020-01-12T00:00:00.000000000\",\"2020-01-13T00:00:00.000000000\",\"2020-01-14T00:00:00.000000000\",\"2020-01-15T00:00:00.000000000\",\"2020-01-16T00:00:00.000000000\",\"2020-01-17T00:00:00.000000000\",\"2020-01-18T00:00:00.000000000\",\"2020-01-19T00:00:00.000000000\",\"2020-01-20T00:00:00.000000000\",\"2020-01-21T00:00:00.000000000\",\"2020-01-22T00:00:00.000000000\",\"2020-01-23T00:00:00.000000000\",\"2020-01-24T00:00:00.000000000\",\"2020-01-25T00:00:00.000000000\",\"2020-01-26T00:00:00.000000000\",\"2020-01-27T00:00:00.000000000\",\"2020-01-28T00:00:00.000000000\",\"2020-01-29T00:00:00.000000000\",\"2020-01-30T00:00:00.000000000\",\"2020-01-31T00:00:00.000000000\",\"2020-02-01T00:00:00.000000000\",\"2020-02-02T00:00:00.000000000\",\"2020-02-03T00:00:00.000000000\",\"2020-02-04T00:00:00.000000000\",\"2020-02-05T00:00:00.000000000\",\"2020-02-06T00:00:00.000000000\",\"2020-02-07T00:00:00.000000000\",\"2020-02-08T00:00:00.000000000\",\"2020-02-09T00:00:00.000000000\",\"2020-02-10T00:00:00.000000000\",\"2020-02-11T00:00:00.000000000\",\"2020-02-12T00:00:00.000000000\",\"2020-02-13T00:00:00.000000000\",\"2020-02-14T00:00:00.000000000\",\"2020-02-15T00:00:00.000000000\",\"2020-02-16T00:00:00.000000000\",\"2020-02-17T00:00:00.000000000\",\"2020-02-18T00:00:00.000000000\",\"2020-02-19T00:00:00.000000000\",\"2020-02-20T00:00:00.000000000\",\"2020-02-21T00:00:00.000000000\",\"2020-02-22T00:00:00.000000000\",\"2020-02-23T00:00:00.000000000\",\"2020-02-24T00:00:00.000000000\",\"2020-02-25T00:00:00.000000000\",\"2020-02-26T00:00:00.000000000\",\"2020-02-27T00:00:00.000000000\",\"2020-02-28T00:00:00.000000000\",\"2020-02-29T00:00:00.000000000\",\"2020-03-01T00:00:00.000000000\",\"2020-03-02T00:00:00.000000000\",\"2020-03-03T00:00:00.000000000\",\"2020-03-04T00:00:00.000000000\",\"2020-03-05T00:00:00.000000000\",\"2020-03-06T00:00:00.000000000\",\"2020-03-07T00:00:00.000000000\",\"2020-03-08T00:00:00.000000000\",\"2020-03-09T00:00:00.000000000\",\"2020-03-10T00:00:00.000000000\",\"2020-03-11T00:00:00.000000000\",\"2020-03-12T00:00:00.000000000\",\"2020-03-13T00:00:00.000000000\",\"2020-03-14T00:00:00.000000000\",\"2020-03-15T00:00:00.000000000\",\"2020-03-16T00:00:00.000000000\",\"2020-03-17T00:00:00.000000000\",\"2020-03-18T00:00:00.000000000\",\"2020-03-19T00:00:00.000000000\",\"2020-03-20T00:00:00.000000000\",\"2020-03-21T00:00:00.000000000\",\"2020-03-22T00:00:00.000000000\",\"2020-03-23T00:00:00.000000000\",\"2020-03-24T00:00:00.000000000\",\"2020-03-25T00:00:00.000000000\",\"2020-03-26T00:00:00.000000000\",\"2020-03-27T00:00:00.000000000\",\"2020-03-28T00:00:00.000000000\",\"2020-03-29T00:00:00.000000000\",\"2020-03-30T00:00:00.000000000\",\"2020-03-31T00:00:00.000000000\",\"2020-04-01T00:00:00.000000000\",\"2020-04-02T00:00:00.000000000\",\"2020-04-03T00:00:00.000000000\",\"2020-04-04T00:00:00.000000000\",\"2020-04-05T00:00:00.000000000\",\"2020-04-06T00:00:00.000000000\",\"2020-04-07T00:00:00.000000000\",\"2020-04-08T00:00:00.000000000\",\"2020-04-09T00:00:00.000000000\",\"2020-04-10T00:00:00.000000000\",\"2020-04-11T00:00:00.000000000\",\"2020-04-12T00:00:00.000000000\",\"2020-04-13T00:00:00.000000000\",\"2020-04-14T00:00:00.000000000\",\"2020-04-15T00:00:00.000000000\",\"2020-04-16T00:00:00.000000000\",\"2020-04-17T00:00:00.000000000\",\"2020-04-18T00:00:00.000000000\",\"2020-04-19T00:00:00.000000000\",\"2020-04-20T00:00:00.000000000\",\"2020-04-21T00:00:00.000000000\",\"2020-04-22T00:00:00.000000000\",\"2020-04-23T00:00:00.000000000\",\"2020-04-24T00:00:00.000000000\",\"2020-04-25T00:00:00.000000000\",\"2020-04-26T00:00:00.000000000\",\"2020-04-27T00:00:00.000000000\",\"2020-04-28T00:00:00.000000000\",\"2020-04-29T00:00:00.000000000\",\"2020-04-30T00:00:00.000000000\",\"2020-05-01T00:00:00.000000000\",\"2020-05-02T00:00:00.000000000\",\"2020-05-03T00:00:00.000000000\",\"2020-05-04T00:00:00.000000000\",\"2020-05-05T00:00:00.000000000\",\"2020-05-06T00:00:00.000000000\",\"2020-05-07T00:00:00.000000000\",\"2020-05-08T00:00:00.000000000\",\"2020-05-09T00:00:00.000000000\",\"2020-05-10T00:00:00.000000000\",\"2020-05-11T00:00:00.000000000\",\"2020-05-12T00:00:00.000000000\",\"2020-05-13T00:00:00.000000000\",\"2020-05-14T00:00:00.000000000\",\"2020-05-15T00:00:00.000000000\",\"2020-05-16T00:00:00.000000000\",\"2020-05-17T00:00:00.000000000\",\"2020-05-18T00:00:00.000000000\",\"2020-05-19T00:00:00.000000000\",\"2020-05-20T00:00:00.000000000\",\"2020-05-21T00:00:00.000000000\",\"2020-05-22T00:00:00.000000000\",\"2020-05-23T00:00:00.000000000\",\"2020-05-24T00:00:00.000000000\",\"2020-05-25T00:00:00.000000000\",\"2020-05-26T00:00:00.000000000\",\"2020-05-27T00:00:00.000000000\",\"2020-05-28T00:00:00.000000000\",\"2020-05-29T00:00:00.000000000\",\"2020-05-30T00:00:00.000000000\",\"2020-05-31T00:00:00.000000000\",\"2020-06-01T00:00:00.000000000\",\"2020-06-02T00:00:00.000000000\",\"2020-06-03T00:00:00.000000000\",\"2020-06-04T00:00:00.000000000\",\"2020-06-05T00:00:00.000000000\",\"2020-06-06T00:00:00.000000000\",\"2020-06-07T00:00:00.000000000\",\"2020-06-08T00:00:00.000000000\",\"2020-06-09T00:00:00.000000000\",\"2020-06-10T00:00:00.000000000\",\"2020-06-11T00:00:00.000000000\",\"2020-06-12T00:00:00.000000000\",\"2020-06-13T00:00:00.000000000\",\"2020-06-14T00:00:00.000000000\",\"2020-06-15T00:00:00.000000000\",\"2020-06-16T00:00:00.000000000\",\"2020-06-17T00:00:00.000000000\",\"2020-06-18T00:00:00.000000000\",\"2020-06-19T00:00:00.000000000\",\"2020-06-20T00:00:00.000000000\",\"2020-06-21T00:00:00.000000000\",\"2020-06-22T00:00:00.000000000\",\"2020-06-23T00:00:00.000000000\",\"2020-06-24T00:00:00.000000000\",\"2020-06-25T00:00:00.000000000\",\"2020-06-26T00:00:00.000000000\",\"2020-06-27T00:00:00.000000000\",\"2020-06-28T00:00:00.000000000\",\"2020-06-29T00:00:00.000000000\",\"2020-06-30T00:00:00.000000000\",\"2020-07-01T00:00:00.000000000\",\"2020-07-02T00:00:00.000000000\",\"2020-07-03T00:00:00.000000000\",\"2020-07-04T00:00:00.000000000\",\"2020-07-05T00:00:00.000000000\",\"2020-07-06T00:00:00.000000000\",\"2020-07-07T00:00:00.000000000\",\"2020-07-08T00:00:00.000000000\",\"2020-07-09T00:00:00.000000000\",\"2020-07-10T00:00:00.000000000\",\"2020-07-11T00:00:00.000000000\",\"2020-07-12T00:00:00.000000000\",\"2020-07-13T00:00:00.000000000\",\"2020-07-14T00:00:00.000000000\",\"2020-07-15T00:00:00.000000000\",\"2020-07-16T00:00:00.000000000\",\"2020-07-17T00:00:00.000000000\",\"2020-07-18T00:00:00.000000000\",\"2020-07-19T00:00:00.000000000\",\"2020-07-20T00:00:00.000000000\",\"2020-07-21T00:00:00.000000000\",\"2020-07-22T00:00:00.000000000\",\"2020-07-23T00:00:00.000000000\",\"2020-07-24T00:00:00.000000000\",\"2020-07-25T00:00:00.000000000\",\"2020-07-26T00:00:00.000000000\",\"2020-07-27T00:00:00.000000000\",\"2020-07-28T00:00:00.000000000\",\"2020-07-29T00:00:00.000000000\",\"2020-07-30T00:00:00.000000000\",\"2020-07-31T00:00:00.000000000\",\"2020-08-01T00:00:00.000000000\",\"2020-08-02T00:00:00.000000000\",\"2020-08-03T00:00:00.000000000\",\"2020-08-04T00:00:00.000000000\",\"2020-08-05T00:00:00.000000000\",\"2020-08-06T00:00:00.000000000\",\"2020-08-07T00:00:00.000000000\",\"2020-08-08T00:00:00.000000000\",\"2020-08-09T00:00:00.000000000\",\"2020-08-10T00:00:00.000000000\",\"2020-08-11T00:00:00.000000000\",\"2020-08-12T00:00:00.000000000\",\"2020-08-13T00:00:00.000000000\",\"2020-08-14T00:00:00.000000000\",\"2020-08-15T00:00:00.000000000\",\"2020-08-16T00:00:00.000000000\",\"2020-08-17T00:00:00.000000000\",\"2020-08-18T00:00:00.000000000\",\"2020-08-19T00:00:00.000000000\",\"2020-08-20T00:00:00.000000000\",\"2020-08-21T00:00:00.000000000\",\"2020-08-22T00:00:00.000000000\",\"2020-08-23T00:00:00.000000000\",\"2020-08-24T00:00:00.000000000\",\"2020-08-25T00:00:00.000000000\",\"2020-08-26T00:00:00.000000000\",\"2020-08-27T00:00:00.000000000\",\"2020-08-28T00:00:00.000000000\",\"2020-08-29T00:00:00.000000000\",\"2020-08-30T00:00:00.000000000\",\"2020-08-31T00:00:00.000000000\",\"2020-09-01T00:00:00.000000000\",\"2020-09-02T00:00:00.000000000\",\"2020-09-03T00:00:00.000000000\",\"2020-09-04T00:00:00.000000000\",\"2020-09-05T00:00:00.000000000\",\"2020-09-06T00:00:00.000000000\",\"2020-09-07T00:00:00.000000000\",\"2020-09-08T00:00:00.000000000\",\"2020-09-09T00:00:00.000000000\",\"2020-09-10T00:00:00.000000000\",\"2020-09-11T00:00:00.000000000\",\"2020-09-12T00:00:00.000000000\",\"2020-09-13T00:00:00.000000000\",\"2020-09-14T00:00:00.000000000\",\"2020-09-15T00:00:00.000000000\",\"2020-09-16T00:00:00.000000000\",\"2020-09-17T00:00:00.000000000\",\"2020-09-18T00:00:00.000000000\",\"2020-09-19T00:00:00.000000000\",\"2020-09-20T00:00:00.000000000\",\"2020-09-21T00:00:00.000000000\",\"2020-09-22T00:00:00.000000000\",\"2020-09-23T00:00:00.000000000\",\"2020-09-24T00:00:00.000000000\",\"2020-09-25T00:00:00.000000000\",\"2020-09-26T00:00:00.000000000\",\"2020-09-27T00:00:00.000000000\",\"2020-09-28T00:00:00.000000000\",\"2020-09-29T00:00:00.000000000\",\"2020-09-30T00:00:00.000000000\",\"2020-10-01T00:00:00.000000000\",\"2020-10-02T00:00:00.000000000\",\"2020-10-03T00:00:00.000000000\",\"2020-10-04T00:00:00.000000000\",\"2020-10-05T00:00:00.000000000\",\"2020-10-06T00:00:00.000000000\",\"2020-10-07T00:00:00.000000000\",\"2020-10-08T00:00:00.000000000\",\"2020-10-09T00:00:00.000000000\",\"2020-10-10T00:00:00.000000000\",\"2020-10-11T00:00:00.000000000\",\"2020-10-12T00:00:00.000000000\",\"2020-10-13T00:00:00.000000000\",\"2020-10-14T00:00:00.000000000\",\"2020-10-15T00:00:00.000000000\",\"2020-10-16T00:00:00.000000000\",\"2020-10-17T00:00:00.000000000\",\"2020-10-18T00:00:00.000000000\",\"2020-10-19T00:00:00.000000000\",\"2020-10-20T00:00:00.000000000\",\"2020-10-21T00:00:00.000000000\",\"2020-10-22T00:00:00.000000000\",\"2020-10-23T00:00:00.000000000\",\"2020-10-24T00:00:00.000000000\",\"2020-10-25T00:00:00.000000000\",\"2020-10-26T00:00:00.000000000\",\"2020-10-27T00:00:00.000000000\",\"2020-10-28T00:00:00.000000000\",\"2020-10-29T00:00:00.000000000\",\"2020-10-30T00:00:00.000000000\",\"2020-10-31T00:00:00.000000000\",\"2020-11-01T00:00:00.000000000\",\"2020-11-02T00:00:00.000000000\",\"2020-11-03T00:00:00.000000000\",\"2020-11-04T00:00:00.000000000\",\"2020-11-05T00:00:00.000000000\",\"2020-11-06T00:00:00.000000000\",\"2020-11-07T00:00:00.000000000\",\"2020-11-08T00:00:00.000000000\",\"2020-11-09T00:00:00.000000000\",\"2020-11-10T00:00:00.000000000\",\"2020-11-11T00:00:00.000000000\",\"2020-11-12T00:00:00.000000000\",\"2020-11-13T00:00:00.000000000\",\"2020-11-14T00:00:00.000000000\",\"2020-11-15T00:00:00.000000000\",\"2020-11-16T00:00:00.000000000\",\"2020-11-17T00:00:00.000000000\",\"2020-11-18T00:00:00.000000000\",\"2020-11-19T00:00:00.000000000\",\"2020-11-20T00:00:00.000000000\",\"2020-11-21T00:00:00.000000000\",\"2020-11-22T00:00:00.000000000\",\"2020-11-23T00:00:00.000000000\",\"2020-11-24T00:00:00.000000000\",\"2020-11-25T00:00:00.000000000\",\"2020-11-26T00:00:00.000000000\",\"2020-11-27T00:00:00.000000000\",\"2020-11-28T00:00:00.000000000\",\"2020-11-29T00:00:00.000000000\",\"2020-11-30T00:00:00.000000000\",\"2020-12-01T00:00:00.000000000\",\"2020-12-02T00:00:00.000000000\",\"2020-12-03T00:00:00.000000000\",\"2020-12-04T00:00:00.000000000\",\"2020-12-05T00:00:00.000000000\",\"2020-12-06T00:00:00.000000000\",\"2020-12-07T00:00:00.000000000\",\"2020-12-08T00:00:00.000000000\",\"2020-12-09T00:00:00.000000000\",\"2020-12-10T00:00:00.000000000\",\"2020-12-11T00:00:00.000000000\",\"2020-12-12T00:00:00.000000000\",\"2020-12-13T00:00:00.000000000\",\"2020-12-14T00:00:00.000000000\",\"2020-12-15T00:00:00.000000000\",\"2020-12-16T00:00:00.000000000\",\"2020-12-17T00:00:00.000000000\",\"2020-12-18T00:00:00.000000000\",\"2020-12-19T00:00:00.000000000\",\"2020-12-20T00:00:00.000000000\",\"2020-12-21T00:00:00.000000000\",\"2020-12-22T00:00:00.000000000\",\"2020-12-23T00:00:00.000000000\",\"2020-12-24T00:00:00.000000000\",\"2020-12-25T00:00:00.000000000\",\"2020-12-26T00:00:00.000000000\",\"2020-12-27T00:00:00.000000000\",\"2020-12-28T00:00:00.000000000\",\"2020-12-29T00:00:00.000000000\",\"2020-12-30T00:00:00.000000000\",\"2020-12-31T00:00:00.000000000\",\"2021-01-01T00:00:00.000000000\",\"2021-01-02T00:00:00.000000000\",\"2021-01-03T00:00:00.000000000\",\"2021-01-04T00:00:00.000000000\",\"2021-01-05T00:00:00.000000000\",\"2021-01-06T00:00:00.000000000\",\"2021-01-07T00:00:00.000000000\",\"2021-01-08T00:00:00.000000000\",\"2021-01-09T00:00:00.000000000\",\"2021-01-10T00:00:00.000000000\",\"2021-01-11T00:00:00.000000000\",\"2021-01-12T00:00:00.000000000\",\"2021-01-13T00:00:00.000000000\",\"2021-01-14T00:00:00.000000000\",\"2021-01-15T00:00:00.000000000\",\"2021-01-16T00:00:00.000000000\",\"2021-01-17T00:00:00.000000000\",\"2021-01-18T00:00:00.000000000\",\"2021-01-19T00:00:00.000000000\",\"2021-01-20T00:00:00.000000000\",\"2021-01-21T00:00:00.000000000\",\"2021-01-22T00:00:00.000000000\",\"2021-01-23T00:00:00.000000000\",\"2021-01-24T00:00:00.000000000\",\"2021-01-25T00:00:00.000000000\",\"2021-01-26T00:00:00.000000000\",\"2021-01-27T00:00:00.000000000\",\"2021-01-28T00:00:00.000000000\",\"2021-01-29T00:00:00.000000000\",\"2021-01-30T00:00:00.000000000\",\"2021-01-31T00:00:00.000000000\",\"2021-02-01T00:00:00.000000000\",\"2021-02-02T00:00:00.000000000\",\"2021-02-03T00:00:00.000000000\",\"2021-02-04T00:00:00.000000000\",\"2021-02-05T00:00:00.000000000\",\"2021-02-06T00:00:00.000000000\",\"2021-02-07T00:00:00.000000000\",\"2021-02-08T00:00:00.000000000\",\"2021-02-09T00:00:00.000000000\",\"2021-02-10T00:00:00.000000000\",\"2021-02-11T00:00:00.000000000\",\"2021-02-12T00:00:00.000000000\",\"2021-02-13T00:00:00.000000000\",\"2021-02-14T00:00:00.000000000\",\"2021-02-15T00:00:00.000000000\",\"2021-02-16T00:00:00.000000000\",\"2021-02-17T00:00:00.000000000\",\"2021-02-18T00:00:00.000000000\",\"2021-02-19T00:00:00.000000000\",\"2021-02-20T00:00:00.000000000\",\"2021-02-21T00:00:00.000000000\",\"2021-02-22T00:00:00.000000000\",\"2021-02-23T00:00:00.000000000\",\"2021-02-24T00:00:00.000000000\",\"2021-02-25T00:00:00.000000000\",\"2021-02-26T00:00:00.000000000\",\"2021-02-27T00:00:00.000000000\",\"2021-02-28T00:00:00.000000000\",\"2021-03-01T00:00:00.000000000\",\"2021-03-02T00:00:00.000000000\",\"2021-03-03T00:00:00.000000000\",\"2021-03-04T00:00:00.000000000\",\"2021-03-05T00:00:00.000000000\",\"2021-03-06T00:00:00.000000000\",\"2021-03-07T00:00:00.000000000\",\"2021-03-08T00:00:00.000000000\",\"2021-03-09T00:00:00.000000000\",\"2021-03-10T00:00:00.000000000\",\"2021-03-11T00:00:00.000000000\",\"2021-03-12T00:00:00.000000000\",\"2021-03-13T00:00:00.000000000\",\"2021-03-14T00:00:00.000000000\",\"2021-03-15T00:00:00.000000000\",\"2021-03-16T00:00:00.000000000\",\"2021-03-17T00:00:00.000000000\",\"2021-03-18T00:00:00.000000000\",\"2021-03-19T00:00:00.000000000\",\"2021-03-20T00:00:00.000000000\",\"2021-03-21T00:00:00.000000000\",\"2021-03-22T00:00:00.000000000\",\"2021-03-23T00:00:00.000000000\",\"2021-03-24T00:00:00.000000000\",\"2021-03-25T00:00:00.000000000\",\"2021-03-26T00:00:00.000000000\",\"2021-03-27T00:00:00.000000000\",\"2021-03-28T00:00:00.000000000\",\"2021-03-29T00:00:00.000000000\",\"2021-03-30T00:00:00.000000000\",\"2021-03-31T00:00:00.000000000\",\"2021-04-01T00:00:00.000000000\",\"2021-04-02T00:00:00.000000000\",\"2021-04-03T00:00:00.000000000\",\"2021-04-04T00:00:00.000000000\",\"2021-04-05T00:00:00.000000000\",\"2021-04-06T00:00:00.000000000\",\"2021-04-07T00:00:00.000000000\",\"2021-04-08T00:00:00.000000000\",\"2021-04-09T00:00:00.000000000\",\"2021-04-10T00:00:00.000000000\",\"2021-04-11T00:00:00.000000000\",\"2021-04-12T00:00:00.000000000\",\"2021-04-13T00:00:00.000000000\",\"2021-04-14T00:00:00.000000000\",\"2021-04-15T00:00:00.000000000\",\"2021-04-16T00:00:00.000000000\",\"2021-04-17T00:00:00.000000000\",\"2021-04-18T00:00:00.000000000\",\"2021-04-19T00:00:00.000000000\",\"2021-04-20T00:00:00.000000000\",\"2021-04-21T00:00:00.000000000\",\"2021-04-22T00:00:00.000000000\",\"2021-04-23T00:00:00.000000000\",\"2021-04-24T00:00:00.000000000\",\"2021-04-25T00:00:00.000000000\",\"2021-04-26T00:00:00.000000000\",\"2021-04-27T00:00:00.000000000\",\"2021-04-28T00:00:00.000000000\",\"2021-04-29T00:00:00.000000000\",\"2021-04-30T00:00:00.000000000\",\"2021-05-01T00:00:00.000000000\",\"2021-05-02T00:00:00.000000000\",\"2021-05-03T00:00:00.000000000\",\"2021-05-04T00:00:00.000000000\",\"2021-05-05T00:00:00.000000000\",\"2021-05-06T00:00:00.000000000\",\"2021-05-07T00:00:00.000000000\",\"2021-05-08T00:00:00.000000000\",\"2021-05-09T00:00:00.000000000\",\"2021-05-10T00:00:00.000000000\",\"2021-05-11T00:00:00.000000000\",\"2021-05-12T00:00:00.000000000\",\"2021-05-13T00:00:00.000000000\",\"2021-05-14T00:00:00.000000000\",\"2021-05-15T00:00:00.000000000\",\"2021-05-16T00:00:00.000000000\",\"2021-05-17T00:00:00.000000000\",\"2021-05-18T00:00:00.000000000\",\"2021-05-19T00:00:00.000000000\",\"2021-05-20T00:00:00.000000000\",\"2021-05-21T00:00:00.000000000\",\"2021-05-22T00:00:00.000000000\",\"2021-05-23T00:00:00.000000000\",\"2021-05-24T00:00:00.000000000\",\"2021-05-25T00:00:00.000000000\",\"2021-05-26T00:00:00.000000000\",\"2021-05-27T00:00:00.000000000\",\"2021-05-28T00:00:00.000000000\",\"2021-05-29T00:00:00.000000000\",\"2021-05-30T00:00:00.000000000\",\"2021-05-31T00:00:00.000000000\",\"2021-06-01T00:00:00.000000000\",\"2021-06-02T00:00:00.000000000\",\"2021-06-03T00:00:00.000000000\",\"2021-06-04T00:00:00.000000000\",\"2021-06-05T00:00:00.000000000\",\"2021-06-06T00:00:00.000000000\",\"2021-06-07T00:00:00.000000000\",\"2021-06-08T00:00:00.000000000\",\"2021-06-09T00:00:00.000000000\",\"2021-06-10T00:00:00.000000000\",\"2021-06-11T00:00:00.000000000\",\"2021-06-12T00:00:00.000000000\",\"2021-06-13T00:00:00.000000000\",\"2021-06-14T00:00:00.000000000\",\"2021-06-15T00:00:00.000000000\",\"2021-06-16T00:00:00.000000000\",\"2021-06-17T00:00:00.000000000\",\"2021-06-18T00:00:00.000000000\",\"2021-06-19T00:00:00.000000000\",\"2021-06-20T00:00:00.000000000\",\"2021-06-21T00:00:00.000000000\",\"2021-06-22T00:00:00.000000000\",\"2021-06-23T00:00:00.000000000\",\"2021-06-24T00:00:00.000000000\",\"2021-06-25T00:00:00.000000000\",\"2021-06-26T00:00:00.000000000\",\"2021-06-27T00:00:00.000000000\",\"2021-06-28T00:00:00.000000000\",\"2021-06-29T00:00:00.000000000\",\"2021-06-30T00:00:00.000000000\",\"2021-07-01T00:00:00.000000000\",\"2021-07-02T00:00:00.000000000\",\"2021-07-03T00:00:00.000000000\",\"2021-07-04T00:00:00.000000000\",\"2021-07-05T00:00:00.000000000\",\"2021-07-06T00:00:00.000000000\",\"2021-07-07T00:00:00.000000000\",\"2021-07-08T00:00:00.000000000\",\"2021-07-09T00:00:00.000000000\",\"2021-07-10T00:00:00.000000000\",\"2021-07-11T00:00:00.000000000\",\"2021-07-12T00:00:00.000000000\",\"2021-07-13T00:00:00.000000000\",\"2021-07-14T00:00:00.000000000\",\"2021-07-15T00:00:00.000000000\",\"2021-07-16T00:00:00.000000000\",\"2021-07-17T00:00:00.000000000\",\"2021-07-18T00:00:00.000000000\",\"2021-07-19T00:00:00.000000000\",\"2021-07-20T00:00:00.000000000\",\"2021-07-21T00:00:00.000000000\",\"2021-07-22T00:00:00.000000000\",\"2021-07-23T00:00:00.000000000\",\"2021-07-24T00:00:00.000000000\",\"2021-07-25T00:00:00.000000000\",\"2021-07-26T00:00:00.000000000\",\"2021-07-27T00:00:00.000000000\",\"2021-07-28T00:00:00.000000000\",\"2021-07-29T00:00:00.000000000\",\"2021-07-30T00:00:00.000000000\",\"2021-07-31T00:00:00.000000000\",\"2021-08-01T00:00:00.000000000\",\"2021-08-02T00:00:00.000000000\",\"2021-08-03T00:00:00.000000000\",\"2021-08-04T00:00:00.000000000\",\"2021-08-05T00:00:00.000000000\",\"2021-08-06T00:00:00.000000000\",\"2021-08-07T00:00:00.000000000\",\"2021-08-08T00:00:00.000000000\",\"2021-08-09T00:00:00.000000000\",\"2021-08-10T00:00:00.000000000\",\"2021-08-11T00:00:00.000000000\",\"2021-08-12T00:00:00.000000000\",\"2021-08-13T00:00:00.000000000\",\"2021-08-14T00:00:00.000000000\",\"2021-08-15T00:00:00.000000000\",\"2021-08-16T00:00:00.000000000\",\"2021-08-17T00:00:00.000000000\",\"2021-08-18T00:00:00.000000000\",\"2021-08-19T00:00:00.000000000\",\"2021-08-20T00:00:00.000000000\",\"2021-08-21T00:00:00.000000000\",\"2021-08-22T00:00:00.000000000\",\"2021-08-23T00:00:00.000000000\",\"2021-08-24T00:00:00.000000000\",\"2021-08-25T00:00:00.000000000\",\"2021-08-26T00:00:00.000000000\",\"2021-08-27T00:00:00.000000000\",\"2021-08-28T00:00:00.000000000\",\"2021-08-29T00:00:00.000000000\",\"2021-08-30T00:00:00.000000000\",\"2021-08-31T00:00:00.000000000\",\"2021-09-01T00:00:00.000000000\",\"2021-09-02T00:00:00.000000000\",\"2021-09-03T00:00:00.000000000\",\"2021-09-04T00:00:00.000000000\",\"2021-09-05T00:00:00.000000000\",\"2021-09-06T00:00:00.000000000\",\"2021-09-07T00:00:00.000000000\",\"2021-09-08T00:00:00.000000000\",\"2021-09-09T00:00:00.000000000\",\"2021-09-10T00:00:00.000000000\",\"2021-09-11T00:00:00.000000000\",\"2021-09-12T00:00:00.000000000\",\"2021-09-13T00:00:00.000000000\",\"2021-09-14T00:00:00.000000000\",\"2021-09-15T00:00:00.000000000\",\"2021-09-16T00:00:00.000000000\",\"2021-09-17T00:00:00.000000000\",\"2021-09-18T00:00:00.000000000\",\"2021-09-19T00:00:00.000000000\",\"2021-09-20T00:00:00.000000000\",\"2021-09-21T00:00:00.000000000\",\"2021-09-22T00:00:00.000000000\",\"2021-09-23T00:00:00.000000000\",\"2021-09-24T00:00:00.000000000\",\"2021-09-25T00:00:00.000000000\",\"2021-09-26T00:00:00.000000000\",\"2021-09-27T00:00:00.000000000\",\"2021-09-28T00:00:00.000000000\",\"2021-09-29T00:00:00.000000000\",\"2021-09-30T00:00:00.000000000\",\"2021-10-01T00:00:00.000000000\",\"2021-10-02T00:00:00.000000000\",\"2021-10-03T00:00:00.000000000\",\"2021-10-04T00:00:00.000000000\",\"2021-10-05T00:00:00.000000000\",\"2021-10-06T00:00:00.000000000\",\"2021-10-07T00:00:00.000000000\",\"2021-10-08T00:00:00.000000000\",\"2021-10-09T00:00:00.000000000\",\"2021-10-10T00:00:00.000000000\",\"2021-10-11T00:00:00.000000000\",\"2021-10-12T00:00:00.000000000\",\"2021-10-13T00:00:00.000000000\",\"2021-10-14T00:00:00.000000000\",\"2021-10-15T00:00:00.000000000\",\"2021-10-16T00:00:00.000000000\",\"2021-10-17T00:00:00.000000000\",\"2021-10-18T00:00:00.000000000\",\"2021-10-19T00:00:00.000000000\",\"2021-10-20T00:00:00.000000000\",\"2021-10-21T00:00:00.000000000\",\"2021-10-22T00:00:00.000000000\",\"2021-10-23T00:00:00.000000000\",\"2021-10-24T00:00:00.000000000\",\"2021-10-25T00:00:00.000000000\",\"2021-10-26T00:00:00.000000000\",\"2021-10-27T00:00:00.000000000\",\"2021-10-28T00:00:00.000000000\",\"2021-10-29T00:00:00.000000000\",\"2021-10-30T00:00:00.000000000\",\"2021-10-31T00:00:00.000000000\",\"2021-11-01T00:00:00.000000000\",\"2021-11-02T00:00:00.000000000\",\"2021-11-03T00:00:00.000000000\",\"2021-11-04T00:00:00.000000000\",\"2021-11-05T00:00:00.000000000\",\"2021-11-06T00:00:00.000000000\",\"2021-11-07T00:00:00.000000000\",\"2021-11-08T00:00:00.000000000\",\"2021-11-09T00:00:00.000000000\",\"2021-11-10T00:00:00.000000000\",\"2021-11-11T00:00:00.000000000\",\"2021-11-12T00:00:00.000000000\",\"2021-11-13T00:00:00.000000000\",\"2021-11-14T00:00:00.000000000\",\"2021-11-15T00:00:00.000000000\",\"2021-11-16T00:00:00.000000000\",\"2021-11-17T00:00:00.000000000\",\"2021-11-18T00:00:00.000000000\",\"2021-11-19T00:00:00.000000000\",\"2021-11-20T00:00:00.000000000\",\"2021-11-21T00:00:00.000000000\",\"2021-11-22T00:00:00.000000000\",\"2021-11-23T00:00:00.000000000\",\"2021-11-24T00:00:00.000000000\",\"2021-11-25T00:00:00.000000000\",\"2021-11-26T00:00:00.000000000\",\"2021-11-27T00:00:00.000000000\",\"2021-11-28T00:00:00.000000000\",\"2021-11-29T00:00:00.000000000\",\"2021-11-30T00:00:00.000000000\",\"2021-12-01T00:00:00.000000000\",\"2021-12-02T00:00:00.000000000\",\"2021-12-03T00:00:00.000000000\",\"2021-12-04T00:00:00.000000000\",\"2021-12-05T00:00:00.000000000\",\"2021-12-06T00:00:00.000000000\",\"2021-12-07T00:00:00.000000000\",\"2021-12-08T00:00:00.000000000\",\"2021-12-09T00:00:00.000000000\",\"2021-12-10T00:00:00.000000000\",\"2021-12-11T00:00:00.000000000\",\"2021-12-12T00:00:00.000000000\",\"2021-12-13T00:00:00.000000000\",\"2021-12-14T00:00:00.000000000\",\"2021-12-15T00:00:00.000000000\",\"2021-12-16T00:00:00.000000000\",\"2021-12-17T00:00:00.000000000\",\"2021-12-18T00:00:00.000000000\",\"2021-12-19T00:00:00.000000000\",\"2021-12-20T00:00:00.000000000\",\"2021-12-21T00:00:00.000000000\",\"2021-12-22T00:00:00.000000000\",\"2021-12-23T00:00:00.000000000\",\"2021-12-24T00:00:00.000000000\",\"2021-12-25T00:00:00.000000000\",\"2021-12-26T00:00:00.000000000\",\"2021-12-27T00:00:00.000000000\",\"2021-12-28T00:00:00.000000000\",\"2021-12-29T00:00:00.000000000\",\"2021-12-30T00:00:00.000000000\",\"2021-12-31T00:00:00.000000000\",\"2022-01-01T00:00:00.000000000\",\"2022-01-02T00:00:00.000000000\",\"2022-01-03T00:00:00.000000000\",\"2022-01-04T00:00:00.000000000\",\"2022-01-05T00:00:00.000000000\",\"2022-01-06T00:00:00.000000000\",\"2022-01-07T00:00:00.000000000\",\"2022-01-08T00:00:00.000000000\",\"2022-01-09T00:00:00.000000000\",\"2022-01-10T00:00:00.000000000\",\"2022-01-11T00:00:00.000000000\",\"2022-01-12T00:00:00.000000000\",\"2022-01-13T00:00:00.000000000\",\"2022-01-14T00:00:00.000000000\",\"2022-01-15T00:00:00.000000000\",\"2022-01-16T00:00:00.000000000\",\"2022-01-17T00:00:00.000000000\",\"2022-01-18T00:00:00.000000000\",\"2022-01-19T00:00:00.000000000\",\"2022-01-20T00:00:00.000000000\",\"2022-01-21T00:00:00.000000000\",\"2022-01-22T00:00:00.000000000\",\"2022-01-23T00:00:00.000000000\",\"2022-01-24T00:00:00.000000000\",\"2022-01-25T00:00:00.000000000\",\"2022-01-26T00:00:00.000000000\",\"2022-01-27T00:00:00.000000000\",\"2022-01-28T00:00:00.000000000\",\"2022-01-29T00:00:00.000000000\",\"2022-01-30T00:00:00.000000000\",\"2022-01-31T00:00:00.000000000\",\"2022-02-01T00:00:00.000000000\",\"2022-02-02T00:00:00.000000000\",\"2022-02-03T00:00:00.000000000\",\"2022-02-04T00:00:00.000000000\",\"2022-02-05T00:00:00.000000000\",\"2022-02-06T00:00:00.000000000\",\"2022-02-07T00:00:00.000000000\",\"2022-02-08T00:00:00.000000000\",\"2022-02-09T00:00:00.000000000\",\"2022-02-10T00:00:00.000000000\",\"2022-02-11T00:00:00.000000000\",\"2022-02-12T00:00:00.000000000\",\"2022-02-13T00:00:00.000000000\",\"2022-02-14T00:00:00.000000000\",\"2022-02-15T00:00:00.000000000\",\"2022-02-16T00:00:00.000000000\",\"2022-02-17T00:00:00.000000000\",\"2022-02-18T00:00:00.000000000\",\"2022-02-19T00:00:00.000000000\",\"2022-02-20T00:00:00.000000000\",\"2022-02-21T00:00:00.000000000\",\"2022-02-22T00:00:00.000000000\",\"2022-02-23T00:00:00.000000000\",\"2022-02-24T00:00:00.000000000\",\"2022-02-25T00:00:00.000000000\",\"2022-02-26T00:00:00.000000000\",\"2022-02-27T00:00:00.000000000\",\"2022-02-28T00:00:00.000000000\",\"2022-03-01T00:00:00.000000000\",\"2022-03-02T00:00:00.000000000\",\"2022-03-03T00:00:00.000000000\",\"2022-03-04T00:00:00.000000000\",\"2022-03-05T00:00:00.000000000\",\"2022-03-06T00:00:00.000000000\",\"2022-03-07T00:00:00.000000000\",\"2022-03-08T00:00:00.000000000\",\"2022-03-09T00:00:00.000000000\",\"2022-03-10T00:00:00.000000000\",\"2022-03-11T00:00:00.000000000\",\"2022-03-12T00:00:00.000000000\",\"2022-03-13T00:00:00.000000000\",\"2022-03-14T00:00:00.000000000\",\"2022-03-15T00:00:00.000000000\",\"2022-03-16T00:00:00.000000000\",\"2022-03-17T00:00:00.000000000\",\"2022-03-18T00:00:00.000000000\",\"2022-03-19T00:00:00.000000000\",\"2022-03-20T00:00:00.000000000\",\"2022-03-21T00:00:00.000000000\",\"2022-03-22T00:00:00.000000000\",\"2022-03-23T00:00:00.000000000\",\"2022-03-24T00:00:00.000000000\",\"2022-03-25T00:00:00.000000000\",\"2022-03-26T00:00:00.000000000\",\"2022-03-27T00:00:00.000000000\",\"2022-03-28T00:00:00.000000000\",\"2022-03-29T00:00:00.000000000\",\"2022-03-30T00:00:00.000000000\",\"2022-03-31T00:00:00.000000000\",\"2022-04-01T00:00:00.000000000\",\"2022-04-02T00:00:00.000000000\",\"2022-04-03T00:00:00.000000000\",\"2022-04-04T00:00:00.000000000\",\"2022-04-05T00:00:00.000000000\",\"2022-04-06T00:00:00.000000000\",\"2022-04-07T00:00:00.000000000\",\"2022-04-08T00:00:00.000000000\",\"2022-04-09T00:00:00.000000000\",\"2022-04-10T00:00:00.000000000\",\"2022-04-11T00:00:00.000000000\",\"2022-04-12T00:00:00.000000000\",\"2022-04-13T00:00:00.000000000\",\"2022-04-14T00:00:00.000000000\",\"2022-04-15T00:00:00.000000000\",\"2022-04-16T00:00:00.000000000\",\"2022-04-17T00:00:00.000000000\",\"2022-04-18T00:00:00.000000000\",\"2022-04-19T00:00:00.000000000\",\"2022-04-20T00:00:00.000000000\",\"2022-04-21T00:00:00.000000000\",\"2022-04-22T00:00:00.000000000\",\"2022-04-23T00:00:00.000000000\",\"2022-04-24T00:00:00.000000000\",\"2022-04-25T00:00:00.000000000\",\"2022-04-26T00:00:00.000000000\",\"2022-04-27T00:00:00.000000000\",\"2022-04-28T00:00:00.000000000\",\"2022-04-29T00:00:00.000000000\",\"2022-04-30T00:00:00.000000000\",\"2022-05-01T00:00:00.000000000\",\"2022-05-02T00:00:00.000000000\",\"2022-05-03T00:00:00.000000000\",\"2022-05-04T00:00:00.000000000\",\"2022-05-05T00:00:00.000000000\",\"2022-05-06T00:00:00.000000000\",\"2022-05-07T00:00:00.000000000\",\"2022-05-08T00:00:00.000000000\",\"2022-05-09T00:00:00.000000000\",\"2022-05-10T00:00:00.000000000\",\"2022-05-11T00:00:00.000000000\",\"2022-05-12T00:00:00.000000000\",\"2022-05-13T00:00:00.000000000\",\"2022-05-14T00:00:00.000000000\",\"2022-05-15T00:00:00.000000000\",\"2022-05-16T00:00:00.000000000\",\"2022-05-17T00:00:00.000000000\",\"2022-05-18T00:00:00.000000000\",\"2022-05-19T00:00:00.000000000\",\"2022-05-20T00:00:00.000000000\",\"2022-05-21T00:00:00.000000000\",\"2022-05-22T00:00:00.000000000\",\"2022-05-23T00:00:00.000000000\",\"2022-05-24T00:00:00.000000000\",\"2022-05-25T00:00:00.000000000\",\"2022-05-26T00:00:00.000000000\",\"2022-05-27T00:00:00.000000000\",\"2022-05-28T00:00:00.000000000\",\"2022-05-29T00:00:00.000000000\",\"2022-05-30T00:00:00.000000000\",\"2022-05-31T00:00:00.000000000\",\"2022-06-01T00:00:00.000000000\",\"2022-06-02T00:00:00.000000000\",\"2022-06-03T00:00:00.000000000\",\"2022-06-04T00:00:00.000000000\",\"2022-06-05T00:00:00.000000000\",\"2022-06-06T00:00:00.000000000\",\"2022-06-07T00:00:00.000000000\",\"2022-06-08T00:00:00.000000000\",\"2022-06-09T00:00:00.000000000\",\"2022-06-10T00:00:00.000000000\",\"2022-06-11T00:00:00.000000000\",\"2022-06-12T00:00:00.000000000\",\"2022-06-13T00:00:00.000000000\",\"2022-06-14T00:00:00.000000000\",\"2022-06-15T00:00:00.000000000\",\"2022-06-16T00:00:00.000000000\",\"2022-06-17T00:00:00.000000000\",\"2022-06-18T00:00:00.000000000\",\"2022-06-19T00:00:00.000000000\",\"2022-06-20T00:00:00.000000000\",\"2022-06-21T00:00:00.000000000\",\"2022-06-22T00:00:00.000000000\",\"2022-06-23T00:00:00.000000000\",\"2022-06-24T00:00:00.000000000\",\"2022-06-25T00:00:00.000000000\",\"2022-06-26T00:00:00.000000000\",\"2022-06-27T00:00:00.000000000\",\"2022-06-28T00:00:00.000000000\",\"2022-06-29T00:00:00.000000000\",\"2022-06-30T00:00:00.000000000\",\"2022-07-01T00:00:00.000000000\",\"2022-07-02T00:00:00.000000000\",\"2022-07-03T00:00:00.000000000\",\"2022-07-04T00:00:00.000000000\",\"2022-07-05T00:00:00.000000000\",\"2022-07-06T00:00:00.000000000\",\"2022-07-07T00:00:00.000000000\",\"2022-07-08T00:00:00.000000000\",\"2022-07-09T00:00:00.000000000\",\"2022-07-10T00:00:00.000000000\",\"2022-07-11T00:00:00.000000000\",\"2022-07-12T00:00:00.000000000\",\"2022-07-13T00:00:00.000000000\",\"2022-07-14T00:00:00.000000000\",\"2022-07-15T00:00:00.000000000\",\"2022-07-16T00:00:00.000000000\",\"2022-07-17T00:00:00.000000000\",\"2022-07-18T00:00:00.000000000\",\"2022-07-19T00:00:00.000000000\",\"2022-07-20T00:00:00.000000000\",\"2022-07-21T00:00:00.000000000\",\"2022-07-22T00:00:00.000000000\",\"2022-07-23T00:00:00.000000000\",\"2022-07-24T00:00:00.000000000\",\"2022-07-25T00:00:00.000000000\",\"2022-07-26T00:00:00.000000000\",\"2022-07-27T00:00:00.000000000\",\"2022-07-28T00:00:00.000000000\",\"2022-07-29T00:00:00.000000000\",\"2022-07-30T00:00:00.000000000\",\"2022-07-31T00:00:00.000000000\",\"2022-08-01T00:00:00.000000000\",\"2022-08-02T00:00:00.000000000\",\"2022-08-03T00:00:00.000000000\",\"2022-08-04T00:00:00.000000000\",\"2022-08-05T00:00:00.000000000\",\"2022-08-06T00:00:00.000000000\",\"2022-08-07T00:00:00.000000000\",\"2022-08-08T00:00:00.000000000\",\"2022-08-09T00:00:00.000000000\",\"2022-08-10T00:00:00.000000000\",\"2022-08-11T00:00:00.000000000\",\"2022-08-12T00:00:00.000000000\",\"2022-08-13T00:00:00.000000000\",\"2022-08-14T00:00:00.000000000\",\"2022-08-15T00:00:00.000000000\",\"2022-08-16T00:00:00.000000000\",\"2022-08-17T00:00:00.000000000\",\"2022-08-18T00:00:00.000000000\",\"2022-08-19T00:00:00.000000000\",\"2022-08-20T00:00:00.000000000\",\"2022-08-21T00:00:00.000000000\",\"2022-08-22T00:00:00.000000000\",\"2022-08-23T00:00:00.000000000\",\"2022-08-24T00:00:00.000000000\",\"2022-08-25T00:00:00.000000000\",\"2022-08-26T00:00:00.000000000\",\"2022-08-27T00:00:00.000000000\",\"2022-08-28T00:00:00.000000000\",\"2022-08-29T00:00:00.000000000\",\"2022-08-30T00:00:00.000000000\",\"2022-08-31T00:00:00.000000000\",\"2022-09-01T00:00:00.000000000\",\"2022-09-02T00:00:00.000000000\",\"2022-09-03T00:00:00.000000000\",\"2022-09-04T00:00:00.000000000\",\"2022-09-05T00:00:00.000000000\",\"2022-09-06T00:00:00.000000000\",\"2022-09-07T00:00:00.000000000\",\"2022-09-08T00:00:00.000000000\",\"2022-09-09T00:00:00.000000000\",\"2022-09-10T00:00:00.000000000\",\"2022-09-11T00:00:00.000000000\",\"2022-09-12T00:00:00.000000000\",\"2022-09-13T00:00:00.000000000\",\"2022-09-14T00:00:00.000000000\",\"2022-09-15T00:00:00.000000000\",\"2022-09-16T00:00:00.000000000\",\"2022-09-17T00:00:00.000000000\",\"2022-09-18T00:00:00.000000000\",\"2022-09-19T00:00:00.000000000\",\"2022-09-20T00:00:00.000000000\",\"2022-09-21T00:00:00.000000000\",\"2022-09-22T00:00:00.000000000\",\"2022-09-23T00:00:00.000000000\",\"2022-09-24T00:00:00.000000000\",\"2022-09-25T00:00:00.000000000\",\"2022-09-26T00:00:00.000000000\",\"2022-09-27T00:00:00.000000000\",\"2022-09-28T00:00:00.000000000\",\"2022-09-29T00:00:00.000000000\",\"2022-09-30T00:00:00.000000000\",\"2022-10-01T00:00:00.000000000\",\"2022-10-02T00:00:00.000000000\",\"2022-10-03T00:00:00.000000000\",\"2022-10-04T00:00:00.000000000\",\"2022-10-05T00:00:00.000000000\",\"2022-10-06T00:00:00.000000000\",\"2022-10-07T00:00:00.000000000\",\"2022-10-08T00:00:00.000000000\",\"2022-10-09T00:00:00.000000000\",\"2022-10-10T00:00:00.000000000\",\"2022-10-11T00:00:00.000000000\",\"2022-10-12T00:00:00.000000000\",\"2022-10-13T00:00:00.000000000\",\"2022-10-14T00:00:00.000000000\",\"2022-10-15T00:00:00.000000000\",\"2022-10-16T00:00:00.000000000\",\"2022-10-17T00:00:00.000000000\",\"2022-10-18T00:00:00.000000000\",\"2022-10-19T00:00:00.000000000\",\"2022-10-20T00:00:00.000000000\",\"2022-10-21T00:00:00.000000000\",\"2022-10-22T00:00:00.000000000\",\"2022-10-23T00:00:00.000000000\",\"2022-10-24T00:00:00.000000000\",\"2022-10-25T00:00:00.000000000\",\"2022-10-26T00:00:00.000000000\",\"2022-10-27T00:00:00.000000000\",\"2022-10-28T00:00:00.000000000\",\"2022-10-29T00:00:00.000000000\",\"2022-10-30T00:00:00.000000000\",\"2022-10-31T00:00:00.000000000\",\"2022-11-01T00:00:00.000000000\",\"2022-11-02T00:00:00.000000000\",\"2022-11-03T00:00:00.000000000\",\"2022-11-04T00:00:00.000000000\",\"2022-11-05T00:00:00.000000000\",\"2022-11-06T00:00:00.000000000\",\"2022-11-07T00:00:00.000000000\",\"2022-11-08T00:00:00.000000000\",\"2022-11-09T00:00:00.000000000\",\"2022-11-10T00:00:00.000000000\",\"2022-11-11T00:00:00.000000000\",\"2022-11-12T00:00:00.000000000\",\"2022-11-13T00:00:00.000000000\",\"2022-11-14T00:00:00.000000000\",\"2022-11-15T00:00:00.000000000\",\"2022-11-16T00:00:00.000000000\",\"2022-11-17T00:00:00.000000000\",\"2022-11-18T00:00:00.000000000\",\"2022-11-19T00:00:00.000000000\",\"2022-11-20T00:00:00.000000000\",\"2022-11-21T00:00:00.000000000\",\"2022-11-22T00:00:00.000000000\",\"2022-11-23T00:00:00.000000000\",\"2022-11-24T00:00:00.000000000\",\"2022-11-25T00:00:00.000000000\",\"2022-11-26T00:00:00.000000000\",\"2022-11-27T00:00:00.000000000\",\"2022-11-28T00:00:00.000000000\",\"2022-11-29T00:00:00.000000000\",\"2022-11-30T00:00:00.000000000\",\"2022-12-01T00:00:00.000000000\",\"2022-12-02T00:00:00.000000000\",\"2022-12-03T00:00:00.000000000\",\"2022-12-04T00:00:00.000000000\",\"2022-12-05T00:00:00.000000000\",\"2022-12-06T00:00:00.000000000\",\"2022-12-07T00:00:00.000000000\",\"2022-12-08T00:00:00.000000000\",\"2022-12-09T00:00:00.000000000\",\"2022-12-10T00:00:00.000000000\",\"2022-12-11T00:00:00.000000000\",\"2022-12-12T00:00:00.000000000\",\"2022-12-13T00:00:00.000000000\",\"2022-12-14T00:00:00.000000000\",\"2022-12-15T00:00:00.000000000\",\"2022-12-16T00:00:00.000000000\",\"2022-12-17T00:00:00.000000000\",\"2022-12-18T00:00:00.000000000\",\"2022-12-19T00:00:00.000000000\",\"2022-12-20T00:00:00.000000000\",\"2022-12-21T00:00:00.000000000\",\"2022-12-22T00:00:00.000000000\",\"2022-12-23T00:00:00.000000000\",\"2022-12-24T00:00:00.000000000\",\"2022-12-25T00:00:00.000000000\",\"2022-12-26T00:00:00.000000000\",\"2022-12-27T00:00:00.000000000\",\"2022-12-28T00:00:00.000000000\",\"2022-12-29T00:00:00.000000000\",\"2022-12-30T00:00:00.000000000\"],\"type\":\"candlestick\"}],                        {\"template\":{\"data\":{\"histogram2dcontour\":[{\"type\":\"histogram2dcontour\",\"colorbar\":{\"outlinewidth\":0,\"ticks\":\"\"},\"colorscale\":[[0.0,\"#0d0887\"],[0.1111111111111111,\"#46039f\"],[0.2222222222222222,\"#7201a8\"],[0.3333333333333333,\"#9c179e\"],[0.4444444444444444,\"#bd3786\"],[0.5555555555555556,\"#d8576b\"],[0.6666666666666666,\"#ed7953\"],[0.7777777777777778,\"#fb9f3a\"],[0.8888888888888888,\"#fdca26\"],[1.0,\"#f0f921\"]]}],\"choropleth\":[{\"type\":\"choropleth\",\"colorbar\":{\"outlinewidth\":0,\"ticks\":\"\"}}],\"histogram2d\":[{\"type\":\"histogram2d\",\"colorbar\":{\"outlinewidth\":0,\"ticks\":\"\"},\"colorscale\":[[0.0,\"#0d0887\"],[0.1111111111111111,\"#46039f\"],[0.2222222222222222,\"#7201a8\"],[0.3333333333333333,\"#9c179e\"],[0.4444444444444444,\"#bd3786\"],[0.5555555555555556,\"#d8576b\"],[0.6666666666666666,\"#ed7953\"],[0.7777777777777778,\"#fb9f3a\"],[0.8888888888888888,\"#fdca26\"],[1.0,\"#f0f921\"]]}],\"heatmap\":[{\"type\":\"heatmap\",\"colorbar\":{\"outlinewidth\":0,\"ticks\":\"\"},\"colorscale\":[[0.0,\"#0d0887\"],[0.1111111111111111,\"#46039f\"],[0.2222222222222222,\"#7201a8\"],[0.3333333333333333,\"#9c179e\"],[0.4444444444444444,\"#bd3786\"],[0.5555555555555556,\"#d8576b\"],[0.6666666666666666,\"#ed7953\"],[0.7777777777777778,\"#fb9f3a\"],[0.8888888888888888,\"#fdca26\"],[1.0,\"#f0f921\"]]}],\"heatmapgl\":[{\"type\":\"heatmapgl\",\"colorbar\":{\"outlinewidth\":0,\"ticks\":\"\"},\"colorscale\":[[0.0,\"#0d0887\"],[0.1111111111111111,\"#46039f\"],[0.2222222222222222,\"#7201a8\"],[0.3333333333333333,\"#9c179e\"],[0.4444444444444444,\"#bd3786\"],[0.5555555555555556,\"#d8576b\"],[0.6666666666666666,\"#ed7953\"],[0.7777777777777778,\"#fb9f3a\"],[0.8888888888888888,\"#fdca26\"],[1.0,\"#f0f921\"]]}],\"contourcarpet\":[{\"type\":\"contourcarpet\",\"colorbar\":{\"outlinewidth\":0,\"ticks\":\"\"}}],\"contour\":[{\"type\":\"contour\",\"colorbar\":{\"outlinewidth\":0,\"ticks\":\"\"},\"colorscale\":[[0.0,\"#0d0887\"],[0.1111111111111111,\"#46039f\"],[0.2222222222222222,\"#7201a8\"],[0.3333333333333333,\"#9c179e\"],[0.4444444444444444,\"#bd3786\"],[0.5555555555555556,\"#d8576b\"],[0.6666666666666666,\"#ed7953\"],[0.7777777777777778,\"#fb9f3a\"],[0.8888888888888888,\"#fdca26\"],[1.0,\"#f0f921\"]]}],\"surface\":[{\"type\":\"surface\",\"colorbar\":{\"outlinewidth\":0,\"ticks\":\"\"},\"colorscale\":[[0.0,\"#0d0887\"],[0.1111111111111111,\"#46039f\"],[0.2222222222222222,\"#7201a8\"],[0.3333333333333333,\"#9c179e\"],[0.4444444444444444,\"#bd3786\"],[0.5555555555555556,\"#d8576b\"],[0.6666666666666666,\"#ed7953\"],[0.7777777777777778,\"#fb9f3a\"],[0.8888888888888888,\"#fdca26\"],[1.0,\"#f0f921\"]]}],\"mesh3d\":[{\"type\":\"mesh3d\",\"colorbar\":{\"outlinewidth\":0,\"ticks\":\"\"}}],\"scatter\":[{\"fillpattern\":{\"fillmode\":\"overlay\",\"size\":10,\"solidity\":0.2},\"type\":\"scatter\"}],\"parcoords\":[{\"type\":\"parcoords\",\"line\":{\"colorbar\":{\"outlinewidth\":0,\"ticks\":\"\"}}}],\"scatterpolargl\":[{\"type\":\"scatterpolargl\",\"marker\":{\"colorbar\":{\"outlinewidth\":0,\"ticks\":\"\"}}}],\"bar\":[{\"error_x\":{\"color\":\"#2a3f5f\"},\"error_y\":{\"color\":\"#2a3f5f\"},\"marker\":{\"line\":{\"color\":\"#E5ECF6\",\"width\":0.5},\"pattern\":{\"fillmode\":\"overlay\",\"size\":10,\"solidity\":0.2}},\"type\":\"bar\"}],\"scattergeo\":[{\"type\":\"scattergeo\",\"marker\":{\"colorbar\":{\"outlinewidth\":0,\"ticks\":\"\"}}}],\"scatterpolar\":[{\"type\":\"scatterpolar\",\"marker\":{\"colorbar\":{\"outlinewidth\":0,\"ticks\":\"\"}}}],\"histogram\":[{\"marker\":{\"pattern\":{\"fillmode\":\"overlay\",\"size\":10,\"solidity\":0.2}},\"type\":\"histogram\"}],\"scattergl\":[{\"type\":\"scattergl\",\"marker\":{\"colorbar\":{\"outlinewidth\":0,\"ticks\":\"\"}}}],\"scatter3d\":[{\"type\":\"scatter3d\",\"line\":{\"colorbar\":{\"outlinewidth\":0,\"ticks\":\"\"}},\"marker\":{\"colorbar\":{\"outlinewidth\":0,\"ticks\":\"\"}}}],\"scattermapbox\":[{\"type\":\"scattermapbox\",\"marker\":{\"colorbar\":{\"outlinewidth\":0,\"ticks\":\"\"}}}],\"scatterternary\":[{\"type\":\"scatterternary\",\"marker\":{\"colorbar\":{\"outlinewidth\":0,\"ticks\":\"\"}}}],\"scattercarpet\":[{\"type\":\"scattercarpet\",\"marker\":{\"colorbar\":{\"outlinewidth\":0,\"ticks\":\"\"}}}],\"carpet\":[{\"aaxis\":{\"endlinecolor\":\"#2a3f5f\",\"gridcolor\":\"white\",\"linecolor\":\"white\",\"minorgridcolor\":\"white\",\"startlinecolor\":\"#2a3f5f\"},\"baxis\":{\"endlinecolor\":\"#2a3f5f\",\"gridcolor\":\"white\",\"linecolor\":\"white\",\"minorgridcolor\":\"white\",\"startlinecolor\":\"#2a3f5f\"},\"type\":\"carpet\"}],\"table\":[{\"cells\":{\"fill\":{\"color\":\"#EBF0F8\"},\"line\":{\"color\":\"white\"}},\"header\":{\"fill\":{\"color\":\"#C8D4E3\"},\"line\":{\"color\":\"white\"}},\"type\":\"table\"}],\"barpolar\":[{\"marker\":{\"line\":{\"color\":\"#E5ECF6\",\"width\":0.5},\"pattern\":{\"fillmode\":\"overlay\",\"size\":10,\"solidity\":0.2}},\"type\":\"barpolar\"}],\"pie\":[{\"automargin\":true,\"type\":\"pie\"}]},\"layout\":{\"autotypenumbers\":\"strict\",\"colorway\":[\"#636efa\",\"#EF553B\",\"#00cc96\",\"#ab63fa\",\"#FFA15A\",\"#19d3f3\",\"#FF6692\",\"#B6E880\",\"#FF97FF\",\"#FECB52\"],\"font\":{\"color\":\"#2a3f5f\"},\"hovermode\":\"closest\",\"hoverlabel\":{\"align\":\"left\"},\"paper_bgcolor\":\"white\",\"plot_bgcolor\":\"#E5ECF6\",\"polar\":{\"bgcolor\":\"#E5ECF6\",\"angularaxis\":{\"gridcolor\":\"white\",\"linecolor\":\"white\",\"ticks\":\"\"},\"radialaxis\":{\"gridcolor\":\"white\",\"linecolor\":\"white\",\"ticks\":\"\"}},\"ternary\":{\"bgcolor\":\"#E5ECF6\",\"aaxis\":{\"gridcolor\":\"white\",\"linecolor\":\"white\",\"ticks\":\"\"},\"baxis\":{\"gridcolor\":\"white\",\"linecolor\":\"white\",\"ticks\":\"\"},\"caxis\":{\"gridcolor\":\"white\",\"linecolor\":\"white\",\"ticks\":\"\"}},\"coloraxis\":{\"colorbar\":{\"outlinewidth\":0,\"ticks\":\"\"}},\"colorscale\":{\"sequential\":[[0.0,\"#0d0887\"],[0.1111111111111111,\"#46039f\"],[0.2222222222222222,\"#7201a8\"],[0.3333333333333333,\"#9c179e\"],[0.4444444444444444,\"#bd3786\"],[0.5555555555555556,\"#d8576b\"],[0.6666666666666666,\"#ed7953\"],[0.7777777777777778,\"#fb9f3a\"],[0.8888888888888888,\"#fdca26\"],[1.0,\"#f0f921\"]],\"sequentialminus\":[[0.0,\"#0d0887\"],[0.1111111111111111,\"#46039f\"],[0.2222222222222222,\"#7201a8\"],[0.3333333333333333,\"#9c179e\"],[0.4444444444444444,\"#bd3786\"],[0.5555555555555556,\"#d8576b\"],[0.6666666666666666,\"#ed7953\"],[0.7777777777777778,\"#fb9f3a\"],[0.8888888888888888,\"#fdca26\"],[1.0,\"#f0f921\"]],\"diverging\":[[0,\"#8e0152\"],[0.1,\"#c51b7d\"],[0.2,\"#de77ae\"],[0.3,\"#f1b6da\"],[0.4,\"#fde0ef\"],[0.5,\"#f7f7f7\"],[0.6,\"#e6f5d0\"],[0.7,\"#b8e186\"],[0.8,\"#7fbc41\"],[0.9,\"#4d9221\"],[1,\"#276419\"]]},\"xaxis\":{\"gridcolor\":\"white\",\"linecolor\":\"white\",\"ticks\":\"\",\"title\":{\"standoff\":15},\"zerolinecolor\":\"white\",\"automargin\":true,\"zerolinewidth\":2},\"yaxis\":{\"gridcolor\":\"white\",\"linecolor\":\"white\",\"ticks\":\"\",\"title\":{\"standoff\":15},\"zerolinecolor\":\"white\",\"automargin\":true,\"zerolinewidth\":2},\"scene\":{\"xaxis\":{\"backgroundcolor\":\"#E5ECF6\",\"gridcolor\":\"white\",\"linecolor\":\"white\",\"showbackground\":true,\"ticks\":\"\",\"zerolinecolor\":\"white\",\"gridwidth\":2},\"yaxis\":{\"backgroundcolor\":\"#E5ECF6\",\"gridcolor\":\"white\",\"linecolor\":\"white\",\"showbackground\":true,\"ticks\":\"\",\"zerolinecolor\":\"white\",\"gridwidth\":2},\"zaxis\":{\"backgroundcolor\":\"#E5ECF6\",\"gridcolor\":\"white\",\"linecolor\":\"white\",\"showbackground\":true,\"ticks\":\"\",\"zerolinecolor\":\"white\",\"gridwidth\":2}},\"shapedefaults\":{\"line\":{\"color\":\"#2a3f5f\"}},\"annotationdefaults\":{\"arrowcolor\":\"#2a3f5f\",\"arrowhead\":0,\"arrowwidth\":1},\"geo\":{\"bgcolor\":\"white\",\"landcolor\":\"#E5ECF6\",\"subunitcolor\":\"white\",\"showland\":true,\"showlakes\":true,\"lakecolor\":\"white\"},\"title\":{\"x\":0.05},\"mapbox\":{\"style\":\"light\"}}},\"title\":{\"text\":\"Hist\\u00f3rico de pre\\u00e7os do Bitcoin\"},\"yaxis\":{\"title\":{\"text\":\"Pre\\u00e7o (USD)\"}},\"xaxis\":{\"title\":{\"text\":\"Data\"}}},                        {\"responsive\": true}                    ).then(function(){\n",
              "                            \n",
              "var gd = document.getElementById('dcd2a496-8b51-42f7-96d1-47859a8948fe');\n",
              "var x = new MutationObserver(function (mutations, observer) {{\n",
              "        var display = window.getComputedStyle(gd).display;\n",
              "        if (!display || display === 'none') {{\n",
              "            console.log([gd, 'removed!']);\n",
              "            Plotly.purge(gd);\n",
              "            observer.disconnect();\n",
              "        }}\n",
              "}});\n",
              "\n",
              "// Listen for the removal of the full notebook cells\n",
              "var notebookContainer = gd.closest('#notebook-container');\n",
              "if (notebookContainer) {{\n",
              "    x.observe(notebookContainer, {childList: true});\n",
              "}}\n",
              "\n",
              "// Listen for the clearing of the current output cell\n",
              "var outputEl = gd.closest('.output');\n",
              "if (outputEl) {{\n",
              "    x.observe(outputEl, {childList: true});\n",
              "}}\n",
              "\n",
              "                        })                };                            </script>        </div>\n",
              "</body>\n",
              "</html>"
            ]
          },
          "metadata": {}
        }
      ]
    },
    {
      "cell_type": "code",
      "source": [
        "#plotando cnadlestick dolar\n",
        "fig_dolar = go.Figure(data=[go.Candlestick(x=df_dolar.index.values,\n",
        "                                             open=df_dolar['dolar_open'],\n",
        "                                             close=df_dolar['dolar_close'],\n",
        "                                             high=df_dolar['dolar_high'],\n",
        "                                             low=df_dolar['dolar_low'])])\n",
        "\n",
        "fig_dolar.update_layout(\n",
        "    title='Histórico de preços do Dolar',\n",
        "    yaxis_title='Preço (USD)',\n",
        "    xaxis_title='Data')\n",
        "\n",
        "fig_dolar.show()"
      ],
      "metadata": {
        "colab": {
          "base_uri": "https://localhost:8080/",
          "height": 542
        },
        "id": "91I7J1v0Amcn",
        "outputId": "cde87e30-c704-4543-d191-9f84004ea203"
      },
      "execution_count": 81,
      "outputs": [
        {
          "output_type": "display_data",
          "data": {
            "text/html": [
              "<html>\n",
              "<head><meta charset=\"utf-8\" /></head>\n",
              "<body>\n",
              "    <div>            <script src=\"https://cdnjs.cloudflare.com/ajax/libs/mathjax/2.7.5/MathJax.js?config=TeX-AMS-MML_SVG\"></script><script type=\"text/javascript\">if (window.MathJax && window.MathJax.Hub && window.MathJax.Hub.Config) {window.MathJax.Hub.Config({SVG: {font: \"STIX-Web\"}});}</script>                <script type=\"text/javascript\">window.PlotlyConfig = {MathJaxConfig: 'local'};</script>\n",
              "        <script src=\"https://cdn.plot.ly/plotly-2.18.2.min.js\"></script>                <div id=\"51ad9875-c44e-452d-9b57-b10117d64423\" class=\"plotly-graph-div\" style=\"height:525px; width:100%;\"></div>            <script type=\"text/javascript\">                                    window.PLOTLYENV=window.PLOTLYENV || {};                                    if (document.getElementById(\"51ad9875-c44e-452d-9b57-b10117d64423\")) {                    Plotly.newPlot(                        \"51ad9875-c44e-452d-9b57-b10117d64423\",                        [{\"close\":[4.0195,4.0263,4.0672,4.0618,4.0679,4.0649,4.0928,4.0962,4.1469,4.133,4.1756,4.1851,4.162,4.1902,4.2126,4.1829,4.1707,4.1816,4.2077,4.1945,4.2306,4.2432,4.2824,4.248,4.2547,4.2357,4.2825,4.3206,4.3251,4.3318,4.3552,4.3502,4.2976,4.3272,4.3559,4.3653,4.3935,4.3897,4.3883,4.3883,4.4505,4.4863,4.4735,4.4744,4.5148,4.585,4.6076,4.6272,4.7246,4.6439,4.8152,4.7916,4.8596,5.0005,5.01,5.1075,5.096,5.064,5.1447,5.0995,5.0366,5.0219,5.0997,5.1936,5.2046,5.2493,5.2533,5.3506,5.2863,5.2214,5.1233,5.107,5.1063,5.1994,5.1621,5.2367,5.2333,5.2363,5.3168,5.3163,5.458,5.5335,5.5907,5.6526,5.4999,5.3348,5.4858,5.4856,5.545,5.5783,5.714,5.8307,5.7319,5.818,5.8856,5.8852,5.8115,5.8554,5.719,5.754,5.6925,5.5507,5.5338,5.4461,5.345,5.2733,5.4045,5.3361,5.3633,5.2014,5.0622,5.119,4.9585,4.823,4.8992,4.9732,4.976,5.0505,5.1557,5.243,5.2286,5.3776,5.3105,5.2524,5.1542,5.3467,5.3561,5.484,5.4034,5.4661,5.3174,5.3596,5.3158,5.3562,5.379,5.3422,5.3413,5.3238,5.404,5.3674,5.3698,5.3311,5.3849,5.3283,5.1713,5.1166,5.2112,5.2329,5.1447,5.1533,5.1692,5.1534,5.224,5.3213,5.29,5.2902,5.3315,5.4383,5.4812,5.38,5.4333,5.369,5.4204,5.509,5.4666,5.5575,5.5568,5.6192,5.61,5.5075,5.6054,5.5691,5.3881,5.4914,5.396,5.3403,5.2914,5.3012,5.2997,5.3638,5.3078,5.321,5.3189,5.2706,5.2748,5.2377,5.2394,5.3876,5.4131,5.4704,5.5943,5.5089,5.5624,5.6627,5.6344,5.6112,5.6437,5.6851,5.5743,5.593,5.6097,5.5987,5.5318,5.5316,5.5693,5.5912,5.6126,5.6428,5.6069,5.6054,5.6066,5.5893,5.6175,5.6229,5.7055,5.7457,5.779,5.7446,5.7425,5.756,5.6635,5.525,5.3647,5.3858,5.4147,5.391,5.4581,5.4582,5.4152,5.3281,5.3629,5.3054,5.3797,5.439,5.3736,5.3237,5.3365,5.3438,5.3319,5.2061,5.2175,5.1515,5.1557,5.099,5.1202,5.1708,5.0256,5.0656,5.1189,5.0842,5.0838,5.0582,5.1022,5.1222,5.1597,5.2164,5.2165,5.2167,5.2461,5.2099,5.1937,5.194,5.194,5.2968,5.2854,5.3139,5.4101,5.4178,5.489,5.3226,5.299,5.1967,5.2927,5.2957,5.3578,5.2917,5.3506,5.4666,5.4665,5.3552,5.4138,5.441,5.4625,5.4322,5.368,5.3534,5.4266,5.3704,5.3657,5.3781,5.386,5.3665,5.3698,5.3701,5.3695,5.4105,5.427,5.3823,5.4659,5.4409,5.4062,5.5308,5.5986,5.6418,5.6761,5.6193,5.6693,5.6908,5.8755,5.8025,5.672,5.5357,5.5518,5.6156,5.6246,5.5832,5.5604,5.4917,5.5045,5.5214,5.6209,5.6475,5.7566,5.7799,5.7745,5.6315,5.7071,5.7075,5.6632,5.5904,5.6143,5.572,5.6821,5.7333,5.7166,5.6526,5.6162,5.5883,5.5461,5.5687,5.569,5.4448,5.4751,5.4364,5.449,5.343,5.3375,5.4366,5.442,5.4435,5.3542,5.276,5.2368,5.2272,5.2208,5.3061,5.309,5.2728,5.2729,5.2605,5.3094,5.2825,5.3617,5.3175,5.3312,5.3115,5.2383,5.2244,5.2172,5.1509,5.0754,5.0775,5.0495,5.0451,5.0325,5.0621,5.0552,5.1171,5.0601,5.0437,5.0545,5.0059,5.0894,5.013,4.9574,4.9667,4.9137,4.9335,4.9244,4.9559,4.9686,5.0476,5.0575,5.091,5.1969,5.2315,5.2579,5.2597,5.173,5.1622,5.0706,5.11,5.1147,5.2519,5.2205,5.1874,5.2003,5.2006,5.1761,5.169,5.1157,5.0812,5.2123,5.1747,5.1967,5.1685,5.2488,5.2301,5.2331,5.1895,5.2185,5.2524,5.2466,5.2595,5.2948,5.3794,5.4142,5.377,5.3802,5.2463,5.2117,5.2522,5.1996,5.184,5.1492,5.1858,5.1819,5.1908,5.1693,5.1692,5.3214,5.1976,5.2454,5.2144,5.2398,5.2219,5.2535,5.2883,5.324,5.2699,5.2888,5.303,5.3344,5.3914,5.4293,5.4152,5.4428,5.3628,5.4535,5.4748,5.4912,5.5188,5.5082,5.5367,5.5325,5.5133,5.5132,5.4611,5.5117,5.5844,5.5975,5.6577,5.6474,5.5563,5.5666,5.538,5.6464,5.6372,5.6815,5.6795,5.5525,5.602,5.5428,5.544,5.4804,5.491,5.3989,5.4588,5.4575,5.5028,5.5292,5.5576,5.6135,5.5865,5.5712,5.6061,5.5664,5.6093,5.6017,5.6239,5.6955,5.6462,5.6532,5.6891,5.6128,5.5327,5.5727,5.6127,5.6804,5.6815,5.6806,5.6884,5.6959,5.742,5.7451,5.654,5.6749,5.675,5.6249,5.6283,5.7032,5.571,5.5703,5.6818,5.677,5.7087,5.6834,5.6355,5.6633,5.5686,5.5338,5.5286,5.5344,5.5165,5.5666,5.4383,5.4191,5.4582,5.4877,5.4437,5.4324,5.4065,5.3674,5.3041,5.2655,5.262,5.2839,5.3279,5.2636,5.2593,5.2354,5.2496,5.2527,5.2149,5.159,5.1365,5.1718,5.1385,5.1036,5.0583,5.0097,5.1231,5.1623,5.1599,5.1595,5.0995,5.032,5.062,5.1115,5.0599,5.0123,5.011,5.0745,5.1193,5.1631,5.0757,5.039,5.0231,4.9354,4.9094,4.8258,4.8253,4.742,4.7675,4.7561,4.7685,4.739,4.6575,4.5928,4.6506,4.7161,4.7524,4.697,4.6944,4.6735,4.6899,4.7013,4.6965,4.6527,4.6675,4.6219,4.622,4.7937,4.8766,4.9989,4.9651,4.9425,4.9721,5.0848,4.9584,4.9198,5.028,5.0774,5.1617,5.1313,5.1373,5.1339,5.0602,5.0599,4.9387,4.9682,4.9309,4.8788,4.813,4.8191,4.8275,4.7677,4.7295,4.7526,4.7315,4.8151,4.7962,4.7734,4.7945,4.8696,4.8988,4.9063,4.9865,5.1154,5.1168,5.0536,5.0535,5.1518,5.188,5.1257,5.194,5.2406,5.2417,5.2366,5.2675,5.1818,5.2562,5.331,5.3293,5.3861,5.4287,5.3391,5.2536,5.3782,5.4368,5.3917,5.4233,5.4082,5.4375,5.4135,5.4714,5.4968,5.4968,5.3576,5.3511,5.2432,5.1823,5.1734,5.1838,5.2784,5.2815,5.2164,5.1646,5.1117,5.1237,5.0927,5.1581,5.0735,5.0961,5.1459,5.1642,5.1674,5.1697,5.1574,5.1037,5.1114,5.1099,5.0601,5.0282,5.1223,5.1831,5.2416,5.1681,5.1516,5.2528,5.248,5.2141,5.1462,5.093,5.1911,5.1631,5.247,5.2531,5.167,5.1417,5.1716,5.1166,5.2595,5.3898,5.3824,5.3745,5.3964,5.4154,5.1672,5.177,5.194,5.2217,5.1996,5.1901,5.3005,5.293,5.2626,5.3252,5.2808,5.2405,5.27,5.2147,5.1605,5.3032,5.3167,5.3804,5.3449,5.2949,5.1791,5.1475,5.1432,5.1137,5.0557,5.1567,5.144,5.1864,5.3449,5.325,5.3321,5.3325,5.3998,5.4231,5.3827,5.32,5.3586,5.3591,5.3208,5.4098,5.3654,5.2695,5.1851,5.1848,5.2189,5.2809,5.2352,5.2048,5.2253,5.24,5.3226,5.2938,5.2787,5.313,5.314,5.293,5.1996,5.2009,5.1665,5.1652,5.2186,5.2928,5.2676,5.286],\"high\":[4.0195,4.0412,4.0718,4.0743,4.0924,4.0784,4.0933,4.1045,4.1469,4.1616,4.1859,4.2006,4.1935,4.1917,4.2174,4.2056,4.1904,4.1916,4.2317,4.2164,4.2326,4.2722,4.2904,4.283,4.2622,4.2611,4.2862,4.3238,4.3289,4.3405,4.3557,4.3834,4.3506,4.3317,4.3641,4.3778,4.3981,4.4066,4.3883,4.3883,4.4553,4.5015,4.5138,4.5065,4.5183,4.588,4.6666,4.6713,4.7954,4.6881,4.8289,5.0284,4.8816,5.0683,5.0881,5.255,5.2133,5.0659,5.1464,5.1441,5.1115,5.0657,5.1283,5.1961,5.215,5.2747,5.285,5.3541,5.3114,5.2868,5.2489,5.1533,5.1068,5.2088,5.2123,5.2684,5.2683,5.2761,5.3201,5.3176,5.4644,5.5567,5.7484,5.726,5.6221,5.528,5.4875,5.4861,5.6143,5.6044,5.7235,5.877,5.8285,5.8404,5.8949,5.944,5.9718,5.8734,5.8565,5.7687,5.7572,5.7062,5.6256,5.5301,5.4432,5.361,5.4113,5.463,5.4196,5.37,5.2109,5.1418,5.1196,4.9774,4.9359,4.9789,4.9765,5.1118,5.226,5.2549,5.2716,5.3884,5.3821,5.2968,5.2537,5.3549,5.3802,5.4931,5.4847,5.5082,5.4763,5.3752,5.3807,5.3592,5.4017,5.3941,5.3788,5.3946,5.4098,5.4542,5.391,5.3928,5.3923,5.3913,5.3291,5.2028,5.2262,5.2533,5.2332,5.2045,5.1845,5.2165,5.2298,5.3364,5.3775,5.3204,5.3721,5.4394,5.4907,5.4822,5.4925,5.4362,5.4422,5.5149,5.5168,5.5619,5.6733,5.6332,5.6148,5.6136,5.6342,5.6223,5.5702,5.4955,5.4927,5.4309,5.3752,5.3285,5.2997,5.4096,5.362,5.3325,5.3495,5.3235,5.3016,5.2785,5.2924,5.3988,5.4979,5.4967,5.5991,5.6243,5.589,5.676,5.6786,5.6705,5.6652,5.6929,5.6774,5.6174,5.6396,5.6469,5.6013,5.5316,5.6262,5.6055,5.6483,5.6549,5.6503,5.6267,5.6294,5.6264,5.6354,5.6638,5.7127,5.7927,5.7923,5.8084,5.743,5.7667,5.7655,5.631,5.5742,5.426,5.419,5.4571,5.4904,5.5264,5.4584,5.4233,5.3725,5.3805,5.3959,5.4507,5.445,5.3956,5.3584,5.3801,5.3971,5.3301,5.2554,5.231,5.1846,5.1701,5.1392,5.1981,5.1328,5.0886,5.1307,5.1248,5.144,5.089,5.1177,5.225,5.1731,5.2215,5.2168,5.2167,5.3124,5.2473,5.2361,5.194,5.194,5.2972,5.3547,5.3597,5.4187,5.4408,5.5166,5.4942,5.355,5.3034,5.3108,5.3229,5.3685,5.3589,5.4006,5.4875,5.467,5.4783,5.4205,5.4604,5.5061,5.4863,5.4326,5.3945,5.4571,5.4562,5.4208,5.4478,5.4378,5.4118,5.4127,5.3701,5.3707,5.4331,5.4535,5.4706,5.5342,5.4843,5.4454,5.539,5.6093,5.6427,5.734,5.7729,5.6852,5.7232,5.8769,5.8787,5.8144,5.6215,5.5873,5.6568,5.6344,5.6827,5.586,5.564,5.5483,5.5509,5.6432,5.6821,5.7589,5.8069,5.8034,5.7768,5.7276,5.708,5.7101,5.6698,5.655,5.6174,5.6852,5.7425,5.7562,5.7359,5.6603,5.6781,5.6224,5.5883,5.5695,5.5669,5.524,5.4904,5.4673,5.4561,5.3798,5.4489,5.4561,5.4843,5.4478,5.3752,5.2952,5.2526,5.2823,5.3198,5.3331,5.309,5.3205,5.2814,5.3261,5.3109,5.371,5.3746,5.3474,5.3435,5.3133,5.2664,5.2632,5.2212,5.1754,5.0786,5.1154,5.0703,5.0689,5.0863,5.0922,5.1395,5.119,5.1052,5.0821,5.076,5.11,5.0824,5.0459,4.9802,4.972,4.975,4.9724,4.9714,5.0241,5.0557,5.0745,5.1007,5.2175,5.2815,5.3145,5.2597,5.285,5.2232,5.1656,5.1389,5.1281,5.2591,5.295,5.2782,5.2249,5.2332,5.2304,5.2061,5.1926,5.1165,5.2287,5.2193,5.275,5.2463,5.2586,5.2757,5.2993,5.2631,5.2347,5.2618,5.2816,5.2971,5.3046,5.3974,5.456,5.4757,5.4023,5.3828,5.2709,5.2676,5.2615,5.2266,5.1973,5.1984,5.2013,5.2017,5.2126,5.1708,5.3344,5.3347,5.2712,5.2659,5.2642,5.2722,5.2801,5.3472,5.3779,5.3374,5.3191,5.3124,5.3549,5.3945,5.4521,5.4471,5.4767,5.4432,5.4593,5.4879,5.5381,5.5295,5.5324,5.5445,5.5372,5.5737,5.5308,5.5139,5.5434,5.6125,5.6026,5.6907,5.7547,5.6587,5.6068,5.5924,5.6636,5.6636,5.6888,5.6849,5.7,5.6281,5.6075,5.5979,5.5495,5.5103,5.4945,5.4686,5.458,5.5093,5.5359,5.5775,5.6151,5.6144,5.6636,5.6235,5.5991,5.6561,5.6403,5.6704,5.6959,5.679,5.6864,5.7029,5.689,5.6364,5.5999,5.6358,5.6813,5.6986,5.7364,5.7256,5.7167,5.7467,5.7579,5.7442,5.7193,5.6753,5.7067,5.6627,5.7105,5.7039,5.5717,5.6827,5.7112,5.7242,5.7255,5.7106,5.693,5.6761,5.6012,5.556,5.5537,5.539,5.5832,5.5527,5.462,5.4752,5.5251,5.522,5.4676,5.4355,5.4331,5.3981,5.3182,5.3151,5.3232,5.3509,5.3283,5.29,5.291,5.2557,5.2659,5.267,5.2212,5.1782,5.184,5.1766,5.1552,5.108,5.0621,5.164,5.181,5.1654,5.1605,5.2233,5.1155,5.1017,5.1152,5.1011,5.0363,5.0765,5.082,5.1402,5.17,5.1599,5.108,5.076,5.0299,4.9514,4.9214,4.8591,4.8298,4.8196,4.785,4.7924,4.7965,4.7408,4.6751,4.6742,4.7263,4.7733,4.795,4.7397,4.6958,4.7056,4.7417,4.6971,4.7091,4.6866,4.6803,4.6225,4.8393,4.949,5.0023,5.0405,5.0461,4.9819,5.094,5.0841,5.0368,5.0589,5.115,5.1625,5.1666,5.1717,5.2102,5.1502,5.1045,5.0617,5.0005,4.9694,4.9314,4.8797,4.8548,4.8644,4.8442,4.7818,4.7568,4.7793,4.818,4.8169,4.8321,4.8073,4.9352,4.9082,4.9207,5.0124,5.1383,5.1519,5.135,5.0551,5.1561,5.1944,5.191,5.1962,5.2477,5.2763,5.2755,5.2792,5.2734,5.2715,5.3402,5.3352,5.4043,5.4627,5.4303,5.3696,5.3864,5.4434,5.4667,5.4906,5.4492,5.4392,5.4381,5.4729,5.5152,5.5047,5.501,5.3931,5.3526,5.274,5.2221,5.205,5.285,5.3163,5.2959,5.2782,5.1638,5.1522,5.1421,5.1712,5.1649,5.1409,5.1549,5.2144,5.2074,5.2199,5.2046,5.1579,5.1244,5.1437,5.1175,5.0917,5.1259,5.2122,5.2577,5.2422,5.1905,5.2539,5.2507,5.2523,5.2146,5.1477,5.2092,5.1986,5.2502,5.3105,5.3029,5.224,5.194,5.1859,5.2693,5.4174,5.3954,5.4236,5.43,5.4278,5.4158,5.2218,5.2442,5.2333,5.2533,5.2174,5.3057,5.3034,5.3817,5.3347,5.3307,5.2993,5.2998,5.2716,5.2773,5.3101,5.3581,5.3879,5.3927,5.3832,5.4083,5.2069,5.148,5.2244,5.117,5.1757,5.2488,5.2014,5.4155,5.4066,5.3527,5.3333,5.4057,5.5307,5.4236,5.3836,5.4005,5.4127,5.3596,5.4251,5.4307,5.3658,5.3189,5.2175,5.241,5.2916,5.2811,5.2782,5.253,5.284,5.352,5.3358,5.373,5.3481,5.3326,5.3404,5.3257,5.2207,5.2243,5.1789,5.221,5.3028,5.2967,5.3049],\"low\":[4.0195,4.0032,4.0253,4.0458,4.0543,4.0396,4.057,4.0612,4.0877,4.1205,4.1303,4.1585,4.1584,4.1624,4.1826,4.1716,4.1551,4.1646,4.1799,4.1863,4.1806,4.2304,4.244,4.2294,4.2228,4.2257,4.2083,4.2794,4.3034,4.2962,4.3231,4.3075,4.2903,4.2968,4.3252,4.3564,4.3573,4.37,4.3883,4.3875,4.3875,4.4461,4.4634,4.4692,4.4517,4.5019,4.5839,4.6101,4.7064,4.6352,4.6406,4.7496,4.6426,4.8593,4.9607,5.0082,5.0679,4.9827,5.0045,5.042,4.9726,4.9733,5.0235,5.1128,5.168,5.221,5.2221,5.2557,5.2235,5.1819,5.1112,5.0487,5.1068,5.1038,5.1484,5.2157,5.2007,5.2066,5.2642,5.3166,5.3028,5.4008,5.5339,5.5345,5.471,5.334,5.3306,5.4861,5.5187,5.4818,5.575,5.7158,5.7178,5.7651,5.742,5.8176,5.8022,5.759,5.6942,5.682,5.6694,5.5473,5.5229,5.4321,5.334,5.2691,5.2743,5.319,5.31,5.1989,5.0159,5.0244,4.9328,4.8175,4.8229,4.838,4.974,4.9765,5.0786,5.0477,5.1814,5.2277,5.2881,5.1972,5.1336,5.1525,5.2663,5.3608,5.3892,5.4005,5.2985,5.2656,5.3047,5.2609,5.288,5.3178,5.245,5.3128,5.3105,5.3306,5.2917,5.3064,5.3155,5.3269,5.1647,5.0827,5.1188,5.1596,5.141,5.1346,5.1145,5.1435,5.1531,5.2115,5.2744,5.2317,5.2915,5.3401,5.3517,5.3716,5.3819,5.349,5.3573,5.4089,5.4206,5.4345,5.5381,5.5554,5.5589,5.5049,5.5089,5.5435,5.3855,5.385,5.3344,5.3407,5.2722,5.2465,5.2997,5.3156,5.2785,5.2681,5.2583,5.2613,5.2192,5.2102,5.2264,5.2391,5.3876,5.3828,5.47,5.4926,5.5097,5.5127,5.6061,5.587,5.5739,5.6072,5.55,5.483,5.5507,5.5761,5.5104,5.5316,5.521,5.5349,5.5886,5.5975,5.5665,5.5472,5.5707,5.5627,5.5651,5.61,5.5986,5.7017,5.7439,5.7217,5.743,5.6487,5.6434,5.5223,5.3586,5.2235,5.3345,5.3738,5.3526,5.4497,5.3636,5.3221,5.274,5.2972,5.2847,5.3387,5.3703,5.3037,5.2955,5.3195,5.2737,5.2031,5.2059,5.1209,5.1164,5.057,5.0627,5.0868,5.0143,5.0288,5.01,5.0761,5.0645,5.0421,5.0592,5.1122,5.1094,5.1287,5.2168,5.2167,5.1639,5.1645,5.1519,5.194,5.194,5.1197,5.2515,5.2318,5.2989,5.3208,5.4491,5.3116,5.2702,5.191,5.1971,5.2355,5.242,5.2823,5.2314,5.3547,5.467,5.3119,5.3491,5.3898,5.4189,5.4205,5.3425,5.3201,5.3544,5.3436,5.3042,5.3535,5.3485,5.333,5.3542,5.3701,5.3685,5.3707,5.3854,5.367,5.4296,5.4075,5.3895,5.4173,5.4905,5.5553,5.6386,5.5806,5.5438,5.6517,5.6898,5.7675,5.6443,5.5257,5.5324,5.531,5.5574,5.5688,5.4763,5.4482,5.4936,5.464,5.4891,5.6174,5.6448,5.7359,5.72,5.6214,5.608,5.708,5.6323,5.5742,5.5474,5.5381,5.5665,5.63,5.6629,5.6452,5.5951,5.5658,5.5262,5.5022,5.5692,5.4373,5.4239,5.4318,5.4097,5.3429,5.3274,5.3351,5.3727,5.4113,5.3512,5.2567,5.2025,5.1964,5.2031,5.2105,5.2519,5.2442,5.2442,5.2298,5.2586,5.2698,5.2703,5.3095,5.2941,5.2867,5.2346,5.2088,5.1982,5.1399,5.0671,5.078,5.032,5.0172,5.0205,5.0181,5.0323,5.053,5.0539,5.0378,4.9921,5.0068,4.9815,5.0129,4.9569,4.9373,4.8977,4.8929,4.9171,4.9209,4.9527,4.9467,4.9875,5.0459,5.0753,5.1696,5.2186,5.2597,5.163,5.1479,5.0666,5.053,5.0742,5.1185,5.2017,5.1806,5.167,5.1583,5.1516,5.1486,5.104,5.0406,5.0754,5.1136,5.1651,5.1649,5.1101,5.2049,5.2146,5.1847,5.1636,5.2089,5.2198,5.2285,5.2358,5.2625,5.3795,5.3656,5.344,5.2452,5.2058,5.2097,5.1869,5.1817,5.1154,5.1417,5.142,5.131,5.1547,5.1704,5.1955,5.193,5.1637,5.2008,5.198,5.2148,5.2315,5.2509,5.2849,5.2626,5.2495,5.2561,5.3023,5.3067,5.3863,5.3913,5.3668,5.3527,5.3614,5.424,5.4755,5.4667,5.4768,5.4946,5.5328,5.4988,5.467,5.4337,5.4576,5.5128,5.5198,5.5979,5.6214,5.5367,5.5466,5.5367,5.5367,5.5972,5.6206,5.68,5.5447,5.5627,5.5012,5.5328,5.4559,5.4357,5.3879,5.3927,5.457,5.4296,5.4655,5.5237,5.5208,5.562,5.5672,5.554,5.5479,5.5719,5.5794,5.5778,5.577,5.6139,5.6006,5.635,5.6085,5.5256,5.5175,5.558,5.6012,5.6179,5.6574,5.6589,5.661,5.6892,5.7112,5.647,5.6259,5.6753,5.6236,5.6195,5.6235,5.5469,5.5711,5.5564,5.6371,5.6418,5.6694,5.6191,5.6286,5.5635,5.5195,5.5005,5.508,5.494,5.5043,5.4372,5.379,5.4035,5.4528,5.4278,5.3918,5.3532,5.3664,5.2838,5.2639,5.254,5.2717,5.2778,5.2491,5.2508,5.2126,5.1727,5.1805,5.1954,5.1585,5.1225,5.1238,5.1088,5.0746,5.0437,4.9939,5.005,5.0785,5.16,5.1605,5.0866,5.0188,5.0227,5.028,5.0446,4.985,5.0101,4.982,5.0373,5.0922,5.0718,5.0279,4.9924,4.9309,4.9048,4.8215,4.7649,4.7297,4.7326,4.7148,4.7252,4.7215,4.6525,4.5885,4.5805,4.646,4.6894,4.6935,4.6783,4.6215,4.6512,4.6854,4.697,4.6438,4.6379,4.608,4.6224,4.6214,4.7974,4.8777,4.9277,4.9351,4.8588,4.9657,4.9559,4.8921,4.9173,5.007,5.0784,5.109,5.091,5.105,5.0455,5.0307,4.9261,4.9197,4.879,4.8519,4.7847,4.775,4.8047,4.7501,4.7147,4.6904,4.6975,4.7218,4.771,4.7715,4.7467,4.7913,4.845,4.8648,4.8815,4.989,5.0859,5.0176,5.0538,5.054,5.1361,5.1167,5.1255,5.1659,5.2027,5.2018,5.1876,5.1754,5.1779,5.2527,5.2871,5.3287,5.387,5.3296,5.2501,5.2551,5.3695,5.3609,5.393,5.3745,5.3517,5.3646,5.3889,5.4289,5.4349,5.3566,5.3345,5.2372,5.1578,5.1448,5.1269,5.1856,5.243,5.1986,5.1553,5.1023,5.0926,5.0342,5.0605,5.064,5.0721,5.0965,5.1452,5.1283,5.1648,5.1498,5.07,5.0802,5.0852,5.054,5.01,5.0076,5.1229,5.1462,5.1575,5.1495,5.1532,5.2483,5.1783,5.1378,5.0834,5.0766,5.1495,5.1641,5.2462,5.142,5.1406,5.1188,5.1055,5.1164,5.2603,5.2963,5.3226,5.373,5.3282,5.1526,5.1083,5.1593,5.1723,5.1937,5.1625,5.177,5.2932,5.2288,5.2407,5.2531,5.2336,5.2411,5.1922,5.1404,5.1648,5.2757,5.2797,5.2406,5.28,5.1531,5.083,5.1437,5.083,5.0184,5.0461,5.1298,5.1364,5.1869,5.2484,5.2589,5.3328,5.2868,5.3866,5.3253,5.2976,5.2794,5.344,5.2991,5.304,5.3478,5.2698,5.1733,5.1628,5.1616,5.206,5.2183,5.1841,5.1905,5.2161,5.2309,5.2418,5.2734,5.2792,5.262,5.2888,5.1757,5.1586,5.1585,5.116,5.1545,5.194,5.226,5.1895],\"open\":[4.0195,4.0198,4.0253,4.0565,4.0622,4.0677,4.0647,4.0938,4.0894,4.1477,4.1313,4.1754,4.1851,4.1654,4.1885,4.2011,4.1829,4.1706,4.1835,4.2111,4.195,4.2305,4.244,4.2805,4.2478,4.2555,4.2356,4.2825,4.3204,4.325,4.3323,4.3552,4.3506,4.2999,4.3281,4.3567,4.3651,4.3941,4.3883,4.3883,4.3875,4.4485,4.5067,4.495,4.4744,4.5133,4.5988,4.6355,4.7601,4.6741,4.6406,4.8154,4.71,4.8593,5.037,5.0099,5.1098,5.0015,5.0616,5.1441,5.1004,5.0353,5.0235,5.118,5.1881,5.2252,5.2485,5.2566,5.2998,5.2817,5.2237,5.126,5.1068,5.1219,5.1811,5.2228,5.2336,5.2341,5.2864,5.3172,5.3184,5.4557,5.5339,5.5427,5.6085,5.5019,5.3346,5.4861,5.6141,5.5424,5.575,5.7158,5.8123,5.7825,5.819,5.8863,5.9248,5.811,5.8565,5.7192,5.7559,5.6925,5.5536,5.4942,5.4432,5.3418,5.2743,5.4049,5.334,5.3672,5.2007,5.0624,5.1186,4.9619,4.8229,4.9,4.974,4.9774,5.1314,5.1173,5.2446,5.2291,5.378,5.2904,5.2524,5.1525,5.3476,5.3608,5.4847,5.4005,5.466,5.3185,5.3523,5.315,5.3559,5.384,5.345,5.339,5.313,5.4032,5.3096,5.3697,5.3243,5.387,5.3291,5.1707,5.1191,5.2127,5.2332,5.1493,5.1383,5.1705,5.1541,5.2223,5.3205,5.2439,5.2915,5.3442,5.4395,5.4809,5.3819,5.4356,5.3699,5.441,5.5098,5.4674,5.5573,5.5587,5.5773,5.6112,5.509,5.606,5.57,5.385,5.4927,5.3987,5.3408,5.2901,5.2997,5.3608,5.3615,5.3095,5.3209,5.3191,5.2698,5.2762,5.2379,5.2397,5.4511,5.4146,5.4702,5.593,5.5097,5.5135,5.6614,5.6352,5.6109,5.6433,5.6498,5.5745,5.5613,5.6128,5.6,5.5316,5.5263,5.5729,5.5958,5.6097,5.6463,5.6103,5.6058,5.6088,5.5929,5.6551,5.6243,5.706,5.7466,5.7781,5.743,5.6964,5.7565,5.6129,5.5255,5.2746,5.3737,5.418,5.416,5.458,5.4148,5.4165,5.3285,5.3633,5.2913,5.378,5.4409,5.374,5.3198,5.336,5.2906,5.3158,5.2252,5.2178,5.154,5.1597,5.1,5.1206,5.1109,5.0438,5.0383,5.1145,5.0823,5.0601,5.0592,5.2012,5.122,5.1604,5.2168,5.2167,5.1784,5.246,5.2051,5.194,5.194,5.1351,5.2955,5.2863,5.3169,5.4108,5.4666,5.4893,5.3233,5.2991,5.1971,5.3025,5.2691,5.3589,5.2544,5.3547,5.467,5.4711,5.3556,5.425,5.439,5.4663,5.4326,5.3663,5.3552,5.427,5.404,5.366,5.379,5.3882,5.3953,5.3701,5.3685,5.3707,5.3877,5.4267,5.5128,5.4692,5.4409,5.445,5.534,5.587,5.6421,5.6872,5.57,5.6697,5.6898,5.8753,5.7902,5.6078,5.5362,5.5501,5.6252,5.6249,5.586,5.5609,5.5087,5.5045,5.5216,5.6213,5.6473,5.755,5.7824,5.774,5.633,5.708,5.71,5.6642,5.5904,5.6136,5.5682,5.6822,5.734,5.718,5.654,5.6142,5.5873,5.5461,5.5692,5.5669,5.4446,5.4757,5.4366,5.4526,5.3428,5.3383,5.436,5.4398,5.4455,5.3573,5.2768,5.234,5.2273,5.2227,5.3043,5.309,5.2725,5.2754,5.2608,5.3098,5.2843,5.3664,5.3204,5.3289,5.312,5.24,5.2228,5.221,5.1515,5.0786,5.1135,5.0466,5.0468,5.0363,5.065,5.059,5.1153,5.0601,5.0436,5.0587,5.0077,5.0753,5.0143,4.9577,4.9671,4.9143,4.9307,4.9325,4.9566,4.9705,5.0507,5.0551,5.0968,5.1969,5.2315,5.2597,5.2586,5.1747,5.1638,5.0715,5.1129,5.1185,5.2526,5.2413,5.1887,5.1858,5.2051,5.1769,5.171,5.1165,5.0773,5.2158,5.1708,5.1975,5.17,5.2467,5.2325,5.2334,5.1898,5.2193,5.2532,5.2439,5.282,5.2839,5.4187,5.4155,5.3795,5.3801,5.2482,5.2097,5.2577,5.1999,5.1845,5.1694,5.1864,5.183,5.192,5.1705,5.2016,5.3252,5.1677,5.249,5.2393,5.2408,5.2375,5.2568,5.2851,5.3252,5.2706,5.2618,5.3039,5.3384,5.392,5.4292,5.412,5.4432,5.3614,5.4546,5.477,5.4937,5.5187,5.5073,5.537,5.5368,5.5139,5.5139,5.4576,5.5128,5.5851,5.5987,5.6584,5.6533,5.5557,5.5668,5.5374,5.6464,5.6221,5.6849,5.6807,5.588,5.5988,5.5667,5.5477,5.501,5.4945,5.4044,5.457,5.4591,5.4986,5.5291,5.5782,5.6013,5.5854,5.5712,5.5925,5.6561,5.6085,5.6037,5.6243,5.6632,5.6514,5.6532,5.689,5.6027,5.5374,5.5599,5.6105,5.6681,5.6873,5.6693,5.6887,5.7141,5.7417,5.7425,5.6554,5.6753,5.6701,5.6262,5.6356,5.6957,5.5715,5.5668,5.6666,5.6774,5.6878,5.6869,5.634,5.6657,5.566,5.535,5.5287,5.5352,5.5217,5.5484,5.4428,5.422,5.4528,5.488,5.4456,5.4336,5.4099,5.3698,5.2983,5.2687,5.2765,5.3027,5.326,5.2634,5.26,5.2389,5.2365,5.256,5.2188,5.16,5.136,5.1718,5.1374,5.108,5.0621,5.005,5.1199,5.1638,5.1605,5.2144,5.0978,5.0517,5.0785,5.0813,5.0286,5.015,5.0132,5.0591,5.1224,5.1599,5.0778,5.0406,5.0245,4.9366,4.9108,4.8263,4.8273,4.7526,4.768,4.758,4.7709,4.7408,4.6595,4.595,4.6523,4.7093,4.7534,4.7056,4.6892,4.678,4.688,4.6971,4.6971,4.6536,4.6663,4.6224,4.6214,4.7974,4.8777,4.9992,4.9654,4.9404,4.9692,5.0841,4.9563,4.92,5.0293,5.0784,5.1622,5.1328,5.138,5.1347,5.0647,5.0617,4.9372,4.9688,4.9314,4.8797,4.8125,4.819,4.826,4.77,4.7311,4.7538,4.7319,4.8169,4.797,4.7765,4.7958,4.8712,4.8998,4.9048,4.989,5.1151,5.1178,5.0538,5.054,5.1534,5.1905,5.1255,5.1944,5.2393,5.2423,5.2387,5.268,5.1828,5.2569,5.3307,5.3299,5.387,5.4299,5.3399,5.2551,5.3786,5.4377,5.393,5.4239,5.4092,5.4381,5.4144,5.472,5.4993,5.4987,5.3576,5.3517,5.2442,5.1842,5.1759,5.1856,5.2796,5.2844,5.2145,5.1638,5.1129,5.1249,5.0945,5.1592,5.0721,5.0987,5.1469,5.1655,5.1694,5.1706,5.1576,5.105,5.1114,5.1102,5.0608,5.0285,5.1229,5.1833,5.2422,5.166,5.1547,5.2507,5.2483,5.2143,5.1477,5.0918,5.1922,5.1644,5.2462,5.2544,5.1705,5.143,5.1728,5.1173,5.2603,5.391,5.3814,5.3765,5.4013,5.4158,5.165,5.1779,5.1959,5.2215,5.1999,5.1899,5.3034,5.2725,5.2629,5.3288,5.2833,5.2414,5.2707,5.218,5.1649,5.3037,5.3166,5.3807,5.3451,5.2962,5.1803,5.1475,5.1437,5.117,5.0571,5.1572,5.1444,5.1869,5.3454,5.3253,5.3333,5.333,5.4003,5.4236,5.3832,5.3203,5.3591,5.3596,5.3213,5.408,5.3658,5.27,5.1856,5.1852,5.217,5.2811,5.2357,5.2053,5.2258,5.2404,5.3231,5.2941,5.2792,5.3133,5.3145,5.2934,5.2001,5.2013,5.167,5.1669,5.2189,5.2967,5.2681],\"x\":[\"2020-01-01T00:00:00.000000000\",\"2020-01-02T00:00:00.000000000\",\"2020-01-03T00:00:00.000000000\",\"2020-01-06T00:00:00.000000000\",\"2020-01-07T00:00:00.000000000\",\"2020-01-08T00:00:00.000000000\",\"2020-01-09T00:00:00.000000000\",\"2020-01-10T00:00:00.000000000\",\"2020-01-13T00:00:00.000000000\",\"2020-01-14T00:00:00.000000000\",\"2020-01-15T00:00:00.000000000\",\"2020-01-16T00:00:00.000000000\",\"2020-01-17T00:00:00.000000000\",\"2020-01-20T00:00:00.000000000\",\"2020-01-21T00:00:00.000000000\",\"2020-01-22T00:00:00.000000000\",\"2020-01-23T00:00:00.000000000\",\"2020-01-24T00:00:00.000000000\",\"2020-01-27T00:00:00.000000000\",\"2020-01-28T00:00:00.000000000\",\"2020-01-29T00:00:00.000000000\",\"2020-01-30T00:00:00.000000000\",\"2020-01-31T00:00:00.000000000\",\"2020-02-03T00:00:00.000000000\",\"2020-02-04T00:00:00.000000000\",\"2020-02-05T00:00:00.000000000\",\"2020-02-06T00:00:00.000000000\",\"2020-02-07T00:00:00.000000000\",\"2020-02-10T00:00:00.000000000\",\"2020-02-11T00:00:00.000000000\",\"2020-02-12T00:00:00.000000000\",\"2020-02-13T00:00:00.000000000\",\"2020-02-14T00:00:00.000000000\",\"2020-02-17T00:00:00.000000000\",\"2020-02-18T00:00:00.000000000\",\"2020-02-19T00:00:00.000000000\",\"2020-02-20T00:00:00.000000000\",\"2020-02-21T00:00:00.000000000\",\"2020-02-24T00:00:00.000000000\",\"2020-02-25T00:00:00.000000000\",\"2020-02-26T00:00:00.000000000\",\"2020-02-27T00:00:00.000000000\",\"2020-02-28T00:00:00.000000000\",\"2020-03-02T00:00:00.000000000\",\"2020-03-03T00:00:00.000000000\",\"2020-03-04T00:00:00.000000000\",\"2020-03-05T00:00:00.000000000\",\"2020-03-06T00:00:00.000000000\",\"2020-03-09T00:00:00.000000000\",\"2020-03-10T00:00:00.000000000\",\"2020-03-11T00:00:00.000000000\",\"2020-03-12T00:00:00.000000000\",\"2020-03-13T00:00:00.000000000\",\"2020-03-16T00:00:00.000000000\",\"2020-03-17T00:00:00.000000000\",\"2020-03-18T00:00:00.000000000\",\"2020-03-19T00:00:00.000000000\",\"2020-03-20T00:00:00.000000000\",\"2020-03-23T00:00:00.000000000\",\"2020-03-24T00:00:00.000000000\",\"2020-03-25T00:00:00.000000000\",\"2020-03-26T00:00:00.000000000\",\"2020-03-27T00:00:00.000000000\",\"2020-03-30T00:00:00.000000000\",\"2020-03-31T00:00:00.000000000\",\"2020-04-01T00:00:00.000000000\",\"2020-04-02T00:00:00.000000000\",\"2020-04-03T00:00:00.000000000\",\"2020-04-06T00:00:00.000000000\",\"2020-04-07T00:00:00.000000000\",\"2020-04-08T00:00:00.000000000\",\"2020-04-09T00:00:00.000000000\",\"2020-04-10T00:00:00.000000000\",\"2020-04-13T00:00:00.000000000\",\"2020-04-14T00:00:00.000000000\",\"2020-04-15T00:00:00.000000000\",\"2020-04-16T00:00:00.000000000\",\"2020-04-17T00:00:00.000000000\",\"2020-04-20T00:00:00.000000000\",\"2020-04-21T00:00:00.000000000\",\"2020-04-22T00:00:00.000000000\",\"2020-04-23T00:00:00.000000000\",\"2020-04-24T00:00:00.000000000\",\"2020-04-27T00:00:00.000000000\",\"2020-04-28T00:00:00.000000000\",\"2020-04-29T00:00:00.000000000\",\"2020-04-30T00:00:00.000000000\",\"2020-05-01T00:00:00.000000000\",\"2020-05-04T00:00:00.000000000\",\"2020-05-05T00:00:00.000000000\",\"2020-05-06T00:00:00.000000000\",\"2020-05-07T00:00:00.000000000\",\"2020-05-08T00:00:00.000000000\",\"2020-05-11T00:00:00.000000000\",\"2020-05-12T00:00:00.000000000\",\"2020-05-13T00:00:00.000000000\",\"2020-05-14T00:00:00.000000000\",\"2020-05-15T00:00:00.000000000\",\"2020-05-18T00:00:00.000000000\",\"2020-05-19T00:00:00.000000000\",\"2020-05-20T00:00:00.000000000\",\"2020-05-21T00:00:00.000000000\",\"2020-05-22T00:00:00.000000000\",\"2020-05-25T00:00:00.000000000\",\"2020-05-26T00:00:00.000000000\",\"2020-05-27T00:00:00.000000000\",\"2020-05-28T00:00:00.000000000\",\"2020-05-29T00:00:00.000000000\",\"2020-06-01T00:00:00.000000000\",\"2020-06-02T00:00:00.000000000\",\"2020-06-03T00:00:00.000000000\",\"2020-06-04T00:00:00.000000000\",\"2020-06-05T00:00:00.000000000\",\"2020-06-08T00:00:00.000000000\",\"2020-06-09T00:00:00.000000000\",\"2020-06-10T00:00:00.000000000\",\"2020-06-11T00:00:00.000000000\",\"2020-06-12T00:00:00.000000000\",\"2020-06-15T00:00:00.000000000\",\"2020-06-16T00:00:00.000000000\",\"2020-06-17T00:00:00.000000000\",\"2020-06-18T00:00:00.000000000\",\"2020-06-19T00:00:00.000000000\",\"2020-06-22T00:00:00.000000000\",\"2020-06-23T00:00:00.000000000\",\"2020-06-24T00:00:00.000000000\",\"2020-06-25T00:00:00.000000000\",\"2020-06-26T00:00:00.000000000\",\"2020-06-29T00:00:00.000000000\",\"2020-06-30T00:00:00.000000000\",\"2020-07-01T00:00:00.000000000\",\"2020-07-02T00:00:00.000000000\",\"2020-07-03T00:00:00.000000000\",\"2020-07-06T00:00:00.000000000\",\"2020-07-07T00:00:00.000000000\",\"2020-07-08T00:00:00.000000000\",\"2020-07-09T00:00:00.000000000\",\"2020-07-10T00:00:00.000000000\",\"2020-07-13T00:00:00.000000000\",\"2020-07-14T00:00:00.000000000\",\"2020-07-15T00:00:00.000000000\",\"2020-07-16T00:00:00.000000000\",\"2020-07-17T00:00:00.000000000\",\"2020-07-20T00:00:00.000000000\",\"2020-07-21T00:00:00.000000000\",\"2020-07-22T00:00:00.000000000\",\"2020-07-23T00:00:00.000000000\",\"2020-07-24T00:00:00.000000000\",\"2020-07-27T00:00:00.000000000\",\"2020-07-28T00:00:00.000000000\",\"2020-07-29T00:00:00.000000000\",\"2020-07-30T00:00:00.000000000\",\"2020-07-31T00:00:00.000000000\",\"2020-08-03T00:00:00.000000000\",\"2020-08-04T00:00:00.000000000\",\"2020-08-05T00:00:00.000000000\",\"2020-08-06T00:00:00.000000000\",\"2020-08-07T00:00:00.000000000\",\"2020-08-10T00:00:00.000000000\",\"2020-08-11T00:00:00.000000000\",\"2020-08-12T00:00:00.000000000\",\"2020-08-13T00:00:00.000000000\",\"2020-08-14T00:00:00.000000000\",\"2020-08-17T00:00:00.000000000\",\"2020-08-18T00:00:00.000000000\",\"2020-08-19T00:00:00.000000000\",\"2020-08-20T00:00:00.000000000\",\"2020-08-21T00:00:00.000000000\",\"2020-08-24T00:00:00.000000000\",\"2020-08-25T00:00:00.000000000\",\"2020-08-26T00:00:00.000000000\",\"2020-08-27T00:00:00.000000000\",\"2020-08-28T00:00:00.000000000\",\"2020-08-31T00:00:00.000000000\",\"2020-09-01T00:00:00.000000000\",\"2020-09-02T00:00:00.000000000\",\"2020-09-03T00:00:00.000000000\",\"2020-09-04T00:00:00.000000000\",\"2020-09-07T00:00:00.000000000\",\"2020-09-08T00:00:00.000000000\",\"2020-09-09T00:00:00.000000000\",\"2020-09-10T00:00:00.000000000\",\"2020-09-11T00:00:00.000000000\",\"2020-09-14T00:00:00.000000000\",\"2020-09-15T00:00:00.000000000\",\"2020-09-16T00:00:00.000000000\",\"2020-09-17T00:00:00.000000000\",\"2020-09-18T00:00:00.000000000\",\"2020-09-21T00:00:00.000000000\",\"2020-09-22T00:00:00.000000000\",\"2020-09-23T00:00:00.000000000\",\"2020-09-24T00:00:00.000000000\",\"2020-09-25T00:00:00.000000000\",\"2020-09-28T00:00:00.000000000\",\"2020-09-29T00:00:00.000000000\",\"2020-09-30T00:00:00.000000000\",\"2020-10-01T00:00:00.000000000\",\"2020-10-02T00:00:00.000000000\",\"2020-10-05T00:00:00.000000000\",\"2020-10-06T00:00:00.000000000\",\"2020-10-07T00:00:00.000000000\",\"2020-10-08T00:00:00.000000000\",\"2020-10-09T00:00:00.000000000\",\"2020-10-12T00:00:00.000000000\",\"2020-10-13T00:00:00.000000000\",\"2020-10-14T00:00:00.000000000\",\"2020-10-15T00:00:00.000000000\",\"2020-10-16T00:00:00.000000000\",\"2020-10-19T00:00:00.000000000\",\"2020-10-20T00:00:00.000000000\",\"2020-10-21T00:00:00.000000000\",\"2020-10-22T00:00:00.000000000\",\"2020-10-23T00:00:00.000000000\",\"2020-10-26T00:00:00.000000000\",\"2020-10-27T00:00:00.000000000\",\"2020-10-28T00:00:00.000000000\",\"2020-10-29T00:00:00.000000000\",\"2020-10-30T00:00:00.000000000\",\"2020-11-02T00:00:00.000000000\",\"2020-11-03T00:00:00.000000000\",\"2020-11-04T00:00:00.000000000\",\"2020-11-05T00:00:00.000000000\",\"2020-11-06T00:00:00.000000000\",\"2020-11-09T00:00:00.000000000\",\"2020-11-10T00:00:00.000000000\",\"2020-11-11T00:00:00.000000000\",\"2020-11-12T00:00:00.000000000\",\"2020-11-13T00:00:00.000000000\",\"2020-11-16T00:00:00.000000000\",\"2020-11-17T00:00:00.000000000\",\"2020-11-18T00:00:00.000000000\",\"2020-11-19T00:00:00.000000000\",\"2020-11-20T00:00:00.000000000\",\"2020-11-23T00:00:00.000000000\",\"2020-11-24T00:00:00.000000000\",\"2020-11-25T00:00:00.000000000\",\"2020-11-26T00:00:00.000000000\",\"2020-11-27T00:00:00.000000000\",\"2020-11-30T00:00:00.000000000\",\"2020-12-01T00:00:00.000000000\",\"2020-12-02T00:00:00.000000000\",\"2020-12-03T00:00:00.000000000\",\"2020-12-04T00:00:00.000000000\",\"2020-12-07T00:00:00.000000000\",\"2020-12-08T00:00:00.000000000\",\"2020-12-09T00:00:00.000000000\",\"2020-12-10T00:00:00.000000000\",\"2020-12-11T00:00:00.000000000\",\"2020-12-14T00:00:00.000000000\",\"2020-12-15T00:00:00.000000000\",\"2020-12-16T00:00:00.000000000\",\"2020-12-17T00:00:00.000000000\",\"2020-12-18T00:00:00.000000000\",\"2020-12-21T00:00:00.000000000\",\"2020-12-22T00:00:00.000000000\",\"2020-12-23T00:00:00.000000000\",\"2020-12-24T00:00:00.000000000\",\"2020-12-25T00:00:00.000000000\",\"2020-12-28T00:00:00.000000000\",\"2020-12-29T00:00:00.000000000\",\"2020-12-30T00:00:00.000000000\",\"2020-12-31T00:00:00.000000000\",\"2021-01-01T00:00:00.000000000\",\"2021-01-04T00:00:00.000000000\",\"2021-01-05T00:00:00.000000000\",\"2021-01-06T00:00:00.000000000\",\"2021-01-07T00:00:00.000000000\",\"2021-01-08T00:00:00.000000000\",\"2021-01-11T00:00:00.000000000\",\"2021-01-12T00:00:00.000000000\",\"2021-01-13T00:00:00.000000000\",\"2021-01-14T00:00:00.000000000\",\"2021-01-15T00:00:00.000000000\",\"2021-01-18T00:00:00.000000000\",\"2021-01-19T00:00:00.000000000\",\"2021-01-20T00:00:00.000000000\",\"2021-01-21T00:00:00.000000000\",\"2021-01-22T00:00:00.000000000\",\"2021-01-25T00:00:00.000000000\",\"2021-01-26T00:00:00.000000000\",\"2021-01-27T00:00:00.000000000\",\"2021-01-28T00:00:00.000000000\",\"2021-01-29T00:00:00.000000000\",\"2021-02-01T00:00:00.000000000\",\"2021-02-02T00:00:00.000000000\",\"2021-02-03T00:00:00.000000000\",\"2021-02-04T00:00:00.000000000\",\"2021-02-05T00:00:00.000000000\",\"2021-02-08T00:00:00.000000000\",\"2021-02-09T00:00:00.000000000\",\"2021-02-10T00:00:00.000000000\",\"2021-02-11T00:00:00.000000000\",\"2021-02-12T00:00:00.000000000\",\"2021-02-15T00:00:00.000000000\",\"2021-02-16T00:00:00.000000000\",\"2021-02-17T00:00:00.000000000\",\"2021-02-18T00:00:00.000000000\",\"2021-02-19T00:00:00.000000000\",\"2021-02-22T00:00:00.000000000\",\"2021-02-23T00:00:00.000000000\",\"2021-02-24T00:00:00.000000000\",\"2021-02-25T00:00:00.000000000\",\"2021-02-26T00:00:00.000000000\",\"2021-03-01T00:00:00.000000000\",\"2021-03-02T00:00:00.000000000\",\"2021-03-03T00:00:00.000000000\",\"2021-03-04T00:00:00.000000000\",\"2021-03-05T00:00:00.000000000\",\"2021-03-08T00:00:00.000000000\",\"2021-03-09T00:00:00.000000000\",\"2021-03-10T00:00:00.000000000\",\"2021-03-11T00:00:00.000000000\",\"2021-03-12T00:00:00.000000000\",\"2021-03-15T00:00:00.000000000\",\"2021-03-16T00:00:00.000000000\",\"2021-03-17T00:00:00.000000000\",\"2021-03-18T00:00:00.000000000\",\"2021-03-19T00:00:00.000000000\",\"2021-03-22T00:00:00.000000000\",\"2021-03-23T00:00:00.000000000\",\"2021-03-24T00:00:00.000000000\",\"2021-03-25T00:00:00.000000000\",\"2021-03-26T00:00:00.000000000\",\"2021-03-29T00:00:00.000000000\",\"2021-03-30T00:00:00.000000000\",\"2021-03-31T00:00:00.000000000\",\"2021-04-01T00:00:00.000000000\",\"2021-04-02T00:00:00.000000000\",\"2021-04-05T00:00:00.000000000\",\"2021-04-06T00:00:00.000000000\",\"2021-04-07T00:00:00.000000000\",\"2021-04-08T00:00:00.000000000\",\"2021-04-09T00:00:00.000000000\",\"2021-04-12T00:00:00.000000000\",\"2021-04-13T00:00:00.000000000\",\"2021-04-14T00:00:00.000000000\",\"2021-04-15T00:00:00.000000000\",\"2021-04-16T00:00:00.000000000\",\"2021-04-19T00:00:00.000000000\",\"2021-04-20T00:00:00.000000000\",\"2021-04-21T00:00:00.000000000\",\"2021-04-22T00:00:00.000000000\",\"2021-04-23T00:00:00.000000000\",\"2021-04-26T00:00:00.000000000\",\"2021-04-27T00:00:00.000000000\",\"2021-04-28T00:00:00.000000000\",\"2021-04-29T00:00:00.000000000\",\"2021-04-30T00:00:00.000000000\",\"2021-05-03T00:00:00.000000000\",\"2021-05-04T00:00:00.000000000\",\"2021-05-05T00:00:00.000000000\",\"2021-05-06T00:00:00.000000000\",\"2021-05-07T00:00:00.000000000\",\"2021-05-10T00:00:00.000000000\",\"2021-05-11T00:00:00.000000000\",\"2021-05-12T00:00:00.000000000\",\"2021-05-13T00:00:00.000000000\",\"2021-05-14T00:00:00.000000000\",\"2021-05-17T00:00:00.000000000\",\"2021-05-18T00:00:00.000000000\",\"2021-05-19T00:00:00.000000000\",\"2021-05-20T00:00:00.000000000\",\"2021-05-21T00:00:00.000000000\",\"2021-05-24T00:00:00.000000000\",\"2021-05-25T00:00:00.000000000\",\"2021-05-26T00:00:00.000000000\",\"2021-05-27T00:00:00.000000000\",\"2021-05-28T00:00:00.000000000\",\"2021-05-31T00:00:00.000000000\",\"2021-06-01T00:00:00.000000000\",\"2021-06-02T00:00:00.000000000\",\"2021-06-03T00:00:00.000000000\",\"2021-06-04T00:00:00.000000000\",\"2021-06-07T00:00:00.000000000\",\"2021-06-08T00:00:00.000000000\",\"2021-06-09T00:00:00.000000000\",\"2021-06-10T00:00:00.000000000\",\"2021-06-11T00:00:00.000000000\",\"2021-06-14T00:00:00.000000000\",\"2021-06-15T00:00:00.000000000\",\"2021-06-16T00:00:00.000000000\",\"2021-06-17T00:00:00.000000000\",\"2021-06-18T00:00:00.000000000\",\"2021-06-21T00:00:00.000000000\",\"2021-06-22T00:00:00.000000000\",\"2021-06-23T00:00:00.000000000\",\"2021-06-24T00:00:00.000000000\",\"2021-06-25T00:00:00.000000000\",\"2021-06-28T00:00:00.000000000\",\"2021-06-29T00:00:00.000000000\",\"2021-06-30T00:00:00.000000000\",\"2021-07-01T00:00:00.000000000\",\"2021-07-02T00:00:00.000000000\",\"2021-07-05T00:00:00.000000000\",\"2021-07-06T00:00:00.000000000\",\"2021-07-07T00:00:00.000000000\",\"2021-07-08T00:00:00.000000000\",\"2021-07-09T00:00:00.000000000\",\"2021-07-12T00:00:00.000000000\",\"2021-07-13T00:00:00.000000000\",\"2021-07-14T00:00:00.000000000\",\"2021-07-15T00:00:00.000000000\",\"2021-07-16T00:00:00.000000000\",\"2021-07-19T00:00:00.000000000\",\"2021-07-20T00:00:00.000000000\",\"2021-07-21T00:00:00.000000000\",\"2021-07-22T00:00:00.000000000\",\"2021-07-23T00:00:00.000000000\",\"2021-07-26T00:00:00.000000000\",\"2021-07-27T00:00:00.000000000\",\"2021-07-28T00:00:00.000000000\",\"2021-07-29T00:00:00.000000000\",\"2021-07-30T00:00:00.000000000\",\"2021-08-02T00:00:00.000000000\",\"2021-08-03T00:00:00.000000000\",\"2021-08-04T00:00:00.000000000\",\"2021-08-05T00:00:00.000000000\",\"2021-08-06T00:00:00.000000000\",\"2021-08-09T00:00:00.000000000\",\"2021-08-10T00:00:00.000000000\",\"2021-08-11T00:00:00.000000000\",\"2021-08-12T00:00:00.000000000\",\"2021-08-13T00:00:00.000000000\",\"2021-08-16T00:00:00.000000000\",\"2021-08-17T00:00:00.000000000\",\"2021-08-18T00:00:00.000000000\",\"2021-08-19T00:00:00.000000000\",\"2021-08-20T00:00:00.000000000\",\"2021-08-23T00:00:00.000000000\",\"2021-08-24T00:00:00.000000000\",\"2021-08-25T00:00:00.000000000\",\"2021-08-26T00:00:00.000000000\",\"2021-08-27T00:00:00.000000000\",\"2021-08-30T00:00:00.000000000\",\"2021-08-31T00:00:00.000000000\",\"2021-09-01T00:00:00.000000000\",\"2021-09-02T00:00:00.000000000\",\"2021-09-03T00:00:00.000000000\",\"2021-09-06T00:00:00.000000000\",\"2021-09-07T00:00:00.000000000\",\"2021-09-08T00:00:00.000000000\",\"2021-09-09T00:00:00.000000000\",\"2021-09-10T00:00:00.000000000\",\"2021-09-13T00:00:00.000000000\",\"2021-09-14T00:00:00.000000000\",\"2021-09-15T00:00:00.000000000\",\"2021-09-16T00:00:00.000000000\",\"2021-09-17T00:00:00.000000000\",\"2021-09-20T00:00:00.000000000\",\"2021-09-21T00:00:00.000000000\",\"2021-09-22T00:00:00.000000000\",\"2021-09-23T00:00:00.000000000\",\"2021-09-24T00:00:00.000000000\",\"2021-09-27T00:00:00.000000000\",\"2021-09-28T00:00:00.000000000\",\"2021-09-29T00:00:00.000000000\",\"2021-09-30T00:00:00.000000000\",\"2021-10-01T00:00:00.000000000\",\"2021-10-04T00:00:00.000000000\",\"2021-10-05T00:00:00.000000000\",\"2021-10-06T00:00:00.000000000\",\"2021-10-07T00:00:00.000000000\",\"2021-10-08T00:00:00.000000000\",\"2021-10-11T00:00:00.000000000\",\"2021-10-12T00:00:00.000000000\",\"2021-10-13T00:00:00.000000000\",\"2021-10-14T00:00:00.000000000\",\"2021-10-15T00:00:00.000000000\",\"2021-10-18T00:00:00.000000000\",\"2021-10-19T00:00:00.000000000\",\"2021-10-20T00:00:00.000000000\",\"2021-10-21T00:00:00.000000000\",\"2021-10-22T00:00:00.000000000\",\"2021-10-25T00:00:00.000000000\",\"2021-10-26T00:00:00.000000000\",\"2021-10-27T00:00:00.000000000\",\"2021-10-28T00:00:00.000000000\",\"2021-10-29T00:00:00.000000000\",\"2021-11-01T00:00:00.000000000\",\"2021-11-02T00:00:00.000000000\",\"2021-11-03T00:00:00.000000000\",\"2021-11-04T00:00:00.000000000\",\"2021-11-05T00:00:00.000000000\",\"2021-11-08T00:00:00.000000000\",\"2021-11-09T00:00:00.000000000\",\"2021-11-10T00:00:00.000000000\",\"2021-11-11T00:00:00.000000000\",\"2021-11-12T00:00:00.000000000\",\"2021-11-15T00:00:00.000000000\",\"2021-11-16T00:00:00.000000000\",\"2021-11-17T00:00:00.000000000\",\"2021-11-18T00:00:00.000000000\",\"2021-11-19T00:00:00.000000000\",\"2021-11-22T00:00:00.000000000\",\"2021-11-23T00:00:00.000000000\",\"2021-11-24T00:00:00.000000000\",\"2021-11-25T00:00:00.000000000\",\"2021-11-26T00:00:00.000000000\",\"2021-11-29T00:00:00.000000000\",\"2021-11-30T00:00:00.000000000\",\"2021-12-01T00:00:00.000000000\",\"2021-12-02T00:00:00.000000000\",\"2021-12-03T00:00:00.000000000\",\"2021-12-06T00:00:00.000000000\",\"2021-12-07T00:00:00.000000000\",\"2021-12-08T00:00:00.000000000\",\"2021-12-09T00:00:00.000000000\",\"2021-12-10T00:00:00.000000000\",\"2021-12-13T00:00:00.000000000\",\"2021-12-14T00:00:00.000000000\",\"2021-12-15T00:00:00.000000000\",\"2021-12-16T00:00:00.000000000\",\"2021-12-17T00:00:00.000000000\",\"2021-12-20T00:00:00.000000000\",\"2021-12-21T00:00:00.000000000\",\"2021-12-22T00:00:00.000000000\",\"2021-12-23T00:00:00.000000000\",\"2021-12-24T00:00:00.000000000\",\"2021-12-27T00:00:00.000000000\",\"2021-12-28T00:00:00.000000000\",\"2021-12-29T00:00:00.000000000\",\"2021-12-30T00:00:00.000000000\",\"2021-12-31T00:00:00.000000000\",\"2022-01-03T00:00:00.000000000\",\"2022-01-04T00:00:00.000000000\",\"2022-01-05T00:00:00.000000000\",\"2022-01-06T00:00:00.000000000\",\"2022-01-07T00:00:00.000000000\",\"2022-01-10T00:00:00.000000000\",\"2022-01-11T00:00:00.000000000\",\"2022-01-12T00:00:00.000000000\",\"2022-01-13T00:00:00.000000000\",\"2022-01-14T00:00:00.000000000\",\"2022-01-17T00:00:00.000000000\",\"2022-01-18T00:00:00.000000000\",\"2022-01-19T00:00:00.000000000\",\"2022-01-20T00:00:00.000000000\",\"2022-01-21T00:00:00.000000000\",\"2022-01-24T00:00:00.000000000\",\"2022-01-25T00:00:00.000000000\",\"2022-01-26T00:00:00.000000000\",\"2022-01-27T00:00:00.000000000\",\"2022-01-28T00:00:00.000000000\",\"2022-01-31T00:00:00.000000000\",\"2022-02-01T00:00:00.000000000\",\"2022-02-02T00:00:00.000000000\",\"2022-02-03T00:00:00.000000000\",\"2022-02-04T00:00:00.000000000\",\"2022-02-07T00:00:00.000000000\",\"2022-02-08T00:00:00.000000000\",\"2022-02-09T00:00:00.000000000\",\"2022-02-10T00:00:00.000000000\",\"2022-02-11T00:00:00.000000000\",\"2022-02-14T00:00:00.000000000\",\"2022-02-15T00:00:00.000000000\",\"2022-02-16T00:00:00.000000000\",\"2022-02-17T00:00:00.000000000\",\"2022-02-18T00:00:00.000000000\",\"2022-02-21T00:00:00.000000000\",\"2022-02-22T00:00:00.000000000\",\"2022-02-23T00:00:00.000000000\",\"2022-02-24T00:00:00.000000000\",\"2022-02-25T00:00:00.000000000\",\"2022-02-28T00:00:00.000000000\",\"2022-03-01T00:00:00.000000000\",\"2022-03-02T00:00:00.000000000\",\"2022-03-03T00:00:00.000000000\",\"2022-03-04T00:00:00.000000000\",\"2022-03-07T00:00:00.000000000\",\"2022-03-08T00:00:00.000000000\",\"2022-03-09T00:00:00.000000000\",\"2022-03-10T00:00:00.000000000\",\"2022-03-11T00:00:00.000000000\",\"2022-03-14T00:00:00.000000000\",\"2022-03-15T00:00:00.000000000\",\"2022-03-16T00:00:00.000000000\",\"2022-03-17T00:00:00.000000000\",\"2022-03-18T00:00:00.000000000\",\"2022-03-21T00:00:00.000000000\",\"2022-03-22T00:00:00.000000000\",\"2022-03-23T00:00:00.000000000\",\"2022-03-24T00:00:00.000000000\",\"2022-03-25T00:00:00.000000000\",\"2022-03-28T00:00:00.000000000\",\"2022-03-29T00:00:00.000000000\",\"2022-03-30T00:00:00.000000000\",\"2022-03-31T00:00:00.000000000\",\"2022-04-01T00:00:00.000000000\",\"2022-04-04T00:00:00.000000000\",\"2022-04-05T00:00:00.000000000\",\"2022-04-06T00:00:00.000000000\",\"2022-04-07T00:00:00.000000000\",\"2022-04-08T00:00:00.000000000\",\"2022-04-11T00:00:00.000000000\",\"2022-04-12T00:00:00.000000000\",\"2022-04-13T00:00:00.000000000\",\"2022-04-14T00:00:00.000000000\",\"2022-04-15T00:00:00.000000000\",\"2022-04-18T00:00:00.000000000\",\"2022-04-19T00:00:00.000000000\",\"2022-04-20T00:00:00.000000000\",\"2022-04-21T00:00:00.000000000\",\"2022-04-22T00:00:00.000000000\",\"2022-04-25T00:00:00.000000000\",\"2022-04-26T00:00:00.000000000\",\"2022-04-27T00:00:00.000000000\",\"2022-04-28T00:00:00.000000000\",\"2022-04-29T00:00:00.000000000\",\"2022-05-02T00:00:00.000000000\",\"2022-05-03T00:00:00.000000000\",\"2022-05-04T00:00:00.000000000\",\"2022-05-05T00:00:00.000000000\",\"2022-05-06T00:00:00.000000000\",\"2022-05-09T00:00:00.000000000\",\"2022-05-10T00:00:00.000000000\",\"2022-05-11T00:00:00.000000000\",\"2022-05-12T00:00:00.000000000\",\"2022-05-13T00:00:00.000000000\",\"2022-05-16T00:00:00.000000000\",\"2022-05-17T00:00:00.000000000\",\"2022-05-18T00:00:00.000000000\",\"2022-05-19T00:00:00.000000000\",\"2022-05-20T00:00:00.000000000\",\"2022-05-23T00:00:00.000000000\",\"2022-05-24T00:00:00.000000000\",\"2022-05-25T00:00:00.000000000\",\"2022-05-26T00:00:00.000000000\",\"2022-05-27T00:00:00.000000000\",\"2022-05-30T00:00:00.000000000\",\"2022-05-31T00:00:00.000000000\",\"2022-06-01T00:00:00.000000000\",\"2022-06-02T00:00:00.000000000\",\"2022-06-03T00:00:00.000000000\",\"2022-06-06T00:00:00.000000000\",\"2022-06-07T00:00:00.000000000\",\"2022-06-08T00:00:00.000000000\",\"2022-06-09T00:00:00.000000000\",\"2022-06-10T00:00:00.000000000\",\"2022-06-13T00:00:00.000000000\",\"2022-06-14T00:00:00.000000000\",\"2022-06-15T00:00:00.000000000\",\"2022-06-16T00:00:00.000000000\",\"2022-06-17T00:00:00.000000000\",\"2022-06-20T00:00:00.000000000\",\"2022-06-21T00:00:00.000000000\",\"2022-06-22T00:00:00.000000000\",\"2022-06-23T00:00:00.000000000\",\"2022-06-24T00:00:00.000000000\",\"2022-06-27T00:00:00.000000000\",\"2022-06-28T00:00:00.000000000\",\"2022-06-29T00:00:00.000000000\",\"2022-06-30T00:00:00.000000000\",\"2022-07-01T00:00:00.000000000\",\"2022-07-04T00:00:00.000000000\",\"2022-07-05T00:00:00.000000000\",\"2022-07-06T00:00:00.000000000\",\"2022-07-07T00:00:00.000000000\",\"2022-07-08T00:00:00.000000000\",\"2022-07-11T00:00:00.000000000\",\"2022-07-12T00:00:00.000000000\",\"2022-07-13T00:00:00.000000000\",\"2022-07-14T00:00:00.000000000\",\"2022-07-15T00:00:00.000000000\",\"2022-07-18T00:00:00.000000000\",\"2022-07-19T00:00:00.000000000\",\"2022-07-20T00:00:00.000000000\",\"2022-07-21T00:00:00.000000000\",\"2022-07-22T00:00:00.000000000\",\"2022-07-25T00:00:00.000000000\",\"2022-07-26T00:00:00.000000000\",\"2022-07-27T00:00:00.000000000\",\"2022-07-28T00:00:00.000000000\",\"2022-07-29T00:00:00.000000000\",\"2022-08-01T00:00:00.000000000\",\"2022-08-02T00:00:00.000000000\",\"2022-08-03T00:00:00.000000000\",\"2022-08-04T00:00:00.000000000\",\"2022-08-05T00:00:00.000000000\",\"2022-08-08T00:00:00.000000000\",\"2022-08-09T00:00:00.000000000\",\"2022-08-10T00:00:00.000000000\",\"2022-08-11T00:00:00.000000000\",\"2022-08-12T00:00:00.000000000\",\"2022-08-15T00:00:00.000000000\",\"2022-08-16T00:00:00.000000000\",\"2022-08-17T00:00:00.000000000\",\"2022-08-18T00:00:00.000000000\",\"2022-08-19T00:00:00.000000000\",\"2022-08-22T00:00:00.000000000\",\"2022-08-23T00:00:00.000000000\",\"2022-08-24T00:00:00.000000000\",\"2022-08-25T00:00:00.000000000\",\"2022-08-26T00:00:00.000000000\",\"2022-08-29T00:00:00.000000000\",\"2022-08-30T00:00:00.000000000\",\"2022-08-31T00:00:00.000000000\",\"2022-09-01T00:00:00.000000000\",\"2022-09-02T00:00:00.000000000\",\"2022-09-05T00:00:00.000000000\",\"2022-09-06T00:00:00.000000000\",\"2022-09-07T00:00:00.000000000\",\"2022-09-08T00:00:00.000000000\",\"2022-09-09T00:00:00.000000000\",\"2022-09-12T00:00:00.000000000\",\"2022-09-13T00:00:00.000000000\",\"2022-09-14T00:00:00.000000000\",\"2022-09-15T00:00:00.000000000\",\"2022-09-16T00:00:00.000000000\",\"2022-09-19T00:00:00.000000000\",\"2022-09-20T00:00:00.000000000\",\"2022-09-21T00:00:00.000000000\",\"2022-09-22T00:00:00.000000000\",\"2022-09-23T00:00:00.000000000\",\"2022-09-26T00:00:00.000000000\",\"2022-09-27T00:00:00.000000000\",\"2022-09-28T00:00:00.000000000\",\"2022-09-29T00:00:00.000000000\",\"2022-09-30T00:00:00.000000000\",\"2022-10-03T00:00:00.000000000\",\"2022-10-04T00:00:00.000000000\",\"2022-10-05T00:00:00.000000000\",\"2022-10-06T00:00:00.000000000\",\"2022-10-07T00:00:00.000000000\",\"2022-10-10T00:00:00.000000000\",\"2022-10-11T00:00:00.000000000\",\"2022-10-12T00:00:00.000000000\",\"2022-10-13T00:00:00.000000000\",\"2022-10-14T00:00:00.000000000\",\"2022-10-17T00:00:00.000000000\",\"2022-10-18T00:00:00.000000000\",\"2022-10-19T00:00:00.000000000\",\"2022-10-20T00:00:00.000000000\",\"2022-10-21T00:00:00.000000000\",\"2022-10-24T00:00:00.000000000\",\"2022-10-25T00:00:00.000000000\",\"2022-10-26T00:00:00.000000000\",\"2022-10-27T00:00:00.000000000\",\"2022-10-28T00:00:00.000000000\",\"2022-10-31T00:00:00.000000000\",\"2022-11-01T00:00:00.000000000\",\"2022-11-02T00:00:00.000000000\",\"2022-11-03T00:00:00.000000000\",\"2022-11-04T00:00:00.000000000\",\"2022-11-07T00:00:00.000000000\",\"2022-11-08T00:00:00.000000000\",\"2022-11-09T00:00:00.000000000\",\"2022-11-10T00:00:00.000000000\",\"2022-11-11T00:00:00.000000000\",\"2022-11-14T00:00:00.000000000\",\"2022-11-15T00:00:00.000000000\",\"2022-11-16T00:00:00.000000000\",\"2022-11-17T00:00:00.000000000\",\"2022-11-18T00:00:00.000000000\",\"2022-11-21T00:00:00.000000000\",\"2022-11-22T00:00:00.000000000\",\"2022-11-23T00:00:00.000000000\",\"2022-11-24T00:00:00.000000000\",\"2022-11-25T00:00:00.000000000\",\"2022-11-28T00:00:00.000000000\",\"2022-11-29T00:00:00.000000000\",\"2022-11-30T00:00:00.000000000\",\"2022-12-01T00:00:00.000000000\",\"2022-12-02T00:00:00.000000000\",\"2022-12-05T00:00:00.000000000\",\"2022-12-06T00:00:00.000000000\",\"2022-12-07T00:00:00.000000000\",\"2022-12-08T00:00:00.000000000\",\"2022-12-09T00:00:00.000000000\",\"2022-12-12T00:00:00.000000000\",\"2022-12-13T00:00:00.000000000\",\"2022-12-14T00:00:00.000000000\",\"2022-12-15T00:00:00.000000000\",\"2022-12-16T00:00:00.000000000\",\"2022-12-19T00:00:00.000000000\",\"2022-12-20T00:00:00.000000000\",\"2022-12-21T00:00:00.000000000\",\"2022-12-22T00:00:00.000000000\",\"2022-12-23T00:00:00.000000000\",\"2022-12-26T00:00:00.000000000\",\"2022-12-27T00:00:00.000000000\",\"2022-12-28T00:00:00.000000000\",\"2022-12-29T00:00:00.000000000\"],\"type\":\"candlestick\"}],                        {\"template\":{\"data\":{\"histogram2dcontour\":[{\"type\":\"histogram2dcontour\",\"colorbar\":{\"outlinewidth\":0,\"ticks\":\"\"},\"colorscale\":[[0.0,\"#0d0887\"],[0.1111111111111111,\"#46039f\"],[0.2222222222222222,\"#7201a8\"],[0.3333333333333333,\"#9c179e\"],[0.4444444444444444,\"#bd3786\"],[0.5555555555555556,\"#d8576b\"],[0.6666666666666666,\"#ed7953\"],[0.7777777777777778,\"#fb9f3a\"],[0.8888888888888888,\"#fdca26\"],[1.0,\"#f0f921\"]]}],\"choropleth\":[{\"type\":\"choropleth\",\"colorbar\":{\"outlinewidth\":0,\"ticks\":\"\"}}],\"histogram2d\":[{\"type\":\"histogram2d\",\"colorbar\":{\"outlinewidth\":0,\"ticks\":\"\"},\"colorscale\":[[0.0,\"#0d0887\"],[0.1111111111111111,\"#46039f\"],[0.2222222222222222,\"#7201a8\"],[0.3333333333333333,\"#9c179e\"],[0.4444444444444444,\"#bd3786\"],[0.5555555555555556,\"#d8576b\"],[0.6666666666666666,\"#ed7953\"],[0.7777777777777778,\"#fb9f3a\"],[0.8888888888888888,\"#fdca26\"],[1.0,\"#f0f921\"]]}],\"heatmap\":[{\"type\":\"heatmap\",\"colorbar\":{\"outlinewidth\":0,\"ticks\":\"\"},\"colorscale\":[[0.0,\"#0d0887\"],[0.1111111111111111,\"#46039f\"],[0.2222222222222222,\"#7201a8\"],[0.3333333333333333,\"#9c179e\"],[0.4444444444444444,\"#bd3786\"],[0.5555555555555556,\"#d8576b\"],[0.6666666666666666,\"#ed7953\"],[0.7777777777777778,\"#fb9f3a\"],[0.8888888888888888,\"#fdca26\"],[1.0,\"#f0f921\"]]}],\"heatmapgl\":[{\"type\":\"heatmapgl\",\"colorbar\":{\"outlinewidth\":0,\"ticks\":\"\"},\"colorscale\":[[0.0,\"#0d0887\"],[0.1111111111111111,\"#46039f\"],[0.2222222222222222,\"#7201a8\"],[0.3333333333333333,\"#9c179e\"],[0.4444444444444444,\"#bd3786\"],[0.5555555555555556,\"#d8576b\"],[0.6666666666666666,\"#ed7953\"],[0.7777777777777778,\"#fb9f3a\"],[0.8888888888888888,\"#fdca26\"],[1.0,\"#f0f921\"]]}],\"contourcarpet\":[{\"type\":\"contourcarpet\",\"colorbar\":{\"outlinewidth\":0,\"ticks\":\"\"}}],\"contour\":[{\"type\":\"contour\",\"colorbar\":{\"outlinewidth\":0,\"ticks\":\"\"},\"colorscale\":[[0.0,\"#0d0887\"],[0.1111111111111111,\"#46039f\"],[0.2222222222222222,\"#7201a8\"],[0.3333333333333333,\"#9c179e\"],[0.4444444444444444,\"#bd3786\"],[0.5555555555555556,\"#d8576b\"],[0.6666666666666666,\"#ed7953\"],[0.7777777777777778,\"#fb9f3a\"],[0.8888888888888888,\"#fdca26\"],[1.0,\"#f0f921\"]]}],\"surface\":[{\"type\":\"surface\",\"colorbar\":{\"outlinewidth\":0,\"ticks\":\"\"},\"colorscale\":[[0.0,\"#0d0887\"],[0.1111111111111111,\"#46039f\"],[0.2222222222222222,\"#7201a8\"],[0.3333333333333333,\"#9c179e\"],[0.4444444444444444,\"#bd3786\"],[0.5555555555555556,\"#d8576b\"],[0.6666666666666666,\"#ed7953\"],[0.7777777777777778,\"#fb9f3a\"],[0.8888888888888888,\"#fdca26\"],[1.0,\"#f0f921\"]]}],\"mesh3d\":[{\"type\":\"mesh3d\",\"colorbar\":{\"outlinewidth\":0,\"ticks\":\"\"}}],\"scatter\":[{\"fillpattern\":{\"fillmode\":\"overlay\",\"size\":10,\"solidity\":0.2},\"type\":\"scatter\"}],\"parcoords\":[{\"type\":\"parcoords\",\"line\":{\"colorbar\":{\"outlinewidth\":0,\"ticks\":\"\"}}}],\"scatterpolargl\":[{\"type\":\"scatterpolargl\",\"marker\":{\"colorbar\":{\"outlinewidth\":0,\"ticks\":\"\"}}}],\"bar\":[{\"error_x\":{\"color\":\"#2a3f5f\"},\"error_y\":{\"color\":\"#2a3f5f\"},\"marker\":{\"line\":{\"color\":\"#E5ECF6\",\"width\":0.5},\"pattern\":{\"fillmode\":\"overlay\",\"size\":10,\"solidity\":0.2}},\"type\":\"bar\"}],\"scattergeo\":[{\"type\":\"scattergeo\",\"marker\":{\"colorbar\":{\"outlinewidth\":0,\"ticks\":\"\"}}}],\"scatterpolar\":[{\"type\":\"scatterpolar\",\"marker\":{\"colorbar\":{\"outlinewidth\":0,\"ticks\":\"\"}}}],\"histogram\":[{\"marker\":{\"pattern\":{\"fillmode\":\"overlay\",\"size\":10,\"solidity\":0.2}},\"type\":\"histogram\"}],\"scattergl\":[{\"type\":\"scattergl\",\"marker\":{\"colorbar\":{\"outlinewidth\":0,\"ticks\":\"\"}}}],\"scatter3d\":[{\"type\":\"scatter3d\",\"line\":{\"colorbar\":{\"outlinewidth\":0,\"ticks\":\"\"}},\"marker\":{\"colorbar\":{\"outlinewidth\":0,\"ticks\":\"\"}}}],\"scattermapbox\":[{\"type\":\"scattermapbox\",\"marker\":{\"colorbar\":{\"outlinewidth\":0,\"ticks\":\"\"}}}],\"scatterternary\":[{\"type\":\"scatterternary\",\"marker\":{\"colorbar\":{\"outlinewidth\":0,\"ticks\":\"\"}}}],\"scattercarpet\":[{\"type\":\"scattercarpet\",\"marker\":{\"colorbar\":{\"outlinewidth\":0,\"ticks\":\"\"}}}],\"carpet\":[{\"aaxis\":{\"endlinecolor\":\"#2a3f5f\",\"gridcolor\":\"white\",\"linecolor\":\"white\",\"minorgridcolor\":\"white\",\"startlinecolor\":\"#2a3f5f\"},\"baxis\":{\"endlinecolor\":\"#2a3f5f\",\"gridcolor\":\"white\",\"linecolor\":\"white\",\"minorgridcolor\":\"white\",\"startlinecolor\":\"#2a3f5f\"},\"type\":\"carpet\"}],\"table\":[{\"cells\":{\"fill\":{\"color\":\"#EBF0F8\"},\"line\":{\"color\":\"white\"}},\"header\":{\"fill\":{\"color\":\"#C8D4E3\"},\"line\":{\"color\":\"white\"}},\"type\":\"table\"}],\"barpolar\":[{\"marker\":{\"line\":{\"color\":\"#E5ECF6\",\"width\":0.5},\"pattern\":{\"fillmode\":\"overlay\",\"size\":10,\"solidity\":0.2}},\"type\":\"barpolar\"}],\"pie\":[{\"automargin\":true,\"type\":\"pie\"}]},\"layout\":{\"autotypenumbers\":\"strict\",\"colorway\":[\"#636efa\",\"#EF553B\",\"#00cc96\",\"#ab63fa\",\"#FFA15A\",\"#19d3f3\",\"#FF6692\",\"#B6E880\",\"#FF97FF\",\"#FECB52\"],\"font\":{\"color\":\"#2a3f5f\"},\"hovermode\":\"closest\",\"hoverlabel\":{\"align\":\"left\"},\"paper_bgcolor\":\"white\",\"plot_bgcolor\":\"#E5ECF6\",\"polar\":{\"bgcolor\":\"#E5ECF6\",\"angularaxis\":{\"gridcolor\":\"white\",\"linecolor\":\"white\",\"ticks\":\"\"},\"radialaxis\":{\"gridcolor\":\"white\",\"linecolor\":\"white\",\"ticks\":\"\"}},\"ternary\":{\"bgcolor\":\"#E5ECF6\",\"aaxis\":{\"gridcolor\":\"white\",\"linecolor\":\"white\",\"ticks\":\"\"},\"baxis\":{\"gridcolor\":\"white\",\"linecolor\":\"white\",\"ticks\":\"\"},\"caxis\":{\"gridcolor\":\"white\",\"linecolor\":\"white\",\"ticks\":\"\"}},\"coloraxis\":{\"colorbar\":{\"outlinewidth\":0,\"ticks\":\"\"}},\"colorscale\":{\"sequential\":[[0.0,\"#0d0887\"],[0.1111111111111111,\"#46039f\"],[0.2222222222222222,\"#7201a8\"],[0.3333333333333333,\"#9c179e\"],[0.4444444444444444,\"#bd3786\"],[0.5555555555555556,\"#d8576b\"],[0.6666666666666666,\"#ed7953\"],[0.7777777777777778,\"#fb9f3a\"],[0.8888888888888888,\"#fdca26\"],[1.0,\"#f0f921\"]],\"sequentialminus\":[[0.0,\"#0d0887\"],[0.1111111111111111,\"#46039f\"],[0.2222222222222222,\"#7201a8\"],[0.3333333333333333,\"#9c179e\"],[0.4444444444444444,\"#bd3786\"],[0.5555555555555556,\"#d8576b\"],[0.6666666666666666,\"#ed7953\"],[0.7777777777777778,\"#fb9f3a\"],[0.8888888888888888,\"#fdca26\"],[1.0,\"#f0f921\"]],\"diverging\":[[0,\"#8e0152\"],[0.1,\"#c51b7d\"],[0.2,\"#de77ae\"],[0.3,\"#f1b6da\"],[0.4,\"#fde0ef\"],[0.5,\"#f7f7f7\"],[0.6,\"#e6f5d0\"],[0.7,\"#b8e186\"],[0.8,\"#7fbc41\"],[0.9,\"#4d9221\"],[1,\"#276419\"]]},\"xaxis\":{\"gridcolor\":\"white\",\"linecolor\":\"white\",\"ticks\":\"\",\"title\":{\"standoff\":15},\"zerolinecolor\":\"white\",\"automargin\":true,\"zerolinewidth\":2},\"yaxis\":{\"gridcolor\":\"white\",\"linecolor\":\"white\",\"ticks\":\"\",\"title\":{\"standoff\":15},\"zerolinecolor\":\"white\",\"automargin\":true,\"zerolinewidth\":2},\"scene\":{\"xaxis\":{\"backgroundcolor\":\"#E5ECF6\",\"gridcolor\":\"white\",\"linecolor\":\"white\",\"showbackground\":true,\"ticks\":\"\",\"zerolinecolor\":\"white\",\"gridwidth\":2},\"yaxis\":{\"backgroundcolor\":\"#E5ECF6\",\"gridcolor\":\"white\",\"linecolor\":\"white\",\"showbackground\":true,\"ticks\":\"\",\"zerolinecolor\":\"white\",\"gridwidth\":2},\"zaxis\":{\"backgroundcolor\":\"#E5ECF6\",\"gridcolor\":\"white\",\"linecolor\":\"white\",\"showbackground\":true,\"ticks\":\"\",\"zerolinecolor\":\"white\",\"gridwidth\":2}},\"shapedefaults\":{\"line\":{\"color\":\"#2a3f5f\"}},\"annotationdefaults\":{\"arrowcolor\":\"#2a3f5f\",\"arrowhead\":0,\"arrowwidth\":1},\"geo\":{\"bgcolor\":\"white\",\"landcolor\":\"#E5ECF6\",\"subunitcolor\":\"white\",\"showland\":true,\"showlakes\":true,\"lakecolor\":\"white\"},\"title\":{\"x\":0.05},\"mapbox\":{\"style\":\"light\"}}},\"title\":{\"text\":\"Hist\\u00f3rico de pre\\u00e7os do Dolar\"},\"yaxis\":{\"title\":{\"text\":\"Pre\\u00e7o (USD)\"}},\"xaxis\":{\"title\":{\"text\":\"Data\"}}},                        {\"responsive\": true}                    ).then(function(){\n",
              "                            \n",
              "var gd = document.getElementById('51ad9875-c44e-452d-9b57-b10117d64423');\n",
              "var x = new MutationObserver(function (mutations, observer) {{\n",
              "        var display = window.getComputedStyle(gd).display;\n",
              "        if (!display || display === 'none') {{\n",
              "            console.log([gd, 'removed!']);\n",
              "            Plotly.purge(gd);\n",
              "            observer.disconnect();\n",
              "        }}\n",
              "}});\n",
              "\n",
              "// Listen for the removal of the full notebook cells\n",
              "var notebookContainer = gd.closest('#notebook-container');\n",
              "if (notebookContainer) {{\n",
              "    x.observe(notebookContainer, {childList: true});\n",
              "}}\n",
              "\n",
              "// Listen for the clearing of the current output cell\n",
              "var outputEl = gd.closest('.output');\n",
              "if (outputEl) {{\n",
              "    x.observe(outputEl, {childList: true});\n",
              "}}\n",
              "\n",
              "                        })                };                            </script>        </div>\n",
              "</body>\n",
              "</html>"
            ]
          },
          "metadata": {}
        }
      ]
    },
    {
      "cell_type": "code",
      "source": [
        "''' fim etapa 4 '''"
      ],
      "metadata": {
        "colab": {
          "base_uri": "https://localhost:8080/",
          "height": 35
        },
        "id": "RVv1QMAdGl2z",
        "outputId": "78d6880f-eaff-4daf-c220-fb245039db54"
      },
      "execution_count": 82,
      "outputs": [
        {
          "output_type": "execute_result",
          "data": {
            "text/plain": [
              "' fim etapa 4 '"
            ],
            "application/vnd.google.colaboratory.intrinsic+json": {
              "type": "string"
            }
          },
          "metadata": {},
          "execution_count": 82
        }
      ]
    },
    {
      "cell_type": "code",
      "source": [
        "'''\n",
        "  etapa 5\n",
        "  unir DF's\n",
        "'''\n",
        "\n"
      ],
      "metadata": {
        "id": "NPZ6Pn1vH64N",
        "colab": {
          "base_uri": "https://localhost:8080/",
          "height": 35
        },
        "outputId": "f44d7904-f01b-4c7d-d135-e16a741974e4"
      },
      "execution_count": 83,
      "outputs": [
        {
          "output_type": "execute_result",
          "data": {
            "text/plain": [
              "\"\\n  etapa 5\\n  unir DF's\\n\""
            ],
            "application/vnd.google.colaboratory.intrinsic+json": {
              "type": "string"
            }
          },
          "metadata": {},
          "execution_count": 83
        }
      ]
    },
    {
      "cell_type": "code",
      "source": [
        "df_bitcoin_dolar = pd.merge(df_bitcoin, df_dolar, on='Date')"
      ],
      "metadata": {
        "id": "dzSJnDTZNJiF"
      },
      "execution_count": 84,
      "outputs": []
    },
    {
      "cell_type": "code",
      "source": [
        "df_bitcoin_dolar.head()"
      ],
      "metadata": {
        "id": "X5vsKdAPBBNj",
        "outputId": "e5dcd0aa-2cb1-4407-e1c9-82f39f74e7a3",
        "colab": {
          "base_uri": "https://localhost:8080/",
          "height": 238
        }
      },
      "execution_count": 85,
      "outputs": [
        {
          "output_type": "execute_result",
          "data": {
            "text/plain": [
              "                   Open         High          Low        Close    Adj Close  \\\n",
              "Date                                                                          \n",
              "2020-01-01  7194.892090  7254.330566  7174.944336  7200.174316  7200.174316   \n",
              "2020-01-02  7202.551270  7212.155273  6935.270020  6985.470215  6985.470215   \n",
              "2020-01-03  6984.428711  7413.715332  6914.996094  7344.884277  7344.884277   \n",
              "2020-01-06  7410.452148  7781.867188  7409.292969  7769.219238  7769.219238   \n",
              "2020-01-07  7768.682129  8178.215820  7768.227539  8163.692383  8163.692383   \n",
              "\n",
              "                 Volume  dolar_close  dolar_open  dolar_high  dolar_low  \\\n",
              "Date                                                                      \n",
              "2020-01-01  18565664997       4.0195      4.0195      4.0195     4.0195   \n",
              "2020-01-02  20802083465       4.0263      4.0198      4.0412     4.0032   \n",
              "2020-01-03  28111481032       4.0672      4.0253      4.0718     4.0253   \n",
              "2020-01-06  23276261598       4.0618      4.0565      4.0743     4.0458   \n",
              "2020-01-07  28767291327       4.0679      4.0622      4.0924     4.0543   \n",
              "\n",
              "           dolar_volume dolar_variation  \n",
              "Date                                     \n",
              "2020-01-01      110,07K           0,00%  \n",
              "2020-01-02       31,67K           0,17%  \n",
              "2020-01-03       43,89K           1,02%  \n",
              "2020-01-06       31,86K          -0,13%  \n",
              "2020-01-07       36,55K           0,15%  "
            ],
            "text/html": [
              "\n",
              "  <div id=\"df-6ac60872-ca14-47cd-81a4-f7d574032aa1\">\n",
              "    <div class=\"colab-df-container\">\n",
              "      <div>\n",
              "<style scoped>\n",
              "    .dataframe tbody tr th:only-of-type {\n",
              "        vertical-align: middle;\n",
              "    }\n",
              "\n",
              "    .dataframe tbody tr th {\n",
              "        vertical-align: top;\n",
              "    }\n",
              "\n",
              "    .dataframe thead th {\n",
              "        text-align: right;\n",
              "    }\n",
              "</style>\n",
              "<table border=\"1\" class=\"dataframe\">\n",
              "  <thead>\n",
              "    <tr style=\"text-align: right;\">\n",
              "      <th></th>\n",
              "      <th>Open</th>\n",
              "      <th>High</th>\n",
              "      <th>Low</th>\n",
              "      <th>Close</th>\n",
              "      <th>Adj Close</th>\n",
              "      <th>Volume</th>\n",
              "      <th>dolar_close</th>\n",
              "      <th>dolar_open</th>\n",
              "      <th>dolar_high</th>\n",
              "      <th>dolar_low</th>\n",
              "      <th>dolar_volume</th>\n",
              "      <th>dolar_variation</th>\n",
              "    </tr>\n",
              "    <tr>\n",
              "      <th>Date</th>\n",
              "      <th></th>\n",
              "      <th></th>\n",
              "      <th></th>\n",
              "      <th></th>\n",
              "      <th></th>\n",
              "      <th></th>\n",
              "      <th></th>\n",
              "      <th></th>\n",
              "      <th></th>\n",
              "      <th></th>\n",
              "      <th></th>\n",
              "      <th></th>\n",
              "    </tr>\n",
              "  </thead>\n",
              "  <tbody>\n",
              "    <tr>\n",
              "      <th>2020-01-01</th>\n",
              "      <td>7194.892090</td>\n",
              "      <td>7254.330566</td>\n",
              "      <td>7174.944336</td>\n",
              "      <td>7200.174316</td>\n",
              "      <td>7200.174316</td>\n",
              "      <td>18565664997</td>\n",
              "      <td>4.0195</td>\n",
              "      <td>4.0195</td>\n",
              "      <td>4.0195</td>\n",
              "      <td>4.0195</td>\n",
              "      <td>110,07K</td>\n",
              "      <td>0,00%</td>\n",
              "    </tr>\n",
              "    <tr>\n",
              "      <th>2020-01-02</th>\n",
              "      <td>7202.551270</td>\n",
              "      <td>7212.155273</td>\n",
              "      <td>6935.270020</td>\n",
              "      <td>6985.470215</td>\n",
              "      <td>6985.470215</td>\n",
              "      <td>20802083465</td>\n",
              "      <td>4.0263</td>\n",
              "      <td>4.0198</td>\n",
              "      <td>4.0412</td>\n",
              "      <td>4.0032</td>\n",
              "      <td>31,67K</td>\n",
              "      <td>0,17%</td>\n",
              "    </tr>\n",
              "    <tr>\n",
              "      <th>2020-01-03</th>\n",
              "      <td>6984.428711</td>\n",
              "      <td>7413.715332</td>\n",
              "      <td>6914.996094</td>\n",
              "      <td>7344.884277</td>\n",
              "      <td>7344.884277</td>\n",
              "      <td>28111481032</td>\n",
              "      <td>4.0672</td>\n",
              "      <td>4.0253</td>\n",
              "      <td>4.0718</td>\n",
              "      <td>4.0253</td>\n",
              "      <td>43,89K</td>\n",
              "      <td>1,02%</td>\n",
              "    </tr>\n",
              "    <tr>\n",
              "      <th>2020-01-06</th>\n",
              "      <td>7410.452148</td>\n",
              "      <td>7781.867188</td>\n",
              "      <td>7409.292969</td>\n",
              "      <td>7769.219238</td>\n",
              "      <td>7769.219238</td>\n",
              "      <td>23276261598</td>\n",
              "      <td>4.0618</td>\n",
              "      <td>4.0565</td>\n",
              "      <td>4.0743</td>\n",
              "      <td>4.0458</td>\n",
              "      <td>31,86K</td>\n",
              "      <td>-0,13%</td>\n",
              "    </tr>\n",
              "    <tr>\n",
              "      <th>2020-01-07</th>\n",
              "      <td>7768.682129</td>\n",
              "      <td>8178.215820</td>\n",
              "      <td>7768.227539</td>\n",
              "      <td>8163.692383</td>\n",
              "      <td>8163.692383</td>\n",
              "      <td>28767291327</td>\n",
              "      <td>4.0679</td>\n",
              "      <td>4.0622</td>\n",
              "      <td>4.0924</td>\n",
              "      <td>4.0543</td>\n",
              "      <td>36,55K</td>\n",
              "      <td>0,15%</td>\n",
              "    </tr>\n",
              "  </tbody>\n",
              "</table>\n",
              "</div>\n",
              "      <button class=\"colab-df-convert\" onclick=\"convertToInteractive('df-6ac60872-ca14-47cd-81a4-f7d574032aa1')\"\n",
              "              title=\"Convert this dataframe to an interactive table.\"\n",
              "              style=\"display:none;\">\n",
              "        \n",
              "  <svg xmlns=\"http://www.w3.org/2000/svg\" height=\"24px\"viewBox=\"0 0 24 24\"\n",
              "       width=\"24px\">\n",
              "    <path d=\"M0 0h24v24H0V0z\" fill=\"none\"/>\n",
              "    <path d=\"M18.56 5.44l.94 2.06.94-2.06 2.06-.94-2.06-.94-.94-2.06-.94 2.06-2.06.94zm-11 1L8.5 8.5l.94-2.06 2.06-.94-2.06-.94L8.5 2.5l-.94 2.06-2.06.94zm10 10l.94 2.06.94-2.06 2.06-.94-2.06-.94-.94-2.06-.94 2.06-2.06.94z\"/><path d=\"M17.41 7.96l-1.37-1.37c-.4-.4-.92-.59-1.43-.59-.52 0-1.04.2-1.43.59L10.3 9.45l-7.72 7.72c-.78.78-.78 2.05 0 2.83L4 21.41c.39.39.9.59 1.41.59.51 0 1.02-.2 1.41-.59l7.78-7.78 2.81-2.81c.8-.78.8-2.07 0-2.86zM5.41 20L4 18.59l7.72-7.72 1.47 1.35L5.41 20z\"/>\n",
              "  </svg>\n",
              "      </button>\n",
              "      \n",
              "  <style>\n",
              "    .colab-df-container {\n",
              "      display:flex;\n",
              "      flex-wrap:wrap;\n",
              "      gap: 12px;\n",
              "    }\n",
              "\n",
              "    .colab-df-convert {\n",
              "      background-color: #E8F0FE;\n",
              "      border: none;\n",
              "      border-radius: 50%;\n",
              "      cursor: pointer;\n",
              "      display: none;\n",
              "      fill: #1967D2;\n",
              "      height: 32px;\n",
              "      padding: 0 0 0 0;\n",
              "      width: 32px;\n",
              "    }\n",
              "\n",
              "    .colab-df-convert:hover {\n",
              "      background-color: #E2EBFA;\n",
              "      box-shadow: 0px 1px 2px rgba(60, 64, 67, 0.3), 0px 1px 3px 1px rgba(60, 64, 67, 0.15);\n",
              "      fill: #174EA6;\n",
              "    }\n",
              "\n",
              "    [theme=dark] .colab-df-convert {\n",
              "      background-color: #3B4455;\n",
              "      fill: #D2E3FC;\n",
              "    }\n",
              "\n",
              "    [theme=dark] .colab-df-convert:hover {\n",
              "      background-color: #434B5C;\n",
              "      box-shadow: 0px 1px 3px 1px rgba(0, 0, 0, 0.15);\n",
              "      filter: drop-shadow(0px 1px 2px rgba(0, 0, 0, 0.3));\n",
              "      fill: #FFFFFF;\n",
              "    }\n",
              "  </style>\n",
              "\n",
              "      <script>\n",
              "        const buttonEl =\n",
              "          document.querySelector('#df-6ac60872-ca14-47cd-81a4-f7d574032aa1 button.colab-df-convert');\n",
              "        buttonEl.style.display =\n",
              "          google.colab.kernel.accessAllowed ? 'block' : 'none';\n",
              "\n",
              "        async function convertToInteractive(key) {\n",
              "          const element = document.querySelector('#df-6ac60872-ca14-47cd-81a4-f7d574032aa1');\n",
              "          const dataTable =\n",
              "            await google.colab.kernel.invokeFunction('convertToInteractive',\n",
              "                                                     [key], {});\n",
              "          if (!dataTable) return;\n",
              "\n",
              "          const docLinkHtml = 'Like what you see? Visit the ' +\n",
              "            '<a target=\"_blank\" href=https://colab.research.google.com/notebooks/data_table.ipynb>data table notebook</a>'\n",
              "            + ' to learn more about interactive tables.';\n",
              "          element.innerHTML = '';\n",
              "          dataTable['output_type'] = 'display_data';\n",
              "          await google.colab.output.renderOutput(dataTable, element);\n",
              "          const docLink = document.createElement('div');\n",
              "          docLink.innerHTML = docLinkHtml;\n",
              "          element.appendChild(docLink);\n",
              "        }\n",
              "      </script>\n",
              "    </div>\n",
              "  </div>\n",
              "  "
            ]
          },
          "metadata": {},
          "execution_count": 85
        }
      ]
    },
    {
      "cell_type": "code",
      "source": [
        "#grafico de series temporais, com o valor do preço do bitcoin em relacao ao dolar\n",
        "lines = [go.Scatter(x=df_bitcoin_dolar.index, y=df_bitcoin_dolar['Close'], mode='lines', name='Bitcoin'),\n",
        "         go.Scatter(x=df_bitcoin_dolar.index, y=df_bitcoin_dolar['dolar_close'], mode='lines', name='Dolar')]\n",
        "\n",
        "layout = go.Layout(\n",
        "    title='Preço do Bitcoin em relação ao Dólar',\n",
        "    yaxis_title='Preço',\n",
        "    xaxis_title='Data'\n",
        ")\n",
        "\n",
        "fig = go.Figure(data=lines, layout=layout)\n",
        "fig.show()"
      ],
      "metadata": {
        "id": "Qdpm3wIxBM0y",
        "outputId": "ac043021-3a06-427f-d5dc-18dacab1298b",
        "colab": {
          "base_uri": "https://localhost:8080/",
          "height": 542
        }
      },
      "execution_count": 86,
      "outputs": [
        {
          "output_type": "display_data",
          "data": {
            "text/html": [
              "<html>\n",
              "<head><meta charset=\"utf-8\" /></head>\n",
              "<body>\n",
              "    <div>            <script src=\"https://cdnjs.cloudflare.com/ajax/libs/mathjax/2.7.5/MathJax.js?config=TeX-AMS-MML_SVG\"></script><script type=\"text/javascript\">if (window.MathJax && window.MathJax.Hub && window.MathJax.Hub.Config) {window.MathJax.Hub.Config({SVG: {font: \"STIX-Web\"}});}</script>                <script type=\"text/javascript\">window.PlotlyConfig = {MathJaxConfig: 'local'};</script>\n",
              "        <script src=\"https://cdn.plot.ly/plotly-2.18.2.min.js\"></script>                <div id=\"04a3384f-8ac0-4c15-aa8c-90e546ff6a79\" class=\"plotly-graph-div\" style=\"height:525px; width:100%;\"></div>            <script type=\"text/javascript\">                                    window.PLOTLYENV=window.PLOTLYENV || {};                                    if (document.getElementById(\"04a3384f-8ac0-4c15-aa8c-90e546ff6a79\")) {                    Plotly.newPlot(                        \"04a3384f-8ac0-4c15-aa8c-90e546ff6a79\",                        [{\"mode\":\"lines\",\"name\":\"Bitcoin\",\"x\":[\"2020-01-01T00:00:00\",\"2020-01-02T00:00:00\",\"2020-01-03T00:00:00\",\"2020-01-06T00:00:00\",\"2020-01-07T00:00:00\",\"2020-01-08T00:00:00\",\"2020-01-09T00:00:00\",\"2020-01-10T00:00:00\",\"2020-01-13T00:00:00\",\"2020-01-14T00:00:00\",\"2020-01-15T00:00:00\",\"2020-01-16T00:00:00\",\"2020-01-17T00:00:00\",\"2020-01-20T00:00:00\",\"2020-01-21T00:00:00\",\"2020-01-22T00:00:00\",\"2020-01-23T00:00:00\",\"2020-01-24T00:00:00\",\"2020-01-27T00:00:00\",\"2020-01-28T00:00:00\",\"2020-01-29T00:00:00\",\"2020-01-30T00:00:00\",\"2020-01-31T00:00:00\",\"2020-02-03T00:00:00\",\"2020-02-04T00:00:00\",\"2020-02-05T00:00:00\",\"2020-02-06T00:00:00\",\"2020-02-07T00:00:00\",\"2020-02-10T00:00:00\",\"2020-02-11T00:00:00\",\"2020-02-12T00:00:00\",\"2020-02-13T00:00:00\",\"2020-02-14T00:00:00\",\"2020-02-17T00:00:00\",\"2020-02-18T00:00:00\",\"2020-02-19T00:00:00\",\"2020-02-20T00:00:00\",\"2020-02-21T00:00:00\",\"2020-02-24T00:00:00\",\"2020-02-25T00:00:00\",\"2020-02-26T00:00:00\",\"2020-02-27T00:00:00\",\"2020-02-28T00:00:00\",\"2020-03-02T00:00:00\",\"2020-03-03T00:00:00\",\"2020-03-04T00:00:00\",\"2020-03-05T00:00:00\",\"2020-03-06T00:00:00\",\"2020-03-09T00:00:00\",\"2020-03-10T00:00:00\",\"2020-03-11T00:00:00\",\"2020-03-12T00:00:00\",\"2020-03-13T00:00:00\",\"2020-03-16T00:00:00\",\"2020-03-17T00:00:00\",\"2020-03-18T00:00:00\",\"2020-03-19T00:00:00\",\"2020-03-20T00:00:00\",\"2020-03-23T00:00:00\",\"2020-03-24T00:00:00\",\"2020-03-25T00:00:00\",\"2020-03-26T00:00:00\",\"2020-03-27T00:00:00\",\"2020-03-30T00:00:00\",\"2020-03-31T00:00:00\",\"2020-04-01T00:00:00\",\"2020-04-02T00:00:00\",\"2020-04-03T00:00:00\",\"2020-04-06T00:00:00\",\"2020-04-07T00:00:00\",\"2020-04-08T00:00:00\",\"2020-04-09T00:00:00\",\"2020-04-10T00:00:00\",\"2020-04-13T00:00:00\",\"2020-04-14T00:00:00\",\"2020-04-15T00:00:00\",\"2020-04-16T00:00:00\",\"2020-04-17T00:00:00\",\"2020-04-20T00:00:00\",\"2020-04-21T00:00:00\",\"2020-04-22T00:00:00\",\"2020-04-23T00:00:00\",\"2020-04-24T00:00:00\",\"2020-04-27T00:00:00\",\"2020-04-28T00:00:00\",\"2020-04-29T00:00:00\",\"2020-04-30T00:00:00\",\"2020-05-01T00:00:00\",\"2020-05-04T00:00:00\",\"2020-05-05T00:00:00\",\"2020-05-06T00:00:00\",\"2020-05-07T00:00:00\",\"2020-05-08T00:00:00\",\"2020-05-11T00:00:00\",\"2020-05-12T00:00:00\",\"2020-05-13T00:00:00\",\"2020-05-14T00:00:00\",\"2020-05-15T00:00:00\",\"2020-05-18T00:00:00\",\"2020-05-19T00:00:00\",\"2020-05-20T00:00:00\",\"2020-05-21T00:00:00\",\"2020-05-22T00:00:00\",\"2020-05-25T00:00:00\",\"2020-05-26T00:00:00\",\"2020-05-27T00:00:00\",\"2020-05-28T00:00:00\",\"2020-05-29T00:00:00\",\"2020-06-01T00:00:00\",\"2020-06-02T00:00:00\",\"2020-06-03T00:00:00\",\"2020-06-04T00:00:00\",\"2020-06-05T00:00:00\",\"2020-06-08T00:00:00\",\"2020-06-09T00:00:00\",\"2020-06-10T00:00:00\",\"2020-06-11T00:00:00\",\"2020-06-12T00:00:00\",\"2020-06-15T00:00:00\",\"2020-06-16T00:00:00\",\"2020-06-17T00:00:00\",\"2020-06-18T00:00:00\",\"2020-06-19T00:00:00\",\"2020-06-22T00:00:00\",\"2020-06-23T00:00:00\",\"2020-06-24T00:00:00\",\"2020-06-25T00:00:00\",\"2020-06-26T00:00:00\",\"2020-06-29T00:00:00\",\"2020-06-30T00:00:00\",\"2020-07-01T00:00:00\",\"2020-07-02T00:00:00\",\"2020-07-03T00:00:00\",\"2020-07-06T00:00:00\",\"2020-07-07T00:00:00\",\"2020-07-08T00:00:00\",\"2020-07-09T00:00:00\",\"2020-07-10T00:00:00\",\"2020-07-13T00:00:00\",\"2020-07-14T00:00:00\",\"2020-07-15T00:00:00\",\"2020-07-16T00:00:00\",\"2020-07-17T00:00:00\",\"2020-07-20T00:00:00\",\"2020-07-21T00:00:00\",\"2020-07-22T00:00:00\",\"2020-07-23T00:00:00\",\"2020-07-24T00:00:00\",\"2020-07-27T00:00:00\",\"2020-07-28T00:00:00\",\"2020-07-29T00:00:00\",\"2020-07-30T00:00:00\",\"2020-07-31T00:00:00\",\"2020-08-03T00:00:00\",\"2020-08-04T00:00:00\",\"2020-08-05T00:00:00\",\"2020-08-06T00:00:00\",\"2020-08-07T00:00:00\",\"2020-08-10T00:00:00\",\"2020-08-11T00:00:00\",\"2020-08-12T00:00:00\",\"2020-08-13T00:00:00\",\"2020-08-14T00:00:00\",\"2020-08-17T00:00:00\",\"2020-08-18T00:00:00\",\"2020-08-19T00:00:00\",\"2020-08-20T00:00:00\",\"2020-08-21T00:00:00\",\"2020-08-24T00:00:00\",\"2020-08-25T00:00:00\",\"2020-08-26T00:00:00\",\"2020-08-27T00:00:00\",\"2020-08-28T00:00:00\",\"2020-08-31T00:00:00\",\"2020-09-01T00:00:00\",\"2020-09-02T00:00:00\",\"2020-09-03T00:00:00\",\"2020-09-04T00:00:00\",\"2020-09-07T00:00:00\",\"2020-09-08T00:00:00\",\"2020-09-09T00:00:00\",\"2020-09-10T00:00:00\",\"2020-09-11T00:00:00\",\"2020-09-14T00:00:00\",\"2020-09-15T00:00:00\",\"2020-09-16T00:00:00\",\"2020-09-17T00:00:00\",\"2020-09-18T00:00:00\",\"2020-09-21T00:00:00\",\"2020-09-22T00:00:00\",\"2020-09-23T00:00:00\",\"2020-09-24T00:00:00\",\"2020-09-25T00:00:00\",\"2020-09-28T00:00:00\",\"2020-09-29T00:00:00\",\"2020-09-30T00:00:00\",\"2020-10-01T00:00:00\",\"2020-10-02T00:00:00\",\"2020-10-05T00:00:00\",\"2020-10-06T00:00:00\",\"2020-10-07T00:00:00\",\"2020-10-08T00:00:00\",\"2020-10-09T00:00:00\",\"2020-10-12T00:00:00\",\"2020-10-13T00:00:00\",\"2020-10-14T00:00:00\",\"2020-10-15T00:00:00\",\"2020-10-16T00:00:00\",\"2020-10-19T00:00:00\",\"2020-10-20T00:00:00\",\"2020-10-21T00:00:00\",\"2020-10-22T00:00:00\",\"2020-10-23T00:00:00\",\"2020-10-26T00:00:00\",\"2020-10-27T00:00:00\",\"2020-10-28T00:00:00\",\"2020-10-29T00:00:00\",\"2020-10-30T00:00:00\",\"2020-11-02T00:00:00\",\"2020-11-03T00:00:00\",\"2020-11-04T00:00:00\",\"2020-11-05T00:00:00\",\"2020-11-06T00:00:00\",\"2020-11-09T00:00:00\",\"2020-11-10T00:00:00\",\"2020-11-11T00:00:00\",\"2020-11-12T00:00:00\",\"2020-11-13T00:00:00\",\"2020-11-16T00:00:00\",\"2020-11-17T00:00:00\",\"2020-11-18T00:00:00\",\"2020-11-19T00:00:00\",\"2020-11-20T00:00:00\",\"2020-11-23T00:00:00\",\"2020-11-24T00:00:00\",\"2020-11-25T00:00:00\",\"2020-11-26T00:00:00\",\"2020-11-27T00:00:00\",\"2020-11-30T00:00:00\",\"2020-12-01T00:00:00\",\"2020-12-02T00:00:00\",\"2020-12-03T00:00:00\",\"2020-12-04T00:00:00\",\"2020-12-07T00:00:00\",\"2020-12-08T00:00:00\",\"2020-12-09T00:00:00\",\"2020-12-10T00:00:00\",\"2020-12-11T00:00:00\",\"2020-12-14T00:00:00\",\"2020-12-15T00:00:00\",\"2020-12-16T00:00:00\",\"2020-12-17T00:00:00\",\"2020-12-18T00:00:00\",\"2020-12-21T00:00:00\",\"2020-12-22T00:00:00\",\"2020-12-23T00:00:00\",\"2020-12-24T00:00:00\",\"2020-12-25T00:00:00\",\"2020-12-28T00:00:00\",\"2020-12-29T00:00:00\",\"2020-12-30T00:00:00\",\"2020-12-31T00:00:00\",\"2021-01-01T00:00:00\",\"2021-01-04T00:00:00\",\"2021-01-05T00:00:00\",\"2021-01-06T00:00:00\",\"2021-01-07T00:00:00\",\"2021-01-08T00:00:00\",\"2021-01-11T00:00:00\",\"2021-01-12T00:00:00\",\"2021-01-13T00:00:00\",\"2021-01-14T00:00:00\",\"2021-01-15T00:00:00\",\"2021-01-18T00:00:00\",\"2021-01-19T00:00:00\",\"2021-01-20T00:00:00\",\"2021-01-21T00:00:00\",\"2021-01-22T00:00:00\",\"2021-01-25T00:00:00\",\"2021-01-26T00:00:00\",\"2021-01-27T00:00:00\",\"2021-01-28T00:00:00\",\"2021-01-29T00:00:00\",\"2021-02-01T00:00:00\",\"2021-02-02T00:00:00\",\"2021-02-03T00:00:00\",\"2021-02-04T00:00:00\",\"2021-02-05T00:00:00\",\"2021-02-08T00:00:00\",\"2021-02-09T00:00:00\",\"2021-02-10T00:00:00\",\"2021-02-11T00:00:00\",\"2021-02-12T00:00:00\",\"2021-02-15T00:00:00\",\"2021-02-16T00:00:00\",\"2021-02-17T00:00:00\",\"2021-02-18T00:00:00\",\"2021-02-19T00:00:00\",\"2021-02-22T00:00:00\",\"2021-02-23T00:00:00\",\"2021-02-24T00:00:00\",\"2021-02-25T00:00:00\",\"2021-02-26T00:00:00\",\"2021-03-01T00:00:00\",\"2021-03-02T00:00:00\",\"2021-03-03T00:00:00\",\"2021-03-04T00:00:00\",\"2021-03-05T00:00:00\",\"2021-03-08T00:00:00\",\"2021-03-09T00:00:00\",\"2021-03-10T00:00:00\",\"2021-03-11T00:00:00\",\"2021-03-12T00:00:00\",\"2021-03-15T00:00:00\",\"2021-03-16T00:00:00\",\"2021-03-17T00:00:00\",\"2021-03-18T00:00:00\",\"2021-03-19T00:00:00\",\"2021-03-22T00:00:00\",\"2021-03-23T00:00:00\",\"2021-03-24T00:00:00\",\"2021-03-25T00:00:00\",\"2021-03-26T00:00:00\",\"2021-03-29T00:00:00\",\"2021-03-30T00:00:00\",\"2021-03-31T00:00:00\",\"2021-04-01T00:00:00\",\"2021-04-02T00:00:00\",\"2021-04-05T00:00:00\",\"2021-04-06T00:00:00\",\"2021-04-07T00:00:00\",\"2021-04-08T00:00:00\",\"2021-04-09T00:00:00\",\"2021-04-12T00:00:00\",\"2021-04-13T00:00:00\",\"2021-04-14T00:00:00\",\"2021-04-15T00:00:00\",\"2021-04-16T00:00:00\",\"2021-04-19T00:00:00\",\"2021-04-20T00:00:00\",\"2021-04-21T00:00:00\",\"2021-04-22T00:00:00\",\"2021-04-23T00:00:00\",\"2021-04-26T00:00:00\",\"2021-04-27T00:00:00\",\"2021-04-28T00:00:00\",\"2021-04-29T00:00:00\",\"2021-04-30T00:00:00\",\"2021-05-03T00:00:00\",\"2021-05-04T00:00:00\",\"2021-05-05T00:00:00\",\"2021-05-06T00:00:00\",\"2021-05-07T00:00:00\",\"2021-05-10T00:00:00\",\"2021-05-11T00:00:00\",\"2021-05-12T00:00:00\",\"2021-05-13T00:00:00\",\"2021-05-14T00:00:00\",\"2021-05-17T00:00:00\",\"2021-05-18T00:00:00\",\"2021-05-19T00:00:00\",\"2021-05-20T00:00:00\",\"2021-05-21T00:00:00\",\"2021-05-24T00:00:00\",\"2021-05-25T00:00:00\",\"2021-05-26T00:00:00\",\"2021-05-27T00:00:00\",\"2021-05-28T00:00:00\",\"2021-05-31T00:00:00\",\"2021-06-01T00:00:00\",\"2021-06-02T00:00:00\",\"2021-06-03T00:00:00\",\"2021-06-04T00:00:00\",\"2021-06-07T00:00:00\",\"2021-06-08T00:00:00\",\"2021-06-09T00:00:00\",\"2021-06-10T00:00:00\",\"2021-06-11T00:00:00\",\"2021-06-14T00:00:00\",\"2021-06-15T00:00:00\",\"2021-06-16T00:00:00\",\"2021-06-17T00:00:00\",\"2021-06-18T00:00:00\",\"2021-06-21T00:00:00\",\"2021-06-22T00:00:00\",\"2021-06-23T00:00:00\",\"2021-06-24T00:00:00\",\"2021-06-25T00:00:00\",\"2021-06-28T00:00:00\",\"2021-06-29T00:00:00\",\"2021-06-30T00:00:00\",\"2021-07-01T00:00:00\",\"2021-07-02T00:00:00\",\"2021-07-05T00:00:00\",\"2021-07-06T00:00:00\",\"2021-07-07T00:00:00\",\"2021-07-08T00:00:00\",\"2021-07-09T00:00:00\",\"2021-07-12T00:00:00\",\"2021-07-13T00:00:00\",\"2021-07-14T00:00:00\",\"2021-07-15T00:00:00\",\"2021-07-16T00:00:00\",\"2021-07-19T00:00:00\",\"2021-07-20T00:00:00\",\"2021-07-21T00:00:00\",\"2021-07-22T00:00:00\",\"2021-07-23T00:00:00\",\"2021-07-26T00:00:00\",\"2021-07-27T00:00:00\",\"2021-07-28T00:00:00\",\"2021-07-29T00:00:00\",\"2021-07-30T00:00:00\",\"2021-08-02T00:00:00\",\"2021-08-03T00:00:00\",\"2021-08-04T00:00:00\",\"2021-08-05T00:00:00\",\"2021-08-06T00:00:00\",\"2021-08-09T00:00:00\",\"2021-08-10T00:00:00\",\"2021-08-11T00:00:00\",\"2021-08-12T00:00:00\",\"2021-08-13T00:00:00\",\"2021-08-16T00:00:00\",\"2021-08-17T00:00:00\",\"2021-08-18T00:00:00\",\"2021-08-19T00:00:00\",\"2021-08-20T00:00:00\",\"2021-08-23T00:00:00\",\"2021-08-24T00:00:00\",\"2021-08-25T00:00:00\",\"2021-08-26T00:00:00\",\"2021-08-27T00:00:00\",\"2021-08-30T00:00:00\",\"2021-08-31T00:00:00\",\"2021-09-01T00:00:00\",\"2021-09-02T00:00:00\",\"2021-09-03T00:00:00\",\"2021-09-06T00:00:00\",\"2021-09-07T00:00:00\",\"2021-09-08T00:00:00\",\"2021-09-09T00:00:00\",\"2021-09-10T00:00:00\",\"2021-09-13T00:00:00\",\"2021-09-14T00:00:00\",\"2021-09-15T00:00:00\",\"2021-09-16T00:00:00\",\"2021-09-17T00:00:00\",\"2021-09-20T00:00:00\",\"2021-09-21T00:00:00\",\"2021-09-22T00:00:00\",\"2021-09-23T00:00:00\",\"2021-09-24T00:00:00\",\"2021-09-27T00:00:00\",\"2021-09-28T00:00:00\",\"2021-09-29T00:00:00\",\"2021-09-30T00:00:00\",\"2021-10-01T00:00:00\",\"2021-10-04T00:00:00\",\"2021-10-05T00:00:00\",\"2021-10-06T00:00:00\",\"2021-10-07T00:00:00\",\"2021-10-08T00:00:00\",\"2021-10-11T00:00:00\",\"2021-10-12T00:00:00\",\"2021-10-13T00:00:00\",\"2021-10-14T00:00:00\",\"2021-10-15T00:00:00\",\"2021-10-18T00:00:00\",\"2021-10-19T00:00:00\",\"2021-10-20T00:00:00\",\"2021-10-21T00:00:00\",\"2021-10-22T00:00:00\",\"2021-10-25T00:00:00\",\"2021-10-26T00:00:00\",\"2021-10-27T00:00:00\",\"2021-10-28T00:00:00\",\"2021-10-29T00:00:00\",\"2021-11-01T00:00:00\",\"2021-11-02T00:00:00\",\"2021-11-03T00:00:00\",\"2021-11-04T00:00:00\",\"2021-11-05T00:00:00\",\"2021-11-08T00:00:00\",\"2021-11-09T00:00:00\",\"2021-11-10T00:00:00\",\"2021-11-11T00:00:00\",\"2021-11-12T00:00:00\",\"2021-11-15T00:00:00\",\"2021-11-16T00:00:00\",\"2021-11-17T00:00:00\",\"2021-11-18T00:00:00\",\"2021-11-19T00:00:00\",\"2021-11-22T00:00:00\",\"2021-11-23T00:00:00\",\"2021-11-24T00:00:00\",\"2021-11-25T00:00:00\",\"2021-11-26T00:00:00\",\"2021-11-29T00:00:00\",\"2021-11-30T00:00:00\",\"2021-12-01T00:00:00\",\"2021-12-02T00:00:00\",\"2021-12-03T00:00:00\",\"2021-12-06T00:00:00\",\"2021-12-07T00:00:00\",\"2021-12-08T00:00:00\",\"2021-12-09T00:00:00\",\"2021-12-10T00:00:00\",\"2021-12-13T00:00:00\",\"2021-12-14T00:00:00\",\"2021-12-15T00:00:00\",\"2021-12-16T00:00:00\",\"2021-12-17T00:00:00\",\"2021-12-20T00:00:00\",\"2021-12-21T00:00:00\",\"2021-12-22T00:00:00\",\"2021-12-23T00:00:00\",\"2021-12-24T00:00:00\",\"2021-12-27T00:00:00\",\"2021-12-28T00:00:00\",\"2021-12-29T00:00:00\",\"2021-12-30T00:00:00\",\"2021-12-31T00:00:00\",\"2022-01-03T00:00:00\",\"2022-01-04T00:00:00\",\"2022-01-05T00:00:00\",\"2022-01-06T00:00:00\",\"2022-01-07T00:00:00\",\"2022-01-10T00:00:00\",\"2022-01-11T00:00:00\",\"2022-01-12T00:00:00\",\"2022-01-13T00:00:00\",\"2022-01-14T00:00:00\",\"2022-01-17T00:00:00\",\"2022-01-18T00:00:00\",\"2022-01-19T00:00:00\",\"2022-01-20T00:00:00\",\"2022-01-21T00:00:00\",\"2022-01-24T00:00:00\",\"2022-01-25T00:00:00\",\"2022-01-26T00:00:00\",\"2022-01-27T00:00:00\",\"2022-01-28T00:00:00\",\"2022-01-31T00:00:00\",\"2022-02-01T00:00:00\",\"2022-02-02T00:00:00\",\"2022-02-03T00:00:00\",\"2022-02-04T00:00:00\",\"2022-02-07T00:00:00\",\"2022-02-08T00:00:00\",\"2022-02-09T00:00:00\",\"2022-02-10T00:00:00\",\"2022-02-11T00:00:00\",\"2022-02-14T00:00:00\",\"2022-02-15T00:00:00\",\"2022-02-16T00:00:00\",\"2022-02-17T00:00:00\",\"2022-02-18T00:00:00\",\"2022-02-21T00:00:00\",\"2022-02-22T00:00:00\",\"2022-02-23T00:00:00\",\"2022-02-24T00:00:00\",\"2022-02-25T00:00:00\",\"2022-02-28T00:00:00\",\"2022-03-01T00:00:00\",\"2022-03-02T00:00:00\",\"2022-03-03T00:00:00\",\"2022-03-04T00:00:00\",\"2022-03-07T00:00:00\",\"2022-03-08T00:00:00\",\"2022-03-09T00:00:00\",\"2022-03-10T00:00:00\",\"2022-03-11T00:00:00\",\"2022-03-14T00:00:00\",\"2022-03-15T00:00:00\",\"2022-03-16T00:00:00\",\"2022-03-17T00:00:00\",\"2022-03-18T00:00:00\",\"2022-03-21T00:00:00\",\"2022-03-22T00:00:00\",\"2022-03-23T00:00:00\",\"2022-03-24T00:00:00\",\"2022-03-25T00:00:00\",\"2022-03-28T00:00:00\",\"2022-03-29T00:00:00\",\"2022-03-30T00:00:00\",\"2022-03-31T00:00:00\",\"2022-04-01T00:00:00\",\"2022-04-04T00:00:00\",\"2022-04-05T00:00:00\",\"2022-04-06T00:00:00\",\"2022-04-07T00:00:00\",\"2022-04-08T00:00:00\",\"2022-04-11T00:00:00\",\"2022-04-12T00:00:00\",\"2022-04-13T00:00:00\",\"2022-04-14T00:00:00\",\"2022-04-15T00:00:00\",\"2022-04-18T00:00:00\",\"2022-04-19T00:00:00\",\"2022-04-20T00:00:00\",\"2022-04-21T00:00:00\",\"2022-04-22T00:00:00\",\"2022-04-25T00:00:00\",\"2022-04-26T00:00:00\",\"2022-04-27T00:00:00\",\"2022-04-28T00:00:00\",\"2022-04-29T00:00:00\",\"2022-05-02T00:00:00\",\"2022-05-03T00:00:00\",\"2022-05-04T00:00:00\",\"2022-05-05T00:00:00\",\"2022-05-06T00:00:00\",\"2022-05-09T00:00:00\",\"2022-05-10T00:00:00\",\"2022-05-11T00:00:00\",\"2022-05-12T00:00:00\",\"2022-05-13T00:00:00\",\"2022-05-16T00:00:00\",\"2022-05-17T00:00:00\",\"2022-05-18T00:00:00\",\"2022-05-19T00:00:00\",\"2022-05-20T00:00:00\",\"2022-05-23T00:00:00\",\"2022-05-24T00:00:00\",\"2022-05-25T00:00:00\",\"2022-05-26T00:00:00\",\"2022-05-27T00:00:00\",\"2022-05-30T00:00:00\",\"2022-05-31T00:00:00\",\"2022-06-01T00:00:00\",\"2022-06-02T00:00:00\",\"2022-06-03T00:00:00\",\"2022-06-06T00:00:00\",\"2022-06-07T00:00:00\",\"2022-06-08T00:00:00\",\"2022-06-09T00:00:00\",\"2022-06-10T00:00:00\",\"2022-06-13T00:00:00\",\"2022-06-14T00:00:00\",\"2022-06-15T00:00:00\",\"2022-06-16T00:00:00\",\"2022-06-17T00:00:00\",\"2022-06-20T00:00:00\",\"2022-06-21T00:00:00\",\"2022-06-22T00:00:00\",\"2022-06-23T00:00:00\",\"2022-06-24T00:00:00\",\"2022-06-27T00:00:00\",\"2022-06-28T00:00:00\",\"2022-06-29T00:00:00\",\"2022-06-30T00:00:00\",\"2022-07-01T00:00:00\",\"2022-07-04T00:00:00\",\"2022-07-05T00:00:00\",\"2022-07-06T00:00:00\",\"2022-07-07T00:00:00\",\"2022-07-08T00:00:00\",\"2022-07-11T00:00:00\",\"2022-07-12T00:00:00\",\"2022-07-13T00:00:00\",\"2022-07-14T00:00:00\",\"2022-07-15T00:00:00\",\"2022-07-18T00:00:00\",\"2022-07-19T00:00:00\",\"2022-07-20T00:00:00\",\"2022-07-21T00:00:00\",\"2022-07-22T00:00:00\",\"2022-07-25T00:00:00\",\"2022-07-26T00:00:00\",\"2022-07-27T00:00:00\",\"2022-07-28T00:00:00\",\"2022-07-29T00:00:00\",\"2022-08-01T00:00:00\",\"2022-08-02T00:00:00\",\"2022-08-03T00:00:00\",\"2022-08-04T00:00:00\",\"2022-08-05T00:00:00\",\"2022-08-08T00:00:00\",\"2022-08-09T00:00:00\",\"2022-08-10T00:00:00\",\"2022-08-11T00:00:00\",\"2022-08-12T00:00:00\",\"2022-08-15T00:00:00\",\"2022-08-16T00:00:00\",\"2022-08-17T00:00:00\",\"2022-08-18T00:00:00\",\"2022-08-19T00:00:00\",\"2022-08-22T00:00:00\",\"2022-08-23T00:00:00\",\"2022-08-24T00:00:00\",\"2022-08-25T00:00:00\",\"2022-08-26T00:00:00\",\"2022-08-29T00:00:00\",\"2022-08-30T00:00:00\",\"2022-08-31T00:00:00\",\"2022-09-01T00:00:00\",\"2022-09-02T00:00:00\",\"2022-09-05T00:00:00\",\"2022-09-06T00:00:00\",\"2022-09-07T00:00:00\",\"2022-09-08T00:00:00\",\"2022-09-09T00:00:00\",\"2022-09-12T00:00:00\",\"2022-09-13T00:00:00\",\"2022-09-14T00:00:00\",\"2022-09-15T00:00:00\",\"2022-09-16T00:00:00\",\"2022-09-19T00:00:00\",\"2022-09-20T00:00:00\",\"2022-09-21T00:00:00\",\"2022-09-22T00:00:00\",\"2022-09-23T00:00:00\",\"2022-09-26T00:00:00\",\"2022-09-27T00:00:00\",\"2022-09-28T00:00:00\",\"2022-09-29T00:00:00\",\"2022-09-30T00:00:00\",\"2022-10-03T00:00:00\",\"2022-10-04T00:00:00\",\"2022-10-05T00:00:00\",\"2022-10-06T00:00:00\",\"2022-10-07T00:00:00\",\"2022-10-10T00:00:00\",\"2022-10-11T00:00:00\",\"2022-10-12T00:00:00\",\"2022-10-13T00:00:00\",\"2022-10-14T00:00:00\",\"2022-10-17T00:00:00\",\"2022-10-18T00:00:00\",\"2022-10-19T00:00:00\",\"2022-10-20T00:00:00\",\"2022-10-21T00:00:00\",\"2022-10-24T00:00:00\",\"2022-10-25T00:00:00\",\"2022-10-26T00:00:00\",\"2022-10-27T00:00:00\",\"2022-10-28T00:00:00\",\"2022-10-31T00:00:00\",\"2022-11-01T00:00:00\",\"2022-11-02T00:00:00\",\"2022-11-03T00:00:00\",\"2022-11-04T00:00:00\",\"2022-11-07T00:00:00\",\"2022-11-08T00:00:00\",\"2022-11-09T00:00:00\",\"2022-11-10T00:00:00\",\"2022-11-11T00:00:00\",\"2022-11-14T00:00:00\",\"2022-11-15T00:00:00\",\"2022-11-16T00:00:00\",\"2022-11-17T00:00:00\",\"2022-11-18T00:00:00\",\"2022-11-21T00:00:00\",\"2022-11-22T00:00:00\",\"2022-11-23T00:00:00\",\"2022-11-24T00:00:00\",\"2022-11-25T00:00:00\",\"2022-11-28T00:00:00\",\"2022-11-29T00:00:00\",\"2022-11-30T00:00:00\",\"2022-12-01T00:00:00\",\"2022-12-02T00:00:00\",\"2022-12-05T00:00:00\",\"2022-12-06T00:00:00\",\"2022-12-07T00:00:00\",\"2022-12-08T00:00:00\",\"2022-12-09T00:00:00\",\"2022-12-12T00:00:00\",\"2022-12-13T00:00:00\",\"2022-12-14T00:00:00\",\"2022-12-15T00:00:00\",\"2022-12-16T00:00:00\",\"2022-12-19T00:00:00\",\"2022-12-20T00:00:00\",\"2022-12-21T00:00:00\",\"2022-12-22T00:00:00\",\"2022-12-23T00:00:00\",\"2022-12-26T00:00:00\",\"2022-12-27T00:00:00\",\"2022-12-28T00:00:00\",\"2022-12-29T00:00:00\"],\"y\":[7200.17431640625,6985.47021484375,7344.88427734375,7769.21923828125,8163.6923828125,8079.86279296875,7879.0712890625,8166.55419921875,8144.1943359375,8827.7646484375,8807.0107421875,8723.7861328125,8929.0380859375,8657.642578125,8745.89453125,8680.8759765625,8406.515625,8445.4345703125,8909.8193359375,9358.58984375,9316.6298828125,9508.9931640625,9350.529296875,9293.521484375,9180.962890625,9613.423828125,9729.8017578125,9795.943359375,9856.611328125,10208.236328125,10326.0546875,10214.3798828125,10312.1162109375,9690.142578125,10141.99609375,9633.38671875,9608.4755859375,9686.44140625,9650.1748046875,9341.705078125,8820.5224609375,8784.494140625,8672.455078125,8869.669921875,8787.7861328125,8755.24609375,9078.7626953125,9122.5458984375,7923.64453125,7909.7294921875,7911.43017578125,4970.7880859375,5563.70703125,5014.47998046875,5225.62939453125,5238.4384765625,6191.19287109375,6198.7783203125,6416.31494140625,6734.8037109375,6681.06298828125,6716.4404296875,6469.79833984375,6429.841796875,6438.64453125,6606.7763671875,6793.62451171875,6733.38720703125,7271.78125,7176.41455078125,7334.0986328125,7302.08935546875,6865.4931640625,6845.03759765625,6842.427734375,6642.10986328125,7116.80419921875,7096.1845703125,6881.95849609375,6880.3232421875,7117.20751953125,7429.724609375,7550.90087890625,7795.60107421875,7807.05859375,8801.0380859375,8658.5537109375,8864.7666015625,8912.654296875,9003.0703125,9268.76171875,9951.5185546875,9842.666015625,8601.7958984375,8804.4775390625,9269.9873046875,9733.7216796875,9328.197265625,9726.5751953125,9729.0380859375,9522.9814453125,9081.76171875,9182.5771484375,8906.9345703125,8835.052734375,9181.017578125,9525.7509765625,9439.1240234375,10167.2685546875,9529.8037109375,9656.7177734375,9800.63671875,9665.533203125,9771.4892578125,9795.7001953125,9870.0947265625,9321.78125,9480.84375,9450.7021484375,9538.0244140625,9480.2548828125,9411.8408203125,9288.0185546875,9648.7177734375,9629.658203125,9313.6103515625,9264.8134765625,9162.91796875,9190.8544921875,9137.9931640625,9228.3251953125,9123.41015625,9087.3037109375,9375.474609375,9252.27734375,9428.3330078125,9277.9677734375,9278.8076171875,9243.6142578125,9243.2138671875,9192.8369140625,9132.2275390625,9151.392578125,9164.2314453125,9374.8876953125,9525.36328125,9581.072265625,9536.892578125,10990.873046875,10912.8232421875,11100.4677734375,11111.2138671875,11323.466796875,11246.3486328125,11205.892578125,11747.0224609375,11779.7734375,11601.47265625,11878.111328125,11410.525390625,11584.9345703125,11784.1376953125,11768.87109375,12254.40234375,11991.2333984375,11758.283203125,11878.3720703125,11592.4892578125,11774.595703125,11366.134765625,11488.36328125,11323.3974609375,11542.5,11680.8203125,11970.478515625,11414.0341796875,10245.296875,10511.8134765625,10369.5634765625,10131.5166015625,10242.34765625,10363.138671875,10400.9150390625,10680.837890625,10796.951171875,10974.9052734375,10948.990234375,10944.5859375,10462.259765625,10538.4599609375,10246.1865234375,10760.06640625,10692.716796875,10709.65234375,10844.640625,10784.4912109375,10619.4521484375,10575.974609375,10793.33984375,10604.40625,10668.96875,10915.685546875,11064.4580078125,11555.36328125,11425.8994140625,11429.5068359375,11495.349609375,11322.123046875,11742.037109375,11916.3349609375,12823.689453125,12965.8916015625,12931.5390625,13075.248046875,13654.21875,13271.28515625,13437.8828125,13546.5224609375,13550.4892578125,13950.30078125,14133.70703125,15579.8486328125,15565.880859375,15332.3154296875,15290.90234375,15701.33984375,16276.34375,16317.80859375,16716.111328125,17645.40625,17804.005859375,17817.08984375,18621.314453125,18364.12109375,19107.46484375,18732.12109375,17150.623046875,17108.40234375,19625.8359375,18802.998046875,19201.091796875,19445.3984375,18699.765625,19191.630859375,18321.14453125,18553.916015625,18264.9921875,18058.904296875,19246.64453125,19417.076171875,21310.59765625,22805.162109375,23137.9609375,22803.08203125,23783.029296875,23241.345703125,23735.94921875,24664.791015625,27084.80859375,27362.4375,28840.953125,29001.720703125,29374.15234375,31971.9140625,33992.4296875,36824.36328125,39371.04296875,40797.609375,35566.65625,33922.9609375,37316.359375,39187.328125,36825.3671875,36630.07421875,36069.8046875,35547.75,30825.69921875,33005.76171875,32366.392578125,32569.849609375,30432.546875,33466.09765625,34316.38671875,33537.17578125,35510.2890625,37472.08984375,36926.06640625,38144.30859375,46196.46484375,46481.10546875,44918.18359375,47909.33203125,47504.8515625,47945.05859375,49199.87109375,52149.0078125,51679.796875,55888.1328125,54207.3203125,48824.42578125,49705.33203125,47093.8515625,46339.76171875,49631.2421875,48378.98828125,50538.2421875,48561.16796875,48927.3046875,52246.5234375,54824.1171875,56008.55078125,57805.12109375,57332.08984375,55907.19921875,56804.90234375,58870.89453125,57858.921875,58346.65234375,54529.14453125,54738.9453125,52774.265625,51704.16015625,55137.3125,57750.19921875,58917.69140625,58918.83203125,59095.80859375,59384.3125,59057.87890625,58192.359375,56048.9375,58323.953125,58245.00390625,59893.453125,63503.45703125,63109.6953125,63314.01171875,61572.7890625,55724.265625,56473.03125,53906.08984375,51762.2734375,51093.65234375,54021.75390625,55033.1171875,54824.703125,53555.109375,57750.17578125,57200.29296875,53333.5390625,57424.0078125,56396.515625,57356.40234375,55859.796875,56704.57421875,49150.53515625,49716.19140625,49880.53515625,43537.51171875,42909.40234375,37002.44140625,40782.73828125,37304.69140625,38705.98046875,38402.22265625,39294.19921875,38436.96875,35697.60546875,37332.85546875,36684.92578125,37575.1796875,39208.765625,36894.40625,33560.70703125,33472.6328125,37345.12109375,36702.59765625,37334.3984375,40218.4765625,40406.26953125,38347.0625,38053.50390625,35787.24609375,31676.693359375,32505.66015625,33723.02734375,34662.4375,31637.779296875,34434.3359375,35867.77734375,35040.8359375,33572.1171875,33897.046875,33746.00390625,34235.1953125,33855.328125,32877.37109375,33798.01171875,33155.84765625,32702.025390625,32822.34765625,31780.73046875,31421.5390625,30817.83203125,29807.34765625,32110.693359375,32313.10546875,33581.55078125,37337.53515625,39406.94140625,39995.90625,40008.421875,42235.546875,39201.9453125,38152.98046875,39747.50390625,40869.5546875,42816.5,46365.40234375,45585.03125,45593.63671875,44428.2890625,47793.3203125,46004.484375,44695.359375,44801.1875,46717.578125,49339.17578125,49546.1484375,47706.1171875,48960.7890625,46942.21875,49058.66796875,47054.984375,47166.6875,48847.02734375,49327.72265625,50025.375,52633.53515625,46811.12890625,46091.390625,46391.421875,44883.91015625,44963.07421875,47092.4921875,48176.34765625,47783.359375,47267.51953125,42843.80078125,40693.67578125,43574.5078125,44895.09765625,42839.75,42235.73046875,41034.54296875,41564.36328125,43790.89453125,48116.94140625,49112.90234375,51514.8125,55361.44921875,53805.984375,53967.84765625,57484.7890625,56041.05859375,57401.09765625,57321.5234375,61593.94921875,62026.078125,64261.9921875,65992.8359375,62210.171875,60692.265625,63039.82421875,60363.79296875,58482.38671875,60622.13671875,62227.96484375,61004.40625,63226.40234375,62970.046875,61452.23046875,61125.67578125,67566.828125,66971.828125,64995.23046875,64949.9609375,64155.94140625,63557.87109375,60161.24609375,60368.01171875,56942.13671875,58119.578125,56289.2890625,57569.07421875,56280.42578125,57274.6796875,53569.765625,57806.56640625,57005.42578125,57229.828125,56477.81640625,53598.24609375,50582.625,50700.0859375,50504.796875,47672.12109375,47243.3046875,46737.48046875,46612.6328125,48896.72265625,47665.42578125,46202.14453125,46880.27734375,48936.61328125,48628.51171875,50784.5390625,50822.1953125,50640.41796875,47588.85546875,46444.7109375,47178.125,46306.4453125,46458.1171875,45897.57421875,43569.00390625,43160.9296875,41557.90234375,41821.26171875,42735.85546875,43949.1015625,42591.5703125,43099.69921875,42250.55078125,42375.6328125,41744.328125,40680.41796875,36457.31640625,36654.328125,36954.00390625,36852.12109375,37138.234375,37784.33203125,38483.125,38743.2734375,36952.984375,37154.6015625,41500.875,43840.28515625,44118.4453125,44338.796875,43565.11328125,42407.9375,42586.91796875,44575.203125,43961.859375,40538.01171875,40030.9765625,37075.28125,38286.02734375,37296.5703125,38332.609375,39214.21875,43193.234375,44354.63671875,43924.1171875,42451.7890625,39137.60546875,38062.0390625,38737.26953125,41982.92578125,39437.4609375,38794.97265625,39666.75390625,39338.78515625,41143.9296875,40951.37890625,41801.15625,41077.99609375,42358.80859375,42892.95703125,43960.93359375,44348.73046875,47128.00390625,47465.73046875,47062.6640625,45538.67578125,46281.64453125,46622.67578125,45555.9921875,43206.73828125,43503.84765625,42287.6640625,39521.90234375,40127.18359375,41166.73046875,39935.515625,40553.46484375,40826.21484375,41502.75,41374.37890625,40527.36328125,39740.3203125,40458.30859375,38117.4609375,39241.12109375,39773.828125,38609.82421875,38529.328125,37750.453125,39698.37109375,36575.140625,36040.921875,30296.953125,31022.90625,28936.35546875,29047.751953125,29283.103515625,29862.91796875,30425.857421875,28720.271484375,30314.333984375,29200.740234375,29098.91015625,29655.5859375,29562.361328125,29267.224609375,28627.57421875,31726.390625,31792.310546875,29799.080078125,30467.48828125,29704.390625,31370.671875,31155.478515625,30214.35546875,30111.998046875,29083.8046875,22487.388671875,22206.79296875,22572.83984375,20381.650390625,20471.482421875,20599.537109375,20710.59765625,19987.029296875,21085.876953125,21231.65625,20735.478515625,20280.634765625,20104.0234375,19784.7265625,19269.3671875,20231.26171875,20190.115234375,20548.24609375,21637.587890625,21731.1171875,19970.556640625,19323.9140625,20212.07421875,20569.919921875,20836.328125,22485.689453125,23389.43359375,23231.732421875,23164.62890625,22714.978515625,21361.701171875,21239.75390625,22930.548828125,23843.88671875,23804.6328125,23314.19921875,22978.1171875,22846.5078125,22630.95703125,23289.314453125,23809.486328125,23164.318359375,23947.642578125,23957.529296875,24402.818359375,24136.97265625,23883.291015625,23335.998046875,23212.73828125,20877.552734375,21398.908203125,21528.087890625,21395.01953125,21600.904296875,20260.01953125,20297.994140625,19796.80859375,20049.763671875,20127.140625,19969.771484375,19812.37109375,18837.66796875,19290.32421875,19329.833984375,21381.15234375,22370.44921875,20296.70703125,20241.08984375,19701.2109375,19772.583984375,19544.12890625,18890.7890625,18547.400390625,19413.55078125,19297.638671875,19222.671875,19110.546875,19426.720703125,19573.05078125,19431.7890625,19623.580078125,20336.84375,20160.716796875,19955.443359375,19546.849609375,19141.484375,19051.41796875,19157.4453125,19382.904296875,19185.65625,19550.7578125,19334.416015625,19139.53515625,19053.740234375,19172.46875,19345.572265625,20095.857421875,20770.44140625,20285.8359375,20595.3515625,20495.7734375,20485.2734375,20159.50390625,20209.98828125,21147.23046875,20602.81640625,18541.271484375,15880.7802734375,17586.771484375,17034.29296875,16618.19921875,16884.61328125,16669.439453125,16687.517578125,16697.77734375,15787.2841796875,16189.76953125,16610.70703125,16604.46484375,16521.841796875,16217.322265625,16444.982421875,17168.56640625,16967.1328125,17088.66015625,16974.826171875,17089.50390625,16848.126953125,17233.474609375,17133.15234375,17206.4375,17781.318359375,17815.650390625,17364.865234375,16647.484375,16439.6796875,16906.3046875,16817.53515625,16830.341796875,16796.953125,16919.8046875,16717.173828125,16552.572265625,16642.341796875],\"type\":\"scatter\"},{\"mode\":\"lines\",\"name\":\"Dolar\",\"x\":[\"2020-01-01T00:00:00\",\"2020-01-02T00:00:00\",\"2020-01-03T00:00:00\",\"2020-01-06T00:00:00\",\"2020-01-07T00:00:00\",\"2020-01-08T00:00:00\",\"2020-01-09T00:00:00\",\"2020-01-10T00:00:00\",\"2020-01-13T00:00:00\",\"2020-01-14T00:00:00\",\"2020-01-15T00:00:00\",\"2020-01-16T00:00:00\",\"2020-01-17T00:00:00\",\"2020-01-20T00:00:00\",\"2020-01-21T00:00:00\",\"2020-01-22T00:00:00\",\"2020-01-23T00:00:00\",\"2020-01-24T00:00:00\",\"2020-01-27T00:00:00\",\"2020-01-28T00:00:00\",\"2020-01-29T00:00:00\",\"2020-01-30T00:00:00\",\"2020-01-31T00:00:00\",\"2020-02-03T00:00:00\",\"2020-02-04T00:00:00\",\"2020-02-05T00:00:00\",\"2020-02-06T00:00:00\",\"2020-02-07T00:00:00\",\"2020-02-10T00:00:00\",\"2020-02-11T00:00:00\",\"2020-02-12T00:00:00\",\"2020-02-13T00:00:00\",\"2020-02-14T00:00:00\",\"2020-02-17T00:00:00\",\"2020-02-18T00:00:00\",\"2020-02-19T00:00:00\",\"2020-02-20T00:00:00\",\"2020-02-21T00:00:00\",\"2020-02-24T00:00:00\",\"2020-02-25T00:00:00\",\"2020-02-26T00:00:00\",\"2020-02-27T00:00:00\",\"2020-02-28T00:00:00\",\"2020-03-02T00:00:00\",\"2020-03-03T00:00:00\",\"2020-03-04T00:00:00\",\"2020-03-05T00:00:00\",\"2020-03-06T00:00:00\",\"2020-03-09T00:00:00\",\"2020-03-10T00:00:00\",\"2020-03-11T00:00:00\",\"2020-03-12T00:00:00\",\"2020-03-13T00:00:00\",\"2020-03-16T00:00:00\",\"2020-03-17T00:00:00\",\"2020-03-18T00:00:00\",\"2020-03-19T00:00:00\",\"2020-03-20T00:00:00\",\"2020-03-23T00:00:00\",\"2020-03-24T00:00:00\",\"2020-03-25T00:00:00\",\"2020-03-26T00:00:00\",\"2020-03-27T00:00:00\",\"2020-03-30T00:00:00\",\"2020-03-31T00:00:00\",\"2020-04-01T00:00:00\",\"2020-04-02T00:00:00\",\"2020-04-03T00:00:00\",\"2020-04-06T00:00:00\",\"2020-04-07T00:00:00\",\"2020-04-08T00:00:00\",\"2020-04-09T00:00:00\",\"2020-04-10T00:00:00\",\"2020-04-13T00:00:00\",\"2020-04-14T00:00:00\",\"2020-04-15T00:00:00\",\"2020-04-16T00:00:00\",\"2020-04-17T00:00:00\",\"2020-04-20T00:00:00\",\"2020-04-21T00:00:00\",\"2020-04-22T00:00:00\",\"2020-04-23T00:00:00\",\"2020-04-24T00:00:00\",\"2020-04-27T00:00:00\",\"2020-04-28T00:00:00\",\"2020-04-29T00:00:00\",\"2020-04-30T00:00:00\",\"2020-05-01T00:00:00\",\"2020-05-04T00:00:00\",\"2020-05-05T00:00:00\",\"2020-05-06T00:00:00\",\"2020-05-07T00:00:00\",\"2020-05-08T00:00:00\",\"2020-05-11T00:00:00\",\"2020-05-12T00:00:00\",\"2020-05-13T00:00:00\",\"2020-05-14T00:00:00\",\"2020-05-15T00:00:00\",\"2020-05-18T00:00:00\",\"2020-05-19T00:00:00\",\"2020-05-20T00:00:00\",\"2020-05-21T00:00:00\",\"2020-05-22T00:00:00\",\"2020-05-25T00:00:00\",\"2020-05-26T00:00:00\",\"2020-05-27T00:00:00\",\"2020-05-28T00:00:00\",\"2020-05-29T00:00:00\",\"2020-06-01T00:00:00\",\"2020-06-02T00:00:00\",\"2020-06-03T00:00:00\",\"2020-06-04T00:00:00\",\"2020-06-05T00:00:00\",\"2020-06-08T00:00:00\",\"2020-06-09T00:00:00\",\"2020-06-10T00:00:00\",\"2020-06-11T00:00:00\",\"2020-06-12T00:00:00\",\"2020-06-15T00:00:00\",\"2020-06-16T00:00:00\",\"2020-06-17T00:00:00\",\"2020-06-18T00:00:00\",\"2020-06-19T00:00:00\",\"2020-06-22T00:00:00\",\"2020-06-23T00:00:00\",\"2020-06-24T00:00:00\",\"2020-06-25T00:00:00\",\"2020-06-26T00:00:00\",\"2020-06-29T00:00:00\",\"2020-06-30T00:00:00\",\"2020-07-01T00:00:00\",\"2020-07-02T00:00:00\",\"2020-07-03T00:00:00\",\"2020-07-06T00:00:00\",\"2020-07-07T00:00:00\",\"2020-07-08T00:00:00\",\"2020-07-09T00:00:00\",\"2020-07-10T00:00:00\",\"2020-07-13T00:00:00\",\"2020-07-14T00:00:00\",\"2020-07-15T00:00:00\",\"2020-07-16T00:00:00\",\"2020-07-17T00:00:00\",\"2020-07-20T00:00:00\",\"2020-07-21T00:00:00\",\"2020-07-22T00:00:00\",\"2020-07-23T00:00:00\",\"2020-07-24T00:00:00\",\"2020-07-27T00:00:00\",\"2020-07-28T00:00:00\",\"2020-07-29T00:00:00\",\"2020-07-30T00:00:00\",\"2020-07-31T00:00:00\",\"2020-08-03T00:00:00\",\"2020-08-04T00:00:00\",\"2020-08-05T00:00:00\",\"2020-08-06T00:00:00\",\"2020-08-07T00:00:00\",\"2020-08-10T00:00:00\",\"2020-08-11T00:00:00\",\"2020-08-12T00:00:00\",\"2020-08-13T00:00:00\",\"2020-08-14T00:00:00\",\"2020-08-17T00:00:00\",\"2020-08-18T00:00:00\",\"2020-08-19T00:00:00\",\"2020-08-20T00:00:00\",\"2020-08-21T00:00:00\",\"2020-08-24T00:00:00\",\"2020-08-25T00:00:00\",\"2020-08-26T00:00:00\",\"2020-08-27T00:00:00\",\"2020-08-28T00:00:00\",\"2020-08-31T00:00:00\",\"2020-09-01T00:00:00\",\"2020-09-02T00:00:00\",\"2020-09-03T00:00:00\",\"2020-09-04T00:00:00\",\"2020-09-07T00:00:00\",\"2020-09-08T00:00:00\",\"2020-09-09T00:00:00\",\"2020-09-10T00:00:00\",\"2020-09-11T00:00:00\",\"2020-09-14T00:00:00\",\"2020-09-15T00:00:00\",\"2020-09-16T00:00:00\",\"2020-09-17T00:00:00\",\"2020-09-18T00:00:00\",\"2020-09-21T00:00:00\",\"2020-09-22T00:00:00\",\"2020-09-23T00:00:00\",\"2020-09-24T00:00:00\",\"2020-09-25T00:00:00\",\"2020-09-28T00:00:00\",\"2020-09-29T00:00:00\",\"2020-09-30T00:00:00\",\"2020-10-01T00:00:00\",\"2020-10-02T00:00:00\",\"2020-10-05T00:00:00\",\"2020-10-06T00:00:00\",\"2020-10-07T00:00:00\",\"2020-10-08T00:00:00\",\"2020-10-09T00:00:00\",\"2020-10-12T00:00:00\",\"2020-10-13T00:00:00\",\"2020-10-14T00:00:00\",\"2020-10-15T00:00:00\",\"2020-10-16T00:00:00\",\"2020-10-19T00:00:00\",\"2020-10-20T00:00:00\",\"2020-10-21T00:00:00\",\"2020-10-22T00:00:00\",\"2020-10-23T00:00:00\",\"2020-10-26T00:00:00\",\"2020-10-27T00:00:00\",\"2020-10-28T00:00:00\",\"2020-10-29T00:00:00\",\"2020-10-30T00:00:00\",\"2020-11-02T00:00:00\",\"2020-11-03T00:00:00\",\"2020-11-04T00:00:00\",\"2020-11-05T00:00:00\",\"2020-11-06T00:00:00\",\"2020-11-09T00:00:00\",\"2020-11-10T00:00:00\",\"2020-11-11T00:00:00\",\"2020-11-12T00:00:00\",\"2020-11-13T00:00:00\",\"2020-11-16T00:00:00\",\"2020-11-17T00:00:00\",\"2020-11-18T00:00:00\",\"2020-11-19T00:00:00\",\"2020-11-20T00:00:00\",\"2020-11-23T00:00:00\",\"2020-11-24T00:00:00\",\"2020-11-25T00:00:00\",\"2020-11-26T00:00:00\",\"2020-11-27T00:00:00\",\"2020-11-30T00:00:00\",\"2020-12-01T00:00:00\",\"2020-12-02T00:00:00\",\"2020-12-03T00:00:00\",\"2020-12-04T00:00:00\",\"2020-12-07T00:00:00\",\"2020-12-08T00:00:00\",\"2020-12-09T00:00:00\",\"2020-12-10T00:00:00\",\"2020-12-11T00:00:00\",\"2020-12-14T00:00:00\",\"2020-12-15T00:00:00\",\"2020-12-16T00:00:00\",\"2020-12-17T00:00:00\",\"2020-12-18T00:00:00\",\"2020-12-21T00:00:00\",\"2020-12-22T00:00:00\",\"2020-12-23T00:00:00\",\"2020-12-24T00:00:00\",\"2020-12-25T00:00:00\",\"2020-12-28T00:00:00\",\"2020-12-29T00:00:00\",\"2020-12-30T00:00:00\",\"2020-12-31T00:00:00\",\"2021-01-01T00:00:00\",\"2021-01-04T00:00:00\",\"2021-01-05T00:00:00\",\"2021-01-06T00:00:00\",\"2021-01-07T00:00:00\",\"2021-01-08T00:00:00\",\"2021-01-11T00:00:00\",\"2021-01-12T00:00:00\",\"2021-01-13T00:00:00\",\"2021-01-14T00:00:00\",\"2021-01-15T00:00:00\",\"2021-01-18T00:00:00\",\"2021-01-19T00:00:00\",\"2021-01-20T00:00:00\",\"2021-01-21T00:00:00\",\"2021-01-22T00:00:00\",\"2021-01-25T00:00:00\",\"2021-01-26T00:00:00\",\"2021-01-27T00:00:00\",\"2021-01-28T00:00:00\",\"2021-01-29T00:00:00\",\"2021-02-01T00:00:00\",\"2021-02-02T00:00:00\",\"2021-02-03T00:00:00\",\"2021-02-04T00:00:00\",\"2021-02-05T00:00:00\",\"2021-02-08T00:00:00\",\"2021-02-09T00:00:00\",\"2021-02-10T00:00:00\",\"2021-02-11T00:00:00\",\"2021-02-12T00:00:00\",\"2021-02-15T00:00:00\",\"2021-02-16T00:00:00\",\"2021-02-17T00:00:00\",\"2021-02-18T00:00:00\",\"2021-02-19T00:00:00\",\"2021-02-22T00:00:00\",\"2021-02-23T00:00:00\",\"2021-02-24T00:00:00\",\"2021-02-25T00:00:00\",\"2021-02-26T00:00:00\",\"2021-03-01T00:00:00\",\"2021-03-02T00:00:00\",\"2021-03-03T00:00:00\",\"2021-03-04T00:00:00\",\"2021-03-05T00:00:00\",\"2021-03-08T00:00:00\",\"2021-03-09T00:00:00\",\"2021-03-10T00:00:00\",\"2021-03-11T00:00:00\",\"2021-03-12T00:00:00\",\"2021-03-15T00:00:00\",\"2021-03-16T00:00:00\",\"2021-03-17T00:00:00\",\"2021-03-18T00:00:00\",\"2021-03-19T00:00:00\",\"2021-03-22T00:00:00\",\"2021-03-23T00:00:00\",\"2021-03-24T00:00:00\",\"2021-03-25T00:00:00\",\"2021-03-26T00:00:00\",\"2021-03-29T00:00:00\",\"2021-03-30T00:00:00\",\"2021-03-31T00:00:00\",\"2021-04-01T00:00:00\",\"2021-04-02T00:00:00\",\"2021-04-05T00:00:00\",\"2021-04-06T00:00:00\",\"2021-04-07T00:00:00\",\"2021-04-08T00:00:00\",\"2021-04-09T00:00:00\",\"2021-04-12T00:00:00\",\"2021-04-13T00:00:00\",\"2021-04-14T00:00:00\",\"2021-04-15T00:00:00\",\"2021-04-16T00:00:00\",\"2021-04-19T00:00:00\",\"2021-04-20T00:00:00\",\"2021-04-21T00:00:00\",\"2021-04-22T00:00:00\",\"2021-04-23T00:00:00\",\"2021-04-26T00:00:00\",\"2021-04-27T00:00:00\",\"2021-04-28T00:00:00\",\"2021-04-29T00:00:00\",\"2021-04-30T00:00:00\",\"2021-05-03T00:00:00\",\"2021-05-04T00:00:00\",\"2021-05-05T00:00:00\",\"2021-05-06T00:00:00\",\"2021-05-07T00:00:00\",\"2021-05-10T00:00:00\",\"2021-05-11T00:00:00\",\"2021-05-12T00:00:00\",\"2021-05-13T00:00:00\",\"2021-05-14T00:00:00\",\"2021-05-17T00:00:00\",\"2021-05-18T00:00:00\",\"2021-05-19T00:00:00\",\"2021-05-20T00:00:00\",\"2021-05-21T00:00:00\",\"2021-05-24T00:00:00\",\"2021-05-25T00:00:00\",\"2021-05-26T00:00:00\",\"2021-05-27T00:00:00\",\"2021-05-28T00:00:00\",\"2021-05-31T00:00:00\",\"2021-06-01T00:00:00\",\"2021-06-02T00:00:00\",\"2021-06-03T00:00:00\",\"2021-06-04T00:00:00\",\"2021-06-07T00:00:00\",\"2021-06-08T00:00:00\",\"2021-06-09T00:00:00\",\"2021-06-10T00:00:00\",\"2021-06-11T00:00:00\",\"2021-06-14T00:00:00\",\"2021-06-15T00:00:00\",\"2021-06-16T00:00:00\",\"2021-06-17T00:00:00\",\"2021-06-18T00:00:00\",\"2021-06-21T00:00:00\",\"2021-06-22T00:00:00\",\"2021-06-23T00:00:00\",\"2021-06-24T00:00:00\",\"2021-06-25T00:00:00\",\"2021-06-28T00:00:00\",\"2021-06-29T00:00:00\",\"2021-06-30T00:00:00\",\"2021-07-01T00:00:00\",\"2021-07-02T00:00:00\",\"2021-07-05T00:00:00\",\"2021-07-06T00:00:00\",\"2021-07-07T00:00:00\",\"2021-07-08T00:00:00\",\"2021-07-09T00:00:00\",\"2021-07-12T00:00:00\",\"2021-07-13T00:00:00\",\"2021-07-14T00:00:00\",\"2021-07-15T00:00:00\",\"2021-07-16T00:00:00\",\"2021-07-19T00:00:00\",\"2021-07-20T00:00:00\",\"2021-07-21T00:00:00\",\"2021-07-22T00:00:00\",\"2021-07-23T00:00:00\",\"2021-07-26T00:00:00\",\"2021-07-27T00:00:00\",\"2021-07-28T00:00:00\",\"2021-07-29T00:00:00\",\"2021-07-30T00:00:00\",\"2021-08-02T00:00:00\",\"2021-08-03T00:00:00\",\"2021-08-04T00:00:00\",\"2021-08-05T00:00:00\",\"2021-08-06T00:00:00\",\"2021-08-09T00:00:00\",\"2021-08-10T00:00:00\",\"2021-08-11T00:00:00\",\"2021-08-12T00:00:00\",\"2021-08-13T00:00:00\",\"2021-08-16T00:00:00\",\"2021-08-17T00:00:00\",\"2021-08-18T00:00:00\",\"2021-08-19T00:00:00\",\"2021-08-20T00:00:00\",\"2021-08-23T00:00:00\",\"2021-08-24T00:00:00\",\"2021-08-25T00:00:00\",\"2021-08-26T00:00:00\",\"2021-08-27T00:00:00\",\"2021-08-30T00:00:00\",\"2021-08-31T00:00:00\",\"2021-09-01T00:00:00\",\"2021-09-02T00:00:00\",\"2021-09-03T00:00:00\",\"2021-09-06T00:00:00\",\"2021-09-07T00:00:00\",\"2021-09-08T00:00:00\",\"2021-09-09T00:00:00\",\"2021-09-10T00:00:00\",\"2021-09-13T00:00:00\",\"2021-09-14T00:00:00\",\"2021-09-15T00:00:00\",\"2021-09-16T00:00:00\",\"2021-09-17T00:00:00\",\"2021-09-20T00:00:00\",\"2021-09-21T00:00:00\",\"2021-09-22T00:00:00\",\"2021-09-23T00:00:00\",\"2021-09-24T00:00:00\",\"2021-09-27T00:00:00\",\"2021-09-28T00:00:00\",\"2021-09-29T00:00:00\",\"2021-09-30T00:00:00\",\"2021-10-01T00:00:00\",\"2021-10-04T00:00:00\",\"2021-10-05T00:00:00\",\"2021-10-06T00:00:00\",\"2021-10-07T00:00:00\",\"2021-10-08T00:00:00\",\"2021-10-11T00:00:00\",\"2021-10-12T00:00:00\",\"2021-10-13T00:00:00\",\"2021-10-14T00:00:00\",\"2021-10-15T00:00:00\",\"2021-10-18T00:00:00\",\"2021-10-19T00:00:00\",\"2021-10-20T00:00:00\",\"2021-10-21T00:00:00\",\"2021-10-22T00:00:00\",\"2021-10-25T00:00:00\",\"2021-10-26T00:00:00\",\"2021-10-27T00:00:00\",\"2021-10-28T00:00:00\",\"2021-10-29T00:00:00\",\"2021-11-01T00:00:00\",\"2021-11-02T00:00:00\",\"2021-11-03T00:00:00\",\"2021-11-04T00:00:00\",\"2021-11-05T00:00:00\",\"2021-11-08T00:00:00\",\"2021-11-09T00:00:00\",\"2021-11-10T00:00:00\",\"2021-11-11T00:00:00\",\"2021-11-12T00:00:00\",\"2021-11-15T00:00:00\",\"2021-11-16T00:00:00\",\"2021-11-17T00:00:00\",\"2021-11-18T00:00:00\",\"2021-11-19T00:00:00\",\"2021-11-22T00:00:00\",\"2021-11-23T00:00:00\",\"2021-11-24T00:00:00\",\"2021-11-25T00:00:00\",\"2021-11-26T00:00:00\",\"2021-11-29T00:00:00\",\"2021-11-30T00:00:00\",\"2021-12-01T00:00:00\",\"2021-12-02T00:00:00\",\"2021-12-03T00:00:00\",\"2021-12-06T00:00:00\",\"2021-12-07T00:00:00\",\"2021-12-08T00:00:00\",\"2021-12-09T00:00:00\",\"2021-12-10T00:00:00\",\"2021-12-13T00:00:00\",\"2021-12-14T00:00:00\",\"2021-12-15T00:00:00\",\"2021-12-16T00:00:00\",\"2021-12-17T00:00:00\",\"2021-12-20T00:00:00\",\"2021-12-21T00:00:00\",\"2021-12-22T00:00:00\",\"2021-12-23T00:00:00\",\"2021-12-24T00:00:00\",\"2021-12-27T00:00:00\",\"2021-12-28T00:00:00\",\"2021-12-29T00:00:00\",\"2021-12-30T00:00:00\",\"2021-12-31T00:00:00\",\"2022-01-03T00:00:00\",\"2022-01-04T00:00:00\",\"2022-01-05T00:00:00\",\"2022-01-06T00:00:00\",\"2022-01-07T00:00:00\",\"2022-01-10T00:00:00\",\"2022-01-11T00:00:00\",\"2022-01-12T00:00:00\",\"2022-01-13T00:00:00\",\"2022-01-14T00:00:00\",\"2022-01-17T00:00:00\",\"2022-01-18T00:00:00\",\"2022-01-19T00:00:00\",\"2022-01-20T00:00:00\",\"2022-01-21T00:00:00\",\"2022-01-24T00:00:00\",\"2022-01-25T00:00:00\",\"2022-01-26T00:00:00\",\"2022-01-27T00:00:00\",\"2022-01-28T00:00:00\",\"2022-01-31T00:00:00\",\"2022-02-01T00:00:00\",\"2022-02-02T00:00:00\",\"2022-02-03T00:00:00\",\"2022-02-04T00:00:00\",\"2022-02-07T00:00:00\",\"2022-02-08T00:00:00\",\"2022-02-09T00:00:00\",\"2022-02-10T00:00:00\",\"2022-02-11T00:00:00\",\"2022-02-14T00:00:00\",\"2022-02-15T00:00:00\",\"2022-02-16T00:00:00\",\"2022-02-17T00:00:00\",\"2022-02-18T00:00:00\",\"2022-02-21T00:00:00\",\"2022-02-22T00:00:00\",\"2022-02-23T00:00:00\",\"2022-02-24T00:00:00\",\"2022-02-25T00:00:00\",\"2022-02-28T00:00:00\",\"2022-03-01T00:00:00\",\"2022-03-02T00:00:00\",\"2022-03-03T00:00:00\",\"2022-03-04T00:00:00\",\"2022-03-07T00:00:00\",\"2022-03-08T00:00:00\",\"2022-03-09T00:00:00\",\"2022-03-10T00:00:00\",\"2022-03-11T00:00:00\",\"2022-03-14T00:00:00\",\"2022-03-15T00:00:00\",\"2022-03-16T00:00:00\",\"2022-03-17T00:00:00\",\"2022-03-18T00:00:00\",\"2022-03-21T00:00:00\",\"2022-03-22T00:00:00\",\"2022-03-23T00:00:00\",\"2022-03-24T00:00:00\",\"2022-03-25T00:00:00\",\"2022-03-28T00:00:00\",\"2022-03-29T00:00:00\",\"2022-03-30T00:00:00\",\"2022-03-31T00:00:00\",\"2022-04-01T00:00:00\",\"2022-04-04T00:00:00\",\"2022-04-05T00:00:00\",\"2022-04-06T00:00:00\",\"2022-04-07T00:00:00\",\"2022-04-08T00:00:00\",\"2022-04-11T00:00:00\",\"2022-04-12T00:00:00\",\"2022-04-13T00:00:00\",\"2022-04-14T00:00:00\",\"2022-04-15T00:00:00\",\"2022-04-18T00:00:00\",\"2022-04-19T00:00:00\",\"2022-04-20T00:00:00\",\"2022-04-21T00:00:00\",\"2022-04-22T00:00:00\",\"2022-04-25T00:00:00\",\"2022-04-26T00:00:00\",\"2022-04-27T00:00:00\",\"2022-04-28T00:00:00\",\"2022-04-29T00:00:00\",\"2022-05-02T00:00:00\",\"2022-05-03T00:00:00\",\"2022-05-04T00:00:00\",\"2022-05-05T00:00:00\",\"2022-05-06T00:00:00\",\"2022-05-09T00:00:00\",\"2022-05-10T00:00:00\",\"2022-05-11T00:00:00\",\"2022-05-12T00:00:00\",\"2022-05-13T00:00:00\",\"2022-05-16T00:00:00\",\"2022-05-17T00:00:00\",\"2022-05-18T00:00:00\",\"2022-05-19T00:00:00\",\"2022-05-20T00:00:00\",\"2022-05-23T00:00:00\",\"2022-05-24T00:00:00\",\"2022-05-25T00:00:00\",\"2022-05-26T00:00:00\",\"2022-05-27T00:00:00\",\"2022-05-30T00:00:00\",\"2022-05-31T00:00:00\",\"2022-06-01T00:00:00\",\"2022-06-02T00:00:00\",\"2022-06-03T00:00:00\",\"2022-06-06T00:00:00\",\"2022-06-07T00:00:00\",\"2022-06-08T00:00:00\",\"2022-06-09T00:00:00\",\"2022-06-10T00:00:00\",\"2022-06-13T00:00:00\",\"2022-06-14T00:00:00\",\"2022-06-15T00:00:00\",\"2022-06-16T00:00:00\",\"2022-06-17T00:00:00\",\"2022-06-20T00:00:00\",\"2022-06-21T00:00:00\",\"2022-06-22T00:00:00\",\"2022-06-23T00:00:00\",\"2022-06-24T00:00:00\",\"2022-06-27T00:00:00\",\"2022-06-28T00:00:00\",\"2022-06-29T00:00:00\",\"2022-06-30T00:00:00\",\"2022-07-01T00:00:00\",\"2022-07-04T00:00:00\",\"2022-07-05T00:00:00\",\"2022-07-06T00:00:00\",\"2022-07-07T00:00:00\",\"2022-07-08T00:00:00\",\"2022-07-11T00:00:00\",\"2022-07-12T00:00:00\",\"2022-07-13T00:00:00\",\"2022-07-14T00:00:00\",\"2022-07-15T00:00:00\",\"2022-07-18T00:00:00\",\"2022-07-19T00:00:00\",\"2022-07-20T00:00:00\",\"2022-07-21T00:00:00\",\"2022-07-22T00:00:00\",\"2022-07-25T00:00:00\",\"2022-07-26T00:00:00\",\"2022-07-27T00:00:00\",\"2022-07-28T00:00:00\",\"2022-07-29T00:00:00\",\"2022-08-01T00:00:00\",\"2022-08-02T00:00:00\",\"2022-08-03T00:00:00\",\"2022-08-04T00:00:00\",\"2022-08-05T00:00:00\",\"2022-08-08T00:00:00\",\"2022-08-09T00:00:00\",\"2022-08-10T00:00:00\",\"2022-08-11T00:00:00\",\"2022-08-12T00:00:00\",\"2022-08-15T00:00:00\",\"2022-08-16T00:00:00\",\"2022-08-17T00:00:00\",\"2022-08-18T00:00:00\",\"2022-08-19T00:00:00\",\"2022-08-22T00:00:00\",\"2022-08-23T00:00:00\",\"2022-08-24T00:00:00\",\"2022-08-25T00:00:00\",\"2022-08-26T00:00:00\",\"2022-08-29T00:00:00\",\"2022-08-30T00:00:00\",\"2022-08-31T00:00:00\",\"2022-09-01T00:00:00\",\"2022-09-02T00:00:00\",\"2022-09-05T00:00:00\",\"2022-09-06T00:00:00\",\"2022-09-07T00:00:00\",\"2022-09-08T00:00:00\",\"2022-09-09T00:00:00\",\"2022-09-12T00:00:00\",\"2022-09-13T00:00:00\",\"2022-09-14T00:00:00\",\"2022-09-15T00:00:00\",\"2022-09-16T00:00:00\",\"2022-09-19T00:00:00\",\"2022-09-20T00:00:00\",\"2022-09-21T00:00:00\",\"2022-09-22T00:00:00\",\"2022-09-23T00:00:00\",\"2022-09-26T00:00:00\",\"2022-09-27T00:00:00\",\"2022-09-28T00:00:00\",\"2022-09-29T00:00:00\",\"2022-09-30T00:00:00\",\"2022-10-03T00:00:00\",\"2022-10-04T00:00:00\",\"2022-10-05T00:00:00\",\"2022-10-06T00:00:00\",\"2022-10-07T00:00:00\",\"2022-10-10T00:00:00\",\"2022-10-11T00:00:00\",\"2022-10-12T00:00:00\",\"2022-10-13T00:00:00\",\"2022-10-14T00:00:00\",\"2022-10-17T00:00:00\",\"2022-10-18T00:00:00\",\"2022-10-19T00:00:00\",\"2022-10-20T00:00:00\",\"2022-10-21T00:00:00\",\"2022-10-24T00:00:00\",\"2022-10-25T00:00:00\",\"2022-10-26T00:00:00\",\"2022-10-27T00:00:00\",\"2022-10-28T00:00:00\",\"2022-10-31T00:00:00\",\"2022-11-01T00:00:00\",\"2022-11-02T00:00:00\",\"2022-11-03T00:00:00\",\"2022-11-04T00:00:00\",\"2022-11-07T00:00:00\",\"2022-11-08T00:00:00\",\"2022-11-09T00:00:00\",\"2022-11-10T00:00:00\",\"2022-11-11T00:00:00\",\"2022-11-14T00:00:00\",\"2022-11-15T00:00:00\",\"2022-11-16T00:00:00\",\"2022-11-17T00:00:00\",\"2022-11-18T00:00:00\",\"2022-11-21T00:00:00\",\"2022-11-22T00:00:00\",\"2022-11-23T00:00:00\",\"2022-11-24T00:00:00\",\"2022-11-25T00:00:00\",\"2022-11-28T00:00:00\",\"2022-11-29T00:00:00\",\"2022-11-30T00:00:00\",\"2022-12-01T00:00:00\",\"2022-12-02T00:00:00\",\"2022-12-05T00:00:00\",\"2022-12-06T00:00:00\",\"2022-12-07T00:00:00\",\"2022-12-08T00:00:00\",\"2022-12-09T00:00:00\",\"2022-12-12T00:00:00\",\"2022-12-13T00:00:00\",\"2022-12-14T00:00:00\",\"2022-12-15T00:00:00\",\"2022-12-16T00:00:00\",\"2022-12-19T00:00:00\",\"2022-12-20T00:00:00\",\"2022-12-21T00:00:00\",\"2022-12-22T00:00:00\",\"2022-12-23T00:00:00\",\"2022-12-26T00:00:00\",\"2022-12-27T00:00:00\",\"2022-12-28T00:00:00\",\"2022-12-29T00:00:00\"],\"y\":[4.0195,4.0263,4.0672,4.0618,4.0679,4.0649,4.0928,4.0962,4.1469,4.133,4.1756,4.1851,4.162,4.1902,4.2126,4.1829,4.1707,4.1816,4.2077,4.1945,4.2306,4.2432,4.2824,4.248,4.2547,4.2357,4.2825,4.3206,4.3251,4.3318,4.3552,4.3502,4.2976,4.3272,4.3559,4.3653,4.3935,4.3897,4.3883,4.3883,4.4505,4.4863,4.4735,4.4744,4.5148,4.585,4.6076,4.6272,4.7246,4.6439,4.8152,4.7916,4.8596,5.0005,5.01,5.1075,5.096,5.064,5.1447,5.0995,5.0366,5.0219,5.0997,5.1936,5.2046,5.2493,5.2533,5.3506,5.2863,5.2214,5.1233,5.107,5.1063,5.1994,5.1621,5.2367,5.2333,5.2363,5.3168,5.3163,5.458,5.5335,5.5907,5.6526,5.4999,5.3348,5.4858,5.4856,5.545,5.5783,5.714,5.8307,5.7319,5.818,5.8856,5.8852,5.8115,5.8554,5.719,5.754,5.6925,5.5507,5.5338,5.4461,5.345,5.2733,5.4045,5.3361,5.3633,5.2014,5.0622,5.119,4.9585,4.823,4.8992,4.9732,4.976,5.0505,5.1557,5.243,5.2286,5.3776,5.3105,5.2524,5.1542,5.3467,5.3561,5.484,5.4034,5.4661,5.3174,5.3596,5.3158,5.3562,5.379,5.3422,5.3413,5.3238,5.404,5.3674,5.3698,5.3311,5.3849,5.3283,5.1713,5.1166,5.2112,5.2329,5.1447,5.1533,5.1692,5.1534,5.224,5.3213,5.29,5.2902,5.3315,5.4383,5.4812,5.38,5.4333,5.369,5.4204,5.509,5.4666,5.5575,5.5568,5.6192,5.61,5.5075,5.6054,5.5691,5.3881,5.4914,5.396,5.3403,5.2914,5.3012,5.2997,5.3638,5.3078,5.321,5.3189,5.2706,5.2748,5.2377,5.2394,5.3876,5.4131,5.4704,5.5943,5.5089,5.5624,5.6627,5.6344,5.6112,5.6437,5.6851,5.5743,5.593,5.6097,5.5987,5.5318,5.5316,5.5693,5.5912,5.6126,5.6428,5.6069,5.6054,5.6066,5.5893,5.6175,5.6229,5.7055,5.7457,5.779,5.7446,5.7425,5.756,5.6635,5.525,5.3647,5.3858,5.4147,5.391,5.4581,5.4582,5.4152,5.3281,5.3629,5.3054,5.3797,5.439,5.3736,5.3237,5.3365,5.3438,5.3319,5.2061,5.2175,5.1515,5.1557,5.099,5.1202,5.1708,5.0256,5.0656,5.1189,5.0842,5.0838,5.0582,5.1022,5.1222,5.1597,5.2164,5.2165,5.2167,5.2461,5.2099,5.1937,5.194,5.194,5.2968,5.2854,5.3139,5.4101,5.4178,5.489,5.3226,5.299,5.1967,5.2927,5.2957,5.3578,5.2917,5.3506,5.4666,5.4665,5.3552,5.4138,5.441,5.4625,5.4322,5.368,5.3534,5.4266,5.3704,5.3657,5.3781,5.386,5.3665,5.3698,5.3701,5.3695,5.4105,5.427,5.3823,5.4659,5.4409,5.4062,5.5308,5.5986,5.6418,5.6761,5.6193,5.6693,5.6908,5.8755,5.8025,5.672,5.5357,5.5518,5.6156,5.6246,5.5832,5.5604,5.4917,5.5045,5.5214,5.6209,5.6475,5.7566,5.7799,5.7745,5.6315,5.7071,5.7075,5.6632,5.5904,5.6143,5.572,5.6821,5.7333,5.7166,5.6526,5.6162,5.5883,5.5461,5.5687,5.569,5.4448,5.4751,5.4364,5.449,5.343,5.3375,5.4366,5.442,5.4435,5.3542,5.276,5.2368,5.2272,5.2208,5.3061,5.309,5.2728,5.2729,5.2605,5.3094,5.2825,5.3617,5.3175,5.3312,5.3115,5.2383,5.2244,5.2172,5.1509,5.0754,5.0775,5.0495,5.0451,5.0325,5.0621,5.0552,5.1171,5.0601,5.0437,5.0545,5.0059,5.0894,5.013,4.9574,4.9667,4.9137,4.9335,4.9244,4.9559,4.9686,5.0476,5.0575,5.091,5.1969,5.2315,5.2579,5.2597,5.173,5.1622,5.0706,5.11,5.1147,5.2519,5.2205,5.1874,5.2003,5.2006,5.1761,5.169,5.1157,5.0812,5.2123,5.1747,5.1967,5.1685,5.2488,5.2301,5.2331,5.1895,5.2185,5.2524,5.2466,5.2595,5.2948,5.3794,5.4142,5.377,5.3802,5.2463,5.2117,5.2522,5.1996,5.184,5.1492,5.1858,5.1819,5.1908,5.1693,5.1692,5.3214,5.1976,5.2454,5.2144,5.2398,5.2219,5.2535,5.2883,5.324,5.2699,5.2888,5.303,5.3344,5.3914,5.4293,5.4152,5.4428,5.3628,5.4535,5.4748,5.4912,5.5188,5.5082,5.5367,5.5325,5.5133,5.5132,5.4611,5.5117,5.5844,5.5975,5.6577,5.6474,5.5563,5.5666,5.538,5.6464,5.6372,5.6815,5.6795,5.5525,5.602,5.5428,5.544,5.4804,5.491,5.3989,5.4588,5.4575,5.5028,5.5292,5.5576,5.6135,5.5865,5.5712,5.6061,5.5664,5.6093,5.6017,5.6239,5.6955,5.6462,5.6532,5.6891,5.6128,5.5327,5.5727,5.6127,5.6804,5.6815,5.6806,5.6884,5.6959,5.742,5.7451,5.654,5.6749,5.675,5.6249,5.6283,5.7032,5.571,5.5703,5.6818,5.677,5.7087,5.6834,5.6355,5.6633,5.5686,5.5338,5.5286,5.5344,5.5165,5.5666,5.4383,5.4191,5.4582,5.4877,5.4437,5.4324,5.4065,5.3674,5.3041,5.2655,5.262,5.2839,5.3279,5.2636,5.2593,5.2354,5.2496,5.2527,5.2149,5.159,5.1365,5.1718,5.1385,5.1036,5.0583,5.0097,5.1231,5.1623,5.1599,5.1595,5.0995,5.032,5.062,5.1115,5.0599,5.0123,5.011,5.0745,5.1193,5.1631,5.0757,5.039,5.0231,4.9354,4.9094,4.8258,4.8253,4.742,4.7675,4.7561,4.7685,4.739,4.6575,4.5928,4.6506,4.7161,4.7524,4.697,4.6944,4.6735,4.6899,4.7013,4.6965,4.6527,4.6675,4.6219,4.622,4.7937,4.8766,4.9989,4.9651,4.9425,4.9721,5.0848,4.9584,4.9198,5.028,5.0774,5.1617,5.1313,5.1373,5.1339,5.0602,5.0599,4.9387,4.9682,4.9309,4.8788,4.813,4.8191,4.8275,4.7677,4.7295,4.7526,4.7315,4.8151,4.7962,4.7734,4.7945,4.8696,4.8988,4.9063,4.9865,5.1154,5.1168,5.0536,5.0535,5.1518,5.188,5.1257,5.194,5.2406,5.2417,5.2366,5.2675,5.1818,5.2562,5.331,5.3293,5.3861,5.4287,5.3391,5.2536,5.3782,5.4368,5.3917,5.4233,5.4082,5.4375,5.4135,5.4714,5.4968,5.4968,5.3576,5.3511,5.2432,5.1823,5.1734,5.1838,5.2784,5.2815,5.2164,5.1646,5.1117,5.1237,5.0927,5.1581,5.0735,5.0961,5.1459,5.1642,5.1674,5.1697,5.1574,5.1037,5.1114,5.1099,5.0601,5.0282,5.1223,5.1831,5.2416,5.1681,5.1516,5.2528,5.248,5.2141,5.1462,5.093,5.1911,5.1631,5.247,5.2531,5.167,5.1417,5.1716,5.1166,5.2595,5.3898,5.3824,5.3745,5.3964,5.4154,5.1672,5.177,5.194,5.2217,5.1996,5.1901,5.3005,5.293,5.2626,5.3252,5.2808,5.2405,5.27,5.2147,5.1605,5.3032,5.3167,5.3804,5.3449,5.2949,5.1791,5.1475,5.1432,5.1137,5.0557,5.1567,5.144,5.1864,5.3449,5.325,5.3321,5.3325,5.3998,5.4231,5.3827,5.32,5.3586,5.3591,5.3208,5.4098,5.3654,5.2695,5.1851,5.1848,5.2189,5.2809,5.2352,5.2048,5.2253,5.24,5.3226,5.2938,5.2787,5.313,5.314,5.293,5.1996,5.2009,5.1665,5.1652,5.2186,5.2928,5.2676,5.286],\"type\":\"scatter\"}],                        {\"title\":{\"text\":\"Pre\\u00e7o do Bitcoin em rela\\u00e7\\u00e3o ao D\\u00f3lar\"},\"xaxis\":{\"title\":{\"text\":\"Data\"}},\"yaxis\":{\"title\":{\"text\":\"Pre\\u00e7o\"}},\"template\":{\"data\":{\"histogram2dcontour\":[{\"type\":\"histogram2dcontour\",\"colorbar\":{\"outlinewidth\":0,\"ticks\":\"\"},\"colorscale\":[[0.0,\"#0d0887\"],[0.1111111111111111,\"#46039f\"],[0.2222222222222222,\"#7201a8\"],[0.3333333333333333,\"#9c179e\"],[0.4444444444444444,\"#bd3786\"],[0.5555555555555556,\"#d8576b\"],[0.6666666666666666,\"#ed7953\"],[0.7777777777777778,\"#fb9f3a\"],[0.8888888888888888,\"#fdca26\"],[1.0,\"#f0f921\"]]}],\"choropleth\":[{\"type\":\"choropleth\",\"colorbar\":{\"outlinewidth\":0,\"ticks\":\"\"}}],\"histogram2d\":[{\"type\":\"histogram2d\",\"colorbar\":{\"outlinewidth\":0,\"ticks\":\"\"},\"colorscale\":[[0.0,\"#0d0887\"],[0.1111111111111111,\"#46039f\"],[0.2222222222222222,\"#7201a8\"],[0.3333333333333333,\"#9c179e\"],[0.4444444444444444,\"#bd3786\"],[0.5555555555555556,\"#d8576b\"],[0.6666666666666666,\"#ed7953\"],[0.7777777777777778,\"#fb9f3a\"],[0.8888888888888888,\"#fdca26\"],[1.0,\"#f0f921\"]]}],\"heatmap\":[{\"type\":\"heatmap\",\"colorbar\":{\"outlinewidth\":0,\"ticks\":\"\"},\"colorscale\":[[0.0,\"#0d0887\"],[0.1111111111111111,\"#46039f\"],[0.2222222222222222,\"#7201a8\"],[0.3333333333333333,\"#9c179e\"],[0.4444444444444444,\"#bd3786\"],[0.5555555555555556,\"#d8576b\"],[0.6666666666666666,\"#ed7953\"],[0.7777777777777778,\"#fb9f3a\"],[0.8888888888888888,\"#fdca26\"],[1.0,\"#f0f921\"]]}],\"heatmapgl\":[{\"type\":\"heatmapgl\",\"colorbar\":{\"outlinewidth\":0,\"ticks\":\"\"},\"colorscale\":[[0.0,\"#0d0887\"],[0.1111111111111111,\"#46039f\"],[0.2222222222222222,\"#7201a8\"],[0.3333333333333333,\"#9c179e\"],[0.4444444444444444,\"#bd3786\"],[0.5555555555555556,\"#d8576b\"],[0.6666666666666666,\"#ed7953\"],[0.7777777777777778,\"#fb9f3a\"],[0.8888888888888888,\"#fdca26\"],[1.0,\"#f0f921\"]]}],\"contourcarpet\":[{\"type\":\"contourcarpet\",\"colorbar\":{\"outlinewidth\":0,\"ticks\":\"\"}}],\"contour\":[{\"type\":\"contour\",\"colorbar\":{\"outlinewidth\":0,\"ticks\":\"\"},\"colorscale\":[[0.0,\"#0d0887\"],[0.1111111111111111,\"#46039f\"],[0.2222222222222222,\"#7201a8\"],[0.3333333333333333,\"#9c179e\"],[0.4444444444444444,\"#bd3786\"],[0.5555555555555556,\"#d8576b\"],[0.6666666666666666,\"#ed7953\"],[0.7777777777777778,\"#fb9f3a\"],[0.8888888888888888,\"#fdca26\"],[1.0,\"#f0f921\"]]}],\"surface\":[{\"type\":\"surface\",\"colorbar\":{\"outlinewidth\":0,\"ticks\":\"\"},\"colorscale\":[[0.0,\"#0d0887\"],[0.1111111111111111,\"#46039f\"],[0.2222222222222222,\"#7201a8\"],[0.3333333333333333,\"#9c179e\"],[0.4444444444444444,\"#bd3786\"],[0.5555555555555556,\"#d8576b\"],[0.6666666666666666,\"#ed7953\"],[0.7777777777777778,\"#fb9f3a\"],[0.8888888888888888,\"#fdca26\"],[1.0,\"#f0f921\"]]}],\"mesh3d\":[{\"type\":\"mesh3d\",\"colorbar\":{\"outlinewidth\":0,\"ticks\":\"\"}}],\"scatter\":[{\"fillpattern\":{\"fillmode\":\"overlay\",\"size\":10,\"solidity\":0.2},\"type\":\"scatter\"}],\"parcoords\":[{\"type\":\"parcoords\",\"line\":{\"colorbar\":{\"outlinewidth\":0,\"ticks\":\"\"}}}],\"scatterpolargl\":[{\"type\":\"scatterpolargl\",\"marker\":{\"colorbar\":{\"outlinewidth\":0,\"ticks\":\"\"}}}],\"bar\":[{\"error_x\":{\"color\":\"#2a3f5f\"},\"error_y\":{\"color\":\"#2a3f5f\"},\"marker\":{\"line\":{\"color\":\"#E5ECF6\",\"width\":0.5},\"pattern\":{\"fillmode\":\"overlay\",\"size\":10,\"solidity\":0.2}},\"type\":\"bar\"}],\"scattergeo\":[{\"type\":\"scattergeo\",\"marker\":{\"colorbar\":{\"outlinewidth\":0,\"ticks\":\"\"}}}],\"scatterpolar\":[{\"type\":\"scatterpolar\",\"marker\":{\"colorbar\":{\"outlinewidth\":0,\"ticks\":\"\"}}}],\"histogram\":[{\"marker\":{\"pattern\":{\"fillmode\":\"overlay\",\"size\":10,\"solidity\":0.2}},\"type\":\"histogram\"}],\"scattergl\":[{\"type\":\"scattergl\",\"marker\":{\"colorbar\":{\"outlinewidth\":0,\"ticks\":\"\"}}}],\"scatter3d\":[{\"type\":\"scatter3d\",\"line\":{\"colorbar\":{\"outlinewidth\":0,\"ticks\":\"\"}},\"marker\":{\"colorbar\":{\"outlinewidth\":0,\"ticks\":\"\"}}}],\"scattermapbox\":[{\"type\":\"scattermapbox\",\"marker\":{\"colorbar\":{\"outlinewidth\":0,\"ticks\":\"\"}}}],\"scatterternary\":[{\"type\":\"scatterternary\",\"marker\":{\"colorbar\":{\"outlinewidth\":0,\"ticks\":\"\"}}}],\"scattercarpet\":[{\"type\":\"scattercarpet\",\"marker\":{\"colorbar\":{\"outlinewidth\":0,\"ticks\":\"\"}}}],\"carpet\":[{\"aaxis\":{\"endlinecolor\":\"#2a3f5f\",\"gridcolor\":\"white\",\"linecolor\":\"white\",\"minorgridcolor\":\"white\",\"startlinecolor\":\"#2a3f5f\"},\"baxis\":{\"endlinecolor\":\"#2a3f5f\",\"gridcolor\":\"white\",\"linecolor\":\"white\",\"minorgridcolor\":\"white\",\"startlinecolor\":\"#2a3f5f\"},\"type\":\"carpet\"}],\"table\":[{\"cells\":{\"fill\":{\"color\":\"#EBF0F8\"},\"line\":{\"color\":\"white\"}},\"header\":{\"fill\":{\"color\":\"#C8D4E3\"},\"line\":{\"color\":\"white\"}},\"type\":\"table\"}],\"barpolar\":[{\"marker\":{\"line\":{\"color\":\"#E5ECF6\",\"width\":0.5},\"pattern\":{\"fillmode\":\"overlay\",\"size\":10,\"solidity\":0.2}},\"type\":\"barpolar\"}],\"pie\":[{\"automargin\":true,\"type\":\"pie\"}]},\"layout\":{\"autotypenumbers\":\"strict\",\"colorway\":[\"#636efa\",\"#EF553B\",\"#00cc96\",\"#ab63fa\",\"#FFA15A\",\"#19d3f3\",\"#FF6692\",\"#B6E880\",\"#FF97FF\",\"#FECB52\"],\"font\":{\"color\":\"#2a3f5f\"},\"hovermode\":\"closest\",\"hoverlabel\":{\"align\":\"left\"},\"paper_bgcolor\":\"white\",\"plot_bgcolor\":\"#E5ECF6\",\"polar\":{\"bgcolor\":\"#E5ECF6\",\"angularaxis\":{\"gridcolor\":\"white\",\"linecolor\":\"white\",\"ticks\":\"\"},\"radialaxis\":{\"gridcolor\":\"white\",\"linecolor\":\"white\",\"ticks\":\"\"}},\"ternary\":{\"bgcolor\":\"#E5ECF6\",\"aaxis\":{\"gridcolor\":\"white\",\"linecolor\":\"white\",\"ticks\":\"\"},\"baxis\":{\"gridcolor\":\"white\",\"linecolor\":\"white\",\"ticks\":\"\"},\"caxis\":{\"gridcolor\":\"white\",\"linecolor\":\"white\",\"ticks\":\"\"}},\"coloraxis\":{\"colorbar\":{\"outlinewidth\":0,\"ticks\":\"\"}},\"colorscale\":{\"sequential\":[[0.0,\"#0d0887\"],[0.1111111111111111,\"#46039f\"],[0.2222222222222222,\"#7201a8\"],[0.3333333333333333,\"#9c179e\"],[0.4444444444444444,\"#bd3786\"],[0.5555555555555556,\"#d8576b\"],[0.6666666666666666,\"#ed7953\"],[0.7777777777777778,\"#fb9f3a\"],[0.8888888888888888,\"#fdca26\"],[1.0,\"#f0f921\"]],\"sequentialminus\":[[0.0,\"#0d0887\"],[0.1111111111111111,\"#46039f\"],[0.2222222222222222,\"#7201a8\"],[0.3333333333333333,\"#9c179e\"],[0.4444444444444444,\"#bd3786\"],[0.5555555555555556,\"#d8576b\"],[0.6666666666666666,\"#ed7953\"],[0.7777777777777778,\"#fb9f3a\"],[0.8888888888888888,\"#fdca26\"],[1.0,\"#f0f921\"]],\"diverging\":[[0,\"#8e0152\"],[0.1,\"#c51b7d\"],[0.2,\"#de77ae\"],[0.3,\"#f1b6da\"],[0.4,\"#fde0ef\"],[0.5,\"#f7f7f7\"],[0.6,\"#e6f5d0\"],[0.7,\"#b8e186\"],[0.8,\"#7fbc41\"],[0.9,\"#4d9221\"],[1,\"#276419\"]]},\"xaxis\":{\"gridcolor\":\"white\",\"linecolor\":\"white\",\"ticks\":\"\",\"title\":{\"standoff\":15},\"zerolinecolor\":\"white\",\"automargin\":true,\"zerolinewidth\":2},\"yaxis\":{\"gridcolor\":\"white\",\"linecolor\":\"white\",\"ticks\":\"\",\"title\":{\"standoff\":15},\"zerolinecolor\":\"white\",\"automargin\":true,\"zerolinewidth\":2},\"scene\":{\"xaxis\":{\"backgroundcolor\":\"#E5ECF6\",\"gridcolor\":\"white\",\"linecolor\":\"white\",\"showbackground\":true,\"ticks\":\"\",\"zerolinecolor\":\"white\",\"gridwidth\":2},\"yaxis\":{\"backgroundcolor\":\"#E5ECF6\",\"gridcolor\":\"white\",\"linecolor\":\"white\",\"showbackground\":true,\"ticks\":\"\",\"zerolinecolor\":\"white\",\"gridwidth\":2},\"zaxis\":{\"backgroundcolor\":\"#E5ECF6\",\"gridcolor\":\"white\",\"linecolor\":\"white\",\"showbackground\":true,\"ticks\":\"\",\"zerolinecolor\":\"white\",\"gridwidth\":2}},\"shapedefaults\":{\"line\":{\"color\":\"#2a3f5f\"}},\"annotationdefaults\":{\"arrowcolor\":\"#2a3f5f\",\"arrowhead\":0,\"arrowwidth\":1},\"geo\":{\"bgcolor\":\"white\",\"landcolor\":\"#E5ECF6\",\"subunitcolor\":\"white\",\"showland\":true,\"showlakes\":true,\"lakecolor\":\"white\"},\"title\":{\"x\":0.05},\"mapbox\":{\"style\":\"light\"}}}},                        {\"responsive\": true}                    ).then(function(){\n",
              "                            \n",
              "var gd = document.getElementById('04a3384f-8ac0-4c15-aa8c-90e546ff6a79');\n",
              "var x = new MutationObserver(function (mutations, observer) {{\n",
              "        var display = window.getComputedStyle(gd).display;\n",
              "        if (!display || display === 'none') {{\n",
              "            console.log([gd, 'removed!']);\n",
              "            Plotly.purge(gd);\n",
              "            observer.disconnect();\n",
              "        }}\n",
              "}});\n",
              "\n",
              "// Listen for the removal of the full notebook cells\n",
              "var notebookContainer = gd.closest('#notebook-container');\n",
              "if (notebookContainer) {{\n",
              "    x.observe(notebookContainer, {childList: true});\n",
              "}}\n",
              "\n",
              "// Listen for the clearing of the current output cell\n",
              "var outputEl = gd.closest('.output');\n",
              "if (outputEl) {{\n",
              "    x.observe(outputEl, {childList: true});\n",
              "}}\n",
              "\n",
              "                        })                };                            </script>        </div>\n",
              "</body>\n",
              "</html>"
            ]
          },
          "metadata": {}
        }
      ]
    },
    {
      "cell_type": "code",
      "source": [
        "# cálculo de estatísticas descritivas para os preços do bitcoin e do dólar\n",
        "print('Estatísticas Descritivas - Bitcoin:')\n",
        "print(df_bitcoin_dolar['Close'].describe())\n",
        "\n",
        "print('\\nEstatísticas Descritivas - Dólar:')\n",
        "print(df_bitcoin_dolar['dolar_close'].describe())"
      ],
      "metadata": {
        "id": "2c6C1ptSCeuC",
        "outputId": "46f6be75-3018-4145-a3bb-03b122885a9d",
        "colab": {
          "base_uri": "https://localhost:8080/"
        }
      },
      "execution_count": 87,
      "outputs": [
        {
          "output_type": "stream",
          "name": "stdout",
          "text": [
            "Estatísticas Descritivas - Bitcoin:\n",
            "count      782.000000\n",
            "mean     28915.413268\n",
            "std      17114.020075\n",
            "min       4970.788086\n",
            "25%      11621.309570\n",
            "50%      23562.691406\n",
            "75%      43052.125000\n",
            "max      67566.828125\n",
            "Name: Close, dtype: float64\n",
            "\n",
            "Estatísticas Descritivas - Dólar:\n",
            "count    782.000000\n",
            "mean       5.237944\n",
            "std        0.344189\n",
            "min        4.019500\n",
            "25%        5.118925\n",
            "50%        5.274050\n",
            "75%        5.456500\n",
            "max        5.885600\n",
            "Name: dolar_close, dtype: float64\n"
          ]
        }
      ]
    },
    {
      "cell_type": "code",
      "source": [
        "# correlação entre os preços do bitcoin e do dólar\n",
        "# Correlação positiva: Significa que os preços do dólar e do bitcoin tendem a subir ou cair juntos. Se o dólar sobe, o bitcoin também pode subir, e vice-versa.\n",
        "# Correlação negativa: Significa que os preços do dólar e do bitcoin tendem a se mover em direções opostas. Se o dólar sobe, o bitcoin pode cair, e vice-versa.\n",
        "# Correlação neutra: Significa que não há uma relação clara entre os movimentos de preço do dólar e do bitcoin. Eles podem se mover de forma independente, sem uma relação significativa.\n",
        "correlation = df_bitcoin_dolar['Close'].corr(df_bitcoin_dolar['dolar_close'])\n",
        "print('Correlação entre os preços do Bitcoin e do Dólar:', correlation)\n"
      ],
      "metadata": {
        "id": "G0D3GMIhCtYQ",
        "outputId": "0e161db9-89fe-4081-a661-4f70ad1e17fb",
        "colab": {
          "base_uri": "https://localhost:8080/"
        }
      },
      "execution_count": 88,
      "outputs": [
        {
          "output_type": "stream",
          "name": "stdout",
          "text": [
            "Correlação entre os preços do Bitcoin e do Dólar: 0.31068746433469274\n"
          ]
        }
      ]
    },
    {
      "cell_type": "code",
      "source": [
        "# criando indicadores\n",
        "\n",
        "# func médias móveis para identificar tendências\n",
        "\n",
        "def identify_trends(df):\n",
        "  # média móvel simples de 30 dias para o preço do bitcoin\n",
        "  df['sma30_bitcoin'] = df['Close'].rolling(window=30).mean()\n",
        "\n",
        "  # média móvel simples de 30 dias para o preço do dólar\n",
        "  df['sma30_dolar'] = df['dolar_close'].rolling(window=30).mean()\n",
        "\n",
        "\n",
        "  # calcular a diferença entre o preço de fechamento do bitcoin e do dólar\n",
        "  df['diff_bitcoin_dolar'] = df['Close'] - df['dolar_close']\n",
        "\n",
        "  # calcular a diferença percentual entre o preço de fechamento do bitcoin e do dólar\n",
        "  df['diff_perc_bitcoin_dolar'] = (df['Close'] / df['dolar_close']) - 1\n",
        "  return\n",
        "\n",
        "identify_trends(df_bitcoin_dolar)"
      ],
      "metadata": {
        "id": "qFCOLz6ZE0hm"
      },
      "execution_count": 89,
      "outputs": []
    },
    {
      "cell_type": "code",
      "source": [
        "# verificando se nao tem nenhum dado vazio\n",
        "df_bitcoin_dolar.isna().any()\n",
        "df_bitcoin_dolar.head()"
      ],
      "metadata": {
        "colab": {
          "base_uri": "https://localhost:8080/",
          "height": 368
        },
        "id": "hrFTitYIq0jk",
        "outputId": "9075a0e3-8ea1-4d6a-e2c8-79b8e719d739"
      },
      "execution_count": 90,
      "outputs": [
        {
          "output_type": "execute_result",
          "data": {
            "text/plain": [
              "                   Open         High          Low        Close    Adj Close  \\\n",
              "Date                                                                          \n",
              "2020-01-01  7194.892090  7254.330566  7174.944336  7200.174316  7200.174316   \n",
              "2020-01-02  7202.551270  7212.155273  6935.270020  6985.470215  6985.470215   \n",
              "2020-01-03  6984.428711  7413.715332  6914.996094  7344.884277  7344.884277   \n",
              "2020-01-06  7410.452148  7781.867188  7409.292969  7769.219238  7769.219238   \n",
              "2020-01-07  7768.682129  8178.215820  7768.227539  8163.692383  8163.692383   \n",
              "\n",
              "                 Volume  dolar_close  dolar_open  dolar_high  dolar_low  \\\n",
              "Date                                                                      \n",
              "2020-01-01  18565664997       4.0195      4.0195      4.0195     4.0195   \n",
              "2020-01-02  20802083465       4.0263      4.0198      4.0412     4.0032   \n",
              "2020-01-03  28111481032       4.0672      4.0253      4.0718     4.0253   \n",
              "2020-01-06  23276261598       4.0618      4.0565      4.0743     4.0458   \n",
              "2020-01-07  28767291327       4.0679      4.0622      4.0924     4.0543   \n",
              "\n",
              "           dolar_volume dolar_variation  sma30_bitcoin  sma30_dolar  \\\n",
              "Date                                                                  \n",
              "2020-01-01      110,07K           0,00%            NaN          NaN   \n",
              "2020-01-02       31,67K           0,17%            NaN          NaN   \n",
              "2020-01-03       43,89K           1,02%            NaN          NaN   \n",
              "2020-01-06       31,86K          -0,13%            NaN          NaN   \n",
              "2020-01-07       36,55K           0,15%            NaN          NaN   \n",
              "\n",
              "            diff_bitcoin_dolar  diff_perc_bitcoin_dolar  \n",
              "Date                                                     \n",
              "2020-01-01         7196.154816              1790.310938  \n",
              "2020-01-02         6981.443915              1733.960190  \n",
              "2020-01-03         7340.817077              1804.882248  \n",
              "2020-01-06         7765.157438              1911.752779  \n",
              "2020-01-07         8159.624483              2005.856703  "
            ],
            "text/html": [
              "\n",
              "  <div id=\"df-f7676c98-232d-4520-a042-441038fa7af1\">\n",
              "    <div class=\"colab-df-container\">\n",
              "      <div>\n",
              "<style scoped>\n",
              "    .dataframe tbody tr th:only-of-type {\n",
              "        vertical-align: middle;\n",
              "    }\n",
              "\n",
              "    .dataframe tbody tr th {\n",
              "        vertical-align: top;\n",
              "    }\n",
              "\n",
              "    .dataframe thead th {\n",
              "        text-align: right;\n",
              "    }\n",
              "</style>\n",
              "<table border=\"1\" class=\"dataframe\">\n",
              "  <thead>\n",
              "    <tr style=\"text-align: right;\">\n",
              "      <th></th>\n",
              "      <th>Open</th>\n",
              "      <th>High</th>\n",
              "      <th>Low</th>\n",
              "      <th>Close</th>\n",
              "      <th>Adj Close</th>\n",
              "      <th>Volume</th>\n",
              "      <th>dolar_close</th>\n",
              "      <th>dolar_open</th>\n",
              "      <th>dolar_high</th>\n",
              "      <th>dolar_low</th>\n",
              "      <th>dolar_volume</th>\n",
              "      <th>dolar_variation</th>\n",
              "      <th>sma30_bitcoin</th>\n",
              "      <th>sma30_dolar</th>\n",
              "      <th>diff_bitcoin_dolar</th>\n",
              "      <th>diff_perc_bitcoin_dolar</th>\n",
              "    </tr>\n",
              "    <tr>\n",
              "      <th>Date</th>\n",
              "      <th></th>\n",
              "      <th></th>\n",
              "      <th></th>\n",
              "      <th></th>\n",
              "      <th></th>\n",
              "      <th></th>\n",
              "      <th></th>\n",
              "      <th></th>\n",
              "      <th></th>\n",
              "      <th></th>\n",
              "      <th></th>\n",
              "      <th></th>\n",
              "      <th></th>\n",
              "      <th></th>\n",
              "      <th></th>\n",
              "      <th></th>\n",
              "    </tr>\n",
              "  </thead>\n",
              "  <tbody>\n",
              "    <tr>\n",
              "      <th>2020-01-01</th>\n",
              "      <td>7194.892090</td>\n",
              "      <td>7254.330566</td>\n",
              "      <td>7174.944336</td>\n",
              "      <td>7200.174316</td>\n",
              "      <td>7200.174316</td>\n",
              "      <td>18565664997</td>\n",
              "      <td>4.0195</td>\n",
              "      <td>4.0195</td>\n",
              "      <td>4.0195</td>\n",
              "      <td>4.0195</td>\n",
              "      <td>110,07K</td>\n",
              "      <td>0,00%</td>\n",
              "      <td>NaN</td>\n",
              "      <td>NaN</td>\n",
              "      <td>7196.154816</td>\n",
              "      <td>1790.310938</td>\n",
              "    </tr>\n",
              "    <tr>\n",
              "      <th>2020-01-02</th>\n",
              "      <td>7202.551270</td>\n",
              "      <td>7212.155273</td>\n",
              "      <td>6935.270020</td>\n",
              "      <td>6985.470215</td>\n",
              "      <td>6985.470215</td>\n",
              "      <td>20802083465</td>\n",
              "      <td>4.0263</td>\n",
              "      <td>4.0198</td>\n",
              "      <td>4.0412</td>\n",
              "      <td>4.0032</td>\n",
              "      <td>31,67K</td>\n",
              "      <td>0,17%</td>\n",
              "      <td>NaN</td>\n",
              "      <td>NaN</td>\n",
              "      <td>6981.443915</td>\n",
              "      <td>1733.960190</td>\n",
              "    </tr>\n",
              "    <tr>\n",
              "      <th>2020-01-03</th>\n",
              "      <td>6984.428711</td>\n",
              "      <td>7413.715332</td>\n",
              "      <td>6914.996094</td>\n",
              "      <td>7344.884277</td>\n",
              "      <td>7344.884277</td>\n",
              "      <td>28111481032</td>\n",
              "      <td>4.0672</td>\n",
              "      <td>4.0253</td>\n",
              "      <td>4.0718</td>\n",
              "      <td>4.0253</td>\n",
              "      <td>43,89K</td>\n",
              "      <td>1,02%</td>\n",
              "      <td>NaN</td>\n",
              "      <td>NaN</td>\n",
              "      <td>7340.817077</td>\n",
              "      <td>1804.882248</td>\n",
              "    </tr>\n",
              "    <tr>\n",
              "      <th>2020-01-06</th>\n",
              "      <td>7410.452148</td>\n",
              "      <td>7781.867188</td>\n",
              "      <td>7409.292969</td>\n",
              "      <td>7769.219238</td>\n",
              "      <td>7769.219238</td>\n",
              "      <td>23276261598</td>\n",
              "      <td>4.0618</td>\n",
              "      <td>4.0565</td>\n",
              "      <td>4.0743</td>\n",
              "      <td>4.0458</td>\n",
              "      <td>31,86K</td>\n",
              "      <td>-0,13%</td>\n",
              "      <td>NaN</td>\n",
              "      <td>NaN</td>\n",
              "      <td>7765.157438</td>\n",
              "      <td>1911.752779</td>\n",
              "    </tr>\n",
              "    <tr>\n",
              "      <th>2020-01-07</th>\n",
              "      <td>7768.682129</td>\n",
              "      <td>8178.215820</td>\n",
              "      <td>7768.227539</td>\n",
              "      <td>8163.692383</td>\n",
              "      <td>8163.692383</td>\n",
              "      <td>28767291327</td>\n",
              "      <td>4.0679</td>\n",
              "      <td>4.0622</td>\n",
              "      <td>4.0924</td>\n",
              "      <td>4.0543</td>\n",
              "      <td>36,55K</td>\n",
              "      <td>0,15%</td>\n",
              "      <td>NaN</td>\n",
              "      <td>NaN</td>\n",
              "      <td>8159.624483</td>\n",
              "      <td>2005.856703</td>\n",
              "    </tr>\n",
              "  </tbody>\n",
              "</table>\n",
              "</div>\n",
              "      <button class=\"colab-df-convert\" onclick=\"convertToInteractive('df-f7676c98-232d-4520-a042-441038fa7af1')\"\n",
              "              title=\"Convert this dataframe to an interactive table.\"\n",
              "              style=\"display:none;\">\n",
              "        \n",
              "  <svg xmlns=\"http://www.w3.org/2000/svg\" height=\"24px\"viewBox=\"0 0 24 24\"\n",
              "       width=\"24px\">\n",
              "    <path d=\"M0 0h24v24H0V0z\" fill=\"none\"/>\n",
              "    <path d=\"M18.56 5.44l.94 2.06.94-2.06 2.06-.94-2.06-.94-.94-2.06-.94 2.06-2.06.94zm-11 1L8.5 8.5l.94-2.06 2.06-.94-2.06-.94L8.5 2.5l-.94 2.06-2.06.94zm10 10l.94 2.06.94-2.06 2.06-.94-2.06-.94-.94-2.06-.94 2.06-2.06.94z\"/><path d=\"M17.41 7.96l-1.37-1.37c-.4-.4-.92-.59-1.43-.59-.52 0-1.04.2-1.43.59L10.3 9.45l-7.72 7.72c-.78.78-.78 2.05 0 2.83L4 21.41c.39.39.9.59 1.41.59.51 0 1.02-.2 1.41-.59l7.78-7.78 2.81-2.81c.8-.78.8-2.07 0-2.86zM5.41 20L4 18.59l7.72-7.72 1.47 1.35L5.41 20z\"/>\n",
              "  </svg>\n",
              "      </button>\n",
              "      \n",
              "  <style>\n",
              "    .colab-df-container {\n",
              "      display:flex;\n",
              "      flex-wrap:wrap;\n",
              "      gap: 12px;\n",
              "    }\n",
              "\n",
              "    .colab-df-convert {\n",
              "      background-color: #E8F0FE;\n",
              "      border: none;\n",
              "      border-radius: 50%;\n",
              "      cursor: pointer;\n",
              "      display: none;\n",
              "      fill: #1967D2;\n",
              "      height: 32px;\n",
              "      padding: 0 0 0 0;\n",
              "      width: 32px;\n",
              "    }\n",
              "\n",
              "    .colab-df-convert:hover {\n",
              "      background-color: #E2EBFA;\n",
              "      box-shadow: 0px 1px 2px rgba(60, 64, 67, 0.3), 0px 1px 3px 1px rgba(60, 64, 67, 0.15);\n",
              "      fill: #174EA6;\n",
              "    }\n",
              "\n",
              "    [theme=dark] .colab-df-convert {\n",
              "      background-color: #3B4455;\n",
              "      fill: #D2E3FC;\n",
              "    }\n",
              "\n",
              "    [theme=dark] .colab-df-convert:hover {\n",
              "      background-color: #434B5C;\n",
              "      box-shadow: 0px 1px 3px 1px rgba(0, 0, 0, 0.15);\n",
              "      filter: drop-shadow(0px 1px 2px rgba(0, 0, 0, 0.3));\n",
              "      fill: #FFFFFF;\n",
              "    }\n",
              "  </style>\n",
              "\n",
              "      <script>\n",
              "        const buttonEl =\n",
              "          document.querySelector('#df-f7676c98-232d-4520-a042-441038fa7af1 button.colab-df-convert');\n",
              "        buttonEl.style.display =\n",
              "          google.colab.kernel.accessAllowed ? 'block' : 'none';\n",
              "\n",
              "        async function convertToInteractive(key) {\n",
              "          const element = document.querySelector('#df-f7676c98-232d-4520-a042-441038fa7af1');\n",
              "          const dataTable =\n",
              "            await google.colab.kernel.invokeFunction('convertToInteractive',\n",
              "                                                     [key], {});\n",
              "          if (!dataTable) return;\n",
              "\n",
              "          const docLinkHtml = 'Like what you see? Visit the ' +\n",
              "            '<a target=\"_blank\" href=https://colab.research.google.com/notebooks/data_table.ipynb>data table notebook</a>'\n",
              "            + ' to learn more about interactive tables.';\n",
              "          element.innerHTML = '';\n",
              "          dataTable['output_type'] = 'display_data';\n",
              "          await google.colab.output.renderOutput(dataTable, element);\n",
              "          const docLink = document.createElement('div');\n",
              "          docLink.innerHTML = docLinkHtml;\n",
              "          element.appendChild(docLink);\n",
              "        }\n",
              "      </script>\n",
              "    </div>\n",
              "  </div>\n",
              "  "
            ]
          },
          "metadata": {},
          "execution_count": 90
        }
      ]
    },
    {
      "cell_type": "code",
      "source": [
        "#como tem valor nan, vou tratar usando a interpolacao\n",
        "#repetindo o primeiro valor valido para as linhas com nan\n",
        "def first_valid(df):\n",
        "  df['sma30_bitcoin'] = df['sma30_bitcoin'].interpolate(limit_direction='backward')\n",
        "\n",
        "  df['sma30_dolar'] = df['sma30_dolar'].interpolate(limit_direction='backward')\n",
        "  return\n",
        "\n",
        "# first_valid(df_bitcoin_dolar)\n",
        "df_bitcoin_dolar = df_bitcoin_dolar.dropna()"
      ],
      "metadata": {
        "id": "Da317IyWrT7T"
      },
      "execution_count": 91,
      "outputs": []
    },
    {
      "cell_type": "code",
      "source": [
        "# Plot das médias móveis e dos preços originais\n",
        "lines = [go.Scatter(x=df_bitcoin_dolar.index, y=df_bitcoin_dolar['sma30_bitcoin'], mode='lines', name='Preço Bitcoin'),\n",
        "         go.Scatter(x=df_bitcoin_dolar.index, y=df_bitcoin_dolar['sma30_dolar'], mode='lines', name='Preço Dolar')]\n",
        "\n",
        "layout = go.Layout(\n",
        "    title='Preço do Bitcoin em relação ao Dólar',\n",
        "    yaxis_title='Preço',\n",
        "    xaxis_title='Data'\n",
        ")\n",
        "\n",
        "fig = go.Figure(data=lines, layout=layout)\n",
        "fig.show()"
      ],
      "metadata": {
        "colab": {
          "base_uri": "https://localhost:8080/",
          "height": 542
        },
        "id": "pseSmPnvlVly",
        "outputId": "a1ecd4c6-d616-418c-869d-d17811f4e881"
      },
      "execution_count": 92,
      "outputs": [
        {
          "output_type": "display_data",
          "data": {
            "text/html": [
              "<html>\n",
              "<head><meta charset=\"utf-8\" /></head>\n",
              "<body>\n",
              "    <div>            <script src=\"https://cdnjs.cloudflare.com/ajax/libs/mathjax/2.7.5/MathJax.js?config=TeX-AMS-MML_SVG\"></script><script type=\"text/javascript\">if (window.MathJax && window.MathJax.Hub && window.MathJax.Hub.Config) {window.MathJax.Hub.Config({SVG: {font: \"STIX-Web\"}});}</script>                <script type=\"text/javascript\">window.PlotlyConfig = {MathJaxConfig: 'local'};</script>\n",
              "        <script src=\"https://cdn.plot.ly/plotly-2.18.2.min.js\"></script>                <div id=\"e79b884a-94e2-44a5-81ea-9582bd0c6b11\" class=\"plotly-graph-div\" style=\"height:525px; width:100%;\"></div>            <script type=\"text/javascript\">                                    window.PLOTLYENV=window.PLOTLYENV || {};                                    if (document.getElementById(\"e79b884a-94e2-44a5-81ea-9582bd0c6b11\")) {                    Plotly.newPlot(                        \"e79b884a-94e2-44a5-81ea-9582bd0c6b11\",                        [{\"mode\":\"lines\",\"name\":\"Pre\\u00e7o Bitcoin\",\"x\":[\"2020-02-11T00:00:00\",\"2020-02-12T00:00:00\",\"2020-02-13T00:00:00\",\"2020-02-14T00:00:00\",\"2020-02-17T00:00:00\",\"2020-02-18T00:00:00\",\"2020-02-19T00:00:00\",\"2020-02-20T00:00:00\",\"2020-02-21T00:00:00\",\"2020-02-24T00:00:00\",\"2020-02-25T00:00:00\",\"2020-02-26T00:00:00\",\"2020-02-27T00:00:00\",\"2020-02-28T00:00:00\",\"2020-03-02T00:00:00\",\"2020-03-03T00:00:00\",\"2020-03-04T00:00:00\",\"2020-03-05T00:00:00\",\"2020-03-06T00:00:00\",\"2020-03-09T00:00:00\",\"2020-03-10T00:00:00\",\"2020-03-11T00:00:00\",\"2020-03-12T00:00:00\",\"2020-03-13T00:00:00\",\"2020-03-16T00:00:00\",\"2020-03-17T00:00:00\",\"2020-03-18T00:00:00\",\"2020-03-19T00:00:00\",\"2020-03-20T00:00:00\",\"2020-03-23T00:00:00\",\"2020-03-24T00:00:00\",\"2020-03-25T00:00:00\",\"2020-03-26T00:00:00\",\"2020-03-27T00:00:00\",\"2020-03-30T00:00:00\",\"2020-03-31T00:00:00\",\"2020-04-01T00:00:00\",\"2020-04-02T00:00:00\",\"2020-04-03T00:00:00\",\"2020-04-06T00:00:00\",\"2020-04-07T00:00:00\",\"2020-04-08T00:00:00\",\"2020-04-09T00:00:00\",\"2020-04-10T00:00:00\",\"2020-04-13T00:00:00\",\"2020-04-14T00:00:00\",\"2020-04-15T00:00:00\",\"2020-04-16T00:00:00\",\"2020-04-17T00:00:00\",\"2020-04-20T00:00:00\",\"2020-04-21T00:00:00\",\"2020-04-22T00:00:00\",\"2020-04-23T00:00:00\",\"2020-04-24T00:00:00\",\"2020-04-27T00:00:00\",\"2020-04-28T00:00:00\",\"2020-04-29T00:00:00\",\"2020-04-30T00:00:00\",\"2020-05-01T00:00:00\",\"2020-05-04T00:00:00\",\"2020-05-05T00:00:00\",\"2020-05-06T00:00:00\",\"2020-05-07T00:00:00\",\"2020-05-08T00:00:00\",\"2020-05-11T00:00:00\",\"2020-05-12T00:00:00\",\"2020-05-13T00:00:00\",\"2020-05-14T00:00:00\",\"2020-05-15T00:00:00\",\"2020-05-18T00:00:00\",\"2020-05-19T00:00:00\",\"2020-05-20T00:00:00\",\"2020-05-21T00:00:00\",\"2020-05-22T00:00:00\",\"2020-05-25T00:00:00\",\"2020-05-26T00:00:00\",\"2020-05-27T00:00:00\",\"2020-05-28T00:00:00\",\"2020-05-29T00:00:00\",\"2020-06-01T00:00:00\",\"2020-06-02T00:00:00\",\"2020-06-03T00:00:00\",\"2020-06-04T00:00:00\",\"2020-06-05T00:00:00\",\"2020-06-08T00:00:00\",\"2020-06-09T00:00:00\",\"2020-06-10T00:00:00\",\"2020-06-11T00:00:00\",\"2020-06-12T00:00:00\",\"2020-06-15T00:00:00\",\"2020-06-16T00:00:00\",\"2020-06-17T00:00:00\",\"2020-06-18T00:00:00\",\"2020-06-19T00:00:00\",\"2020-06-22T00:00:00\",\"2020-06-23T00:00:00\",\"2020-06-24T00:00:00\",\"2020-06-25T00:00:00\",\"2020-06-26T00:00:00\",\"2020-06-29T00:00:00\",\"2020-06-30T00:00:00\",\"2020-07-01T00:00:00\",\"2020-07-02T00:00:00\",\"2020-07-03T00:00:00\",\"2020-07-06T00:00:00\",\"2020-07-07T00:00:00\",\"2020-07-08T00:00:00\",\"2020-07-09T00:00:00\",\"2020-07-10T00:00:00\",\"2020-07-13T00:00:00\",\"2020-07-14T00:00:00\",\"2020-07-15T00:00:00\",\"2020-07-16T00:00:00\",\"2020-07-17T00:00:00\",\"2020-07-20T00:00:00\",\"2020-07-21T00:00:00\",\"2020-07-22T00:00:00\",\"2020-07-23T00:00:00\",\"2020-07-24T00:00:00\",\"2020-07-27T00:00:00\",\"2020-07-28T00:00:00\",\"2020-07-29T00:00:00\",\"2020-07-30T00:00:00\",\"2020-07-31T00:00:00\",\"2020-08-03T00:00:00\",\"2020-08-04T00:00:00\",\"2020-08-05T00:00:00\",\"2020-08-06T00:00:00\",\"2020-08-07T00:00:00\",\"2020-08-10T00:00:00\",\"2020-08-11T00:00:00\",\"2020-08-12T00:00:00\",\"2020-08-13T00:00:00\",\"2020-08-14T00:00:00\",\"2020-08-17T00:00:00\",\"2020-08-18T00:00:00\",\"2020-08-19T00:00:00\",\"2020-08-20T00:00:00\",\"2020-08-21T00:00:00\",\"2020-08-24T00:00:00\",\"2020-08-25T00:00:00\",\"2020-08-26T00:00:00\",\"2020-08-27T00:00:00\",\"2020-08-28T00:00:00\",\"2020-08-31T00:00:00\",\"2020-09-01T00:00:00\",\"2020-09-02T00:00:00\",\"2020-09-03T00:00:00\",\"2020-09-04T00:00:00\",\"2020-09-07T00:00:00\",\"2020-09-08T00:00:00\",\"2020-09-09T00:00:00\",\"2020-09-10T00:00:00\",\"2020-09-11T00:00:00\",\"2020-09-14T00:00:00\",\"2020-09-15T00:00:00\",\"2020-09-16T00:00:00\",\"2020-09-17T00:00:00\",\"2020-09-18T00:00:00\",\"2020-09-21T00:00:00\",\"2020-09-22T00:00:00\",\"2020-09-23T00:00:00\",\"2020-09-24T00:00:00\",\"2020-09-25T00:00:00\",\"2020-09-28T00:00:00\",\"2020-09-29T00:00:00\",\"2020-09-30T00:00:00\",\"2020-10-01T00:00:00\",\"2020-10-02T00:00:00\",\"2020-10-05T00:00:00\",\"2020-10-06T00:00:00\",\"2020-10-07T00:00:00\",\"2020-10-08T00:00:00\",\"2020-10-09T00:00:00\",\"2020-10-12T00:00:00\",\"2020-10-13T00:00:00\",\"2020-10-14T00:00:00\",\"2020-10-15T00:00:00\",\"2020-10-16T00:00:00\",\"2020-10-19T00:00:00\",\"2020-10-20T00:00:00\",\"2020-10-21T00:00:00\",\"2020-10-22T00:00:00\",\"2020-10-23T00:00:00\",\"2020-10-26T00:00:00\",\"2020-10-27T00:00:00\",\"2020-10-28T00:00:00\",\"2020-10-29T00:00:00\",\"2020-10-30T00:00:00\",\"2020-11-02T00:00:00\",\"2020-11-03T00:00:00\",\"2020-11-04T00:00:00\",\"2020-11-05T00:00:00\",\"2020-11-06T00:00:00\",\"2020-11-09T00:00:00\",\"2020-11-10T00:00:00\",\"2020-11-11T00:00:00\",\"2020-11-12T00:00:00\",\"2020-11-13T00:00:00\",\"2020-11-16T00:00:00\",\"2020-11-17T00:00:00\",\"2020-11-18T00:00:00\",\"2020-11-19T00:00:00\",\"2020-11-20T00:00:00\",\"2020-11-23T00:00:00\",\"2020-11-24T00:00:00\",\"2020-11-25T00:00:00\",\"2020-11-26T00:00:00\",\"2020-11-27T00:00:00\",\"2020-11-30T00:00:00\",\"2020-12-01T00:00:00\",\"2020-12-02T00:00:00\",\"2020-12-03T00:00:00\",\"2020-12-04T00:00:00\",\"2020-12-07T00:00:00\",\"2020-12-08T00:00:00\",\"2020-12-09T00:00:00\",\"2020-12-10T00:00:00\",\"2020-12-11T00:00:00\",\"2020-12-14T00:00:00\",\"2020-12-15T00:00:00\",\"2020-12-16T00:00:00\",\"2020-12-17T00:00:00\",\"2020-12-18T00:00:00\",\"2020-12-21T00:00:00\",\"2020-12-22T00:00:00\",\"2020-12-23T00:00:00\",\"2020-12-24T00:00:00\",\"2020-12-25T00:00:00\",\"2020-12-28T00:00:00\",\"2020-12-29T00:00:00\",\"2020-12-30T00:00:00\",\"2020-12-31T00:00:00\",\"2021-01-01T00:00:00\",\"2021-01-04T00:00:00\",\"2021-01-05T00:00:00\",\"2021-01-06T00:00:00\",\"2021-01-07T00:00:00\",\"2021-01-08T00:00:00\",\"2021-01-11T00:00:00\",\"2021-01-12T00:00:00\",\"2021-01-13T00:00:00\",\"2021-01-14T00:00:00\",\"2021-01-15T00:00:00\",\"2021-01-18T00:00:00\",\"2021-01-19T00:00:00\",\"2021-01-20T00:00:00\",\"2021-01-21T00:00:00\",\"2021-01-22T00:00:00\",\"2021-01-25T00:00:00\",\"2021-01-26T00:00:00\",\"2021-01-27T00:00:00\",\"2021-01-28T00:00:00\",\"2021-01-29T00:00:00\",\"2021-02-01T00:00:00\",\"2021-02-02T00:00:00\",\"2021-02-03T00:00:00\",\"2021-02-04T00:00:00\",\"2021-02-05T00:00:00\",\"2021-02-08T00:00:00\",\"2021-02-09T00:00:00\",\"2021-02-10T00:00:00\",\"2021-02-11T00:00:00\",\"2021-02-12T00:00:00\",\"2021-02-15T00:00:00\",\"2021-02-16T00:00:00\",\"2021-02-17T00:00:00\",\"2021-02-18T00:00:00\",\"2021-02-19T00:00:00\",\"2021-02-22T00:00:00\",\"2021-02-23T00:00:00\",\"2021-02-24T00:00:00\",\"2021-02-25T00:00:00\",\"2021-02-26T00:00:00\",\"2021-03-01T00:00:00\",\"2021-03-02T00:00:00\",\"2021-03-03T00:00:00\",\"2021-03-04T00:00:00\",\"2021-03-05T00:00:00\",\"2021-03-08T00:00:00\",\"2021-03-09T00:00:00\",\"2021-03-10T00:00:00\",\"2021-03-11T00:00:00\",\"2021-03-12T00:00:00\",\"2021-03-15T00:00:00\",\"2021-03-16T00:00:00\",\"2021-03-17T00:00:00\",\"2021-03-18T00:00:00\",\"2021-03-19T00:00:00\",\"2021-03-22T00:00:00\",\"2021-03-23T00:00:00\",\"2021-03-24T00:00:00\",\"2021-03-25T00:00:00\",\"2021-03-26T00:00:00\",\"2021-03-29T00:00:00\",\"2021-03-30T00:00:00\",\"2021-03-31T00:00:00\",\"2021-04-01T00:00:00\",\"2021-04-02T00:00:00\",\"2021-04-05T00:00:00\",\"2021-04-06T00:00:00\",\"2021-04-07T00:00:00\",\"2021-04-08T00:00:00\",\"2021-04-09T00:00:00\",\"2021-04-12T00:00:00\",\"2021-04-13T00:00:00\",\"2021-04-14T00:00:00\",\"2021-04-15T00:00:00\",\"2021-04-16T00:00:00\",\"2021-04-19T00:00:00\",\"2021-04-20T00:00:00\",\"2021-04-21T00:00:00\",\"2021-04-22T00:00:00\",\"2021-04-23T00:00:00\",\"2021-04-26T00:00:00\",\"2021-04-27T00:00:00\",\"2021-04-28T00:00:00\",\"2021-04-29T00:00:00\",\"2021-04-30T00:00:00\",\"2021-05-03T00:00:00\",\"2021-05-04T00:00:00\",\"2021-05-05T00:00:00\",\"2021-05-06T00:00:00\",\"2021-05-07T00:00:00\",\"2021-05-10T00:00:00\",\"2021-05-11T00:00:00\",\"2021-05-12T00:00:00\",\"2021-05-13T00:00:00\",\"2021-05-14T00:00:00\",\"2021-05-17T00:00:00\",\"2021-05-18T00:00:00\",\"2021-05-19T00:00:00\",\"2021-05-20T00:00:00\",\"2021-05-21T00:00:00\",\"2021-05-24T00:00:00\",\"2021-05-25T00:00:00\",\"2021-05-26T00:00:00\",\"2021-05-27T00:00:00\",\"2021-05-28T00:00:00\",\"2021-05-31T00:00:00\",\"2021-06-01T00:00:00\",\"2021-06-02T00:00:00\",\"2021-06-03T00:00:00\",\"2021-06-04T00:00:00\",\"2021-06-07T00:00:00\",\"2021-06-08T00:00:00\",\"2021-06-09T00:00:00\",\"2021-06-10T00:00:00\",\"2021-06-11T00:00:00\",\"2021-06-14T00:00:00\",\"2021-06-15T00:00:00\",\"2021-06-16T00:00:00\",\"2021-06-17T00:00:00\",\"2021-06-18T00:00:00\",\"2021-06-21T00:00:00\",\"2021-06-22T00:00:00\",\"2021-06-23T00:00:00\",\"2021-06-24T00:00:00\",\"2021-06-25T00:00:00\",\"2021-06-28T00:00:00\",\"2021-06-29T00:00:00\",\"2021-06-30T00:00:00\",\"2021-07-01T00:00:00\",\"2021-07-02T00:00:00\",\"2021-07-05T00:00:00\",\"2021-07-06T00:00:00\",\"2021-07-07T00:00:00\",\"2021-07-08T00:00:00\",\"2021-07-09T00:00:00\",\"2021-07-12T00:00:00\",\"2021-07-13T00:00:00\",\"2021-07-14T00:00:00\",\"2021-07-15T00:00:00\",\"2021-07-16T00:00:00\",\"2021-07-19T00:00:00\",\"2021-07-20T00:00:00\",\"2021-07-21T00:00:00\",\"2021-07-22T00:00:00\",\"2021-07-23T00:00:00\",\"2021-07-26T00:00:00\",\"2021-07-27T00:00:00\",\"2021-07-28T00:00:00\",\"2021-07-29T00:00:00\",\"2021-07-30T00:00:00\",\"2021-08-02T00:00:00\",\"2021-08-03T00:00:00\",\"2021-08-04T00:00:00\",\"2021-08-05T00:00:00\",\"2021-08-06T00:00:00\",\"2021-08-09T00:00:00\",\"2021-08-10T00:00:00\",\"2021-08-11T00:00:00\",\"2021-08-12T00:00:00\",\"2021-08-13T00:00:00\",\"2021-08-16T00:00:00\",\"2021-08-17T00:00:00\",\"2021-08-18T00:00:00\",\"2021-08-19T00:00:00\",\"2021-08-20T00:00:00\",\"2021-08-23T00:00:00\",\"2021-08-24T00:00:00\",\"2021-08-25T00:00:00\",\"2021-08-26T00:00:00\",\"2021-08-27T00:00:00\",\"2021-08-30T00:00:00\",\"2021-08-31T00:00:00\",\"2021-09-01T00:00:00\",\"2021-09-02T00:00:00\",\"2021-09-03T00:00:00\",\"2021-09-06T00:00:00\",\"2021-09-07T00:00:00\",\"2021-09-08T00:00:00\",\"2021-09-09T00:00:00\",\"2021-09-10T00:00:00\",\"2021-09-13T00:00:00\",\"2021-09-14T00:00:00\",\"2021-09-15T00:00:00\",\"2021-09-16T00:00:00\",\"2021-09-17T00:00:00\",\"2021-09-20T00:00:00\",\"2021-09-21T00:00:00\",\"2021-09-22T00:00:00\",\"2021-09-23T00:00:00\",\"2021-09-24T00:00:00\",\"2021-09-27T00:00:00\",\"2021-09-28T00:00:00\",\"2021-09-29T00:00:00\",\"2021-09-30T00:00:00\",\"2021-10-01T00:00:00\",\"2021-10-04T00:00:00\",\"2021-10-05T00:00:00\",\"2021-10-06T00:00:00\",\"2021-10-07T00:00:00\",\"2021-10-08T00:00:00\",\"2021-10-11T00:00:00\",\"2021-10-12T00:00:00\",\"2021-10-13T00:00:00\",\"2021-10-14T00:00:00\",\"2021-10-15T00:00:00\",\"2021-10-18T00:00:00\",\"2021-10-19T00:00:00\",\"2021-10-20T00:00:00\",\"2021-10-21T00:00:00\",\"2021-10-22T00:00:00\",\"2021-10-25T00:00:00\",\"2021-10-26T00:00:00\",\"2021-10-27T00:00:00\",\"2021-10-28T00:00:00\",\"2021-10-29T00:00:00\",\"2021-11-01T00:00:00\",\"2021-11-02T00:00:00\",\"2021-11-03T00:00:00\",\"2021-11-04T00:00:00\",\"2021-11-05T00:00:00\",\"2021-11-08T00:00:00\",\"2021-11-09T00:00:00\",\"2021-11-10T00:00:00\",\"2021-11-11T00:00:00\",\"2021-11-12T00:00:00\",\"2021-11-15T00:00:00\",\"2021-11-16T00:00:00\",\"2021-11-17T00:00:00\",\"2021-11-18T00:00:00\",\"2021-11-19T00:00:00\",\"2021-11-22T00:00:00\",\"2021-11-23T00:00:00\",\"2021-11-24T00:00:00\",\"2021-11-25T00:00:00\",\"2021-11-26T00:00:00\",\"2021-11-29T00:00:00\",\"2021-11-30T00:00:00\",\"2021-12-01T00:00:00\",\"2021-12-02T00:00:00\",\"2021-12-03T00:00:00\",\"2021-12-06T00:00:00\",\"2021-12-07T00:00:00\",\"2021-12-08T00:00:00\",\"2021-12-09T00:00:00\",\"2021-12-10T00:00:00\",\"2021-12-13T00:00:00\",\"2021-12-14T00:00:00\",\"2021-12-15T00:00:00\",\"2021-12-16T00:00:00\",\"2021-12-17T00:00:00\",\"2021-12-20T00:00:00\",\"2021-12-21T00:00:00\",\"2021-12-22T00:00:00\",\"2021-12-23T00:00:00\",\"2021-12-24T00:00:00\",\"2021-12-27T00:00:00\",\"2021-12-28T00:00:00\",\"2021-12-29T00:00:00\",\"2021-12-30T00:00:00\",\"2021-12-31T00:00:00\",\"2022-01-03T00:00:00\",\"2022-01-04T00:00:00\",\"2022-01-05T00:00:00\",\"2022-01-06T00:00:00\",\"2022-01-07T00:00:00\",\"2022-01-10T00:00:00\",\"2022-01-11T00:00:00\",\"2022-01-12T00:00:00\",\"2022-01-13T00:00:00\",\"2022-01-14T00:00:00\",\"2022-01-17T00:00:00\",\"2022-01-18T00:00:00\",\"2022-01-19T00:00:00\",\"2022-01-20T00:00:00\",\"2022-01-21T00:00:00\",\"2022-01-24T00:00:00\",\"2022-01-25T00:00:00\",\"2022-01-26T00:00:00\",\"2022-01-27T00:00:00\",\"2022-01-28T00:00:00\",\"2022-01-31T00:00:00\",\"2022-02-01T00:00:00\",\"2022-02-02T00:00:00\",\"2022-02-03T00:00:00\",\"2022-02-04T00:00:00\",\"2022-02-07T00:00:00\",\"2022-02-08T00:00:00\",\"2022-02-09T00:00:00\",\"2022-02-10T00:00:00\",\"2022-02-11T00:00:00\",\"2022-02-14T00:00:00\",\"2022-02-15T00:00:00\",\"2022-02-16T00:00:00\",\"2022-02-17T00:00:00\",\"2022-02-18T00:00:00\",\"2022-02-21T00:00:00\",\"2022-02-22T00:00:00\",\"2022-02-23T00:00:00\",\"2022-02-24T00:00:00\",\"2022-02-25T00:00:00\",\"2022-02-28T00:00:00\",\"2022-03-01T00:00:00\",\"2022-03-02T00:00:00\",\"2022-03-03T00:00:00\",\"2022-03-04T00:00:00\",\"2022-03-07T00:00:00\",\"2022-03-08T00:00:00\",\"2022-03-09T00:00:00\",\"2022-03-10T00:00:00\",\"2022-03-11T00:00:00\",\"2022-03-14T00:00:00\",\"2022-03-15T00:00:00\",\"2022-03-16T00:00:00\",\"2022-03-17T00:00:00\",\"2022-03-18T00:00:00\",\"2022-03-21T00:00:00\",\"2022-03-22T00:00:00\",\"2022-03-23T00:00:00\",\"2022-03-24T00:00:00\",\"2022-03-25T00:00:00\",\"2022-03-28T00:00:00\",\"2022-03-29T00:00:00\",\"2022-03-30T00:00:00\",\"2022-03-31T00:00:00\",\"2022-04-01T00:00:00\",\"2022-04-04T00:00:00\",\"2022-04-05T00:00:00\",\"2022-04-06T00:00:00\",\"2022-04-07T00:00:00\",\"2022-04-08T00:00:00\",\"2022-04-11T00:00:00\",\"2022-04-12T00:00:00\",\"2022-04-13T00:00:00\",\"2022-04-14T00:00:00\",\"2022-04-15T00:00:00\",\"2022-04-18T00:00:00\",\"2022-04-19T00:00:00\",\"2022-04-20T00:00:00\",\"2022-04-21T00:00:00\",\"2022-04-22T00:00:00\",\"2022-04-25T00:00:00\",\"2022-04-26T00:00:00\",\"2022-04-27T00:00:00\",\"2022-04-28T00:00:00\",\"2022-04-29T00:00:00\",\"2022-05-02T00:00:00\",\"2022-05-03T00:00:00\",\"2022-05-04T00:00:00\",\"2022-05-05T00:00:00\",\"2022-05-06T00:00:00\",\"2022-05-09T00:00:00\",\"2022-05-10T00:00:00\",\"2022-05-11T00:00:00\",\"2022-05-12T00:00:00\",\"2022-05-13T00:00:00\",\"2022-05-16T00:00:00\",\"2022-05-17T00:00:00\",\"2022-05-18T00:00:00\",\"2022-05-19T00:00:00\",\"2022-05-20T00:00:00\",\"2022-05-23T00:00:00\",\"2022-05-24T00:00:00\",\"2022-05-25T00:00:00\",\"2022-05-26T00:00:00\",\"2022-05-27T00:00:00\",\"2022-05-30T00:00:00\",\"2022-05-31T00:00:00\",\"2022-06-01T00:00:00\",\"2022-06-02T00:00:00\",\"2022-06-03T00:00:00\",\"2022-06-06T00:00:00\",\"2022-06-07T00:00:00\",\"2022-06-08T00:00:00\",\"2022-06-09T00:00:00\",\"2022-06-10T00:00:00\",\"2022-06-13T00:00:00\",\"2022-06-14T00:00:00\",\"2022-06-15T00:00:00\",\"2022-06-16T00:00:00\",\"2022-06-17T00:00:00\",\"2022-06-20T00:00:00\",\"2022-06-21T00:00:00\",\"2022-06-22T00:00:00\",\"2022-06-23T00:00:00\",\"2022-06-24T00:00:00\",\"2022-06-27T00:00:00\",\"2022-06-28T00:00:00\",\"2022-06-29T00:00:00\",\"2022-06-30T00:00:00\",\"2022-07-01T00:00:00\",\"2022-07-04T00:00:00\",\"2022-07-05T00:00:00\",\"2022-07-06T00:00:00\",\"2022-07-07T00:00:00\",\"2022-07-08T00:00:00\",\"2022-07-11T00:00:00\",\"2022-07-12T00:00:00\",\"2022-07-13T00:00:00\",\"2022-07-14T00:00:00\",\"2022-07-15T00:00:00\",\"2022-07-18T00:00:00\",\"2022-07-19T00:00:00\",\"2022-07-20T00:00:00\",\"2022-07-21T00:00:00\",\"2022-07-22T00:00:00\",\"2022-07-25T00:00:00\",\"2022-07-26T00:00:00\",\"2022-07-27T00:00:00\",\"2022-07-28T00:00:00\",\"2022-07-29T00:00:00\",\"2022-08-01T00:00:00\",\"2022-08-02T00:00:00\",\"2022-08-03T00:00:00\",\"2022-08-04T00:00:00\",\"2022-08-05T00:00:00\",\"2022-08-08T00:00:00\",\"2022-08-09T00:00:00\",\"2022-08-10T00:00:00\",\"2022-08-11T00:00:00\",\"2022-08-12T00:00:00\",\"2022-08-15T00:00:00\",\"2022-08-16T00:00:00\",\"2022-08-17T00:00:00\",\"2022-08-18T00:00:00\",\"2022-08-19T00:00:00\",\"2022-08-22T00:00:00\",\"2022-08-23T00:00:00\",\"2022-08-24T00:00:00\",\"2022-08-25T00:00:00\",\"2022-08-26T00:00:00\",\"2022-08-29T00:00:00\",\"2022-08-30T00:00:00\",\"2022-08-31T00:00:00\",\"2022-09-01T00:00:00\",\"2022-09-02T00:00:00\",\"2022-09-05T00:00:00\",\"2022-09-06T00:00:00\",\"2022-09-07T00:00:00\",\"2022-09-08T00:00:00\",\"2022-09-09T00:00:00\",\"2022-09-12T00:00:00\",\"2022-09-13T00:00:00\",\"2022-09-14T00:00:00\",\"2022-09-15T00:00:00\",\"2022-09-16T00:00:00\",\"2022-09-19T00:00:00\",\"2022-09-20T00:00:00\",\"2022-09-21T00:00:00\",\"2022-09-22T00:00:00\",\"2022-09-23T00:00:00\",\"2022-09-26T00:00:00\",\"2022-09-27T00:00:00\",\"2022-09-28T00:00:00\",\"2022-09-29T00:00:00\",\"2022-09-30T00:00:00\",\"2022-10-03T00:00:00\",\"2022-10-04T00:00:00\",\"2022-10-05T00:00:00\",\"2022-10-06T00:00:00\",\"2022-10-07T00:00:00\",\"2022-10-10T00:00:00\",\"2022-10-11T00:00:00\",\"2022-10-12T00:00:00\",\"2022-10-13T00:00:00\",\"2022-10-14T00:00:00\",\"2022-10-17T00:00:00\",\"2022-10-18T00:00:00\",\"2022-10-19T00:00:00\",\"2022-10-20T00:00:00\",\"2022-10-21T00:00:00\",\"2022-10-24T00:00:00\",\"2022-10-25T00:00:00\",\"2022-10-26T00:00:00\",\"2022-10-27T00:00:00\",\"2022-10-28T00:00:00\",\"2022-10-31T00:00:00\",\"2022-11-01T00:00:00\",\"2022-11-02T00:00:00\",\"2022-11-03T00:00:00\",\"2022-11-04T00:00:00\",\"2022-11-07T00:00:00\",\"2022-11-08T00:00:00\",\"2022-11-09T00:00:00\",\"2022-11-10T00:00:00\",\"2022-11-11T00:00:00\",\"2022-11-14T00:00:00\",\"2022-11-15T00:00:00\",\"2022-11-16T00:00:00\",\"2022-11-17T00:00:00\",\"2022-11-18T00:00:00\",\"2022-11-21T00:00:00\",\"2022-11-22T00:00:00\",\"2022-11-23T00:00:00\",\"2022-11-24T00:00:00\",\"2022-11-25T00:00:00\",\"2022-11-28T00:00:00\",\"2022-11-29T00:00:00\",\"2022-11-30T00:00:00\",\"2022-12-01T00:00:00\",\"2022-12-02T00:00:00\",\"2022-12-05T00:00:00\",\"2022-12-06T00:00:00\",\"2022-12-07T00:00:00\",\"2022-12-08T00:00:00\",\"2022-12-09T00:00:00\",\"2022-12-12T00:00:00\",\"2022-12-13T00:00:00\",\"2022-12-14T00:00:00\",\"2022-12-15T00:00:00\",\"2022-12-16T00:00:00\",\"2022-12-19T00:00:00\",\"2022-12-20T00:00:00\",\"2022-12-21T00:00:00\",\"2022-12-22T00:00:00\",\"2022-12-23T00:00:00\",\"2022-12-26T00:00:00\",\"2022-12-27T00:00:00\",\"2022-12-28T00:00:00\",\"2022-12-29T00:00:00\"],\"y\":[8736.004947916666,8840.200960286458,8947.831282552082,9046.739013671875,9110.769791666668,9176.713248697917,9228.497379557291,9286.144189453125,9336.807096354167,9387.0064453125,9404.13779296875,9404.58818359375,9406.611783854167,9398.059016927084,9405.126595052083,9406.522981770833,9409.001985677083,9431.410221354166,9453.980598958333,9421.10810546875,9372.812760416668,9325.972770182292,9174.699267578126,9048.471858723959,8905.837141927082,8773.992692057293,8628.159847005209,8510.206217447916,8390.300716145834,8275.624169921875,8159.843082682291,8038.343359375,7921.745377604167,7793.668115234375,7684.991422526042,7561.546370442708,7460.659358723959,7366.830989583334,7268.395849609375,7189.116064453125,7116.939713541667,7067.392252604167,7017.978759765625,6957.746695963541,6890.258951822917,6825.413671875,6754.975797526042,6689.577180989583,6622.031803385416,6587.308935546875,6552.995393880208,6526.521305338541,6608.485856119792,6674.725651041666,6767.4296875,6853.477327473958,6972.230647786459,7054.476009114584,7143.34228515625,7226.553597005209,7302.162483723959,7388.419108072917,7496.255045572917,7608.683968098959,7681.082438151042,7759.943538411459,7848.717236328125,7946.720475260417,8033.214143880208,8115.040608723958,8200.128059895833,8273.0908203125,8332.413232421875,8409.649365234374,8478.379264322917,8544.80009765625,8629.430354817709,8709.728580729166,8787.8265625,8897.336897786457,8985.652913411459,9070.303255208333,9149.333658854166,9219.821402994792,9285.684342447918,9351.972395833332,9387.6076171875,9409.715201822917,9430.251106770833,9448.18603515625,9466.017838541668,9473.067610677082,9455.078352864582,9436.590104166668,9471.4875,9498.993522135417,9500.447623697917,9484.817350260417,9479.308040364584,9461.45068359375,9441.749186197916,9431.927311197916,9433.315592447916,9430.139811197916,9445.7578125,9459.665299479168,9467.909147135417,9459.64970703125,9454.305826822916,9423.517350260418,9413.96435546875,9398.50166015625,9376.221354166666,9359.083333333334,9338.84140625,9324.814322916667,9313.323274739583,9321.96630859375,9323.834602864583,9375.1736328125,9421.000260416668,9475.007356770833,9531.653125,9599.501399739584,9652.75576171875,9705.296907552083,9786.41064453125,9870.242643229167,9951.527799479167,10041.10302734375,10116.8541015625,10195.407747395833,10284.098665364583,10373.484244791667,10469.448502604168,10560.747037760417,10638.412044270834,10725.0921875,10802.214908854166,10886.58095703125,10957.344986979168,11033.862532552082,11106.901529947916,11186.605110677083,11270.49140625,11357.011100260417,11419.966796875,11442.1076171875,11474.60498046875,11453.894661458333,11427.851106770833,11399.247102864583,11374.311263020832,11343.559537760417,11324.7091796875,11311.077799479166,11285.340559895832,11257.647786458334,11235.7515625,11188.556510416667,11159.487662760417,11114.862727864584,11080.727018229167,11044.855208333332,10993.363541666668,10955.143782552082,10922.684049479167,10880.720052083334,10846.83623046875,10814.127701822918,10788.736751302084,10761.423600260418,10747.833203125,10731.898470052083,10727.716569010418,10709.563932291667,10710.0796875,10751.748111979166,10778.758430989583,10824.507552083332,10884.001497395833,10970.046223958334,11056.804654947917,11141.1587890625,11220.9724609375,11316.214713541667,11392.760709635417,11475.723795572916,11562.455013020834,11665.39599609375,11779.1240234375,11908.708040364583,12069.367447916668,12231.80625,12385.89501953125,12534.103743489582,12697.998697916666,12886.561751302082,13077.956217447916,13275.38193359375,13510.08193359375,13747.91650390625,13977.963313802084,14229.858528645833,14456.817122395832,14712.869303385416,14956.289778645832,15144.798893229166,15337.674869791666,15600.4681640625,15830.023600260416,16042.603678385416,16258.587239583334,16450.861458333333,16654.740885416668,16810.305078125,16986.3927734375,17147.296419270835,17297.709147135418,17487.580989583334,17669.8068359375,17909.0365234375,18149.880305989584,18402.282975260416,18651.308528645834,18934.379427083335,19185.712955729166,19434.366471354166,19712.59921875,20058.2224609375,20382.123502604165,20750.021744791666,21122.8427734375,21481.270703125,21934.863802083335,22431.029296875,23034.104036458335,23774.784700520835,24564.424934895833,25095.785611979165,25599.784375,26203.626627604168,26861.690950520835,27465.877669270834,28047.159114583334,28638.781119791667,29205.242252604166,29623.932486979167,30122.161067708334,30559.486002604168,30997.911783854168,31301.9767578125,31657.341276041665,32029.95546875,32387.75859375,32778.667252604166,33253.025390625,33692.695963541664,34142.01321614583,34779.06842447917,35416.35735677083,35952.2650390625,36582.51875,37186.875390625,37719.31354166667,38226.228255208334,38737.04973958333,39147.341536458334,39650.358984375,40271.714453125,40768.429947916666,41181.395703125,41444.946484375,41762.09296875,42195.465234375,42605.77135416667,43105.454427083336,43696.63671875,44227.354817708336,44890.02584635417,45631.834765625,46484.36822916667,47295.66901041667,48062.859114583334,48808.5265625,49518.347005208336,50231.64049479167,50929.40234375,51602.813802083336,51880.56979166667,52155.83111979167,52417.700520833336,52544.19479166667,52798.61015625,53125.44817708333,53449.37552083333,53675.036328125,53922.23671875,54038.776041666664,54200.461328125,54512.72578125,54724.179296875,55098.516015625,55495.357421875,55837.43111979167,56341.580078125,56760.628515625,57252.389973958336,57673.90611979167,57789.830859375,57844.794661458334,57774.712630208334,57573.284375,57365.33645833333,57302.48828125,57243.42877604167,57108.55572916667,56965.0953125,56945.21276041667,57034.25104166667,56987.40416666667,57142.39557291667,57298.807421875,57372.777083333334,57309.763671875,57235.99309895833,56910.383203125,56597.729296875,56280.93671875,55763.591145833336,55254.15924479167,54619.276041666664,54034.56888020833,53336.55846354167,52630.309375,51793.6015625,50999.751692708334,50170.516927083336,49308.01080729167,48694.96380208333,48035.36028645833,47490.99661458333,47072.54635416667,46599.23815104167,45917.20325520833,45198.52044270833,44615.86770833333,44054.11731770833,43373.59140625,42807.530859375,42376.621875,41740.72369791667,41129.28997395833,40410.318098958334,39604.2146484375,38797.5841796875,38283.33391927083,37781.54212239583,37173.45026041667,36870.011067708336,36635.290234375,36569.90338541667,36329.54934895833,36215.961197916666,36050.628645833334,35911.727734375,35730.43203125,35545.112109375,35481.792317708336,35342.55872395833,35209.79537760417,35051.36764322917,34803.76647135417,34621.337565104164,34529.9083984375,34407.7322265625,34233.251302083336,34086.934895833336,33961.83997395833,33865.80859375,33832.49765625,33887.45911458333,33952.623046875,34167.56640625,34418.40813802083,34606.6521484375,34807.468033854166,35014.37194010417,35386.99596354167,35784.69817708333,36108.606640625,36460.36666666667,36822.2390625,37285.44817708333,37694.064192708334,38042.736328125,38407.598307291664,38868.93854166667,39386.97734375,39933.320703125,40433.45709635417,40971.40514322917,41476.7880859375,42064.6923828125,42605.93079427083,43184.575455729166,43742.45325520833,44309.607161458334,44857.734635416666,45367.601302083334,45614.407552083336,45817.59036458333,46030.35703125,46118.63580729167,46310.6734375,46608.65716145833,46889.61861979167,47120.078776041664,47268.44609375,47151.059375,46988.01419270833,46920.70989583333,46936.270182291664,46771.151171875,46645.526041666664,46523.498828125,46415.6046875,46318.048567708334,46277.307421875,46262.865885416664,46389.82239583333,46603.177734375,46831.969921875,46995.60924479167,47343.26940104167,47639.081770833334,47924.217447916664,48190.677473958334,48576.296614583334,48889.38138020833,49471.076822916664,50134.458333333336,50661.75,51188.69518229167,51791.253515625,52233.630208333336,52577.16484375,53005.12408854167,53503.80559895833,54109.15911458333,54860.25,55506.76796875,56058.67239583333,56668.20325520833,57512.57317708333,58377.14934895833,59158.17825520833,59863.48046875,60398.11380208333,60879.61276041667,61167.82721354167,61334.712630208334,61439.25104166667,61577.64205729167,61537.79205729167,61588.725911458336,61551.37018229167,61549.80872395833,61282.3359375,61141.685546875,60899.8,60607.69973958333,60416.62122395833,60180.15390625,59764.91393229167,59442.790364583336,59176.870703125,58745.203515625,58245.71484375,57770.150651041666,57216.35833333333,56747.24752604167,56287.68736979167,55790.236328125,55100.68463541667,54499.51080729167,53953.953515625,53481.772786458336,53037.31458333333,52606.7328125,52187.653125,51723.54309895833,51398.07604166667,51004.304947916666,50676.59921875,50287.54921875,49863.83515625,49393.37682291667,48992.98138020833,48460.137890625,47984.485546875,47541.794661458334,47078.91979166667,46728.96822916667,46451.232421875,46173.750651041664,45881.735026041664,45648.67825520833,45289.1453125,44953.040234375,44631.0859375,44229.59921875,43878.69283854167,43598.09908854167,43318.194010416664,42978.416015625,42589.231770833336,42134.90052083333,41824.18984375,41597.51875,41481.83841145833,41411.641276041664,41291.20755208333,41161.25729166667,41032.21731770833,40988.13828125,41001.23346354167,40913.80286458333,40862.90533854167,40704.70598958333,40556.37838541667,40334.62734375,40192.66197916667,40063.14596354167,40094.56875,40160.535546875,40233.19518229167,40292.240885416664,40381.58385416667,40428.507552083334,40487.94973958333,40658.9765625,40735.617447916666,40769.30546875,40808.759765625,40828.61015625,40968.308333333334,41094.867578125,41104.876953125,41012.80065104167,40954.14609375,40905.951432291666,40919.14544270833,40983.838541666664,41135.20807291667,41231.558984375,41334.919140625,41501.60794270833,41709.963541666664,42028.21002604167,42270.5421875,42467.54778645833,42639.92239583333,42742.37057291667,42619.992838541664,42479.077734375,42387.16484375,42303.2890625,42350.484375,42442.62356770833,42534.80625,42514.52135416667,42550.85143229167,42582.363020833334,42608.74817708333,42568.037369791666,42504.61041666667,42465.358723958336,42358.98098958333,42274.025390625,42120.41354166667,42013.92734375,41767.73424479167,41490.807291666664,40929.772265625,40381.678125,39777.46783854167,39227.77037760417,38661.15234375,38102.49375,37598.155924479164,37115.273697916666,36675.6232421875,36239.39244791667,35891.959375,35542.90611979167,35156.09381510417,34800.484114583334,34402.954427083336,34099.626953125,33775.945638020836,33390.10234375,33054.773177083334,32720.2421875,32417.320963541668,32185.2548828125,31884.3626953125,31562.301692708334,31244.767708333333,30710.036393229166,30191.914388020832,29621.063346354167,29081.280338541666,28562.2990234375,28239.051822916666,27895.308203125,27596.997330729166,27331.601497395834,27063.219921875,26758.971940104166,26420.7978515625,26133.589583333334,25782.602669270833,25451.556901041666,25155.968619791667,24840.4529296875,24539.982421875,24285.661197916666,24055.779296875,23663.9181640625,23248.304947916666,22928.7380859375,22598.819140625,22303.217057291666,22007.0509765625,21748.1828125,21515.4287109375,21283.849739583333,21071.555533854167,21034.0326171875,21001.797981770833,21013.721614583334,21129.1294921875,21240.234505208333,21330.7232421875,21406.3072265625,21501.623177083333,21553.125846354167,21621.714453125,21724.181380208334,21820.304166666665,21948.4248046875,22087.518229166668,22258.633268229165,22388.8236328125,22511.9294921875,22604.854557291666,22657.3595703125,22628.907421875,22676.519140625,22749.9916015625,22789.423111979166,22823.7892578125,22804.578971354167,22731.655794270835,22611.901627604166,22505.836002604166,22404.586393229165,22313.0794921875,22261.43515625,22181.365625,22060.0248046875,21909.556380208334,21828.773697916666,21797.315364583334,21707.935026041665,21621.087760416667,21523.429557291667,21406.205208333333,21264.026627604166,21121.575651041665,20941.567578125,20790.101627604166,20619.928971354166,20456.1189453125,20297.027473958333,20166.718229166665,20045.3953125,19997.203190104166,19938.0255859375,19898.317447916666,19857.1740234375,19802.325325520833,19778.552994791666,19740.002669270834,19715.156315104166,19685.412369791666,19660.6044921875,19634.467317708335,19625.746875,19642.305143229165,19637.278841145835,19628.075716145835,19554.4529296875,19453.623697916668,19446.9287109375,19464.573763020835,19484.061263020834,19511.486848958335,19543.208333333332,19596.3578125,19650.094596354167,19676.642513020834,19738.295572916668,19784.300390625,19765.324544270832,19647.126529947916,19580.917220052084,19501.00068359375,19400.821321614585,19285.74697265625,19169.371061197915,19060.440201822916,18965.471126302084,18853.664453125,18758.276171875,18673.384895833333,18580.770247395834,18491.976432291667,18380.8619140625,18284.5474609375,18218.848502604167,18149.294921875,18079.834635416668,18000.809765625,17900.597981770832,17769.854166666668,17668.1087890625,17552.7021484375,17443.0576171875,17352.92578125,17274.797330729165,17179.959895833334,17029.968359375,16891.197135416667,16836.6982421875,16867.923404947916,16842.70908203125,16834.79775390625,16844.85126953125,16839.269954427084,16835.374381510417,16833.868522135417],\"type\":\"scatter\"},{\"mode\":\"lines\",\"name\":\"Pre\\u00e7o Dolar\",\"x\":[\"2020-02-11T00:00:00\",\"2020-02-12T00:00:00\",\"2020-02-13T00:00:00\",\"2020-02-14T00:00:00\",\"2020-02-17T00:00:00\",\"2020-02-18T00:00:00\",\"2020-02-19T00:00:00\",\"2020-02-20T00:00:00\",\"2020-02-21T00:00:00\",\"2020-02-24T00:00:00\",\"2020-02-25T00:00:00\",\"2020-02-26T00:00:00\",\"2020-02-27T00:00:00\",\"2020-02-28T00:00:00\",\"2020-03-02T00:00:00\",\"2020-03-03T00:00:00\",\"2020-03-04T00:00:00\",\"2020-03-05T00:00:00\",\"2020-03-06T00:00:00\",\"2020-03-09T00:00:00\",\"2020-03-10T00:00:00\",\"2020-03-11T00:00:00\",\"2020-03-12T00:00:00\",\"2020-03-13T00:00:00\",\"2020-03-16T00:00:00\",\"2020-03-17T00:00:00\",\"2020-03-18T00:00:00\",\"2020-03-19T00:00:00\",\"2020-03-20T00:00:00\",\"2020-03-23T00:00:00\",\"2020-03-24T00:00:00\",\"2020-03-25T00:00:00\",\"2020-03-26T00:00:00\",\"2020-03-27T00:00:00\",\"2020-03-30T00:00:00\",\"2020-03-31T00:00:00\",\"2020-04-01T00:00:00\",\"2020-04-02T00:00:00\",\"2020-04-03T00:00:00\",\"2020-04-06T00:00:00\",\"2020-04-07T00:00:00\",\"2020-04-08T00:00:00\",\"2020-04-09T00:00:00\",\"2020-04-10T00:00:00\",\"2020-04-13T00:00:00\",\"2020-04-14T00:00:00\",\"2020-04-15T00:00:00\",\"2020-04-16T00:00:00\",\"2020-04-17T00:00:00\",\"2020-04-20T00:00:00\",\"2020-04-21T00:00:00\",\"2020-04-22T00:00:00\",\"2020-04-23T00:00:00\",\"2020-04-24T00:00:00\",\"2020-04-27T00:00:00\",\"2020-04-28T00:00:00\",\"2020-04-29T00:00:00\",\"2020-04-30T00:00:00\",\"2020-05-01T00:00:00\",\"2020-05-04T00:00:00\",\"2020-05-05T00:00:00\",\"2020-05-06T00:00:00\",\"2020-05-07T00:00:00\",\"2020-05-08T00:00:00\",\"2020-05-11T00:00:00\",\"2020-05-12T00:00:00\",\"2020-05-13T00:00:00\",\"2020-05-14T00:00:00\",\"2020-05-15T00:00:00\",\"2020-05-18T00:00:00\",\"2020-05-19T00:00:00\",\"2020-05-20T00:00:00\",\"2020-05-21T00:00:00\",\"2020-05-22T00:00:00\",\"2020-05-25T00:00:00\",\"2020-05-26T00:00:00\",\"2020-05-27T00:00:00\",\"2020-05-28T00:00:00\",\"2020-05-29T00:00:00\",\"2020-06-01T00:00:00\",\"2020-06-02T00:00:00\",\"2020-06-03T00:00:00\",\"2020-06-04T00:00:00\",\"2020-06-05T00:00:00\",\"2020-06-08T00:00:00\",\"2020-06-09T00:00:00\",\"2020-06-10T00:00:00\",\"2020-06-11T00:00:00\",\"2020-06-12T00:00:00\",\"2020-06-15T00:00:00\",\"2020-06-16T00:00:00\",\"2020-06-17T00:00:00\",\"2020-06-18T00:00:00\",\"2020-06-19T00:00:00\",\"2020-06-22T00:00:00\",\"2020-06-23T00:00:00\",\"2020-06-24T00:00:00\",\"2020-06-25T00:00:00\",\"2020-06-26T00:00:00\",\"2020-06-29T00:00:00\",\"2020-06-30T00:00:00\",\"2020-07-01T00:00:00\",\"2020-07-02T00:00:00\",\"2020-07-03T00:00:00\",\"2020-07-06T00:00:00\",\"2020-07-07T00:00:00\",\"2020-07-08T00:00:00\",\"2020-07-09T00:00:00\",\"2020-07-10T00:00:00\",\"2020-07-13T00:00:00\",\"2020-07-14T00:00:00\",\"2020-07-15T00:00:00\",\"2020-07-16T00:00:00\",\"2020-07-17T00:00:00\",\"2020-07-20T00:00:00\",\"2020-07-21T00:00:00\",\"2020-07-22T00:00:00\",\"2020-07-23T00:00:00\",\"2020-07-24T00:00:00\",\"2020-07-27T00:00:00\",\"2020-07-28T00:00:00\",\"2020-07-29T00:00:00\",\"2020-07-30T00:00:00\",\"2020-07-31T00:00:00\",\"2020-08-03T00:00:00\",\"2020-08-04T00:00:00\",\"2020-08-05T00:00:00\",\"2020-08-06T00:00:00\",\"2020-08-07T00:00:00\",\"2020-08-10T00:00:00\",\"2020-08-11T00:00:00\",\"2020-08-12T00:00:00\",\"2020-08-13T00:00:00\",\"2020-08-14T00:00:00\",\"2020-08-17T00:00:00\",\"2020-08-18T00:00:00\",\"2020-08-19T00:00:00\",\"2020-08-20T00:00:00\",\"2020-08-21T00:00:00\",\"2020-08-24T00:00:00\",\"2020-08-25T00:00:00\",\"2020-08-26T00:00:00\",\"2020-08-27T00:00:00\",\"2020-08-28T00:00:00\",\"2020-08-31T00:00:00\",\"2020-09-01T00:00:00\",\"2020-09-02T00:00:00\",\"2020-09-03T00:00:00\",\"2020-09-04T00:00:00\",\"2020-09-07T00:00:00\",\"2020-09-08T00:00:00\",\"2020-09-09T00:00:00\",\"2020-09-10T00:00:00\",\"2020-09-11T00:00:00\",\"2020-09-14T00:00:00\",\"2020-09-15T00:00:00\",\"2020-09-16T00:00:00\",\"2020-09-17T00:00:00\",\"2020-09-18T00:00:00\",\"2020-09-21T00:00:00\",\"2020-09-22T00:00:00\",\"2020-09-23T00:00:00\",\"2020-09-24T00:00:00\",\"2020-09-25T00:00:00\",\"2020-09-28T00:00:00\",\"2020-09-29T00:00:00\",\"2020-09-30T00:00:00\",\"2020-10-01T00:00:00\",\"2020-10-02T00:00:00\",\"2020-10-05T00:00:00\",\"2020-10-06T00:00:00\",\"2020-10-07T00:00:00\",\"2020-10-08T00:00:00\",\"2020-10-09T00:00:00\",\"2020-10-12T00:00:00\",\"2020-10-13T00:00:00\",\"2020-10-14T00:00:00\",\"2020-10-15T00:00:00\",\"2020-10-16T00:00:00\",\"2020-10-19T00:00:00\",\"2020-10-20T00:00:00\",\"2020-10-21T00:00:00\",\"2020-10-22T00:00:00\",\"2020-10-23T00:00:00\",\"2020-10-26T00:00:00\",\"2020-10-27T00:00:00\",\"2020-10-28T00:00:00\",\"2020-10-29T00:00:00\",\"2020-10-30T00:00:00\",\"2020-11-02T00:00:00\",\"2020-11-03T00:00:00\",\"2020-11-04T00:00:00\",\"2020-11-05T00:00:00\",\"2020-11-06T00:00:00\",\"2020-11-09T00:00:00\",\"2020-11-10T00:00:00\",\"2020-11-11T00:00:00\",\"2020-11-12T00:00:00\",\"2020-11-13T00:00:00\",\"2020-11-16T00:00:00\",\"2020-11-17T00:00:00\",\"2020-11-18T00:00:00\",\"2020-11-19T00:00:00\",\"2020-11-20T00:00:00\",\"2020-11-23T00:00:00\",\"2020-11-24T00:00:00\",\"2020-11-25T00:00:00\",\"2020-11-26T00:00:00\",\"2020-11-27T00:00:00\",\"2020-11-30T00:00:00\",\"2020-12-01T00:00:00\",\"2020-12-02T00:00:00\",\"2020-12-03T00:00:00\",\"2020-12-04T00:00:00\",\"2020-12-07T00:00:00\",\"2020-12-08T00:00:00\",\"2020-12-09T00:00:00\",\"2020-12-10T00:00:00\",\"2020-12-11T00:00:00\",\"2020-12-14T00:00:00\",\"2020-12-15T00:00:00\",\"2020-12-16T00:00:00\",\"2020-12-17T00:00:00\",\"2020-12-18T00:00:00\",\"2020-12-21T00:00:00\",\"2020-12-22T00:00:00\",\"2020-12-23T00:00:00\",\"2020-12-24T00:00:00\",\"2020-12-25T00:00:00\",\"2020-12-28T00:00:00\",\"2020-12-29T00:00:00\",\"2020-12-30T00:00:00\",\"2020-12-31T00:00:00\",\"2021-01-01T00:00:00\",\"2021-01-04T00:00:00\",\"2021-01-05T00:00:00\",\"2021-01-06T00:00:00\",\"2021-01-07T00:00:00\",\"2021-01-08T00:00:00\",\"2021-01-11T00:00:00\",\"2021-01-12T00:00:00\",\"2021-01-13T00:00:00\",\"2021-01-14T00:00:00\",\"2021-01-15T00:00:00\",\"2021-01-18T00:00:00\",\"2021-01-19T00:00:00\",\"2021-01-20T00:00:00\",\"2021-01-21T00:00:00\",\"2021-01-22T00:00:00\",\"2021-01-25T00:00:00\",\"2021-01-26T00:00:00\",\"2021-01-27T00:00:00\",\"2021-01-28T00:00:00\",\"2021-01-29T00:00:00\",\"2021-02-01T00:00:00\",\"2021-02-02T00:00:00\",\"2021-02-03T00:00:00\",\"2021-02-04T00:00:00\",\"2021-02-05T00:00:00\",\"2021-02-08T00:00:00\",\"2021-02-09T00:00:00\",\"2021-02-10T00:00:00\",\"2021-02-11T00:00:00\",\"2021-02-12T00:00:00\",\"2021-02-15T00:00:00\",\"2021-02-16T00:00:00\",\"2021-02-17T00:00:00\",\"2021-02-18T00:00:00\",\"2021-02-19T00:00:00\",\"2021-02-22T00:00:00\",\"2021-02-23T00:00:00\",\"2021-02-24T00:00:00\",\"2021-02-25T00:00:00\",\"2021-02-26T00:00:00\",\"2021-03-01T00:00:00\",\"2021-03-02T00:00:00\",\"2021-03-03T00:00:00\",\"2021-03-04T00:00:00\",\"2021-03-05T00:00:00\",\"2021-03-08T00:00:00\",\"2021-03-09T00:00:00\",\"2021-03-10T00:00:00\",\"2021-03-11T00:00:00\",\"2021-03-12T00:00:00\",\"2021-03-15T00:00:00\",\"2021-03-16T00:00:00\",\"2021-03-17T00:00:00\",\"2021-03-18T00:00:00\",\"2021-03-19T00:00:00\",\"2021-03-22T00:00:00\",\"2021-03-23T00:00:00\",\"2021-03-24T00:00:00\",\"2021-03-25T00:00:00\",\"2021-03-26T00:00:00\",\"2021-03-29T00:00:00\",\"2021-03-30T00:00:00\",\"2021-03-31T00:00:00\",\"2021-04-01T00:00:00\",\"2021-04-02T00:00:00\",\"2021-04-05T00:00:00\",\"2021-04-06T00:00:00\",\"2021-04-07T00:00:00\",\"2021-04-08T00:00:00\",\"2021-04-09T00:00:00\",\"2021-04-12T00:00:00\",\"2021-04-13T00:00:00\",\"2021-04-14T00:00:00\",\"2021-04-15T00:00:00\",\"2021-04-16T00:00:00\",\"2021-04-19T00:00:00\",\"2021-04-20T00:00:00\",\"2021-04-21T00:00:00\",\"2021-04-22T00:00:00\",\"2021-04-23T00:00:00\",\"2021-04-26T00:00:00\",\"2021-04-27T00:00:00\",\"2021-04-28T00:00:00\",\"2021-04-29T00:00:00\",\"2021-04-30T00:00:00\",\"2021-05-03T00:00:00\",\"2021-05-04T00:00:00\",\"2021-05-05T00:00:00\",\"2021-05-06T00:00:00\",\"2021-05-07T00:00:00\",\"2021-05-10T00:00:00\",\"2021-05-11T00:00:00\",\"2021-05-12T00:00:00\",\"2021-05-13T00:00:00\",\"2021-05-14T00:00:00\",\"2021-05-17T00:00:00\",\"2021-05-18T00:00:00\",\"2021-05-19T00:00:00\",\"2021-05-20T00:00:00\",\"2021-05-21T00:00:00\",\"2021-05-24T00:00:00\",\"2021-05-25T00:00:00\",\"2021-05-26T00:00:00\",\"2021-05-27T00:00:00\",\"2021-05-28T00:00:00\",\"2021-05-31T00:00:00\",\"2021-06-01T00:00:00\",\"2021-06-02T00:00:00\",\"2021-06-03T00:00:00\",\"2021-06-04T00:00:00\",\"2021-06-07T00:00:00\",\"2021-06-08T00:00:00\",\"2021-06-09T00:00:00\",\"2021-06-10T00:00:00\",\"2021-06-11T00:00:00\",\"2021-06-14T00:00:00\",\"2021-06-15T00:00:00\",\"2021-06-16T00:00:00\",\"2021-06-17T00:00:00\",\"2021-06-18T00:00:00\",\"2021-06-21T00:00:00\",\"2021-06-22T00:00:00\",\"2021-06-23T00:00:00\",\"2021-06-24T00:00:00\",\"2021-06-25T00:00:00\",\"2021-06-28T00:00:00\",\"2021-06-29T00:00:00\",\"2021-06-30T00:00:00\",\"2021-07-01T00:00:00\",\"2021-07-02T00:00:00\",\"2021-07-05T00:00:00\",\"2021-07-06T00:00:00\",\"2021-07-07T00:00:00\",\"2021-07-08T00:00:00\",\"2021-07-09T00:00:00\",\"2021-07-12T00:00:00\",\"2021-07-13T00:00:00\",\"2021-07-14T00:00:00\",\"2021-07-15T00:00:00\",\"2021-07-16T00:00:00\",\"2021-07-19T00:00:00\",\"2021-07-20T00:00:00\",\"2021-07-21T00:00:00\",\"2021-07-22T00:00:00\",\"2021-07-23T00:00:00\",\"2021-07-26T00:00:00\",\"2021-07-27T00:00:00\",\"2021-07-28T00:00:00\",\"2021-07-29T00:00:00\",\"2021-07-30T00:00:00\",\"2021-08-02T00:00:00\",\"2021-08-03T00:00:00\",\"2021-08-04T00:00:00\",\"2021-08-05T00:00:00\",\"2021-08-06T00:00:00\",\"2021-08-09T00:00:00\",\"2021-08-10T00:00:00\",\"2021-08-11T00:00:00\",\"2021-08-12T00:00:00\",\"2021-08-13T00:00:00\",\"2021-08-16T00:00:00\",\"2021-08-17T00:00:00\",\"2021-08-18T00:00:00\",\"2021-08-19T00:00:00\",\"2021-08-20T00:00:00\",\"2021-08-23T00:00:00\",\"2021-08-24T00:00:00\",\"2021-08-25T00:00:00\",\"2021-08-26T00:00:00\",\"2021-08-27T00:00:00\",\"2021-08-30T00:00:00\",\"2021-08-31T00:00:00\",\"2021-09-01T00:00:00\",\"2021-09-02T00:00:00\",\"2021-09-03T00:00:00\",\"2021-09-06T00:00:00\",\"2021-09-07T00:00:00\",\"2021-09-08T00:00:00\",\"2021-09-09T00:00:00\",\"2021-09-10T00:00:00\",\"2021-09-13T00:00:00\",\"2021-09-14T00:00:00\",\"2021-09-15T00:00:00\",\"2021-09-16T00:00:00\",\"2021-09-17T00:00:00\",\"2021-09-20T00:00:00\",\"2021-09-21T00:00:00\",\"2021-09-22T00:00:00\",\"2021-09-23T00:00:00\",\"2021-09-24T00:00:00\",\"2021-09-27T00:00:00\",\"2021-09-28T00:00:00\",\"2021-09-29T00:00:00\",\"2021-09-30T00:00:00\",\"2021-10-01T00:00:00\",\"2021-10-04T00:00:00\",\"2021-10-05T00:00:00\",\"2021-10-06T00:00:00\",\"2021-10-07T00:00:00\",\"2021-10-08T00:00:00\",\"2021-10-11T00:00:00\",\"2021-10-12T00:00:00\",\"2021-10-13T00:00:00\",\"2021-10-14T00:00:00\",\"2021-10-15T00:00:00\",\"2021-10-18T00:00:00\",\"2021-10-19T00:00:00\",\"2021-10-20T00:00:00\",\"2021-10-21T00:00:00\",\"2021-10-22T00:00:00\",\"2021-10-25T00:00:00\",\"2021-10-26T00:00:00\",\"2021-10-27T00:00:00\",\"2021-10-28T00:00:00\",\"2021-10-29T00:00:00\",\"2021-11-01T00:00:00\",\"2021-11-02T00:00:00\",\"2021-11-03T00:00:00\",\"2021-11-04T00:00:00\",\"2021-11-05T00:00:00\",\"2021-11-08T00:00:00\",\"2021-11-09T00:00:00\",\"2021-11-10T00:00:00\",\"2021-11-11T00:00:00\",\"2021-11-12T00:00:00\",\"2021-11-15T00:00:00\",\"2021-11-16T00:00:00\",\"2021-11-17T00:00:00\",\"2021-11-18T00:00:00\",\"2021-11-19T00:00:00\",\"2021-11-22T00:00:00\",\"2021-11-23T00:00:00\",\"2021-11-24T00:00:00\",\"2021-11-25T00:00:00\",\"2021-11-26T00:00:00\",\"2021-11-29T00:00:00\",\"2021-11-30T00:00:00\",\"2021-12-01T00:00:00\",\"2021-12-02T00:00:00\",\"2021-12-03T00:00:00\",\"2021-12-06T00:00:00\",\"2021-12-07T00:00:00\",\"2021-12-08T00:00:00\",\"2021-12-09T00:00:00\",\"2021-12-10T00:00:00\",\"2021-12-13T00:00:00\",\"2021-12-14T00:00:00\",\"2021-12-15T00:00:00\",\"2021-12-16T00:00:00\",\"2021-12-17T00:00:00\",\"2021-12-20T00:00:00\",\"2021-12-21T00:00:00\",\"2021-12-22T00:00:00\",\"2021-12-23T00:00:00\",\"2021-12-24T00:00:00\",\"2021-12-27T00:00:00\",\"2021-12-28T00:00:00\",\"2021-12-29T00:00:00\",\"2021-12-30T00:00:00\",\"2021-12-31T00:00:00\",\"2022-01-03T00:00:00\",\"2022-01-04T00:00:00\",\"2022-01-05T00:00:00\",\"2022-01-06T00:00:00\",\"2022-01-07T00:00:00\",\"2022-01-10T00:00:00\",\"2022-01-11T00:00:00\",\"2022-01-12T00:00:00\",\"2022-01-13T00:00:00\",\"2022-01-14T00:00:00\",\"2022-01-17T00:00:00\",\"2022-01-18T00:00:00\",\"2022-01-19T00:00:00\",\"2022-01-20T00:00:00\",\"2022-01-21T00:00:00\",\"2022-01-24T00:00:00\",\"2022-01-25T00:00:00\",\"2022-01-26T00:00:00\",\"2022-01-27T00:00:00\",\"2022-01-28T00:00:00\",\"2022-01-31T00:00:00\",\"2022-02-01T00:00:00\",\"2022-02-02T00:00:00\",\"2022-02-03T00:00:00\",\"2022-02-04T00:00:00\",\"2022-02-07T00:00:00\",\"2022-02-08T00:00:00\",\"2022-02-09T00:00:00\",\"2022-02-10T00:00:00\",\"2022-02-11T00:00:00\",\"2022-02-14T00:00:00\",\"2022-02-15T00:00:00\",\"2022-02-16T00:00:00\",\"2022-02-17T00:00:00\",\"2022-02-18T00:00:00\",\"2022-02-21T00:00:00\",\"2022-02-22T00:00:00\",\"2022-02-23T00:00:00\",\"2022-02-24T00:00:00\",\"2022-02-25T00:00:00\",\"2022-02-28T00:00:00\",\"2022-03-01T00:00:00\",\"2022-03-02T00:00:00\",\"2022-03-03T00:00:00\",\"2022-03-04T00:00:00\",\"2022-03-07T00:00:00\",\"2022-03-08T00:00:00\",\"2022-03-09T00:00:00\",\"2022-03-10T00:00:00\",\"2022-03-11T00:00:00\",\"2022-03-14T00:00:00\",\"2022-03-15T00:00:00\",\"2022-03-16T00:00:00\",\"2022-03-17T00:00:00\",\"2022-03-18T00:00:00\",\"2022-03-21T00:00:00\",\"2022-03-22T00:00:00\",\"2022-03-23T00:00:00\",\"2022-03-24T00:00:00\",\"2022-03-25T00:00:00\",\"2022-03-28T00:00:00\",\"2022-03-29T00:00:00\",\"2022-03-30T00:00:00\",\"2022-03-31T00:00:00\",\"2022-04-01T00:00:00\",\"2022-04-04T00:00:00\",\"2022-04-05T00:00:00\",\"2022-04-06T00:00:00\",\"2022-04-07T00:00:00\",\"2022-04-08T00:00:00\",\"2022-04-11T00:00:00\",\"2022-04-12T00:00:00\",\"2022-04-13T00:00:00\",\"2022-04-14T00:00:00\",\"2022-04-15T00:00:00\",\"2022-04-18T00:00:00\",\"2022-04-19T00:00:00\",\"2022-04-20T00:00:00\",\"2022-04-21T00:00:00\",\"2022-04-22T00:00:00\",\"2022-04-25T00:00:00\",\"2022-04-26T00:00:00\",\"2022-04-27T00:00:00\",\"2022-04-28T00:00:00\",\"2022-04-29T00:00:00\",\"2022-05-02T00:00:00\",\"2022-05-03T00:00:00\",\"2022-05-04T00:00:00\",\"2022-05-05T00:00:00\",\"2022-05-06T00:00:00\",\"2022-05-09T00:00:00\",\"2022-05-10T00:00:00\",\"2022-05-11T00:00:00\",\"2022-05-12T00:00:00\",\"2022-05-13T00:00:00\",\"2022-05-16T00:00:00\",\"2022-05-17T00:00:00\",\"2022-05-18T00:00:00\",\"2022-05-19T00:00:00\",\"2022-05-20T00:00:00\",\"2022-05-23T00:00:00\",\"2022-05-24T00:00:00\",\"2022-05-25T00:00:00\",\"2022-05-26T00:00:00\",\"2022-05-27T00:00:00\",\"2022-05-30T00:00:00\",\"2022-05-31T00:00:00\",\"2022-06-01T00:00:00\",\"2022-06-02T00:00:00\",\"2022-06-03T00:00:00\",\"2022-06-06T00:00:00\",\"2022-06-07T00:00:00\",\"2022-06-08T00:00:00\",\"2022-06-09T00:00:00\",\"2022-06-10T00:00:00\",\"2022-06-13T00:00:00\",\"2022-06-14T00:00:00\",\"2022-06-15T00:00:00\",\"2022-06-16T00:00:00\",\"2022-06-17T00:00:00\",\"2022-06-20T00:00:00\",\"2022-06-21T00:00:00\",\"2022-06-22T00:00:00\",\"2022-06-23T00:00:00\",\"2022-06-24T00:00:00\",\"2022-06-27T00:00:00\",\"2022-06-28T00:00:00\",\"2022-06-29T00:00:00\",\"2022-06-30T00:00:00\",\"2022-07-01T00:00:00\",\"2022-07-04T00:00:00\",\"2022-07-05T00:00:00\",\"2022-07-06T00:00:00\",\"2022-07-07T00:00:00\",\"2022-07-08T00:00:00\",\"2022-07-11T00:00:00\",\"2022-07-12T00:00:00\",\"2022-07-13T00:00:00\",\"2022-07-14T00:00:00\",\"2022-07-15T00:00:00\",\"2022-07-18T00:00:00\",\"2022-07-19T00:00:00\",\"2022-07-20T00:00:00\",\"2022-07-21T00:00:00\",\"2022-07-22T00:00:00\",\"2022-07-25T00:00:00\",\"2022-07-26T00:00:00\",\"2022-07-27T00:00:00\",\"2022-07-28T00:00:00\",\"2022-07-29T00:00:00\",\"2022-08-01T00:00:00\",\"2022-08-02T00:00:00\",\"2022-08-03T00:00:00\",\"2022-08-04T00:00:00\",\"2022-08-05T00:00:00\",\"2022-08-08T00:00:00\",\"2022-08-09T00:00:00\",\"2022-08-10T00:00:00\",\"2022-08-11T00:00:00\",\"2022-08-12T00:00:00\",\"2022-08-15T00:00:00\",\"2022-08-16T00:00:00\",\"2022-08-17T00:00:00\",\"2022-08-18T00:00:00\",\"2022-08-19T00:00:00\",\"2022-08-22T00:00:00\",\"2022-08-23T00:00:00\",\"2022-08-24T00:00:00\",\"2022-08-25T00:00:00\",\"2022-08-26T00:00:00\",\"2022-08-29T00:00:00\",\"2022-08-30T00:00:00\",\"2022-08-31T00:00:00\",\"2022-09-01T00:00:00\",\"2022-09-02T00:00:00\",\"2022-09-05T00:00:00\",\"2022-09-06T00:00:00\",\"2022-09-07T00:00:00\",\"2022-09-08T00:00:00\",\"2022-09-09T00:00:00\",\"2022-09-12T00:00:00\",\"2022-09-13T00:00:00\",\"2022-09-14T00:00:00\",\"2022-09-15T00:00:00\",\"2022-09-16T00:00:00\",\"2022-09-19T00:00:00\",\"2022-09-20T00:00:00\",\"2022-09-21T00:00:00\",\"2022-09-22T00:00:00\",\"2022-09-23T00:00:00\",\"2022-09-26T00:00:00\",\"2022-09-27T00:00:00\",\"2022-09-28T00:00:00\",\"2022-09-29T00:00:00\",\"2022-09-30T00:00:00\",\"2022-10-03T00:00:00\",\"2022-10-04T00:00:00\",\"2022-10-05T00:00:00\",\"2022-10-06T00:00:00\",\"2022-10-07T00:00:00\",\"2022-10-10T00:00:00\",\"2022-10-11T00:00:00\",\"2022-10-12T00:00:00\",\"2022-10-13T00:00:00\",\"2022-10-14T00:00:00\",\"2022-10-17T00:00:00\",\"2022-10-18T00:00:00\",\"2022-10-19T00:00:00\",\"2022-10-20T00:00:00\",\"2022-10-21T00:00:00\",\"2022-10-24T00:00:00\",\"2022-10-25T00:00:00\",\"2022-10-26T00:00:00\",\"2022-10-27T00:00:00\",\"2022-10-28T00:00:00\",\"2022-10-31T00:00:00\",\"2022-11-01T00:00:00\",\"2022-11-02T00:00:00\",\"2022-11-03T00:00:00\",\"2022-11-04T00:00:00\",\"2022-11-07T00:00:00\",\"2022-11-08T00:00:00\",\"2022-11-09T00:00:00\",\"2022-11-10T00:00:00\",\"2022-11-11T00:00:00\",\"2022-11-14T00:00:00\",\"2022-11-15T00:00:00\",\"2022-11-16T00:00:00\",\"2022-11-17T00:00:00\",\"2022-11-18T00:00:00\",\"2022-11-21T00:00:00\",\"2022-11-22T00:00:00\",\"2022-11-23T00:00:00\",\"2022-11-24T00:00:00\",\"2022-11-25T00:00:00\",\"2022-11-28T00:00:00\",\"2022-11-29T00:00:00\",\"2022-11-30T00:00:00\",\"2022-12-01T00:00:00\",\"2022-12-02T00:00:00\",\"2022-12-05T00:00:00\",\"2022-12-06T00:00:00\",\"2022-12-07T00:00:00\",\"2022-12-08T00:00:00\",\"2022-12-09T00:00:00\",\"2022-12-12T00:00:00\",\"2022-12-13T00:00:00\",\"2022-12-14T00:00:00\",\"2022-12-15T00:00:00\",\"2022-12-16T00:00:00\",\"2022-12-19T00:00:00\",\"2022-12-20T00:00:00\",\"2022-12-21T00:00:00\",\"2022-12-22T00:00:00\",\"2022-12-23T00:00:00\",\"2022-12-26T00:00:00\",\"2022-12-27T00:00:00\",\"2022-12-28T00:00:00\",\"2022-12-29T00:00:00\"],\"y\":[4.1798,4.19099,4.201786666666667,4.209466666666667,4.218313333333333,4.227913333333333,4.237926666666667,4.2479499999999994,4.257733333333333,4.26578,4.27429,4.283453333333333,4.293493333333333,4.303876666666667,4.31335,4.323423333333333,4.336826666666667,4.351389999999999,4.366243333333333,4.383473333333333,4.398453333333333,4.41794,4.4362200000000005,4.45546,4.480543333333333,4.505719999999999,4.5347800000000005,4.561896666666668,4.5866766666666665,4.613996666666667,4.639586666666667,4.6623,4.68469,4.711426666666667,4.740306666666667,4.768596666666667,4.798063333333333,4.826723333333334,4.8587533333333335,4.8886866666666675,4.916456666666666,4.938883333333333,4.959573333333333,4.980666666666666,5.004833333333333,5.02641,5.048133333333333,5.06899,5.089293333333333,5.1090333333333335,5.131446666666666,5.152873333333334,5.177603333333333,5.201973333333332,5.22371,5.24004,5.247616666666667,5.26061,5.274663333333334,5.288006666666666,5.303966666666667,5.326546666666667,5.353506666666667,5.37458,5.395393333333333,5.418093333333333,5.43929,5.457896666666667,5.474723333333333,5.489146666666667,5.506900000000001,5.525873333333334,5.540663333333333,5.554913333333333,5.563136666666667,5.569233333333333,5.570453333333334,5.57616,5.579486666666667,5.581036666666666,5.577206666666667,5.564013333333333,5.5501966666666664,5.529123333333334,5.50147,5.481446666666667,5.4693933333333336,5.4524,5.437896666666666,5.42492,5.413743333333333,5.397563333333333,5.38246,5.368413333333333,5.34956,5.3251800000000005,5.307230000000001,5.292050000000001,5.279669999999999,5.26915,5.259553333333333,5.24705,5.24068,5.233413333333333,5.230416666666667,5.23155,5.2338466666666665,5.23174,5.23133,5.232686666666667,5.23822,5.248473333333334,5.255543333333333,5.269756666666667,5.286599999999999,5.29567,5.30045,5.3082899999999995,5.314369999999999,5.314003333333333,5.311013333333333,5.309033333333334,5.30156,5.298676666666667,5.300973333333333,5.305499999999999,5.303616666666667,5.302796666666667,5.3012733333333335,5.303866666666667,5.300996666666666,5.304860000000001,5.305173333333333,5.308660000000001,5.3137533333333336,5.316673333333332,5.323849999999999,5.331033333333334,5.34088,5.347746666666667,5.352416666666667,5.36027,5.3682033333333345,5.368309999999999,5.3737466666666664,5.381236666666667,5.388693333333333,5.391366666666667,5.393643333333333,5.39881,5.405826666666667,5.410446666666667,5.416033333333333,5.419196666666666,5.417506666666666,5.417,5.41525,5.41218,5.410489999999999,5.40822,5.411233333333333,5.4166,5.421263333333333,5.425996666666666,5.431120000000001,5.4367133333333335,5.438503333333333,5.4414,5.443596666666666,5.442406666666667,5.445256666666667,5.4454,5.446386666666666,5.451176666666667,5.452516666666667,5.458293333333333,5.466656666666667,5.477363333333333,5.48875,5.49899,5.507043333333333,5.517003333333333,5.525946666666667,5.5359,5.547643333333334,5.562,5.5789333333333335,5.59692,5.60882,5.6198,5.629320000000001,5.631626666666667,5.632163333333334,5.6255733333333335,5.616343333333333,5.60902,5.60168,5.595493333333334,5.58793,5.582626666666667,5.5737966666666665,5.56557,5.555793333333333,5.550723333333334,5.5476366666666665,5.541113333333333,5.532196666666666,5.522993333333333,5.513026666666667,5.50386,5.49055,5.47758,5.462986666666666,5.447593333333334,5.43013,5.41062,5.391456666666667,5.366343333333333,5.343710000000001,5.322923333333334,5.300529999999999,5.281206666666666,5.265646666666666,5.256896666666666,5.24811,5.23961,5.23379,5.225736666666666,5.217686666666666,5.2120500000000005,5.2081100000000005,5.20247,5.198756666666667,5.192566666666666,5.187826666666666,5.184886666666667,5.18456,5.187013333333334,5.18948,5.194716666666666,5.198600000000001,5.201316666666667,5.202823333333334,5.20739,5.213946666666667,5.221866666666666,5.225896666666667,5.23673,5.250096666666666,5.261683333333333,5.270716666666667,5.281716666666667,5.294476666666667,5.306486666666667,5.316820000000001,5.323763333333333,5.328329999999999,5.335333333333334,5.340456666666667,5.3444433333333325,5.3500499999999995,5.35646,5.36221,5.36807,5.370513333333334,5.373316666666667,5.376536666666667,5.3771,5.375916666666667,5.375146666666667,5.37909,5.382663333333334,5.3938,5.403996666666667,5.415533333333333,5.426143333333333,5.437063333333333,5.447686666666667,5.45516,5.468793333333334,5.483703333333334,5.492310000000001,5.495466666666667,5.4984433333333325,5.504556666666667,5.51311,5.520770000000001,5.52523,5.529273333333333,5.533900000000001,5.5386766666666665,5.546506666666667,5.555873333333333,5.568766666666666,5.582426666666666,5.595926666666667,5.603293333333332,5.612629999999999,5.62347,5.630046666666667,5.63503,5.641966666666666,5.643339999999999,5.646123333333333,5.649173333333334,5.650523333333334,5.651633333333334,5.649863333333333,5.646446666666667,5.635466666666667,5.627673333333334,5.6242399999999995,5.6212100000000005,5.6186533333333335,5.61268,5.606826666666666,5.59882,5.5913900000000005,5.589553333333333,5.58747,5.584873333333333,5.575983333333334,5.563599999999999,5.546273333333334,5.52785,5.509393333333334,5.498546666666667,5.485276666666667,5.470786666666666,5.457776666666667,5.4467799999999995,5.436616666666667,5.426966666666667,5.416286666666667,5.402426666666667,5.38958,5.378209999999999,5.365613333333333,5.353483333333333,5.3425199999999995,5.328593333333333,5.31214,5.299896666666666,5.285709999999999,5.272666666666667,5.258783333333333,5.24942,5.24001,5.22936,5.21663,5.203303333333334,5.193313333333333,5.18431,5.179396666666666,5.172256666666668,5.163476666666666,5.152163333333333,5.138986666666667,5.127676666666668,5.11606,5.105906666666668,5.094546666666667,5.086716666666667,5.076576666666666,5.069026666666667,5.06455,5.061883333333333,5.062536666666667,5.063713333333333,5.06224,5.062616666666667,5.062456666666666,5.063540000000001,5.065713333333334,5.072606666666667,5.078873333333333,5.08305,5.087886666666666,5.09067,5.0945366666666665,5.098713333333333,5.1007533333333335,5.1032633333333335,5.10736,5.11275,5.120726666666667,5.127453333333333,5.138623333333333,5.14851,5.1588,5.166586666666666,5.174916666666666,5.1817433333333325,5.188046666666667,5.193663333333333,5.196926666666667,5.201856666666667,5.207066666666666,5.210976666666667,5.217883333333334,5.2206866666666665,5.225390000000001,5.23013,5.23296,5.230696666666666,5.22832,5.228266666666667,5.2276533333333335,5.2273266666666665,5.227100000000001,5.227106666666667,5.2339633333333335,5.237843333333333,5.238946666666666,5.24027,5.241706666666667,5.2434866666666675,5.243643333333334,5.245583333333333,5.248613333333333,5.251293333333334,5.253636666666667,5.255323333333334,5.25825,5.262646666666667,5.26713,5.268323333333333,5.269276666666667,5.2688033333333335,5.271246666666666,5.278863333333334,5.28818,5.297066666666667,5.307353333333333,5.319109999999999,5.331886666666666,5.342803333333333,5.353846666666667,5.3628566666666675,5.374269999999999,5.38811,5.397313333333333,5.41265,5.42605,5.437446666666667,5.44834,5.458876666666667,5.4719733333333345,5.483603333333333,5.49552,5.509173333333334,5.517963333333332,5.52793,5.5348766666666664,5.539963333333334,5.541666666666667,5.544193333333333,5.54273,5.545929999999999,5.546063333333334,5.546996666666668,5.548263333333334,5.549556666666666,5.553066666666667,5.554726666666667,5.556016666666667,5.55911,5.560883333333334,5.5658233333333325,5.5688233333333335,5.570139999999999,5.573406666666667,5.573023333333333,5.573216666666667,5.577643333333333,5.579183333333333,5.5790066666666664,5.576549999999999,5.575733333333334,5.575696666666667,5.575763333333333,5.580033333333334,5.582913333333334,5.588016666666666,5.594616666666666,5.60344,5.608873333333333,5.618073333333333,5.625280000000001,5.63086,5.635043333333333,5.640843333333334,5.641290000000001,5.639849999999999,5.643026666666667,5.646553333333332,5.6499733333333335,5.653873333333333,5.654746666666667,5.6568,5.654956666666666,5.649566666666667,5.645646666666666,5.641686666666667,5.635933333333333,5.634393333333334,5.631246666666667,5.626126666666667,5.6209766666666665,5.614553333333333,5.606626666666667,5.598353333333334,5.588956666666666,5.578006666666667,5.563410000000001,5.547423333333333,5.534356666666667,5.521323333333333,5.509753333333333,5.49771,5.48541,5.469816666666667,5.459103333333333,5.4485166666666665,5.432953333333333,5.415686666666668,5.396613333333333,5.379560000000001,5.362993333333334,5.344336666666667,5.327326666666667,5.309856666666666,5.296340000000001,5.2839366666666665,5.272049999999999,5.2584800000000005,5.247186666666667,5.234283333333333,5.221076666666666,5.208536666666666,5.195743333333334,5.18174,5.1685566666666665,5.158793333333334,5.152633333333332,5.149220000000001,5.14301,5.134846666666666,5.124686666666666,5.113746666666667,5.102083333333334,5.08843,5.074286666666667,5.057263333333334,5.04235,5.028919999999999,5.016653333333334,5.002226666666667,4.9861933333333335,4.969166666666666,4.9555766666666665,4.945790000000001,4.9334333333333324,4.917923333333333,4.902406666666667,4.886206666666666,4.872553333333333,4.86153,4.8493466666666665,4.834053333333333,4.820973333333333,4.8079600000000005,4.794993333333333,4.785633333333333,4.777543333333333,4.772069999999999,4.768383333333333,4.7651666666666666,4.763466666666667,4.768446666666667,4.770079999999999,4.773213333333333,4.77997,4.79115,4.80429,4.816796666666667,4.829089999999999,4.842253333333333,4.855676666666667,4.871246666666667,4.88085,4.889253333333333,4.895203333333333,4.9012633333333335,4.905216666666666,4.91007,4.914656666666667,4.91687,4.9179699999999995,4.9213,4.9234333333333336,4.929873333333333,4.9356800000000005,4.9350033333333325,4.932266666666666,4.927956666666668,4.925746666666667,4.9245399999999995,4.92502,4.9260399999999995,4.93132,4.935779999999999,4.93663,4.93911,4.939986666666667,4.9398,4.94169,4.945246666666666,4.951296666666666,4.957186666666667,4.968146666666667,4.975266666666666,4.98611,5.001183333333333,5.018393333333334,5.037293333333334,5.057333333333333,5.07638,5.093850000000001,5.114703333333334,5.138213333333334,5.157433333333333,5.178336666666667,5.199496666666667,5.22093,5.239059999999999,5.258146666666666,5.27783,5.29484,5.302913333333334,5.310723333333333,5.317043333333333,5.321336666666666,5.322056666666667,5.321916666666667,5.327006666666667,5.3299233333333325,5.329116666666667,5.326546666666667,5.322383333333334,5.31759,5.314620000000001,5.31135,5.302766666666667,5.294993333333333,5.2869866666666665,5.27817,5.272446666666666,5.2696499999999995,5.262289999999999,5.2511866666666664,5.241843333333334,5.231396666666667,5.219793333333333,5.20615,5.196443333333334,5.186833333333334,5.178326666666667,5.16737,5.160503333333334,5.157226666666667,5.157386666666667,5.158446666666666,5.157539999999999,5.154513333333333,5.151603333333333,5.147656666666666,5.148676666666668,5.151626666666667,5.1534699999999996,5.15407,5.1567,5.155316666666667,5.161516666666667,5.171306666666666,5.17919,5.1861999999999995,5.193833333333333,5.202023333333333,5.20235,5.204793333333333,5.207546666666667,5.211273333333334,5.2159233333333335,5.22132,5.227259999999999,5.230923333333333,5.231623333333333,5.236860000000001,5.241166666666667,5.240756666666667,5.24149,5.241510000000001,5.241986666666667,5.248993333333333,5.2531799999999995,5.260423333333334,5.263686666666667,5.26508,5.265483333333333,5.265676666666667,5.26473,5.264633333333333,5.25784,5.25007,5.242123333333334,5.235853333333334,5.234136666666667,5.231123333333334,5.23662,5.241803333333333,5.248663333333332,5.255376666666666,5.261480000000001,5.26581,5.2677466666666675,5.26995,5.271889999999999,5.27471,5.27753,5.278496666666666,5.275666666666667,5.2746699999999995,5.2766166666666665,5.275873333333333,5.273156666666667,5.267303333333333,5.263316666666666,5.261486666666666,5.2662700000000005,5.271146666666667,5.275663333333333,5.282306666666667,5.290916666666666,5.29546,5.297313333333333,5.297796666666667,5.29185,5.286523333333333,5.2827399999999995,5.281416666666667,5.277010000000001,5.2724400000000005],\"type\":\"scatter\"}],                        {\"title\":{\"text\":\"Pre\\u00e7o do Bitcoin em rela\\u00e7\\u00e3o ao D\\u00f3lar\"},\"xaxis\":{\"title\":{\"text\":\"Data\"}},\"yaxis\":{\"title\":{\"text\":\"Pre\\u00e7o\"}},\"template\":{\"data\":{\"histogram2dcontour\":[{\"type\":\"histogram2dcontour\",\"colorbar\":{\"outlinewidth\":0,\"ticks\":\"\"},\"colorscale\":[[0.0,\"#0d0887\"],[0.1111111111111111,\"#46039f\"],[0.2222222222222222,\"#7201a8\"],[0.3333333333333333,\"#9c179e\"],[0.4444444444444444,\"#bd3786\"],[0.5555555555555556,\"#d8576b\"],[0.6666666666666666,\"#ed7953\"],[0.7777777777777778,\"#fb9f3a\"],[0.8888888888888888,\"#fdca26\"],[1.0,\"#f0f921\"]]}],\"choropleth\":[{\"type\":\"choropleth\",\"colorbar\":{\"outlinewidth\":0,\"ticks\":\"\"}}],\"histogram2d\":[{\"type\":\"histogram2d\",\"colorbar\":{\"outlinewidth\":0,\"ticks\":\"\"},\"colorscale\":[[0.0,\"#0d0887\"],[0.1111111111111111,\"#46039f\"],[0.2222222222222222,\"#7201a8\"],[0.3333333333333333,\"#9c179e\"],[0.4444444444444444,\"#bd3786\"],[0.5555555555555556,\"#d8576b\"],[0.6666666666666666,\"#ed7953\"],[0.7777777777777778,\"#fb9f3a\"],[0.8888888888888888,\"#fdca26\"],[1.0,\"#f0f921\"]]}],\"heatmap\":[{\"type\":\"heatmap\",\"colorbar\":{\"outlinewidth\":0,\"ticks\":\"\"},\"colorscale\":[[0.0,\"#0d0887\"],[0.1111111111111111,\"#46039f\"],[0.2222222222222222,\"#7201a8\"],[0.3333333333333333,\"#9c179e\"],[0.4444444444444444,\"#bd3786\"],[0.5555555555555556,\"#d8576b\"],[0.6666666666666666,\"#ed7953\"],[0.7777777777777778,\"#fb9f3a\"],[0.8888888888888888,\"#fdca26\"],[1.0,\"#f0f921\"]]}],\"heatmapgl\":[{\"type\":\"heatmapgl\",\"colorbar\":{\"outlinewidth\":0,\"ticks\":\"\"},\"colorscale\":[[0.0,\"#0d0887\"],[0.1111111111111111,\"#46039f\"],[0.2222222222222222,\"#7201a8\"],[0.3333333333333333,\"#9c179e\"],[0.4444444444444444,\"#bd3786\"],[0.5555555555555556,\"#d8576b\"],[0.6666666666666666,\"#ed7953\"],[0.7777777777777778,\"#fb9f3a\"],[0.8888888888888888,\"#fdca26\"],[1.0,\"#f0f921\"]]}],\"contourcarpet\":[{\"type\":\"contourcarpet\",\"colorbar\":{\"outlinewidth\":0,\"ticks\":\"\"}}],\"contour\":[{\"type\":\"contour\",\"colorbar\":{\"outlinewidth\":0,\"ticks\":\"\"},\"colorscale\":[[0.0,\"#0d0887\"],[0.1111111111111111,\"#46039f\"],[0.2222222222222222,\"#7201a8\"],[0.3333333333333333,\"#9c179e\"],[0.4444444444444444,\"#bd3786\"],[0.5555555555555556,\"#d8576b\"],[0.6666666666666666,\"#ed7953\"],[0.7777777777777778,\"#fb9f3a\"],[0.8888888888888888,\"#fdca26\"],[1.0,\"#f0f921\"]]}],\"surface\":[{\"type\":\"surface\",\"colorbar\":{\"outlinewidth\":0,\"ticks\":\"\"},\"colorscale\":[[0.0,\"#0d0887\"],[0.1111111111111111,\"#46039f\"],[0.2222222222222222,\"#7201a8\"],[0.3333333333333333,\"#9c179e\"],[0.4444444444444444,\"#bd3786\"],[0.5555555555555556,\"#d8576b\"],[0.6666666666666666,\"#ed7953\"],[0.7777777777777778,\"#fb9f3a\"],[0.8888888888888888,\"#fdca26\"],[1.0,\"#f0f921\"]]}],\"mesh3d\":[{\"type\":\"mesh3d\",\"colorbar\":{\"outlinewidth\":0,\"ticks\":\"\"}}],\"scatter\":[{\"fillpattern\":{\"fillmode\":\"overlay\",\"size\":10,\"solidity\":0.2},\"type\":\"scatter\"}],\"parcoords\":[{\"type\":\"parcoords\",\"line\":{\"colorbar\":{\"outlinewidth\":0,\"ticks\":\"\"}}}],\"scatterpolargl\":[{\"type\":\"scatterpolargl\",\"marker\":{\"colorbar\":{\"outlinewidth\":0,\"ticks\":\"\"}}}],\"bar\":[{\"error_x\":{\"color\":\"#2a3f5f\"},\"error_y\":{\"color\":\"#2a3f5f\"},\"marker\":{\"line\":{\"color\":\"#E5ECF6\",\"width\":0.5},\"pattern\":{\"fillmode\":\"overlay\",\"size\":10,\"solidity\":0.2}},\"type\":\"bar\"}],\"scattergeo\":[{\"type\":\"scattergeo\",\"marker\":{\"colorbar\":{\"outlinewidth\":0,\"ticks\":\"\"}}}],\"scatterpolar\":[{\"type\":\"scatterpolar\",\"marker\":{\"colorbar\":{\"outlinewidth\":0,\"ticks\":\"\"}}}],\"histogram\":[{\"marker\":{\"pattern\":{\"fillmode\":\"overlay\",\"size\":10,\"solidity\":0.2}},\"type\":\"histogram\"}],\"scattergl\":[{\"type\":\"scattergl\",\"marker\":{\"colorbar\":{\"outlinewidth\":0,\"ticks\":\"\"}}}],\"scatter3d\":[{\"type\":\"scatter3d\",\"line\":{\"colorbar\":{\"outlinewidth\":0,\"ticks\":\"\"}},\"marker\":{\"colorbar\":{\"outlinewidth\":0,\"ticks\":\"\"}}}],\"scattermapbox\":[{\"type\":\"scattermapbox\",\"marker\":{\"colorbar\":{\"outlinewidth\":0,\"ticks\":\"\"}}}],\"scatterternary\":[{\"type\":\"scatterternary\",\"marker\":{\"colorbar\":{\"outlinewidth\":0,\"ticks\":\"\"}}}],\"scattercarpet\":[{\"type\":\"scattercarpet\",\"marker\":{\"colorbar\":{\"outlinewidth\":0,\"ticks\":\"\"}}}],\"carpet\":[{\"aaxis\":{\"endlinecolor\":\"#2a3f5f\",\"gridcolor\":\"white\",\"linecolor\":\"white\",\"minorgridcolor\":\"white\",\"startlinecolor\":\"#2a3f5f\"},\"baxis\":{\"endlinecolor\":\"#2a3f5f\",\"gridcolor\":\"white\",\"linecolor\":\"white\",\"minorgridcolor\":\"white\",\"startlinecolor\":\"#2a3f5f\"},\"type\":\"carpet\"}],\"table\":[{\"cells\":{\"fill\":{\"color\":\"#EBF0F8\"},\"line\":{\"color\":\"white\"}},\"header\":{\"fill\":{\"color\":\"#C8D4E3\"},\"line\":{\"color\":\"white\"}},\"type\":\"table\"}],\"barpolar\":[{\"marker\":{\"line\":{\"color\":\"#E5ECF6\",\"width\":0.5},\"pattern\":{\"fillmode\":\"overlay\",\"size\":10,\"solidity\":0.2}},\"type\":\"barpolar\"}],\"pie\":[{\"automargin\":true,\"type\":\"pie\"}]},\"layout\":{\"autotypenumbers\":\"strict\",\"colorway\":[\"#636efa\",\"#EF553B\",\"#00cc96\",\"#ab63fa\",\"#FFA15A\",\"#19d3f3\",\"#FF6692\",\"#B6E880\",\"#FF97FF\",\"#FECB52\"],\"font\":{\"color\":\"#2a3f5f\"},\"hovermode\":\"closest\",\"hoverlabel\":{\"align\":\"left\"},\"paper_bgcolor\":\"white\",\"plot_bgcolor\":\"#E5ECF6\",\"polar\":{\"bgcolor\":\"#E5ECF6\",\"angularaxis\":{\"gridcolor\":\"white\",\"linecolor\":\"white\",\"ticks\":\"\"},\"radialaxis\":{\"gridcolor\":\"white\",\"linecolor\":\"white\",\"ticks\":\"\"}},\"ternary\":{\"bgcolor\":\"#E5ECF6\",\"aaxis\":{\"gridcolor\":\"white\",\"linecolor\":\"white\",\"ticks\":\"\"},\"baxis\":{\"gridcolor\":\"white\",\"linecolor\":\"white\",\"ticks\":\"\"},\"caxis\":{\"gridcolor\":\"white\",\"linecolor\":\"white\",\"ticks\":\"\"}},\"coloraxis\":{\"colorbar\":{\"outlinewidth\":0,\"ticks\":\"\"}},\"colorscale\":{\"sequential\":[[0.0,\"#0d0887\"],[0.1111111111111111,\"#46039f\"],[0.2222222222222222,\"#7201a8\"],[0.3333333333333333,\"#9c179e\"],[0.4444444444444444,\"#bd3786\"],[0.5555555555555556,\"#d8576b\"],[0.6666666666666666,\"#ed7953\"],[0.7777777777777778,\"#fb9f3a\"],[0.8888888888888888,\"#fdca26\"],[1.0,\"#f0f921\"]],\"sequentialminus\":[[0.0,\"#0d0887\"],[0.1111111111111111,\"#46039f\"],[0.2222222222222222,\"#7201a8\"],[0.3333333333333333,\"#9c179e\"],[0.4444444444444444,\"#bd3786\"],[0.5555555555555556,\"#d8576b\"],[0.6666666666666666,\"#ed7953\"],[0.7777777777777778,\"#fb9f3a\"],[0.8888888888888888,\"#fdca26\"],[1.0,\"#f0f921\"]],\"diverging\":[[0,\"#8e0152\"],[0.1,\"#c51b7d\"],[0.2,\"#de77ae\"],[0.3,\"#f1b6da\"],[0.4,\"#fde0ef\"],[0.5,\"#f7f7f7\"],[0.6,\"#e6f5d0\"],[0.7,\"#b8e186\"],[0.8,\"#7fbc41\"],[0.9,\"#4d9221\"],[1,\"#276419\"]]},\"xaxis\":{\"gridcolor\":\"white\",\"linecolor\":\"white\",\"ticks\":\"\",\"title\":{\"standoff\":15},\"zerolinecolor\":\"white\",\"automargin\":true,\"zerolinewidth\":2},\"yaxis\":{\"gridcolor\":\"white\",\"linecolor\":\"white\",\"ticks\":\"\",\"title\":{\"standoff\":15},\"zerolinecolor\":\"white\",\"automargin\":true,\"zerolinewidth\":2},\"scene\":{\"xaxis\":{\"backgroundcolor\":\"#E5ECF6\",\"gridcolor\":\"white\",\"linecolor\":\"white\",\"showbackground\":true,\"ticks\":\"\",\"zerolinecolor\":\"white\",\"gridwidth\":2},\"yaxis\":{\"backgroundcolor\":\"#E5ECF6\",\"gridcolor\":\"white\",\"linecolor\":\"white\",\"showbackground\":true,\"ticks\":\"\",\"zerolinecolor\":\"white\",\"gridwidth\":2},\"zaxis\":{\"backgroundcolor\":\"#E5ECF6\",\"gridcolor\":\"white\",\"linecolor\":\"white\",\"showbackground\":true,\"ticks\":\"\",\"zerolinecolor\":\"white\",\"gridwidth\":2}},\"shapedefaults\":{\"line\":{\"color\":\"#2a3f5f\"}},\"annotationdefaults\":{\"arrowcolor\":\"#2a3f5f\",\"arrowhead\":0,\"arrowwidth\":1},\"geo\":{\"bgcolor\":\"white\",\"landcolor\":\"#E5ECF6\",\"subunitcolor\":\"white\",\"showland\":true,\"showlakes\":true,\"lakecolor\":\"white\"},\"title\":{\"x\":0.05},\"mapbox\":{\"style\":\"light\"}}}},                        {\"responsive\": true}                    ).then(function(){\n",
              "                            \n",
              "var gd = document.getElementById('e79b884a-94e2-44a5-81ea-9582bd0c6b11');\n",
              "var x = new MutationObserver(function (mutations, observer) {{\n",
              "        var display = window.getComputedStyle(gd).display;\n",
              "        if (!display || display === 'none') {{\n",
              "            console.log([gd, 'removed!']);\n",
              "            Plotly.purge(gd);\n",
              "            observer.disconnect();\n",
              "        }}\n",
              "}});\n",
              "\n",
              "// Listen for the removal of the full notebook cells\n",
              "var notebookContainer = gd.closest('#notebook-container');\n",
              "if (notebookContainer) {{\n",
              "    x.observe(notebookContainer, {childList: true});\n",
              "}}\n",
              "\n",
              "// Listen for the clearing of the current output cell\n",
              "var outputEl = gd.closest('.output');\n",
              "if (outputEl) {{\n",
              "    x.observe(outputEl, {childList: true});\n",
              "}}\n",
              "\n",
              "                        })                };                            </script>        </div>\n",
              "</body>\n",
              "</html>"
            ]
          },
          "metadata": {}
        }
      ]
    },
    {
      "cell_type": "code",
      "source": [
        "#modelo de aprendizado\n",
        "\n",
        "#separa os dados em conjuntos de treinamento e teste\n",
        "\n",
        "X = df_bitcoin_dolar[['sma30_bitcoin', 'sma30_dolar', 'diff_bitcoin_dolar', 'diff_perc_bitcoin_dolar']] # variáveis independentes\n",
        "y = df_bitcoin_dolar['Close'] # variável dependente (preço do bitcoin)\n",
        "\n",
        "#random_state eh apenas uma seed que sera usado pela a funcao de treinamento\n",
        "#do sckit-learning para gerar a divisao dos dados em conjuntos\n",
        "X_train, X_test, y_train, y_test = train_test_split(X, y, test_size=0.2, random_state=42)\n"
      ],
      "metadata": {
        "id": "sP-R_F3vGEO7"
      },
      "execution_count": 93,
      "outputs": []
    },
    {
      "cell_type": "markdown",
      "source": [
        "modelo usando regressao linear"
      ],
      "metadata": {
        "id": "EIFNYFVFsE9S"
      }
    },
    {
      "cell_type": "code",
      "source": [
        "# treinar o modelo de regressão linear\n",
        "model_linear_regression = LinearRegression()\n",
        "model_linear_regression.fit(X_train, y_train)\n",
        "\n",
        "# fazer treinamento do preço do bitcoin\n",
        "y_pred_train_lr = model_linear_regression.predict(X_train)\n",
        "y_pred_test_lr = model_linear_regression.predict(X_test)\n",
        "\n",
        "# avaliar o desempenho do modelo usando o erro médio quadrático\n",
        "mse_train_lr = mean_squared_error(y_train, y_pred_train_lr)\n",
        "mse_test_lr = mean_squared_error(y_test, y_pred_test_lr)\n",
        "\n",
        "#calculando coeficiente de determinação (R2 - quanto mais perto de 1 melhor) LinearRegression\n",
        "r2_linear_regression = r2_score(y_test, y_pred_test_lr)\n",
        "\n",
        "print('Erro médio quadrático (conjunto de treinamento):', mse_train_lr)\n",
        "print('Erro médio quadrático (conjunto de teste):', mse_test_lr)\n",
        "print(\"R2: \", r2_linear_regression)"
      ],
      "metadata": {
        "colab": {
          "base_uri": "https://localhost:8080/"
        },
        "id": "WOUgvgZ-obC1",
        "outputId": "8977c8c9-1b0c-4740-a86d-b55ed817ed42"
      },
      "execution_count": 94,
      "outputs": [
        {
          "output_type": "stream",
          "name": "stdout",
          "text": [
            "Erro médio quadrático (conjunto de treinamento): 0.011071353149582292\n",
            "Erro médio quadrático (conjunto de teste): 0.016121492969810927\n",
            "R2:  0.999999999940222\n"
          ]
        }
      ]
    },
    {
      "cell_type": "markdown",
      "source": [
        "modelo usando Random Forest\n"
      ],
      "metadata": {
        "id": "RDu0JS7Kp4bo"
      }
    },
    {
      "cell_type": "code",
      "source": [
        "# criando o modelo de Random Forest\n",
        "model_random_forest_regressor = RandomForestRegressor(n_estimators=5, random_state=42)\n",
        "model_random_forest_regressor.fit(X_train, y_train)\n",
        "\n",
        "# fazer treinamento do preço do bitcoin\n",
        "y_pred_train_rfr = model_random_forest_regressor.predict(X_train)\n",
        "y_pred_test_rfr = model_random_forest_regressor.predict(X_test)\n",
        "\n",
        "# avaliar o desempenho do modelo usando o erro médio quadrático\n",
        "mse_train_rfr = mean_squared_error(y_train, y_pred_train_rfr)\n",
        "mse_test_rfr = mean_squared_error(y_test, y_pred_test_rfr)\n",
        "\n",
        "#calculando coeficiente de determinação (R2 - quanto mais perto de 1 melhor) RandomForestRegressor\n",
        "r2_rfr = r2_score(y_test, y_pred_test_rfr)\n",
        "\n",
        "print('Erro médio quadrático (conjunto de treinamento):', mse_train_rfr)\n",
        "print('Erro médio quadrático (conjunto de teste):', mse_test_rfr)\n",
        "print(\"R2: \", r2_rfr)"
      ],
      "metadata": {
        "colab": {
          "base_uri": "https://localhost:8080/"
        },
        "id": "WD-oQaDJsZ21",
        "outputId": "3a3dfabb-be8b-499b-edda-4dd29a0edf1f"
      },
      "execution_count": 95,
      "outputs": [
        {
          "output_type": "stream",
          "name": "stdout",
          "text": [
            "Erro médio quadrático (conjunto de treinamento): 9906.142737553424\n",
            "Erro médio quadrático (conjunto de teste): 27334.062098157992\n",
            "R2:  0.9998986461966711\n"
          ]
        }
      ]
    },
    {
      "cell_type": "code",
      "source": [
        "# # Importar as bibliotecas necessárias\n",
        "# from sklearn.tree import export_graphviz\n",
        "# import graphviz\n",
        "\n",
        "# # Extrair uma árvore de decisão do modelo de Random Forest\n",
        "# tree = model_random_forest_regressor.estimators_[0]  # Substitua \"modelo_rf\" pelo nome do seu modelo de Random Forest\n",
        "\n",
        "# # Exportar a árvore de decisão para um arquivo .dot\n",
        "# dot_data = export_graphviz(tree, out_file=None, filled=True, rounded=True, special_characters=True)\n",
        "\n",
        "# graph = graphviz.Source(dot_data)\n",
        "\n",
        "# # Visualize a árvore em formato de imagem (requer que a biblioteca graphviz esteja instalada)\n",
        "# graph.render('arvore', view=True)"
      ],
      "metadata": {
        "id": "KgtBs_zVvCBn"
      },
      "execution_count": 96,
      "outputs": []
    },
    {
      "cell_type": "code",
      "source": [
        "# criando o modelo de regressao neural\n",
        "#ao usar menos neuronios e/ou mais camadas o coeficiente(R2) pendia para valores negativos\n",
        "layer = (25, 25, 25)\n",
        "model_random_mlp_regressor = MLPRegressor(hidden_layer_sizes=layer, activation='relu', solver='adam', random_state=42)\n",
        "model_random_mlp_regressor.fit(X_train, y_train)\n",
        "\n",
        "# fazer treinamento do preço do bitcoin\n",
        "y_pred_train_mlp_regressor = model_random_mlp_regressor.predict(X_train)\n",
        "y_pred_test_mlp_regressor = model_random_mlp_regressor.predict(X_test)\n",
        "\n",
        "# avaliar o desempenho do modelo usando o erro médio quadrático\n",
        "mse_train_mlp_regressor = mean_squared_error(y_train, y_pred_train_mlp_regressor)\n",
        "mse_test_mlp_regressor = mean_squared_error(y_test, y_pred_test_mlp_regressor)\n",
        "\n",
        "#calculando coeficiente de determinação (R2 - quanto mais perto de 1 melhor) regressao neural\n",
        "r2_mlp_regressor = r2_score(y_test, y_pred_test_mlp_regressor)\n",
        "\n",
        "print('Erro médio quadrático (conjunto de treinamento):', mse_train_mlp_regressor)\n",
        "print('Erro médio quadrático (conjunto de teste):', mse_test_mlp_regressor)\n",
        "print(\"R2: \", r2_mlp_regressor)"
      ],
      "metadata": {
        "colab": {
          "base_uri": "https://localhost:8080/"
        },
        "id": "zWWUbCIo4FBk",
        "outputId": "777b2f48-85d3-441d-dfbb-a17143c608a9"
      },
      "execution_count": 97,
      "outputs": [
        {
          "output_type": "stream",
          "name": "stdout",
          "text": [
            "Erro médio quadrático (conjunto de treinamento): 5039.228922414208\n",
            "Erro médio quadrático (conjunto de teste): 1060.7683220075162\n",
            "R2:  0.9999960667059473\n"
          ]
        },
        {
          "output_type": "stream",
          "name": "stderr",
          "text": [
            "/usr/local/lib/python3.10/dist-packages/sklearn/neural_network/_multilayer_perceptron.py:686: ConvergenceWarning:\n",
            "\n",
            "Stochastic Optimizer: Maximum iterations (200) reached and the optimization hasn't converged yet.\n",
            "\n"
          ]
        }
      ]
    },
    {
      "cell_type": "markdown",
      "source": [
        "Com base nos valores do Mean Squared Error (MSE) e do coeficiente de determinação (R2) que você forneceu, parece que o modelo de Regressão Linear tem um desempenho significativamente melhor em relação ao Random Forest para o seu conjunto de dados.\n",
        "\n",
        "O MSE é uma métrica que avalia a média dos erros quadráticos do modelo, sendo que um valor menor indica melhor ajuste aos dados. No seu caso, o MSE da Regressão Linear é extremamente baixo (0.015209712200605399), o que indica que esse modelo apresenta uma menor dispersão dos erros em relação aos dados observados.\n",
        "\n",
        "Além disso, o coeficiente de determinação (R2) é uma métrica que varia de 0 a 1, sendo que um valor próximo de 1 indica que o modelo explica uma grande proporção da variabilidade dos dados. No seu caso, o R2 da Regressão Linear é muito próximo de 1 (0.9999999999327274), o que indica que esse modelo explica quase toda a variação dos dados observados.\n",
        "\n",
        "Portanto, com base nessas métricas, a Regressão Linear parece ser a melhor opção entre os dois modelos para o seu problema específico. No entanto, é importante considerar outros fatores, como a adequação do modelo aos objetivos e requisitos do seu problema, a interpretabilidade do modelo, a escalabilidade, o tempo de treinamento e inferência, e outros aspectos relevantes antes de tomar uma decisão final sobre qual modelo de machine learning utilizar."
      ],
      "metadata": {
        "id": "TPgMnNd-N0IZ"
      }
    },
    {
      "cell_type": "markdown",
      "source": [
        "O coeficiente de determinação (R2) é uma métrica que varia de 0 a 1, e é usada para avaliar o quão bem um modelo de regressão se ajusta aos dados observados. No entanto, em alguns casos, o R2 pode assumir um valor negativo.\n",
        "\n",
        "Um R2 negativo indica que o modelo de regressão não está ajustando bem aos dados e pode ser pior do que um simples modelo de referência, como a média dos valores observados. Em outras palavras, o modelo está prevendo os valores de forma tão inadequada que seu desempenho é pior do que se simplesmente usássemos a média dos valores observados como uma previsão.\n",
        "\n",
        "R2 negativo pode ocorrer quando o modelo está fazendo previsões que são muito piores do que a média dos valores observados, indicando uma má qualidade do ajuste do modelo aos dados. É importante considerar as causas potenciais de um R2 negativo, como dados ruidosos, subamostragem inadequada, variáveis inadequadas ou inadequação do próprio modelo de regressão, e reavaliar a escolha do modelo e a qualidade dos dados em tais situações."
      ],
      "metadata": {
        "id": "EvI-6nZJNn2G"
      }
    },
    {
      "cell_type": "code",
      "source": [
        "'''FAZENDO A PREVISAO'''"
      ],
      "metadata": {
        "id": "WqR4wuVCNo6E",
        "outputId": "8f7d84d4-d8eb-49ad-c9c5-e5fd93528d22",
        "colab": {
          "base_uri": "https://localhost:8080/",
          "height": 35
        }
      },
      "execution_count": 98,
      "outputs": [
        {
          "output_type": "execute_result",
          "data": {
            "text/plain": [
              "'FAZENDO A PREVISAO'"
            ],
            "application/vnd.google.colaboratory.intrinsic+json": {
              "type": "string"
            }
          },
          "metadata": {},
          "execution_count": 98
        }
      ]
    },
    {
      "cell_type": "code",
      "source": [
        "'''coletando o df do bitcoin'''\n",
        "\n",
        "#data inicial e final\n",
        "start_date = '2023-01-01'\n",
        "end_date = '2023-05-02'\n",
        "\n",
        "# coletando os dataframe\n",
        "df_bitcoin_pred = pdr.get_data_yahoo('BTC-USD', start=start_date, end=end_date)"
      ],
      "metadata": {
        "colab": {
          "base_uri": "https://localhost:8080/"
        },
        "id": "1311fW73TTnt",
        "outputId": "99e3718c-8a4f-4094-a996-18e205177b03"
      },
      "execution_count": 99,
      "outputs": [
        {
          "output_type": "stream",
          "name": "stdout",
          "text": [
            "\r[*********************100%***********************]  1 of 1 completed\n"
          ]
        }
      ]
    },
    {
      "cell_type": "code",
      "source": [
        "'''coletando o dolar'''\n",
        "df_dolar_pred = pd.read_csv('https://raw.githubusercontent.com/Jadeilson08/tcc-data-science/master/USD_BRL_PRED_20230101_20230501.csv')\n",
        "\n",
        "df_dolar_pred = rename_and_sort_columns(df_dolar_pred)\n",
        "print(df_dolar_pred.isna().any())"
      ],
      "metadata": {
        "colab": {
          "base_uri": "https://localhost:8080/"
        },
        "id": "-j-3SCOJTi_I",
        "outputId": "cad1fe1e-4d3e-4703-9073-61f6b292b1b9"
      },
      "execution_count": 100,
      "outputs": [
        {
          "output_type": "stream",
          "name": "stdout",
          "text": [
            "dolar_close        False\n",
            "dolar_open         False\n",
            "dolar_high         False\n",
            "dolar_low          False\n",
            "dolar_volume        True\n",
            "dolar_variation    False\n",
            "dtype: bool\n"
          ]
        }
      ]
    },
    {
      "cell_type": "code",
      "source": [
        "dolar_volume_pred = df_dolar_pred['dolar_volume'].dropna().apply(remove_k)\n",
        "plt.hist(dolar_volume_pred, bins=50)\n",
        "plt.title('Histograma da coluna de volume antes do tratamento')\n",
        "plt.xlabel('Volume')\n",
        "plt.ylabel('Frequência')\n",
        "plt.show()"
      ],
      "metadata": {
        "colab": {
          "base_uri": "https://localhost:8080/",
          "height": 472
        },
        "id": "dUe51_YJUV2g",
        "outputId": "49e45028-d173-42aa-cc52-c8f4fa61a38e"
      },
      "execution_count": 101,
      "outputs": [
        {
          "output_type": "display_data",
          "data": {
            "text/plain": [
              "<Figure size 640x480 with 1 Axes>"
            ],
            "image/png": "[encoded data removed]"
          },
          "metadata": {}
        }
      ]
    },
    {
      "cell_type": "code",
      "source": [
        "dolar_volume_pred = dolar_volume_pred.sort_values()\n",
        "\n",
        "# Imprimindo as medidas estatísticas\n",
        "print(dolar_volume_pred.describe())"
      ],
      "metadata": {
        "colab": {
          "base_uri": "https://localhost:8080/"
        },
        "id": "EIjwhOHoUfCk",
        "outputId": "1007a9f4-a156-481e-be69-f2a29a12c5ae"
      },
      "execution_count": 102,
      "outputs": [
        {
          "output_type": "stream",
          "name": "stdout",
          "text": [
            "count     85.000000\n",
            "mean     127.108706\n",
            "std       35.704041\n",
            "min        0.060000\n",
            "25%      113.480000\n",
            "50%      130.120000\n",
            "75%      147.800000\n",
            "max      189.340000\n",
            "Name: dolar_volume, dtype: float64\n"
          ]
        }
      ]
    },
    {
      "cell_type": "code",
      "source": [
        "median_k = add_k(dolar_volume_pred.median())\n",
        "\n",
        "df_dolar_pred['dolar_volume'].fillna(median_k, inplace=True)\n",
        "\n",
        "print(df_dolar_pred.isna().any())"
      ],
      "metadata": {
        "colab": {
          "base_uri": "https://localhost:8080/"
        },
        "id": "3FEpJl-oUnAW",
        "outputId": "0368fe9c-72d0-47de-9acc-6af7d2f04dbb"
      },
      "execution_count": 103,
      "outputs": [
        {
          "output_type": "stream",
          "name": "stdout",
          "text": [
            "dolar_close        False\n",
            "dolar_open         False\n",
            "dolar_high         False\n",
            "dolar_low          False\n",
            "dolar_volume       False\n",
            "dolar_variation    False\n",
            "dtype: bool\n"
          ]
        }
      ]
    },
    {
      "cell_type": "code",
      "source": [
        "'''unindo os df pred'''"
      ],
      "metadata": {
        "colab": {
          "base_uri": "https://localhost:8080/",
          "height": 35
        },
        "id": "j8ubg1d3Ux3b",
        "outputId": "00fe8e8e-ee7a-4936-f504-11b60872d646"
      },
      "execution_count": 104,
      "outputs": [
        {
          "output_type": "execute_result",
          "data": {
            "text/plain": [
              "'unindo os df pred'"
            ],
            "application/vnd.google.colaboratory.intrinsic+json": {
              "type": "string"
            }
          },
          "metadata": {},
          "execution_count": 104
        }
      ]
    },
    {
      "cell_type": "code",
      "source": [
        "df_bitcoin_dolar_pred = pd.merge(df_bitcoin_pred, df_dolar_pred, on='Date')\n",
        "df_bitcoin_dolar_pred.head()"
      ],
      "metadata": {
        "colab": {
          "base_uri": "https://localhost:8080/",
          "height": 238
        },
        "id": "D1hc2YvCU1al",
        "outputId": "c6c66d7b-4af7-4c27-bc76-b85b41a4e645"
      },
      "execution_count": 105,
      "outputs": [
        {
          "output_type": "execute_result",
          "data": {
            "text/plain": [
              "                    Open          High           Low         Close  \\\n",
              "Date                                                                 \n",
              "2023-01-02  16625.509766  16759.343750  16572.228516  16688.470703   \n",
              "2023-01-03  16688.847656  16760.447266  16622.371094  16679.857422   \n",
              "2023-01-04  16680.205078  16964.585938  16667.763672  16863.238281   \n",
              "2023-01-05  16863.472656  16884.021484  16790.283203  16836.736328   \n",
              "2023-01-06  16836.472656  16991.994141  16716.421875  16951.968750   \n",
              "\n",
              "               Adj Close       Volume  dolar_close  dolar_open  dolar_high  \\\n",
              "Date                                                                         \n",
              "2023-01-02  16688.470703  12097775227       5.3633      5.2865      5.3671   \n",
              "2023-01-03  16679.857422  13903079207       5.4797      5.3638      5.4802   \n",
              "2023-01-04  16863.238281  18421743322       5.4312      5.4799      5.4799   \n",
              "2023-01-05  16836.736328  13692758566       5.3509      5.4315      5.4315   \n",
              "2023-01-06  16951.968750  14413662913       5.2254      5.3514      5.3697   \n",
              "\n",
              "            dolar_low dolar_volume dolar_variation  \n",
              "Date                                                \n",
              "2023-01-02     5.2861       84,04K           1,46%  \n",
              "2023-01-03     5.3396      188,23K           2,17%  \n",
              "2023-01-04     5.4248      175,09K          -0,89%  \n",
              "2023-01-05     5.3478      148,32K          -1,48%  \n",
              "2023-01-06     5.2186      154,80K          -2,35%  "
            ],
            "text/html": [
              "\n",
              "  <div id=\"df-3bd055cc-a07f-4a0a-ac2b-9c966add9b85\">\n",
              "    <div class=\"colab-df-container\">\n",
              "      <div>\n",
              "<style scoped>\n",
              "    .dataframe tbody tr th:only-of-type {\n",
              "        vertical-align: middle;\n",
              "    }\n",
              "\n",
              "    .dataframe tbody tr th {\n",
              "        vertical-align: top;\n",
              "    }\n",
              "\n",
              "    .dataframe thead th {\n",
              "        text-align: right;\n",
              "    }\n",
              "</style>\n",
              "<table border=\"1\" class=\"dataframe\">\n",
              "  <thead>\n",
              "    <tr style=\"text-align: right;\">\n",
              "      <th></th>\n",
              "      <th>Open</th>\n",
              "      <th>High</th>\n",
              "      <th>Low</th>\n",
              "      <th>Close</th>\n",
              "      <th>Adj Close</th>\n",
              "      <th>Volume</th>\n",
              "      <th>dolar_close</th>\n",
              "      <th>dolar_open</th>\n",
              "      <th>dolar_high</th>\n",
              "      <th>dolar_low</th>\n",
              "      <th>dolar_volume</th>\n",
              "      <th>dolar_variation</th>\n",
              "    </tr>\n",
              "    <tr>\n",
              "      <th>Date</th>\n",
              "      <th></th>\n",
              "      <th></th>\n",
              "      <th></th>\n",
              "      <th></th>\n",
              "      <th></th>\n",
              "      <th></th>\n",
              "      <th></th>\n",
              "      <th></th>\n",
              "      <th></th>\n",
              "      <th></th>\n",
              "      <th></th>\n",
              "      <th></th>\n",
              "    </tr>\n",
              "  </thead>\n",
              "  <tbody>\n",
              "    <tr>\n",
              "      <th>2023-01-02</th>\n",
              "      <td>16625.509766</td>\n",
              "      <td>16759.343750</td>\n",
              "      <td>16572.228516</td>\n",
              "      <td>16688.470703</td>\n",
              "      <td>16688.470703</td>\n",
              "      <td>12097775227</td>\n",
              "      <td>5.3633</td>\n",
              "      <td>5.2865</td>\n",
              "      <td>5.3671</td>\n",
              "      <td>5.2861</td>\n",
              "      <td>84,04K</td>\n",
              "      <td>1,46%</td>\n",
              "    </tr>\n",
              "    <tr>\n",
              "      <th>2023-01-03</th>\n",
              "      <td>16688.847656</td>\n",
              "      <td>16760.447266</td>\n",
              "      <td>16622.371094</td>\n",
              "      <td>16679.857422</td>\n",
              "      <td>16679.857422</td>\n",
              "      <td>13903079207</td>\n",
              "      <td>5.4797</td>\n",
              "      <td>5.3638</td>\n",
              "      <td>5.4802</td>\n",
              "      <td>5.3396</td>\n",
              "      <td>188,23K</td>\n",
              "      <td>2,17%</td>\n",
              "    </tr>\n",
              "    <tr>\n",
              "      <th>2023-01-04</th>\n",
              "      <td>16680.205078</td>\n",
              "      <td>16964.585938</td>\n",
              "      <td>16667.763672</td>\n",
              "      <td>16863.238281</td>\n",
              "      <td>16863.238281</td>\n",
              "      <td>18421743322</td>\n",
              "      <td>5.4312</td>\n",
              "      <td>5.4799</td>\n",
              "      <td>5.4799</td>\n",
              "      <td>5.4248</td>\n",
              "      <td>175,09K</td>\n",
              "      <td>-0,89%</td>\n",
              "    </tr>\n",
              "    <tr>\n",
              "      <th>2023-01-05</th>\n",
              "      <td>16863.472656</td>\n",
              "      <td>16884.021484</td>\n",
              "      <td>16790.283203</td>\n",
              "      <td>16836.736328</td>\n",
              "      <td>16836.736328</td>\n",
              "      <td>13692758566</td>\n",
              "      <td>5.3509</td>\n",
              "      <td>5.4315</td>\n",
              "      <td>5.4315</td>\n",
              "      <td>5.3478</td>\n",
              "      <td>148,32K</td>\n",
              "      <td>-1,48%</td>\n",
              "    </tr>\n",
              "    <tr>\n",
              "      <th>2023-01-06</th>\n",
              "      <td>16836.472656</td>\n",
              "      <td>16991.994141</td>\n",
              "      <td>16716.421875</td>\n",
              "      <td>16951.968750</td>\n",
              "      <td>16951.968750</td>\n",
              "      <td>14413662913</td>\n",
              "      <td>5.2254</td>\n",
              "      <td>5.3514</td>\n",
              "      <td>5.3697</td>\n",
              "      <td>5.2186</td>\n",
              "      <td>154,80K</td>\n",
              "      <td>-2,35%</td>\n",
              "    </tr>\n",
              "  </tbody>\n",
              "</table>\n",
              "</div>\n",
              "      <button class=\"colab-df-convert\" onclick=\"convertToInteractive('df-3bd055cc-a07f-4a0a-ac2b-9c966add9b85')\"\n",
              "              title=\"Convert this dataframe to an interactive table.\"\n",
              "              style=\"display:none;\">\n",
              "        \n",
              "  <svg xmlns=\"http://www.w3.org/2000/svg\" height=\"24px\"viewBox=\"0 0 24 24\"\n",
              "       width=\"24px\">\n",
              "    <path d=\"M0 0h24v24H0V0z\" fill=\"none\"/>\n",
              "    <path d=\"M18.56 5.44l.94 2.06.94-2.06 2.06-.94-2.06-.94-.94-2.06-.94 2.06-2.06.94zm-11 1L8.5 8.5l.94-2.06 2.06-.94-2.06-.94L8.5 2.5l-.94 2.06-2.06.94zm10 10l.94 2.06.94-2.06 2.06-.94-2.06-.94-.94-2.06-.94 2.06-2.06.94z\"/><path d=\"M17.41 7.96l-1.37-1.37c-.4-.4-.92-.59-1.43-.59-.52 0-1.04.2-1.43.59L10.3 9.45l-7.72 7.72c-.78.78-.78 2.05 0 2.83L4 21.41c.39.39.9.59 1.41.59.51 0 1.02-.2 1.41-.59l7.78-7.78 2.81-2.81c.8-.78.8-2.07 0-2.86zM5.41 20L4 18.59l7.72-7.72 1.47 1.35L5.41 20z\"/>\n",
              "  </svg>\n",
              "      </button>\n",
              "      \n",
              "  <style>\n",
              "    .colab-df-container {\n",
              "      display:flex;\n",
              "      flex-wrap:wrap;\n",
              "      gap: 12px;\n",
              "    }\n",
              "\n",
              "    .colab-df-convert {\n",
              "      background-color: #E8F0FE;\n",
              "      border: none;\n",
              "      border-radius: 50%;\n",
              "      cursor: pointer;\n",
              "      display: none;\n",
              "      fill: #1967D2;\n",
              "      height: 32px;\n",
              "      padding: 0 0 0 0;\n",
              "      width: 32px;\n",
              "    }\n",
              "\n",
              "    .colab-df-convert:hover {\n",
              "      background-color: #E2EBFA;\n",
              "      box-shadow: 0px 1px 2px rgba(60, 64, 67, 0.3), 0px 1px 3px 1px rgba(60, 64, 67, 0.15);\n",
              "      fill: #174EA6;\n",
              "    }\n",
              "\n",
              "    [theme=dark] .colab-df-convert {\n",
              "      background-color: #3B4455;\n",
              "      fill: #D2E3FC;\n",
              "    }\n",
              "\n",
              "    [theme=dark] .colab-df-convert:hover {\n",
              "      background-color: #434B5C;\n",
              "      box-shadow: 0px 1px 3px 1px rgba(0, 0, 0, 0.15);\n",
              "      filter: drop-shadow(0px 1px 2px rgba(0, 0, 0, 0.3));\n",
              "      fill: #FFFFFF;\n",
              "    }\n",
              "  </style>\n",
              "\n",
              "      <script>\n",
              "        const buttonEl =\n",
              "          document.querySelector('#df-3bd055cc-a07f-4a0a-ac2b-9c966add9b85 button.colab-df-convert');\n",
              "        buttonEl.style.display =\n",
              "          google.colab.kernel.accessAllowed ? 'block' : 'none';\n",
              "\n",
              "        async function convertToInteractive(key) {\n",
              "          const element = document.querySelector('#df-3bd055cc-a07f-4a0a-ac2b-9c966add9b85');\n",
              "          const dataTable =\n",
              "            await google.colab.kernel.invokeFunction('convertToInteractive',\n",
              "                                                     [key], {});\n",
              "          if (!dataTable) return;\n",
              "\n",
              "          const docLinkHtml = 'Like what you see? Visit the ' +\n",
              "            '<a target=\"_blank\" href=https://colab.research.google.com/notebooks/data_table.ipynb>data table notebook</a>'\n",
              "            + ' to learn more about interactive tables.';\n",
              "          element.innerHTML = '';\n",
              "          dataTable['output_type'] = 'display_data';\n",
              "          await google.colab.output.renderOutput(dataTable, element);\n",
              "          const docLink = document.createElement('div');\n",
              "          docLink.innerHTML = docLinkHtml;\n",
              "          element.appendChild(docLink);\n",
              "        }\n",
              "      </script>\n",
              "    </div>\n",
              "  </div>\n",
              "  "
            ]
          },
          "metadata": {},
          "execution_count": 105
        }
      ]
    },
    {
      "cell_type": "code",
      "source": [
        "identify_trends(df_bitcoin_dolar_pred)\n",
        "print(df_bitcoin_dolar_pred.isna().any())"
      ],
      "metadata": {
        "colab": {
          "base_uri": "https://localhost:8080/"
        },
        "id": "LXtd9zy8YItd",
        "outputId": "074ac868-09b1-47f1-827e-e6b7b84bad89"
      },
      "execution_count": 106,
      "outputs": [
        {
          "output_type": "stream",
          "name": "stdout",
          "text": [
            "Open                       False\n",
            "High                       False\n",
            "Low                        False\n",
            "Close                      False\n",
            "Adj Close                  False\n",
            "Volume                     False\n",
            "dolar_close                False\n",
            "dolar_open                 False\n",
            "dolar_high                 False\n",
            "dolar_low                  False\n",
            "dolar_volume               False\n",
            "dolar_variation            False\n",
            "sma30_bitcoin               True\n",
            "sma30_dolar                 True\n",
            "diff_bitcoin_dolar         False\n",
            "diff_perc_bitcoin_dolar    False\n",
            "dtype: bool\n"
          ]
        }
      ]
    },
    {
      "cell_type": "code",
      "source": [
        "#first_valid(df_bitcoin_dolar_pred)\n",
        "df_bitcoin_dolar_pred = df_bitcoin_dolar_pred.dropna()"
      ],
      "metadata": {
        "id": "D8QFc4gmYV3w"
      },
      "execution_count": 107,
      "outputs": []
    },
    {
      "cell_type": "code",
      "source": [
        "''' usando o modelo de aprendizado'''"
      ],
      "metadata": {
        "colab": {
          "base_uri": "https://localhost:8080/",
          "height": 35
        },
        "id": "kJFgaM5SZDZn",
        "outputId": "d7e88e9f-6c1f-4b3e-9368-767287277628"
      },
      "execution_count": 108,
      "outputs": [
        {
          "output_type": "execute_result",
          "data": {
            "text/plain": [
              "' usando o modelo de aprendizado'"
            ],
            "application/vnd.google.colaboratory.intrinsic+json": {
              "type": "string"
            }
          },
          "metadata": {},
          "execution_count": 108
        }
      ]
    },
    {
      "cell_type": "code",
      "source": [
        "X_pred = df_bitcoin_dolar_pred[['sma30_bitcoin', 'sma30_dolar', 'diff_bitcoin_dolar', 'diff_perc_bitcoin_dolar']]\n",
        "Y_pred = df_bitcoin_dolar_pred['Close']"
      ],
      "metadata": {
        "id": "ZfcD85YkZG96"
      },
      "execution_count": 109,
      "outputs": []
    },
    {
      "cell_type": "code",
      "source": [
        "future_pred = model_linear_regression.predict(X_pred)"
      ],
      "metadata": {
        "id": "AJMJvY_DZcjn"
      },
      "execution_count": 110,
      "outputs": []
    },
    {
      "cell_type": "code",
      "source": [
        "# future_indices = list(range(len(X) + 1, len(X) + 1 + len(X_pred)))\n",
        "\n",
        "# # Create trace for actual Bitcoin values\n",
        "# trace_actual = go.Scatter(\n",
        "#     x=list(range(len(X))),\n",
        "#     y=y,\n",
        "#     mode='lines',\n",
        "#     name='Actual Values'\n",
        "# )\n",
        "\n",
        "# # Create trace for future predictions\n",
        "# trace_predictions = go.Scatter(\n",
        "#     x=future_indices,\n",
        "#     y=future_pred,\n",
        "#     mode='lines',\n",
        "#     name='Future Predictions'\n",
        "# )\n",
        "\n",
        "# # Create data array for the plot\n",
        "# data = [trace_actual, trace_predictions]\n",
        "\n",
        "# # Create layout for the plot\n",
        "# layout = go.Layout(\n",
        "#     title='Future Predictions of Bitcoin Value',\n",
        "#     xaxis=dict(title='Period'),\n",
        "#     yaxis=dict(title='Bitcoin Value')\n",
        "# )\n",
        "\n",
        "# # Create figure object\n",
        "# fig = go.Figure(data=data, layout=layout)\n",
        "\n",
        "# # Show the plot\n",
        "# fig.show()\n",
        "\n",
        "# df_bitcoin_dolar_pred.to_csv('bitcon.csv', index=True)\n",
        "# myDf = pd.DataFrame(future_pred)\n",
        "# myDf.to_csv('futu.csv', index=True)"
      ],
      "metadata": {
        "id": "5PU1Sg5HaPCl"
      },
      "execution_count": 111,
      "outputs": []
    },
    {
      "cell_type": "code",
      "source": [
        "# Datas futuras\n",
        "from datetime import datetime, timedelta\n",
        "last_date = pd.to_datetime(X_pred.index[-1])  # Última data do seu conjunto de dados X\n",
        "future_dates = pd.date_range(start=last_date + timedelta(days=1), periods=180, freq='D')  # Datas futuras para 6 períodos (dias) com frequência diária\n",
        "\n",
        "# Previsões futuras do modelo\n",
        "#future_predictions = model.predict(X_new)  # Substitua X_new pelas suas novas amostras de entrada para previsão\n",
        "\n",
        "# Criar trace para previsões futuras\n",
        "trace_future_predictions = go.Scatter(\n",
        "    x=future_dates,\n",
        "    y=future_pred,\n",
        "    mode='lines',\n",
        "    name='Future Predictions'\n",
        ")\n",
        "\n",
        "# Criar trace para dados históricos\n",
        "trace_historical_data = go.Scatter(\n",
        "    x=X_pred.index,\n",
        "    y=Y_pred,\n",
        "    mode='lines',\n",
        "    name='Historical Data'\n",
        ")\n",
        "\n",
        "# Data array para o gráfico\n",
        "data = [trace_future_predictions]\n",
        "\n",
        "# Layout para o gráfico\n",
        "layout = go.Layout(\n",
        "    title='Bitcoin Future Predictions',\n",
        "    xaxis=dict(title='Date'),\n",
        "    yaxis=dict(title='Bitcoin Value')\n",
        ")\n",
        "\n",
        "# Criar figura\n",
        "fig = go.Figure(data=data, layout=layout)\n",
        "\n",
        "# Exibir o gráfico\n",
        "fig.show()\n",
        "print(X_pred.index[-1])"
      ],
      "metadata": {
        "id": "QtzVET1PeVzM",
        "outputId": "b8fc4625-41ee-4618-8e0a-7531ba1e20fc",
        "colab": {
          "base_uri": "https://localhost:8080/",
          "height": 559
        }
      },
      "execution_count": 112,
      "outputs": [
        {
          "output_type": "display_data",
          "data": {
            "text/html": [
              "<html>\n",
              "<head><meta charset=\"utf-8\" /></head>\n",
              "<body>\n",
              "    <div>            <script src=\"https://cdnjs.cloudflare.com/ajax/libs/mathjax/2.7.5/MathJax.js?config=TeX-AMS-MML_SVG\"></script><script type=\"text/javascript\">if (window.MathJax && window.MathJax.Hub && window.MathJax.Hub.Config) {window.MathJax.Hub.Config({SVG: {font: \"STIX-Web\"}});}</script>                <script type=\"text/javascript\">window.PlotlyConfig = {MathJaxConfig: 'local'};</script>\n",
              "        <script src=\"https://cdn.plot.ly/plotly-2.18.2.min.js\"></script>                <div id=\"e8968597-b5de-486e-bc13-52fd51db9b3a\" class=\"plotly-graph-div\" style=\"height:525px; width:100%;\"></div>            <script type=\"text/javascript\">                                    window.PLOTLYENV=window.PLOTLYENV || {};                                    if (document.getElementById(\"e8968597-b5de-486e-bc13-52fd51db9b3a\")) {                    Plotly.newPlot(                        \"e8968597-b5de-486e-bc13-52fd51db9b3a\",                        [{\"mode\":\"lines\",\"name\":\"Future Predictions\",\"x\":[\"2023-05-02T00:00:00\",\"2023-05-03T00:00:00\",\"2023-05-04T00:00:00\",\"2023-05-05T00:00:00\",\"2023-05-06T00:00:00\",\"2023-05-07T00:00:00\",\"2023-05-08T00:00:00\",\"2023-05-09T00:00:00\",\"2023-05-10T00:00:00\",\"2023-05-11T00:00:00\",\"2023-05-12T00:00:00\",\"2023-05-13T00:00:00\",\"2023-05-14T00:00:00\",\"2023-05-15T00:00:00\",\"2023-05-16T00:00:00\",\"2023-05-17T00:00:00\",\"2023-05-18T00:00:00\",\"2023-05-19T00:00:00\",\"2023-05-20T00:00:00\",\"2023-05-21T00:00:00\",\"2023-05-22T00:00:00\",\"2023-05-23T00:00:00\",\"2023-05-24T00:00:00\",\"2023-05-25T00:00:00\",\"2023-05-26T00:00:00\",\"2023-05-27T00:00:00\",\"2023-05-28T00:00:00\",\"2023-05-29T00:00:00\",\"2023-05-30T00:00:00\",\"2023-05-31T00:00:00\",\"2023-06-01T00:00:00\",\"2023-06-02T00:00:00\",\"2023-06-03T00:00:00\",\"2023-06-04T00:00:00\",\"2023-06-05T00:00:00\",\"2023-06-06T00:00:00\",\"2023-06-07T00:00:00\",\"2023-06-08T00:00:00\",\"2023-06-09T00:00:00\",\"2023-06-10T00:00:00\",\"2023-06-11T00:00:00\",\"2023-06-12T00:00:00\",\"2023-06-13T00:00:00\",\"2023-06-14T00:00:00\",\"2023-06-15T00:00:00\",\"2023-06-16T00:00:00\",\"2023-06-17T00:00:00\",\"2023-06-18T00:00:00\",\"2023-06-19T00:00:00\",\"2023-06-20T00:00:00\",\"2023-06-21T00:00:00\",\"2023-06-22T00:00:00\",\"2023-06-23T00:00:00\",\"2023-06-24T00:00:00\",\"2023-06-25T00:00:00\",\"2023-06-26T00:00:00\",\"2023-06-27T00:00:00\",\"2023-06-28T00:00:00\",\"2023-06-29T00:00:00\",\"2023-06-30T00:00:00\",\"2023-07-01T00:00:00\",\"2023-07-02T00:00:00\",\"2023-07-03T00:00:00\",\"2023-07-04T00:00:00\",\"2023-07-05T00:00:00\",\"2023-07-06T00:00:00\",\"2023-07-07T00:00:00\",\"2023-07-08T00:00:00\",\"2023-07-09T00:00:00\",\"2023-07-10T00:00:00\",\"2023-07-11T00:00:00\",\"2023-07-12T00:00:00\",\"2023-07-13T00:00:00\",\"2023-07-14T00:00:00\",\"2023-07-15T00:00:00\",\"2023-07-16T00:00:00\",\"2023-07-17T00:00:00\",\"2023-07-18T00:00:00\",\"2023-07-19T00:00:00\",\"2023-07-20T00:00:00\",\"2023-07-21T00:00:00\",\"2023-07-22T00:00:00\",\"2023-07-23T00:00:00\",\"2023-07-24T00:00:00\",\"2023-07-25T00:00:00\",\"2023-07-26T00:00:00\",\"2023-07-27T00:00:00\",\"2023-07-28T00:00:00\",\"2023-07-29T00:00:00\",\"2023-07-30T00:00:00\",\"2023-07-31T00:00:00\",\"2023-08-01T00:00:00\",\"2023-08-02T00:00:00\",\"2023-08-03T00:00:00\",\"2023-08-04T00:00:00\",\"2023-08-05T00:00:00\",\"2023-08-06T00:00:00\",\"2023-08-07T00:00:00\",\"2023-08-08T00:00:00\",\"2023-08-09T00:00:00\",\"2023-08-10T00:00:00\",\"2023-08-11T00:00:00\",\"2023-08-12T00:00:00\",\"2023-08-13T00:00:00\",\"2023-08-14T00:00:00\",\"2023-08-15T00:00:00\",\"2023-08-16T00:00:00\",\"2023-08-17T00:00:00\",\"2023-08-18T00:00:00\",\"2023-08-19T00:00:00\",\"2023-08-20T00:00:00\",\"2023-08-21T00:00:00\",\"2023-08-22T00:00:00\",\"2023-08-23T00:00:00\",\"2023-08-24T00:00:00\",\"2023-08-25T00:00:00\",\"2023-08-26T00:00:00\",\"2023-08-27T00:00:00\",\"2023-08-28T00:00:00\",\"2023-08-29T00:00:00\",\"2023-08-30T00:00:00\",\"2023-08-31T00:00:00\",\"2023-09-01T00:00:00\",\"2023-09-02T00:00:00\",\"2023-09-03T00:00:00\",\"2023-09-04T00:00:00\",\"2023-09-05T00:00:00\",\"2023-09-06T00:00:00\",\"2023-09-07T00:00:00\",\"2023-09-08T00:00:00\",\"2023-09-09T00:00:00\",\"2023-09-10T00:00:00\",\"2023-09-11T00:00:00\",\"2023-09-12T00:00:00\",\"2023-09-13T00:00:00\",\"2023-09-14T00:00:00\",\"2023-09-15T00:00:00\",\"2023-09-16T00:00:00\",\"2023-09-17T00:00:00\",\"2023-09-18T00:00:00\",\"2023-09-19T00:00:00\",\"2023-09-20T00:00:00\",\"2023-09-21T00:00:00\",\"2023-09-22T00:00:00\",\"2023-09-23T00:00:00\",\"2023-09-24T00:00:00\",\"2023-09-25T00:00:00\",\"2023-09-26T00:00:00\",\"2023-09-27T00:00:00\",\"2023-09-28T00:00:00\",\"2023-09-29T00:00:00\",\"2023-09-30T00:00:00\",\"2023-10-01T00:00:00\",\"2023-10-02T00:00:00\",\"2023-10-03T00:00:00\",\"2023-10-04T00:00:00\",\"2023-10-05T00:00:00\",\"2023-10-06T00:00:00\",\"2023-10-07T00:00:00\",\"2023-10-08T00:00:00\",\"2023-10-09T00:00:00\",\"2023-10-10T00:00:00\",\"2023-10-11T00:00:00\",\"2023-10-12T00:00:00\",\"2023-10-13T00:00:00\",\"2023-10-14T00:00:00\",\"2023-10-15T00:00:00\",\"2023-10-16T00:00:00\",\"2023-10-17T00:00:00\",\"2023-10-18T00:00:00\",\"2023-10-19T00:00:00\",\"2023-10-20T00:00:00\",\"2023-10-21T00:00:00\",\"2023-10-22T00:00:00\",\"2023-10-23T00:00:00\",\"2023-10-24T00:00:00\",\"2023-10-25T00:00:00\",\"2023-10-26T00:00:00\",\"2023-10-27T00:00:00\",\"2023-10-28T00:00:00\"],\"y\":[21651.20096822582,21808.149294905674,22220.826819103953,24307.84069687081,23623.472825129054,24565.625443363584,24829.169865090244,24436.374941386883,24188.87396271411,23947.531676552167,23198.127602830813,23522.87725655237,23147.341009095497,23646.570847804313,23475.47512226021,22362.692974178055,22429.795509636082,22219.78591170129,21718.12666252952,20363.06145067532,20187.252893209057,24197.5204918852,24746.058793019893,24375.929692302958,25052.794122927084,27423.907191429487,27767.236094601598,28175.812704830692,27307.43829132843,28333.94088080839,27493.28062968645,27139.910027444042,27268.168170492434,28348.48914826115,28033.629470649208,28478.562349001764,27790.299858634273,28168.161640544655,28178.07188547627,28044.216392538707,27925.934009385917,29653.040086684905,30235.137636252195,30139.164229992533,30399.167763753238,30485.802108957952,29445.138389074862,30397.61857655138,28822.7115692505,28246.03296388662,27276.956329075252,27525.388604371088,28307.63169939983,28422.73357692212,29473.839626515815,29340.306341012078,28091.615311353493],\"type\":\"scatter\"}],                        {\"title\":{\"text\":\"Bitcoin Future Predictions\"},\"xaxis\":{\"title\":{\"text\":\"Date\"}},\"yaxis\":{\"title\":{\"text\":\"Bitcoin Value\"}},\"template\":{\"data\":{\"histogram2dcontour\":[{\"type\":\"histogram2dcontour\",\"colorbar\":{\"outlinewidth\":0,\"ticks\":\"\"},\"colorscale\":[[0.0,\"#0d0887\"],[0.1111111111111111,\"#46039f\"],[0.2222222222222222,\"#7201a8\"],[0.3333333333333333,\"#9c179e\"],[0.4444444444444444,\"#bd3786\"],[0.5555555555555556,\"#d8576b\"],[0.6666666666666666,\"#ed7953\"],[0.7777777777777778,\"#fb9f3a\"],[0.8888888888888888,\"#fdca26\"],[1.0,\"#f0f921\"]]}],\"choropleth\":[{\"type\":\"choropleth\",\"colorbar\":{\"outlinewidth\":0,\"ticks\":\"\"}}],\"histogram2d\":[{\"type\":\"histogram2d\",\"colorbar\":{\"outlinewidth\":0,\"ticks\":\"\"},\"colorscale\":[[0.0,\"#0d0887\"],[0.1111111111111111,\"#46039f\"],[0.2222222222222222,\"#7201a8\"],[0.3333333333333333,\"#9c179e\"],[0.4444444444444444,\"#bd3786\"],[0.5555555555555556,\"#d8576b\"],[0.6666666666666666,\"#ed7953\"],[0.7777777777777778,\"#fb9f3a\"],[0.8888888888888888,\"#fdca26\"],[1.0,\"#f0f921\"]]}],\"heatmap\":[{\"type\":\"heatmap\",\"colorbar\":{\"outlinewidth\":0,\"ticks\":\"\"},\"colorscale\":[[0.0,\"#0d0887\"],[0.1111111111111111,\"#46039f\"],[0.2222222222222222,\"#7201a8\"],[0.3333333333333333,\"#9c179e\"],[0.4444444444444444,\"#bd3786\"],[0.5555555555555556,\"#d8576b\"],[0.6666666666666666,\"#ed7953\"],[0.7777777777777778,\"#fb9f3a\"],[0.8888888888888888,\"#fdca26\"],[1.0,\"#f0f921\"]]}],\"heatmapgl\":[{\"type\":\"heatmapgl\",\"colorbar\":{\"outlinewidth\":0,\"ticks\":\"\"},\"colorscale\":[[0.0,\"#0d0887\"],[0.1111111111111111,\"#46039f\"],[0.2222222222222222,\"#7201a8\"],[0.3333333333333333,\"#9c179e\"],[0.4444444444444444,\"#bd3786\"],[0.5555555555555556,\"#d8576b\"],[0.6666666666666666,\"#ed7953\"],[0.7777777777777778,\"#fb9f3a\"],[0.8888888888888888,\"#fdca26\"],[1.0,\"#f0f921\"]]}],\"contourcarpet\":[{\"type\":\"contourcarpet\",\"colorbar\":{\"outlinewidth\":0,\"ticks\":\"\"}}],\"contour\":[{\"type\":\"contour\",\"colorbar\":{\"outlinewidth\":0,\"ticks\":\"\"},\"colorscale\":[[0.0,\"#0d0887\"],[0.1111111111111111,\"#46039f\"],[0.2222222222222222,\"#7201a8\"],[0.3333333333333333,\"#9c179e\"],[0.4444444444444444,\"#bd3786\"],[0.5555555555555556,\"#d8576b\"],[0.6666666666666666,\"#ed7953\"],[0.7777777777777778,\"#fb9f3a\"],[0.8888888888888888,\"#fdca26\"],[1.0,\"#f0f921\"]]}],\"surface\":[{\"type\":\"surface\",\"colorbar\":{\"outlinewidth\":0,\"ticks\":\"\"},\"colorscale\":[[0.0,\"#0d0887\"],[0.1111111111111111,\"#46039f\"],[0.2222222222222222,\"#7201a8\"],[0.3333333333333333,\"#9c179e\"],[0.4444444444444444,\"#bd3786\"],[0.5555555555555556,\"#d8576b\"],[0.6666666666666666,\"#ed7953\"],[0.7777777777777778,\"#fb9f3a\"],[0.8888888888888888,\"#fdca26\"],[1.0,\"#f0f921\"]]}],\"mesh3d\":[{\"type\":\"mesh3d\",\"colorbar\":{\"outlinewidth\":0,\"ticks\":\"\"}}],\"scatter\":[{\"fillpattern\":{\"fillmode\":\"overlay\",\"size\":10,\"solidity\":0.2},\"type\":\"scatter\"}],\"parcoords\":[{\"type\":\"parcoords\",\"line\":{\"colorbar\":{\"outlinewidth\":0,\"ticks\":\"\"}}}],\"scatterpolargl\":[{\"type\":\"scatterpolargl\",\"marker\":{\"colorbar\":{\"outlinewidth\":0,\"ticks\":\"\"}}}],\"bar\":[{\"error_x\":{\"color\":\"#2a3f5f\"},\"error_y\":{\"color\":\"#2a3f5f\"},\"marker\":{\"line\":{\"color\":\"#E5ECF6\",\"width\":0.5},\"pattern\":{\"fillmode\":\"overlay\",\"size\":10,\"solidity\":0.2}},\"type\":\"bar\"}],\"scattergeo\":[{\"type\":\"scattergeo\",\"marker\":{\"colorbar\":{\"outlinewidth\":0,\"ticks\":\"\"}}}],\"scatterpolar\":[{\"type\":\"scatterpolar\",\"marker\":{\"colorbar\":{\"outlinewidth\":0,\"ticks\":\"\"}}}],\"histogram\":[{\"marker\":{\"pattern\":{\"fillmode\":\"overlay\",\"size\":10,\"solidity\":0.2}},\"type\":\"histogram\"}],\"scattergl\":[{\"type\":\"scattergl\",\"marker\":{\"colorbar\":{\"outlinewidth\":0,\"ticks\":\"\"}}}],\"scatter3d\":[{\"type\":\"scatter3d\",\"line\":{\"colorbar\":{\"outlinewidth\":0,\"ticks\":\"\"}},\"marker\":{\"colorbar\":{\"outlinewidth\":0,\"ticks\":\"\"}}}],\"scattermapbox\":[{\"type\":\"scattermapbox\",\"marker\":{\"colorbar\":{\"outlinewidth\":0,\"ticks\":\"\"}}}],\"scatterternary\":[{\"type\":\"scatterternary\",\"marker\":{\"colorbar\":{\"outlinewidth\":0,\"ticks\":\"\"}}}],\"scattercarpet\":[{\"type\":\"scattercarpet\",\"marker\":{\"colorbar\":{\"outlinewidth\":0,\"ticks\":\"\"}}}],\"carpet\":[{\"aaxis\":{\"endlinecolor\":\"#2a3f5f\",\"gridcolor\":\"white\",\"linecolor\":\"white\",\"minorgridcolor\":\"white\",\"startlinecolor\":\"#2a3f5f\"},\"baxis\":{\"endlinecolor\":\"#2a3f5f\",\"gridcolor\":\"white\",\"linecolor\":\"white\",\"minorgridcolor\":\"white\",\"startlinecolor\":\"#2a3f5f\"},\"type\":\"carpet\"}],\"table\":[{\"cells\":{\"fill\":{\"color\":\"#EBF0F8\"},\"line\":{\"color\":\"white\"}},\"header\":{\"fill\":{\"color\":\"#C8D4E3\"},\"line\":{\"color\":\"white\"}},\"type\":\"table\"}],\"barpolar\":[{\"marker\":{\"line\":{\"color\":\"#E5ECF6\",\"width\":0.5},\"pattern\":{\"fillmode\":\"overlay\",\"size\":10,\"solidity\":0.2}},\"type\":\"barpolar\"}],\"pie\":[{\"automargin\":true,\"type\":\"pie\"}]},\"layout\":{\"autotypenumbers\":\"strict\",\"colorway\":[\"#636efa\",\"#EF553B\",\"#00cc96\",\"#ab63fa\",\"#FFA15A\",\"#19d3f3\",\"#FF6692\",\"#B6E880\",\"#FF97FF\",\"#FECB52\"],\"font\":{\"color\":\"#2a3f5f\"},\"hovermode\":\"closest\",\"hoverlabel\":{\"align\":\"left\"},\"paper_bgcolor\":\"white\",\"plot_bgcolor\":\"#E5ECF6\",\"polar\":{\"bgcolor\":\"#E5ECF6\",\"angularaxis\":{\"gridcolor\":\"white\",\"linecolor\":\"white\",\"ticks\":\"\"},\"radialaxis\":{\"gridcolor\":\"white\",\"linecolor\":\"white\",\"ticks\":\"\"}},\"ternary\":{\"bgcolor\":\"#E5ECF6\",\"aaxis\":{\"gridcolor\":\"white\",\"linecolor\":\"white\",\"ticks\":\"\"},\"baxis\":{\"gridcolor\":\"white\",\"linecolor\":\"white\",\"ticks\":\"\"},\"caxis\":{\"gridcolor\":\"white\",\"linecolor\":\"white\",\"ticks\":\"\"}},\"coloraxis\":{\"colorbar\":{\"outlinewidth\":0,\"ticks\":\"\"}},\"colorscale\":{\"sequential\":[[0.0,\"#0d0887\"],[0.1111111111111111,\"#46039f\"],[0.2222222222222222,\"#7201a8\"],[0.3333333333333333,\"#9c179e\"],[0.4444444444444444,\"#bd3786\"],[0.5555555555555556,\"#d8576b\"],[0.6666666666666666,\"#ed7953\"],[0.7777777777777778,\"#fb9f3a\"],[0.8888888888888888,\"#fdca26\"],[1.0,\"#f0f921\"]],\"sequentialminus\":[[0.0,\"#0d0887\"],[0.1111111111111111,\"#46039f\"],[0.2222222222222222,\"#7201a8\"],[0.3333333333333333,\"#9c179e\"],[0.4444444444444444,\"#bd3786\"],[0.5555555555555556,\"#d8576b\"],[0.6666666666666666,\"#ed7953\"],[0.7777777777777778,\"#fb9f3a\"],[0.8888888888888888,\"#fdca26\"],[1.0,\"#f0f921\"]],\"diverging\":[[0,\"#8e0152\"],[0.1,\"#c51b7d\"],[0.2,\"#de77ae\"],[0.3,\"#f1b6da\"],[0.4,\"#fde0ef\"],[0.5,\"#f7f7f7\"],[0.6,\"#e6f5d0\"],[0.7,\"#b8e186\"],[0.8,\"#7fbc41\"],[0.9,\"#4d9221\"],[1,\"#276419\"]]},\"xaxis\":{\"gridcolor\":\"white\",\"linecolor\":\"white\",\"ticks\":\"\",\"title\":{\"standoff\":15},\"zerolinecolor\":\"white\",\"automargin\":true,\"zerolinewidth\":2},\"yaxis\":{\"gridcolor\":\"white\",\"linecolor\":\"white\",\"ticks\":\"\",\"title\":{\"standoff\":15},\"zerolinecolor\":\"white\",\"automargin\":true,\"zerolinewidth\":2},\"scene\":{\"xaxis\":{\"backgroundcolor\":\"#E5ECF6\",\"gridcolor\":\"white\",\"linecolor\":\"white\",\"showbackground\":true,\"ticks\":\"\",\"zerolinecolor\":\"white\",\"gridwidth\":2},\"yaxis\":{\"backgroundcolor\":\"#E5ECF6\",\"gridcolor\":\"white\",\"linecolor\":\"white\",\"showbackground\":true,\"ticks\":\"\",\"zerolinecolor\":\"white\",\"gridwidth\":2},\"zaxis\":{\"backgroundcolor\":\"#E5ECF6\",\"gridcolor\":\"white\",\"linecolor\":\"white\",\"showbackground\":true,\"ticks\":\"\",\"zerolinecolor\":\"white\",\"gridwidth\":2}},\"shapedefaults\":{\"line\":{\"color\":\"#2a3f5f\"}},\"annotationdefaults\":{\"arrowcolor\":\"#2a3f5f\",\"arrowhead\":0,\"arrowwidth\":1},\"geo\":{\"bgcolor\":\"white\",\"landcolor\":\"#E5ECF6\",\"subunitcolor\":\"white\",\"showland\":true,\"showlakes\":true,\"lakecolor\":\"white\"},\"title\":{\"x\":0.05},\"mapbox\":{\"style\":\"light\"}}}},                        {\"responsive\": true}                    ).then(function(){\n",
              "                            \n",
              "var gd = document.getElementById('e8968597-b5de-486e-bc13-52fd51db9b3a');\n",
              "var x = new MutationObserver(function (mutations, observer) {{\n",
              "        var display = window.getComputedStyle(gd).display;\n",
              "        if (!display || display === 'none') {{\n",
              "            console.log([gd, 'removed!']);\n",
              "            Plotly.purge(gd);\n",
              "            observer.disconnect();\n",
              "        }}\n",
              "}});\n",
              "\n",
              "// Listen for the removal of the full notebook cells\n",
              "var notebookContainer = gd.closest('#notebook-container');\n",
              "if (notebookContainer) {{\n",
              "    x.observe(notebookContainer, {childList: true});\n",
              "}}\n",
              "\n",
              "// Listen for the clearing of the current output cell\n",
              "var outputEl = gd.closest('.output');\n",
              "if (outputEl) {{\n",
              "    x.observe(outputEl, {childList: true});\n",
              "}}\n",
              "\n",
              "                        })                };                            </script>        </div>\n",
              "</body>\n",
              "</html>"
            ]
          },
          "metadata": {}
        },
        {
          "output_type": "stream",
          "name": "stdout",
          "text": [
            "2023-05-01 00:00:00\n"
          ]
        }
      ]
    },
    {
      "cell_type": "code",
      "source": [
        "data=[go.Candlestick(x=future_dates)]\n",
        "\n",
        "fig_future_bitcoin_dolar = go.Figure(data=[])"
      ],
      "metadata": {
        "id": "UnTXDaDMI5zl"
      },
      "execution_count": 113,
      "outputs": []
    }
  ]
}